{
 "cells": [
  {
   "cell_type": "markdown",
   "metadata": {},
   "source": [
    "# Содержание\n",
    "1. [Загрузка и подготовка данных](#1)\n",
    "2. [Обучение и проверка модели](#2) \n",
    "3. [Подготовка к расчёту прибыли](#3)\n",
    "4. [Расчёт прибыли и рисков](#4)\n",
    "5. [Общий вывод](#5)\n",
    "5. [Чек-лист готовности проекта](#5)"
   ]
  },
  {
   "cell_type": "markdown",
   "metadata": {},
   "source": [
    "# Выбор локации для скважины"
   ]
  },
  {
   "cell_type": "markdown",
   "metadata": {},
   "source": [
    "**Заказчик исследования** — добывающая компания «ГлавРосГосНефть».\n",
    "\n",
    "**Цель исследования** - выявить регион с наибольшей средней прибылью для бурения новой скважины.\n",
    "\n",
    "**Задачи**:\n",
    "\n",
    "- подготовить данные;\n",
    "- обучить и проверить модель для каждого региона;\n",
    "- подготовить данные для расчета прибыли;\n",
    "- посчитайть риски и прибыль для каждого региона.\n",
    "\n",
    "**Описание данных**\n",
    "\n",
    "Предоставлены данные о пробах нефти в трёх регионах: в каждом 10 000 месторождений, где измерено качество нефти и объём её запасов. \n",
    "\n",
    "Данные геологоразведки трёх регионов находятся в файлах: \n",
    "- /datasets/geo_data_0.csv\n",
    "- /datasets/geo_data_1.csv \n",
    "- /datasets/geo_data_2.csv\n",
    "\n",
    "В каждом файле:\n",
    "\n",
    "- id — уникальный идентификатор скважины;\n",
    "- f0, f1, f2 — три признака точек;\n",
    "- product — объём запасов в скважине (тыс. баррелей).\n"
   ]
  },
  {
   "cell_type": "markdown",
   "metadata": {},
   "source": [
    "## Загрузка и подготовка данных <a id=\"1\"></a>"
   ]
  },
  {
   "cell_type": "markdown",
   "metadata": {},
   "source": [
    "### Подключение необходимых библиотек."
   ]
  },
  {
   "cell_type": "code",
   "execution_count": 1,
   "metadata": {},
   "outputs": [],
   "source": [
    "import matplotlib.pyplot as plt\n",
    "import numpy as np\n",
    "import pandas as pd\n",
    "from sklearn.model_selection import train_test_split\n",
    "from sklearn.linear_model import LinearRegression\n",
    "from sklearn.metrics import mean_squared_error\n",
    "from sklearn.preprocessing import StandardScaler\n",
    "from sklearn.utils import shuffle\n",
    "import warnings\n",
    "warnings.filterwarnings('ignore')"
   ]
  },
  {
   "cell_type": "markdown",
   "metadata": {},
   "source": [
    "### Сохранение ключевых значений для расчётов."
   ]
  },
  {
   "cell_type": "markdown",
   "metadata": {},
   "source": [
    "При разведке региона исследуют 500 точек, из которых с помощью машинного обучения выбирают 200 лучших для разработки.\n",
    "Бюджет на разработку скважин в регионе — 10 млрд рублей.\n",
    "Один баррель сырья приносит 450 рублей дохода. Доход с каждой единицы продукта составляет 450 тыс. рублей, поскольку объём указан в тысячах баррелей.\n",
    "\n",
    "Сохраним ключевые значения для расчётов."
   ]
  },
  {
   "cell_type": "code",
   "execution_count": 2,
   "metadata": {},
   "outputs": [],
   "source": [
    "CHOSEN_LOCS = 500\n",
    "BEST_LOCS = 200\n",
    "BUDGET = 10e9 \n",
    "PRICE_PER_BARREL = 450000"
   ]
  },
  {
   "cell_type": "markdown",
   "metadata": {},
   "source": [
    "### Открытие и изучение данных."
   ]
  },
  {
   "cell_type": "code",
   "execution_count": 3,
   "metadata": {},
   "outputs": [],
   "source": [
    "server_path = '/datasets/'\n",
    "local_path = ''\n",
    "df_0 = 'geo_data_0.csv'\n",
    "df_1 = 'geo_data_1.csv'\n",
    "df_2 = 'geo_data_2.csv'\n",
    "\n",
    "try:\n",
    "    geo_data_0 = pd.read_csv(server_path + df_0)  \n",
    "    geo_data_1 = pd.read_csv(server_path + df_1)\n",
    "    geo_data_2 = pd.read_csv(server_path + df_2)\n",
    "except: \n",
    "    geo_data_0 = pd.read_csv(local_path + df_0)  \n",
    "    geo_data_1 = pd.read_csv(local_path + df_1)\n",
    "    geo_data_2 = pd.read_csv(local_path + df_2)"
   ]
  },
  {
   "cell_type": "code",
   "execution_count": 4,
   "metadata": {},
   "outputs": [
    {
     "name": "stdout",
     "output_type": "stream",
     "text": [
      "      id        f0        f1        f2     product\n",
      "0  txEyH  0.705745 -0.497823  1.221170  105.280062\n",
      "1  2acmU  1.334711 -0.340164  4.365080   73.037750\n",
      "2  409Wp  1.022732  0.151990  1.419926   85.265647\n",
      "      id         f0        f1        f2     product\n",
      "0  kBEdx -15.001348 -8.276000 -0.005876    3.179103\n",
      "1  62mP7  14.272088 -3.475083  0.999183   26.953261\n",
      "2  vyE1P   6.263187 -5.948386  5.001160  134.766305\n",
      "      id        f0        f1        f2    product\n",
      "0  fwXo0 -1.146987  0.963328 -0.828965  27.758673\n",
      "1  WJtFt  0.262778  0.269839 -2.530187  56.069697\n",
      "2  ovLUW  0.194587  0.289035 -5.586433  62.871910\n"
     ]
    }
   ],
   "source": [
    "print(geo_data_0.head(3))\n",
    "print(geo_data_1.head(3))\n",
    "print(geo_data_2.head(3))"
   ]
  },
  {
   "cell_type": "code",
   "execution_count": 5,
   "metadata": {},
   "outputs": [
    {
     "name": "stdout",
     "output_type": "stream",
     "text": [
      "<class 'pandas.core.frame.DataFrame'>\n",
      "RangeIndex: 100000 entries, 0 to 99999\n",
      "Data columns (total 5 columns):\n",
      " #   Column   Non-Null Count   Dtype  \n",
      "---  ------   --------------   -----  \n",
      " 0   id       100000 non-null  object \n",
      " 1   f0       100000 non-null  float64\n",
      " 2   f1       100000 non-null  float64\n",
      " 3   f2       100000 non-null  float64\n",
      " 4   product  100000 non-null  float64\n",
      "dtypes: float64(4), object(1)\n",
      "memory usage: 3.8+ MB\n"
     ]
    }
   ],
   "source": [
    "geo_data_0.info()"
   ]
  },
  {
   "cell_type": "code",
   "execution_count": 6,
   "metadata": {},
   "outputs": [
    {
     "name": "stdout",
     "output_type": "stream",
     "text": [
      "<class 'pandas.core.frame.DataFrame'>\n",
      "RangeIndex: 100000 entries, 0 to 99999\n",
      "Data columns (total 5 columns):\n",
      " #   Column   Non-Null Count   Dtype  \n",
      "---  ------   --------------   -----  \n",
      " 0   id       100000 non-null  object \n",
      " 1   f0       100000 non-null  float64\n",
      " 2   f1       100000 non-null  float64\n",
      " 3   f2       100000 non-null  float64\n",
      " 4   product  100000 non-null  float64\n",
      "dtypes: float64(4), object(1)\n",
      "memory usage: 3.8+ MB\n"
     ]
    }
   ],
   "source": [
    "geo_data_1.info()"
   ]
  },
  {
   "cell_type": "code",
   "execution_count": 7,
   "metadata": {},
   "outputs": [
    {
     "name": "stdout",
     "output_type": "stream",
     "text": [
      "<class 'pandas.core.frame.DataFrame'>\n",
      "RangeIndex: 100000 entries, 0 to 99999\n",
      "Data columns (total 5 columns):\n",
      " #   Column   Non-Null Count   Dtype  \n",
      "---  ------   --------------   -----  \n",
      " 0   id       100000 non-null  object \n",
      " 1   f0       100000 non-null  float64\n",
      " 2   f1       100000 non-null  float64\n",
      " 3   f2       100000 non-null  float64\n",
      " 4   product  100000 non-null  float64\n",
      "dtypes: float64(4), object(1)\n",
      "memory usage: 3.8+ MB\n"
     ]
    }
   ],
   "source": [
    "geo_data_2.info()"
   ]
  },
  {
   "cell_type": "markdown",
   "metadata": {},
   "source": [
    "Пропусков не выявлено. Проверим данные на наличие дубликатов."
   ]
  },
  {
   "cell_type": "code",
   "execution_count": 8,
   "metadata": {},
   "outputs": [],
   "source": [
    "def unique_check(data):\n",
    "    columns = data.columns\n",
    "    for c in columns:\n",
    "        print(c.upper(), '\\n', data[c].unique(), '\\n')"
   ]
  },
  {
   "cell_type": "code",
   "execution_count": 9,
   "metadata": {},
   "outputs": [
    {
     "data": {
      "text/plain": [
       "id          99996\n",
       "f0         100000\n",
       "f1         100000\n",
       "f2         100000\n",
       "product        12\n",
       "dtype: int64"
      ]
     },
     "execution_count": 9,
     "metadata": {},
     "output_type": "execute_result"
    }
   ],
   "source": [
    "#ячейка ревьюера\n",
    "geo_data_1.nunique()"
   ]
  },
  {
   "cell_type": "code",
   "execution_count": 10,
   "metadata": {},
   "outputs": [],
   "source": [
    "# geo_data_1['id'].value_counts()"
   ]
  },
  {
   "cell_type": "code",
   "execution_count": 11,
   "metadata": {},
   "outputs": [],
   "source": [
    "# geo_data_1.query('id == \"wt4Uk\"')"
   ]
  },
  {
   "cell_type": "code",
   "execution_count": 12,
   "metadata": {},
   "outputs": [
    {
     "name": "stdout",
     "output_type": "stream",
     "text": [
      "0\n",
      "0\n",
      "0\n"
     ]
    }
   ],
   "source": [
    "ddd = [geo_data_0, geo_data_1, geo_data_2]\n",
    "for d in ddd:\n",
    "    print(d.duplicated().sum())"
   ]
  },
  {
   "cell_type": "markdown",
   "metadata": {},
   "source": [
    "Проверим, есть ли выбросы, чтобы избежать аномалий."
   ]
  },
  {
   "cell_type": "code",
   "execution_count": 13,
   "metadata": {},
   "outputs": [
    {
     "name": "stdout",
     "output_type": "stream",
     "text": [
      "count    100000.000000\n",
      "mean         92.500000\n",
      "std          44.288691\n",
      "min           0.000000\n",
      "25%          56.497507\n",
      "50%          91.849972\n",
      "75%         128.564089\n",
      "max         185.364347\n",
      "Name: product, dtype: float64\n"
     ]
    },
    {
     "data": {
      "text/plain": [
       "<AxesSubplot:>"
      ]
     },
     "execution_count": 13,
     "metadata": {},
     "output_type": "execute_result"
    },
    {
     "data": {
      "image/png": "[encoded data removed]",
      "text/plain": [
       "<Figure size 504x720 with 1 Axes>"
      ]
     },
     "metadata": {
      "needs_background": "light"
     },
     "output_type": "display_data"
    }
   ],
   "source": [
    "print(geo_data_0['product'].describe())\n",
    "geo_data_0.boxplot('product', figsize = (7,10))"
   ]
  },
  {
   "cell_type": "code",
   "execution_count": 14,
   "metadata": {},
   "outputs": [
    {
     "name": "stdout",
     "output_type": "stream",
     "text": [
      "count    100000.000000\n",
      "mean         68.825000\n",
      "std          45.944423\n",
      "min           0.000000\n",
      "25%          26.953261\n",
      "50%          57.085625\n",
      "75%         107.813044\n",
      "max         137.945408\n",
      "Name: product, dtype: float64\n"
     ]
    },
    {
     "data": {
      "text/plain": [
       "<AxesSubplot:>"
      ]
     },
     "execution_count": 14,
     "metadata": {},
     "output_type": "execute_result"
    },
    {
     "data": {
      "image/png": "[encoded data removed]",
      "text/plain": [
       "<Figure size 504x720 with 1 Axes>"
      ]
     },
     "metadata": {
      "needs_background": "light"
     },
     "output_type": "display_data"
    }
   ],
   "source": [
    "print(geo_data_1['product'].describe())\n",
    "geo_data_1.boxplot('product', figsize = (7,10))"
   ]
  },
  {
   "cell_type": "code",
   "execution_count": 15,
   "metadata": {},
   "outputs": [
    {
     "name": "stdout",
     "output_type": "stream",
     "text": [
      "count    100000.000000\n",
      "mean         95.000000\n",
      "std          44.749921\n",
      "min           0.000000\n",
      "25%          59.450441\n",
      "50%          94.925613\n",
      "75%         130.595027\n",
      "max         190.029838\n",
      "Name: product, dtype: float64\n"
     ]
    },
    {
     "data": {
      "text/plain": [
       "<AxesSubplot:>"
      ]
     },
     "execution_count": 15,
     "metadata": {},
     "output_type": "execute_result"
    },
    {
     "data": {
      "image/png": "[encoded data removed]",
      "text/plain": [
       "<Figure size 504x720 with 1 Axes>"
      ]
     },
     "metadata": {
      "needs_background": "light"
     },
     "output_type": "display_data"
    }
   ],
   "source": [
    "print(geo_data_2['product'].describe())\n",
    "geo_data_2.boxplot('product', figsize = (7,10))"
   ]
  },
  {
   "cell_type": "code",
   "execution_count": 16,
   "metadata": {},
   "outputs": [],
   "source": [
    "def check_zeros(df, target_name):\n",
    "    zeros = df[df[target_name] == 0][target_name].count()\n",
    "    percent = zeros / df.shape[0]\n",
    "    print('Количество нулевых значений -', zeros)\n",
    "    print('Процент нулевых значений -', percent*100)"
   ]
  },
  {
   "cell_type": "code",
   "execution_count": 17,
   "metadata": {},
   "outputs": [
    {
     "name": "stdout",
     "output_type": "stream",
     "text": [
      "Количество нулевых значений - 1\n",
      "Процент нулевых значений - 0.001\n"
     ]
    }
   ],
   "source": [
    "check_zeros(geo_data_0, 'product')"
   ]
  },
  {
   "cell_type": "code",
   "execution_count": 18,
   "metadata": {},
   "outputs": [
    {
     "name": "stdout",
     "output_type": "stream",
     "text": [
      "Количество нулевых значений - 8235\n",
      "Процент нулевых значений - 8.235000000000001\n"
     ]
    }
   ],
   "source": [
    "check_zeros(geo_data_1, 'product')"
   ]
  },
  {
   "cell_type": "code",
   "execution_count": 19,
   "metadata": {},
   "outputs": [
    {
     "name": "stdout",
     "output_type": "stream",
     "text": [
      "Количество нулевых значений - 1\n",
      "Процент нулевых значений - 0.001\n"
     ]
    }
   ],
   "source": [
    "check_zeros(geo_data_2, 'product')"
   ]
  },
  {
   "cell_type": "markdown",
   "metadata": {},
   "source": [
    "Удалим из каждого датафрейма столбец id. Он не несет значимости для модели."
   ]
  },
  {
   "cell_type": "code",
   "execution_count": 20,
   "metadata": {},
   "outputs": [],
   "source": [
    "geo_data_0 = geo_data_0.drop(['id'], axis=1)\n",
    "geo_data_1 = geo_data_1.drop(['id'], axis=1)\n",
    "geo_data_2 = geo_data_2.drop(['id'], axis=1)"
   ]
  },
  {
   "cell_type": "markdown",
   "metadata": {},
   "source": [
    "### Вывод по шагу 1.\n",
    "\n",
    "Данные готовы к исследованию. Они не содержат пропусков, дубликатов и аномальных значений, распределены нормально. Были удалены признаки, не влияющие на работу модели. \n",
    "\n",
    "Во втором регионе 8% составляют данные со значением product = 0.0. Попробуем сначала обучить модель без изменения данных. \n"
   ]
  },
  {
   "cell_type": "markdown",
   "metadata": {},
   "source": [
    "## Обучение и проверка модели <a id=\"2\"></a>"
   ]
  },
  {
   "cell_type": "markdown",
   "metadata": {},
   "source": [
    "Создадим функцию для:\n",
    "- разделения данных на обучающую и валидационную выборки, \n",
    "- масштабирования признаков, \n",
    "- обучения модели, \n",
    "- подсчета rmse и среднего запаса сырья в скважинах.\n",
    "\n",
    "Данные будут разбиты в соотношении 75:25. Целевой признак - product (объём запасов в скважине)."
   ]
  },
  {
   "cell_type": "code",
   "execution_count": 21,
   "metadata": {},
   "outputs": [],
   "source": [
    "model = LinearRegression()\n",
    "\n",
    "def lr_predict(df, target):\n",
    "    features = df.drop([target] , axis=1)\n",
    "    target = df[target]\n",
    "    \n",
    "    features_train, features_valid, target_train, target_valid = train_test_split(\n",
    "    features, target, test_size=0.25, random_state=12345)\n",
    "    \n",
    "    numeric = ['f0', 'f1', 'f2']\n",
    "    \n",
    "    scaler = StandardScaler(with_mean=False)\n",
    "    features_train[numeric] = scaler.fit_transform(features_train[numeric])\n",
    "    features_valid[numeric] = scaler.transform(features_valid[numeric])\n",
    "    \n",
    "    model.fit(features_train, target_train)\n",
    "    predicted_target = model.predict(features_valid)\n",
    "    data = {'real_product' : target_valid,\n",
    "            'predicted_product' : predicted_target         \n",
    "    }\n",
    "    data = pd.DataFrame(data, columns = ['real_product', 'predicted_product'])\n",
    "    rmse = mean_squared_error(target_valid, predicted_target)**0.5\n",
    "    mean = data['predicted_product'].mean()\n",
    "    ssum = data['predicted_product'].sum()\n",
    "    return data, rmse, mean, ssum, target_train, target_valid"
   ]
  },
  {
   "cell_type": "markdown",
   "metadata": {},
   "source": [
    "Произведем вывод предсказанного запаса с реальным и выведем RMSE."
   ]
  },
  {
   "cell_type": "code",
   "execution_count": 22,
   "metadata": {},
   "outputs": [
    {
     "name": "stdout",
     "output_type": "stream",
     "text": [
      "       real_product  predicted_product\n",
      "71751     10.038645          95.894952\n",
      "80493    114.551489          77.572583\n",
      "2655     132.603635          77.892640\n",
      "53233    169.072125          90.175134\n",
      "91141    122.325180          70.510088\n",
      "RMSE - 37.5794217150813\n",
      "Средний запас сырья - 92.59256778438035\n",
      "Target shape: (75000,) (25000,)\n"
     ]
    }
   ],
   "source": [
    "geo_data_0_predicted, geo_data_0_rmse, geo_data_0_predicted_mean, geo_data_0_predicted_sum, geo_data_0_target_train, geo_data_0_target_valid  = lr_predict(geo_data_0, 'product')\n",
    "print(geo_data_0_predicted.head())\n",
    "print('RMSE -', geo_data_0_rmse)\n",
    "print('Средний запас сырья -', geo_data_0_predicted_mean)\n",
    "print('Target shape:',  geo_data_0_target_train.shape, geo_data_0_target_valid.shape)"
   ]
  },
  {
   "cell_type": "code",
   "execution_count": 23,
   "metadata": {},
   "outputs": [
    {
     "name": "stdout",
     "output_type": "stream",
     "text": [
      "       real_product  predicted_product\n",
      "71751     80.859783          82.663314\n",
      "80493     53.906522          54.431786\n",
      "2655      30.132364          29.748760\n",
      "53233     53.906522          53.552133\n",
      "91141      0.000000           1.243856\n",
      "RMSE - 0.893099286775617\n",
      "Средний запас сырья - 68.72854689544602\n",
      "Target shape: (75000,) (25000,)\n"
     ]
    }
   ],
   "source": [
    "geo_data_1_predicted, geo_data_1_rmse, geo_data_1_predicted_mean, geo_data_1_predicted_sum, geo_data_1_target_train, geo_data_1_target_valid  = lr_predict(geo_data_1, 'product')\n",
    "print(geo_data_1_predicted.head())\n",
    "print('RMSE -', geo_data_1_rmse)\n",
    "print('Средний запас сырья -', geo_data_1_predicted_mean)\n",
    "print('Target shape:',  geo_data_1_target_train.shape, geo_data_1_target_valid.shape)"
   ]
  },
  {
   "cell_type": "code",
   "execution_count": 24,
   "metadata": {},
   "outputs": [
    {
     "name": "stdout",
     "output_type": "stream",
     "text": [
      "       real_product  predicted_product\n",
      "71751     61.212375          93.599633\n",
      "80493     41.850118          75.105159\n",
      "2655      57.776581          90.066809\n",
      "53233    100.053761         105.162375\n",
      "91141    109.897122         115.303310\n",
      "RMSE - 40.02970873393434\n",
      "Средний запас сырья - 94.96504596800489\n",
      "Target shape: (75000,) (25000,)\n"
     ]
    }
   ],
   "source": [
    "geo_data_2_predicted, geo_data_2_rmse, geo_data_2_predicted_mean, geo_data_2_predicted_sum, geo_data_2_target_train, geo_data_2_target_valid  = lr_predict(geo_data_2, 'product')\n",
    "print(geo_data_2_predicted.head())\n",
    "print('RMSE -', geo_data_2_rmse)\n",
    "print('Средний запас сырья -', geo_data_2_predicted_mean)\n",
    "print('Target shape:',  geo_data_1_target_train.shape, geo_data_1_target_valid.shape)"
   ]
  },
  {
   "cell_type": "markdown",
   "metadata": {},
   "source": [
    "Скорее всего, утеряные данные из второго региона сказались на модели и она достаточно сильно переобучилась. Заменим нули в этом датафрейме медианным значением."
   ]
  },
  {
   "cell_type": "code",
   "execution_count": 25,
   "metadata": {},
   "outputs": [],
   "source": [
    "geo_data_1_1 = geo_data_1\n",
    "geo_data_1_1['product'] = geo_data_1_1['product'].replace(0, np.nan).bfill()\n",
    "m = geo_data_1_1['product'].median()\n",
    "geo_data_1_1['product']  = geo_data_1_1['product'].fillna(m)"
   ]
  },
  {
   "cell_type": "code",
   "execution_count": 26,
   "metadata": {},
   "outputs": [
    {
     "name": "stdout",
     "output_type": "stream",
     "text": [
      "       real_product  predicted_product\n",
      "71751     80.859783          85.536014\n",
      "80493     53.906522          66.976653\n",
      "2655      30.132364          39.508559\n",
      "53233     53.906522          69.504386\n",
      "91141     26.953261          23.419217\n",
      "RMSE - 21.40001920049716\n",
      "Средний запас сырья - 74.93151918159673\n"
     ]
    }
   ],
   "source": [
    "geo_data_1_1_predicted, geo_data_1_1_rmse, geo_data_1_1_predicted_mean, geo_data_1_1_predicted_sum, geo_data_1_1_target_train, geo_data_1_1_target_valid   = lr_predict(geo_data_1_1, 'product')\n",
    "print(geo_data_1_1_predicted.head())\n",
    "print('RMSE -', geo_data_1_1_rmse)\n",
    "print('Средний запас сырья -', geo_data_1_1_predicted_mean)"
   ]
  },
  {
   "cell_type": "code",
   "execution_count": 27,
   "metadata": {},
   "outputs": [
    {
     "name": "stdout",
     "output_type": "stream",
     "text": [
      "Суммарный предсказанный запас в позиции 0 - 2314814.194609509\n",
      "Суммарный реальный запас в позиции 0 - 2301964.918520732\n",
      "\n",
      "Суммарный предсказанный запас в позиции 1 - 1718213.6723861503\n",
      "Суммарный реальный запас в позиции 1 - 1718078.4006089992\n",
      "\n",
      "Суммарный предсказанный запас в позиции 2 - 2374126.1492001223\n",
      "Суммарный реальный запас в позиции 2 - 2372105.8202213594\n"
     ]
    }
   ],
   "source": [
    "print('Суммарный предсказанный запас в позиции 0 -', geo_data_0_predicted_sum)\n",
    "print('Суммарный реальный запас в позиции 0 -', geo_data_0_predicted['real_product'].sum())\n",
    "print()\n",
    "print('Суммарный предсказанный запас в позиции 1 -', geo_data_1_predicted_sum)\n",
    "print('Суммарный реальный запас в позиции 1 -', geo_data_1_predicted['real_product'].sum())\n",
    "print()\n",
    "print('Суммарный предсказанный запас в позиции 2 -', geo_data_2_predicted_sum)\n",
    "print('Суммарный реальный запас в позиции 2 -', geo_data_2_predicted['real_product'].sum())"
   ]
  },
  {
   "cell_type": "markdown",
   "metadata": {},
   "source": [
    "### Вывод по шагу 2.\n",
    "\n",
    "Данные предсказаний о количестве нефти по сумме примерно совпадают по сумме с предсказанными значениями. Лучше всего модель предсказала запасы во втором регионе (RMSE - 21.4), далее в первом и третьем соотвественно.\n"
   ]
  },
  {
   "cell_type": "markdown",
   "metadata": {},
   "source": [
    " <div class=\"alert alert-block alert-info\"> upd. RMSE = 0.893 </div>"
   ]
  },
  {
   "cell_type": "markdown",
   "metadata": {},
   "source": [
    "## Подготовка к расчёту прибыли <a id=\"3\"></a>"
   ]
  },
  {
   "cell_type": "markdown",
   "metadata": {},
   "source": [
    "Рассчитаем достаточный объём сырья для безубыточной разработки новой скважины. "
   ]
  },
  {
   "cell_type": "code",
   "execution_count": 28,
   "metadata": {},
   "outputs": [
    {
     "name": "stdout",
     "output_type": "stream",
     "text": [
      "Средняя прибыль на лучшую точку - 50000000.0 руб.\n",
      "Средний объем нефти на точку - 111.11111111111111 баррелей\n",
      "Средний объем нефти на регион - 22222.222222222223 баррелей\n"
     ]
    }
   ],
   "source": [
    "average_profit_per_point = BUDGET / BEST_LOCS\n",
    "print('Средняя прибыль на лучшую точку -', average_profit_per_point, 'руб.')\n",
    "\n",
    "average_barrels_per_point = average_profit_per_point  / PRICE_PER_BARREL\n",
    "print('Средний объем нефти на точку -',average_barrels_per_point, 'баррелей')\n",
    "\n",
    "average_barrels = BUDGET / PRICE_PER_BARREL\n",
    "print('Средний объем нефти на регион -',average_barrels, 'баррелей')"
   ]
  },
  {
   "cell_type": "code",
   "execution_count": 29,
   "metadata": {},
   "outputs": [
    {
     "name": "stdout",
     "output_type": "stream",
     "text": [
      "Средний запас фактичекой нефти на скважину в регионе 1 92.50000000000001\n",
      "Средний запас фактичекой нефти на скважину в регионе 2 74.99090954446737\n",
      "Средний запас фактичекой нефти на скважину в регионе 3 95.00000000000004\n"
     ]
    }
   ],
   "source": [
    "print('Средний запас фактичекой нефти на скважину в регионе 1', geo_data_0['product'].mean())\n",
    "print('Средний запас фактичекой нефти на скважину в регионе 2', geo_data_1['product'].mean())\n",
    "print('Средний запас фактичекой нефти на скважину в регионе 3', geo_data_2['product'].mean())"
   ]
  },
  {
   "cell_type": "markdown",
   "metadata": {},
   "source": [
    "Создадим функцию для расчета прибыли на 500 разведанных точек."
   ]
  },
  {
   "cell_type": "code",
   "execution_count": 30,
   "metadata": {},
   "outputs": [],
   "source": [
    "def revenue(target, probabilities, count):\n",
    "    probs_sorted = probabilities.sort_values(ascending=False)\n",
    "    selected = target[probs_sorted.index][:count]\n",
    "    return PRICE_PER_BARREL * selected.sum() - BUDGET"
   ]
  },
  {
   "cell_type": "markdown",
   "metadata": {},
   "source": [
    "### Вывод по шагу 3\n",
    "Была подготовлена средняя оценка прибыли за скважину и средний объем на скважину, создана функция по расчету прибыли.\n",
    "\n",
    "Изучены средние фактические запасы. Для первого и третьего - высокая вероятность окупить затраты. Разброс значений вокруг среднего 92.5 и 95 говорит нам о том, что существует достаточно много скважин, где запасы больше необходимого среднего.\n",
    "\n",
    "Во вторых данных значений больше 111 достаточно много, возможно, судить о прибыльности по среднему значению запасов во всем регионе рано."
   ]
  },
  {
   "cell_type": "markdown",
   "metadata": {},
   "source": [
    "## Расчёт прибыли и рисков <a id=\"4\"></a>"
   ]
  },
  {
   "cell_type": "code",
   "execution_count": 31,
   "metadata": {},
   "outputs": [],
   "source": [
    "state = np.random.RandomState(12345)\n",
    "def bs_1000(target, probs):\n",
    "    values=[]\n",
    "    lost = 0\n",
    "    for i in range(1000):\n",
    "        target_sample = target.sample(replace=True, random_state=state, n=CHOSEN_LOCS)\n",
    "        probs_sample = probs[target_sample.index]\n",
    "        rev = revenue(target, probs_sample, BEST_LOCS)\n",
    "        if rev < 0:\n",
    "            lost +=1\n",
    "        values.append(rev)\n",
    "    \n",
    "    values = pd.Series(values)\n",
    "    lower = values.quantile(0.025)\n",
    "    upper = values.quantile(0.975)\n",
    "    average = values.mean()\n",
    "    risk = lost / 1000\n",
    "    return average, lower, upper, risk"
   ]
  },
  {
   "cell_type": "code",
   "execution_count": 32,
   "metadata": {},
   "outputs": [
    {
     "name": "stdout",
     "output_type": "stream",
     "text": [
      "Данные по первому региону.\n",
      "Средняя прибыль по региону = 396164984.80 руб.\n",
      "95% доверительный интервал от -111215545.89 до 909766941.55 руб.\n",
      "Процент риска 6.90%\n"
     ]
    }
   ],
   "source": [
    "average_0, lower_0, upper_0, risk_0 = bs_1000(geo_data_0_predicted['real_product'], \n",
    "                                                     geo_data_0_predicted['predicted_product'])\n",
    "print('Данные по первому региону.')\n",
    "print('Средняя прибыль по региону = {:.2f} руб.'.format(average_0))\n",
    "print('95% доверительный интервал от {:.2f} до {:.2f} руб.'.format(lower_0, upper_0))\n",
    "print('Процент риска {:.2%}'.format(risk_0))"
   ]
  },
  {
   "cell_type": "code",
   "execution_count": 33,
   "metadata": {},
   "outputs": [
    {
     "name": "stdout",
     "output_type": "stream",
     "text": [
      "Данные по второму региону.\n",
      "Средняя прибыль по региону = 461155817.28 руб.\n",
      "95% доверительный интервал от 78050810.75 до 862952060.26 руб.\n",
      "Процент риска 0.70%\n"
     ]
    }
   ],
   "source": [
    "average_1, lower_1, upper_1, risk_1 = bs_1000(geo_data_1_predicted['real_product'], \n",
    "                                                     geo_data_1_predicted['predicted_product'])\n",
    "print('Данные по второму региону.')\n",
    "print('Средняя прибыль по региону = {:.2f} руб.'.format(average_1))\n",
    "print('95% доверительный интервал от {:.2f} до {:.2f} руб.'.format(lower_1, upper_1))\n",
    "print('Процент риска {:.2%}'.format(risk_1))"
   ]
  },
  {
   "cell_type": "code",
   "execution_count": 34,
   "metadata": {},
   "outputs": [
    {
     "name": "stdout",
     "output_type": "stream",
     "text": [
      "Данные по третьему региону.\n",
      "Средняя прибыль по региону = 392950475.17 руб.\n",
      "95% доверительный интервал от -112227625.38 до 934562914.55 руб.\n",
      "Процент риска 6.50%\n"
     ]
    }
   ],
   "source": [
    "average_2, lower_2, upper_2, risk_2 = bs_1000(geo_data_2_predicted['real_product'], \n",
    "                                                     geo_data_2_predicted['predicted_product'])\n",
    "print('Данные по третьему региону.')\n",
    "print('Средняя прибыль по региону = {:.2f} руб.'.format(average_2))\n",
    "print('95% доверительный интервал от {:.2f} до {:.2f} руб.'.format(lower_2, upper_2))\n",
    "print('Процент риска {:.2%}'.format(risk_2))"
   ]
  },
  {
   "cell_type": "markdown",
   "metadata": {},
   "source": [
    "### Вывод по шагу 4.\n",
    "\n",
    "Данные были обработаны и рассчитаны прибыль, интервал и риски.\n",
    "\n",
    "После оценки рисков нужно оставить лишь те регионы, в которых вероятность убытков меньше 2.5%. \n",
    "\n",
    "Мы отсеиваем первый и третий регион, так как риски достаточно велики. Остается второй регион, чей риск ниже порогового значения. Кроме того доверительный интервал показывает, что даже при не очень удачном выборе разработка скважин окупится."
   ]
  },
  {
   "cell_type": "markdown",
   "metadata": {},
   "source": [
    "## Общий вывод <a id=\"5\"></a>"
   ]
  },
  {
   "cell_type": "markdown",
   "metadata": {},
   "source": [
    "В ходе исследования данные были подготовлены для обучения модели, удалены столбцы, не имеющие значимость, нулевые значения заполнены медианным.\n",
    "\n",
    "Модель линейной регрессии обучена и применена для каждого региона geo_data_0, geo_data_1 и geo_data_2. \n",
    "\n",
    "С процентом риска, равным 1.3% определён регион, где добыча принесёт наибольшую прибыль - geo_data_1 (предполагаемая средняя прибыль по региону = 418 миллионов рублей).  В двух других регионах вероятность убытков больше 6%, их не стоит рассматривать в качестве потенциальных мест бурения новых скважин."
   ]
  },
  {
   "cell_type": "markdown",
   "metadata": {},
   "source": [
    "<div class=\"alert alert-block alert-info\">upd. процент риска 0.7%, прибыль 461 млн. р.</div>"
   ]
  },
  {
   "cell_type": "code",
   "execution_count": null,
   "metadata": {},
   "outputs": [],
   "source": []
  }
 ],
 "metadata": {
  "ExecuteTimeLog": [
   {
    "duration": 1577,
    "start_time": "2023-02-06T23:52:49.324Z"
   },
   {
    "duration": 472,
    "start_time": "2023-02-06T23:54:05.503Z"
   },
   {
    "duration": 684,
    "start_time": "2023-02-06T23:54:06.457Z"
   },
   {
    "duration": 686,
    "start_time": "2023-02-06T23:54:07.289Z"
   },
   {
    "duration": 14,
    "start_time": "2023-02-06T23:55:40.749Z"
   },
   {
    "duration": 3,
    "start_time": "2023-02-06T23:56:12.917Z"
   },
   {
    "duration": 82,
    "start_time": "2023-02-06T23:56:59.036Z"
   },
   {
    "duration": 100,
    "start_time": "2023-02-06T23:57:35.814Z"
   },
   {
    "duration": 77,
    "start_time": "2023-02-06T23:57:41.554Z"
   },
   {
    "duration": 70,
    "start_time": "2023-02-06T23:57:46.845Z"
   },
   {
    "duration": 69,
    "start_time": "2023-02-06T23:57:51.028Z"
   },
   {
    "duration": 80,
    "start_time": "2023-02-06T23:58:05.852Z"
   },
   {
    "duration": 89,
    "start_time": "2023-02-06T23:58:30.186Z"
   },
   {
    "duration": 79,
    "start_time": "2023-02-06T23:58:35.747Z"
   },
   {
    "duration": 79,
    "start_time": "2023-02-06T23:58:41.318Z"
   },
   {
    "duration": 89,
    "start_time": "2023-02-06T23:58:55.370Z"
   },
   {
    "duration": 94,
    "start_time": "2023-02-06T23:59:14.391Z"
   },
   {
    "duration": 84,
    "start_time": "2023-02-06T23:59:40.470Z"
   },
   {
    "duration": 380,
    "start_time": "2023-02-07T00:08:36.827Z"
   },
   {
    "duration": 13,
    "start_time": "2023-02-07T00:08:48.071Z"
   },
   {
    "duration": 4,
    "start_time": "2023-02-07T00:10:54.852Z"
   },
   {
    "duration": 123,
    "start_time": "2023-02-07T00:10:57.234Z"
   },
   {
    "duration": 97,
    "start_time": "2023-02-07T00:12:04.309Z"
   },
   {
    "duration": 31,
    "start_time": "2023-02-07T00:12:54.977Z"
   },
   {
    "duration": 36,
    "start_time": "2023-02-07T00:13:05.089Z"
   },
   {
    "duration": 32,
    "start_time": "2023-02-07T00:13:11.948Z"
   },
   {
    "duration": 35,
    "start_time": "2023-02-07T00:13:20.867Z"
   },
   {
    "duration": 10,
    "start_time": "2023-02-07T00:15:11.646Z"
   },
   {
    "duration": 126,
    "start_time": "2023-02-07T00:15:21.857Z"
   },
   {
    "duration": 11,
    "start_time": "2023-02-07T00:23:32.078Z"
   },
   {
    "duration": 4,
    "start_time": "2023-02-07T00:26:14.084Z"
   },
   {
    "duration": 4,
    "start_time": "2023-02-07T00:32:22.980Z"
   },
   {
    "duration": 25,
    "start_time": "2023-02-07T00:33:26.225Z"
   },
   {
    "duration": 4,
    "start_time": "2023-02-07T00:34:44.776Z"
   },
   {
    "duration": 39,
    "start_time": "2023-02-07T00:34:45.633Z"
   },
   {
    "duration": 4,
    "start_time": "2023-02-07T00:37:04.781Z"
   },
   {
    "duration": 31,
    "start_time": "2023-02-07T00:37:05.714Z"
   },
   {
    "duration": 23,
    "start_time": "2023-02-07T00:37:25.524Z"
   },
   {
    "duration": 14,
    "start_time": "2023-02-07T00:47:09.974Z"
   },
   {
    "duration": 3,
    "start_time": "2023-02-07T00:48:16.320Z"
   },
   {
    "duration": 26,
    "start_time": "2023-02-07T00:48:18.098Z"
   },
   {
    "duration": 5,
    "start_time": "2023-02-07T00:49:31.431Z"
   },
   {
    "duration": 29,
    "start_time": "2023-02-07T00:49:34.287Z"
   },
   {
    "duration": 6,
    "start_time": "2023-02-07T01:10:08.354Z"
   },
   {
    "duration": 13,
    "start_time": "2023-02-07T01:11:06.154Z"
   },
   {
    "duration": 5,
    "start_time": "2023-02-07T01:11:57.892Z"
   },
   {
    "duration": 131,
    "start_time": "2023-02-07T01:11:58.708Z"
   },
   {
    "duration": 94,
    "start_time": "2023-02-07T01:14:45.053Z"
   },
   {
    "duration": 33,
    "start_time": "2023-02-07T01:14:48.476Z"
   },
   {
    "duration": 6,
    "start_time": "2023-02-07T01:16:06.584Z"
   },
   {
    "duration": 3,
    "start_time": "2023-02-07T01:39:46.543Z"
   },
   {
    "duration": 11,
    "start_time": "2023-02-07T01:40:31.723Z"
   },
   {
    "duration": 7,
    "start_time": "2023-02-07T01:41:30.999Z"
   },
   {
    "duration": 3,
    "start_time": "2023-02-07T01:43:05.880Z"
   },
   {
    "duration": 5,
    "start_time": "2023-02-07T01:50:17.264Z"
   },
   {
    "duration": 3,
    "start_time": "2023-02-07T01:50:20.906Z"
   },
   {
    "duration": 5,
    "start_time": "2023-02-07T01:50:23.204Z"
   },
   {
    "duration": 13,
    "start_time": "2023-02-07T01:51:52.187Z"
   },
   {
    "duration": 5,
    "start_time": "2023-02-07T01:52:28.253Z"
   },
   {
    "duration": 864,
    "start_time": "2023-02-07T01:52:29.213Z"
   },
   {
    "duration": 848,
    "start_time": "2023-02-07T01:54:24.377Z"
   },
   {
    "duration": 863,
    "start_time": "2023-02-07T01:54:26.402Z"
   },
   {
    "duration": 4,
    "start_time": "2023-02-07T01:58:57.093Z"
   },
   {
    "duration": 835,
    "start_time": "2023-02-07T01:58:58.026Z"
   },
   {
    "duration": 828,
    "start_time": "2023-02-07T01:59:00.280Z"
   },
   {
    "duration": 831,
    "start_time": "2023-02-07T01:59:02.283Z"
   },
   {
    "duration": 186,
    "start_time": "2023-02-07T02:26:04.421Z"
   },
   {
    "duration": 178,
    "start_time": "2023-02-07T02:26:50.565Z"
   },
   {
    "duration": 170,
    "start_time": "2023-02-07T02:28:23.916Z"
   },
   {
    "duration": 204,
    "start_time": "2023-02-07T02:29:42.201Z"
   },
   {
    "duration": 194,
    "start_time": "2023-02-07T02:30:18.553Z"
   },
   {
    "duration": 255,
    "start_time": "2023-02-07T02:30:53.488Z"
   },
   {
    "duration": 10,
    "start_time": "2023-02-07T02:33:42.801Z"
   },
   {
    "duration": 3,
    "start_time": "2023-02-07T02:33:46.885Z"
   },
   {
    "duration": 6,
    "start_time": "2023-02-07T02:33:48.511Z"
   },
   {
    "duration": 5,
    "start_time": "2023-02-07T02:34:05.421Z"
   },
   {
    "duration": 4,
    "start_time": "2023-02-07T02:34:06.074Z"
   },
   {
    "duration": 16,
    "start_time": "2023-02-07T02:37:45.705Z"
   },
   {
    "duration": 7,
    "start_time": "2023-02-07T02:54:14.270Z"
   },
   {
    "duration": 40,
    "start_time": "2023-02-07T02:55:14.160Z"
   },
   {
    "duration": 19,
    "start_time": "2023-02-07T03:01:39.856Z"
   },
   {
    "duration": 14,
    "start_time": "2023-02-07T03:02:10.141Z"
   },
   {
    "duration": 20,
    "start_time": "2023-02-07T03:02:20.917Z"
   },
   {
    "duration": 15,
    "start_time": "2023-02-07T03:02:49.039Z"
   },
   {
    "duration": 12,
    "start_time": "2023-02-07T03:03:00.309Z"
   },
   {
    "duration": 82,
    "start_time": "2023-02-07T03:04:53.692Z"
   },
   {
    "duration": 21,
    "start_time": "2023-02-07T03:05:03.813Z"
   },
   {
    "duration": 26,
    "start_time": "2023-02-07T03:05:14.944Z"
   },
   {
    "duration": 6,
    "start_time": "2023-02-07T03:06:51.225Z"
   },
   {
    "duration": 22,
    "start_time": "2023-02-07T03:08:16.289Z"
   },
   {
    "duration": 12,
    "start_time": "2023-02-07T03:11:27.019Z"
   },
   {
    "duration": 12,
    "start_time": "2023-02-07T03:12:13.706Z"
   },
   {
    "duration": 78,
    "start_time": "2023-02-07T03:12:16.790Z"
   },
   {
    "duration": 9,
    "start_time": "2023-02-07T03:14:42.207Z"
   },
   {
    "duration": 20,
    "start_time": "2023-02-07T03:14:59.391Z"
   },
   {
    "duration": 1402,
    "start_time": "2023-02-07T03:15:42.854Z"
   },
   {
    "duration": 413,
    "start_time": "2023-02-07T03:15:44.258Z"
   },
   {
    "duration": 12,
    "start_time": "2023-02-07T03:15:44.673Z"
   },
   {
    "duration": 18,
    "start_time": "2023-02-07T03:15:44.687Z"
   },
   {
    "duration": 41,
    "start_time": "2023-02-07T03:15:44.707Z"
   },
   {
    "duration": 18,
    "start_time": "2023-02-07T03:15:44.750Z"
   },
   {
    "duration": 3,
    "start_time": "2023-02-07T03:15:44.769Z"
   },
   {
    "duration": 35,
    "start_time": "2023-02-07T03:15:44.774Z"
   },
   {
    "duration": 48,
    "start_time": "2023-02-07T03:15:44.811Z"
   },
   {
    "duration": 36,
    "start_time": "2023-02-07T03:15:44.861Z"
   },
   {
    "duration": 176,
    "start_time": "2023-02-07T03:15:44.898Z"
   },
   {
    "duration": 280,
    "start_time": "2023-02-07T03:15:45.075Z"
   },
   {
    "duration": 207,
    "start_time": "2023-02-07T03:15:45.357Z"
   },
   {
    "duration": 219,
    "start_time": "2023-02-07T03:15:45.572Z"
   },
   {
    "duration": 3,
    "start_time": "2023-02-07T03:15:45.793Z"
   },
   {
    "duration": 21,
    "start_time": "2023-02-07T03:15:45.798Z"
   },
   {
    "duration": 6,
    "start_time": "2023-02-07T03:15:45.820Z"
   },
   {
    "duration": 23,
    "start_time": "2023-02-07T03:15:45.834Z"
   },
   {
    "duration": 16,
    "start_time": "2023-02-07T03:15:45.860Z"
   },
   {
    "duration": 8,
    "start_time": "2023-02-07T03:15:45.877Z"
   },
   {
    "duration": 63,
    "start_time": "2023-02-07T03:15:45.886Z"
   },
   {
    "duration": 277,
    "start_time": "2023-02-07T03:15:45.952Z"
   },
   {
    "duration": 134,
    "start_time": "2023-02-07T03:15:46.240Z"
   },
   {
    "duration": 19,
    "start_time": "2023-02-07T03:15:46.428Z"
   },
   {
    "duration": 246,
    "start_time": "2023-02-07T03:15:46.453Z"
   },
   {
    "duration": 0,
    "start_time": "2023-02-07T03:15:46.700Z"
   },
   {
    "duration": 0,
    "start_time": "2023-02-07T03:15:46.701Z"
   },
   {
    "duration": 0,
    "start_time": "2023-02-07T03:15:46.702Z"
   },
   {
    "duration": 0,
    "start_time": "2023-02-07T03:15:46.703Z"
   },
   {
    "duration": 0,
    "start_time": "2023-02-07T03:15:46.704Z"
   },
   {
    "duration": 0,
    "start_time": "2023-02-07T03:15:46.705Z"
   },
   {
    "duration": 0,
    "start_time": "2023-02-07T03:15:46.706Z"
   },
   {
    "duration": 0,
    "start_time": "2023-02-07T03:15:46.707Z"
   },
   {
    "duration": 0,
    "start_time": "2023-02-07T03:15:46.709Z"
   },
   {
    "duration": 5,
    "start_time": "2023-02-07T03:17:01.397Z"
   },
   {
    "duration": 1329,
    "start_time": "2023-02-07T03:17:23.294Z"
   },
   {
    "duration": 441,
    "start_time": "2023-02-07T03:17:24.625Z"
   },
   {
    "duration": 14,
    "start_time": "2023-02-07T03:17:25.069Z"
   },
   {
    "duration": 16,
    "start_time": "2023-02-07T03:17:25.085Z"
   },
   {
    "duration": 39,
    "start_time": "2023-02-07T03:17:25.102Z"
   },
   {
    "duration": 17,
    "start_time": "2023-02-07T03:17:25.144Z"
   },
   {
    "duration": 7,
    "start_time": "2023-02-07T03:17:25.164Z"
   },
   {
    "duration": 50,
    "start_time": "2023-02-07T03:17:25.173Z"
   },
   {
    "duration": 36,
    "start_time": "2023-02-07T03:17:25.225Z"
   },
   {
    "duration": 39,
    "start_time": "2023-02-07T03:17:25.268Z"
   },
   {
    "duration": 160,
    "start_time": "2023-02-07T03:17:25.309Z"
   },
   {
    "duration": 228,
    "start_time": "2023-02-07T03:17:25.471Z"
   },
   {
    "duration": 208,
    "start_time": "2023-02-07T03:17:25.701Z"
   },
   {
    "duration": 227,
    "start_time": "2023-02-07T03:17:25.912Z"
   },
   {
    "duration": 5,
    "start_time": "2023-02-07T03:17:26.140Z"
   },
   {
    "duration": 29,
    "start_time": "2023-02-07T03:17:26.146Z"
   },
   {
    "duration": 8,
    "start_time": "2023-02-07T03:17:26.177Z"
   },
   {
    "duration": 6,
    "start_time": "2023-02-07T03:17:26.187Z"
   },
   {
    "duration": 12,
    "start_time": "2023-02-07T03:17:26.195Z"
   },
   {
    "duration": 7,
    "start_time": "2023-02-07T03:17:26.208Z"
   },
   {
    "duration": 55,
    "start_time": "2023-02-07T03:17:26.216Z"
   },
   {
    "duration": 131,
    "start_time": "2023-02-07T03:17:26.331Z"
   },
   {
    "duration": 208,
    "start_time": "2023-02-07T03:17:26.464Z"
   },
   {
    "duration": 102,
    "start_time": "2023-02-07T03:17:26.728Z"
   },
   {
    "duration": 98,
    "start_time": "2023-02-07T03:17:26.837Z"
   },
   {
    "duration": 15,
    "start_time": "2023-02-07T03:17:26.940Z"
   },
   {
    "duration": 109,
    "start_time": "2023-02-07T03:17:26.957Z"
   },
   {
    "duration": 5,
    "start_time": "2023-02-07T03:17:27.069Z"
   },
   {
    "duration": 7,
    "start_time": "2023-02-07T03:17:27.076Z"
   },
   {
    "duration": 3,
    "start_time": "2023-02-07T03:17:27.085Z"
   },
   {
    "duration": 16,
    "start_time": "2023-02-07T03:17:27.090Z"
   },
   {
    "duration": 1050,
    "start_time": "2023-02-07T03:17:27.108Z"
   },
   {
    "duration": 936,
    "start_time": "2023-02-07T03:17:28.161Z"
   },
   {
    "duration": 888,
    "start_time": "2023-02-07T03:17:29.099Z"
   },
   {
    "duration": 76,
    "start_time": "2023-02-07T03:23:25.138Z"
   },
   {
    "duration": 1307,
    "start_time": "2023-02-07T03:44:21.912Z"
   },
   {
    "duration": 361,
    "start_time": "2023-02-07T03:44:23.220Z"
   },
   {
    "duration": 11,
    "start_time": "2023-02-07T03:44:23.583Z"
   },
   {
    "duration": 13,
    "start_time": "2023-02-07T03:44:23.597Z"
   },
   {
    "duration": 34,
    "start_time": "2023-02-07T03:44:23.612Z"
   },
   {
    "duration": 18,
    "start_time": "2023-02-07T03:44:23.648Z"
   },
   {
    "duration": 3,
    "start_time": "2023-02-07T03:44:23.668Z"
   },
   {
    "duration": 56,
    "start_time": "2023-02-07T03:44:23.673Z"
   },
   {
    "duration": 35,
    "start_time": "2023-02-07T03:44:23.731Z"
   },
   {
    "duration": 30,
    "start_time": "2023-02-07T03:44:23.770Z"
   },
   {
    "duration": 158,
    "start_time": "2023-02-07T03:44:23.801Z"
   },
   {
    "duration": 214,
    "start_time": "2023-02-07T03:44:23.961Z"
   },
   {
    "duration": 196,
    "start_time": "2023-02-07T03:44:24.177Z"
   },
   {
    "duration": 205,
    "start_time": "2023-02-07T03:44:24.375Z"
   },
   {
    "duration": 3,
    "start_time": "2023-02-07T03:44:24.582Z"
   },
   {
    "duration": 9,
    "start_time": "2023-02-07T03:44:24.587Z"
   },
   {
    "duration": 8,
    "start_time": "2023-02-07T03:44:24.597Z"
   },
   {
    "duration": 22,
    "start_time": "2023-02-07T03:44:24.606Z"
   },
   {
    "duration": 13,
    "start_time": "2023-02-07T03:44:24.630Z"
   },
   {
    "duration": 12,
    "start_time": "2023-02-07T03:44:24.648Z"
   },
   {
    "duration": 77,
    "start_time": "2023-02-07T03:44:24.662Z"
   },
   {
    "duration": 189,
    "start_time": "2023-02-07T03:44:24.744Z"
   },
   {
    "duration": 201,
    "start_time": "2023-02-07T03:44:24.935Z"
   },
   {
    "duration": 90,
    "start_time": "2023-02-07T03:44:25.138Z"
   },
   {
    "duration": 117,
    "start_time": "2023-02-07T03:44:25.230Z"
   },
   {
    "duration": 77,
    "start_time": "2023-02-07T03:44:25.353Z"
   },
   {
    "duration": 10,
    "start_time": "2023-02-07T03:44:25.439Z"
   },
   {
    "duration": 10,
    "start_time": "2023-02-07T03:44:25.453Z"
   },
   {
    "duration": 10,
    "start_time": "2023-02-07T03:44:25.464Z"
   },
   {
    "duration": 3,
    "start_time": "2023-02-07T03:44:25.476Z"
   },
   {
    "duration": 7,
    "start_time": "2023-02-07T03:44:25.480Z"
   },
   {
    "duration": 928,
    "start_time": "2023-02-07T03:44:25.488Z"
   },
   {
    "duration": 894,
    "start_time": "2023-02-07T03:44:26.418Z"
   },
   {
    "duration": 901,
    "start_time": "2023-02-07T03:44:27.314Z"
   },
   {
    "duration": 1161,
    "start_time": "2023-02-07T08:20:24.715Z"
   },
   {
    "duration": 366,
    "start_time": "2023-02-07T08:20:25.878Z"
   },
   {
    "duration": 22,
    "start_time": "2023-02-07T08:20:26.246Z"
   },
   {
    "duration": 14,
    "start_time": "2023-02-07T08:20:26.270Z"
   },
   {
    "duration": 13,
    "start_time": "2023-02-07T08:20:26.286Z"
   },
   {
    "duration": 14,
    "start_time": "2023-02-07T08:20:26.300Z"
   },
   {
    "duration": 2,
    "start_time": "2023-02-07T08:20:26.316Z"
   },
   {
    "duration": 64,
    "start_time": "2023-02-07T08:20:26.320Z"
   },
   {
    "duration": 28,
    "start_time": "2023-02-07T08:20:26.386Z"
   },
   {
    "duration": 52,
    "start_time": "2023-02-07T08:20:26.417Z"
   },
   {
    "duration": 138,
    "start_time": "2023-02-07T08:20:26.471Z"
   },
   {
    "duration": 253,
    "start_time": "2023-02-07T08:20:26.610Z"
   },
   {
    "duration": 252,
    "start_time": "2023-02-07T08:20:26.865Z"
   },
   {
    "duration": 212,
    "start_time": "2023-02-07T08:20:27.119Z"
   },
   {
    "duration": 3,
    "start_time": "2023-02-07T08:20:27.333Z"
   },
   {
    "duration": 8,
    "start_time": "2023-02-07T08:20:27.338Z"
   },
   {
    "duration": 19,
    "start_time": "2023-02-07T08:20:27.348Z"
   },
   {
    "duration": 4,
    "start_time": "2023-02-07T08:20:27.369Z"
   },
   {
    "duration": 13,
    "start_time": "2023-02-07T08:20:27.375Z"
   },
   {
    "duration": 9,
    "start_time": "2023-02-07T08:20:27.390Z"
   },
   {
    "duration": 70,
    "start_time": "2023-02-07T08:20:27.400Z"
   },
   {
    "duration": 204,
    "start_time": "2023-02-07T08:20:27.474Z"
   },
   {
    "duration": 188,
    "start_time": "2023-02-07T08:20:27.680Z"
   },
   {
    "duration": 97,
    "start_time": "2023-02-07T08:20:27.870Z"
   },
   {
    "duration": 99,
    "start_time": "2023-02-07T08:20:27.969Z"
   },
   {
    "duration": 97,
    "start_time": "2023-02-07T08:20:28.070Z"
   },
   {
    "duration": 2,
    "start_time": "2023-02-07T08:20:28.169Z"
   },
   {
    "duration": 11,
    "start_time": "2023-02-07T08:20:28.174Z"
   },
   {
    "duration": 11,
    "start_time": "2023-02-07T08:20:28.187Z"
   },
   {
    "duration": 4,
    "start_time": "2023-02-07T08:20:28.199Z"
   },
   {
    "duration": 10,
    "start_time": "2023-02-07T08:20:28.205Z"
   },
   {
    "duration": 867,
    "start_time": "2023-02-07T08:20:28.216Z"
   },
   {
    "duration": 845,
    "start_time": "2023-02-07T08:20:29.084Z"
   },
   {
    "duration": 842,
    "start_time": "2023-02-07T08:20:29.931Z"
   },
   {
    "duration": 24,
    "start_time": "2023-02-07T08:21:02.431Z"
   },
   {
    "duration": 124,
    "start_time": "2023-02-07T08:21:39.398Z"
   },
   {
    "duration": 23,
    "start_time": "2023-02-07T08:21:50.574Z"
   },
   {
    "duration": 20,
    "start_time": "2023-02-07T08:21:53.424Z"
   },
   {
    "duration": 1091,
    "start_time": "2023-02-07T08:22:09.689Z"
   },
   {
    "duration": 371,
    "start_time": "2023-02-07T08:22:10.781Z"
   },
   {
    "duration": 16,
    "start_time": "2023-02-07T08:22:11.154Z"
   },
   {
    "duration": 15,
    "start_time": "2023-02-07T08:22:11.172Z"
   },
   {
    "duration": 14,
    "start_time": "2023-02-07T08:22:11.188Z"
   },
   {
    "duration": 12,
    "start_time": "2023-02-07T08:22:11.204Z"
   },
   {
    "duration": 3,
    "start_time": "2023-02-07T08:22:11.217Z"
   },
   {
    "duration": 70,
    "start_time": "2023-02-07T08:22:11.221Z"
   },
   {
    "duration": 33,
    "start_time": "2023-02-07T08:22:11.293Z"
   },
   {
    "duration": 42,
    "start_time": "2023-02-07T08:22:11.328Z"
   },
   {
    "duration": 32,
    "start_time": "2023-02-07T08:22:11.372Z"
   },
   {
    "duration": 138,
    "start_time": "2023-02-07T08:22:11.406Z"
   },
   {
    "duration": 192,
    "start_time": "2023-02-07T08:22:11.546Z"
   },
   {
    "duration": 184,
    "start_time": "2023-02-07T08:22:11.740Z"
   },
   {
    "duration": 193,
    "start_time": "2023-02-07T08:22:11.925Z"
   },
   {
    "duration": 3,
    "start_time": "2023-02-07T08:22:12.119Z"
   },
   {
    "duration": 8,
    "start_time": "2023-02-07T08:22:12.124Z"
   },
   {
    "duration": 6,
    "start_time": "2023-02-07T08:22:12.134Z"
   },
   {
    "duration": 6,
    "start_time": "2023-02-07T08:22:12.142Z"
   },
   {
    "duration": 12,
    "start_time": "2023-02-07T08:22:12.168Z"
   },
   {
    "duration": 10,
    "start_time": "2023-02-07T08:22:12.182Z"
   },
   {
    "duration": 80,
    "start_time": "2023-02-07T08:22:12.194Z"
   },
   {
    "duration": 192,
    "start_time": "2023-02-07T08:22:12.277Z"
   },
   {
    "duration": 199,
    "start_time": "2023-02-07T08:22:12.471Z"
   },
   {
    "duration": 95,
    "start_time": "2023-02-07T08:22:12.674Z"
   },
   {
    "duration": 103,
    "start_time": "2023-02-07T08:22:12.771Z"
   },
   {
    "duration": 95,
    "start_time": "2023-02-07T08:22:12.876Z"
   },
   {
    "duration": 3,
    "start_time": "2023-02-07T08:22:12.974Z"
   },
   {
    "duration": 6,
    "start_time": "2023-02-07T08:22:12.979Z"
   },
   {
    "duration": 12,
    "start_time": "2023-02-07T08:22:12.987Z"
   },
   {
    "duration": 7,
    "start_time": "2023-02-07T08:22:13.000Z"
   },
   {
    "duration": 8,
    "start_time": "2023-02-07T08:22:13.008Z"
   },
   {
    "duration": 901,
    "start_time": "2023-02-07T08:22:13.018Z"
   },
   {
    "duration": 805,
    "start_time": "2023-02-07T08:22:13.920Z"
   },
   {
    "duration": 870,
    "start_time": "2023-02-07T08:22:14.727Z"
   },
   {
    "duration": 886,
    "start_time": "2023-02-07T11:23:27.543Z"
   },
   {
    "duration": 0,
    "start_time": "2023-02-07T11:23:28.432Z"
   },
   {
    "duration": 0,
    "start_time": "2023-02-07T11:23:28.433Z"
   },
   {
    "duration": 0,
    "start_time": "2023-02-07T11:23:28.434Z"
   },
   {
    "duration": 0,
    "start_time": "2023-02-07T11:23:28.435Z"
   },
   {
    "duration": 0,
    "start_time": "2023-02-07T11:23:28.436Z"
   },
   {
    "duration": 0,
    "start_time": "2023-02-07T11:23:28.437Z"
   },
   {
    "duration": 0,
    "start_time": "2023-02-07T11:23:28.438Z"
   },
   {
    "duration": 0,
    "start_time": "2023-02-07T11:23:28.439Z"
   },
   {
    "duration": 0,
    "start_time": "2023-02-07T11:23:28.440Z"
   },
   {
    "duration": 0,
    "start_time": "2023-02-07T11:23:28.441Z"
   },
   {
    "duration": 0,
    "start_time": "2023-02-07T11:23:28.442Z"
   },
   {
    "duration": 0,
    "start_time": "2023-02-07T11:23:28.443Z"
   },
   {
    "duration": 0,
    "start_time": "2023-02-07T11:23:28.444Z"
   },
   {
    "duration": 0,
    "start_time": "2023-02-07T11:23:28.445Z"
   },
   {
    "duration": 0,
    "start_time": "2023-02-07T11:23:28.446Z"
   },
   {
    "duration": 0,
    "start_time": "2023-02-07T11:23:28.447Z"
   },
   {
    "duration": 0,
    "start_time": "2023-02-07T11:23:28.448Z"
   },
   {
    "duration": 0,
    "start_time": "2023-02-07T11:23:28.449Z"
   },
   {
    "duration": 0,
    "start_time": "2023-02-07T11:23:28.450Z"
   },
   {
    "duration": 0,
    "start_time": "2023-02-07T11:23:28.451Z"
   },
   {
    "duration": 0,
    "start_time": "2023-02-07T11:23:28.452Z"
   },
   {
    "duration": 0,
    "start_time": "2023-02-07T11:23:28.453Z"
   },
   {
    "duration": 0,
    "start_time": "2023-02-07T11:23:28.455Z"
   },
   {
    "duration": 0,
    "start_time": "2023-02-07T11:23:28.456Z"
   },
   {
    "duration": 0,
    "start_time": "2023-02-07T11:23:28.456Z"
   },
   {
    "duration": 0,
    "start_time": "2023-02-07T11:23:28.457Z"
   },
   {
    "duration": 0,
    "start_time": "2023-02-07T11:23:28.458Z"
   },
   {
    "duration": 0,
    "start_time": "2023-02-07T11:23:28.460Z"
   },
   {
    "duration": 0,
    "start_time": "2023-02-07T11:23:28.461Z"
   },
   {
    "duration": 0,
    "start_time": "2023-02-07T11:23:28.462Z"
   },
   {
    "duration": 0,
    "start_time": "2023-02-07T11:23:28.463Z"
   },
   {
    "duration": 0,
    "start_time": "2023-02-07T11:23:28.464Z"
   },
   {
    "duration": 0,
    "start_time": "2023-02-07T11:23:28.521Z"
   },
   {
    "duration": 0,
    "start_time": "2023-02-07T11:23:28.522Z"
   },
   {
    "duration": 132,
    "start_time": "2023-02-07T11:23:35.869Z"
   },
   {
    "duration": 1521,
    "start_time": "2023-02-07T11:23:46.895Z"
   },
   {
    "duration": 2584,
    "start_time": "2023-02-07T11:23:48.418Z"
   },
   {
    "duration": 0,
    "start_time": "2023-02-07T11:23:51.005Z"
   },
   {
    "duration": 0,
    "start_time": "2023-02-07T11:23:51.006Z"
   },
   {
    "duration": 0,
    "start_time": "2023-02-07T11:23:51.007Z"
   },
   {
    "duration": 0,
    "start_time": "2023-02-07T11:23:51.009Z"
   },
   {
    "duration": 0,
    "start_time": "2023-02-07T11:23:51.010Z"
   },
   {
    "duration": 0,
    "start_time": "2023-02-07T11:23:51.011Z"
   },
   {
    "duration": 0,
    "start_time": "2023-02-07T11:23:51.012Z"
   },
   {
    "duration": 0,
    "start_time": "2023-02-07T11:23:51.013Z"
   },
   {
    "duration": 0,
    "start_time": "2023-02-07T11:23:51.014Z"
   },
   {
    "duration": 0,
    "start_time": "2023-02-07T11:23:51.015Z"
   },
   {
    "duration": 0,
    "start_time": "2023-02-07T11:23:51.016Z"
   },
   {
    "duration": 0,
    "start_time": "2023-02-07T11:23:51.017Z"
   },
   {
    "duration": 0,
    "start_time": "2023-02-07T11:23:51.019Z"
   },
   {
    "duration": 0,
    "start_time": "2023-02-07T11:23:51.020Z"
   },
   {
    "duration": 0,
    "start_time": "2023-02-07T11:23:51.021Z"
   },
   {
    "duration": 0,
    "start_time": "2023-02-07T11:23:51.022Z"
   },
   {
    "duration": 0,
    "start_time": "2023-02-07T11:23:51.023Z"
   },
   {
    "duration": 0,
    "start_time": "2023-02-07T11:23:51.024Z"
   },
   {
    "duration": 0,
    "start_time": "2023-02-07T11:23:51.026Z"
   },
   {
    "duration": 0,
    "start_time": "2023-02-07T11:23:51.026Z"
   },
   {
    "duration": 0,
    "start_time": "2023-02-07T11:23:51.027Z"
   },
   {
    "duration": 0,
    "start_time": "2023-02-07T11:23:51.028Z"
   },
   {
    "duration": 0,
    "start_time": "2023-02-07T11:23:51.030Z"
   },
   {
    "duration": 0,
    "start_time": "2023-02-07T11:23:51.031Z"
   },
   {
    "duration": 0,
    "start_time": "2023-02-07T11:23:51.032Z"
   },
   {
    "duration": 0,
    "start_time": "2023-02-07T11:23:51.034Z"
   },
   {
    "duration": 0,
    "start_time": "2023-02-07T11:23:51.035Z"
   },
   {
    "duration": 0,
    "start_time": "2023-02-07T11:23:51.036Z"
   },
   {
    "duration": 0,
    "start_time": "2023-02-07T11:23:51.037Z"
   },
   {
    "duration": 0,
    "start_time": "2023-02-07T11:23:51.038Z"
   },
   {
    "duration": 0,
    "start_time": "2023-02-07T11:23:51.039Z"
   },
   {
    "duration": 0,
    "start_time": "2023-02-07T11:23:51.040Z"
   },
   {
    "duration": 0,
    "start_time": "2023-02-07T11:23:51.041Z"
   },
   {
    "duration": 1530,
    "start_time": "2023-02-07T11:23:56.533Z"
   },
   {
    "duration": 13,
    "start_time": "2023-02-07T11:23:59.687Z"
   },
   {
    "duration": 16,
    "start_time": "2023-02-07T11:24:01.486Z"
   },
   {
    "duration": 25,
    "start_time": "2023-02-07T11:24:05.061Z"
   },
   {
    "duration": 17,
    "start_time": "2023-02-07T11:24:07.319Z"
   },
   {
    "duration": 3,
    "start_time": "2023-02-07T11:24:19.983Z"
   },
   {
    "duration": 39,
    "start_time": "2023-02-07T11:24:24.043Z"
   },
   {
    "duration": 43,
    "start_time": "2023-02-07T11:24:38.743Z"
   },
   {
    "duration": 36,
    "start_time": "2023-02-07T11:24:38.973Z"
   },
   {
    "duration": 44,
    "start_time": "2023-02-07T11:25:00.470Z"
   },
   {
    "duration": 57,
    "start_time": "2023-02-07T11:25:14.784Z"
   },
   {
    "duration": 77,
    "start_time": "2023-02-07T11:26:34.779Z"
   },
   {
    "duration": 20,
    "start_time": "2023-02-07T11:27:13.813Z"
   },
   {
    "duration": 38,
    "start_time": "2023-02-07T11:27:23.633Z"
   },
   {
    "duration": 19,
    "start_time": "2023-02-07T11:28:50.477Z"
   },
   {
    "duration": 15,
    "start_time": "2023-02-07T11:29:00.372Z"
   },
   {
    "duration": 14,
    "start_time": "2023-02-07T11:29:49.008Z"
   },
   {
    "duration": 19,
    "start_time": "2023-02-07T11:30:05.086Z"
   },
   {
    "duration": 15,
    "start_time": "2023-02-07T11:30:45.552Z"
   },
   {
    "duration": 134,
    "start_time": "2023-02-07T11:39:26.081Z"
   },
   {
    "duration": 234,
    "start_time": "2023-02-07T11:39:42.478Z"
   },
   {
    "duration": 229,
    "start_time": "2023-02-07T11:39:46.512Z"
   },
   {
    "duration": 223,
    "start_time": "2023-02-07T11:39:49.833Z"
   },
   {
    "duration": 4,
    "start_time": "2023-02-07T11:40:00.312Z"
   },
   {
    "duration": 6,
    "start_time": "2023-02-07T11:40:03.297Z"
   },
   {
    "duration": 8,
    "start_time": "2023-02-07T11:40:04.545Z"
   },
   {
    "duration": 6,
    "start_time": "2023-02-07T11:40:09.179Z"
   },
   {
    "duration": 17,
    "start_time": "2023-02-07T11:52:55.131Z"
   },
   {
    "duration": 11,
    "start_time": "2023-02-07T11:56:28.785Z"
   },
   {
    "duration": 8,
    "start_time": "2023-02-07T11:56:33.586Z"
   },
   {
    "duration": 127,
    "start_time": "2023-02-07T11:56:36.715Z"
   },
   {
    "duration": 6,
    "start_time": "2023-02-07T11:57:31.737Z"
   },
   {
    "duration": 130,
    "start_time": "2023-02-07T11:57:39.172Z"
   },
   {
    "duration": 11,
    "start_time": "2023-02-07T11:58:00.244Z"
   },
   {
    "duration": 118,
    "start_time": "2023-02-07T11:58:31.594Z"
   },
   {
    "duration": 16,
    "start_time": "2023-02-07T11:58:47.917Z"
   },
   {
    "duration": 108,
    "start_time": "2023-02-07T11:59:06.032Z"
   },
   {
    "duration": 120,
    "start_time": "2023-02-07T11:59:44.118Z"
   },
   {
    "duration": 6,
    "start_time": "2023-02-07T12:00:21.348Z"
   },
   {
    "duration": 127,
    "start_time": "2023-02-07T12:00:23.697Z"
   },
   {
    "duration": 54,
    "start_time": "2023-02-07T12:00:37.870Z"
   },
   {
    "duration": 105,
    "start_time": "2023-02-07T12:02:25.117Z"
   },
   {
    "duration": 43,
    "start_time": "2023-02-07T12:02:25.838Z"
   },
   {
    "duration": 10,
    "start_time": "2023-02-07T12:04:21.412Z"
   },
   {
    "duration": 211,
    "start_time": "2023-02-07T12:05:16.419Z"
   },
   {
    "duration": 90,
    "start_time": "2023-02-07T12:06:20.950Z"
   },
   {
    "duration": 9,
    "start_time": "2023-02-07T12:08:24.670Z"
   },
   {
    "duration": 87,
    "start_time": "2023-02-07T12:20:32.326Z"
   },
   {
    "duration": 2,
    "start_time": "2023-02-07T12:20:43.783Z"
   },
   {
    "duration": 5,
    "start_time": "2023-02-07T12:22:00.957Z"
   },
   {
    "duration": 13,
    "start_time": "2023-02-07T12:22:05.526Z"
   },
   {
    "duration": 3,
    "start_time": "2023-02-07T12:22:11.842Z"
   },
   {
    "duration": 5,
    "start_time": "2023-02-07T12:23:26.092Z"
   },
   {
    "duration": 15,
    "start_time": "2023-02-07T12:23:56.083Z"
   },
   {
    "duration": 6,
    "start_time": "2023-02-07T12:24:25.589Z"
   },
   {
    "duration": 16,
    "start_time": "2023-02-07T12:24:29.538Z"
   },
   {
    "duration": 6,
    "start_time": "2023-02-07T12:25:10.320Z"
   },
   {
    "duration": 1100,
    "start_time": "2023-02-07T12:25:13.675Z"
   },
   {
    "duration": 984,
    "start_time": "2023-02-07T12:25:17.114Z"
   },
   {
    "duration": 1007,
    "start_time": "2023-02-07T12:25:19.060Z"
   },
   {
    "duration": 1475,
    "start_time": "2023-02-07T12:29:05.308Z"
   },
   {
    "duration": 3,
    "start_time": "2023-02-07T12:29:06.785Z"
   },
   {
    "duration": 397,
    "start_time": "2023-02-07T12:29:06.790Z"
   },
   {
    "duration": 14,
    "start_time": "2023-02-07T12:29:07.190Z"
   },
   {
    "duration": 29,
    "start_time": "2023-02-07T12:29:07.206Z"
   },
   {
    "duration": 17,
    "start_time": "2023-02-07T12:29:07.236Z"
   },
   {
    "duration": 16,
    "start_time": "2023-02-07T12:29:07.254Z"
   },
   {
    "duration": 4,
    "start_time": "2023-02-07T12:29:07.272Z"
   },
   {
    "duration": 84,
    "start_time": "2023-02-07T12:29:07.277Z"
   },
   {
    "duration": 2,
    "start_time": "2023-02-07T12:29:07.365Z"
   },
   {
    "duration": 7,
    "start_time": "2023-02-07T12:29:07.369Z"
   },
   {
    "duration": 166,
    "start_time": "2023-02-07T12:29:07.378Z"
   },
   {
    "duration": 244,
    "start_time": "2023-02-07T12:29:07.546Z"
   },
   {
    "duration": 213,
    "start_time": "2023-02-07T12:29:07.791Z"
   },
   {
    "duration": 224,
    "start_time": "2023-02-07T12:29:08.006Z"
   },
   {
    "duration": 4,
    "start_time": "2023-02-07T12:29:08.232Z"
   },
   {
    "duration": 19,
    "start_time": "2023-02-07T12:29:08.237Z"
   },
   {
    "duration": 15,
    "start_time": "2023-02-07T12:29:08.258Z"
   },
   {
    "duration": 14,
    "start_time": "2023-02-07T12:29:08.276Z"
   },
   {
    "duration": 24,
    "start_time": "2023-02-07T12:29:08.292Z"
   },
   {
    "duration": 20,
    "start_time": "2023-02-07T12:29:08.318Z"
   },
   {
    "duration": 93,
    "start_time": "2023-02-07T12:29:08.340Z"
   },
   {
    "duration": 200,
    "start_time": "2023-02-07T12:29:08.521Z"
   },
   {
    "duration": 198,
    "start_time": "2023-02-07T12:29:08.724Z"
   },
   {
    "duration": 101,
    "start_time": "2023-02-07T12:29:08.925Z"
   },
   {
    "duration": 98,
    "start_time": "2023-02-07T12:29:09.028Z"
   },
   {
    "duration": 98,
    "start_time": "2023-02-07T12:29:09.128Z"
   },
   {
    "duration": 9,
    "start_time": "2023-02-07T12:29:09.229Z"
   },
   {
    "duration": 12,
    "start_time": "2023-02-07T12:29:09.240Z"
   },
   {
    "duration": 11,
    "start_time": "2023-02-07T12:29:09.254Z"
   },
   {
    "duration": 9,
    "start_time": "2023-02-07T12:29:09.266Z"
   },
   {
    "duration": 1011,
    "start_time": "2023-02-07T12:29:09.277Z"
   },
   {
    "duration": 960,
    "start_time": "2023-02-07T12:29:10.290Z"
   },
   {
    "duration": 982,
    "start_time": "2023-02-07T12:29:11.252Z"
   },
   {
    "duration": 1867,
    "start_time": "2023-02-07T15:28:23.847Z"
   },
   {
    "duration": 2,
    "start_time": "2023-02-07T15:28:25.716Z"
   },
   {
    "duration": 366,
    "start_time": "2023-02-07T15:28:25.720Z"
   },
   {
    "duration": 11,
    "start_time": "2023-02-07T15:28:26.088Z"
   },
   {
    "duration": 14,
    "start_time": "2023-02-07T15:28:26.101Z"
   },
   {
    "duration": 32,
    "start_time": "2023-02-07T15:28:26.117Z"
   },
   {
    "duration": 12,
    "start_time": "2023-02-07T15:28:26.150Z"
   },
   {
    "duration": 3,
    "start_time": "2023-02-07T15:28:26.163Z"
   },
   {
    "duration": 40,
    "start_time": "2023-02-07T15:28:26.167Z"
   },
   {
    "duration": 2,
    "start_time": "2023-02-07T15:28:26.210Z"
   },
   {
    "duration": 6,
    "start_time": "2023-02-07T15:28:26.213Z"
   },
   {
    "duration": 141,
    "start_time": "2023-02-07T15:28:26.220Z"
   },
   {
    "duration": 190,
    "start_time": "2023-02-07T15:28:26.363Z"
   },
   {
    "duration": 174,
    "start_time": "2023-02-07T15:28:26.555Z"
   },
   {
    "duration": 191,
    "start_time": "2023-02-07T15:28:26.730Z"
   },
   {
    "duration": 3,
    "start_time": "2023-02-07T15:28:26.923Z"
   },
   {
    "duration": 18,
    "start_time": "2023-02-07T15:28:26.928Z"
   },
   {
    "duration": 6,
    "start_time": "2023-02-07T15:28:26.947Z"
   },
   {
    "duration": 6,
    "start_time": "2023-02-07T15:28:26.954Z"
   },
   {
    "duration": 16,
    "start_time": "2023-02-07T15:28:26.961Z"
   },
   {
    "duration": 6,
    "start_time": "2023-02-07T15:28:26.979Z"
   },
   {
    "duration": 156,
    "start_time": "2023-02-07T15:28:26.987Z"
   },
   {
    "duration": 209,
    "start_time": "2023-02-07T15:28:27.145Z"
   },
   {
    "duration": 189,
    "start_time": "2023-02-07T15:28:27.356Z"
   },
   {
    "duration": 100,
    "start_time": "2023-02-07T15:28:27.548Z"
   },
   {
    "duration": 97,
    "start_time": "2023-02-07T15:28:27.649Z"
   },
   {
    "duration": 99,
    "start_time": "2023-02-07T15:28:27.748Z"
   },
   {
    "duration": 4,
    "start_time": "2023-02-07T15:28:27.850Z"
   },
   {
    "duration": 16,
    "start_time": "2023-02-07T15:28:27.856Z"
   },
   {
    "duration": 7,
    "start_time": "2023-02-07T15:28:27.874Z"
   },
   {
    "duration": 6,
    "start_time": "2023-02-07T15:28:27.883Z"
   },
   {
    "duration": 860,
    "start_time": "2023-02-07T15:28:27.891Z"
   },
   {
    "duration": 834,
    "start_time": "2023-02-07T15:28:28.753Z"
   },
   {
    "duration": 808,
    "start_time": "2023-02-07T15:28:29.589Z"
   }
  ],
  "kernelspec": {
   "display_name": "Python 3",
   "language": "python",
   "name": "python3"
  },
  "language_info": {
   "codemirror_mode": {
    "name": "ipython",
    "version": 3
   },
   "file_extension": ".py",
   "mimetype": "text/x-python",
   "name": "python",
   "nbconvert_exporter": "python",
   "pygments_lexer": "ipython3",
   "version": "3.8.8"
  },
  "toc": {
   "base_numbering": 1,
   "nav_menu": {},
   "number_sections": true,
   "sideBar": true,
   "skip_h1_title": true,
   "title_cell": "Table of Contents",
   "title_sidebar": "Contents",
   "toc_cell": false,
   "toc_position": {},
   "toc_section_display": true,
   "toc_window_display": true
  }
 },
 "nbformat": 4,
 "nbformat_minor": 2
}
