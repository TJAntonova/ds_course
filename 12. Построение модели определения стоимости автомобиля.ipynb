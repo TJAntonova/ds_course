{
 "cells": [
  {
   "cell_type": "markdown",
   "metadata": {},
   "source": [
    "# Определение стоимости автомобилей"
   ]
  },
  {
   "cell_type": "markdown",
   "metadata": {},
   "source": [
    "Сервис по продаже автомобилей с пробегом «Не бит, не крашен» разрабатывает приложение для привлечения новых клиентов. В нём можно быстро узнать рыночную стоимость своего автомобиля. \n",
    "\n",
    "<b> Цель проекта </b>- построить модель для определения стоимости. \n",
    "\n",
    "Нам предоставлены исторические данные: технические характеристики, комплектации и цены автомобилей. \n",
    "\n",
    "<b> Описание данных </b>\n",
    "\n",
    "Признаки:\n",
    "\n",
    "- DateCrawled — дата скачивания анкеты из базы\n",
    "- VehicleType — тип автомобильного кузова\n",
    "- RegistrationYear — год регистрации автомобиля\n",
    "- Gearbox — тип коробки передач\n",
    "- Power — мощность (л. с.)\n",
    "- Model — модель автомобиля\n",
    "- Kilometer — пробег (км)\n",
    "- RegistrationMonth — месяц регистрации автомобиля\n",
    "- FuelType — тип топлива\n",
    "- Brand — марка автомобиля\n",
    "- Repaired — была машина в ремонте или нет\n",
    "- DateCreated — дата создания анкеты\n",
    "- NumberOfPictures — количество фотографий автомобиля\n",
    "- PostalCode — почтовый индекс владельца анкеты (пользователя)\n",
    "- LastSeen — дата последней активности пользователя\n",
    "\n",
    "Целевой признак:\n",
    "\n",
    "- Price — цена (евро)\n",
    "\n",
    "Заказчику важны:\n",
    "\n",
    "- качество предсказания;\n",
    "- скорость предсказания;\n",
    "- время обучения.\n",
    "\n",
    "<b> Задачи проекта: </b>\n",
    "\n",
    "- Подготовить данные.\n",
    "- Обучить разные модели, одна из которых — LightGBM, как минимум одна — не бустинг. \n",
    "- Проанализировать время обучения, время предсказания и качество моделей.\n",
    "- Опираясь на критерии заказчика, выбрать лучшую модель, проверить её качество на тестовой выборке."
   ]
  },
  {
   "cell_type": "markdown",
   "metadata": {},
   "source": [
    "## Загрузка необходимых библиотек"
   ]
  },
  {
   "cell_type": "code",
   "execution_count": 1,
   "metadata": {},
   "outputs": [
    {
     "name": "stdout",
     "output_type": "stream",
     "text": [
      "Requirement already satisfied: category_encoders in c:\\users\\js\\anaconda3\\lib\\site-packages (2.6.1)\n",
      "Requirement already satisfied: scikit-learn>=0.20.0 in c:\\users\\js\\anaconda3\\lib\\site-packages (from category_encoders) (0.24.1)Note: you may need to restart the kernel to use updated packages.\n",
      "\n",
      "Requirement already satisfied: statsmodels>=0.9.0 in c:\\users\\js\\anaconda3\\lib\\site-packages (from category_encoders) (0.12.2)\n",
      "Requirement already satisfied: patsy>=0.5.1 in c:\\users\\js\\anaconda3\\lib\\site-packages (from category_encoders) (0.5.1)\n",
      "Requirement already satisfied: numpy>=1.14.0 in c:\\users\\js\\anaconda3\\lib\\site-packages (from category_encoders) (1.20.1)\n",
      "Requirement already satisfied: scipy>=1.0.0 in c:\\users\\js\\anaconda3\\lib\\site-packages (from category_encoders) (1.6.2)\n",
      "Requirement already satisfied: pandas>=1.0.5 in c:\\users\\js\\anaconda3\\lib\\site-packages (from category_encoders) (1.2.4)\n",
      "Requirement already satisfied: python-dateutil>=2.7.3 in c:\\users\\js\\anaconda3\\lib\\site-packages (from pandas>=1.0.5->category_encoders) (2.8.1)\n",
      "Requirement already satisfied: pytz>=2017.3 in c:\\users\\js\\anaconda3\\lib\\site-packages (from pandas>=1.0.5->category_encoders) (2021.1)\n",
      "Requirement already satisfied: six in c:\\users\\js\\anaconda3\\lib\\site-packages (from patsy>=0.5.1->category_encoders) (1.15.0)\n",
      "Requirement already satisfied: threadpoolctl>=2.0.0 in c:\\users\\js\\anaconda3\\lib\\site-packages (from scikit-learn>=0.20.0->category_encoders) (2.1.0)\n",
      "Requirement already satisfied: joblib>=0.11 in c:\\users\\js\\anaconda3\\lib\\site-packages (from scikit-learn>=0.20.0->category_encoders) (1.0.1)\n"
     ]
    }
   ],
   "source": [
    "pip install category_encoders"
   ]
  },
  {
   "cell_type": "code",
   "execution_count": 2,
   "metadata": {},
   "outputs": [],
   "source": [
    "import time\n",
    "import pandas as pd\n",
    "import numpy as np\n",
    "from catboost import CatBoostRegressor, Pool\n",
    "from sklearn.model_selection import train_test_split\n",
    "from sklearn.metrics import mean_squared_error\n",
    "from sklearn.ensemble import RandomForestRegressor\n",
    "from sklearn.model_selection import GridSearchCV\n",
    "import lightgbm as lgb\n",
    "import matplotlib.pyplot as plt\n",
    "import category_encoders as ce\n",
    "from sklearn.preprocessing import StandardScaler\n",
    "from sklearn.preprocessing import OneHotEncoder"
   ]
  },
  {
   "cell_type": "markdown",
   "metadata": {},
   "source": [
    "## Подготовка данных"
   ]
  },
  {
   "cell_type": "code",
   "execution_count": 3,
   "metadata": {},
   "outputs": [],
   "source": [
    "server_path = '/datasets/autos.csv'   \n",
    "local_path = 'autos.csv'               \n",
    "try:\n",
    "    df = pd.read_csv(server_path)   \n",
    "except: \n",
    "    df = pd.read_csv(local_path)  "
   ]
  },
  {
   "cell_type": "code",
   "execution_count": 4,
   "metadata": {},
   "outputs": [
    {
     "data": {
      "text/html": [
       "<div>\n",
       "<style scoped>\n",
       "    .dataframe tbody tr th:only-of-type {\n",
       "        vertical-align: middle;\n",
       "    }\n",
       "\n",
       "    .dataframe tbody tr th {\n",
       "        vertical-align: top;\n",
       "    }\n",
       "\n",
       "    .dataframe thead th {\n",
       "        text-align: right;\n",
       "    }\n",
       "</style>\n",
       "<table border=\"1\" class=\"dataframe\">\n",
       "  <thead>\n",
       "    <tr style=\"text-align: right;\">\n",
       "      <th></th>\n",
       "      <th>DateCrawled</th>\n",
       "      <th>Price</th>\n",
       "      <th>VehicleType</th>\n",
       "      <th>RegistrationYear</th>\n",
       "      <th>Gearbox</th>\n",
       "      <th>Power</th>\n",
       "      <th>Model</th>\n",
       "      <th>Kilometer</th>\n",
       "      <th>RegistrationMonth</th>\n",
       "      <th>FuelType</th>\n",
       "      <th>Brand</th>\n",
       "      <th>Repaired</th>\n",
       "      <th>DateCreated</th>\n",
       "      <th>NumberOfPictures</th>\n",
       "      <th>PostalCode</th>\n",
       "      <th>LastSeen</th>\n",
       "    </tr>\n",
       "  </thead>\n",
       "  <tbody>\n",
       "    <tr>\n",
       "      <th>0</th>\n",
       "      <td>2016-03-24 11:52:17</td>\n",
       "      <td>480</td>\n",
       "      <td>NaN</td>\n",
       "      <td>1993</td>\n",
       "      <td>manual</td>\n",
       "      <td>0</td>\n",
       "      <td>golf</td>\n",
       "      <td>150000</td>\n",
       "      <td>0</td>\n",
       "      <td>petrol</td>\n",
       "      <td>volkswagen</td>\n",
       "      <td>NaN</td>\n",
       "      <td>2016-03-24 00:00:00</td>\n",
       "      <td>0</td>\n",
       "      <td>70435</td>\n",
       "      <td>2016-04-07 03:16:57</td>\n",
       "    </tr>\n",
       "    <tr>\n",
       "      <th>1</th>\n",
       "      <td>2016-03-24 10:58:45</td>\n",
       "      <td>18300</td>\n",
       "      <td>coupe</td>\n",
       "      <td>2011</td>\n",
       "      <td>manual</td>\n",
       "      <td>190</td>\n",
       "      <td>NaN</td>\n",
       "      <td>125000</td>\n",
       "      <td>5</td>\n",
       "      <td>gasoline</td>\n",
       "      <td>audi</td>\n",
       "      <td>yes</td>\n",
       "      <td>2016-03-24 00:00:00</td>\n",
       "      <td>0</td>\n",
       "      <td>66954</td>\n",
       "      <td>2016-04-07 01:46:50</td>\n",
       "    </tr>\n",
       "    <tr>\n",
       "      <th>2</th>\n",
       "      <td>2016-03-14 12:52:21</td>\n",
       "      <td>9800</td>\n",
       "      <td>suv</td>\n",
       "      <td>2004</td>\n",
       "      <td>auto</td>\n",
       "      <td>163</td>\n",
       "      <td>grand</td>\n",
       "      <td>125000</td>\n",
       "      <td>8</td>\n",
       "      <td>gasoline</td>\n",
       "      <td>jeep</td>\n",
       "      <td>NaN</td>\n",
       "      <td>2016-03-14 00:00:00</td>\n",
       "      <td>0</td>\n",
       "      <td>90480</td>\n",
       "      <td>2016-04-05 12:47:46</td>\n",
       "    </tr>\n",
       "    <tr>\n",
       "      <th>3</th>\n",
       "      <td>2016-03-17 16:54:04</td>\n",
       "      <td>1500</td>\n",
       "      <td>small</td>\n",
       "      <td>2001</td>\n",
       "      <td>manual</td>\n",
       "      <td>75</td>\n",
       "      <td>golf</td>\n",
       "      <td>150000</td>\n",
       "      <td>6</td>\n",
       "      <td>petrol</td>\n",
       "      <td>volkswagen</td>\n",
       "      <td>no</td>\n",
       "      <td>2016-03-17 00:00:00</td>\n",
       "      <td>0</td>\n",
       "      <td>91074</td>\n",
       "      <td>2016-03-17 17:40:17</td>\n",
       "    </tr>\n",
       "    <tr>\n",
       "      <th>4</th>\n",
       "      <td>2016-03-31 17:25:20</td>\n",
       "      <td>3600</td>\n",
       "      <td>small</td>\n",
       "      <td>2008</td>\n",
       "      <td>manual</td>\n",
       "      <td>69</td>\n",
       "      <td>fabia</td>\n",
       "      <td>90000</td>\n",
       "      <td>7</td>\n",
       "      <td>gasoline</td>\n",
       "      <td>skoda</td>\n",
       "      <td>no</td>\n",
       "      <td>2016-03-31 00:00:00</td>\n",
       "      <td>0</td>\n",
       "      <td>60437</td>\n",
       "      <td>2016-04-06 10:17:21</td>\n",
       "    </tr>\n",
       "  </tbody>\n",
       "</table>\n",
       "</div>"
      ],
      "text/plain": [
       "           DateCrawled  Price VehicleType  RegistrationYear Gearbox  Power  \\\n",
       "0  2016-03-24 11:52:17    480         NaN              1993  manual      0   \n",
       "1  2016-03-24 10:58:45  18300       coupe              2011  manual    190   \n",
       "2  2016-03-14 12:52:21   9800         suv              2004    auto    163   \n",
       "3  2016-03-17 16:54:04   1500       small              2001  manual     75   \n",
       "4  2016-03-31 17:25:20   3600       small              2008  manual     69   \n",
       "\n",
       "   Model  Kilometer  RegistrationMonth  FuelType       Brand Repaired  \\\n",
       "0   golf     150000                  0    petrol  volkswagen      NaN   \n",
       "1    NaN     125000                  5  gasoline        audi      yes   \n",
       "2  grand     125000                  8  gasoline        jeep      NaN   \n",
       "3   golf     150000                  6    petrol  volkswagen       no   \n",
       "4  fabia      90000                  7  gasoline       skoda       no   \n",
       "\n",
       "           DateCreated  NumberOfPictures  PostalCode             LastSeen  \n",
       "0  2016-03-24 00:00:00                 0       70435  2016-04-07 03:16:57  \n",
       "1  2016-03-24 00:00:00                 0       66954  2016-04-07 01:46:50  \n",
       "2  2016-03-14 00:00:00                 0       90480  2016-04-05 12:47:46  \n",
       "3  2016-03-17 00:00:00                 0       91074  2016-03-17 17:40:17  \n",
       "4  2016-03-31 00:00:00                 0       60437  2016-04-06 10:17:21  "
      ]
     },
     "execution_count": 4,
     "metadata": {},
     "output_type": "execute_result"
    }
   ],
   "source": [
    "df.head()"
   ]
  },
  {
   "cell_type": "code",
   "execution_count": 5,
   "metadata": {},
   "outputs": [
    {
     "name": "stdout",
     "output_type": "stream",
     "text": [
      "<class 'pandas.core.frame.DataFrame'>\n",
      "RangeIndex: 354369 entries, 0 to 354368\n",
      "Data columns (total 16 columns):\n",
      " #   Column             Non-Null Count   Dtype \n",
      "---  ------             --------------   ----- \n",
      " 0   DateCrawled        354369 non-null  object\n",
      " 1   Price              354369 non-null  int64 \n",
      " 2   VehicleType        316879 non-null  object\n",
      " 3   RegistrationYear   354369 non-null  int64 \n",
      " 4   Gearbox            334536 non-null  object\n",
      " 5   Power              354369 non-null  int64 \n",
      " 6   Model              334664 non-null  object\n",
      " 7   Kilometer          354369 non-null  int64 \n",
      " 8   RegistrationMonth  354369 non-null  int64 \n",
      " 9   FuelType           321474 non-null  object\n",
      " 10  Brand              354369 non-null  object\n",
      " 11  Repaired           283215 non-null  object\n",
      " 12  DateCreated        354369 non-null  object\n",
      " 13  NumberOfPictures   354369 non-null  int64 \n",
      " 14  PostalCode         354369 non-null  int64 \n",
      " 15  LastSeen           354369 non-null  object\n",
      "dtypes: int64(7), object(9)\n",
      "memory usage: 43.3+ MB\n"
     ]
    }
   ],
   "source": [
    "df.info()"
   ]
  },
  {
   "cell_type": "markdown",
   "metadata": {},
   "source": [
    "Заполним пропуски:"
   ]
  },
  {
   "cell_type": "markdown",
   "metadata": {},
   "source": [
    "Категориальные признаки gearbox и repaired являются бинарными. Заполним пропущенные значения методом np.random.choice, а в колонках vehicle_type, model, fuel_type дополнительной категорией unknown."
   ]
  },
  {
   "cell_type": "code",
   "execution_count": 6,
   "metadata": {},
   "outputs": [],
   "source": [
    "df[[\"Gearbox\", \"Repaired\"]] = df[[\"Gearbox\", \"Repaired\"]].fillna({\n",
    "    \"Gearbox\": np.random.choice(df[\"Gearbox\"].dropna()),\n",
    "    \"Repaired\": np.random.choice(df[\"Repaired\"].dropna())\n",
    "})\n",
    "df[\"VehicleType\"] = df[\"VehicleType\"].fillna('unknown')\n",
    "df[\"Model\"] = df[\"Model\"].fillna('unknown')\n",
    "df[\"FuelType\"] = df[\"FuelType\"].fillna('unknown')\n"
   ]
  },
  {
   "cell_type": "code",
   "execution_count": null,
   "metadata": {},
   "outputs": [],
   "source": []
  },
  {
   "cell_type": "code",
   "execution_count": 7,
   "metadata": {},
   "outputs": [
    {
     "name": "stdout",
     "output_type": "stream",
     "text": [
      "VehicleType 0\n",
      "Gearbox 0\n",
      "Model 0\n",
      "FuelType 0\n",
      "Brand 0\n",
      "Repaired 0\n"
     ]
    }
   ],
   "source": [
    "objects_columns = [\"VehicleType\",\"Gearbox\",\"Model\",\"FuelType\",\"Brand\",\"Repaired\"]\n",
    "for column in objects_columns:\n",
    "    print(column, pd.Series(df[column].unique()).str.lower().duplicated().sum())"
   ]
  },
  {
   "cell_type": "markdown",
   "metadata": {},
   "source": [
    "Проверим дубликаты:"
   ]
  },
  {
   "cell_type": "code",
   "execution_count": 8,
   "metadata": {},
   "outputs": [
    {
     "data": {
      "text/plain": [
       "5"
      ]
     },
     "execution_count": 8,
     "metadata": {},
     "output_type": "execute_result"
    }
   ],
   "source": [
    "df.duplicated().sum()"
   ]
  },
  {
   "cell_type": "code",
   "execution_count": 9,
   "metadata": {},
   "outputs": [
    {
     "data": {
      "text/plain": [
       "0"
      ]
     },
     "execution_count": 9,
     "metadata": {},
     "output_type": "execute_result"
    }
   ],
   "source": [
    "df = df.drop_duplicates()\n",
    "df.duplicated().sum()"
   ]
  },
  {
   "cell_type": "code",
   "execution_count": 10,
   "metadata": {},
   "outputs": [
    {
     "data": {
      "text/html": [
       "<div>\n",
       "<style scoped>\n",
       "    .dataframe tbody tr th:only-of-type {\n",
       "        vertical-align: middle;\n",
       "    }\n",
       "\n",
       "    .dataframe tbody tr th {\n",
       "        vertical-align: top;\n",
       "    }\n",
       "\n",
       "    .dataframe thead th {\n",
       "        text-align: right;\n",
       "    }\n",
       "</style>\n",
       "<table border=\"1\" class=\"dataframe\">\n",
       "  <thead>\n",
       "    <tr style=\"text-align: right;\">\n",
       "      <th></th>\n",
       "      <th>Price</th>\n",
       "      <th>RegistrationYear</th>\n",
       "      <th>Power</th>\n",
       "      <th>Kilometer</th>\n",
       "      <th>RegistrationMonth</th>\n",
       "      <th>NumberOfPictures</th>\n",
       "      <th>PostalCode</th>\n",
       "    </tr>\n",
       "  </thead>\n",
       "  <tbody>\n",
       "    <tr>\n",
       "      <th>count</th>\n",
       "      <td>354364.000000</td>\n",
       "      <td>354364.000000</td>\n",
       "      <td>354364.000000</td>\n",
       "      <td>354364.000000</td>\n",
       "      <td>354364.000000</td>\n",
       "      <td>354364.0</td>\n",
       "      <td>354364.000000</td>\n",
       "    </tr>\n",
       "    <tr>\n",
       "      <th>mean</th>\n",
       "      <td>4416.655608</td>\n",
       "      <td>2004.234471</td>\n",
       "      <td>110.093723</td>\n",
       "      <td>128211.373051</td>\n",
       "      <td>5.714641</td>\n",
       "      <td>0.0</td>\n",
       "      <td>50508.461698</td>\n",
       "    </tr>\n",
       "    <tr>\n",
       "      <th>std</th>\n",
       "      <td>4514.159690</td>\n",
       "      <td>90.228593</td>\n",
       "      <td>189.851590</td>\n",
       "      <td>37905.136957</td>\n",
       "      <td>3.726433</td>\n",
       "      <td>0.0</td>\n",
       "      <td>25783.124276</td>\n",
       "    </tr>\n",
       "    <tr>\n",
       "      <th>min</th>\n",
       "      <td>0.000000</td>\n",
       "      <td>1000.000000</td>\n",
       "      <td>0.000000</td>\n",
       "      <td>5000.000000</td>\n",
       "      <td>0.000000</td>\n",
       "      <td>0.0</td>\n",
       "      <td>1067.000000</td>\n",
       "    </tr>\n",
       "    <tr>\n",
       "      <th>25%</th>\n",
       "      <td>1050.000000</td>\n",
       "      <td>1999.000000</td>\n",
       "      <td>69.000000</td>\n",
       "      <td>125000.000000</td>\n",
       "      <td>3.000000</td>\n",
       "      <td>0.0</td>\n",
       "      <td>30165.000000</td>\n",
       "    </tr>\n",
       "    <tr>\n",
       "      <th>50%</th>\n",
       "      <td>2700.000000</td>\n",
       "      <td>2003.000000</td>\n",
       "      <td>105.000000</td>\n",
       "      <td>150000.000000</td>\n",
       "      <td>6.000000</td>\n",
       "      <td>0.0</td>\n",
       "      <td>49409.500000</td>\n",
       "    </tr>\n",
       "    <tr>\n",
       "      <th>75%</th>\n",
       "      <td>6400.000000</td>\n",
       "      <td>2008.000000</td>\n",
       "      <td>143.000000</td>\n",
       "      <td>150000.000000</td>\n",
       "      <td>9.000000</td>\n",
       "      <td>0.0</td>\n",
       "      <td>71083.000000</td>\n",
       "    </tr>\n",
       "    <tr>\n",
       "      <th>max</th>\n",
       "      <td>20000.000000</td>\n",
       "      <td>9999.000000</td>\n",
       "      <td>20000.000000</td>\n",
       "      <td>150000.000000</td>\n",
       "      <td>12.000000</td>\n",
       "      <td>0.0</td>\n",
       "      <td>99998.000000</td>\n",
       "    </tr>\n",
       "  </tbody>\n",
       "</table>\n",
       "</div>"
      ],
      "text/plain": [
       "               Price  RegistrationYear          Power      Kilometer  \\\n",
       "count  354364.000000     354364.000000  354364.000000  354364.000000   \n",
       "mean     4416.655608       2004.234471     110.093723  128211.373051   \n",
       "std      4514.159690         90.228593     189.851590   37905.136957   \n",
       "min         0.000000       1000.000000       0.000000    5000.000000   \n",
       "25%      1050.000000       1999.000000      69.000000  125000.000000   \n",
       "50%      2700.000000       2003.000000     105.000000  150000.000000   \n",
       "75%      6400.000000       2008.000000     143.000000  150000.000000   \n",
       "max     20000.000000       9999.000000   20000.000000  150000.000000   \n",
       "\n",
       "       RegistrationMonth  NumberOfPictures     PostalCode  \n",
       "count      354364.000000          354364.0  354364.000000  \n",
       "mean            5.714641               0.0   50508.461698  \n",
       "std             3.726433               0.0   25783.124276  \n",
       "min             0.000000               0.0    1067.000000  \n",
       "25%             3.000000               0.0   30165.000000  \n",
       "50%             6.000000               0.0   49409.500000  \n",
       "75%             9.000000               0.0   71083.000000  \n",
       "max            12.000000               0.0   99998.000000  "
      ]
     },
     "execution_count": 10,
     "metadata": {},
     "output_type": "execute_result"
    }
   ],
   "source": [
    "df.describe()"
   ]
  },
  {
   "cell_type": "markdown",
   "metadata": {},
   "source": [
    "Удалим лишние столбцы:"
   ]
  },
  {
   "cell_type": "code",
   "execution_count": 11,
   "metadata": {},
   "outputs": [],
   "source": [
    "orig_df = df.copy()\n",
    "df = df.drop([\"DateCrawled\",\"DateCreated\",\"LastSeen\",\"NumberOfPictures\",\"PostalCode\", \"RegistrationMonth\"],axis = 1)"
   ]
  },
  {
   "cell_type": "markdown",
   "metadata": {},
   "source": [
    "Можно заметить, что в столбце RegistrationYear присутствуют аномальные значения. Установим границы, в которых может находится значение этого столбца: актуальность базы - 2016 год. Объявления \"младше\" этой даты - ошибки. Сохраним только те машины, чей год регистрации находится в диапазоне с 1960 по 2016 гг.\n",
    "\n",
    "В Power присутствуют аномальные значения (20 000 лошадиных сил), ограничим их мощностью БелАЗ(а), т.е. 3500.\n",
    "\n",
    "Столбец Kilometer имеет достаточно реальные значения.\n",
    "\n",
    "Значения из столбца Price обладают высоким стандартным отклонением, что будет влиять на работу алгоритма.\n",
    "\n",
    "Такие признаки как NumberOfPictures и PostalCode не влияют на реальную стоимость автомобиля."
   ]
  },
  {
   "cell_type": "markdown",
   "metadata": {},
   "source": [
    "Обработаем выбросы и границы значений в упомянутых выше признаках:"
   ]
  },
  {
   "cell_type": "code",
   "execution_count": 12,
   "metadata": {},
   "outputs": [],
   "source": [
    "df = df.query('RegistrationYear >= 1960 and RegistrationYear <= 2016')\n",
    "df.loc[df['Power'] > 3500, 'Power'] = 3500"
   ]
  },
  {
   "cell_type": "code",
   "execution_count": 13,
   "metadata": {},
   "outputs": [],
   "source": [
    "def remove_emissions(df,column):\n",
    "    q25=np.array(df[column].quantile(0.25))\n",
    "    q75=np.array(df[column].quantile(0.75))\n",
    "    first_part=q25-1.5*(q75-q25)\n",
    "    second_part=q75+1.5*(q75-q25)\n",
    "    del_index = []\n",
    "    for index_value, value in zip(df[column].index,df[column]):\n",
    "        if second_part <= value or value <= first_part:\n",
    "            del_index.append(index_value)\n",
    "    \n",
    "    print('Количество строк, выбранных для удаления ' + str(column)+\":\",len(del_index))\n",
    "    return del_index"
   ]
  },
  {
   "cell_type": "code",
   "execution_count": 14,
   "metadata": {},
   "outputs": [
    {
     "name": "stdout",
     "output_type": "stream",
     "text": [
      "Количество строк, выбранных для удаления Price: 17405\n",
      "Количество строк, выбранных для удаления Power: 5764\n",
      "Было удалено: 23169\n"
     ]
    }
   ],
   "source": [
    "array_num_col = [\"Price\",\"Power\"]\n",
    "count = 0 \n",
    "for column in array_num_col:\n",
    "    index_del = remove_emissions(df,column)\n",
    "    count += len(index_del)\n",
    "    df = df.drop(index_del,axis = 0)\n",
    "print(\"Было удалено:\", count)"
   ]
  },
  {
   "cell_type": "code",
   "execution_count": 15,
   "metadata": {},
   "outputs": [
    {
     "data": {
      "text/plain": [
       "49866"
      ]
     },
     "execution_count": 15,
     "metadata": {},
     "output_type": "execute_result"
    }
   ],
   "source": [
    "df.duplicated().sum()"
   ]
  },
  {
   "cell_type": "code",
   "execution_count": 16,
   "metadata": {},
   "outputs": [
    {
     "data": {
      "text/plain": [
       "0"
      ]
     },
     "execution_count": 16,
     "metadata": {},
     "output_type": "execute_result"
    }
   ],
   "source": [
    "df = df.drop_duplicates()\n",
    "df.duplicated().sum()"
   ]
  },
  {
   "cell_type": "code",
   "execution_count": 17,
   "metadata": {},
   "outputs": [
    {
     "data": {
      "text/html": [
       "<div>\n",
       "<style scoped>\n",
       "    .dataframe tbody tr th:only-of-type {\n",
       "        vertical-align: middle;\n",
       "    }\n",
       "\n",
       "    .dataframe tbody tr th {\n",
       "        vertical-align: top;\n",
       "    }\n",
       "\n",
       "    .dataframe thead th {\n",
       "        text-align: right;\n",
       "    }\n",
       "</style>\n",
       "<table border=\"1\" class=\"dataframe\">\n",
       "  <thead>\n",
       "    <tr style=\"text-align: right;\">\n",
       "      <th></th>\n",
       "      <th>Price</th>\n",
       "      <th>RegistrationYear</th>\n",
       "      <th>Power</th>\n",
       "      <th>Kilometer</th>\n",
       "    </tr>\n",
       "  </thead>\n",
       "  <tbody>\n",
       "    <tr>\n",
       "      <th>Price</th>\n",
       "      <td>1.000000</td>\n",
       "      <td>0.438512</td>\n",
       "      <td>0.420075</td>\n",
       "      <td>-0.278994</td>\n",
       "    </tr>\n",
       "    <tr>\n",
       "      <th>RegistrationYear</th>\n",
       "      <td>0.438512</td>\n",
       "      <td>1.000000</td>\n",
       "      <td>0.131584</td>\n",
       "      <td>-0.175357</td>\n",
       "    </tr>\n",
       "    <tr>\n",
       "      <th>Power</th>\n",
       "      <td>0.420075</td>\n",
       "      <td>0.131584</td>\n",
       "      <td>1.000000</td>\n",
       "      <td>0.149844</td>\n",
       "    </tr>\n",
       "    <tr>\n",
       "      <th>Kilometer</th>\n",
       "      <td>-0.278994</td>\n",
       "      <td>-0.175357</td>\n",
       "      <td>0.149844</td>\n",
       "      <td>1.000000</td>\n",
       "    </tr>\n",
       "  </tbody>\n",
       "</table>\n",
       "</div>"
      ],
      "text/plain": [
       "                     Price  RegistrationYear     Power  Kilometer\n",
       "Price             1.000000          0.438512  0.420075  -0.278994\n",
       "RegistrationYear  0.438512          1.000000  0.131584  -0.175357\n",
       "Power             0.420075          0.131584  1.000000   0.149844\n",
       "Kilometer        -0.278994         -0.175357  0.149844   1.000000"
      ]
     },
     "execution_count": 17,
     "metadata": {},
     "output_type": "execute_result"
    }
   ],
   "source": [
    "df.corr()"
   ]
  },
  {
   "cell_type": "markdown",
   "metadata": {},
   "source": [
    "Наиболее коррелирующим с целевым признаком является признак отвечающий за мощность."
   ]
  },
  {
   "cell_type": "markdown",
   "metadata": {},
   "source": [
    "## Обучение моделей"
   ]
  },
  {
   "cell_type": "markdown",
   "metadata": {},
   "source": [
    "Разделим и закодируем выборки:"
   ]
  },
  {
   "cell_type": "code",
   "execution_count": 18,
   "metadata": {},
   "outputs": [],
   "source": [
    "var_numeric = ['RegistrationYear', 'Power', 'Kilometer']\n",
    "var_categorical = ['VehicleType', 'FuelType', 'Gearbox', 'Repaired']\n",
    "var_me = ['Model', 'Brand']"
   ]
  },
  {
   "cell_type": "code",
   "execution_count": 19,
   "metadata": {},
   "outputs": [
    {
     "name": "stdout",
     "output_type": "stream",
     "text": [
      "(159826, 9) (53275, 9) (53276, 9)\n",
      "(159826,) (53275,) (53276,)\n"
     ]
    }
   ],
   "source": [
    "df_light = df.copy()\n",
    "df_light = df_light.astype({\"VehicleType\":'category',\n",
    "                                  \"Gearbox\":'category',\n",
    "                                  \"Model\":'category',\n",
    "                                  \"FuelType\":'category',\n",
    "                                  \"Brand\":'category',\n",
    "                                  \"Repaired\":'category'})\n",
    "target_light = df_light['Price']\n",
    "features_light = df_light.drop('Price', axis=1)\n",
    "\n",
    "features_train_light, features_val, target_train_light, target_val = train_test_split(features_light, target_light, test_size=0.4, \n",
    "                                                                              random_state=42)\n",
    "features_valid_light, features_test_light, target_valid_light, target_test_light = train_test_split(features_val, target_val, test_size=0.5, \n",
    "                                                                              random_state=42)\n",
    "\n",
    "print(features_train_light.shape, features_valid_light.shape, features_test_light.shape)\n",
    "print(target_train_light.shape, target_valid_light.shape, target_test_light.shape)"
   ]
  },
  {
   "cell_type": "code",
   "execution_count": 20,
   "metadata": {},
   "outputs": [
    {
     "name": "stderr",
     "output_type": "stream",
     "text": [
      "<ipython-input-20-3fa5ccec14fa>:12: SettingWithCopyWarning: \n",
      "A value is trying to be set on a copy of a slice from a DataFrame.\n",
      "Try using .loc[row_indexer,col_indexer] = value instead\n",
      "\n",
      "See the caveats in the documentation: https://pandas.pydata.org/pandas-docs/stable/user_guide/indexing.html#returning-a-view-versus-a-copy\n",
      "  features_train[var_numeric] = scaler.fit_transform(features_train[var_numeric])\n",
      "C:\\Users\\js\\anaconda3\\lib\\site-packages\\pandas\\core\\indexing.py:1738: SettingWithCopyWarning: \n",
      "A value is trying to be set on a copy of a slice from a DataFrame.\n",
      "Try using .loc[row_indexer,col_indexer] = value instead\n",
      "\n",
      "See the caveats in the documentation: https://pandas.pydata.org/pandas-docs/stable/user_guide/indexing.html#returning-a-view-versus-a-copy\n",
      "  self._setitem_single_column(loc, value[:, i].tolist(), pi)\n",
      "C:\\Users\\js\\anaconda3\\lib\\site-packages\\pandas\\core\\frame.py:3191: SettingWithCopyWarning: \n",
      "A value is trying to be set on a copy of a slice from a DataFrame.\n",
      "Try using .loc[row_indexer,col_indexer] = value instead\n",
      "\n",
      "See the caveats in the documentation: https://pandas.pydata.org/pandas-docs/stable/user_guide/indexing.html#returning-a-view-versus-a-copy\n",
      "  self[k1] = value[k2]\n"
     ]
    },
    {
     "name": "stdout",
     "output_type": "stream",
     "text": [
      "(159826, 627) (53275, 627) (53276, 627)\n",
      "(159826,) (53275,) (53276,)\n"
     ]
    }
   ],
   "source": [
    "target = df['Price']\n",
    "features = df.drop('Price', axis=1)\n",
    "\n",
    "\n",
    "features_train, features_valid, target_train, target_valid = train_test_split(features, target, test_size=0.4, \n",
    "                                                                              random_state=42)\n",
    "features_valid, features_test, target_valid, target_test = train_test_split(features_valid, target_valid, test_size=0.5, \n",
    "                                                                              random_state=42)\n",
    "\n",
    "\n",
    "scaler = StandardScaler(with_mean=False)\n",
    "features_train[var_numeric] = scaler.fit_transform(features_train[var_numeric])\n",
    "features_valid[var_numeric] = scaler.transform(features_valid[var_numeric])\n",
    "features_test[var_numeric] = scaler.transform(features_test[var_numeric])\n",
    "\n",
    "enc = ce.MEstimateEncoder()\n",
    "features_train[var_me] = enc.fit_transform(features_train[var_me], target_train)\n",
    "features_valid[var_me] = enc.transform(features_valid[var_me])\n",
    "features_test[var_me] = enc.transform(features_test[var_me])\n",
    "\n",
    "encoder = OneHotEncoder(handle_unknown=\"ignore\")\n",
    "features_train = encoder.fit_transform(features_train, target)\n",
    "features_valid = encoder.transform(features_valid)\n",
    "features_test = encoder.transform(features_test)\n",
    "\n",
    "\n",
    "\n",
    "print(features_train.shape, features_valid.shape, features_test.shape)\n",
    "print(target_train.shape, target_valid.shape, target_test.shape)"
   ]
  },
  {
   "cell_type": "code",
   "execution_count": null,
   "metadata": {},
   "outputs": [],
   "source": []
  },
  {
   "cell_type": "markdown",
   "metadata": {},
   "source": [
    "Обучим модели:"
   ]
  },
  {
   "cell_type": "code",
   "execution_count": 21,
   "metadata": {},
   "outputs": [
    {
     "name": "stdout",
     "output_type": "stream",
     "text": [
      "[LightGBM] [Warning] Accuracy may be bad since you didn't explicitly set num_leaves OR 2^max_depth > num_leaves. (num_leaves=31).\n",
      "[LightGBM] [Warning] Accuracy may be bad since you didn't explicitly set num_leaves OR 2^max_depth > num_leaves. (num_leaves=31).\n",
      "[LightGBM] [Warning] Auto-choosing row-wise multi-threading, the overhead of testing was 0.005748 seconds.\n",
      "You can set `force_row_wise=true` to remove the overhead.\n",
      "And if memory is not enough, you can set `force_col_wise=true`.\n",
      "[LightGBM] [Info] Total Bins 621\n",
      "[LightGBM] [Info] Number of data points in the train set: 159826, number of used features: 9\n",
      "[LightGBM] [Warning] Accuracy may be bad since you didn't explicitly set num_leaves OR 2^max_depth > num_leaves. (num_leaves=31).\n",
      "[LightGBM] [Info] Start training from score 3800.007915\n"
     ]
    },
    {
     "name": "stderr",
     "output_type": "stream",
     "text": [
      "C:\\Users\\js\\anaconda3\\lib\\site-packages\\lightgbm\\basic.py:1433: UserWarning: Overriding the parameters from Reference Dataset.\n",
      "  _log_warning('Overriding the parameters from Reference Dataset.')\n",
      "C:\\Users\\js\\anaconda3\\lib\\site-packages\\lightgbm\\basic.py:1245: UserWarning: categorical_column in param dict is overridden.\n",
      "  _log_warning('{} in param dict is overridden.'.format(cat_alias))\n"
     ]
    },
    {
     "name": "stdout",
     "output_type": "stream",
     "text": [
      "[100]\ttraining's l2: 2.03331e+06\tvalid_1's l2: 2.21252e+06\n",
      "[200]\ttraining's l2: 1.90046e+06\tvalid_1's l2: 2.14991e+06\n",
      "[300]\ttraining's l2: 1.82295e+06\tvalid_1's l2: 2.12989e+06\n",
      "[400]\ttraining's l2: 1.76485e+06\tvalid_1's l2: 2.11546e+06\n",
      "[500]\ttraining's l2: 1.7166e+06\tvalid_1's l2: 2.10701e+06\n",
      "[600]\ttraining's l2: 1.67359e+06\tvalid_1's l2: 2.09996e+06\n",
      "[700]\ttraining's l2: 1.64075e+06\tvalid_1's l2: 2.09629e+06\n",
      "[800]\ttraining's l2: 1.61082e+06\tvalid_1's l2: 2.09257e+06\n",
      "[900]\ttraining's l2: 1.58649e+06\tvalid_1's l2: 2.09057e+06\n",
      "[1000]\ttraining's l2: 1.56201e+06\tvalid_1's l2: 2.08722e+06\n",
      "Wall time: 3.34 s\n"
     ]
    }
   ],
   "source": [
    "%%time\n",
    "# LightGBM\n",
    "lgb_train = lgb.Dataset(features_train_light, target_train_light)\n",
    "lgb_valid = lgb.Dataset(features_valid_light, target_valid_light, reference=lgb_train)\n",
    "parameters_light = {'metric': 'l2', 'max_depth':10,\"random_state\": 42,\"learning_rate\":0.1}\n",
    "light = lgb.train(parameters_light,\n",
    "                lgb_train,\n",
    "                num_boost_round=1000,\n",
    "                valid_sets=[lgb_train, lgb_valid],\n",
    "                verbose_eval=100)"
   ]
  },
  {
   "cell_type": "code",
   "execution_count": 22,
   "metadata": {},
   "outputs": [
    {
     "name": "stdout",
     "output_type": "stream",
     "text": [
      "RMSE LightGBM на валидационной выборке: 1444.72\n"
     ]
    }
   ],
   "source": [
    "rmse_lgb = mean_squared_error(target_valid_light, light.predict(features_valid_light), squared=False)\n",
    "print(\"RMSE LightGBM на валидационной выборке: %.2f\" % rmse_lgb)"
   ]
  },
  {
   "cell_type": "code",
   "execution_count": 23,
   "metadata": {},
   "outputs": [
    {
     "name": "stdout",
     "output_type": "stream",
     "text": [
      "0:\tlearn: 3304.2287771\ttest: 3279.3465755\tbest: 3279.3465755 (0)\ttotal: 415ms\tremaining: 6m 54s\n",
      "100:\tlearn: 1444.3063374\ttest: 1509.4948993\tbest: 1509.4948993 (100)\ttotal: 20.4s\tremaining: 3m 1s\n",
      "200:\tlearn: 1378.0276733\ttest: 1480.6692376\tbest: 1480.6599557 (199)\ttotal: 40.8s\tremaining: 2m 42s\n",
      "300:\tlearn: 1338.1391028\ttest: 1470.8549227\tbest: 1470.8549227 (300)\ttotal: 1m 3s\tremaining: 2m 26s\n",
      "400:\tlearn: 1311.1080941\ttest: 1466.0434978\tbest: 1466.0434978 (400)\ttotal: 1m 25s\tremaining: 2m 8s\n",
      "500:\tlearn: 1288.4823117\ttest: 1462.6472549\tbest: 1462.6472549 (500)\ttotal: 1m 48s\tremaining: 1m 48s\n",
      "600:\tlearn: 1268.3477187\ttest: 1460.2414305\tbest: 1460.1852637 (599)\ttotal: 2m 14s\tremaining: 1m 29s\n",
      "700:\tlearn: 1252.1492478\ttest: 1458.9775287\tbest: 1458.9716831 (699)\ttotal: 2m 40s\tremaining: 1m 8s\n",
      "800:\tlearn: 1237.5464308\ttest: 1457.5272681\tbest: 1457.5230506 (798)\ttotal: 3m 7s\tremaining: 46.5s\n",
      "900:\tlearn: 1222.0439891\ttest: 1456.0677912\tbest: 1456.0677912 (900)\ttotal: 3m 34s\tremaining: 23.6s\n",
      "999:\tlearn: 1209.1575563\ttest: 1455.7443262\tbest: 1455.6713873 (997)\ttotal: 4m\tremaining: 0us\n",
      "\n",
      "bestTest = 1455.671387\n",
      "bestIteration = 997\n",
      "\n",
      "Shrink model to first 998 iterations.\n",
      "Wall time: 4min 2s\n"
     ]
    },
    {
     "data": {
      "text/plain": [
       "<catboost.core.CatBoostRegressor at 0x216d9bee790>"
      ]
     },
     "execution_count": 23,
     "metadata": {},
     "output_type": "execute_result"
    }
   ],
   "source": [
    "%%time\n",
    "#CatBoost\n",
    "catboost = CatBoostRegressor(learning_rate=0.1, depth=10,\n",
    "                                   loss_function='RMSE',\n",
    "                                   random_state=42)\n",
    "\n",
    "catboost.fit(features_train_light, target_train_light, eval_set=(features_valid_light, target_valid_light), cat_features=[\"VehicleType\",\"Gearbox\",\n",
    "                                                             \"Model\",\"FuelType\",\n",
    "                                                             \"Brand\",\"Repaired\"], verbose=100, early_stopping_rounds=50)\n"
   ]
  },
  {
   "cell_type": "code",
   "execution_count": 24,
   "metadata": {},
   "outputs": [
    {
     "name": "stdout",
     "output_type": "stream",
     "text": [
      "RMSE CatBoostRegressor на валидационной выборке: 1455.67\n"
     ]
    }
   ],
   "source": [
    "rmse_catboost = mean_squared_error(target_valid_light, catboost.predict(features_valid_light), squared=False)\n",
    "print(\"RMSE CatBoostRegressor на валидационной выборке: %.2f\" % rmse_catboost)"
   ]
  },
  {
   "cell_type": "code",
   "execution_count": 25,
   "metadata": {},
   "outputs": [
    {
     "name": "stdout",
     "output_type": "stream",
     "text": [
      "Wall time: 17min 42s\n"
     ]
    },
    {
     "data": {
      "text/plain": [
       "RandomForestRegressor(n_jobs=-1, random_state=42)"
      ]
     },
     "execution_count": 25,
     "metadata": {},
     "output_type": "execute_result"
    }
   ],
   "source": [
    "%%time\n",
    "# RandomForest\n",
    "RF = RandomForestRegressor(criterion = \"mse\",random_state=42,n_estimators = 100,n_jobs=-1)\n",
    "RF.fit(features_train,target_train)"
   ]
  },
  {
   "cell_type": "code",
   "execution_count": 26,
   "metadata": {},
   "outputs": [
    {
     "name": "stdout",
     "output_type": "stream",
     "text": [
      "RMSE RandomForestRegressor на валидационной выборке: 1600.90\n"
     ]
    }
   ],
   "source": [
    "rmse_forest = mean_squared_error(target_valid, RF.predict(features_valid), squared=False)\n",
    "print(\"RMSE RandomForestRegressor на валидационной выборке: %.2f\" % rmse_forest)\n"
   ]
  },
  {
   "cell_type": "markdown",
   "metadata": {},
   "source": [
    "Посчитаем ошибку для каждой модели на тестовой выборке и определим время предсказаний:"
   ]
  },
  {
   "cell_type": "code",
   "execution_count": 27,
   "metadata": {},
   "outputs": [
    {
     "name": "stdout",
     "output_type": "stream",
     "text": [
      "LightGBM: 1445.9829057027985\n",
      "Wall time: 1.77 s\n"
     ]
    }
   ],
   "source": [
    "%%time\n",
    "print(\"LightGBM:\",(mean_squared_error(target_test_light,light.predict(features_test_light),squared=False)))"
   ]
  },
  {
   "cell_type": "code",
   "execution_count": 28,
   "metadata": {},
   "outputs": [
    {
     "name": "stdout",
     "output_type": "stream",
     "text": [
      "CatBoost: 1448.8608042202675\n",
      "Wall time: 1.07 s\n"
     ]
    }
   ],
   "source": [
    "%%time\n",
    "print(\"CatBoost:\",mean_squared_error(target_test_light,catboost.predict(features_test_light),squared=False))"
   ]
  },
  {
   "cell_type": "code",
   "execution_count": 29,
   "metadata": {},
   "outputs": [
    {
     "name": "stdout",
     "output_type": "stream",
     "text": [
      "RandomForest: 1600.900704270407\n",
      "Wall time: 1.7 s\n"
     ]
    }
   ],
   "source": [
    "%%time\n",
    "print(\"RandomForest:\",mean_squared_error(target_test,RF.predict(features_test),squared=False))"
   ]
  },
  {
   "cell_type": "markdown",
   "metadata": {},
   "source": [
    "## Анализ моделей"
   ]
  },
  {
   "cell_type": "markdown",
   "metadata": {},
   "source": [
    "В условии указано, что решающим факторами при выборе модели являются следующие показатели:\n",
    "\n",
    "Время обучения\n",
    "Время предсказания\n",
    "Качество предсказаний\n",
    "\n",
    "В ходе работы получили следующие результаты:\n",
    "\n",
    "- быстрее всего обучилась модель LightGBM с показателем 3.34 s(на обучение рандомного леса ушло 17min 42s, CatBoost - 4min 2s);\n",
    "- время предсказания меньше всего у модели CatBoost (1.07), модель RandomForest по этому показателю LightGBM и RandomForest сработали почти одинаково (1.77 и 1.7 s);\n",
    "- наименьшую ошибку выдает LightGBM (1445.983), разрыв с CatBoost небольшой (1448.86), RandomForest справилась хуже всего.\n",
    "\n",
    "Основываясь на данных признаках мы можем убрать из сравнения RandomForest, так как и время ее обучения, и качество уступает двум другим моделям. \n",
    "\n",
    "Разница предсказания в 70 ms не критична, а в работе модели всегда важна точность предсказания. \n",
    "Основываясь на этом, можно сделать вывод, что заказчику лучше всего подойдет модель построенная на LightGBM."
   ]
  },
  {
   "cell_type": "code",
   "execution_count": null,
   "metadata": {},
   "outputs": [],
   "source": []
  }
 ],
 "metadata": {
  "ExecuteTimeLog": [
   {
    "duration": 51,
    "start_time": "2023-07-24T09:34:28.343Z"
   },
   {
    "duration": 2587,
    "start_time": "2023-07-24T09:34:33.559Z"
   },
   {
    "duration": 1083,
    "start_time": "2023-07-24T09:34:37.493Z"
   },
   {
    "duration": 22,
    "start_time": "2023-07-24T09:34:54.296Z"
   },
   {
    "duration": 118,
    "start_time": "2023-07-24T09:35:12.357Z"
   },
   {
    "duration": 9876,
    "start_time": "2023-07-24T09:38:43.701Z"
   },
   {
    "duration": 135,
    "start_time": "2023-07-24T09:39:36.957Z"
   },
   {
    "duration": 9,
    "start_time": "2023-07-24T09:39:43.847Z"
   },
   {
    "duration": 127,
    "start_time": "2023-07-24T09:39:54.642Z"
   },
   {
    "duration": 405,
    "start_time": "2023-07-24T09:40:53.986Z"
   },
   {
    "duration": 820,
    "start_time": "2023-07-24T09:41:13.356Z"
   },
   {
    "duration": 109,
    "start_time": "2023-07-24T09:41:33.788Z"
   },
   {
    "duration": 79,
    "start_time": "2023-07-24T09:42:57.491Z"
   },
   {
    "duration": 124,
    "start_time": "2023-07-24T09:55:00.423Z"
   },
   {
    "duration": 128,
    "start_time": "2023-07-24T09:55:15.226Z"
   },
   {
    "duration": 5,
    "start_time": "2023-07-24T09:55:18.346Z"
   },
   {
    "duration": 10,
    "start_time": "2023-07-24T09:55:20.325Z"
   },
   {
    "duration": 481,
    "start_time": "2023-07-24T09:55:27.963Z"
   },
   {
    "duration": 45,
    "start_time": "2023-07-24T09:57:39.821Z"
   },
   {
    "duration": 10,
    "start_time": "2023-07-24T10:03:17.659Z"
   },
   {
    "duration": 570,
    "start_time": "2023-07-24T10:03:25.323Z"
   },
   {
    "duration": 542,
    "start_time": "2023-07-24T10:03:26.179Z"
   },
   {
    "duration": 256,
    "start_time": "2023-07-24T10:03:57.842Z"
   },
   {
    "duration": 173542,
    "start_time": "2023-07-24T10:04:10.996Z"
   },
   {
    "duration": 554,
    "start_time": "2023-07-24T10:10:49.659Z"
   },
   {
    "duration": 18,
    "start_time": "2023-07-24T10:13:04.644Z"
   },
   {
    "duration": 524,
    "start_time": "2023-07-24T10:14:10.017Z"
   },
   {
    "duration": 9,
    "start_time": "2023-07-24T10:14:15.988Z"
   },
   {
    "duration": 678,
    "start_time": "2023-07-24T10:15:08.019Z"
   },
   {
    "duration": 511,
    "start_time": "2023-07-24T10:15:10.963Z"
   },
   {
    "duration": 249,
    "start_time": "2023-07-24T10:15:14.518Z"
   },
   {
    "duration": 4006084,
    "start_time": "2023-07-24T10:15:23.878Z"
   },
   {
    "duration": 3,
    "start_time": "2023-07-24T11:22:09.964Z"
   },
   {
    "duration": 481984,
    "start_time": "2023-07-24T11:23:12.998Z"
   },
   {
    "duration": 512915,
    "start_time": "2023-07-24T11:36:49.492Z"
   },
   {
    "duration": 1263,
    "start_time": "2023-07-24T11:51:09.737Z"
   },
   {
    "duration": 4813,
    "start_time": "2023-07-24T11:51:11.002Z"
   },
   {
    "duration": 370,
    "start_time": "2023-07-24T11:51:15.817Z"
   },
   {
    "duration": 2105,
    "start_time": "2023-07-24T12:20:18.650Z"
   },
   {
    "duration": 890,
    "start_time": "2023-07-24T12:20:20.757Z"
   },
   {
    "duration": 15,
    "start_time": "2023-07-24T12:20:21.649Z"
   },
   {
    "duration": 145,
    "start_time": "2023-07-24T12:20:21.666Z"
   },
   {
    "duration": 264,
    "start_time": "2023-07-24T12:20:21.813Z"
   },
   {
    "duration": 179,
    "start_time": "2023-07-24T12:20:22.080Z"
   },
   {
    "duration": 466,
    "start_time": "2023-07-24T12:20:22.260Z"
   },
   {
    "duration": 916,
    "start_time": "2023-07-24T12:20:22.728Z"
   },
   {
    "duration": 118,
    "start_time": "2023-07-24T12:20:23.647Z"
   },
   {
    "duration": 90,
    "start_time": "2023-07-24T12:20:23.768Z"
   },
   {
    "duration": 130,
    "start_time": "2023-07-24T12:20:23.859Z"
   },
   {
    "duration": 14,
    "start_time": "2023-07-24T12:20:23.990Z"
   },
   {
    "duration": 567,
    "start_time": "2023-07-24T12:20:24.005Z"
   },
   {
    "duration": 63,
    "start_time": "2023-07-24T12:20:24.574Z"
   },
   {
    "duration": 749,
    "start_time": "2023-07-24T12:20:24.639Z"
   },
   {
    "duration": 495,
    "start_time": "2023-07-24T12:20:25.390Z"
   },
   {
    "duration": 4,
    "start_time": "2023-07-24T12:20:25.886Z"
   },
   {
    "duration": 87,
    "start_time": "2023-07-24T12:20:25.891Z"
   },
   {
    "duration": 92,
    "start_time": "2023-07-24T12:20:25.979Z"
   },
   {
    "duration": 520513,
    "start_time": "2023-07-24T12:20:26.073Z"
   },
   {
    "duration": 3478220,
    "start_time": "2023-07-24T12:29:06.587Z"
   },
   {
    "duration": 241,
    "start_time": "2023-07-24T13:27:04.808Z"
   },
   {
    "duration": 4577,
    "start_time": "2023-07-24T13:27:05.050Z"
   },
   {
    "duration": 6795,
    "start_time": "2023-07-24T13:27:09.628Z"
   },
   {
    "duration": 210,
    "start_time": "2023-07-24T15:10:23.467Z"
   },
   {
    "duration": 13550,
    "start_time": "2023-07-24T15:10:53.445Z"
   },
   {
    "duration": 1680,
    "start_time": "2023-07-25T16:41:36.556Z"
   },
   {
    "duration": 3171,
    "start_time": "2023-07-25T16:41:38.238Z"
   },
   {
    "duration": 18,
    "start_time": "2023-07-25T16:41:41.411Z"
   },
   {
    "duration": 118,
    "start_time": "2023-07-25T16:41:41.431Z"
   },
   {
    "duration": 159,
    "start_time": "2023-07-25T16:41:41.550Z"
   },
   {
    "duration": 141,
    "start_time": "2023-07-25T16:41:41.710Z"
   },
   {
    "duration": 470,
    "start_time": "2023-07-25T16:41:41.856Z"
   },
   {
    "duration": 939,
    "start_time": "2023-07-25T16:41:42.328Z"
   },
   {
    "duration": 108,
    "start_time": "2023-07-25T16:41:43.277Z"
   },
   {
    "duration": 83,
    "start_time": "2023-07-25T16:41:43.388Z"
   },
   {
    "duration": 306,
    "start_time": "2023-07-25T16:41:43.476Z"
   },
   {
    "duration": 5,
    "start_time": "2023-07-25T16:41:43.786Z"
   },
   {
    "duration": 510,
    "start_time": "2023-07-25T16:41:43.792Z"
   },
   {
    "duration": 42,
    "start_time": "2023-07-25T16:41:44.303Z"
   },
   {
    "duration": 1159,
    "start_time": "2023-07-25T16:41:44.359Z"
   },
   {
    "duration": 682,
    "start_time": "2023-07-25T16:41:45.520Z"
   },
   {
    "duration": 4,
    "start_time": "2023-07-25T16:41:46.204Z"
   },
   {
    "duration": 4,
    "start_time": "2023-07-25T16:41:46.210Z"
   },
   {
    "duration": 6,
    "start_time": "2023-07-25T16:41:46.216Z"
   },
   {
    "duration": 675938,
    "start_time": "2023-07-25T16:41:46.224Z"
   }
  ],
  "kernelspec": {
   "display_name": "Python 3",
   "language": "python",
   "name": "python3"
  },
  "language_info": {
   "codemirror_mode": {
    "name": "ipython",
    "version": 3
   },
   "file_extension": ".py",
   "mimetype": "text/x-python",
   "name": "python",
   "nbconvert_exporter": "python",
   "pygments_lexer": "ipython3",
   "version": "3.8.8"
  },
  "toc": {
   "base_numbering": 1,
   "nav_menu": {},
   "number_sections": true,
   "sideBar": true,
   "skip_h1_title": true,
   "title_cell": "Table of Contents",
   "title_sidebar": "Contents",
   "toc_cell": false,
   "toc_position": {},
   "toc_section_display": true,
   "toc_window_display": true
  }
 },
 "nbformat": 4,
 "nbformat_minor": 2
}
