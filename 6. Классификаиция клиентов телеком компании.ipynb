{
 "cells": [
  {
   "cell_type": "markdown",
   "metadata": {},
   "source": [
    "# Классификаиция клиентов телеком компании"
   ]
  },
  {
   "cell_type": "markdown",
   "metadata": {},
   "source": [
    "В вашем распоряжении данные о поведении клиентов, которые уже перешли на эти тарифы (из проекта курса «Статистический анализ данных»). Нужно построить модель для задачи классификации, которая выберет подходящий тариф. Предобработка данных не понадобится — вы её уже сделали.\n",
    "\n",
    "Постройте модель с максимально большим значением *accuracy*. Чтобы сдать проект успешно, нужно довести долю правильных ответов по крайней мере до 0.75. Проверьте *accuracy* на тестовой выборке самостоятельно."
   ]
  },
  {
   "cell_type": "markdown",
   "metadata": {},
   "source": [
    "## Откройте и изучите файл"
   ]
  },
  {
   "cell_type": "markdown",
   "metadata": {},
   "source": [
    "### Подключение необходимых библиотек."
   ]
  },
  {
   "cell_type": "code",
   "execution_count": 1,
   "metadata": {},
   "outputs": [],
   "source": [
    "import pandas as pd\n",
    "from sklearn.model_selection import train_test_split\n",
    "from sklearn.tree import DecisionTreeClassifier \n",
    "from sklearn.ensemble import RandomForestClassifier\n",
    "from sklearn.linear_model import LogisticRegression\n",
    "from sklearn.metrics import accuracy_score\n",
    "from sklearn.metrics import precision_score\n",
    "from sklearn.metrics import recall_score\n",
    "from sklearn.metrics import f1_score\n",
    "import warnings\n",
    "warnings.filterwarnings('ignore')"
   ]
  },
  {
   "cell_type": "markdown",
   "metadata": {},
   "source": [
    "### Открытие и изучение данных."
   ]
  },
  {
   "cell_type": "code",
   "execution_count": 2,
   "metadata": {},
   "outputs": [],
   "source": [
    "df = pd.read_csv('/datasets/users_behavior.csv')"
   ]
  },
  {
   "cell_type": "code",
   "execution_count": 3,
   "metadata": {},
   "outputs": [
    {
     "data": {
      "text/html": [
       "<div>\n",
       "<style scoped>\n",
       "    .dataframe tbody tr th:only-of-type {\n",
       "        vertical-align: middle;\n",
       "    }\n",
       "\n",
       "    .dataframe tbody tr th {\n",
       "        vertical-align: top;\n",
       "    }\n",
       "\n",
       "    .dataframe thead th {\n",
       "        text-align: right;\n",
       "    }\n",
       "</style>\n",
       "<table border=\"1\" class=\"dataframe\">\n",
       "  <thead>\n",
       "    <tr style=\"text-align: right;\">\n",
       "      <th></th>\n",
       "      <th>calls</th>\n",
       "      <th>minutes</th>\n",
       "      <th>messages</th>\n",
       "      <th>mb_used</th>\n",
       "      <th>is_ultra</th>\n",
       "    </tr>\n",
       "  </thead>\n",
       "  <tbody>\n",
       "    <tr>\n",
       "      <th>0</th>\n",
       "      <td>40.0</td>\n",
       "      <td>311.90</td>\n",
       "      <td>83.0</td>\n",
       "      <td>19915.42</td>\n",
       "      <td>0</td>\n",
       "    </tr>\n",
       "    <tr>\n",
       "      <th>1</th>\n",
       "      <td>85.0</td>\n",
       "      <td>516.75</td>\n",
       "      <td>56.0</td>\n",
       "      <td>22696.96</td>\n",
       "      <td>0</td>\n",
       "    </tr>\n",
       "    <tr>\n",
       "      <th>2</th>\n",
       "      <td>77.0</td>\n",
       "      <td>467.66</td>\n",
       "      <td>86.0</td>\n",
       "      <td>21060.45</td>\n",
       "      <td>0</td>\n",
       "    </tr>\n",
       "    <tr>\n",
       "      <th>3</th>\n",
       "      <td>106.0</td>\n",
       "      <td>745.53</td>\n",
       "      <td>81.0</td>\n",
       "      <td>8437.39</td>\n",
       "      <td>1</td>\n",
       "    </tr>\n",
       "    <tr>\n",
       "      <th>4</th>\n",
       "      <td>66.0</td>\n",
       "      <td>418.74</td>\n",
       "      <td>1.0</td>\n",
       "      <td>14502.75</td>\n",
       "      <td>0</td>\n",
       "    </tr>\n",
       "  </tbody>\n",
       "</table>\n",
       "</div>"
      ],
      "text/plain": [
       "   calls  minutes  messages   mb_used  is_ultra\n",
       "0   40.0   311.90      83.0  19915.42         0\n",
       "1   85.0   516.75      56.0  22696.96         0\n",
       "2   77.0   467.66      86.0  21060.45         0\n",
       "3  106.0   745.53      81.0   8437.39         1\n",
       "4   66.0   418.74       1.0  14502.75         0"
      ]
     },
     "execution_count": 3,
     "metadata": {},
     "output_type": "execute_result"
    }
   ],
   "source": [
    "df.head()"
   ]
  },
  {
   "cell_type": "code",
   "execution_count": 4,
   "metadata": {},
   "outputs": [
    {
     "name": "stdout",
     "output_type": "stream",
     "text": [
      "<class 'pandas.core.frame.DataFrame'>\n",
      "RangeIndex: 3214 entries, 0 to 3213\n",
      "Data columns (total 5 columns):\n",
      " #   Column    Non-Null Count  Dtype  \n",
      "---  ------    --------------  -----  \n",
      " 0   calls     3214 non-null   float64\n",
      " 1   minutes   3214 non-null   float64\n",
      " 2   messages  3214 non-null   float64\n",
      " 3   mb_used   3214 non-null   float64\n",
      " 4   is_ultra  3214 non-null   int64  \n",
      "dtypes: float64(4), int64(1)\n",
      "memory usage: 125.7 KB\n"
     ]
    }
   ],
   "source": [
    "df.info()"
   ]
  },
  {
   "cell_type": "code",
   "execution_count": 5,
   "metadata": {},
   "outputs": [
    {
     "data": {
      "text/plain": [
       "0    2229\n",
       "1     985\n",
       "Name: is_ultra, dtype: int64"
      ]
     },
     "execution_count": 5,
     "metadata": {},
     "output_type": "execute_result"
    }
   ],
   "source": [
    "df['is_ultra'].value_counts()"
   ]
  },
  {
   "cell_type": "markdown",
   "metadata": {},
   "source": [
    "### Вывод по шагу 1.\n",
    "Перед нами стоит задача классификации. За целевой признак берем столбец is_ultra. \n"
   ]
  },
  {
   "cell_type": "markdown",
   "metadata": {},
   "source": [
    "## Разбейте данные на выборки"
   ]
  },
  {
   "cell_type": "code",
   "execution_count": 6,
   "metadata": {},
   "outputs": [
    {
     "name": "stdout",
     "output_type": "stream",
     "text": [
      "Размер обучающей выборки: 1928\n",
      "Размер валидационной выборки: 643\n",
      "Размер тестовой выборки: 643\n"
     ]
    }
   ],
   "source": [
    "train_df, other_df = train_test_split(df, test_size=0.40, random_state=12345, stratify=df['is_ultra'])\n",
    "valid_df, test_df = train_test_split(other_df, test_size=0.50, random_state=12345)\n",
    "\n",
    "print('Размер обучающей выборки:', train_df.shape[0])\n",
    "print('Размер валидационной выборки:', valid_df.shape[0])\n",
    "print('Размер тестовой выборки:', test_df.shape[0])"
   ]
  },
  {
   "cell_type": "markdown",
   "metadata": {},
   "source": [
    "### Вывод по шагу 2.\n",
    "Данные были разбиты по принципу 60/20/20.\n",
    "\n",
    "- Обучение пройдет на данных train_df.\n",
    "- Валидация модели на данных valid_df.\n",
    "- Лучшая модель по валидации будет применена на данных test_df."
   ]
  },
  {
   "cell_type": "markdown",
   "metadata": {},
   "source": [
    "## Исследуйте модели"
   ]
  },
  {
   "cell_type": "markdown",
   "metadata": {},
   "source": [
    "### Определение признаков и целевого признака."
   ]
  },
  {
   "cell_type": "code",
   "execution_count": 7,
   "metadata": {},
   "outputs": [],
   "source": [
    "train_df_features = train_df.drop(['is_ultra'], axis=1)\n",
    "train_df_target = train_df['is_ultra']\n",
    "valid_df_features = valid_df.drop(['is_ultra'], axis=1)\n",
    "valid_df_target = valid_df['is_ultra']\n",
    "test_df_features = test_df.drop(['is_ultra'], axis=1)\n",
    "test_df_target = test_df['is_ultra']"
   ]
  },
  {
   "cell_type": "markdown",
   "metadata": {},
   "source": [
    "### Дерево решений. Настройка гиперпараметров."
   ]
  },
  {
   "cell_type": "code",
   "execution_count": 8,
   "metadata": {},
   "outputs": [
    {
     "name": "stdout",
     "output_type": "stream",
     "text": [
      "Лучшая глубина дерева: 5\n",
      "Лучшая точность: 0.8055987558320373\n"
     ]
    }
   ],
   "source": [
    "best_depth = 0\n",
    "best_accuracy = 0\n",
    "\n",
    "for depth in range(1,101):\n",
    "    model = DecisionTreeClassifier(random_state=12345, max_depth=depth)\n",
    "    model.fit(train_df_features, train_df_target)\n",
    "    valid_predictions = model.predict(valid_df_features)\n",
    "    accuracy = accuracy_score(valid_df_target, valid_predictions)\n",
    "    if accuracy > best_accuracy:\n",
    "        best_depth = depth\n",
    "        best_accuracy = accuracy\n",
    "\n",
    "print('Лучшая глубина дерева:', best_depth)\n",
    "print('Лучшая точность:', best_accuracy)        "
   ]
  },
  {
   "cell_type": "code",
   "execution_count": 9,
   "metadata": {},
   "outputs": [
    {
     "name": "stdout",
     "output_type": "stream",
     "text": [
      "Точность: 0.8040435458786936\n"
     ]
    }
   ],
   "source": [
    "model = DecisionTreeClassifier(random_state=12345, max_depth=5, criterion='entropy')\n",
    "model.fit(train_df_features, train_df_target)\n",
    "valid_predictions = model.predict(valid_df_features)\n",
    "accuracy = accuracy_score(valid_df_target, valid_predictions)\n",
    "print('Точность:',accuracy)"
   ]
  },
  {
   "cell_type": "code",
   "execution_count": 10,
   "metadata": {},
   "outputs": [
    {
     "name": "stdout",
     "output_type": "stream",
     "text": [
      "Лучшee значение параметра min_samples_split: 46\n",
      "Лучшая точность: 0.8102643856920684\n"
     ]
    }
   ],
   "source": [
    "best_ss = 0\n",
    "best_accuracy = 0\n",
    "\n",
    "for ss in range(2,101):\n",
    "    model = DecisionTreeClassifier(random_state=12345, max_depth=5, min_samples_split=ss)\n",
    "    model.fit(train_df_features, train_df_target)\n",
    "    valid_predictions = model.predict(valid_df_features)\n",
    "    accuracy = accuracy_score(valid_df_target, valid_predictions)\n",
    "    if accuracy > best_accuracy:\n",
    "        best_ss = ss\n",
    "        best_accuracy = accuracy\n",
    "\n",
    "print('Лучшee значение параметра min_samples_split:', best_ss)\n",
    "print('Лучшая точность:', best_accuracy) "
   ]
  },
  {
   "cell_type": "code",
   "execution_count": 27,
   "metadata": {
    "scrolled": true
   },
   "outputs": [
    {
     "name": "stdout",
     "output_type": "stream",
     "text": [
      "Лучшее значение параметра min_samples_leaf: 16\n",
      "Лучшая точность: 0.8180404354587869\n"
     ]
    }
   ],
   "source": [
    "best_ll = 0\n",
    "best_accuracy = 0\n",
    "\n",
    "for ll in range(1,101):\n",
    "    model = DecisionTreeClassifier(random_state=12345, max_depth=5, min_samples_split=46, min_samples_leaf=ll)\n",
    "    model.fit(train_df_features, train_df_target)\n",
    "    valid_predictions = model.predict(valid_df_features)\n",
    "    accuracy = accuracy_score(valid_df_target, valid_predictions)\n",
    "    if accuracy > best_accuracy:\n",
    "        best_ll = ll\n",
    "        best_accuracy = accuracy\n",
    "\n",
    "print('Лучшее значение параметра min_samples_leaf:', best_ll)\n",
    "print('Лучшая точность:', best_accuracy) "
   ]
  },
  {
   "cell_type": "markdown",
   "metadata": {},
   "source": [
    "Сохраним лучшую настройку для модели."
   ]
  },
  {
   "cell_type": "code",
   "execution_count": 12,
   "metadata": {},
   "outputs": [
    {
     "name": "stdout",
     "output_type": "stream",
     "text": [
      "Точность: 0.7698289269051322\n"
     ]
    }
   ],
   "source": [
    "best_tree_model = DecisionTreeClassifier(random_state=12345, max_depth=5, min_samples_split=46, min_samples_leaf=16)\n",
    "best_tree_model.fit(train_df_features, train_df_target)\n",
    "best_tree_model_valid_predictions = best_tree_model.predict(valid_df_features)\n",
    "tree_model_accuracy = accuracy_score(valid_df_target, best_tree_model_valid_predictions)\n",
    "print('Точность:',accuracy)"
   ]
  },
  {
   "cell_type": "markdown",
   "metadata": {},
   "source": [
    "### Случайный лес."
   ]
  },
  {
   "cell_type": "code",
   "execution_count": 13,
   "metadata": {},
   "outputs": [
    {
     "name": "stdout",
     "output_type": "stream",
     "text": [
      "Лучшее количество деревьев: 98\n",
      "Лучшая точность: 0.8180404354587869\n"
     ]
    }
   ],
   "source": [
    "best_estim = 0\n",
    "best_accuracy = 0\n",
    "\n",
    "for estim in range(1,101):\n",
    "    model = RandomForestClassifier(random_state=12345, n_estimators=estim)\n",
    "    model.fit(train_df_features, train_df_target)\n",
    "    valid_predictions = model.predict(valid_df_features)\n",
    "    accuracy = accuracy_score(valid_df_target, valid_predictions)\n",
    "    \n",
    "    if accuracy > best_accuracy:\n",
    "        best_estim = estim\n",
    "        best_accuracy = accuracy\n",
    "\n",
    "print('Лучшее количество деревьев:', best_estim)\n",
    "print('Лучшая точность:', best_accuracy)     "
   ]
  },
  {
   "cell_type": "code",
   "execution_count": 14,
   "metadata": {},
   "outputs": [
    {
     "name": "stdout",
     "output_type": "stream",
     "text": [
      "Точность: 0.8055987558320373\n"
     ]
    }
   ],
   "source": [
    "model = RandomForestClassifier(random_state=12345, n_estimators=98, criterion='entropy')\n",
    "model.fit(train_df_features, train_df_target)\n",
    "valid_predictions = model.predict(valid_df_features)\n",
    "accuracy = accuracy_score(valid_df_target, valid_predictions)\n",
    "print('Точность:',accuracy)"
   ]
  },
  {
   "cell_type": "markdown",
   "metadata": {},
   "source": [
    "Оставим другие гиперпараметры по умолчанию."
   ]
  },
  {
   "cell_type": "code",
   "execution_count": 15,
   "metadata": {},
   "outputs": [
    {
     "name": "stdout",
     "output_type": "stream",
     "text": [
      "Точность: 0.8180404354587869\n"
     ]
    }
   ],
   "source": [
    "best_forest_model = RandomForestClassifier(random_state=12345, n_estimators=98)\n",
    "best_forest_model.fit(train_df_features, train_df_target)\n",
    "best_forest_valid_predictions = best_forest_model.predict(valid_df_features)\n",
    "best_forest_accuracy = accuracy_score(valid_df_target, best_forest_valid_predictions)\n",
    "print('Точность:',best_forest_accuracy)"
   ]
  },
  {
   "cell_type": "markdown",
   "metadata": {},
   "source": [
    "### Логистическая регрессия."
   ]
  },
  {
   "cell_type": "code",
   "execution_count": 16,
   "metadata": {},
   "outputs": [
    {
     "name": "stdout",
     "output_type": "stream",
     "text": [
      "Лучший алгоритм: newton-cg\n",
      "Лучшая точность 0.7371695178849145\n"
     ]
    }
   ],
   "source": [
    "best_solver = ''\n",
    "best_accuracy = 0\n",
    "\n",
    "for solve in {'newton-cg', 'lbfgs', 'liblinear', 'sag', 'saga'}:\n",
    "    model = LogisticRegression(random_state=12345, solver=solve)\n",
    "    model.fit(train_df_features, train_df_target)\n",
    "    valid_predictions = model.predict(valid_df_features)\n",
    "    accuracy = accuracy_score(valid_df_target, valid_predictions)\n",
    "    \n",
    "    if accuracy > best_accuracy:\n",
    "        best_solver= solve\n",
    "        best_accuracy = accuracy\n",
    "\n",
    "print('Лучший алгоритм:', best_solver)\n",
    "print('Лучшая точность', best_accuracy) "
   ]
  },
  {
   "cell_type": "code",
   "execution_count": 17,
   "metadata": {
    "scrolled": false
   },
   "outputs": [
    {
     "name": "stdout",
     "output_type": "stream",
     "text": [
      "Лучшее количество итераций: 34\n",
      "Лучшая точность: 0.7371695178849145\n"
     ]
    }
   ],
   "source": [
    "best_max_iter = 0\n",
    "best_accuracy = 0\n",
    "\n",
    "for max_iter in range(1,201):\n",
    "    model = LogisticRegression(random_state=12345, solver='newton-cg', max_iter=max_iter)\n",
    "    model.fit(train_df_features, train_df_target)\n",
    "    valid_predictions = model.predict(valid_df_features)\n",
    "    accuracy = accuracy_score(valid_df_target, valid_predictions)\n",
    "    \n",
    "    if accuracy > best_accuracy:\n",
    "        best_max_iter = max_iter\n",
    "        best_accuracy = accuracy\n",
    "\n",
    "print('Лучшее количество итераций:', best_max_iter)\n",
    "print('Лучшая точность:', best_accuracy)  "
   ]
  },
  {
   "cell_type": "code",
   "execution_count": 18,
   "metadata": {},
   "outputs": [
    {
     "name": "stdout",
     "output_type": "stream",
     "text": [
      "Точность: 0.7371695178849145\n"
     ]
    }
   ],
   "source": [
    "best_reg_model = LogisticRegression(random_state=12345, solver='newton-cg', max_iter=34)\n",
    "best_reg_model.fit(train_df_features, train_df_target)\n",
    "best_reg_valid_predictions = best_reg_model.predict(valid_df_features)\n",
    "best_reg_accuracy = accuracy_score(valid_df_target, best_reg_valid_predictions)\n",
    "print('Точность:',best_reg_accuracy)"
   ]
  },
  {
   "cell_type": "markdown",
   "metadata": {},
   "source": [
    "### Вывод по шагу 3.\n",
    "В ходе исследования были получены следующие данные:\n",
    "\n",
    "- Точность модели дерева решений при глубине 3 равна 0.785. <b>(upd. 5 и 0.810)</b> \n",
    "- Точность модели случайного леса при количестве деревьев 23 равна 0.795. <b>(upd. 0.818)</b> \n",
    "- Точность модели логистической регресии равна 0.757. <b>(upd.0.737)<b>\n",
    "\n",
    "Лучший результат показывает модель случайного леса с гиперпараметром n_estimators=23."
   ]
  },
  {
   "cell_type": "code",
   "execution_count": 53,
   "metadata": {},
   "outputs": [
    {
     "name": "stdout",
     "output_type": "stream",
     "text": [
      "Лучшее количество деревьев: 98\n",
      "Лучшая точность: 0.8180404354587869\n"
     ]
    },
    {
     "data": {
      "image/png": "[encoded data removed]",
      "text/plain": [
       "<Figure size 1152x288 with 2 Axes>"
      ]
     },
     "metadata": {
      "needs_background": "light"
     },
     "output_type": "display_data"
    }
   ],
   "source": [
    "#Комментарий ревьювера\n",
    "best_estim = 0\n",
    "best_accuracy = 0\n",
    "scores_val = []\n",
    "scores_train = []\n",
    "for estim in range(1,101):\n",
    "    model = RandomForestClassifier(random_state=12345, n_estimators=estim)\n",
    "    model.fit(train_df_features, train_df_target)\n",
    "    valid_predictions = model.predict(valid_df_features)\n",
    "    accuracy = accuracy_score(valid_df_target, valid_predictions)\n",
    "    scores_train.append(accuracy_score(train_df_target, model.predict(train_df_features)))\n",
    "    scores_val.append(accuracy)\n",
    "    if accuracy > best_accuracy:\n",
    "        best_estim = estim\n",
    "        best_accuracy = accuracy\n",
    "\n",
    "print('Лучшее количество деревьев:', best_estim)\n",
    "print('Лучшая точность:', best_accuracy)\n",
    "dct = {}\n",
    "dct['accuracy_train'] = scores_train\n",
    "dct['accuracy_validation'] = scores_val\n",
    "pd.DataFrame(dct).plot(subplots=True, layout=(1, 2), figsize=(16,4));"
   ]
  },
  {
   "cell_type": "code",
   "execution_count": 19,
   "metadata": {
    "collapsed": true
   },
   "outputs": [
    {
     "name": "stdout",
     "output_type": "stream",
     "text": [
      "estim 1 Точность 0.7418351477449455\n",
      "estim 2 Точность 0.7527216174183515\n",
      "estim 3 Точность 0.7542768273716952\n",
      "estim 4 Точность 0.7698289269051322\n",
      "estim 5 Точность 0.776049766718507\n",
      "estim 6 Точность 0.7916018662519441\n",
      "estim 7 Точность 0.7947122861586314\n",
      "estim 8 Точность 0.7962674961119751\n",
      "estim 9 Точность 0.7947122861586314\n",
      "estim 10 Точность 0.8009331259720062\n",
      "estim 11 Точность 0.7978227060653188\n",
      "estim 12 Точность 0.8055987558320373\n",
      "estim 13 Точность 0.7993779160186625\n",
      "estim 14 Точность 0.7916018662519441\n",
      "estim 15 Точность 0.7931570762052877\n",
      "estim 16 Точность 0.7916018662519441\n",
      "estim 17 Точность 0.7993779160186625\n",
      "estim 18 Точность 0.7962674961119751\n",
      "estim 19 Точность 0.7993779160186625\n",
      "estim 20 Точность 0.8009331259720062\n",
      "estim 21 Точность 0.8055987558320373\n",
      "estim 22 Точность 0.8102643856920684\n",
      "estim 23 Точность 0.8040435458786936\n",
      "estim 24 Точность 0.807153965785381\n",
      "estim 25 Точность 0.8055987558320373\n",
      "estim 26 Точность 0.807153965785381\n",
      "estim 27 Точность 0.807153965785381\n",
      "estim 28 Точность 0.8040435458786936\n",
      "estim 29 Точность 0.8055987558320373\n",
      "estim 30 Точность 0.8009331259720062\n",
      "estim 31 Точность 0.8040435458786936\n",
      "estim 32 Точность 0.8040435458786936\n",
      "estim 33 Точность 0.7978227060653188\n",
      "estim 34 Точность 0.7962674961119751\n",
      "estim 35 Точность 0.80248833592535\n",
      "estim 36 Точность 0.7978227060653188\n",
      "estim 37 Точность 0.7993779160186625\n",
      "estim 38 Точность 0.7978227060653188\n",
      "estim 39 Точность 0.8009331259720062\n",
      "estim 40 Точность 0.7962674961119751\n",
      "estim 41 Точность 0.8040435458786936\n",
      "estim 42 Точность 0.8040435458786936\n",
      "estim 43 Точность 0.80248833592535\n",
      "estim 44 Точность 0.8009331259720062\n",
      "estim 45 Точность 0.8055987558320373\n",
      "estim 46 Точность 0.807153965785381\n",
      "estim 47 Точность 0.8055987558320373\n",
      "estim 48 Точность 0.8055987558320373\n",
      "estim 49 Точность 0.8040435458786936\n",
      "estim 50 Точность 0.8102643856920684\n",
      "estim 51 Точность 0.8087091757387247\n",
      "estim 52 Точность 0.8087091757387247\n",
      "estim 53 Точность 0.8087091757387247\n",
      "estim 54 Точность 0.8040435458786936\n",
      "estim 55 Точность 0.8040435458786936\n",
      "estim 56 Точность 0.807153965785381\n",
      "estim 57 Точность 0.8087091757387247\n",
      "estim 58 Точность 0.8102643856920684\n",
      "estim 59 Точность 0.8087091757387247\n",
      "estim 60 Точность 0.8055987558320373\n",
      "estim 61 Точность 0.8087091757387247\n",
      "estim 62 Точность 0.807153965785381\n",
      "estim 63 Точность 0.8133748055987559\n",
      "estim 64 Точность 0.8133748055987559\n",
      "estim 65 Точность 0.807153965785381\n",
      "estim 66 Точность 0.807153965785381\n",
      "estim 67 Точность 0.8055987558320373\n",
      "estim 68 Точность 0.8055987558320373\n",
      "estim 69 Точность 0.8055987558320373\n",
      "estim 70 Точность 0.807153965785381\n",
      "estim 71 Точность 0.8087091757387247\n",
      "estim 72 Точность 0.8118195956454122\n",
      "estim 73 Точность 0.8087091757387247\n",
      "estim 74 Точность 0.8133748055987559\n",
      "estim 75 Точность 0.8102643856920684\n",
      "estim 76 Точность 0.8118195956454122\n",
      "estim 77 Точность 0.8118195956454122\n",
      "estim 78 Точность 0.8118195956454122\n",
      "estim 79 Точность 0.8102643856920684\n",
      "estim 80 Точность 0.8149300155520995\n",
      "estim 81 Точность 0.807153965785381\n",
      "estim 82 Точность 0.8133748055987559\n",
      "estim 83 Точность 0.8102643856920684\n",
      "estim 84 Точность 0.8149300155520995\n",
      "estim 85 Точность 0.8102643856920684\n",
      "estim 86 Точность 0.8102643856920684\n",
      "estim 87 Точность 0.8102643856920684\n",
      "estim 88 Точность 0.8133748055987559\n",
      "estim 89 Точность 0.8102643856920684\n",
      "estim 90 Точность 0.8118195956454122\n",
      "estim 91 Точность 0.8102643856920684\n",
      "estim 92 Точность 0.8118195956454122\n",
      "estim 93 Точность 0.8102643856920684\n",
      "estim 94 Точность 0.8118195956454122\n",
      "estim 95 Точность 0.8133748055987559\n",
      "estim 96 Точность 0.8149300155520995\n",
      "estim 97 Точность 0.8149300155520995\n",
      "estim 98 Точность 0.8180404354587869\n",
      "estim 99 Точность 0.8133748055987559\n",
      "estim 100 Точность 0.8149300155520995\n",
      "Лучшее количество деревьев: 98\n",
      "Лучшая точность: 0.8180404354587869\n"
     ]
    }
   ],
   "source": [
    "best_estim = 0\n",
    "best_accuracy = 0\n",
    "\n",
    "for estim in range(1,101):\n",
    "    model = RandomForestClassifier(random_state=12345, n_estimators=estim)\n",
    "    model.fit(train_df_features, train_df_target)\n",
    "    valid_predictions = model.predict(valid_df_features)\n",
    "    accuracy = accuracy_score(valid_df_target, valid_predictions)\n",
    "    print('estim', estim,'Точность',accuracy)\n",
    "    if accuracy > best_accuracy:\n",
    "        best_estim = estim\n",
    "        best_accuracy = accuracy\n",
    "\n",
    "print('Лучшее количество деревьев:', best_estim)\n",
    "print('Лучшая точность:', best_accuracy)  "
   ]
  },
  {
   "cell_type": "markdown",
   "metadata": {},
   "source": [
    "## Проверьте модель на тестовой выборке"
   ]
  },
  {
   "cell_type": "code",
   "execution_count": 20,
   "metadata": {},
   "outputs": [
    {
     "name": "stdout",
     "output_type": "stream",
     "text": [
      "Точность модели дерева решений на тестовой выборке: 0.7962674961119751\n",
      "Точность модели случайного леса на тестовой выборке: 0.8009331259720062\n",
      "Точность модели логистической регресиии на тестовой выборке: 0.7418351477449455\n"
     ]
    }
   ],
   "source": [
    "test_predictions = best_tree_model.predict(test_df_features)\n",
    "accuracy = accuracy_score(test_df_target, test_predictions)\n",
    "print('Точность модели дерева решений на тестовой выборке:',accuracy)\n",
    "\n",
    "test_predictions = best_forest_model.predict(test_df_features)\n",
    "accuracy = accuracy_score(test_df_target, test_predictions)\n",
    "print('Точность модели случайного леса на тестовой выборке:',accuracy)\n",
    "\n",
    "test_predictions = best_reg_model.predict(test_df_features)\n",
    "accuracy = accuracy_score(test_df_target, test_predictions)\n",
    "print('Точность модели логистической регресиии на тестовой выборке:',accuracy)"
   ]
  },
  {
   "cell_type": "markdown",
   "metadata": {},
   "source": [
    "### Вывод по шагу 4.\n",
    "Для решения поставленной задачи можно выбрать модель случайного леса. "
   ]
  },
  {
   "cell_type": "markdown",
   "metadata": {},
   "source": [
    "## (бонус) Проверьте модели на адекватность"
   ]
  },
  {
   "cell_type": "code",
   "execution_count": 21,
   "metadata": {},
   "outputs": [
    {
     "name": "stdout",
     "output_type": "stream",
     "text": [
      " Accuracy = 0.8009331259720062 \n",
      " Precision = 0.7328767123287672 \n",
      " Recall = 0.5459183673469388 \n",
      " F-мера = 0.6257309941520468\n"
     ]
    }
   ],
   "source": [
    "test_predictions = best_forest_model.predict(test_df_features)\n",
    "accuracy = accuracy_score(test_df_target, test_predictions)\n",
    "precision = precision_score(test_df_target, test_predictions)\n",
    "recall = recall_score(test_df_target, test_predictions)\n",
    "f_score = f1_score(test_df_target, test_predictions)\n",
    "\n",
    "print(' Accuracy =', accuracy, '\\n', 'Precision =', precision,'\\n', 'Recall =', recall, '\\n','F-мера =', f_score)\n"
   ]
  },
  {
   "cell_type": "markdown",
   "metadata": {},
   "source": [
    "Мы получили не самые высокие значения по всем метрикам качества, но модель адекватна и может быть использована."
   ]
  },
  {
   "cell_type": "code",
   "execution_count": 22,
   "metadata": {},
   "outputs": [
    {
     "name": "stdout",
     "output_type": "stream",
     "text": [
      "0.8009331259720062\n"
     ]
    }
   ],
   "source": [
    "from sklearn.dummy import DummyClassifier\n",
    "dummy_clf = DummyClassifier(strategy=\"most_frequent\")\n",
    "dummy_clf.fit(train_df_features, train_df_target)\n",
    "dummy_clf.predict(test_df_features)\n",
    "accuracy = accuracy_score(test_df_target, test_predictions)\n",
    "print(accuracy)"
   ]
  },
  {
   "cell_type": "code",
   "execution_count": 58,
   "metadata": {},
   "outputs": [
    {
     "name": "stdout",
     "output_type": "stream",
     "text": [
      "0.693528313627878\n"
     ]
    }
   ],
   "source": [
    "#Комментарий ревьювера\n",
    "dummy_clf = DummyClassifier(strategy=\"most_frequent\")\n",
    "dummy_clf.fit(df.drop(['is_ultra'], axis=1), df['is_ultra'])\n",
    "print(accuracy_score(df['is_ultra'], dummy_clf.predict(df.drop(['is_ultra'], axis=1))))"
   ]
  },
  {
   "cell_type": "markdown",
   "metadata": {},
   "source": [
    "# Общий вывод\n",
    "В ходе проделанной работы были исследованы три модели классификации: дерево решений, случайный лес и логистическая регрессия.\n",
    "Найдены оптимальные параметры для каждой модели и выбрана одна из них для решения задачи.\n",
    "\n",
    "Модель случайного леса показала лучшие результаты с точностью 0.78 (upd.0.80).\n",
    "\n",
    "Для обучения модели было использована выборка в 2000 значений. Увеличение размера обучающей выборки поможет повысить качество.\n"
   ]
  },
  {
   "cell_type": "code",
   "execution_count": null,
   "metadata": {},
   "outputs": [],
   "source": []
  }
 ],
 "metadata": {
  "ExecuteTimeLog": [
   {
    "duration": 50,
    "start_time": "2023-02-01T23:33:28.378Z"
   },
   {
    "duration": 1230,
    "start_time": "2023-02-01T23:33:56.999Z"
   },
   {
    "duration": 75,
    "start_time": "2023-02-01T23:33:59.734Z"
   },
   {
    "duration": 26,
    "start_time": "2023-02-01T23:42:53.078Z"
   },
   {
    "duration": 18,
    "start_time": "2023-02-01T23:42:56.090Z"
   },
   {
    "duration": 12,
    "start_time": "2023-02-01T23:42:57.217Z"
   },
   {
    "duration": 74,
    "start_time": "2023-02-01T23:43:10.753Z"
   },
   {
    "duration": 10,
    "start_time": "2023-02-01T23:43:36.511Z"
   },
   {
    "duration": 8,
    "start_time": "2023-02-01T23:43:58.565Z"
   },
   {
    "duration": 11,
    "start_time": "2023-02-01T23:46:01.777Z"
   },
   {
    "duration": 8,
    "start_time": "2023-02-01T23:46:38.782Z"
   },
   {
    "duration": 1022,
    "start_time": "2023-02-01T23:47:42.565Z"
   },
   {
    "duration": 111,
    "start_time": "2023-02-01T23:48:11.287Z"
   },
   {
    "duration": 1017,
    "start_time": "2023-02-01T23:48:23.406Z"
   },
   {
    "duration": 97,
    "start_time": "2023-02-01T23:48:33.078Z"
   },
   {
    "duration": 146,
    "start_time": "2023-02-01T23:48:39.078Z"
   },
   {
    "duration": 1039,
    "start_time": "2023-02-01T23:48:56.436Z"
   },
   {
    "duration": 52,
    "start_time": "2023-02-02T23:28:30.424Z"
   },
   {
    "duration": 981,
    "start_time": "2023-02-02T23:28:35.678Z"
   },
   {
    "duration": 129,
    "start_time": "2023-02-02T23:28:39.189Z"
   },
   {
    "duration": 14,
    "start_time": "2023-02-02T23:28:39.854Z"
   },
   {
    "duration": 10,
    "start_time": "2023-02-02T23:28:40.560Z"
   },
   {
    "duration": 8,
    "start_time": "2023-02-02T23:28:43.590Z"
   },
   {
    "duration": 6,
    "start_time": "2023-02-02T23:28:44.959Z"
   },
   {
    "duration": 862,
    "start_time": "2023-02-02T23:28:45.682Z"
   },
   {
    "duration": 65,
    "start_time": "2023-02-02T23:28:47.812Z"
   },
   {
    "duration": 9,
    "start_time": "2023-02-02T23:29:02.144Z"
   },
   {
    "duration": 10,
    "start_time": "2023-02-02T23:30:23.810Z"
   },
   {
    "duration": 10,
    "start_time": "2023-02-02T23:31:34.556Z"
   },
   {
    "duration": 9,
    "start_time": "2023-02-02T23:32:36.756Z"
   },
   {
    "duration": 9,
    "start_time": "2023-02-02T23:32:43.127Z"
   },
   {
    "duration": 9,
    "start_time": "2023-02-02T23:32:51.658Z"
   },
   {
    "duration": 12,
    "start_time": "2023-02-02T23:33:13.602Z"
   },
   {
    "duration": 11,
    "start_time": "2023-02-02T23:33:34.727Z"
   },
   {
    "duration": 1027,
    "start_time": "2023-02-02T23:34:06.472Z"
   },
   {
    "duration": 32,
    "start_time": "2023-02-02T23:34:07.501Z"
   },
   {
    "duration": 14,
    "start_time": "2023-02-02T23:34:07.534Z"
   },
   {
    "duration": 25,
    "start_time": "2023-02-02T23:34:07.550Z"
   },
   {
    "duration": 9,
    "start_time": "2023-02-02T23:34:07.577Z"
   },
   {
    "duration": 19,
    "start_time": "2023-02-02T23:34:07.587Z"
   },
   {
    "duration": 864,
    "start_time": "2023-02-02T23:34:07.607Z"
   },
   {
    "duration": 8,
    "start_time": "2023-02-02T23:34:08.473Z"
   },
   {
    "duration": 10,
    "start_time": "2023-02-02T23:34:08.482Z"
   },
   {
    "duration": 11,
    "start_time": "2023-02-02T23:34:54.188Z"
   },
   {
    "duration": 4,
    "start_time": "2023-02-02T23:36:00.704Z"
   },
   {
    "duration": 9,
    "start_time": "2023-02-02T23:36:19.585Z"
   },
   {
    "duration": 8,
    "start_time": "2023-02-02T23:37:08.211Z"
   },
   {
    "duration": 10,
    "start_time": "2023-02-02T23:37:14.491Z"
   },
   {
    "duration": 9,
    "start_time": "2023-02-02T23:37:37.888Z"
   },
   {
    "duration": 8,
    "start_time": "2023-02-02T23:37:44.971Z"
   },
   {
    "duration": 12,
    "start_time": "2023-02-02T23:37:54.718Z"
   },
   {
    "duration": 9,
    "start_time": "2023-02-02T23:38:05.626Z"
   },
   {
    "duration": 10,
    "start_time": "2023-02-02T23:38:24.937Z"
   },
   {
    "duration": 16,
    "start_time": "2023-02-02T23:38:39.622Z"
   },
   {
    "duration": 9,
    "start_time": "2023-02-02T23:40:28.950Z"
   },
   {
    "duration": 10,
    "start_time": "2023-02-02T23:40:50.862Z"
   },
   {
    "duration": 95,
    "start_time": "2023-02-02T23:43:01.280Z"
   },
   {
    "duration": 13,
    "start_time": "2023-02-02T23:43:26.233Z"
   },
   {
    "duration": 12,
    "start_time": "2023-02-02T23:43:46.227Z"
   },
   {
    "duration": 433,
    "start_time": "2023-02-02T23:44:07.355Z"
   },
   {
    "duration": 443,
    "start_time": "2023-02-02T23:44:20.101Z"
   },
   {
    "duration": 107,
    "start_time": "2023-02-02T23:44:26.465Z"
   },
   {
    "duration": 28927,
    "start_time": "2023-02-02T23:44:40.752Z"
   },
   {
    "duration": 429,
    "start_time": "2023-02-02T23:45:21.805Z"
   },
   {
    "duration": 396,
    "start_time": "2023-02-02T23:46:53.833Z"
   },
   {
    "duration": 17355,
    "start_time": "2023-02-02T23:59:33.047Z"
   },
   {
    "duration": 101,
    "start_time": "2023-02-03T00:01:02.145Z"
   },
   {
    "duration": 123,
    "start_time": "2023-02-03T00:02:16.002Z"
   },
   {
    "duration": 99,
    "start_time": "2023-02-03T00:02:31.904Z"
   },
   {
    "duration": 3192,
    "start_time": "2023-02-03T00:04:40.754Z"
   },
   {
    "duration": 211,
    "start_time": "2023-02-03T00:09:22.900Z"
   },
   {
    "duration": 223,
    "start_time": "2023-02-03T00:09:30.433Z"
   },
   {
    "duration": 16,
    "start_time": "2023-02-03T00:12:17.085Z"
   },
   {
    "duration": 443,
    "start_time": "2023-02-03T00:20:55.530Z"
   },
   {
    "duration": 3,
    "start_time": "2023-02-03T00:23:21.668Z"
   },
   {
    "duration": 9,
    "start_time": "2023-02-03T00:27:49.141Z"
   },
   {
    "duration": 17713,
    "start_time": "2023-02-03T00:31:44.359Z"
   },
   {
    "duration": 3131,
    "start_time": "2023-02-03T00:32:32.937Z"
   },
   {
    "duration": 4,
    "start_time": "2023-02-03T00:32:59.855Z"
   },
   {
    "duration": 3149,
    "start_time": "2023-02-03T00:33:03.971Z"
   },
   {
    "duration": 3186,
    "start_time": "2023-02-03T00:33:42.958Z"
   },
   {
    "duration": 197,
    "start_time": "2023-02-03T00:37:39.008Z"
   },
   {
    "duration": 207,
    "start_time": "2023-02-03T00:38:51.601Z"
   },
   {
    "duration": 3095,
    "start_time": "2023-02-03T00:39:01.091Z"
   },
   {
    "duration": 22827,
    "start_time": "2023-02-03T00:39:57.801Z"
   },
   {
    "duration": 1007,
    "start_time": "2023-02-03T00:41:32.589Z"
   },
   {
    "duration": 31,
    "start_time": "2023-02-03T00:41:33.597Z"
   },
   {
    "duration": 18,
    "start_time": "2023-02-03T00:41:33.629Z"
   },
   {
    "duration": 10,
    "start_time": "2023-02-03T00:41:33.649Z"
   },
   {
    "duration": 8,
    "start_time": "2023-02-03T00:41:33.661Z"
   },
   {
    "duration": 6,
    "start_time": "2023-02-03T00:41:33.670Z"
   },
   {
    "duration": 920,
    "start_time": "2023-02-03T00:41:33.677Z"
   },
   {
    "duration": 120,
    "start_time": "2023-02-03T00:41:34.599Z"
   },
   {
    "duration": 0,
    "start_time": "2023-02-03T00:41:34.721Z"
   },
   {
    "duration": 0,
    "start_time": "2023-02-03T00:41:34.722Z"
   },
   {
    "duration": 0,
    "start_time": "2023-02-03T00:41:34.723Z"
   },
   {
    "duration": 0,
    "start_time": "2023-02-03T00:41:34.727Z"
   },
   {
    "duration": 1,
    "start_time": "2023-02-03T00:41:34.728Z"
   },
   {
    "duration": 0,
    "start_time": "2023-02-03T00:41:34.729Z"
   },
   {
    "duration": 0,
    "start_time": "2023-02-03T00:41:34.730Z"
   },
   {
    "duration": 0,
    "start_time": "2023-02-03T00:41:34.731Z"
   },
   {
    "duration": 0,
    "start_time": "2023-02-03T00:41:34.732Z"
   },
   {
    "duration": 9,
    "start_time": "2023-02-03T00:42:22.563Z"
   },
   {
    "duration": 409,
    "start_time": "2023-02-03T00:42:32.514Z"
   },
   {
    "duration": 442,
    "start_time": "2023-02-03T00:42:37.235Z"
   },
   {
    "duration": 3,
    "start_time": "2023-02-03T00:42:44.064Z"
   },
   {
    "duration": 17654,
    "start_time": "2023-02-03T00:42:47.411Z"
   },
   {
    "duration": 100,
    "start_time": "2023-02-03T00:43:16.893Z"
   },
   {
    "duration": 2,
    "start_time": "2023-02-03T00:43:23.919Z"
   },
   {
    "duration": 212,
    "start_time": "2023-02-03T00:43:26.664Z"
   },
   {
    "duration": 3481,
    "start_time": "2023-02-03T00:43:30.670Z"
   },
   {
    "duration": 10,
    "start_time": "2023-02-03T00:46:39.570Z"
   },
   {
    "duration": 11,
    "start_time": "2023-02-03T00:47:05.018Z"
   },
   {
    "duration": 10,
    "start_time": "2023-02-03T00:49:35.182Z"
   },
   {
    "duration": 92,
    "start_time": "2023-02-03T00:49:46.279Z"
   },
   {
    "duration": 9,
    "start_time": "2023-02-03T00:50:44.485Z"
   },
   {
    "duration": 82,
    "start_time": "2023-02-03T00:50:56.040Z"
   },
   {
    "duration": 16,
    "start_time": "2023-02-03T00:52:03.395Z"
   },
   {
    "duration": 16,
    "start_time": "2023-02-03T00:57:11.921Z"
   },
   {
    "duration": 14,
    "start_time": "2023-02-03T01:00:20.979Z"
   },
   {
    "duration": 13,
    "start_time": "2023-02-03T01:00:37.896Z"
   },
   {
    "duration": 12,
    "start_time": "2023-02-03T01:00:42.950Z"
   },
   {
    "duration": 13,
    "start_time": "2023-02-03T01:00:52.984Z"
   },
   {
    "duration": 14,
    "start_time": "2023-02-03T01:01:02.383Z"
   },
   {
    "duration": 14,
    "start_time": "2023-02-03T01:02:20.839Z"
   },
   {
    "duration": 1030,
    "start_time": "2023-02-03T01:20:43.058Z"
   },
   {
    "duration": 29,
    "start_time": "2023-02-03T01:20:44.090Z"
   },
   {
    "duration": 14,
    "start_time": "2023-02-03T01:20:44.121Z"
   },
   {
    "duration": 9,
    "start_time": "2023-02-03T01:20:44.137Z"
   },
   {
    "duration": 7,
    "start_time": "2023-02-03T01:20:44.147Z"
   },
   {
    "duration": 9,
    "start_time": "2023-02-03T01:20:44.156Z"
   },
   {
    "duration": 880,
    "start_time": "2023-02-03T01:20:44.166Z"
   },
   {
    "duration": 9,
    "start_time": "2023-02-03T01:20:45.048Z"
   },
   {
    "duration": 449,
    "start_time": "2023-02-03T01:20:45.059Z"
   },
   {
    "duration": 417,
    "start_time": "2023-02-03T01:20:45.512Z"
   },
   {
    "duration": 7,
    "start_time": "2023-02-03T01:20:45.931Z"
   },
   {
    "duration": 17764,
    "start_time": "2023-02-03T01:20:45.940Z"
   },
   {
    "duration": 153,
    "start_time": "2023-02-03T01:21:03.706Z"
   },
   {
    "duration": 96,
    "start_time": "2023-02-03T01:21:03.860Z"
   },
   {
    "duration": 204,
    "start_time": "2023-02-03T01:21:03.958Z"
   },
   {
    "duration": 3188,
    "start_time": "2023-02-03T01:21:04.164Z"
   },
   {
    "duration": 85,
    "start_time": "2023-02-03T01:21:07.353Z"
   },
   {
    "duration": 14,
    "start_time": "2023-02-03T01:21:07.440Z"
   },
   {
    "duration": 15,
    "start_time": "2023-02-03T01:21:07.455Z"
   },
   {
    "duration": 1327,
    "start_time": "2023-02-03T14:42:53.490Z"
   },
   {
    "duration": 137,
    "start_time": "2023-02-03T14:42:54.819Z"
   },
   {
    "duration": 23,
    "start_time": "2023-02-03T14:42:54.957Z"
   },
   {
    "duration": 17,
    "start_time": "2023-02-03T14:42:54.983Z"
   },
   {
    "duration": 8,
    "start_time": "2023-02-03T14:43:13.379Z"
   },
   {
    "duration": 6,
    "start_time": "2023-02-03T14:43:47.338Z"
   },
   {
    "duration": 953,
    "start_time": "2023-02-03T14:43:48.826Z"
   },
   {
    "duration": 11,
    "start_time": "2023-02-03T14:44:03.838Z"
   },
   {
    "duration": 484,
    "start_time": "2023-02-03T14:44:05.459Z"
   },
   {
    "duration": 461,
    "start_time": "2023-02-03T14:44:18.438Z"
   },
   {
    "duration": 11,
    "start_time": "2023-02-03T14:44:25.733Z"
   },
   {
    "duration": 47,
    "start_time": "2023-02-03T16:33:16.635Z"
   },
   {
    "duration": 1107,
    "start_time": "2023-02-03T16:33:22.252Z"
   },
   {
    "duration": 135,
    "start_time": "2023-02-03T16:33:26.641Z"
   },
   {
    "duration": 16,
    "start_time": "2023-02-03T16:33:27.435Z"
   },
   {
    "duration": 11,
    "start_time": "2023-02-03T16:33:28.392Z"
   },
   {
    "duration": 70,
    "start_time": "2023-02-03T16:33:30.727Z"
   },
   {
    "duration": 16,
    "start_time": "2023-02-03T16:33:37.691Z"
   },
   {
    "duration": 9,
    "start_time": "2023-02-03T16:36:56.152Z"
   },
   {
    "duration": 16,
    "start_time": "2023-02-03T16:37:16.203Z"
   },
   {
    "duration": 10,
    "start_time": "2023-02-03T16:37:37.843Z"
   },
   {
    "duration": 72,
    "start_time": "2023-02-03T16:43:33.520Z"
   },
   {
    "duration": 6,
    "start_time": "2023-02-03T16:43:38.813Z"
   },
   {
    "duration": 11,
    "start_time": "2023-02-03T16:56:33.310Z"
   },
   {
    "duration": 10,
    "start_time": "2023-02-03T17:01:28.431Z"
   },
   {
    "duration": 1071,
    "start_time": "2023-02-03T17:03:35.783Z"
   },
   {
    "duration": 31,
    "start_time": "2023-02-03T17:03:36.856Z"
   },
   {
    "duration": 16,
    "start_time": "2023-02-03T17:03:36.888Z"
   },
   {
    "duration": 10,
    "start_time": "2023-02-03T17:03:36.905Z"
   },
   {
    "duration": 6,
    "start_time": "2023-02-03T17:03:36.918Z"
   },
   {
    "duration": 12,
    "start_time": "2023-02-03T17:03:36.926Z"
   },
   {
    "duration": 6,
    "start_time": "2023-02-03T17:03:36.939Z"
   },
   {
    "duration": 937,
    "start_time": "2023-02-03T17:03:36.947Z"
   },
   {
    "duration": 11,
    "start_time": "2023-02-03T17:03:37.885Z"
   },
   {
    "duration": 460,
    "start_time": "2023-02-03T17:03:37.898Z"
   },
   {
    "duration": 456,
    "start_time": "2023-02-03T17:03:38.360Z"
   },
   {
    "duration": 9,
    "start_time": "2023-02-03T17:03:38.818Z"
   },
   {
    "duration": 19075,
    "start_time": "2023-02-03T17:03:38.828Z"
   },
   {
    "duration": 116,
    "start_time": "2023-02-03T17:03:57.906Z"
   },
   {
    "duration": 103,
    "start_time": "2023-02-03T17:03:58.024Z"
   },
   {
    "duration": 192,
    "start_time": "2023-02-03T17:03:58.129Z"
   },
   {
    "duration": 5013,
    "start_time": "2023-02-03T17:03:58.323Z"
   },
   {
    "duration": 94,
    "start_time": "2023-02-03T17:04:03.338Z"
   },
   {
    "duration": 19929,
    "start_time": "2023-02-03T17:04:03.434Z"
   },
   {
    "duration": 18,
    "start_time": "2023-02-03T17:04:23.365Z"
   },
   {
    "duration": 16,
    "start_time": "2023-02-03T17:04:23.385Z"
   },
   {
    "duration": 7,
    "start_time": "2023-02-03T17:04:23.402Z"
   },
   {
    "duration": 6,
    "start_time": "2023-02-03T17:09:11.165Z"
   },
   {
    "duration": 992,
    "start_time": "2023-02-03T17:09:13.305Z"
   },
   {
    "duration": 11,
    "start_time": "2023-02-03T17:09:22.172Z"
   },
   {
    "duration": 549,
    "start_time": "2023-02-03T17:09:30.709Z"
   },
   {
    "duration": 603,
    "start_time": "2023-02-03T17:11:46.111Z"
   },
   {
    "duration": 13,
    "start_time": "2023-02-03T17:12:00.908Z"
   },
   {
    "duration": 551,
    "start_time": "2023-02-03T17:12:16.485Z"
   },
   {
    "duration": 542,
    "start_time": "2023-02-03T17:12:40.328Z"
   },
   {
    "duration": 12,
    "start_time": "2023-02-03T17:13:06.880Z"
   },
   {
    "duration": 1138,
    "start_time": "2023-02-03T17:14:43.027Z"
   },
   {
    "duration": 30,
    "start_time": "2023-02-03T17:14:44.167Z"
   },
   {
    "duration": 14,
    "start_time": "2023-02-03T17:14:44.199Z"
   },
   {
    "duration": 10,
    "start_time": "2023-02-03T17:14:44.215Z"
   },
   {
    "duration": 9,
    "start_time": "2023-02-03T17:14:44.226Z"
   },
   {
    "duration": 12,
    "start_time": "2023-02-03T17:14:44.236Z"
   },
   {
    "duration": 10,
    "start_time": "2023-02-03T17:14:44.249Z"
   },
   {
    "duration": 938,
    "start_time": "2023-02-03T17:14:44.260Z"
   },
   {
    "duration": 11,
    "start_time": "2023-02-03T17:14:45.200Z"
   },
   {
    "duration": 579,
    "start_time": "2023-02-03T17:14:45.213Z"
   },
   {
    "duration": 570,
    "start_time": "2023-02-03T17:14:45.794Z"
   },
   {
    "duration": 12,
    "start_time": "2023-02-03T17:14:46.366Z"
   },
   {
    "duration": 19332,
    "start_time": "2023-02-03T17:14:46.380Z"
   },
   {
    "duration": 463,
    "start_time": "2023-02-03T17:15:05.714Z"
   },
   {
    "duration": 412,
    "start_time": "2023-02-03T17:15:06.179Z"
   },
   {
    "duration": 186,
    "start_time": "2023-02-03T17:15:06.593Z"
   },
   {
    "duration": 4948,
    "start_time": "2023-02-03T17:15:06.780Z"
   },
   {
    "duration": 107,
    "start_time": "2023-02-03T17:15:11.729Z"
   },
   {
    "duration": 19703,
    "start_time": "2023-02-03T17:15:11.838Z"
   },
   {
    "duration": 33,
    "start_time": "2023-02-03T17:15:31.543Z"
   },
   {
    "duration": 31,
    "start_time": "2023-02-03T17:15:31.577Z"
   },
   {
    "duration": 4,
    "start_time": "2023-02-03T17:15:31.609Z"
   },
   {
    "duration": 11,
    "start_time": "2023-02-03T17:16:38.893Z"
   },
   {
    "duration": 11,
    "start_time": "2023-02-03T17:17:27.167Z"
   },
   {
    "duration": 11,
    "start_time": "2023-02-03T17:20:47.668Z"
   },
   {
    "duration": 1100,
    "start_time": "2023-02-03T17:27:15.479Z"
   },
   {
    "duration": 36,
    "start_time": "2023-02-03T17:27:16.582Z"
   },
   {
    "duration": 58,
    "start_time": "2023-02-03T17:27:16.620Z"
   },
   {
    "duration": 13,
    "start_time": "2023-02-03T17:27:16.681Z"
   },
   {
    "duration": 11,
    "start_time": "2023-02-03T17:27:16.695Z"
   },
   {
    "duration": 17,
    "start_time": "2023-02-03T17:27:16.708Z"
   },
   {
    "duration": 12,
    "start_time": "2023-02-03T17:27:16.726Z"
   },
   {
    "duration": 954,
    "start_time": "2023-02-03T17:27:16.739Z"
   },
   {
    "duration": 11,
    "start_time": "2023-02-03T17:27:17.695Z"
   },
   {
    "duration": 596,
    "start_time": "2023-02-03T17:27:17.708Z"
   },
   {
    "duration": 556,
    "start_time": "2023-02-03T17:27:18.306Z"
   },
   {
    "duration": 11,
    "start_time": "2023-02-03T17:27:18.864Z"
   },
   {
    "duration": 10,
    "start_time": "2023-02-03T17:27:18.877Z"
   },
   {
    "duration": 19230,
    "start_time": "2023-02-03T17:27:18.889Z"
   },
   {
    "duration": 467,
    "start_time": "2023-02-03T17:27:38.120Z"
   },
   {
    "duration": 396,
    "start_time": "2023-02-03T17:27:38.589Z"
   },
   {
    "duration": 220,
    "start_time": "2023-02-03T17:27:38.987Z"
   },
   {
    "duration": 5109,
    "start_time": "2023-02-03T17:27:39.209Z"
   },
   {
    "duration": 112,
    "start_time": "2023-02-03T17:27:44.319Z"
   },
   {
    "duration": 19544,
    "start_time": "2023-02-03T17:27:44.432Z"
   },
   {
    "duration": 30,
    "start_time": "2023-02-03T17:28:03.977Z"
   },
   {
    "duration": 46,
    "start_time": "2023-02-03T17:28:04.009Z"
   },
   {
    "duration": 4,
    "start_time": "2023-02-03T17:28:04.057Z"
   },
   {
    "duration": 10,
    "start_time": "2023-02-03T17:28:31.262Z"
   },
   {
    "duration": 11,
    "start_time": "2023-02-03T17:28:33.062Z"
   },
   {
    "duration": 12,
    "start_time": "2023-02-03T17:29:11.678Z"
   },
   {
    "duration": 11,
    "start_time": "2023-02-03T17:29:12.583Z"
   },
   {
    "duration": 11,
    "start_time": "2023-02-03T17:29:31.343Z"
   },
   {
    "duration": 12,
    "start_time": "2023-02-03T17:29:32.658Z"
   },
   {
    "duration": 5005,
    "start_time": "2023-02-03T17:30:32.077Z"
   },
   {
    "duration": 32,
    "start_time": "2023-02-03T17:30:45.402Z"
   },
   {
    "duration": 1032,
    "start_time": "2023-02-03T17:31:47.907Z"
   },
   {
    "duration": 31,
    "start_time": "2023-02-03T17:31:48.941Z"
   },
   {
    "duration": 16,
    "start_time": "2023-02-03T17:31:48.973Z"
   },
   {
    "duration": 10,
    "start_time": "2023-02-03T17:31:48.992Z"
   },
   {
    "duration": 6,
    "start_time": "2023-02-03T17:31:49.004Z"
   },
   {
    "duration": 11,
    "start_time": "2023-02-03T17:31:49.011Z"
   },
   {
    "duration": 6,
    "start_time": "2023-02-03T17:31:49.024Z"
   },
   {
    "duration": 923,
    "start_time": "2023-02-03T17:31:49.032Z"
   },
   {
    "duration": 11,
    "start_time": "2023-02-03T17:31:49.957Z"
   },
   {
    "duration": 563,
    "start_time": "2023-02-03T17:31:49.970Z"
   },
   {
    "duration": 578,
    "start_time": "2023-02-03T17:31:50.535Z"
   },
   {
    "duration": 103,
    "start_time": "2023-02-03T17:31:51.114Z"
   },
   {
    "duration": 0,
    "start_time": "2023-02-03T17:31:51.218Z"
   },
   {
    "duration": 0,
    "start_time": "2023-02-03T17:31:51.219Z"
   },
   {
    "duration": 0,
    "start_time": "2023-02-03T17:31:51.221Z"
   },
   {
    "duration": 0,
    "start_time": "2023-02-03T17:31:51.222Z"
   },
   {
    "duration": 0,
    "start_time": "2023-02-03T17:31:51.223Z"
   },
   {
    "duration": 0,
    "start_time": "2023-02-03T17:31:51.224Z"
   },
   {
    "duration": 0,
    "start_time": "2023-02-03T17:31:51.225Z"
   },
   {
    "duration": 0,
    "start_time": "2023-02-03T17:31:51.226Z"
   },
   {
    "duration": 0,
    "start_time": "2023-02-03T17:31:51.227Z"
   },
   {
    "duration": 0,
    "start_time": "2023-02-03T17:31:51.228Z"
   },
   {
    "duration": 0,
    "start_time": "2023-02-03T17:31:51.248Z"
   },
   {
    "duration": 11,
    "start_time": "2023-02-03T17:32:10.253Z"
   },
   {
    "duration": 13,
    "start_time": "2023-02-03T17:32:13.750Z"
   },
   {
    "duration": 10,
    "start_time": "2023-02-03T17:32:42.031Z"
   },
   {
    "duration": 18877,
    "start_time": "2023-02-03T17:32:52.991Z"
   },
   {
    "duration": 434,
    "start_time": "2023-02-03T17:33:11.870Z"
   },
   {
    "duration": 373,
    "start_time": "2023-02-03T17:33:26.807Z"
   },
   {
    "duration": 187,
    "start_time": "2023-02-03T17:33:32.316Z"
   },
   {
    "duration": 17962,
    "start_time": "2023-02-03T17:33:53.507Z"
   },
   {
    "duration": 69,
    "start_time": "2023-02-03T17:34:21.717Z"
   },
   {
    "duration": 19926,
    "start_time": "2023-02-03T17:35:25.272Z"
   },
   {
    "duration": 19609,
    "start_time": "2023-02-03T17:37:31.554Z"
   },
   {
    "duration": 33,
    "start_time": "2023-02-03T17:38:00.674Z"
   },
   {
    "duration": 43,
    "start_time": "2023-02-03T17:38:06.374Z"
   },
   {
    "duration": 5,
    "start_time": "2023-02-03T17:38:10.341Z"
   },
   {
    "duration": 1249,
    "start_time": "2023-02-04T06:14:33.366Z"
   },
   {
    "duration": 121,
    "start_time": "2023-02-04T06:14:34.616Z"
   },
   {
    "duration": 17,
    "start_time": "2023-02-04T06:14:34.739Z"
   },
   {
    "duration": 11,
    "start_time": "2023-02-04T06:14:34.757Z"
   },
   {
    "duration": 6,
    "start_time": "2023-02-04T06:14:34.770Z"
   },
   {
    "duration": 13,
    "start_time": "2023-02-04T06:14:34.778Z"
   },
   {
    "duration": 5,
    "start_time": "2023-02-04T06:14:34.793Z"
   },
   {
    "duration": 957,
    "start_time": "2023-02-04T06:14:34.800Z"
   },
   {
    "duration": 12,
    "start_time": "2023-02-04T06:14:35.758Z"
   },
   {
    "duration": 625,
    "start_time": "2023-02-04T06:14:35.772Z"
   },
   {
    "duration": 585,
    "start_time": "2023-02-04T06:14:36.399Z"
   },
   {
    "duration": 15,
    "start_time": "2023-02-04T06:14:36.985Z"
   },
   {
    "duration": 48,
    "start_time": "2023-02-04T06:14:37.002Z"
   },
   {
    "duration": 0,
    "start_time": "2023-02-04T06:14:37.052Z"
   },
   {
    "duration": 0,
    "start_time": "2023-02-04T06:14:37.053Z"
   },
   {
    "duration": 0,
    "start_time": "2023-02-04T06:14:37.055Z"
   },
   {
    "duration": 0,
    "start_time": "2023-02-04T06:14:37.055Z"
   },
   {
    "duration": 0,
    "start_time": "2023-02-04T06:14:37.057Z"
   },
   {
    "duration": 0,
    "start_time": "2023-02-04T06:14:37.058Z"
   },
   {
    "duration": 0,
    "start_time": "2023-02-04T06:14:37.058Z"
   },
   {
    "duration": 0,
    "start_time": "2023-02-04T06:14:37.059Z"
   },
   {
    "duration": 0,
    "start_time": "2023-02-04T06:14:37.061Z"
   },
   {
    "duration": 0,
    "start_time": "2023-02-04T06:14:37.062Z"
   },
   {
    "duration": 528,
    "start_time": "2023-02-04T06:15:09.534Z"
   },
   {
    "duration": 4,
    "start_time": "2023-02-04T06:15:16.502Z"
   },
   {
    "duration": 6,
    "start_time": "2023-02-04T06:16:04.866Z"
   },
   {
    "duration": 6,
    "start_time": "2023-02-04T06:16:37.632Z"
   },
   {
    "duration": 11,
    "start_time": "2023-02-04T06:16:42.644Z"
   },
   {
    "duration": 12,
    "start_time": "2023-02-04T06:17:18.241Z"
   },
   {
    "duration": 97,
    "start_time": "2023-02-04T06:17:21.971Z"
   },
   {
    "duration": 14,
    "start_time": "2023-02-04T06:17:27.217Z"
   },
   {
    "duration": 12,
    "start_time": "2023-02-04T06:17:31.710Z"
   },
   {
    "duration": 14,
    "start_time": "2023-02-04T06:17:35.426Z"
   },
   {
    "duration": 646,
    "start_time": "2023-02-04T06:18:11.019Z"
   },
   {
    "duration": 11,
    "start_time": "2023-02-04T06:19:03.581Z"
   },
   {
    "duration": 11,
    "start_time": "2023-02-04T06:19:08.077Z"
   },
   {
    "duration": 564,
    "start_time": "2023-02-04T06:19:15.975Z"
   },
   {
    "duration": 13,
    "start_time": "2023-02-04T06:20:19.933Z"
   },
   {
    "duration": 11,
    "start_time": "2023-02-04T06:20:23.917Z"
   },
   {
    "duration": 1255,
    "start_time": "2023-02-04T06:21:49.011Z"
   },
   {
    "duration": 29,
    "start_time": "2023-02-04T06:21:50.268Z"
   },
   {
    "duration": 35,
    "start_time": "2023-02-04T06:21:50.299Z"
   },
   {
    "duration": 12,
    "start_time": "2023-02-04T06:21:50.335Z"
   },
   {
    "duration": 5,
    "start_time": "2023-02-04T06:21:50.350Z"
   },
   {
    "duration": 19,
    "start_time": "2023-02-04T06:21:50.357Z"
   },
   {
    "duration": 9,
    "start_time": "2023-02-04T06:21:50.378Z"
   },
   {
    "duration": 984,
    "start_time": "2023-02-04T06:21:50.389Z"
   },
   {
    "duration": 20,
    "start_time": "2023-02-04T06:21:51.375Z"
   },
   {
    "duration": 613,
    "start_time": "2023-02-04T06:21:51.396Z"
   },
   {
    "duration": 560,
    "start_time": "2023-02-04T06:21:52.010Z"
   },
   {
    "duration": 20,
    "start_time": "2023-02-04T06:21:52.572Z"
   },
   {
    "duration": 19236,
    "start_time": "2023-02-04T06:21:52.595Z"
   },
   {
    "duration": 438,
    "start_time": "2023-02-04T06:22:11.833Z"
   },
   {
    "duration": 371,
    "start_time": "2023-02-04T06:22:12.273Z"
   },
   {
    "duration": 196,
    "start_time": "2023-02-04T06:22:12.646Z"
   },
   {
    "duration": 18658,
    "start_time": "2023-02-04T06:22:12.844Z"
   },
   {
    "duration": 70,
    "start_time": "2023-02-04T06:22:31.504Z"
   },
   {
    "duration": 19156,
    "start_time": "2023-02-04T06:22:31.576Z"
   },
   {
    "duration": 32,
    "start_time": "2023-02-04T06:22:50.734Z"
   },
   {
    "duration": 47,
    "start_time": "2023-02-04T06:22:50.767Z"
   },
   {
    "duration": 4,
    "start_time": "2023-02-04T06:22:50.816Z"
   },
   {
    "duration": 507,
    "start_time": "2023-02-04T06:24:59.441Z"
   },
   {
    "duration": 5,
    "start_time": "2023-02-04T06:25:06.568Z"
   },
   {
    "duration": 3,
    "start_time": "2023-02-04T06:25:14.726Z"
   },
   {
    "duration": 4,
    "start_time": "2023-02-04T06:25:20.698Z"
   },
   {
    "duration": 526,
    "start_time": "2023-02-04T06:25:30.698Z"
   },
   {
    "duration": 19099,
    "start_time": "2023-02-04T06:26:56.323Z"
   },
   {
    "duration": 5,
    "start_time": "2023-02-04T06:27:35.338Z"
   },
   {
    "duration": 8,
    "start_time": "2023-02-04T06:27:44.491Z"
   },
   {
    "duration": 517,
    "start_time": "2023-02-04T06:27:48.701Z"
   },
   {
    "duration": 145,
    "start_time": "2023-02-04T06:28:08.867Z"
   },
   {
    "duration": 214,
    "start_time": "2023-02-04T06:28:11.885Z"
   },
   {
    "duration": 21595,
    "start_time": "2023-02-04T06:29:36.957Z"
   },
   {
    "duration": 5,
    "start_time": "2023-02-04T06:30:06.931Z"
   },
   {
    "duration": 2,
    "start_time": "2023-02-04T06:30:48.109Z"
   },
   {
    "duration": 183,
    "start_time": "2023-02-04T06:30:55.974Z"
   },
   {
    "duration": 7608,
    "start_time": "2023-02-04T06:31:18.700Z"
   },
   {
    "duration": 2,
    "start_time": "2023-02-04T06:31:26.310Z"
   },
   {
    "duration": 156,
    "start_time": "2023-02-04T06:31:26.314Z"
   },
   {
    "duration": 36207,
    "start_time": "2023-02-04T06:31:39.088Z"
   },
   {
    "duration": 3,
    "start_time": "2023-02-04T06:32:15.297Z"
   },
   {
    "duration": 169,
    "start_time": "2023-02-04T06:32:15.302Z"
   },
   {
    "duration": 211,
    "start_time": "2023-02-04T06:32:30.606Z"
   },
   {
    "duration": 220,
    "start_time": "2023-02-04T06:33:11.599Z"
   },
   {
    "duration": 237,
    "start_time": "2023-02-04T06:34:09.676Z"
   },
   {
    "duration": 224,
    "start_time": "2023-02-04T06:34:15.102Z"
   },
   {
    "duration": 337,
    "start_time": "2023-02-04T06:34:20.412Z"
   },
   {
    "duration": 249,
    "start_time": "2023-02-04T06:34:23.404Z"
   },
   {
    "duration": 10575,
    "start_time": "2023-02-04T06:37:42.457Z"
   },
   {
    "duration": 0,
    "start_time": "2023-02-04T06:37:53.034Z"
   },
   {
    "duration": 23177,
    "start_time": "2023-02-04T06:37:56.523Z"
   },
   {
    "duration": 22036,
    "start_time": "2023-02-04T06:38:59.699Z"
   },
   {
    "duration": 7,
    "start_time": "2023-02-04T06:39:41.032Z"
   },
   {
    "duration": 5,
    "start_time": "2023-02-04T06:39:46.273Z"
   },
   {
    "duration": 17,
    "start_time": "2023-02-04T06:42:19.081Z"
   },
   {
    "duration": 6,
    "start_time": "2023-02-04T06:42:38.216Z"
   },
   {
    "duration": 7,
    "start_time": "2023-02-04T06:42:54.485Z"
   }
  ],
  "kernelspec": {
   "display_name": "Python 3",
   "language": "python",
   "name": "python3"
  },
  "language_info": {
   "codemirror_mode": {
    "name": "ipython",
    "version": 3
   },
   "file_extension": ".py",
   "mimetype": "text/x-python",
   "name": "python",
   "nbconvert_exporter": "python",
   "pygments_lexer": "ipython3",
   "version": "3.8.8"
  },
  "toc": {
   "base_numbering": 1,
   "nav_menu": {},
   "number_sections": true,
   "sideBar": true,
   "skip_h1_title": true,
   "title_cell": "Table of Contents",
   "title_sidebar": "Contents",
   "toc_cell": false,
   "toc_position": {},
   "toc_section_display": true,
   "toc_window_display": true
  }
 },
 "nbformat": 4,
 "nbformat_minor": 2
}
