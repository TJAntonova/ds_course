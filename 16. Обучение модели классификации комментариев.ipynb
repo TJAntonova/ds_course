{
 "cells": [
  {
   "cell_type": "markdown",
   "metadata": {
    "toc": true
   },
   "source": [
    "<h1>Содержание<span class=\"tocSkip\"></span></h1>\n",
    "<div class=\"toc\"><ul class=\"toc-item\"><li><span><a href=\"#Импорт-библиотек\" data-toc-modified-id=\"Импорт-библиотек-1\"><span class=\"toc-item-num\">1&nbsp;&nbsp;</span>Импорт библиотек</a></span></li><li><span><a href=\"#Загрузка-данных\" data-toc-modified-id=\"Загрузка-данных-2\"><span class=\"toc-item-num\">2&nbsp;&nbsp;</span>Загрузка данных</a></span></li><li><span><a href=\"#Предобработка\" data-toc-modified-id=\"Предобработка-3\"><span class=\"toc-item-num\">3&nbsp;&nbsp;</span>Предобработка</a></span></li><li><span><a href=\"#Обучение\" data-toc-modified-id=\"Обучение-4\"><span class=\"toc-item-num\">4&nbsp;&nbsp;</span>Обучение</a></span></li><li><span><a href=\"#Выводы\" data-toc-modified-id=\"Выводы-5\"><span class=\"toc-item-num\">5&nbsp;&nbsp;</span>Выводы</a></span></li><li><span><a href=\"#Чек-лист-проверки\" data-toc-modified-id=\"Чек-лист-проверки-6\"><span class=\"toc-item-num\">6&nbsp;&nbsp;</span>Чек-лист проверки</a></span></li></ul></div>"
   ]
  },
  {
   "cell_type": "markdown",
   "metadata": {},
   "source": [
    "# Проект для «Викишоп»"
   ]
  },
  {
   "cell_type": "markdown",
   "metadata": {},
   "source": [
    "Интернет-магазин «Викишоп» запускает новый сервис. Теперь пользователи могут редактировать и дополнять описания товаров, как в вики-сообществах. То есть клиенты предлагают свои правки и комментируют изменения других. Магазину нужен инструмент, который будет искать токсичные комментарии и отправлять их на модерацию. \n",
    "\n",
    "**Цель проекта** - обучить модель классифицировать комментарии на позитивные и негативные со значением метрики качества *F1* не меньше 0.75. \n",
    "\n",
    "\n",
    "**Задачи проекта**\n",
    "\n",
    "1. Загрузить и подготовить данные.\n",
    "2. Обучить разные модели. \n",
    "3. Сделать выводы.\n",
    "\n",
    "\n",
    "**Описание данных**\n",
    "\n",
    "В нашем распоряжении набор данных с разметкой о токсичности правок. Данные находятся в файле `toxic_comments.csv`. Столбец *text* в нём содержит текст комментария, а *toxic* — целевой признак."
   ]
  },
  {
   "cell_type": "markdown",
   "metadata": {},
   "source": [
    "## Импорт библиотек"
   ]
  },
  {
   "cell_type": "code",
   "execution_count": 1,
   "metadata": {},
   "outputs": [
    {
     "name": "stdout",
     "output_type": "stream",
     "text": [
      "Requirement already satisfied: optuna in c:\\users\\js\\anaconda3\\lib\\site-packages (3.1.0)\n",
      "Requirement already satisfied: sqlalchemy>=1.3.0 in c:\\users\\js\\anaconda3\\lib\\site-packages (from optuna) (1.4.7)\n",
      "Requirement already satisfied: numpy in c:\\users\\js\\anaconda3\\lib\\site-packages (from optuna) (1.20.1)\n",
      "Requirement already satisfied: PyYAML in c:\\users\\js\\anaconda3\\lib\\site-packages (from optuna) (5.4.1)\n",
      "Requirement already satisfied: packaging>=20.0 in c:\\users\\js\\anaconda3\\lib\\site-packages (from optuna) (23.0)\n",
      "Requirement already satisfied: alembic>=1.5.0 in c:\\users\\js\\anaconda3\\lib\\site-packages (from optuna) (1.10.3)\n",
      "Requirement already satisfied: tqdm in c:\\users\\js\\anaconda3\\lib\\site-packages (from optuna) (4.59.0)\n",
      "Requirement already satisfied: cmaes>=0.9.1 in c:\\users\\js\\anaconda3\\lib\\site-packages (from optuna) (0.9.1)\n",
      "Requirement already satisfied: colorlog in c:\\users\\js\\anaconda3\\lib\\site-packages (from optuna) (6.7.0)\n",
      "Requirement already satisfied: typing-extensions>=4 in c:\\users\\js\\anaconda3\\lib\\site-packages (from alembic>=1.5.0->optuna) (4.5.0)\n",
      "Requirement already satisfied: importlib-metadata in c:\\users\\js\\anaconda3\\lib\\site-packages (from alembic>=1.5.0->optuna) (4.11.4)\n",
      "Note: you may need to restart the kernel to use updated packages.Requirement already satisfied: importlib-resources in c:\\users\\js\\anaconda3\\lib\\site-packages (from alembic>=1.5.0->optuna) (5.12.0)\n",
      "Requirement already satisfied: Mako in c:\\users\\js\\anaconda3\\lib\\site-packages (from alembic>=1.5.0->optuna) (1.2.4)\n",
      "Requirement already satisfied: greenlet!=0.4.17 in c:\\users\\js\\anaconda3\\lib\\site-packages (from sqlalchemy>=1.3.0->optuna) (1.0.0)\n",
      "Requirement already satisfied: colorama in c:\\users\\js\\anaconda3\\lib\\site-packages (from colorlog->optuna) (0.4.4)\n",
      "Requirement already satisfied: zipp>=0.5 in c:\\users\\js\\anaconda3\\lib\\site-packages (from importlib-metadata->alembic>=1.5.0->optuna) (3.4.1)\n",
      "Requirement already satisfied: MarkupSafe>=0.9.2 in c:\\users\\js\\anaconda3\\lib\\site-packages (from Mako->alembic>=1.5.0->optuna) (1.1.1)\n",
      "\n"
     ]
    }
   ],
   "source": [
    "pip install optuna"
   ]
  },
  {
   "cell_type": "code",
   "execution_count": 2,
   "metadata": {
    "scrolled": true
   },
   "outputs": [
    {
     "name": "stderr",
     "output_type": "stream",
     "text": [
      "[nltk_data] Downloading package averaged_perceptron_tagger to\n",
      "[nltk_data]     C:\\Users\\js\\AppData\\Roaming\\nltk_data...\n",
      "[nltk_data]   Package averaged_perceptron_tagger is already up-to-\n",
      "[nltk_data]       date!\n"
     ]
    }
   ],
   "source": [
    "import pandas as pd\n",
    "import numpy as np\n",
    "import re\n",
    "import nltk\n",
    "\n",
    "nltk.download('averaged_perceptron_tagger')\n",
    "from nltk.tokenize import word_tokenize\n",
    "from nltk.tag import pos_tag\n",
    "from nltk.stem import WordNetLemmatizer \n",
    "from nltk.corpus import stopwords\n",
    "from nltk.corpus import wordnet as wn\n",
    "from collections import defaultdict\n",
    "\n",
    "from sklearn.model_selection import train_test_split\n",
    "from sklearn.feature_extraction.text import TfidfVectorizer\n",
    "\n",
    "import optuna\n",
    "\n",
    "from sklearn.linear_model import LogisticRegression\n",
    "from catboost import CatBoostClassifier\n",
    "import lightgbm as lgb\n",
    "\n",
    "from sklearn.metrics import f1_score\n",
    "\n",
    "import warnings\n",
    "warnings.filterwarnings(\"ignore\")"
   ]
  },
  {
   "cell_type": "markdown",
   "metadata": {},
   "source": [
    "## Загрузка данных"
   ]
  },
  {
   "cell_type": "code",
   "execution_count": 3,
   "metadata": {},
   "outputs": [],
   "source": [
    "server_path = '/datasets/'\n",
    "local_path = ''\n",
    "data = 'toxic_comments.csv'\n",
    "\n",
    "try:\n",
    "    data = pd.read_csv(server_path + data, index_col=0)  \n",
    "except: \n",
    "    data = pd.read_csv(local_path + data, index_col=0)  \n",
    "  \n"
   ]
  },
  {
   "cell_type": "code",
   "execution_count": 4,
   "metadata": {},
   "outputs": [
    {
     "data": {
      "text/html": [
       "<div>\n",
       "<style scoped>\n",
       "    .dataframe tbody tr th:only-of-type {\n",
       "        vertical-align: middle;\n",
       "    }\n",
       "\n",
       "    .dataframe tbody tr th {\n",
       "        vertical-align: top;\n",
       "    }\n",
       "\n",
       "    .dataframe thead th {\n",
       "        text-align: right;\n",
       "    }\n",
       "</style>\n",
       "<table border=\"1\" class=\"dataframe\">\n",
       "  <thead>\n",
       "    <tr style=\"text-align: right;\">\n",
       "      <th></th>\n",
       "      <th>text</th>\n",
       "      <th>toxic</th>\n",
       "    </tr>\n",
       "  </thead>\n",
       "  <tbody>\n",
       "    <tr>\n",
       "      <th>0</th>\n",
       "      <td>Explanation\\nWhy the edits made under my usern...</td>\n",
       "      <td>0</td>\n",
       "    </tr>\n",
       "    <tr>\n",
       "      <th>1</th>\n",
       "      <td>D'aww! He matches this background colour I'm s...</td>\n",
       "      <td>0</td>\n",
       "    </tr>\n",
       "    <tr>\n",
       "      <th>2</th>\n",
       "      <td>Hey man, I'm really not trying to edit war. It...</td>\n",
       "      <td>0</td>\n",
       "    </tr>\n",
       "    <tr>\n",
       "      <th>3</th>\n",
       "      <td>\"\\nMore\\nI can't make any real suggestions on ...</td>\n",
       "      <td>0</td>\n",
       "    </tr>\n",
       "    <tr>\n",
       "      <th>4</th>\n",
       "      <td>You, sir, are my hero. Any chance you remember...</td>\n",
       "      <td>0</td>\n",
       "    </tr>\n",
       "  </tbody>\n",
       "</table>\n",
       "</div>"
      ],
      "text/plain": [
       "                                                text  toxic\n",
       "0  Explanation\\nWhy the edits made under my usern...      0\n",
       "1  D'aww! He matches this background colour I'm s...      0\n",
       "2  Hey man, I'm really not trying to edit war. It...      0\n",
       "3  \"\\nMore\\nI can't make any real suggestions on ...      0\n",
       "4  You, sir, are my hero. Any chance you remember...      0"
      ]
     },
     "execution_count": 4,
     "metadata": {},
     "output_type": "execute_result"
    }
   ],
   "source": [
    "data.head()"
   ]
  },
  {
   "cell_type": "code",
   "execution_count": 5,
   "metadata": {},
   "outputs": [
    {
     "name": "stdout",
     "output_type": "stream",
     "text": [
      "<class 'pandas.core.frame.DataFrame'>\n",
      "Int64Index: 159292 entries, 0 to 159450\n",
      "Data columns (total 2 columns):\n",
      " #   Column  Non-Null Count   Dtype \n",
      "---  ------  --------------   ----- \n",
      " 0   text    159292 non-null  object\n",
      " 1   toxic   159292 non-null  int64 \n",
      "dtypes: int64(1), object(1)\n",
      "memory usage: 3.6+ MB\n"
     ]
    }
   ],
   "source": [
    "data.info()"
   ]
  },
  {
   "cell_type": "code",
   "execution_count": 6,
   "metadata": {},
   "outputs": [
    {
     "data": {
      "text/plain": [
       "text     0\n",
       "toxic    0\n",
       "dtype: int64"
      ]
     },
     "execution_count": 6,
     "metadata": {},
     "output_type": "execute_result"
    }
   ],
   "source": [
    "data.isnull().sum()"
   ]
  },
  {
   "cell_type": "code",
   "execution_count": 7,
   "metadata": {},
   "outputs": [
    {
     "data": {
      "text/plain": [
       "0    143106\n",
       "1     16186\n",
       "Name: toxic, dtype: int64"
      ]
     },
     "execution_count": 7,
     "metadata": {},
     "output_type": "execute_result"
    }
   ],
   "source": [
    "data['toxic'].value_counts()"
   ]
  },
  {
   "cell_type": "code",
   "execution_count": 8,
   "metadata": {},
   "outputs": [
    {
     "data": {
      "text/plain": [
       "0"
      ]
     },
     "execution_count": 8,
     "metadata": {},
     "output_type": "execute_result"
    }
   ],
   "source": [
    "data.duplicated().sum() "
   ]
  },
  {
   "cell_type": "markdown",
   "metadata": {},
   "source": [
    "Пропусков и дубликатов в данных не обнаружено. Целевой признак неравномерен. Пока оставим, посмотрим, как обучится модель."
   ]
  },
  {
   "cell_type": "markdown",
   "metadata": {},
   "source": [
    "## Предобработка"
   ]
  },
  {
   "cell_type": "code",
   "execution_count": 9,
   "metadata": {},
   "outputs": [],
   "source": [
    "stop_words = set(stopwords.words('english'))"
   ]
  },
  {
   "cell_type": "code",
   "execution_count": 10,
   "metadata": {},
   "outputs": [],
   "source": [
    "lemmatizer = WordNetLemmatizer()"
   ]
  },
  {
   "cell_type": "code",
   "execution_count": 11,
   "metadata": {},
   "outputs": [],
   "source": [
    "def preproc(text):\n",
    "    text = re.sub(r'[^a-zA-z ]', ' ', text)\n",
    "    text = text.lower()\n",
    "    token = nltk.word_tokenize(text)\n",
    "    text = [word for word in token if word not in stop_words]\n",
    "    tag_map = defaultdict(lambda : wn.NOUN)\n",
    "    tag_map['J'] = wn.ADJ\n",
    "    tag_map['V'] = wn.VERB\n",
    "    tag_map['R'] = wn.ADV\n",
    "    tag_map['R'] = wn.NOUN\n",
    "    text = [lemmatizer.lemmatize(word, tag_map[tag[0]]) for word, tag in pos_tag(text)]\n",
    "    text = ' '.join(text)\n",
    "    return text"
   ]
  },
  {
   "cell_type": "code",
   "execution_count": 12,
   "metadata": {},
   "outputs": [
    {
     "data": {
      "text/html": [
       "<div>\n",
       "<style scoped>\n",
       "    .dataframe tbody tr th:only-of-type {\n",
       "        vertical-align: middle;\n",
       "    }\n",
       "\n",
       "    .dataframe tbody tr th {\n",
       "        vertical-align: top;\n",
       "    }\n",
       "\n",
       "    .dataframe thead th {\n",
       "        text-align: right;\n",
       "    }\n",
       "</style>\n",
       "<table border=\"1\" class=\"dataframe\">\n",
       "  <thead>\n",
       "    <tr style=\"text-align: right;\">\n",
       "      <th></th>\n",
       "      <th>text</th>\n",
       "      <th>toxic</th>\n",
       "      <th>preproc</th>\n",
       "    </tr>\n",
       "  </thead>\n",
       "  <tbody>\n",
       "    <tr>\n",
       "      <th>0</th>\n",
       "      <td>Explanation\\nWhy the edits made under my usern...</td>\n",
       "      <td>0</td>\n",
       "      <td>explanation edits make username hardcore metal...</td>\n",
       "    </tr>\n",
       "    <tr>\n",
       "      <th>1</th>\n",
       "      <td>D'aww! He matches this background colour I'm s...</td>\n",
       "      <td>0</td>\n",
       "      <td>aww match background colour seemingly stuck th...</td>\n",
       "    </tr>\n",
       "    <tr>\n",
       "      <th>2</th>\n",
       "      <td>Hey man, I'm really not trying to edit war. It...</td>\n",
       "      <td>0</td>\n",
       "      <td>hey man really try edit war guy constantly rem...</td>\n",
       "    </tr>\n",
       "    <tr>\n",
       "      <th>3</th>\n",
       "      <td>\"\\nMore\\nI can't make any real suggestions on ...</td>\n",
       "      <td>0</td>\n",
       "      <td>make real suggestion improvement wonder sectio...</td>\n",
       "    </tr>\n",
       "    <tr>\n",
       "      <th>4</th>\n",
       "      <td>You, sir, are my hero. Any chance you remember...</td>\n",
       "      <td>0</td>\n",
       "      <td>sir hero chance remember page</td>\n",
       "    </tr>\n",
       "  </tbody>\n",
       "</table>\n",
       "</div>"
      ],
      "text/plain": [
       "                                                text  toxic  \\\n",
       "0  Explanation\\nWhy the edits made under my usern...      0   \n",
       "1  D'aww! He matches this background colour I'm s...      0   \n",
       "2  Hey man, I'm really not trying to edit war. It...      0   \n",
       "3  \"\\nMore\\nI can't make any real suggestions on ...      0   \n",
       "4  You, sir, are my hero. Any chance you remember...      0   \n",
       "\n",
       "                                             preproc  \n",
       "0  explanation edits make username hardcore metal...  \n",
       "1  aww match background colour seemingly stuck th...  \n",
       "2  hey man really try edit war guy constantly rem...  \n",
       "3  make real suggestion improvement wonder sectio...  \n",
       "4                      sir hero chance remember page  "
      ]
     },
     "execution_count": 12,
     "metadata": {},
     "output_type": "execute_result"
    }
   ],
   "source": [
    "data['preproc'] = data['text'].apply(preproc)\n",
    "data.head()"
   ]
  },
  {
   "cell_type": "code",
   "execution_count": 13,
   "metadata": {},
   "outputs": [],
   "source": [
    "df = data.copy()"
   ]
  },
  {
   "cell_type": "code",
   "execution_count": 14,
   "metadata": {},
   "outputs": [
    {
     "name": "stdout",
     "output_type": "stream",
     "text": [
      "(111504, 3)\n",
      "(23894, 3)\n",
      "(23894, 3)\n"
     ]
    }
   ],
   "source": [
    "train, test = train_test_split(df,\n",
    "                        test_size = 0.3,\n",
    "                        random_state = 12348,\n",
    "                       stratify = df['toxic'])\n",
    "valid, test = train_test_split(test,\n",
    "                        test_size = 0.5,\n",
    "                        random_state = 12348,\n",
    "                       stratify = test['toxic'])\n",
    "\n",
    "print(train.shape)\n",
    "print(valid.shape)\n",
    "print(test.shape)"
   ]
  },
  {
   "cell_type": "markdown",
   "metadata": {},
   "source": [
    "<font color='blue'><b>Комментарий ревьюера : </b></font> ✔️\\\n",
    "<font color='green'> Здорово, что у нас есть три выборки!</font>"
   ]
  },
  {
   "cell_type": "code",
   "execution_count": 15,
   "metadata": {},
   "outputs": [
    {
     "name": "stdout",
     "output_type": "stream",
     "text": [
      "0.10161070454871574\n",
      "0.10161546831840629\n",
      "0.10161546831840629\n"
     ]
    }
   ],
   "source": [
    "for sample in [train, valid, test]:    \n",
    "    print(sample[sample['toxic'] == 1].shape[0] / sample.shape[0])"
   ]
  },
  {
   "cell_type": "code",
   "execution_count": 16,
   "metadata": {},
   "outputs": [
    {
     "data": {
      "text/html": [
       "<div>\n",
       "<style scoped>\n",
       "    .dataframe tbody tr th:only-of-type {\n",
       "        vertical-align: middle;\n",
       "    }\n",
       "\n",
       "    .dataframe tbody tr th {\n",
       "        vertical-align: top;\n",
       "    }\n",
       "\n",
       "    .dataframe thead th {\n",
       "        text-align: right;\n",
       "    }\n",
       "</style>\n",
       "<table border=\"1\" class=\"dataframe\">\n",
       "  <thead>\n",
       "    <tr style=\"text-align: right;\">\n",
       "      <th></th>\n",
       "      <th>text</th>\n",
       "      <th>toxic</th>\n",
       "      <th>preproc</th>\n",
       "    </tr>\n",
       "  </thead>\n",
       "  <tbody>\n",
       "    <tr>\n",
       "      <th>49048</th>\n",
       "      <td>You're such a pussy fairyboy. \\n\\nBlock your t...</td>\n",
       "      <td>1</td>\n",
       "      <td>pussy fairyboy block talk page edit ghandi</td>\n",
       "    </tr>\n",
       "    <tr>\n",
       "      <th>151496</th>\n",
       "      <td>Saint Petersurg #2\\nAlright, Ill make sure.</td>\n",
       "      <td>0</td>\n",
       "      <td>saint petersurg alright ill make sure</td>\n",
       "    </tr>\n",
       "    <tr>\n",
       "      <th>80686</th>\n",
       "      <td>Recatting, etc.\\nNice shots - I'd like to get ...</td>\n",
       "      <td>0</td>\n",
       "      <td>recatting etc nice shot like get someday recat...</td>\n",
       "    </tr>\n",
       "    <tr>\n",
       "      <th>36662</th>\n",
       "      <td>Sulasgeir\\n\\nYou have flagged my Sulasgeir art...</td>\n",
       "      <td>0</td>\n",
       "      <td>sulasgeir flag sulasgeir article copy culture ...</td>\n",
       "    </tr>\n",
       "    <tr>\n",
       "      <th>11796</th>\n",
       "      <td>Are you monitoring me? \\n\\nHow did you notice ...</td>\n",
       "      <td>0</td>\n",
       "      <td>monitoring notice edit quickly content true fi...</td>\n",
       "    </tr>\n",
       "  </tbody>\n",
       "</table>\n",
       "</div>"
      ],
      "text/plain": [
       "                                                     text  toxic  \\\n",
       "49048   You're such a pussy fairyboy. \\n\\nBlock your t...      1   \n",
       "151496        Saint Petersurg #2\\nAlright, Ill make sure.      0   \n",
       "80686   Recatting, etc.\\nNice shots - I'd like to get ...      0   \n",
       "36662   Sulasgeir\\n\\nYou have flagged my Sulasgeir art...      0   \n",
       "11796   Are you monitoring me? \\n\\nHow did you notice ...      0   \n",
       "\n",
       "                                                  preproc  \n",
       "49048          pussy fairyboy block talk page edit ghandi  \n",
       "151496              saint petersurg alright ill make sure  \n",
       "80686   recatting etc nice shot like get someday recat...  \n",
       "36662   sulasgeir flag sulasgeir article copy culture ...  \n",
       "11796   monitoring notice edit quickly content true fi...  "
      ]
     },
     "execution_count": 16,
     "metadata": {},
     "output_type": "execute_result"
    }
   ],
   "source": [
    "train.head(5)"
   ]
  },
  {
   "cell_type": "code",
   "execution_count": 17,
   "metadata": {},
   "outputs": [],
   "source": [
    "tfidf = TfidfVectorizer()"
   ]
  },
  {
   "cell_type": "code",
   "execution_count": 18,
   "metadata": {},
   "outputs": [],
   "source": [
    "tfidf_train = tfidf.fit_transform(train['preproc'])\n",
    "tfidf_valid = tfidf.transform(valid['preproc'])\n",
    "tfidf_test = tfidf.transform(test['preproc'])"
   ]
  },
  {
   "cell_type": "code",
   "execution_count": 19,
   "metadata": {},
   "outputs": [
    {
     "data": {
      "text/plain": [
       "(111504, 129486)"
      ]
     },
     "execution_count": 19,
     "metadata": {},
     "output_type": "execute_result"
    }
   ],
   "source": [
    "tfidf_train.shape"
   ]
  },
  {
   "cell_type": "code",
   "execution_count": 20,
   "metadata": {},
   "outputs": [
    {
     "data": {
      "text/plain": [
       "(23894, 129486)"
      ]
     },
     "execution_count": 20,
     "metadata": {},
     "output_type": "execute_result"
    }
   ],
   "source": [
    "tfidf_test.shape"
   ]
  },
  {
   "cell_type": "code",
   "execution_count": 21,
   "metadata": {},
   "outputs": [
    {
     "data": {
      "text/plain": [
       "(23894, 129486)"
      ]
     },
     "execution_count": 21,
     "metadata": {},
     "output_type": "execute_result"
    }
   ],
   "source": [
    "tfidf_valid.shape"
   ]
  },
  {
   "cell_type": "markdown",
   "metadata": {},
   "source": [
    "## Обучение"
   ]
  },
  {
   "cell_type": "code",
   "execution_count": 22,
   "metadata": {},
   "outputs": [],
   "source": [
    "model = lgb.LGBMClassifier(n_jobs=-1, random_state = 42)\n",
    "model.fit(tfidf_train, train['toxic'])\n",
    "pred = model.predict(tfidf_valid)\n"
   ]
  },
  {
   "cell_type": "code",
   "execution_count": 23,
   "metadata": {},
   "outputs": [
    {
     "name": "stdout",
     "output_type": "stream",
     "text": [
      "f-1: 0.7619502868068835\n"
     ]
    }
   ],
   "source": [
    "f1 = f1_score(pred, valid['toxic'])\n",
    "print('f-1:', f1)"
   ]
  },
  {
   "cell_type": "code",
   "execution_count": 24,
   "metadata": {},
   "outputs": [
    {
     "name": "stdout",
     "output_type": "stream",
     "text": [
      "Learning rate set to 0.077113\n",
      "0:\tlearn: 0.6154415\ttotal: 5s\tremaining: 1h 23m 11s\n",
      "1:\tlearn: 0.5484866\ttotal: 6.95s\tremaining: 57m 49s\n",
      "2:\tlearn: 0.4912873\ttotal: 8.19s\tremaining: 45m 20s\n",
      "3:\tlearn: 0.4490393\ttotal: 9.39s\tremaining: 38m 58s\n",
      "4:\tlearn: 0.4119117\ttotal: 10.6s\tremaining: 35m 2s\n",
      "5:\tlearn: 0.3817380\ttotal: 11.7s\tremaining: 32m 25s\n",
      "6:\tlearn: 0.3567929\ttotal: 12.9s\tremaining: 30m 32s\n",
      "7:\tlearn: 0.3361845\ttotal: 14.2s\tremaining: 29m 22s\n",
      "8:\tlearn: 0.3189970\ttotal: 15.4s\tremaining: 28m 16s\n",
      "9:\tlearn: 0.3040541\ttotal: 16.6s\tremaining: 27m 21s\n",
      "10:\tlearn: 0.2918249\ttotal: 17.8s\tremaining: 26m 37s\n",
      "11:\tlearn: 0.2818345\ttotal: 18.9s\tremaining: 25m 59s\n",
      "12:\tlearn: 0.2733984\ttotal: 20.1s\tremaining: 25m 26s\n",
      "13:\tlearn: 0.2658727\ttotal: 21.3s\tremaining: 24m 56s\n",
      "14:\tlearn: 0.2588651\ttotal: 22.4s\tremaining: 24m 33s\n",
      "15:\tlearn: 0.2532158\ttotal: 23.6s\tremaining: 24m 12s\n",
      "16:\tlearn: 0.2486349\ttotal: 24.8s\tremaining: 23m 52s\n",
      "17:\tlearn: 0.2445171\ttotal: 25.9s\tremaining: 23m 35s\n",
      "18:\tlearn: 0.2410103\ttotal: 27.1s\tremaining: 23m 18s\n",
      "19:\tlearn: 0.2370172\ttotal: 28.3s\tremaining: 23m 5s\n",
      "20:\tlearn: 0.2341151\ttotal: 29.4s\tremaining: 22m 50s\n",
      "21:\tlearn: 0.2314719\ttotal: 30.5s\tremaining: 22m 37s\n",
      "22:\tlearn: 0.2289806\ttotal: 31.7s\tremaining: 22m 25s\n",
      "23:\tlearn: 0.2268558\ttotal: 32.8s\tremaining: 22m 15s\n",
      "24:\tlearn: 0.2249939\ttotal: 34s\tremaining: 22m 5s\n",
      "25:\tlearn: 0.2230793\ttotal: 35.1s\tremaining: 21m 56s\n",
      "26:\tlearn: 0.2208748\ttotal: 36.3s\tremaining: 21m 48s\n",
      "27:\tlearn: 0.2191922\ttotal: 37.5s\tremaining: 21m 40s\n",
      "28:\tlearn: 0.2178880\ttotal: 38.6s\tremaining: 21m 32s\n",
      "29:\tlearn: 0.2165701\ttotal: 39.7s\tremaining: 21m 24s\n",
      "30:\tlearn: 0.2152769\ttotal: 40.9s\tremaining: 21m 18s\n",
      "31:\tlearn: 0.2141649\ttotal: 42.1s\tremaining: 21m 12s\n",
      "32:\tlearn: 0.2130979\ttotal: 43.2s\tremaining: 21m 6s\n",
      "33:\tlearn: 0.2120649\ttotal: 44.3s\tremaining: 21m\n",
      "34:\tlearn: 0.2110328\ttotal: 45.5s\tremaining: 20m 54s\n",
      "35:\tlearn: 0.2099308\ttotal: 46.6s\tremaining: 20m 48s\n",
      "36:\tlearn: 0.2090616\ttotal: 47.8s\tremaining: 20m 43s\n",
      "37:\tlearn: 0.2082019\ttotal: 48.9s\tremaining: 20m 38s\n",
      "38:\tlearn: 0.2070743\ttotal: 50.1s\tremaining: 20m 33s\n",
      "39:\tlearn: 0.2059271\ttotal: 51.2s\tremaining: 20m 29s\n",
      "40:\tlearn: 0.2049746\ttotal: 52.4s\tremaining: 20m 25s\n",
      "41:\tlearn: 0.2040305\ttotal: 53.6s\tremaining: 20m 21s\n",
      "42:\tlearn: 0.2033956\ttotal: 54.7s\tremaining: 20m 17s\n",
      "43:\tlearn: 0.2020993\ttotal: 55.9s\tremaining: 20m 15s\n",
      "44:\tlearn: 0.2014664\ttotal: 57.1s\tremaining: 20m 11s\n",
      "45:\tlearn: 0.2008701\ttotal: 58.2s\tremaining: 20m 7s\n",
      "46:\tlearn: 0.2001936\ttotal: 59.4s\tremaining: 20m 3s\n",
      "47:\tlearn: 0.1994898\ttotal: 1m\tremaining: 20m\n",
      "48:\tlearn: 0.1988954\ttotal: 1m 1s\tremaining: 19m 56s\n",
      "49:\tlearn: 0.1982713\ttotal: 1m 2s\tremaining: 19m 53s\n",
      "50:\tlearn: 0.1977468\ttotal: 1m 3s\tremaining: 19m 49s\n",
      "51:\tlearn: 0.1971560\ttotal: 1m 5s\tremaining: 19m 46s\n",
      "52:\tlearn: 0.1963261\ttotal: 1m 6s\tremaining: 19m 43s\n",
      "53:\tlearn: 0.1956642\ttotal: 1m 7s\tremaining: 19m 40s\n",
      "54:\tlearn: 0.1949992\ttotal: 1m 8s\tremaining: 19m 37s\n",
      "55:\tlearn: 0.1944704\ttotal: 1m 9s\tremaining: 19m 34s\n",
      "56:\tlearn: 0.1939455\ttotal: 1m 10s\tremaining: 19m 31s\n",
      "57:\tlearn: 0.1934443\ttotal: 1m 12s\tremaining: 19m 29s\n",
      "58:\tlearn: 0.1928476\ttotal: 1m 13s\tremaining: 19m 27s\n",
      "59:\tlearn: 0.1923740\ttotal: 1m 14s\tremaining: 19m 24s\n",
      "60:\tlearn: 0.1917087\ttotal: 1m 15s\tremaining: 19m 22s\n",
      "61:\tlearn: 0.1910182\ttotal: 1m 16s\tremaining: 19m 20s\n",
      "62:\tlearn: 0.1901795\ttotal: 1m 17s\tremaining: 19m 18s\n",
      "63:\tlearn: 0.1897443\ttotal: 1m 18s\tremaining: 19m 15s\n",
      "64:\tlearn: 0.1892934\ttotal: 1m 20s\tremaining: 19m 12s\n",
      "65:\tlearn: 0.1888809\ttotal: 1m 21s\tremaining: 19m 10s\n",
      "66:\tlearn: 0.1884435\ttotal: 1m 22s\tremaining: 19m 7s\n",
      "67:\tlearn: 0.1879900\ttotal: 1m 23s\tremaining: 19m 5s\n",
      "68:\tlearn: 0.1875017\ttotal: 1m 24s\tremaining: 19m 2s\n",
      "69:\tlearn: 0.1869018\ttotal: 1m 25s\tremaining: 19m\n",
      "70:\tlearn: 0.1865123\ttotal: 1m 26s\tremaining: 18m 57s\n",
      "71:\tlearn: 0.1861077\ttotal: 1m 28s\tremaining: 18m 55s\n",
      "72:\tlearn: 0.1857382\ttotal: 1m 29s\tremaining: 18m 53s\n",
      "73:\tlearn: 0.1852148\ttotal: 1m 30s\tremaining: 18m 51s\n",
      "74:\tlearn: 0.1847443\ttotal: 1m 31s\tremaining: 18m 48s\n",
      "75:\tlearn: 0.1843170\ttotal: 1m 32s\tremaining: 18m 46s\n",
      "76:\tlearn: 0.1839708\ttotal: 1m 33s\tremaining: 18m 44s\n",
      "77:\tlearn: 0.1835108\ttotal: 1m 34s\tremaining: 18m 42s\n",
      "78:\tlearn: 0.1831529\ttotal: 1m 36s\tremaining: 18m 39s\n",
      "79:\tlearn: 0.1827543\ttotal: 1m 37s\tremaining: 18m 37s\n",
      "80:\tlearn: 0.1823952\ttotal: 1m 38s\tremaining: 18m 35s\n",
      "81:\tlearn: 0.1820571\ttotal: 1m 39s\tremaining: 18m 33s\n",
      "82:\tlearn: 0.1817247\ttotal: 1m 40s\tremaining: 18m 31s\n",
      "83:\tlearn: 0.1814255\ttotal: 1m 41s\tremaining: 18m 29s\n",
      "84:\tlearn: 0.1810810\ttotal: 1m 42s\tremaining: 18m 27s\n",
      "85:\tlearn: 0.1804964\ttotal: 1m 44s\tremaining: 18m 26s\n",
      "86:\tlearn: 0.1800125\ttotal: 1m 45s\tremaining: 18m 24s\n",
      "87:\tlearn: 0.1793691\ttotal: 1m 46s\tremaining: 18m 23s\n",
      "88:\tlearn: 0.1790417\ttotal: 1m 47s\tremaining: 18m 21s\n",
      "89:\tlearn: 0.1785233\ttotal: 1m 48s\tremaining: 18m 19s\n",
      "90:\tlearn: 0.1782326\ttotal: 1m 49s\tremaining: 18m 17s\n",
      "91:\tlearn: 0.1779130\ttotal: 1m 51s\tremaining: 18m 16s\n",
      "92:\tlearn: 0.1776138\ttotal: 1m 52s\tremaining: 18m 14s\n",
      "93:\tlearn: 0.1772575\ttotal: 1m 53s\tremaining: 18m 12s\n",
      "94:\tlearn: 0.1768336\ttotal: 1m 54s\tremaining: 18m 10s\n",
      "95:\tlearn: 0.1765970\ttotal: 1m 55s\tremaining: 18m 9s\n",
      "96:\tlearn: 0.1761346\ttotal: 1m 56s\tremaining: 18m 7s\n",
      "97:\tlearn: 0.1758491\ttotal: 1m 57s\tremaining: 18m 5s\n",
      "98:\tlearn: 0.1755231\ttotal: 1m 59s\tremaining: 18m 3s\n",
      "99:\tlearn: 0.1752324\ttotal: 2m\tremaining: 18m 2s\n",
      "100:\tlearn: 0.1749471\ttotal: 2m 1s\tremaining: 18m\n",
      "101:\tlearn: 0.1745124\ttotal: 2m 2s\tremaining: 17m 58s\n",
      "102:\tlearn: 0.1742526\ttotal: 2m 3s\tremaining: 17m 56s\n",
      "103:\tlearn: 0.1738598\ttotal: 2m 4s\tremaining: 17m 55s\n",
      "104:\tlearn: 0.1735933\ttotal: 2m 5s\tremaining: 17m 53s\n",
      "105:\tlearn: 0.1733601\ttotal: 2m 7s\tremaining: 17m 52s\n",
      "106:\tlearn: 0.1730225\ttotal: 2m 8s\tremaining: 17m 50s\n",
      "107:\tlearn: 0.1727599\ttotal: 2m 9s\tremaining: 17m 48s\n",
      "108:\tlearn: 0.1723219\ttotal: 2m 10s\tremaining: 17m 47s\n",
      "109:\tlearn: 0.1719834\ttotal: 2m 11s\tremaining: 17m 45s\n",
      "110:\tlearn: 0.1716464\ttotal: 2m 12s\tremaining: 17m 44s\n",
      "111:\tlearn: 0.1714240\ttotal: 2m 14s\tremaining: 17m 42s\n",
      "112:\tlearn: 0.1711738\ttotal: 2m 15s\tremaining: 17m 40s\n",
      "113:\tlearn: 0.1707614\ttotal: 2m 16s\tremaining: 17m 39s\n",
      "114:\tlearn: 0.1705200\ttotal: 2m 17s\tremaining: 17m 38s\n",
      "115:\tlearn: 0.1703036\ttotal: 2m 18s\tremaining: 17m 37s\n",
      "116:\tlearn: 0.1700524\ttotal: 2m 19s\tremaining: 17m 35s\n",
      "117:\tlearn: 0.1698484\ttotal: 2m 21s\tremaining: 17m 33s\n",
      "118:\tlearn: 0.1694799\ttotal: 2m 22s\tremaining: 17m 32s\n",
      "119:\tlearn: 0.1692500\ttotal: 2m 23s\tremaining: 17m 30s\n",
      "120:\tlearn: 0.1690195\ttotal: 2m 24s\tremaining: 17m 29s\n",
      "121:\tlearn: 0.1687711\ttotal: 2m 25s\tremaining: 17m 27s\n",
      "122:\tlearn: 0.1685044\ttotal: 2m 26s\tremaining: 17m 25s\n",
      "123:\tlearn: 0.1682954\ttotal: 2m 27s\tremaining: 17m 24s\n",
      "124:\tlearn: 0.1679787\ttotal: 2m 28s\tremaining: 17m 22s\n",
      "125:\tlearn: 0.1677057\ttotal: 2m 30s\tremaining: 17m 20s\n",
      "126:\tlearn: 0.1675319\ttotal: 2m 31s\tremaining: 17m 19s\n",
      "127:\tlearn: 0.1673245\ttotal: 2m 32s\tremaining: 17m 17s\n",
      "128:\tlearn: 0.1670950\ttotal: 2m 33s\tremaining: 17m 16s\n",
      "129:\tlearn: 0.1668308\ttotal: 2m 34s\tremaining: 17m 14s\n",
      "130:\tlearn: 0.1665937\ttotal: 2m 35s\tremaining: 17m 13s\n",
      "131:\tlearn: 0.1661668\ttotal: 2m 36s\tremaining: 17m 11s\n",
      "132:\tlearn: 0.1659947\ttotal: 2m 38s\tremaining: 17m 10s\n",
      "133:\tlearn: 0.1657975\ttotal: 2m 39s\tremaining: 17m 8s\n",
      "134:\tlearn: 0.1655827\ttotal: 2m 40s\tremaining: 17m 7s\n",
      "135:\tlearn: 0.1653657\ttotal: 2m 41s\tremaining: 17m 5s\n",
      "136:\tlearn: 0.1651911\ttotal: 2m 42s\tremaining: 17m 4s\n",
      "137:\tlearn: 0.1649729\ttotal: 2m 43s\tremaining: 17m 2s\n",
      "138:\tlearn: 0.1646516\ttotal: 2m 44s\tremaining: 17m 1s\n",
      "139:\tlearn: 0.1644524\ttotal: 2m 45s\tremaining: 16m 59s\n",
      "140:\tlearn: 0.1642730\ttotal: 2m 47s\tremaining: 16m 57s\n",
      "141:\tlearn: 0.1640484\ttotal: 2m 48s\tremaining: 16m 56s\n",
      "142:\tlearn: 0.1638743\ttotal: 2m 49s\tremaining: 16m 55s\n",
      "143:\tlearn: 0.1636242\ttotal: 2m 50s\tremaining: 16m 53s\n",
      "144:\tlearn: 0.1633744\ttotal: 2m 51s\tremaining: 16m 52s\n",
      "145:\tlearn: 0.1632063\ttotal: 2m 52s\tremaining: 16m 50s\n",
      "146:\tlearn: 0.1628943\ttotal: 2m 53s\tremaining: 16m 49s\n",
      "147:\tlearn: 0.1627255\ttotal: 2m 55s\tremaining: 16m 47s\n",
      "148:\tlearn: 0.1625108\ttotal: 2m 56s\tremaining: 16m 46s\n",
      "149:\tlearn: 0.1623016\ttotal: 2m 57s\tremaining: 16m 45s\n",
      "150:\tlearn: 0.1621283\ttotal: 2m 58s\tremaining: 16m 43s\n",
      "151:\tlearn: 0.1619539\ttotal: 2m 59s\tremaining: 16m 42s\n",
      "152:\tlearn: 0.1617353\ttotal: 3m\tremaining: 16m 40s\n",
      "153:\tlearn: 0.1615574\ttotal: 3m 1s\tremaining: 16m 39s\n",
      "154:\tlearn: 0.1612803\ttotal: 3m 3s\tremaining: 16m 37s\n",
      "155:\tlearn: 0.1611122\ttotal: 3m 4s\tremaining: 16m 36s\n",
      "156:\tlearn: 0.1608844\ttotal: 3m 5s\tremaining: 16m 34s\n",
      "157:\tlearn: 0.1606301\ttotal: 3m 6s\tremaining: 16m 33s\n",
      "158:\tlearn: 0.1604040\ttotal: 3m 7s\tremaining: 16m 32s\n",
      "159:\tlearn: 0.1602405\ttotal: 3m 8s\tremaining: 16m 30s\n",
      "160:\tlearn: 0.1600645\ttotal: 3m 9s\tremaining: 16m 29s\n",
      "161:\tlearn: 0.1598516\ttotal: 3m 10s\tremaining: 16m 27s\n",
      "162:\tlearn: 0.1596751\ttotal: 3m 12s\tremaining: 16m 26s\n",
      "163:\tlearn: 0.1594426\ttotal: 3m 13s\tremaining: 16m 25s\n",
      "164:\tlearn: 0.1592500\ttotal: 3m 14s\tremaining: 16m 23s\n",
      "165:\tlearn: 0.1590185\ttotal: 3m 15s\tremaining: 16m 22s\n",
      "166:\tlearn: 0.1588535\ttotal: 3m 16s\tremaining: 16m 20s\n",
      "167:\tlearn: 0.1586707\ttotal: 3m 17s\tremaining: 16m 19s\n",
      "168:\tlearn: 0.1584565\ttotal: 3m 18s\tremaining: 16m 18s\n",
      "169:\tlearn: 0.1582855\ttotal: 3m 20s\tremaining: 16m 16s\n",
      "170:\tlearn: 0.1581259\ttotal: 3m 21s\tremaining: 16m 15s\n",
      "171:\tlearn: 0.1579572\ttotal: 3m 22s\tremaining: 16m 13s\n",
      "172:\tlearn: 0.1577242\ttotal: 3m 23s\tremaining: 16m 12s\n",
      "173:\tlearn: 0.1575416\ttotal: 3m 24s\tremaining: 16m 11s\n",
      "174:\tlearn: 0.1573848\ttotal: 3m 25s\tremaining: 16m 10s\n",
      "175:\tlearn: 0.1570937\ttotal: 3m 26s\tremaining: 16m 8s\n",
      "176:\tlearn: 0.1569291\ttotal: 3m 28s\tremaining: 16m 7s\n",
      "177:\tlearn: 0.1567520\ttotal: 3m 29s\tremaining: 16m 6s\n",
      "178:\tlearn: 0.1565523\ttotal: 3m 30s\tremaining: 16m 4s\n",
      "179:\tlearn: 0.1562709\ttotal: 3m 31s\tremaining: 16m 3s\n",
      "180:\tlearn: 0.1560862\ttotal: 3m 32s\tremaining: 16m 2s\n",
      "181:\tlearn: 0.1559062\ttotal: 3m 34s\tremaining: 16m 6s\n",
      "182:\tlearn: 0.1557545\ttotal: 3m 40s\tremaining: 16m 25s\n",
      "183:\tlearn: 0.1555611\ttotal: 3m 41s\tremaining: 16m 23s\n",
      "184:\tlearn: 0.1554028\ttotal: 3m 42s\tremaining: 16m 22s\n",
      "185:\tlearn: 0.1552478\ttotal: 3m 44s\tremaining: 16m 20s\n",
      "186:\tlearn: 0.1550570\ttotal: 3m 45s\tremaining: 16m 18s\n",
      "187:\tlearn: 0.1549218\ttotal: 3m 46s\tremaining: 16m 17s\n",
      "188:\tlearn: 0.1547382\ttotal: 3m 47s\tremaining: 16m 16s\n",
      "189:\tlearn: 0.1546041\ttotal: 3m 48s\tremaining: 16m 14s\n",
      "190:\tlearn: 0.1544441\ttotal: 3m 49s\tremaining: 16m 12s\n",
      "191:\tlearn: 0.1542769\ttotal: 3m 50s\tremaining: 16m 11s\n",
      "192:\tlearn: 0.1540525\ttotal: 3m 52s\tremaining: 16m 10s\n",
      "193:\tlearn: 0.1538096\ttotal: 3m 53s\tremaining: 16m 8s\n",
      "194:\tlearn: 0.1536180\ttotal: 3m 54s\tremaining: 16m 7s\n",
      "195:\tlearn: 0.1534955\ttotal: 3m 55s\tremaining: 16m 5s\n",
      "196:\tlearn: 0.1533060\ttotal: 3m 56s\tremaining: 16m 3s\n",
      "197:\tlearn: 0.1531693\ttotal: 3m 57s\tremaining: 16m 2s\n",
      "198:\tlearn: 0.1529384\ttotal: 3m 58s\tremaining: 16m\n",
      "199:\tlearn: 0.1527618\ttotal: 3m 59s\tremaining: 15m 59s\n",
      "200:\tlearn: 0.1526018\ttotal: 4m 1s\tremaining: 15m 58s\n",
      "201:\tlearn: 0.1524863\ttotal: 4m 2s\tremaining: 15m 56s\n",
      "202:\tlearn: 0.1523588\ttotal: 4m 3s\tremaining: 15m 54s\n",
      "203:\tlearn: 0.1522325\ttotal: 4m 4s\tremaining: 15m 53s\n",
      "204:\tlearn: 0.1520836\ttotal: 4m 5s\tremaining: 15m 51s\n",
      "205:\tlearn: 0.1519706\ttotal: 4m 6s\tremaining: 15m 50s\n",
      "206:\tlearn: 0.1518323\ttotal: 4m 7s\tremaining: 15m 48s\n",
      "207:\tlearn: 0.1516080\ttotal: 4m 8s\tremaining: 15m 47s\n",
      "208:\tlearn: 0.1514179\ttotal: 4m 10s\tremaining: 15m 46s\n",
      "209:\tlearn: 0.1512823\ttotal: 4m 11s\tremaining: 15m 44s\n",
      "210:\tlearn: 0.1511575\ttotal: 4m 12s\tremaining: 15m 43s\n",
      "211:\tlearn: 0.1509894\ttotal: 4m 13s\tremaining: 15m 42s\n",
      "212:\tlearn: 0.1507627\ttotal: 4m 14s\tremaining: 15m 40s\n",
      "213:\tlearn: 0.1505972\ttotal: 4m 15s\tremaining: 15m 39s\n",
      "214:\tlearn: 0.1504266\ttotal: 4m 16s\tremaining: 15m 37s\n",
      "215:\tlearn: 0.1502695\ttotal: 4m 18s\tremaining: 15m 36s\n",
      "216:\tlearn: 0.1500650\ttotal: 4m 19s\tremaining: 15m 35s\n",
      "217:\tlearn: 0.1498973\ttotal: 4m 20s\tremaining: 15m 33s\n",
      "218:\tlearn: 0.1497022\ttotal: 4m 21s\tremaining: 15m 32s\n",
      "219:\tlearn: 0.1496144\ttotal: 4m 22s\tremaining: 15m 30s\n",
      "220:\tlearn: 0.1494362\ttotal: 4m 23s\tremaining: 15m 29s\n",
      "221:\tlearn: 0.1493442\ttotal: 4m 24s\tremaining: 15m 28s\n",
      "222:\tlearn: 0.1491670\ttotal: 4m 26s\tremaining: 15m 26s\n",
      "223:\tlearn: 0.1490577\ttotal: 4m 27s\tremaining: 15m 25s\n",
      "224:\tlearn: 0.1488975\ttotal: 4m 28s\tremaining: 15m 24s\n",
      "225:\tlearn: 0.1487792\ttotal: 4m 29s\tremaining: 15m 22s\n",
      "226:\tlearn: 0.1486611\ttotal: 4m 30s\tremaining: 15m 21s\n",
      "227:\tlearn: 0.1485207\ttotal: 4m 31s\tremaining: 15m 20s\n",
      "228:\tlearn: 0.1483637\ttotal: 4m 32s\tremaining: 15m 18s\n",
      "229:\tlearn: 0.1482156\ttotal: 4m 34s\tremaining: 15m 17s\n",
      "230:\tlearn: 0.1480315\ttotal: 4m 35s\tremaining: 15m 16s\n",
      "231:\tlearn: 0.1478863\ttotal: 4m 36s\tremaining: 15m 14s\n",
      "232:\tlearn: 0.1477354\ttotal: 4m 37s\tremaining: 15m 13s\n",
      "233:\tlearn: 0.1475551\ttotal: 4m 38s\tremaining: 15m 12s\n",
      "234:\tlearn: 0.1474426\ttotal: 4m 39s\tremaining: 15m 10s\n",
      "235:\tlearn: 0.1472639\ttotal: 4m 40s\tremaining: 15m 9s\n",
      "236:\tlearn: 0.1471600\ttotal: 4m 41s\tremaining: 15m 7s\n",
      "237:\tlearn: 0.1470186\ttotal: 4m 43s\tremaining: 15m 6s\n",
      "238:\tlearn: 0.1469300\ttotal: 4m 44s\tremaining: 15m 5s\n",
      "239:\tlearn: 0.1467638\ttotal: 4m 45s\tremaining: 15m 3s\n",
      "240:\tlearn: 0.1466545\ttotal: 4m 46s\tremaining: 15m 2s\n",
      "241:\tlearn: 0.1465092\ttotal: 4m 47s\tremaining: 15m 1s\n",
      "242:\tlearn: 0.1463191\ttotal: 4m 48s\tremaining: 14m 59s\n",
      "243:\tlearn: 0.1461885\ttotal: 4m 49s\tremaining: 14m 58s\n",
      "244:\tlearn: 0.1459863\ttotal: 4m 51s\tremaining: 14m 56s\n",
      "245:\tlearn: 0.1458979\ttotal: 4m 52s\tremaining: 14m 55s\n",
      "246:\tlearn: 0.1457300\ttotal: 4m 53s\tremaining: 14m 54s\n",
      "247:\tlearn: 0.1456441\ttotal: 4m 54s\tremaining: 14m 52s\n",
      "248:\tlearn: 0.1455612\ttotal: 4m 55s\tremaining: 14m 51s\n",
      "249:\tlearn: 0.1454454\ttotal: 4m 56s\tremaining: 14m 50s\n",
      "250:\tlearn: 0.1453164\ttotal: 4m 57s\tremaining: 14m 48s\n",
      "251:\tlearn: 0.1452147\ttotal: 4m 58s\tremaining: 14m 47s\n",
      "252:\tlearn: 0.1450885\ttotal: 5m\tremaining: 14m 46s\n",
      "253:\tlearn: 0.1449392\ttotal: 5m 1s\tremaining: 14m 44s\n",
      "254:\tlearn: 0.1448099\ttotal: 5m 2s\tremaining: 14m 43s\n",
      "255:\tlearn: 0.1446659\ttotal: 5m 3s\tremaining: 14m 42s\n",
      "256:\tlearn: 0.1445486\ttotal: 5m 4s\tremaining: 14m 40s\n",
      "257:\tlearn: 0.1443765\ttotal: 5m 5s\tremaining: 14m 39s\n",
      "258:\tlearn: 0.1442320\ttotal: 5m 6s\tremaining: 14m 38s\n",
      "259:\tlearn: 0.1441427\ttotal: 5m 8s\tremaining: 14m 36s\n",
      "260:\tlearn: 0.1439549\ttotal: 5m 9s\tremaining: 14m 35s\n",
      "261:\tlearn: 0.1438307\ttotal: 5m 12s\tremaining: 14m 39s\n",
      "262:\tlearn: 0.1437530\ttotal: 5m 17s\tremaining: 14m 49s\n",
      "263:\tlearn: 0.1436006\ttotal: 5m 18s\tremaining: 14m 47s\n",
      "264:\tlearn: 0.1434728\ttotal: 5m 19s\tremaining: 14m 46s\n",
      "265:\tlearn: 0.1433582\ttotal: 5m 20s\tremaining: 14m 44s\n",
      "266:\tlearn: 0.1432336\ttotal: 5m 21s\tremaining: 14m 43s\n",
      "267:\tlearn: 0.1431163\ttotal: 5m 22s\tremaining: 14m 42s\n",
      "268:\tlearn: 0.1430417\ttotal: 5m 24s\tremaining: 14m 40s\n",
      "269:\tlearn: 0.1428967\ttotal: 5m 25s\tremaining: 14m 39s\n",
      "270:\tlearn: 0.1428109\ttotal: 5m 26s\tremaining: 14m 37s\n",
      "271:\tlearn: 0.1426563\ttotal: 5m 27s\tremaining: 14m 36s\n",
      "272:\tlearn: 0.1425500\ttotal: 5m 28s\tremaining: 14m 35s\n",
      "273:\tlearn: 0.1424343\ttotal: 5m 29s\tremaining: 14m 33s\n",
      "274:\tlearn: 0.1422869\ttotal: 5m 30s\tremaining: 14m 32s\n",
      "275:\tlearn: 0.1421683\ttotal: 5m 31s\tremaining: 14m 30s\n",
      "276:\tlearn: 0.1420470\ttotal: 5m 33s\tremaining: 14m 29s\n",
      "277:\tlearn: 0.1419442\ttotal: 5m 34s\tremaining: 14m 28s\n",
      "278:\tlearn: 0.1418419\ttotal: 5m 35s\tremaining: 14m 26s\n",
      "279:\tlearn: 0.1417181\ttotal: 5m 36s\tremaining: 14m 25s\n",
      "280:\tlearn: 0.1416391\ttotal: 5m 37s\tremaining: 14m 23s\n",
      "281:\tlearn: 0.1415613\ttotal: 5m 38s\tremaining: 14m 22s\n",
      "282:\tlearn: 0.1414882\ttotal: 5m 39s\tremaining: 14m 21s\n",
      "283:\tlearn: 0.1413928\ttotal: 5m 40s\tremaining: 14m 19s\n",
      "284:\tlearn: 0.1412394\ttotal: 5m 42s\tremaining: 14m 18s\n",
      "285:\tlearn: 0.1410749\ttotal: 5m 43s\tremaining: 14m 16s\n",
      "286:\tlearn: 0.1409282\ttotal: 5m 44s\tremaining: 14m 15s\n",
      "287:\tlearn: 0.1408312\ttotal: 5m 45s\tremaining: 14m 14s\n",
      "288:\tlearn: 0.1407620\ttotal: 5m 46s\tremaining: 14m 12s\n",
      "289:\tlearn: 0.1406530\ttotal: 5m 47s\tremaining: 14m 11s\n",
      "290:\tlearn: 0.1405835\ttotal: 5m 48s\tremaining: 14m 9s\n",
      "291:\tlearn: 0.1405086\ttotal: 5m 49s\tremaining: 14m 8s\n",
      "292:\tlearn: 0.1404085\ttotal: 5m 51s\tremaining: 14m 7s\n",
      "293:\tlearn: 0.1403193\ttotal: 5m 52s\tremaining: 14m 5s\n",
      "294:\tlearn: 0.1401452\ttotal: 5m 53s\tremaining: 14m 4s\n",
      "295:\tlearn: 0.1400408\ttotal: 5m 54s\tremaining: 14m 2s\n",
      "296:\tlearn: 0.1399006\ttotal: 5m 55s\tremaining: 14m 1s\n",
      "297:\tlearn: 0.1397664\ttotal: 5m 56s\tremaining: 14m\n",
      "298:\tlearn: 0.1396691\ttotal: 5m 57s\tremaining: 13m 58s\n",
      "299:\tlearn: 0.1394818\ttotal: 5m 58s\tremaining: 13m 57s\n",
      "300:\tlearn: 0.1394155\ttotal: 6m\tremaining: 13m 56s\n",
      "301:\tlearn: 0.1393523\ttotal: 6m 1s\tremaining: 13m 54s\n",
      "302:\tlearn: 0.1392359\ttotal: 6m 2s\tremaining: 13m 53s\n",
      "303:\tlearn: 0.1390983\ttotal: 6m 3s\tremaining: 13m 52s\n",
      "304:\tlearn: 0.1389992\ttotal: 6m 4s\tremaining: 13m 50s\n",
      "305:\tlearn: 0.1388796\ttotal: 6m 5s\tremaining: 13m 49s\n",
      "306:\tlearn: 0.1387785\ttotal: 6m 6s\tremaining: 13m 48s\n",
      "307:\tlearn: 0.1386450\ttotal: 6m 8s\tremaining: 13m 46s\n",
      "308:\tlearn: 0.1385260\ttotal: 6m 9s\tremaining: 13m 45s\n",
      "309:\tlearn: 0.1384489\ttotal: 6m 10s\tremaining: 13m 44s\n",
      "310:\tlearn: 0.1383837\ttotal: 6m 11s\tremaining: 13m 42s\n",
      "311:\tlearn: 0.1383200\ttotal: 6m 12s\tremaining: 13m 41s\n",
      "312:\tlearn: 0.1382567\ttotal: 6m 13s\tremaining: 13m 39s\n",
      "313:\tlearn: 0.1381383\ttotal: 6m 14s\tremaining: 13m 38s\n",
      "314:\tlearn: 0.1380263\ttotal: 6m 15s\tremaining: 13m 37s\n",
      "315:\tlearn: 0.1379315\ttotal: 6m 16s\tremaining: 13m 36s\n",
      "316:\tlearn: 0.1378693\ttotal: 6m 18s\tremaining: 13m 34s\n",
      "317:\tlearn: 0.1377971\ttotal: 6m 19s\tremaining: 13m 33s\n",
      "318:\tlearn: 0.1376998\ttotal: 6m 20s\tremaining: 13m 32s\n",
      "319:\tlearn: 0.1375212\ttotal: 6m 21s\tremaining: 13m 30s\n",
      "320:\tlearn: 0.1374432\ttotal: 6m 22s\tremaining: 13m 29s\n",
      "321:\tlearn: 0.1373277\ttotal: 6m 23s\tremaining: 13m 28s\n",
      "322:\tlearn: 0.1372115\ttotal: 6m 24s\tremaining: 13m 26s\n",
      "323:\tlearn: 0.1370961\ttotal: 6m 26s\tremaining: 13m 25s\n",
      "324:\tlearn: 0.1370320\ttotal: 6m 27s\tremaining: 13m 24s\n",
      "325:\tlearn: 0.1369760\ttotal: 6m 28s\tremaining: 13m 22s\n",
      "326:\tlearn: 0.1368598\ttotal: 6m 29s\tremaining: 13m 21s\n",
      "327:\tlearn: 0.1367648\ttotal: 6m 30s\tremaining: 13m 20s\n",
      "328:\tlearn: 0.1366374\ttotal: 6m 35s\tremaining: 13m 25s\n",
      "329:\tlearn: 0.1365374\ttotal: 6m 38s\tremaining: 13m 29s\n",
      "330:\tlearn: 0.1364761\ttotal: 6m 39s\tremaining: 13m 28s\n",
      "331:\tlearn: 0.1363922\ttotal: 6m 40s\tremaining: 13m 26s\n",
      "332:\tlearn: 0.1362747\ttotal: 6m 42s\tremaining: 13m 25s\n",
      "333:\tlearn: 0.1361468\ttotal: 6m 43s\tremaining: 13m 24s\n",
      "334:\tlearn: 0.1360901\ttotal: 6m 44s\tremaining: 13m 23s\n",
      "335:\tlearn: 0.1360189\ttotal: 6m 45s\tremaining: 13m 21s\n",
      "336:\tlearn: 0.1359087\ttotal: 6m 46s\tremaining: 13m 20s\n",
      "337:\tlearn: 0.1357657\ttotal: 6m 48s\tremaining: 13m 19s\n",
      "338:\tlearn: 0.1356571\ttotal: 6m 49s\tremaining: 13m 18s\n",
      "339:\tlearn: 0.1355503\ttotal: 6m 50s\tremaining: 13m 17s\n",
      "340:\tlearn: 0.1354330\ttotal: 6m 51s\tremaining: 13m 16s\n",
      "341:\tlearn: 0.1353438\ttotal: 6m 53s\tremaining: 13m 14s\n",
      "342:\tlearn: 0.1352426\ttotal: 6m 54s\tremaining: 13m 13s\n",
      "343:\tlearn: 0.1351829\ttotal: 6m 55s\tremaining: 13m 12s\n",
      "344:\tlearn: 0.1351306\ttotal: 6m 56s\tremaining: 13m 10s\n",
      "345:\tlearn: 0.1350773\ttotal: 6m 57s\tremaining: 13m 9s\n",
      "346:\tlearn: 0.1349823\ttotal: 6m 58s\tremaining: 13m 7s\n",
      "347:\tlearn: 0.1348834\ttotal: 6m 59s\tremaining: 13m 6s\n",
      "348:\tlearn: 0.1347959\ttotal: 7m\tremaining: 13m 5s\n",
      "349:\tlearn: 0.1347455\ttotal: 7m 2s\tremaining: 13m 3s\n",
      "350:\tlearn: 0.1346988\ttotal: 7m 3s\tremaining: 13m 2s\n",
      "351:\tlearn: 0.1345768\ttotal: 7m 4s\tremaining: 13m 1s\n",
      "352:\tlearn: 0.1345176\ttotal: 7m 5s\tremaining: 12m 59s\n",
      "353:\tlearn: 0.1344023\ttotal: 7m 6s\tremaining: 12m 58s\n",
      "354:\tlearn: 0.1343507\ttotal: 7m 7s\tremaining: 12m 57s\n",
      "355:\tlearn: 0.1342292\ttotal: 7m 8s\tremaining: 12m 55s\n",
      "356:\tlearn: 0.1341481\ttotal: 7m 9s\tremaining: 12m 54s\n",
      "357:\tlearn: 0.1340183\ttotal: 7m 11s\tremaining: 12m 53s\n",
      "358:\tlearn: 0.1339349\ttotal: 7m 12s\tremaining: 12m 51s\n",
      "359:\tlearn: 0.1338869\ttotal: 7m 13s\tremaining: 12m 50s\n",
      "360:\tlearn: 0.1338019\ttotal: 7m 14s\tremaining: 12m 49s\n",
      "361:\tlearn: 0.1337127\ttotal: 7m 15s\tremaining: 12m 47s\n",
      "362:\tlearn: 0.1336154\ttotal: 7m 19s\tremaining: 12m 51s\n",
      "363:\tlearn: 0.1335709\ttotal: 7m 23s\tremaining: 12m 55s\n",
      "364:\tlearn: 0.1334528\ttotal: 7m 24s\tremaining: 12m 53s\n",
      "365:\tlearn: 0.1333218\ttotal: 7m 25s\tremaining: 12m 52s\n",
      "366:\tlearn: 0.1332704\ttotal: 7m 27s\tremaining: 12m 51s\n",
      "367:\tlearn: 0.1332201\ttotal: 7m 28s\tremaining: 12m 49s\n",
      "368:\tlearn: 0.1331192\ttotal: 7m 29s\tremaining: 12m 48s\n",
      "369:\tlearn: 0.1330606\ttotal: 7m 30s\tremaining: 12m 47s\n",
      "370:\tlearn: 0.1329818\ttotal: 7m 31s\tremaining: 12m 45s\n",
      "371:\tlearn: 0.1329058\ttotal: 7m 32s\tremaining: 12m 44s\n",
      "372:\tlearn: 0.1328335\ttotal: 7m 33s\tremaining: 12m 42s\n",
      "373:\tlearn: 0.1327652\ttotal: 7m 34s\tremaining: 12m 41s\n",
      "374:\tlearn: 0.1326414\ttotal: 7m 36s\tremaining: 12m 40s\n",
      "375:\tlearn: 0.1325910\ttotal: 7m 37s\tremaining: 12m 38s\n",
      "376:\tlearn: 0.1324414\ttotal: 7m 38s\tremaining: 12m 37s\n",
      "377:\tlearn: 0.1323417\ttotal: 7m 39s\tremaining: 12m 36s\n",
      "378:\tlearn: 0.1322279\ttotal: 7m 40s\tremaining: 12m 34s\n",
      "379:\tlearn: 0.1321122\ttotal: 7m 41s\tremaining: 12m 33s\n",
      "380:\tlearn: 0.1320111\ttotal: 7m 42s\tremaining: 12m 32s\n",
      "381:\tlearn: 0.1319309\ttotal: 7m 44s\tremaining: 12m 30s\n",
      "382:\tlearn: 0.1318677\ttotal: 7m 45s\tremaining: 12m 29s\n",
      "383:\tlearn: 0.1317378\ttotal: 7m 46s\tremaining: 12m 28s\n",
      "384:\tlearn: 0.1316511\ttotal: 7m 47s\tremaining: 12m 26s\n",
      "385:\tlearn: 0.1316084\ttotal: 7m 48s\tremaining: 12m 25s\n",
      "386:\tlearn: 0.1315185\ttotal: 7m 49s\tremaining: 12m 23s\n",
      "387:\tlearn: 0.1314350\ttotal: 7m 50s\tremaining: 12m 22s\n",
      "388:\tlearn: 0.1313897\ttotal: 7m 51s\tremaining: 12m 21s\n",
      "389:\tlearn: 0.1312866\ttotal: 7m 53s\tremaining: 12m 19s\n",
      "390:\tlearn: 0.1312465\ttotal: 7m 54s\tremaining: 12m 18s\n",
      "391:\tlearn: 0.1311062\ttotal: 7m 55s\tremaining: 12m 17s\n",
      "392:\tlearn: 0.1310511\ttotal: 7m 56s\tremaining: 12m 15s\n",
      "393:\tlearn: 0.1309812\ttotal: 7m 57s\tremaining: 12m 14s\n",
      "394:\tlearn: 0.1308404\ttotal: 7m 58s\tremaining: 12m 13s\n",
      "395:\tlearn: 0.1307957\ttotal: 7m 59s\tremaining: 12m 11s\n",
      "396:\tlearn: 0.1307171\ttotal: 8m\tremaining: 12m 10s\n",
      "397:\tlearn: 0.1306365\ttotal: 8m 2s\tremaining: 12m 9s\n",
      "398:\tlearn: 0.1305862\ttotal: 8m 3s\tremaining: 12m 7s\n",
      "399:\tlearn: 0.1305339\ttotal: 8m 4s\tremaining: 12m 6s\n",
      "400:\tlearn: 0.1304615\ttotal: 8m 5s\tremaining: 12m 5s\n",
      "401:\tlearn: 0.1303248\ttotal: 8m 6s\tremaining: 12m 3s\n",
      "402:\tlearn: 0.1302758\ttotal: 8m 7s\tremaining: 12m 2s\n",
      "403:\tlearn: 0.1301651\ttotal: 8m 8s\tremaining: 12m 1s\n",
      "404:\tlearn: 0.1300898\ttotal: 8m 10s\tremaining: 12m\n",
      "405:\tlearn: 0.1299704\ttotal: 8m 11s\tremaining: 11m 58s\n",
      "406:\tlearn: 0.1299259\ttotal: 8m 12s\tremaining: 11m 57s\n",
      "407:\tlearn: 0.1298459\ttotal: 8m 13s\tremaining: 11m 56s\n",
      "408:\tlearn: 0.1298074\ttotal: 8m 15s\tremaining: 11m 56s\n",
      "409:\tlearn: 0.1297126\ttotal: 8m 21s\tremaining: 12m 2s\n",
      "410:\tlearn: 0.1296726\ttotal: 8m 22s\tremaining: 12m\n",
      "411:\tlearn: 0.1295551\ttotal: 8m 24s\tremaining: 11m 59s\n",
      "412:\tlearn: 0.1294888\ttotal: 8m 25s\tremaining: 11m 58s\n",
      "413:\tlearn: 0.1294466\ttotal: 8m 26s\tremaining: 11m 56s\n",
      "414:\tlearn: 0.1293885\ttotal: 8m 27s\tremaining: 11m 55s\n",
      "415:\tlearn: 0.1292701\ttotal: 8m 28s\tremaining: 11m 53s\n",
      "416:\tlearn: 0.1291801\ttotal: 8m 29s\tremaining: 11m 52s\n",
      "417:\tlearn: 0.1290948\ttotal: 8m 30s\tremaining: 11m 51s\n",
      "418:\tlearn: 0.1290592\ttotal: 8m 31s\tremaining: 11m 49s\n",
      "419:\tlearn: 0.1290084\ttotal: 8m 33s\tremaining: 11m 48s\n",
      "420:\tlearn: 0.1289411\ttotal: 8m 34s\tremaining: 11m 47s\n",
      "421:\tlearn: 0.1288579\ttotal: 8m 35s\tremaining: 11m 45s\n",
      "422:\tlearn: 0.1287995\ttotal: 8m 36s\tremaining: 11m 44s\n",
      "423:\tlearn: 0.1287569\ttotal: 8m 37s\tremaining: 11m 42s\n",
      "424:\tlearn: 0.1287217\ttotal: 8m 38s\tremaining: 11m 41s\n",
      "425:\tlearn: 0.1286435\ttotal: 8m 39s\tremaining: 11m 40s\n",
      "426:\tlearn: 0.1286065\ttotal: 8m 40s\tremaining: 11m 38s\n",
      "427:\tlearn: 0.1285105\ttotal: 8m 42s\tremaining: 11m 37s\n",
      "428:\tlearn: 0.1284328\ttotal: 8m 43s\tremaining: 11m 36s\n",
      "429:\tlearn: 0.1283702\ttotal: 8m 44s\tremaining: 11m 34s\n",
      "430:\tlearn: 0.1282896\ttotal: 8m 45s\tremaining: 11m 33s\n",
      "431:\tlearn: 0.1282552\ttotal: 8m 46s\tremaining: 11m 32s\n",
      "432:\tlearn: 0.1282052\ttotal: 8m 47s\tremaining: 11m 30s\n",
      "433:\tlearn: 0.1281503\ttotal: 8m 48s\tremaining: 11m 29s\n",
      "434:\tlearn: 0.1280876\ttotal: 8m 49s\tremaining: 11m 28s\n",
      "435:\tlearn: 0.1280268\ttotal: 8m 51s\tremaining: 11m 26s\n",
      "436:\tlearn: 0.1279435\ttotal: 8m 52s\tremaining: 11m 25s\n",
      "437:\tlearn: 0.1278823\ttotal: 8m 53s\tremaining: 11m 24s\n",
      "438:\tlearn: 0.1277468\ttotal: 8m 54s\tremaining: 11m 23s\n",
      "439:\tlearn: 0.1277025\ttotal: 8m 55s\tremaining: 11m 21s\n",
      "440:\tlearn: 0.1276156\ttotal: 8m 56s\tremaining: 11m 20s\n",
      "441:\tlearn: 0.1275736\ttotal: 8m 57s\tremaining: 11m 19s\n",
      "442:\tlearn: 0.1274805\ttotal: 8m 59s\tremaining: 11m 17s\n",
      "443:\tlearn: 0.1274271\ttotal: 9m\tremaining: 11m 16s\n",
      "444:\tlearn: 0.1273933\ttotal: 9m 1s\tremaining: 11m 15s\n",
      "445:\tlearn: 0.1273555\ttotal: 9m 5s\tremaining: 11m 17s\n",
      "446:\tlearn: 0.1273110\ttotal: 9m 9s\tremaining: 11m 19s\n",
      "447:\tlearn: 0.1272503\ttotal: 9m 10s\tremaining: 11m 18s\n",
      "448:\tlearn: 0.1271576\ttotal: 9m 11s\tremaining: 11m 16s\n",
      "449:\tlearn: 0.1270913\ttotal: 9m 12s\tremaining: 11m 15s\n",
      "450:\tlearn: 0.1270122\ttotal: 9m 13s\tremaining: 11m 14s\n",
      "451:\tlearn: 0.1269124\ttotal: 9m 15s\tremaining: 11m 12s\n",
      "452:\tlearn: 0.1268770\ttotal: 9m 16s\tremaining: 11m 11s\n",
      "453:\tlearn: 0.1268279\ttotal: 9m 17s\tremaining: 11m 10s\n",
      "454:\tlearn: 0.1267130\ttotal: 9m 18s\tremaining: 11m 8s\n",
      "455:\tlearn: 0.1266271\ttotal: 9m 19s\tremaining: 11m 7s\n",
      "456:\tlearn: 0.1265123\ttotal: 9m 20s\tremaining: 11m 6s\n",
      "457:\tlearn: 0.1264021\ttotal: 9m 21s\tremaining: 11m 4s\n",
      "458:\tlearn: 0.1263502\ttotal: 9m 22s\tremaining: 11m 3s\n",
      "459:\tlearn: 0.1263115\ttotal: 9m 24s\tremaining: 11m 2s\n",
      "460:\tlearn: 0.1262487\ttotal: 9m 25s\tremaining: 11m\n",
      "461:\tlearn: 0.1261969\ttotal: 9m 26s\tremaining: 10m 59s\n",
      "462:\tlearn: 0.1261064\ttotal: 9m 27s\tremaining: 10m 58s\n",
      "463:\tlearn: 0.1260392\ttotal: 9m 28s\tremaining: 10m 56s\n",
      "464:\tlearn: 0.1259989\ttotal: 9m 29s\tremaining: 10m 55s\n",
      "465:\tlearn: 0.1259085\ttotal: 9m 30s\tremaining: 10m 54s\n",
      "466:\tlearn: 0.1258143\ttotal: 9m 32s\tremaining: 10m 52s\n",
      "467:\tlearn: 0.1257412\ttotal: 9m 33s\tremaining: 10m 51s\n",
      "468:\tlearn: 0.1256677\ttotal: 9m 34s\tremaining: 10m 50s\n",
      "469:\tlearn: 0.1255942\ttotal: 9m 35s\tremaining: 10m 48s\n",
      "470:\tlearn: 0.1255539\ttotal: 9m 36s\tremaining: 10m 47s\n",
      "471:\tlearn: 0.1255148\ttotal: 9m 37s\tremaining: 10m 46s\n",
      "472:\tlearn: 0.1254491\ttotal: 9m 38s\tremaining: 10m 44s\n",
      "473:\tlearn: 0.1253738\ttotal: 9m 39s\tremaining: 10m 43s\n",
      "474:\tlearn: 0.1253427\ttotal: 9m 41s\tremaining: 10m 42s\n",
      "475:\tlearn: 0.1252696\ttotal: 9m 42s\tremaining: 10m 40s\n",
      "476:\tlearn: 0.1252156\ttotal: 9m 43s\tremaining: 10m 39s\n",
      "477:\tlearn: 0.1251050\ttotal: 9m 44s\tremaining: 10m 38s\n",
      "478:\tlearn: 0.1250242\ttotal: 9m 45s\tremaining: 10m 36s\n",
      "479:\tlearn: 0.1249698\ttotal: 9m 46s\tremaining: 10m 35s\n",
      "480:\tlearn: 0.1249099\ttotal: 9m 47s\tremaining: 10m 34s\n",
      "481:\tlearn: 0.1248699\ttotal: 9m 48s\tremaining: 10m 32s\n",
      "482:\tlearn: 0.1248371\ttotal: 9m 50s\tremaining: 10m 31s\n",
      "483:\tlearn: 0.1247548\ttotal: 9m 51s\tremaining: 10m 30s\n",
      "484:\tlearn: 0.1246981\ttotal: 9m 52s\tremaining: 10m 28s\n",
      "485:\tlearn: 0.1246621\ttotal: 9m 53s\tremaining: 10m 27s\n",
      "486:\tlearn: 0.1246301\ttotal: 9m 54s\tremaining: 10m 26s\n",
      "487:\tlearn: 0.1245183\ttotal: 9m 55s\tremaining: 10m 24s\n",
      "488:\tlearn: 0.1244519\ttotal: 9m 56s\tremaining: 10m 23s\n",
      "489:\tlearn: 0.1244087\ttotal: 9m 57s\tremaining: 10m 22s\n",
      "490:\tlearn: 0.1243112\ttotal: 9m 59s\tremaining: 10m 21s\n",
      "491:\tlearn: 0.1242451\ttotal: 10m\tremaining: 10m 19s\n",
      "492:\tlearn: 0.1242140\ttotal: 10m 1s\tremaining: 10m 18s\n",
      "493:\tlearn: 0.1241569\ttotal: 10m 2s\tremaining: 10m 17s\n",
      "494:\tlearn: 0.1241260\ttotal: 10m 3s\tremaining: 10m 15s\n",
      "495:\tlearn: 0.1240952\ttotal: 10m 4s\tremaining: 10m 14s\n",
      "496:\tlearn: 0.1240305\ttotal: 10m 5s\tremaining: 10m 13s\n",
      "497:\tlearn: 0.1239586\ttotal: 10m 6s\tremaining: 10m 11s\n",
      "498:\tlearn: 0.1239143\ttotal: 10m 8s\tremaining: 10m 10s\n",
      "499:\tlearn: 0.1238516\ttotal: 10m 9s\tremaining: 10m 9s\n",
      "500:\tlearn: 0.1237840\ttotal: 10m 10s\tremaining: 10m 7s\n",
      "501:\tlearn: 0.1237540\ttotal: 10m 11s\tremaining: 10m 6s\n",
      "502:\tlearn: 0.1237135\ttotal: 10m 12s\tremaining: 10m 5s\n",
      "503:\tlearn: 0.1236173\ttotal: 10m 13s\tremaining: 10m 3s\n",
      "504:\tlearn: 0.1235866\ttotal: 10m 14s\tremaining: 10m 2s\n",
      "505:\tlearn: 0.1235400\ttotal: 10m 16s\tremaining: 10m 1s\n",
      "506:\tlearn: 0.1235004\ttotal: 10m 17s\tremaining: 10m\n",
      "507:\tlearn: 0.1234704\ttotal: 10m 18s\tremaining: 9m 58s\n",
      "508:\tlearn: 0.1234051\ttotal: 10m 19s\tremaining: 9m 57s\n",
      "509:\tlearn: 0.1233145\ttotal: 10m 23s\tremaining: 9m 59s\n",
      "510:\tlearn: 0.1232852\ttotal: 10m 27s\tremaining: 10m\n",
      "511:\tlearn: 0.1232193\ttotal: 10m 28s\tremaining: 9m 59s\n",
      "512:\tlearn: 0.1231883\ttotal: 10m 29s\tremaining: 9m 57s\n",
      "513:\tlearn: 0.1231231\ttotal: 10m 30s\tremaining: 9m 56s\n",
      "514:\tlearn: 0.1230486\ttotal: 10m 32s\tremaining: 9m 55s\n",
      "515:\tlearn: 0.1229555\ttotal: 10m 33s\tremaining: 9m 53s\n",
      "516:\tlearn: 0.1228756\ttotal: 10m 34s\tremaining: 9m 52s\n",
      "517:\tlearn: 0.1227930\ttotal: 10m 35s\tremaining: 9m 51s\n",
      "518:\tlearn: 0.1227592\ttotal: 10m 36s\tremaining: 9m 50s\n",
      "519:\tlearn: 0.1226874\ttotal: 10m 37s\tremaining: 9m 48s\n",
      "520:\tlearn: 0.1225896\ttotal: 10m 38s\tremaining: 9m 47s\n",
      "521:\tlearn: 0.1225468\ttotal: 10m 40s\tremaining: 9m 46s\n",
      "522:\tlearn: 0.1224863\ttotal: 10m 41s\tremaining: 9m 44s\n",
      "523:\tlearn: 0.1224198\ttotal: 10m 42s\tremaining: 9m 43s\n",
      "524:\tlearn: 0.1223918\ttotal: 10m 43s\tremaining: 9m 42s\n",
      "525:\tlearn: 0.1223156\ttotal: 10m 44s\tremaining: 9m 40s\n",
      "526:\tlearn: 0.1222616\ttotal: 10m 45s\tremaining: 9m 39s\n",
      "527:\tlearn: 0.1222340\ttotal: 10m 46s\tremaining: 9m 38s\n",
      "528:\tlearn: 0.1222062\ttotal: 10m 48s\tremaining: 9m 36s\n",
      "529:\tlearn: 0.1221548\ttotal: 10m 49s\tremaining: 9m 35s\n",
      "530:\tlearn: 0.1221257\ttotal: 10m 53s\tremaining: 9m 36s\n",
      "531:\tlearn: 0.1220253\ttotal: 10m 57s\tremaining: 9m 38s\n",
      "532:\tlearn: 0.1219972\ttotal: 10m 58s\tremaining: 9m 36s\n",
      "533:\tlearn: 0.1219368\ttotal: 10m 59s\tremaining: 9m 35s\n",
      "534:\tlearn: 0.1219087\ttotal: 11m\tremaining: 9m 34s\n",
      "535:\tlearn: 0.1218816\ttotal: 11m 1s\tremaining: 9m 32s\n",
      "536:\tlearn: 0.1218120\ttotal: 11m 2s\tremaining: 9m 31s\n",
      "537:\tlearn: 0.1217841\ttotal: 11m 3s\tremaining: 9m 30s\n",
      "538:\tlearn: 0.1216978\ttotal: 11m 5s\tremaining: 9m 28s\n",
      "539:\tlearn: 0.1215799\ttotal: 11m 6s\tremaining: 9m 27s\n",
      "540:\tlearn: 0.1215526\ttotal: 11m 7s\tremaining: 9m 26s\n",
      "541:\tlearn: 0.1215251\ttotal: 11m 8s\tremaining: 9m 24s\n",
      "542:\tlearn: 0.1214652\ttotal: 11m 9s\tremaining: 9m 23s\n",
      "543:\tlearn: 0.1213994\ttotal: 11m 10s\tremaining: 9m 22s\n",
      "544:\tlearn: 0.1213621\ttotal: 11m 11s\tremaining: 9m 20s\n",
      "545:\tlearn: 0.1213360\ttotal: 11m 13s\tremaining: 9m 19s\n",
      "546:\tlearn: 0.1213047\ttotal: 11m 14s\tremaining: 9m 18s\n",
      "547:\tlearn: 0.1212422\ttotal: 11m 15s\tremaining: 9m 17s\n",
      "548:\tlearn: 0.1211802\ttotal: 11m 16s\tremaining: 9m 15s\n",
      "549:\tlearn: 0.1211203\ttotal: 11m 17s\tremaining: 9m 14s\n",
      "550:\tlearn: 0.1210763\ttotal: 11m 18s\tremaining: 9m 13s\n",
      "551:\tlearn: 0.1210492\ttotal: 11m 22s\tremaining: 9m 13s\n",
      "552:\tlearn: 0.1209812\ttotal: 11m 26s\tremaining: 9m 14s\n",
      "553:\tlearn: 0.1209192\ttotal: 11m 27s\tremaining: 9m 13s\n",
      "554:\tlearn: 0.1208770\ttotal: 11m 28s\tremaining: 9m 11s\n",
      "555:\tlearn: 0.1208503\ttotal: 11m 29s\tremaining: 9m 10s\n",
      "556:\tlearn: 0.1208201\ttotal: 11m 30s\tremaining: 9m 9s\n",
      "557:\tlearn: 0.1207555\ttotal: 11m 31s\tremaining: 9m 7s\n",
      "558:\tlearn: 0.1206919\ttotal: 11m 32s\tremaining: 9m 6s\n",
      "559:\tlearn: 0.1206661\ttotal: 11m 33s\tremaining: 9m 5s\n",
      "560:\tlearn: 0.1206150\ttotal: 11m 35s\tremaining: 9m 3s\n",
      "561:\tlearn: 0.1205510\ttotal: 11m 36s\tremaining: 9m 2s\n",
      "562:\tlearn: 0.1204846\ttotal: 11m 37s\tremaining: 9m 1s\n",
      "563:\tlearn: 0.1204353\ttotal: 11m 38s\tremaining: 8m 59s\n",
      "564:\tlearn: 0.1203897\ttotal: 11m 39s\tremaining: 8m 58s\n",
      "565:\tlearn: 0.1203628\ttotal: 11m 40s\tremaining: 8m 57s\n",
      "566:\tlearn: 0.1203031\ttotal: 11m 41s\tremaining: 8m 55s\n",
      "567:\tlearn: 0.1202594\ttotal: 11m 42s\tremaining: 8m 54s\n",
      "568:\tlearn: 0.1202336\ttotal: 11m 44s\tremaining: 8m 53s\n",
      "569:\tlearn: 0.1202083\ttotal: 11m 45s\tremaining: 8m 52s\n",
      "570:\tlearn: 0.1201320\ttotal: 11m 46s\tremaining: 8m 50s\n",
      "571:\tlearn: 0.1200975\ttotal: 11m 47s\tremaining: 8m 49s\n",
      "572:\tlearn: 0.1200714\ttotal: 11m 48s\tremaining: 8m 48s\n",
      "573:\tlearn: 0.1199912\ttotal: 11m 49s\tremaining: 8m 46s\n",
      "574:\tlearn: 0.1199654\ttotal: 11m 50s\tremaining: 8m 45s\n",
      "575:\tlearn: 0.1199335\ttotal: 11m 51s\tremaining: 8m 44s\n",
      "576:\tlearn: 0.1198904\ttotal: 11m 53s\tremaining: 8m 42s\n",
      "577:\tlearn: 0.1198590\ttotal: 11m 54s\tremaining: 8m 41s\n",
      "578:\tlearn: 0.1198335\ttotal: 11m 55s\tremaining: 8m 40s\n",
      "579:\tlearn: 0.1198089\ttotal: 11m 57s\tremaining: 8m 39s\n",
      "580:\tlearn: 0.1197485\ttotal: 12m 2s\tremaining: 8m 41s\n",
      "581:\tlearn: 0.1196822\ttotal: 12m 3s\tremaining: 8m 39s\n",
      "582:\tlearn: 0.1196560\ttotal: 12m 4s\tremaining: 8m 38s\n",
      "583:\tlearn: 0.1196089\ttotal: 12m 5s\tremaining: 8m 37s\n",
      "584:\tlearn: 0.1195696\ttotal: 12m 7s\tremaining: 8m 35s\n",
      "585:\tlearn: 0.1195233\ttotal: 12m 8s\tremaining: 8m 34s\n",
      "586:\tlearn: 0.1194989\ttotal: 12m 9s\tremaining: 8m 33s\n",
      "587:\tlearn: 0.1194338\ttotal: 12m 10s\tremaining: 8m 31s\n",
      "588:\tlearn: 0.1194092\ttotal: 12m 11s\tremaining: 8m 30s\n",
      "589:\tlearn: 0.1193845\ttotal: 12m 12s\tremaining: 8m 29s\n",
      "590:\tlearn: 0.1193623\ttotal: 12m 13s\tremaining: 8m 27s\n",
      "591:\tlearn: 0.1192970\ttotal: 12m 14s\tremaining: 8m 26s\n",
      "592:\tlearn: 0.1192301\ttotal: 12m 16s\tremaining: 8m 25s\n",
      "593:\tlearn: 0.1191691\ttotal: 12m 17s\tremaining: 8m 23s\n",
      "594:\tlearn: 0.1191457\ttotal: 12m 18s\tremaining: 8m 22s\n",
      "595:\tlearn: 0.1191219\ttotal: 12m 19s\tremaining: 8m 21s\n",
      "596:\tlearn: 0.1190786\ttotal: 12m 20s\tremaining: 8m 19s\n",
      "597:\tlearn: 0.1190153\ttotal: 12m 21s\tremaining: 8m 18s\n",
      "598:\tlearn: 0.1189296\ttotal: 12m 22s\tremaining: 8m 17s\n",
      "599:\tlearn: 0.1188634\ttotal: 12m 24s\tremaining: 8m 16s\n",
      "600:\tlearn: 0.1188383\ttotal: 12m 25s\tremaining: 8m 14s\n",
      "601:\tlearn: 0.1187778\ttotal: 12m 26s\tremaining: 8m 13s\n",
      "602:\tlearn: 0.1187450\ttotal: 12m 27s\tremaining: 8m 12s\n",
      "603:\tlearn: 0.1187150\ttotal: 12m 28s\tremaining: 8m 10s\n",
      "604:\tlearn: 0.1186423\ttotal: 12m 29s\tremaining: 8m 9s\n",
      "605:\tlearn: 0.1186186\ttotal: 12m 30s\tremaining: 8m 8s\n",
      "606:\tlearn: 0.1185953\ttotal: 12m 31s\tremaining: 8m 6s\n",
      "607:\tlearn: 0.1185596\ttotal: 12m 33s\tremaining: 8m 5s\n",
      "608:\tlearn: 0.1185373\ttotal: 12m 34s\tremaining: 8m 4s\n",
      "609:\tlearn: 0.1184846\ttotal: 12m 35s\tremaining: 8m 2s\n",
      "610:\tlearn: 0.1184617\ttotal: 12m 36s\tremaining: 8m 1s\n",
      "611:\tlearn: 0.1184325\ttotal: 12m 37s\tremaining: 8m\n",
      "612:\tlearn: 0.1183738\ttotal: 12m 38s\tremaining: 7m 58s\n",
      "613:\tlearn: 0.1183512\ttotal: 12m 41s\tremaining: 7m 58s\n",
      "614:\tlearn: 0.1182255\ttotal: 12m 45s\tremaining: 7m 59s\n",
      "615:\tlearn: 0.1181988\ttotal: 12m 47s\tremaining: 7m 58s\n",
      "616:\tlearn: 0.1181701\ttotal: 12m 48s\tremaining: 7m 56s\n",
      "617:\tlearn: 0.1181109\ttotal: 12m 49s\tremaining: 7m 55s\n",
      "618:\tlearn: 0.1180881\ttotal: 12m 50s\tremaining: 7m 54s\n",
      "619:\tlearn: 0.1180674\ttotal: 12m 51s\tremaining: 7m 52s\n",
      "620:\tlearn: 0.1179601\ttotal: 12m 52s\tremaining: 7m 51s\n",
      "621:\tlearn: 0.1179366\ttotal: 12m 53s\tremaining: 7m 50s\n",
      "622:\tlearn: 0.1179111\ttotal: 12m 55s\tremaining: 7m 48s\n",
      "623:\tlearn: 0.1178825\ttotal: 12m 56s\tremaining: 7m 47s\n",
      "624:\tlearn: 0.1178015\ttotal: 12m 57s\tremaining: 7m 46s\n",
      "625:\tlearn: 0.1177796\ttotal: 12m 58s\tremaining: 7m 45s\n",
      "626:\tlearn: 0.1177581\ttotal: 12m 59s\tremaining: 7m 43s\n",
      "627:\tlearn: 0.1176896\ttotal: 13m\tremaining: 7m 42s\n",
      "628:\tlearn: 0.1176464\ttotal: 13m 1s\tremaining: 7m 41s\n",
      "629:\tlearn: 0.1176255\ttotal: 13m 2s\tremaining: 7m 39s\n",
      "630:\tlearn: 0.1176043\ttotal: 13m 4s\tremaining: 7m 38s\n",
      "631:\tlearn: 0.1175448\ttotal: 13m 5s\tremaining: 7m 37s\n",
      "632:\tlearn: 0.1174731\ttotal: 13m 6s\tremaining: 7m 35s\n",
      "633:\tlearn: 0.1174459\ttotal: 13m 7s\tremaining: 7m 34s\n",
      "634:\tlearn: 0.1173979\ttotal: 13m 8s\tremaining: 7m 33s\n",
      "635:\tlearn: 0.1173123\ttotal: 13m 9s\tremaining: 7m 31s\n",
      "636:\tlearn: 0.1172839\ttotal: 13m 10s\tremaining: 7m 30s\n",
      "637:\tlearn: 0.1172327\ttotal: 13m 11s\tremaining: 7m 29s\n",
      "638:\tlearn: 0.1171662\ttotal: 13m 13s\tremaining: 7m 28s\n",
      "639:\tlearn: 0.1171084\ttotal: 13m 14s\tremaining: 7m 26s\n",
      "640:\tlearn: 0.1170777\ttotal: 13m 15s\tremaining: 7m 25s\n",
      "641:\tlearn: 0.1169797\ttotal: 13m 16s\tremaining: 7m 24s\n",
      "642:\tlearn: 0.1169253\ttotal: 13m 17s\tremaining: 7m 22s\n",
      "643:\tlearn: 0.1169032\ttotal: 13m 18s\tremaining: 7m 21s\n",
      "644:\tlearn: 0.1168134\ttotal: 13m 19s\tremaining: 7m 20s\n",
      "645:\tlearn: 0.1167524\ttotal: 13m 24s\tremaining: 7m 20s\n",
      "646:\tlearn: 0.1167025\ttotal: 13m 27s\tremaining: 7m 20s\n",
      "647:\tlearn: 0.1166672\ttotal: 13m 28s\tremaining: 7m 19s\n",
      "648:\tlearn: 0.1166333\ttotal: 13m 29s\tremaining: 7m 17s\n",
      "649:\tlearn: 0.1165619\ttotal: 13m 30s\tremaining: 7m 16s\n",
      "650:\tlearn: 0.1165089\ttotal: 13m 31s\tremaining: 7m 15s\n",
      "651:\tlearn: 0.1164878\ttotal: 13m 32s\tremaining: 7m 13s\n",
      "652:\tlearn: 0.1164244\ttotal: 13m 34s\tremaining: 7m 12s\n",
      "653:\tlearn: 0.1164029\ttotal: 13m 35s\tremaining: 7m 11s\n",
      "654:\tlearn: 0.1163769\ttotal: 13m 36s\tremaining: 7m 9s\n",
      "655:\tlearn: 0.1162866\ttotal: 13m 37s\tremaining: 7m 8s\n",
      "656:\tlearn: 0.1162091\ttotal: 13m 38s\tremaining: 7m 7s\n",
      "657:\tlearn: 0.1161541\ttotal: 13m 39s\tremaining: 7m 6s\n",
      "658:\tlearn: 0.1161319\ttotal: 13m 40s\tremaining: 7m 4s\n",
      "659:\tlearn: 0.1160925\ttotal: 13m 41s\tremaining: 7m 3s\n",
      "660:\tlearn: 0.1160718\ttotal: 13m 43s\tremaining: 7m 2s\n",
      "661:\tlearn: 0.1160015\ttotal: 13m 44s\tremaining: 7m\n",
      "662:\tlearn: 0.1159803\ttotal: 13m 45s\tremaining: 6m 59s\n",
      "663:\tlearn: 0.1159594\ttotal: 13m 46s\tremaining: 6m 58s\n",
      "664:\tlearn: 0.1159384\ttotal: 13m 47s\tremaining: 6m 56s\n",
      "665:\tlearn: 0.1158651\ttotal: 13m 48s\tremaining: 6m 55s\n",
      "666:\tlearn: 0.1158390\ttotal: 13m 49s\tremaining: 6m 54s\n",
      "667:\tlearn: 0.1157904\ttotal: 13m 50s\tremaining: 6m 52s\n",
      "668:\tlearn: 0.1157126\ttotal: 13m 52s\tremaining: 6m 51s\n",
      "669:\tlearn: 0.1156891\ttotal: 13m 53s\tremaining: 6m 50s\n",
      "670:\tlearn: 0.1156681\ttotal: 13m 54s\tremaining: 6m 49s\n",
      "671:\tlearn: 0.1156419\ttotal: 13m 55s\tremaining: 6m 47s\n",
      "672:\tlearn: 0.1156064\ttotal: 13m 56s\tremaining: 6m 46s\n",
      "673:\tlearn: 0.1155399\ttotal: 13m 57s\tremaining: 6m 45s\n",
      "674:\tlearn: 0.1155031\ttotal: 13m 58s\tremaining: 6m 43s\n",
      "675:\tlearn: 0.1154815\ttotal: 13m 59s\tremaining: 6m 42s\n",
      "676:\tlearn: 0.1154573\ttotal: 14m 1s\tremaining: 6m 41s\n",
      "677:\tlearn: 0.1154310\ttotal: 14m 2s\tremaining: 6m 39s\n",
      "678:\tlearn: 0.1153710\ttotal: 14m 3s\tremaining: 6m 38s\n",
      "679:\tlearn: 0.1153508\ttotal: 14m 4s\tremaining: 6m 37s\n",
      "680:\tlearn: 0.1152883\ttotal: 14m 5s\tremaining: 6m 36s\n",
      "681:\tlearn: 0.1152682\ttotal: 14m 6s\tremaining: 6m 34s\n",
      "682:\tlearn: 0.1152420\ttotal: 14m 7s\tremaining: 6m 33s\n",
      "683:\tlearn: 0.1151416\ttotal: 14m 10s\tremaining: 6m 32s\n",
      "684:\tlearn: 0.1151206\ttotal: 14m 15s\tremaining: 6m 33s\n",
      "685:\tlearn: 0.1150627\ttotal: 14m 17s\tremaining: 6m 32s\n",
      "686:\tlearn: 0.1150423\ttotal: 14m 18s\tremaining: 6m 31s\n",
      "687:\tlearn: 0.1149995\ttotal: 14m 19s\tremaining: 6m 29s\n",
      "688:\tlearn: 0.1149339\ttotal: 14m 20s\tremaining: 6m 28s\n",
      "689:\tlearn: 0.1149042\ttotal: 14m 21s\tremaining: 6m 27s\n",
      "690:\tlearn: 0.1148490\ttotal: 14m 22s\tremaining: 6m 25s\n",
      "691:\tlearn: 0.1148283\ttotal: 14m 23s\tremaining: 6m 24s\n",
      "692:\tlearn: 0.1147832\ttotal: 14m 24s\tremaining: 6m 23s\n",
      "693:\tlearn: 0.1147436\ttotal: 14m 26s\tremaining: 6m 21s\n",
      "694:\tlearn: 0.1146601\ttotal: 14m 27s\tremaining: 6m 20s\n",
      "695:\tlearn: 0.1146038\ttotal: 14m 28s\tremaining: 6m 19s\n",
      "696:\tlearn: 0.1145845\ttotal: 14m 29s\tremaining: 6m 17s\n",
      "697:\tlearn: 0.1145198\ttotal: 14m 30s\tremaining: 6m 16s\n",
      "698:\tlearn: 0.1144532\ttotal: 14m 31s\tremaining: 6m 15s\n",
      "699:\tlearn: 0.1144021\ttotal: 14m 32s\tremaining: 6m 14s\n",
      "700:\tlearn: 0.1143256\ttotal: 14m 34s\tremaining: 6m 12s\n",
      "701:\tlearn: 0.1142799\ttotal: 14m 35s\tremaining: 6m 11s\n",
      "702:\tlearn: 0.1142596\ttotal: 14m 36s\tremaining: 6m 10s\n",
      "703:\tlearn: 0.1142228\ttotal: 14m 37s\tremaining: 6m 8s\n",
      "704:\tlearn: 0.1141931\ttotal: 14m 38s\tremaining: 6m 7s\n",
      "705:\tlearn: 0.1141448\ttotal: 14m 39s\tremaining: 6m 6s\n",
      "706:\tlearn: 0.1141249\ttotal: 14m 40s\tremaining: 6m 5s\n",
      "707:\tlearn: 0.1140945\ttotal: 14m 41s\tremaining: 6m 3s\n",
      "708:\tlearn: 0.1140707\ttotal: 14m 43s\tremaining: 6m 2s\n",
      "709:\tlearn: 0.1140517\ttotal: 14m 44s\tremaining: 6m 1s\n",
      "710:\tlearn: 0.1139738\ttotal: 14m 45s\tremaining: 5m 59s\n",
      "711:\tlearn: 0.1139490\ttotal: 14m 46s\tremaining: 5m 58s\n",
      "712:\tlearn: 0.1138888\ttotal: 14m 47s\tremaining: 5m 57s\n",
      "713:\tlearn: 0.1138381\ttotal: 14m 48s\tremaining: 5m 55s\n",
      "714:\tlearn: 0.1138194\ttotal: 14m 49s\tremaining: 5m 54s\n",
      "715:\tlearn: 0.1138007\ttotal: 14m 50s\tremaining: 5m 53s\n",
      "716:\tlearn: 0.1137716\ttotal: 14m 52s\tremaining: 5m 52s\n",
      "717:\tlearn: 0.1137410\ttotal: 14m 53s\tremaining: 5m 50s\n",
      "718:\tlearn: 0.1137039\ttotal: 14m 54s\tremaining: 5m 49s\n",
      "719:\tlearn: 0.1136849\ttotal: 14m 58s\tremaining: 5m 49s\n",
      "720:\tlearn: 0.1136399\ttotal: 15m 2s\tremaining: 5m 49s\n",
      "721:\tlearn: 0.1136191\ttotal: 15m 3s\tremaining: 5m 47s\n",
      "722:\tlearn: 0.1135759\ttotal: 15m 4s\tremaining: 5m 46s\n",
      "723:\tlearn: 0.1135239\ttotal: 15m 5s\tremaining: 5m 45s\n",
      "724:\tlearn: 0.1134893\ttotal: 15m 6s\tremaining: 5m 43s\n",
      "725:\tlearn: 0.1134710\ttotal: 15m 7s\tremaining: 5m 42s\n",
      "726:\tlearn: 0.1134517\ttotal: 15m 9s\tremaining: 5m 41s\n",
      "727:\tlearn: 0.1134309\ttotal: 15m 10s\tremaining: 5m 40s\n",
      "728:\tlearn: 0.1133795\ttotal: 15m 11s\tremaining: 5m 38s\n",
      "729:\tlearn: 0.1133160\ttotal: 15m 12s\tremaining: 5m 37s\n",
      "730:\tlearn: 0.1132808\ttotal: 15m 13s\tremaining: 5m 36s\n",
      "731:\tlearn: 0.1132198\ttotal: 15m 14s\tremaining: 5m 34s\n",
      "732:\tlearn: 0.1131799\ttotal: 15m 15s\tremaining: 5m 33s\n",
      "733:\tlearn: 0.1131008\ttotal: 15m 17s\tremaining: 5m 32s\n",
      "734:\tlearn: 0.1130545\ttotal: 15m 18s\tremaining: 5m 31s\n",
      "735:\tlearn: 0.1130296\ttotal: 15m 19s\tremaining: 5m 29s\n",
      "736:\tlearn: 0.1129678\ttotal: 15m 20s\tremaining: 5m 28s\n",
      "737:\tlearn: 0.1129501\ttotal: 15m 21s\tremaining: 5m 27s\n",
      "738:\tlearn: 0.1129104\ttotal: 15m 22s\tremaining: 5m 25s\n",
      "739:\tlearn: 0.1128815\ttotal: 15m 23s\tremaining: 5m 24s\n",
      "740:\tlearn: 0.1128482\ttotal: 15m 24s\tremaining: 5m 23s\n",
      "741:\tlearn: 0.1128292\ttotal: 15m 26s\tremaining: 5m 21s\n",
      "742:\tlearn: 0.1128100\ttotal: 15m 27s\tremaining: 5m 20s\n",
      "743:\tlearn: 0.1127585\ttotal: 15m 28s\tremaining: 5m 19s\n",
      "744:\tlearn: 0.1127391\ttotal: 15m 29s\tremaining: 5m 18s\n",
      "745:\tlearn: 0.1126928\ttotal: 15m 30s\tremaining: 5m 16s\n",
      "746:\tlearn: 0.1126675\ttotal: 15m 31s\tremaining: 5m 15s\n",
      "747:\tlearn: 0.1125970\ttotal: 15m 32s\tremaining: 5m 14s\n",
      "748:\tlearn: 0.1125613\ttotal: 15m 33s\tremaining: 5m 12s\n",
      "749:\tlearn: 0.1125113\ttotal: 15m 35s\tremaining: 5m 11s\n",
      "750:\tlearn: 0.1124736\ttotal: 15m 36s\tremaining: 5m 10s\n",
      "751:\tlearn: 0.1124503\ttotal: 15m 37s\tremaining: 5m 9s\n",
      "752:\tlearn: 0.1123823\ttotal: 15m 38s\tremaining: 5m 7s\n",
      "753:\tlearn: 0.1123335\ttotal: 15m 39s\tremaining: 5m 6s\n",
      "754:\tlearn: 0.1123092\ttotal: 15m 40s\tremaining: 5m 5s\n",
      "755:\tlearn: 0.1122901\ttotal: 15m 41s\tremaining: 5m 3s\n",
      "756:\tlearn: 0.1122724\ttotal: 15m 43s\tremaining: 5m 2s\n",
      "757:\tlearn: 0.1122546\ttotal: 15m 44s\tremaining: 5m 1s\n",
      "758:\tlearn: 0.1122115\ttotal: 15m 45s\tremaining: 5m\n",
      "759:\tlearn: 0.1121818\ttotal: 15m 46s\tremaining: 4m 58s\n",
      "760:\tlearn: 0.1121224\ttotal: 15m 47s\tremaining: 4m 57s\n",
      "761:\tlearn: 0.1120978\ttotal: 15m 48s\tremaining: 4m 56s\n",
      "762:\tlearn: 0.1120796\ttotal: 15m 49s\tremaining: 4m 54s\n",
      "763:\tlearn: 0.1120629\ttotal: 15m 50s\tremaining: 4m 53s\n",
      "764:\tlearn: 0.1120056\ttotal: 15m 54s\tremaining: 4m 53s\n",
      "765:\tlearn: 0.1119734\ttotal: 15m 58s\tremaining: 4m 52s\n",
      "766:\tlearn: 0.1119203\ttotal: 15m 59s\tremaining: 4m 51s\n",
      "767:\tlearn: 0.1118684\ttotal: 16m\tremaining: 4m 50s\n",
      "768:\tlearn: 0.1118407\ttotal: 16m 1s\tremaining: 4m 48s\n",
      "769:\tlearn: 0.1117713\ttotal: 16m 2s\tremaining: 4m 47s\n",
      "770:\tlearn: 0.1117324\ttotal: 16m 3s\tremaining: 4m 46s\n",
      "771:\tlearn: 0.1117146\ttotal: 16m 4s\tremaining: 4m 44s\n",
      "772:\tlearn: 0.1116449\ttotal: 16m 5s\tremaining: 4m 43s\n",
      "773:\tlearn: 0.1116275\ttotal: 16m 7s\tremaining: 4m 42s\n",
      "774:\tlearn: 0.1115759\ttotal: 16m 8s\tremaining: 4m 41s\n",
      "775:\tlearn: 0.1115595\ttotal: 16m 9s\tremaining: 4m 39s\n",
      "776:\tlearn: 0.1114959\ttotal: 16m 10s\tremaining: 4m 38s\n",
      "777:\tlearn: 0.1114548\ttotal: 16m 11s\tremaining: 4m 37s\n",
      "778:\tlearn: 0.1114220\ttotal: 16m 12s\tremaining: 4m 35s\n",
      "779:\tlearn: 0.1113912\ttotal: 16m 13s\tremaining: 4m 34s\n",
      "780:\tlearn: 0.1113351\ttotal: 16m 14s\tremaining: 4m 33s\n",
      "781:\tlearn: 0.1113171\ttotal: 16m 16s\tremaining: 4m 32s\n",
      "782:\tlearn: 0.1112622\ttotal: 16m 17s\tremaining: 4m 30s\n",
      "783:\tlearn: 0.1112371\ttotal: 16m 18s\tremaining: 4m 29s\n",
      "784:\tlearn: 0.1112130\ttotal: 16m 19s\tremaining: 4m 28s\n",
      "785:\tlearn: 0.1111215\ttotal: 16m 20s\tremaining: 4m 26s\n",
      "786:\tlearn: 0.1111040\ttotal: 16m 21s\tremaining: 4m 25s\n",
      "787:\tlearn: 0.1110872\ttotal: 16m 22s\tremaining: 4m 24s\n",
      "788:\tlearn: 0.1110704\ttotal: 16m 23s\tremaining: 4m 23s\n",
      "789:\tlearn: 0.1110496\ttotal: 16m 25s\tremaining: 4m 21s\n",
      "790:\tlearn: 0.1109948\ttotal: 16m 26s\tremaining: 4m 20s\n",
      "791:\tlearn: 0.1109768\ttotal: 16m 27s\tremaining: 4m 19s\n",
      "792:\tlearn: 0.1109279\ttotal: 16m 28s\tremaining: 4m 18s\n",
      "793:\tlearn: 0.1108433\ttotal: 16m 29s\tremaining: 4m 16s\n",
      "794:\tlearn: 0.1108262\ttotal: 16m 30s\tremaining: 4m 15s\n",
      "795:\tlearn: 0.1107972\ttotal: 16m 31s\tremaining: 4m 14s\n",
      "796:\tlearn: 0.1107795\ttotal: 16m 32s\tremaining: 4m 12s\n",
      "797:\tlearn: 0.1107066\ttotal: 16m 34s\tremaining: 4m 11s\n",
      "798:\tlearn: 0.1106467\ttotal: 16m 38s\tremaining: 4m 11s\n",
      "799:\tlearn: 0.1105960\ttotal: 16m 41s\tremaining: 4m 10s\n",
      "800:\tlearn: 0.1105609\ttotal: 16m 42s\tremaining: 4m 9s\n",
      "801:\tlearn: 0.1105147\ttotal: 16m 43s\tremaining: 4m 7s\n",
      "802:\tlearn: 0.1104933\ttotal: 16m 44s\tremaining: 4m 6s\n",
      "803:\tlearn: 0.1104767\ttotal: 16m 45s\tremaining: 4m 5s\n",
      "804:\tlearn: 0.1104265\ttotal: 16m 47s\tremaining: 4m 3s\n",
      "805:\tlearn: 0.1104088\ttotal: 16m 48s\tremaining: 4m 2s\n",
      "806:\tlearn: 0.1103914\ttotal: 16m 49s\tremaining: 4m 1s\n",
      "807:\tlearn: 0.1103739\ttotal: 16m 50s\tremaining: 4m\n",
      "808:\tlearn: 0.1103493\ttotal: 16m 51s\tremaining: 3m 58s\n",
      "809:\tlearn: 0.1103254\ttotal: 16m 52s\tremaining: 3m 57s\n",
      "810:\tlearn: 0.1103079\ttotal: 16m 53s\tremaining: 3m 56s\n",
      "811:\tlearn: 0.1102899\ttotal: 16m 55s\tremaining: 3m 55s\n",
      "812:\tlearn: 0.1102550\ttotal: 16m 56s\tremaining: 3m 53s\n",
      "813:\tlearn: 0.1102122\ttotal: 16m 57s\tremaining: 3m 52s\n",
      "814:\tlearn: 0.1101915\ttotal: 16m 58s\tremaining: 3m 51s\n",
      "815:\tlearn: 0.1101512\ttotal: 16m 59s\tremaining: 3m 49s\n",
      "816:\tlearn: 0.1101053\ttotal: 17m\tremaining: 3m 48s\n",
      "817:\tlearn: 0.1100605\ttotal: 17m 1s\tremaining: 3m 47s\n",
      "818:\tlearn: 0.1100198\ttotal: 17m 2s\tremaining: 3m 46s\n",
      "819:\tlearn: 0.1100035\ttotal: 17m 4s\tremaining: 3m 44s\n",
      "820:\tlearn: 0.1099478\ttotal: 17m 5s\tremaining: 3m 43s\n",
      "821:\tlearn: 0.1098815\ttotal: 17m 6s\tremaining: 3m 42s\n",
      "822:\tlearn: 0.1098363\ttotal: 17m 7s\tremaining: 3m 40s\n",
      "823:\tlearn: 0.1098072\ttotal: 17m 10s\tremaining: 3m 40s\n",
      "824:\tlearn: 0.1097627\ttotal: 17m 14s\tremaining: 3m 39s\n",
      "825:\tlearn: 0.1097058\ttotal: 17m 15s\tremaining: 3m 38s\n",
      "826:\tlearn: 0.1096801\ttotal: 17m 17s\tremaining: 3m 36s\n",
      "827:\tlearn: 0.1096430\ttotal: 17m 18s\tremaining: 3m 35s\n",
      "828:\tlearn: 0.1096152\ttotal: 17m 19s\tremaining: 3m 34s\n",
      "829:\tlearn: 0.1095907\ttotal: 17m 20s\tremaining: 3m 33s\n",
      "830:\tlearn: 0.1095388\ttotal: 17m 21s\tremaining: 3m 31s\n",
      "831:\tlearn: 0.1094962\ttotal: 17m 22s\tremaining: 3m 30s\n",
      "832:\tlearn: 0.1094794\ttotal: 17m 23s\tremaining: 3m 29s\n",
      "833:\tlearn: 0.1094565\ttotal: 17m 24s\tremaining: 3m 27s\n",
      "834:\tlearn: 0.1094393\ttotal: 17m 26s\tremaining: 3m 26s\n",
      "835:\tlearn: 0.1094021\ttotal: 17m 27s\tremaining: 3m 25s\n",
      "836:\tlearn: 0.1093858\ttotal: 17m 28s\tremaining: 3m 24s\n",
      "837:\tlearn: 0.1093302\ttotal: 17m 29s\tremaining: 3m 22s\n",
      "838:\tlearn: 0.1093145\ttotal: 17m 30s\tremaining: 3m 21s\n",
      "839:\tlearn: 0.1092633\ttotal: 17m 31s\tremaining: 3m 20s\n",
      "840:\tlearn: 0.1092417\ttotal: 17m 32s\tremaining: 3m 19s\n",
      "841:\tlearn: 0.1092256\ttotal: 17m 33s\tremaining: 3m 17s\n",
      "842:\tlearn: 0.1091782\ttotal: 17m 35s\tremaining: 3m 16s\n",
      "843:\tlearn: 0.1091587\ttotal: 17m 36s\tremaining: 3m 15s\n",
      "844:\tlearn: 0.1091175\ttotal: 17m 37s\tremaining: 3m 13s\n",
      "845:\tlearn: 0.1090788\ttotal: 17m 38s\tremaining: 3m 12s\n",
      "846:\tlearn: 0.1090406\ttotal: 17m 39s\tremaining: 3m 11s\n",
      "847:\tlearn: 0.1089739\ttotal: 17m 43s\tremaining: 3m 10s\n",
      "848:\tlearn: 0.1089584\ttotal: 17m 47s\tremaining: 3m 9s\n",
      "849:\tlearn: 0.1089427\ttotal: 17m 48s\tremaining: 3m 8s\n",
      "850:\tlearn: 0.1089100\ttotal: 17m 49s\tremaining: 3m 7s\n",
      "851:\tlearn: 0.1088696\ttotal: 17m 51s\tremaining: 3m 6s\n",
      "852:\tlearn: 0.1088328\ttotal: 17m 52s\tremaining: 3m 4s\n",
      "853:\tlearn: 0.1087582\ttotal: 17m 53s\tremaining: 3m 3s\n",
      "854:\tlearn: 0.1087371\ttotal: 17m 54s\tremaining: 3m 2s\n",
      "855:\tlearn: 0.1087080\ttotal: 17m 55s\tremaining: 3m\n",
      "856:\tlearn: 0.1086668\ttotal: 17m 56s\tremaining: 2m 59s\n",
      "857:\tlearn: 0.1086417\ttotal: 17m 57s\tremaining: 2m 58s\n",
      "858:\tlearn: 0.1086180\ttotal: 17m 58s\tremaining: 2m 57s\n",
      "859:\tlearn: 0.1086019\ttotal: 17m 59s\tremaining: 2m 55s\n",
      "860:\tlearn: 0.1085861\ttotal: 18m 1s\tremaining: 2m 54s\n",
      "861:\tlearn: 0.1085472\ttotal: 18m 2s\tremaining: 2m 53s\n",
      "862:\tlearn: 0.1085009\ttotal: 18m 3s\tremaining: 2m 51s\n",
      "863:\tlearn: 0.1084444\ttotal: 18m 4s\tremaining: 2m 50s\n",
      "864:\tlearn: 0.1084219\ttotal: 18m 5s\tremaining: 2m 49s\n",
      "865:\tlearn: 0.1083987\ttotal: 18m 6s\tremaining: 2m 48s\n",
      "866:\tlearn: 0.1083537\ttotal: 18m 7s\tremaining: 2m 46s\n",
      "867:\tlearn: 0.1083271\ttotal: 18m 8s\tremaining: 2m 45s\n",
      "868:\tlearn: 0.1082896\ttotal: 18m 10s\tremaining: 2m 44s\n",
      "869:\tlearn: 0.1082480\ttotal: 18m 11s\tremaining: 2m 43s\n",
      "870:\tlearn: 0.1081740\ttotal: 18m 12s\tremaining: 2m 41s\n",
      "871:\tlearn: 0.1081317\ttotal: 18m 13s\tremaining: 2m 40s\n",
      "872:\tlearn: 0.1081098\ttotal: 18m 14s\tremaining: 2m 39s\n",
      "873:\tlearn: 0.1080941\ttotal: 18m 15s\tremaining: 2m 37s\n",
      "874:\tlearn: 0.1080603\ttotal: 18m 16s\tremaining: 2m 36s\n",
      "875:\tlearn: 0.1080440\ttotal: 18m 18s\tremaining: 2m 35s\n",
      "876:\tlearn: 0.1079698\ttotal: 18m 19s\tremaining: 2m 34s\n",
      "877:\tlearn: 0.1079463\ttotal: 18m 20s\tremaining: 2m 32s\n",
      "878:\tlearn: 0.1079119\ttotal: 18m 21s\tremaining: 2m 31s\n",
      "879:\tlearn: 0.1078959\ttotal: 18m 22s\tremaining: 2m 30s\n",
      "880:\tlearn: 0.1078466\ttotal: 18m 23s\tremaining: 2m 29s\n",
      "881:\tlearn: 0.1078313\ttotal: 18m 24s\tremaining: 2m 27s\n",
      "882:\tlearn: 0.1077903\ttotal: 18m 25s\tremaining: 2m 26s\n",
      "883:\tlearn: 0.1077464\ttotal: 18m 27s\tremaining: 2m 25s\n",
      "884:\tlearn: 0.1077001\ttotal: 18m 28s\tremaining: 2m 24s\n",
      "885:\tlearn: 0.1076848\ttotal: 18m 33s\tremaining: 2m 23s\n",
      "886:\tlearn: 0.1076693\ttotal: 18m 35s\tremaining: 2m 22s\n",
      "887:\tlearn: 0.1076360\ttotal: 18m 36s\tremaining: 2m 20s\n",
      "888:\tlearn: 0.1076159\ttotal: 18m 37s\tremaining: 2m 19s\n",
      "889:\tlearn: 0.1075579\ttotal: 18m 38s\tremaining: 2m 18s\n",
      "890:\tlearn: 0.1075432\ttotal: 18m 39s\tremaining: 2m 17s\n",
      "891:\tlearn: 0.1074857\ttotal: 18m 41s\tremaining: 2m 15s\n",
      "892:\tlearn: 0.1074629\ttotal: 18m 42s\tremaining: 2m 14s\n",
      "893:\tlearn: 0.1074475\ttotal: 18m 43s\tremaining: 2m 13s\n",
      "894:\tlearn: 0.1074101\ttotal: 18m 44s\tremaining: 2m 11s\n",
      "895:\tlearn: 0.1073526\ttotal: 18m 45s\tremaining: 2m 10s\n",
      "896:\tlearn: 0.1073323\ttotal: 18m 46s\tremaining: 2m 9s\n",
      "897:\tlearn: 0.1072964\ttotal: 18m 47s\tremaining: 2m 8s\n",
      "898:\tlearn: 0.1072514\ttotal: 18m 48s\tremaining: 2m 6s\n",
      "899:\tlearn: 0.1072221\ttotal: 18m 50s\tremaining: 2m 5s\n",
      "900:\tlearn: 0.1072064\ttotal: 18m 51s\tremaining: 2m 4s\n",
      "901:\tlearn: 0.1071694\ttotal: 18m 52s\tremaining: 2m 3s\n",
      "902:\tlearn: 0.1071330\ttotal: 18m 53s\tremaining: 2m 1s\n",
      "903:\tlearn: 0.1070916\ttotal: 18m 54s\tremaining: 2m\n",
      "904:\tlearn: 0.1070759\ttotal: 18m 55s\tremaining: 1m 59s\n",
      "905:\tlearn: 0.1070302\ttotal: 18m 56s\tremaining: 1m 57s\n",
      "906:\tlearn: 0.1069859\ttotal: 18m 58s\tremaining: 1m 56s\n",
      "907:\tlearn: 0.1069656\ttotal: 18m 59s\tremaining: 1m 55s\n",
      "908:\tlearn: 0.1069442\ttotal: 19m\tremaining: 1m 54s\n",
      "909:\tlearn: 0.1068938\ttotal: 19m 1s\tremaining: 1m 52s\n",
      "910:\tlearn: 0.1068477\ttotal: 19m 2s\tremaining: 1m 51s\n",
      "911:\tlearn: 0.1068325\ttotal: 19m 3s\tremaining: 1m 50s\n",
      "912:\tlearn: 0.1067976\ttotal: 19m 4s\tremaining: 1m 49s\n",
      "913:\tlearn: 0.1067668\ttotal: 19m 9s\tremaining: 1m 48s\n",
      "914:\tlearn: 0.1067460\ttotal: 19m 12s\tremaining: 1m 47s\n",
      "915:\tlearn: 0.1067003\ttotal: 19m 13s\tremaining: 1m 45s\n",
      "916:\tlearn: 0.1066709\ttotal: 19m 14s\tremaining: 1m 44s\n",
      "917:\tlearn: 0.1066423\ttotal: 19m 15s\tremaining: 1m 43s\n",
      "918:\tlearn: 0.1066280\ttotal: 19m 16s\tremaining: 1m 41s\n",
      "919:\tlearn: 0.1066121\ttotal: 19m 17s\tremaining: 1m 40s\n",
      "920:\tlearn: 0.1065915\ttotal: 19m 18s\tremaining: 1m 39s\n",
      "921:\tlearn: 0.1065509\ttotal: 19m 19s\tremaining: 1m 38s\n",
      "922:\tlearn: 0.1065070\ttotal: 19m 21s\tremaining: 1m 36s\n",
      "923:\tlearn: 0.1064631\ttotal: 19m 22s\tremaining: 1m 35s\n",
      "924:\tlearn: 0.1064469\ttotal: 19m 23s\tremaining: 1m 34s\n",
      "925:\tlearn: 0.1064318\ttotal: 19m 24s\tremaining: 1m 33s\n",
      "926:\tlearn: 0.1063867\ttotal: 19m 25s\tremaining: 1m 31s\n",
      "927:\tlearn: 0.1063468\ttotal: 19m 26s\tremaining: 1m 30s\n",
      "928:\tlearn: 0.1062759\ttotal: 19m 27s\tremaining: 1m 29s\n",
      "929:\tlearn: 0.1062602\ttotal: 19m 28s\tremaining: 1m 27s\n",
      "930:\tlearn: 0.1062233\ttotal: 19m 30s\tremaining: 1m 26s\n",
      "931:\tlearn: 0.1062054\ttotal: 19m 31s\tremaining: 1m 25s\n",
      "932:\tlearn: 0.1061585\ttotal: 19m 32s\tremaining: 1m 24s\n",
      "933:\tlearn: 0.1061393\ttotal: 19m 33s\tremaining: 1m 22s\n",
      "934:\tlearn: 0.1061140\ttotal: 19m 37s\tremaining: 1m 21s\n",
      "935:\tlearn: 0.1060683\ttotal: 19m 41s\tremaining: 1m 20s\n",
      "936:\tlearn: 0.1060530\ttotal: 19m 42s\tremaining: 1m 19s\n",
      "937:\tlearn: 0.1060021\ttotal: 19m 43s\tremaining: 1m 18s\n",
      "938:\tlearn: 0.1059883\ttotal: 19m 44s\tremaining: 1m 16s\n",
      "939:\tlearn: 0.1059314\ttotal: 19m 46s\tremaining: 1m 15s\n",
      "940:\tlearn: 0.1058938\ttotal: 19m 47s\tremaining: 1m 14s\n",
      "941:\tlearn: 0.1058784\ttotal: 19m 48s\tremaining: 1m 13s\n",
      "942:\tlearn: 0.1058640\ttotal: 19m 49s\tremaining: 1m 11s\n",
      "943:\tlearn: 0.1058109\ttotal: 19m 50s\tremaining: 1m 10s\n",
      "944:\tlearn: 0.1057664\ttotal: 19m 51s\tremaining: 1m 9s\n",
      "945:\tlearn: 0.1057492\ttotal: 19m 52s\tremaining: 1m 8s\n",
      "946:\tlearn: 0.1057348\ttotal: 19m 53s\tremaining: 1m 6s\n",
      "947:\tlearn: 0.1057166\ttotal: 19m 54s\tremaining: 1m 5s\n",
      "948:\tlearn: 0.1056688\ttotal: 19m 56s\tremaining: 1m 4s\n",
      "949:\tlearn: 0.1056468\ttotal: 19m 59s\tremaining: 1m 3s\n",
      "950:\tlearn: 0.1055905\ttotal: 20m 4s\tremaining: 1m 2s\n",
      "951:\tlearn: 0.1055503\ttotal: 20m 5s\tremaining: 1m\n",
      "952:\tlearn: 0.1054984\ttotal: 20m 6s\tremaining: 59.5s\n",
      "953:\tlearn: 0.1054825\ttotal: 20m 7s\tremaining: 58.2s\n",
      "954:\tlearn: 0.1054398\ttotal: 20m 8s\tremaining: 57s\n",
      "955:\tlearn: 0.1054055\ttotal: 20m 9s\tremaining: 55.7s\n",
      "956:\tlearn: 0.1053843\ttotal: 20m 10s\tremaining: 54.4s\n",
      "957:\tlearn: 0.1053321\ttotal: 20m 12s\tremaining: 53.1s\n",
      "958:\tlearn: 0.1052846\ttotal: 20m 13s\tremaining: 51.9s\n",
      "959:\tlearn: 0.1052636\ttotal: 20m 14s\tremaining: 50.6s\n",
      "960:\tlearn: 0.1052098\ttotal: 20m 15s\tremaining: 49.3s\n",
      "961:\tlearn: 0.1051883\ttotal: 20m 16s\tremaining: 48.1s\n",
      "962:\tlearn: 0.1051470\ttotal: 20m 17s\tremaining: 46.8s\n",
      "963:\tlearn: 0.1051251\ttotal: 20m 18s\tremaining: 45.5s\n",
      "964:\tlearn: 0.1050963\ttotal: 20m 19s\tremaining: 44.2s\n",
      "965:\tlearn: 0.1050814\ttotal: 20m 21s\tremaining: 43s\n",
      "966:\tlearn: 0.1050129\ttotal: 20m 22s\tremaining: 41.7s\n",
      "967:\tlearn: 0.1049932\ttotal: 20m 23s\tremaining: 40.4s\n",
      "968:\tlearn: 0.1049704\ttotal: 20m 24s\tremaining: 39.2s\n",
      "969:\tlearn: 0.1049569\ttotal: 20m 25s\tremaining: 37.9s\n",
      "970:\tlearn: 0.1049391\ttotal: 20m 26s\tremaining: 36.6s\n",
      "971:\tlearn: 0.1049251\ttotal: 20m 27s\tremaining: 35.4s\n",
      "972:\tlearn: 0.1048716\ttotal: 20m 28s\tremaining: 34.1s\n",
      "973:\tlearn: 0.1048452\ttotal: 20m 30s\tremaining: 32.8s\n",
      "974:\tlearn: 0.1048115\ttotal: 20m 31s\tremaining: 31.6s\n",
      "975:\tlearn: 0.1047549\ttotal: 20m 32s\tremaining: 30.3s\n",
      "976:\tlearn: 0.1047400\ttotal: 20m 33s\tremaining: 29s\n",
      "977:\tlearn: 0.1047029\ttotal: 20m 34s\tremaining: 27.8s\n",
      "978:\tlearn: 0.1046902\ttotal: 20m 35s\tremaining: 26.5s\n",
      "979:\tlearn: 0.1046393\ttotal: 20m 36s\tremaining: 25.2s\n",
      "980:\tlearn: 0.1046093\ttotal: 20m 38s\tremaining: 24s\n",
      "981:\tlearn: 0.1045788\ttotal: 20m 39s\tremaining: 22.7s\n",
      "982:\tlearn: 0.1045394\ttotal: 20m 40s\tremaining: 21.4s\n",
      "983:\tlearn: 0.1045182\ttotal: 20m 41s\tremaining: 20.2s\n",
      "984:\tlearn: 0.1044988\ttotal: 20m 42s\tremaining: 18.9s\n",
      "985:\tlearn: 0.1044367\ttotal: 20m 43s\tremaining: 17.7s\n",
      "986:\tlearn: 0.1044185\ttotal: 20m 44s\tremaining: 16.4s\n",
      "987:\tlearn: 0.1044000\ttotal: 20m 45s\tremaining: 15.1s\n",
      "988:\tlearn: 0.1043685\ttotal: 20m 46s\tremaining: 13.9s\n",
      "989:\tlearn: 0.1043540\ttotal: 20m 48s\tremaining: 12.6s\n",
      "990:\tlearn: 0.1043002\ttotal: 20m 49s\tremaining: 11.3s\n",
      "991:\tlearn: 0.1042872\ttotal: 20m 50s\tremaining: 10.1s\n",
      "992:\tlearn: 0.1042605\ttotal: 20m 54s\tremaining: 8.84s\n",
      "993:\tlearn: 0.1042260\ttotal: 20m 58s\tremaining: 7.6s\n",
      "994:\tlearn: 0.1042113\ttotal: 20m 59s\tremaining: 6.33s\n",
      "995:\tlearn: 0.1041901\ttotal: 21m\tremaining: 5.06s\n",
      "996:\tlearn: 0.1041762\ttotal: 21m 1s\tremaining: 3.8s\n",
      "997:\tlearn: 0.1041408\ttotal: 21m 2s\tremaining: 2.53s\n",
      "998:\tlearn: 0.1041219\ttotal: 21m 4s\tremaining: 1.26s\n",
      "999:\tlearn: 0.1040943\ttotal: 21m 5s\tremaining: 0us\n",
      "f-1: 0.7668566001899335\n"
     ]
    }
   ],
   "source": [
    "model = CatBoostClassifier(early_stopping_rounds = 100, loss_function= 'Logloss', random_state = 42)\n",
    "model.fit(tfidf_train, train['toxic'])\n",
    "pred = model.predict(tfidf_valid)\n",
    "f1 = f1_score(pred, valid['toxic'])\n",
    "print('f-1:', f1)"
   ]
  },
  {
   "cell_type": "markdown",
   "metadata": {},
   "source": [
    "f-1: 0.7481569560047563"
   ]
  },
  {
   "cell_type": "code",
   "execution_count": 25,
   "metadata": {},
   "outputs": [],
   "source": [
    "lr = LogisticRegression(multi_class='ovr', class_weight='balanced', max_iter=10000)\n",
    "lr.fit(tfidf_train, train['toxic'])\n",
    "pred_train, pred_valid = lr.predict(tfidf_train), lr.predict(tfidf_valid)\n"
   ]
  },
  {
   "cell_type": "code",
   "execution_count": 26,
   "metadata": {},
   "outputs": [
    {
     "name": "stdout",
     "output_type": "stream",
     "text": [
      "f-1: 0.7499097798628654\n"
     ]
    }
   ],
   "source": [
    "print('f-1:', f1_score(valid['toxic'], pred_valid))"
   ]
  },
  {
   "cell_type": "markdown",
   "metadata": {},
   "source": [
    "Подберем параметры для lgbm."
   ]
  },
  {
   "cell_type": "code",
   "execution_count": 27,
   "metadata": {},
   "outputs": [],
   "source": [
    "def objective_lgbm(trial):\n",
    "\n",
    "    param = {     \n",
    "        'max_depth' : trial.suggest_int(\"max_depth\", 3, 10),\n",
    "        'n_estimators' : trial.suggest_int('n_estimators', 500, 4000, log=True),\n",
    "        'learning_rate' : trial.suggest_float('learning_rate', 0.01, 0.4, log=True),\n",
    "        'num_leaves' : trial.suggest_int(\"num_leaves\", 3, 20)\n",
    "       \n",
    "    }\n",
    "\n",
    "    model = lgb.LGBMClassifier(n_jobs=-1, random_state = 42, **param)\n",
    "    model.fit(tfidf_train, train['toxic'])\n",
    "    pred_valid = model.predict(tfidf_valid)\n",
    "\n",
    "    f1 = f1_score(valid['toxic'], pred_valid)\n",
    "\n",
    "    return f1"
   ]
  },
  {
   "cell_type": "code",
   "execution_count": 28,
   "metadata": {},
   "outputs": [
    {
     "name": "stderr",
     "output_type": "stream",
     "text": [
      "\u001b[32m[I 2023-10-03 18:01:58,170]\u001b[0m A new study created in memory with name: no-name-4cf3f0af-6c17-4e98-b3f3-73451423ef18\u001b[0m\n",
      "\u001b[32m[I 2023-10-03 18:08:01,249]\u001b[0m Trial 5 finished with value: 0.6008486562942008 and parameters: {'max_depth': 10, 'n_estimators': 797, 'learning_rate': 0.013408984446545907, 'num_leaves': 4}. Best is trial 5 with value: 0.6008486562942008.\u001b[0m\n",
      "\u001b[32m[I 2023-10-03 18:12:31,996]\u001b[0m Trial 7 finished with value: 0.6260387811634348 and parameters: {'max_depth': 3, 'n_estimators': 1295, 'learning_rate': 0.010394493110643855, 'num_leaves': 16}. Best is trial 7 with value: 0.6260387811634348.\u001b[0m\n",
      "\u001b[32m[I 2023-10-03 18:12:33,619]\u001b[0m Trial 2 finished with value: 0.7846118405897259 and parameters: {'max_depth': 5, 'n_estimators': 859, 'learning_rate': 0.22064744804882344, 'num_leaves': 14}. Best is trial 2 with value: 0.7846118405897259.\u001b[0m\n",
      "\u001b[32m[I 2023-10-03 18:14:11,524]\u001b[0m Trial 8 finished with value: 0.627939142461964 and parameters: {'max_depth': 3, 'n_estimators': 504, 'learning_rate': 0.02711169205331894, 'num_leaves': 14}. Best is trial 2 with value: 0.7846118405897259.\u001b[0m\n",
      "\u001b[32m[I 2023-10-03 18:14:38,393]\u001b[0m Trial 0 finished with value: 0.7874771480804389 and parameters: {'max_depth': 3, 'n_estimators': 2014, 'learning_rate': 0.19098391959565014, 'num_leaves': 15}. Best is trial 0 with value: 0.7874771480804389.\u001b[0m\n",
      "\u001b[32m[I 2023-10-03 18:14:47,581]\u001b[0m Trial 4 finished with value: 0.7699240986717267 and parameters: {'max_depth': 6, 'n_estimators': 930, 'learning_rate': 0.06837339324670005, 'num_leaves': 14}. Best is trial 0 with value: 0.7874771480804389.\u001b[0m\n",
      "\u001b[32m[I 2023-10-03 18:15:44,606]\u001b[0m Trial 1 finished with value: 0.7751937984496124 and parameters: {'max_depth': 7, 'n_estimators': 2145, 'learning_rate': 0.05100221713064847, 'num_leaves': 6}. Best is trial 0 with value: 0.7874771480804389.\u001b[0m\n",
      "\u001b[32m[I 2023-10-03 18:16:23,746]\u001b[0m Trial 3 finished with value: 0.7262262262262262 and parameters: {'max_depth': 10, 'n_estimators': 1556, 'learning_rate': 0.01057480307297104, 'num_leaves': 10}. Best is trial 0 with value: 0.7874771480804389.\u001b[0m\n",
      "\u001b[32m[I 2023-10-03 18:16:32,196]\u001b[0m Trial 6 finished with value: 0.7544881125667151 and parameters: {'max_depth': 7, 'n_estimators': 2215, 'learning_rate': 0.019599536985459208, 'num_leaves': 7}. Best is trial 0 with value: 0.7874771480804389.\u001b[0m\n"
     ]
    },
    {
     "name": "stdout",
     "output_type": "stream",
     "text": [
      "Wall time: 14min 34s\n"
     ]
    }
   ],
   "source": [
    "%%time\n",
    "study_lgbm = optuna.create_study(direction='maximize')\n",
    "study_lgbm.optimize(objective_lgbm, n_trials=500, timeout=600, n_jobs=-1)\n"
   ]
  },
  {
   "cell_type": "code",
   "execution_count": 30,
   "metadata": {},
   "outputs": [
    {
     "name": "stdout",
     "output_type": "stream",
     "text": [
      "f-1: 0.7874771480804389\n",
      "{'max_depth': 3, 'n_estimators': 2014, 'learning_rate': 0.19098391959565014, 'num_leaves': 15}\n"
     ]
    }
   ],
   "source": [
    "print('f-1:',study_lgbm.best_value)\n",
    "p = study_lgbm.best_params\n",
    "print(p)"
   ]
  },
  {
   "cell_type": "markdown",
   "metadata": {},
   "source": [
    "Проверим на тестовой выборке."
   ]
  },
  {
   "cell_type": "code",
   "execution_count": 31,
   "metadata": {},
   "outputs": [],
   "source": [
    "model = lgb.LGBMClassifier(n_jobs=-1, random_state = 42, **p)\n",
    "model.fit(tfidf_train, train['toxic'])\n",
    "pred_test = model.predict(tfidf_test)\n",
    "f1 = f1_score(test['toxic'], pred_test)"
   ]
  },
  {
   "cell_type": "code",
   "execution_count": 32,
   "metadata": {},
   "outputs": [
    {
     "name": "stdout",
     "output_type": "stream",
     "text": [
      "f-1: 0.7771402341060364\n"
     ]
    }
   ],
   "source": [
    "print('f-1:',f1)"
   ]
  },
  {
   "cell_type": "markdown",
   "metadata": {},
   "source": [
    "## Выводы"
   ]
  },
  {
   "cell_type": "markdown",
   "metadata": {},
   "source": [
    "Удалось обучить модель классификации текстов со значением метрики f1 = 0.777. Для решения задачи лучше всего подходит логистическая регрессия."
   ]
  }
 ],
 "metadata": {
  "ExecuteTimeLog": [
   {
    "duration": 2113,
    "start_time": "2023-10-02T17:30:47.410Z"
   },
   {
    "duration": 2569,
    "start_time": "2023-10-02T17:31:00.542Z"
   },
   {
    "duration": 15,
    "start_time": "2023-10-02T17:31:08.366Z"
   },
   {
    "duration": 39,
    "start_time": "2023-10-02T17:31:28.233Z"
   },
   {
    "duration": 14,
    "start_time": "2023-10-02T17:34:18.563Z"
   },
   {
    "duration": 7,
    "start_time": "2023-10-02T17:34:54.249Z"
   },
   {
    "duration": 3,
    "start_time": "2023-10-02T17:36:42.357Z"
   },
   {
    "duration": 4,
    "start_time": "2023-10-02T17:38:38.294Z"
   },
   {
    "duration": 640,
    "start_time": "2023-10-02T17:38:56.285Z"
   },
   {
    "duration": 4,
    "start_time": "2023-10-02T17:39:21.643Z"
   },
   {
    "duration": 5,
    "start_time": "2023-10-02T17:39:22.301Z"
   },
   {
    "duration": 749,
    "start_time": "2023-10-02T17:39:23.075Z"
   },
   {
    "duration": 3,
    "start_time": "2023-10-02T17:39:46.107Z"
   },
   {
    "duration": 4,
    "start_time": "2023-10-02T17:39:46.846Z"
   },
   {
    "duration": 75670,
    "start_time": "2023-10-02T17:39:47.311Z"
   },
   {
    "duration": 50,
    "start_time": "2023-10-02T17:48:49.259Z"
   },
   {
    "duration": 87,
    "start_time": "2023-10-02T17:48:50.164Z"
   },
   {
    "duration": 4,
    "start_time": "2023-10-02T17:49:17.818Z"
   },
   {
    "duration": 1171,
    "start_time": "2023-10-02T17:52:37.267Z"
   },
   {
    "duration": 7,
    "start_time": "2023-10-02T17:52:52.880Z"
   },
   {
    "duration": 7,
    "start_time": "2023-10-02T17:58:23.509Z"
   },
   {
    "duration": 5,
    "start_time": "2023-10-02T17:58:24.328Z"
   },
   {
    "duration": 7,
    "start_time": "2023-10-02T18:00:05.349Z"
   },
   {
    "duration": 51,
    "start_time": "2023-10-02T18:01:27.619Z"
   },
   {
    "duration": 13,
    "start_time": "2023-10-02T18:01:59.158Z"
   },
   {
    "duration": 12,
    "start_time": "2023-10-02T18:02:27.082Z"
   },
   {
    "duration": 3,
    "start_time": "2023-10-02T18:03:00.316Z"
   },
   {
    "duration": 16,
    "start_time": "2023-10-02T18:03:24.532Z"
   },
   {
    "duration": 4901,
    "start_time": "2023-10-02T18:04:25.434Z"
   },
   {
    "duration": 4,
    "start_time": "2023-10-02T18:04:52.226Z"
   },
   {
    "duration": 4,
    "start_time": "2023-10-02T18:05:03.252Z"
   },
   {
    "duration": 4,
    "start_time": "2023-10-02T18:05:18.388Z"
   },
   {
    "duration": 1740,
    "start_time": "2023-10-02T18:05:38.591Z"
   },
   {
    "duration": 82117,
    "start_time": "2023-10-02T18:05:52.494Z"
   },
   {
    "duration": 1725,
    "start_time": "2023-10-02T18:08:03.814Z"
   },
   {
    "duration": 24,
    "start_time": "2023-10-02T18:08:19.920Z"
   },
   {
    "duration": 283,
    "start_time": "2023-10-02T18:09:52.538Z"
   },
   {
    "duration": 3,
    "start_time": "2023-10-02T18:09:56.238Z"
   },
   {
    "duration": 66,
    "start_time": "2023-10-02T18:10:05.020Z"
   },
   {
    "duration": 103,
    "start_time": "2023-10-02T18:11:22.734Z"
   },
   {
    "duration": 15,
    "start_time": "2023-10-02T18:13:29.852Z"
   },
   {
    "duration": 44,
    "start_time": "2023-10-02T18:16:16.460Z"
   },
   {
    "duration": 15,
    "start_time": "2023-10-02T18:16:37.241Z"
   },
   {
    "duration": 18,
    "start_time": "2023-10-02T18:17:56.716Z"
   },
   {
    "duration": 17,
    "start_time": "2023-10-02T18:18:03.839Z"
   },
   {
    "duration": 16,
    "start_time": "2023-10-02T18:18:24.907Z"
   },
   {
    "duration": 17,
    "start_time": "2023-10-02T18:18:25.655Z"
   },
   {
    "duration": 11,
    "start_time": "2023-10-02T18:18:30.330Z"
   },
   {
    "duration": 14,
    "start_time": "2023-10-02T18:18:31.388Z"
   },
   {
    "duration": 14,
    "start_time": "2023-10-02T18:18:32.623Z"
   },
   {
    "duration": 13,
    "start_time": "2023-10-02T18:18:50.967Z"
   },
   {
    "duration": 13,
    "start_time": "2023-10-02T18:20:32.724Z"
   },
   {
    "duration": 3,
    "start_time": "2023-10-02T18:20:33.495Z"
   },
   {
    "duration": 6,
    "start_time": "2023-10-02T18:20:45.311Z"
   },
   {
    "duration": 28,
    "start_time": "2023-10-02T18:21:06.477Z"
   },
   {
    "duration": 31,
    "start_time": "2023-10-02T18:21:17.623Z"
   },
   {
    "duration": 25,
    "start_time": "2023-10-02T18:21:42.568Z"
   },
   {
    "duration": 11,
    "start_time": "2023-10-02T18:26:02.971Z"
   },
   {
    "duration": 4,
    "start_time": "2023-10-02T18:26:19.872Z"
   },
   {
    "duration": 46,
    "start_time": "2023-10-02T18:26:20.512Z"
   },
   {
    "duration": 17,
    "start_time": "2023-10-02T18:29:51.905Z"
   },
   {
    "duration": 2,
    "start_time": "2023-10-02T18:30:16.381Z"
   },
   {
    "duration": 23,
    "start_time": "2023-10-02T18:30:17.180Z"
   },
   {
    "duration": 15,
    "start_time": "2023-10-02T18:34:18.165Z"
   },
   {
    "duration": 212,
    "start_time": "2023-10-02T18:35:20.101Z"
   },
   {
    "duration": 83,
    "start_time": "2023-10-02T18:35:36.797Z"
   },
   {
    "duration": 160,
    "start_time": "2023-10-02T18:36:01.961Z"
   },
   {
    "duration": 13,
    "start_time": "2023-10-02T18:40:53.906Z"
   },
   {
    "duration": 3,
    "start_time": "2023-10-02T18:41:27.467Z"
   },
   {
    "duration": 215,
    "start_time": "2023-10-02T18:41:28.172Z"
   },
   {
    "duration": 52336,
    "start_time": "2023-10-02T18:42:25.191Z"
   },
   {
    "duration": 17,
    "start_time": "2023-10-02T18:44:17.511Z"
   },
   {
    "duration": 16,
    "start_time": "2023-10-02T18:45:03.456Z"
   },
   {
    "duration": 374,
    "start_time": "2023-10-02T18:54:40.287Z"
   },
   {
    "duration": 2912,
    "start_time": "2023-10-02T19:26:59.871Z"
   },
   {
    "duration": 995,
    "start_time": "2023-10-02T19:27:02.785Z"
   },
   {
    "duration": 11,
    "start_time": "2023-10-02T19:27:03.782Z"
   },
   {
    "duration": 84,
    "start_time": "2023-10-02T19:27:03.804Z"
   },
   {
    "duration": 82,
    "start_time": "2023-10-02T19:27:03.890Z"
   },
   {
    "duration": 19,
    "start_time": "2023-10-02T19:27:03.974Z"
   },
   {
    "duration": 164,
    "start_time": "2023-10-02T19:27:03.995Z"
   },
   {
    "duration": 0,
    "start_time": "2023-10-02T19:27:04.163Z"
   },
   {
    "duration": 0,
    "start_time": "2023-10-02T19:27:04.165Z"
   },
   {
    "duration": 0,
    "start_time": "2023-10-02T19:27:04.166Z"
   },
   {
    "duration": 0,
    "start_time": "2023-10-02T19:27:04.168Z"
   },
   {
    "duration": 0,
    "start_time": "2023-10-02T19:27:04.169Z"
   },
   {
    "duration": 0,
    "start_time": "2023-10-02T19:27:04.171Z"
   },
   {
    "duration": 0,
    "start_time": "2023-10-02T19:27:04.173Z"
   },
   {
    "duration": 0,
    "start_time": "2023-10-02T19:27:04.175Z"
   },
   {
    "duration": 0,
    "start_time": "2023-10-02T19:27:04.176Z"
   },
   {
    "duration": 0,
    "start_time": "2023-10-02T19:27:04.178Z"
   },
   {
    "duration": 0,
    "start_time": "2023-10-02T19:27:04.179Z"
   },
   {
    "duration": 0,
    "start_time": "2023-10-02T19:27:04.180Z"
   },
   {
    "duration": 0,
    "start_time": "2023-10-02T19:27:04.201Z"
   },
   {
    "duration": 0,
    "start_time": "2023-10-02T19:27:04.205Z"
   },
   {
    "duration": 0,
    "start_time": "2023-10-02T19:27:04.207Z"
   },
   {
    "duration": 0,
    "start_time": "2023-10-02T19:27:04.208Z"
   },
   {
    "duration": 0,
    "start_time": "2023-10-02T19:27:04.209Z"
   },
   {
    "duration": 0,
    "start_time": "2023-10-02T19:27:04.210Z"
   },
   {
    "duration": 0,
    "start_time": "2023-10-02T19:27:04.212Z"
   },
   {
    "duration": 0,
    "start_time": "2023-10-02T19:27:04.214Z"
   },
   {
    "duration": 0,
    "start_time": "2023-10-02T19:27:04.216Z"
   },
   {
    "duration": 0,
    "start_time": "2023-10-02T19:27:04.218Z"
   },
   {
    "duration": 0,
    "start_time": "2023-10-02T19:27:04.219Z"
   },
   {
    "duration": 0,
    "start_time": "2023-10-02T19:27:04.220Z"
   },
   {
    "duration": 0,
    "start_time": "2023-10-02T19:27:04.222Z"
   },
   {
    "duration": 0,
    "start_time": "2023-10-02T19:27:04.223Z"
   },
   {
    "duration": 0,
    "start_time": "2023-10-02T19:27:04.224Z"
   },
   {
    "duration": 0,
    "start_time": "2023-10-02T19:27:04.227Z"
   },
   {
    "duration": 0,
    "start_time": "2023-10-02T19:27:04.230Z"
   },
   {
    "duration": 0,
    "start_time": "2023-10-02T19:27:04.232Z"
   },
   {
    "duration": 0,
    "start_time": "2023-10-02T19:27:04.233Z"
   },
   {
    "duration": 0,
    "start_time": "2023-10-02T19:27:04.234Z"
   },
   {
    "duration": 0,
    "start_time": "2023-10-02T19:27:04.236Z"
   },
   {
    "duration": 0,
    "start_time": "2023-10-02T19:27:04.238Z"
   },
   {
    "duration": 0,
    "start_time": "2023-10-02T19:27:04.240Z"
   },
   {
    "duration": 0,
    "start_time": "2023-10-02T19:27:04.242Z"
   },
   {
    "duration": 0,
    "start_time": "2023-10-02T19:27:04.243Z"
   },
   {
    "duration": 0,
    "start_time": "2023-10-02T19:27:04.245Z"
   },
   {
    "duration": 0,
    "start_time": "2023-10-02T19:27:04.302Z"
   },
   {
    "duration": 0,
    "start_time": "2023-10-02T19:27:04.304Z"
   },
   {
    "duration": 0,
    "start_time": "2023-10-02T19:27:04.305Z"
   },
   {
    "duration": 0,
    "start_time": "2023-10-02T19:27:04.306Z"
   },
   {
    "duration": 0,
    "start_time": "2023-10-02T19:27:04.307Z"
   },
   {
    "duration": 0,
    "start_time": "2023-10-02T19:27:04.307Z"
   },
   {
    "duration": 0,
    "start_time": "2023-10-02T19:27:04.310Z"
   },
   {
    "duration": 0,
    "start_time": "2023-10-02T19:27:04.311Z"
   },
   {
    "duration": 0,
    "start_time": "2023-10-02T19:27:04.313Z"
   },
   {
    "duration": 0,
    "start_time": "2023-10-02T19:27:04.313Z"
   },
   {
    "duration": 255,
    "start_time": "2023-10-02T19:27:29.733Z"
   },
   {
    "duration": 15,
    "start_time": "2023-10-02T19:27:33.098Z"
   },
   {
    "duration": 2,
    "start_time": "2023-10-02T19:27:33.781Z"
   },
   {
    "duration": 5,
    "start_time": "2023-10-02T19:29:44.167Z"
   },
   {
    "duration": 3,
    "start_time": "2023-10-02T19:29:45.531Z"
   },
   {
    "duration": 5,
    "start_time": "2023-10-02T19:29:46.443Z"
   },
   {
    "duration": 75728,
    "start_time": "2023-10-02T19:29:47.451Z"
   },
   {
    "duration": 11,
    "start_time": "2023-10-02T19:31:11.219Z"
   },
   {
    "duration": 90,
    "start_time": "2023-10-02T19:31:12.468Z"
   },
   {
    "duration": 13,
    "start_time": "2023-10-02T19:31:15.427Z"
   },
   {
    "duration": 9,
    "start_time": "2023-10-02T19:31:16.865Z"
   },
   {
    "duration": 3,
    "start_time": "2023-10-02T19:31:23.167Z"
   },
   {
    "duration": 5222,
    "start_time": "2023-10-02T19:31:26.079Z"
   },
   {
    "duration": 9,
    "start_time": "2023-10-02T19:31:40.916Z"
   },
   {
    "duration": 6,
    "start_time": "2023-10-02T19:31:41.120Z"
   },
   {
    "duration": 4,
    "start_time": "2023-10-02T19:31:41.644Z"
   },
   {
    "duration": 39783,
    "start_time": "2023-10-02T19:31:45.691Z"
   },
   {
    "duration": 13,
    "start_time": "2023-10-02T19:32:25.476Z"
   },
   {
    "duration": 5,
    "start_time": "2023-10-02T19:33:31.485Z"
   },
   {
    "duration": 3568,
    "start_time": "2023-10-03T06:19:07.955Z"
   },
   {
    "duration": 0,
    "start_time": "2023-10-03T06:19:11.526Z"
   },
   {
    "duration": 0,
    "start_time": "2023-10-03T06:19:11.527Z"
   },
   {
    "duration": 0,
    "start_time": "2023-10-03T06:19:11.528Z"
   },
   {
    "duration": 0,
    "start_time": "2023-10-03T06:19:11.529Z"
   },
   {
    "duration": 0,
    "start_time": "2023-10-03T06:19:11.530Z"
   },
   {
    "duration": 0,
    "start_time": "2023-10-03T06:19:11.533Z"
   },
   {
    "duration": 0,
    "start_time": "2023-10-03T06:19:11.534Z"
   },
   {
    "duration": 0,
    "start_time": "2023-10-03T06:19:11.535Z"
   },
   {
    "duration": 0,
    "start_time": "2023-10-03T06:19:11.536Z"
   },
   {
    "duration": 0,
    "start_time": "2023-10-03T06:19:11.537Z"
   },
   {
    "duration": 3838,
    "start_time": "2023-10-03T06:19:48.509Z"
   },
   {
    "duration": 2741,
    "start_time": "2023-10-03T06:19:52.350Z"
   },
   {
    "duration": 12,
    "start_time": "2023-10-03T06:19:55.092Z"
   },
   {
    "duration": 53,
    "start_time": "2023-10-03T06:19:55.106Z"
   },
   {
    "duration": 47,
    "start_time": "2023-10-03T06:19:55.163Z"
   },
   {
    "duration": 35,
    "start_time": "2023-10-03T06:19:55.213Z"
   },
   {
    "duration": 338,
    "start_time": "2023-10-03T06:19:55.251Z"
   },
   {
    "duration": 7,
    "start_time": "2023-10-03T06:19:55.591Z"
   },
   {
    "duration": 24,
    "start_time": "2023-10-03T06:19:55.600Z"
   },
   {
    "duration": 14,
    "start_time": "2023-10-03T06:19:55.627Z"
   },
   {
    "duration": 3398,
    "start_time": "2023-10-03T06:20:56.739Z"
   },
   {
    "duration": 1015,
    "start_time": "2023-10-03T06:21:00.139Z"
   },
   {
    "duration": 12,
    "start_time": "2023-10-03T06:21:01.156Z"
   },
   {
    "duration": 123,
    "start_time": "2023-10-03T06:21:01.170Z"
   },
   {
    "duration": 297,
    "start_time": "2023-10-03T06:21:01.295Z"
   },
   {
    "duration": 152,
    "start_time": "2023-10-03T06:21:01.594Z"
   },
   {
    "duration": 548,
    "start_time": "2023-10-03T06:21:01.747Z"
   },
   {
    "duration": 14,
    "start_time": "2023-10-03T06:21:02.297Z"
   },
   {
    "duration": 58,
    "start_time": "2023-10-03T06:21:02.314Z"
   },
   {
    "duration": 28,
    "start_time": "2023-10-03T06:21:02.376Z"
   },
   {
    "duration": 1519,
    "start_time": "2023-10-03T06:21:02.406Z"
   },
   {
    "duration": 3141,
    "start_time": "2023-10-03T06:30:18.503Z"
   },
   {
    "duration": 4621,
    "start_time": "2023-10-03T11:48:16.246Z"
   },
   {
    "duration": 4138,
    "start_time": "2023-10-03T11:51:37.884Z"
   },
   {
    "duration": 2818,
    "start_time": "2023-10-03T11:51:51.339Z"
   },
   {
    "duration": 17,
    "start_time": "2023-10-03T11:51:57.226Z"
   },
   {
    "duration": 112,
    "start_time": "2023-10-03T11:51:59.983Z"
   },
   {
    "duration": 26,
    "start_time": "2023-10-03T11:52:14.001Z"
   },
   {
    "duration": 7,
    "start_time": "2023-10-03T11:52:14.826Z"
   },
   {
    "duration": 222,
    "start_time": "2023-10-03T11:52:16.877Z"
   },
   {
    "duration": 11,
    "start_time": "2023-10-03T11:52:52.107Z"
   },
   {
    "duration": 2,
    "start_time": "2023-10-03T11:52:53.349Z"
   },
   {
    "duration": 4,
    "start_time": "2023-10-03T11:52:54.268Z"
   },
   {
    "duration": 538,
    "start_time": "2023-10-03T11:52:56.792Z"
   },
   {
    "duration": 4,
    "start_time": "2023-10-03T11:53:08.565Z"
   },
   {
    "duration": 435,
    "start_time": "2023-10-03T11:53:11.203Z"
   },
   {
    "duration": 3,
    "start_time": "2023-10-03T11:56:11.927Z"
   },
   {
    "duration": 448,
    "start_time": "2023-10-03T11:56:15.360Z"
   },
   {
    "duration": 81,
    "start_time": "2023-10-03T11:58:02.753Z"
   },
   {
    "duration": 174,
    "start_time": "2023-10-03T11:58:03.626Z"
   },
   {
    "duration": 14,
    "start_time": "2023-10-03T12:03:56.200Z"
   },
   {
    "duration": 19,
    "start_time": "2023-10-03T12:05:00.391Z"
   },
   {
    "duration": 13,
    "start_time": "2023-10-03T12:05:23.295Z"
   },
   {
    "duration": 5,
    "start_time": "2023-10-03T12:07:01.005Z"
   },
   {
    "duration": 4,
    "start_time": "2023-10-03T12:09:48.869Z"
   },
   {
    "duration": 1561,
    "start_time": "2023-10-03T12:09:52.601Z"
   },
   {
    "duration": 432,
    "start_time": "2023-10-03T12:10:51.908Z"
   },
   {
    "duration": 4,
    "start_time": "2023-10-03T12:11:04.761Z"
   },
   {
    "duration": 688,
    "start_time": "2023-10-03T12:11:09.231Z"
   },
   {
    "duration": 3,
    "start_time": "2023-10-03T12:11:15.747Z"
   },
   {
    "duration": 3,
    "start_time": "2023-10-03T12:11:16.489Z"
   },
   {
    "duration": 3,
    "start_time": "2023-10-03T12:11:18.743Z"
   },
   {
    "duration": 502,
    "start_time": "2023-10-03T12:11:21.000Z"
   },
   {
    "duration": 5,
    "start_time": "2023-10-03T12:12:14.370Z"
   },
   {
    "duration": 587,
    "start_time": "2023-10-03T12:12:17.894Z"
   },
   {
    "duration": 10,
    "start_time": "2023-10-03T12:13:00.099Z"
   },
   {
    "duration": 2855,
    "start_time": "2023-10-03T12:13:05.052Z"
   },
   {
    "duration": 9,
    "start_time": "2023-10-03T12:13:31.427Z"
   },
   {
    "duration": 4,
    "start_time": "2023-10-03T12:14:14.100Z"
   },
   {
    "duration": 3,
    "start_time": "2023-10-03T12:14:15.317Z"
   },
   {
    "duration": 3,
    "start_time": "2023-10-03T12:14:21.966Z"
   },
   {
    "duration": 3,
    "start_time": "2023-10-03T12:14:45.848Z"
   },
   {
    "duration": 5,
    "start_time": "2023-10-03T12:14:46.572Z"
   },
   {
    "duration": 3,
    "start_time": "2023-10-03T12:15:07.269Z"
   },
   {
    "duration": 7,
    "start_time": "2023-10-03T12:15:46.574Z"
   },
   {
    "duration": 209,
    "start_time": "2023-10-03T12:16:26.637Z"
   },
   {
    "duration": 304,
    "start_time": "2023-10-03T12:17:08.031Z"
   },
   {
    "duration": 1203,
    "start_time": "2023-10-03T12:17:25.143Z"
   },
   {
    "duration": 6,
    "start_time": "2023-10-03T12:18:04.694Z"
   },
   {
    "duration": 6,
    "start_time": "2023-10-03T12:18:15.748Z"
   },
   {
    "duration": 6,
    "start_time": "2023-10-03T12:19:13.470Z"
   },
   {
    "duration": 7,
    "start_time": "2023-10-03T12:20:15.155Z"
   },
   {
    "duration": 4,
    "start_time": "2023-10-03T12:21:38.010Z"
   },
   {
    "duration": 17,
    "start_time": "2023-10-03T12:21:52.747Z"
   },
   {
    "duration": 7,
    "start_time": "2023-10-03T12:22:06.588Z"
   },
   {
    "duration": 6,
    "start_time": "2023-10-03T12:22:11.965Z"
   },
   {
    "duration": 5,
    "start_time": "2023-10-03T12:22:31.528Z"
   },
   {
    "duration": 7,
    "start_time": "2023-10-03T12:26:11.785Z"
   },
   {
    "duration": 5,
    "start_time": "2023-10-03T12:27:36.121Z"
   },
   {
    "duration": 50840,
    "start_time": "2023-10-03T12:27:38.869Z"
   },
   {
    "duration": 86510,
    "start_time": "2023-10-03T12:28:45.737Z"
   },
   {
    "duration": 9,
    "start_time": "2023-10-03T12:30:35.830Z"
   },
   {
    "duration": 11,
    "start_time": "2023-10-03T12:33:54.865Z"
   },
   {
    "duration": 11,
    "start_time": "2023-10-03T12:34:49.085Z"
   },
   {
    "duration": 12,
    "start_time": "2023-10-03T12:34:55.186Z"
   },
   {
    "duration": 4,
    "start_time": "2023-10-03T12:35:21.627Z"
   },
   {
    "duration": 7,
    "start_time": "2023-10-03T12:35:28.787Z"
   },
   {
    "duration": 6,
    "start_time": "2023-10-03T12:36:38.347Z"
   },
   {
    "duration": 5,
    "start_time": "2023-10-03T12:36:44.296Z"
   },
   {
    "duration": 5,
    "start_time": "2023-10-03T12:36:50.706Z"
   },
   {
    "duration": 406103,
    "start_time": "2023-10-03T12:36:54.168Z"
   },
   {
    "duration": 11,
    "start_time": "2023-10-03T12:45:43.407Z"
   },
   {
    "duration": 115,
    "start_time": "2023-10-03T12:45:44.188Z"
   },
   {
    "duration": 13,
    "start_time": "2023-10-03T12:45:50.709Z"
   },
   {
    "duration": 7,
    "start_time": "2023-10-03T12:47:34.222Z"
   },
   {
    "duration": 3,
    "start_time": "2023-10-03T12:47:40.217Z"
   },
   {
    "duration": 4649,
    "start_time": "2023-10-03T12:47:40.892Z"
   },
   {
    "duration": 4,
    "start_time": "2023-10-03T12:48:04.571Z"
   },
   {
    "duration": 5,
    "start_time": "2023-10-03T12:48:05.564Z"
   },
   {
    "duration": 4,
    "start_time": "2023-10-03T12:48:06.306Z"
   },
   {
    "duration": 178315,
    "start_time": "2023-10-03T12:48:11.965Z"
   },
   {
    "duration": 948084,
    "start_time": "2023-10-03T12:55:10.390Z"
   },
   {
    "duration": 78,
    "start_time": "2023-10-03T13:10:58.476Z"
   },
   {
    "duration": 78007,
    "start_time": "2023-10-03T13:10:58.556Z"
   },
   {
    "duration": 17,
    "start_time": "2023-10-03T13:12:16.566Z"
   },
   {
    "duration": 2382,
    "start_time": "2023-10-03T13:16:01.733Z"
   },
   {
    "duration": 2801,
    "start_time": "2023-10-03T13:16:04.117Z"
   },
   {
    "duration": 986,
    "start_time": "2023-10-03T13:16:06.919Z"
   },
   {
    "duration": 15,
    "start_time": "2023-10-03T13:16:07.907Z"
   },
   {
    "duration": 124,
    "start_time": "2023-10-03T13:16:07.924Z"
   },
   {
    "duration": 28,
    "start_time": "2023-10-03T13:16:08.050Z"
   },
   {
    "duration": 8,
    "start_time": "2023-10-03T13:16:08.080Z"
   },
   {
    "duration": 244,
    "start_time": "2023-10-03T13:16:08.090Z"
   },
   {
    "duration": 9,
    "start_time": "2023-10-03T13:16:08.336Z"
   },
   {
    "duration": 13,
    "start_time": "2023-10-03T13:16:08.347Z"
   },
   {
    "duration": 15,
    "start_time": "2023-10-03T13:16:08.361Z"
   },
   {
    "duration": 386120,
    "start_time": "2023-10-03T13:16:08.377Z"
   },
   {
    "duration": 13,
    "start_time": "2023-10-03T13:22:34.499Z"
   },
   {
    "duration": 139,
    "start_time": "2023-10-03T13:22:34.514Z"
   },
   {
    "duration": 10,
    "start_time": "2023-10-03T13:22:34.655Z"
   },
   {
    "duration": 29,
    "start_time": "2023-10-03T13:22:34.667Z"
   },
   {
    "duration": 31,
    "start_time": "2023-10-03T13:22:34.697Z"
   },
   {
    "duration": 4555,
    "start_time": "2023-10-03T13:22:34.730Z"
   },
   {
    "duration": 3,
    "start_time": "2023-10-03T13:22:39.287Z"
   },
   {
    "duration": 5,
    "start_time": "2023-10-03T13:22:39.292Z"
   },
   {
    "duration": 8,
    "start_time": "2023-10-03T13:22:39.298Z"
   },
   {
    "duration": 428243,
    "start_time": "2023-10-03T13:22:39.307Z"
   },
   {
    "duration": 12,
    "start_time": "2023-10-03T13:29:47.557Z"
   },
   {
    "duration": 1927755,
    "start_time": "2023-10-03T13:29:47.570Z"
   },
   {
    "duration": 70217,
    "start_time": "2023-10-03T14:01:55.327Z"
   },
   {
    "duration": 11,
    "start_time": "2023-10-03T14:03:05.555Z"
   },
   {
    "duration": 179,
    "start_time": "2023-10-03T14:03:05.567Z"
   },
   {
    "duration": 0,
    "start_time": "2023-10-03T14:03:05.750Z"
   },
   {
    "duration": 0,
    "start_time": "2023-10-03T14:03:05.751Z"
   },
   {
    "duration": 1,
    "start_time": "2023-10-03T14:03:05.755Z"
   },
   {
    "duration": 1,
    "start_time": "2023-10-03T14:03:05.757Z"
   },
   {
    "duration": 0,
    "start_time": "2023-10-03T14:03:05.759Z"
   },
   {
    "duration": 4,
    "start_time": "2023-10-03T14:08:29.697Z"
   },
   {
    "duration": 148,
    "start_time": "2023-10-03T14:08:31.034Z"
   }
  ],
  "kernelspec": {
   "display_name": "Python 3",
   "language": "python",
   "name": "python3"
  },
  "language_info": {
   "codemirror_mode": {
    "name": "ipython",
    "version": 3
   },
   "file_extension": ".py",
   "mimetype": "text/x-python",
   "name": "python",
   "nbconvert_exporter": "python",
   "pygments_lexer": "ipython3",
   "version": "3.8.8"
  },
  "toc": {
   "base_numbering": 1,
   "nav_menu": {},
   "number_sections": true,
   "sideBar": true,
   "skip_h1_title": true,
   "title_cell": "Содержание",
   "title_sidebar": "Contents",
   "toc_cell": true,
   "toc_position": {
    "height": "calc(100% - 180px)",
    "left": "10px",
    "top": "150px",
    "width": "302.391px"
   },
   "toc_section_display": true,
   "toc_window_display": false
  }
 },
 "nbformat": 4,
 "nbformat_minor": 2
}
