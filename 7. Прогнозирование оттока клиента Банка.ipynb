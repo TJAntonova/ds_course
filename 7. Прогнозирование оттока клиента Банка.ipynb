{
 "cells": [
  {
   "cell_type": "markdown",
   "metadata": {
    "toc": true
   },
   "source": [
    "<h1>Содержание<span class=\"tocSkip\"></span></h1>\n",
    "<div class=\"toc\"><ul class=\"toc-item\"><li><span><a href=\"#Подготовка-данных\" data-toc-modified-id=\"Подготовка-данных-1\"><span class=\"toc-item-num\">1&nbsp;&nbsp;</span>Подготовка данных</a></span><ul class=\"toc-item\"><li><span><a href=\"#Подключение-необходимых-библиотек.\" data-toc-modified-id=\"Подключение-необходимых-библиотек.-1.1\"><span class=\"toc-item-num\">1.1&nbsp;&nbsp;</span>Подключение необходимых библиотек.</a></span></li><li><span><a href=\"#Открытие-и-изучение-данных.\" data-toc-modified-id=\"Открытие-и-изучение-данных.-1.2\"><span class=\"toc-item-num\">1.2&nbsp;&nbsp;</span>Открытие и изучение данных.</a></span></li><li><span><a href=\"#Подготовка-данных-к-решению-задачи.\" data-toc-modified-id=\"Подготовка-данных-к-решению-задачи.-1.3\"><span class=\"toc-item-num\">1.3&nbsp;&nbsp;</span>Подготовка данных к решению задачи.</a></span></li><li><span><a href=\"#Вывод-по-шагу-1.\" data-toc-modified-id=\"Вывод-по-шагу-1.-1.4\"><span class=\"toc-item-num\">1.4&nbsp;&nbsp;</span>Вывод по шагу 1.</a></span></li></ul></li><li><span><a href=\"#Исследование-задачи\" data-toc-modified-id=\"Исследование-задачи-2\"><span class=\"toc-item-num\">2&nbsp;&nbsp;</span>Исследование задачи</a></span><ul class=\"toc-item\"><li><span><a href=\"#Настройка-гиперпараметров-моделей.\" data-toc-modified-id=\"Настройка-гиперпараметров-моделей.-2.1\"><span class=\"toc-item-num\">2.1&nbsp;&nbsp;</span>Настройка гиперпараметров моделей.</a></span><ul class=\"toc-item\"><li><span><a href=\"#Дерево-решений.\" data-toc-modified-id=\"Дерево-решений.-2.1.1\"><span class=\"toc-item-num\">2.1.1&nbsp;&nbsp;</span>Дерево решений.</a></span></li><li><span><a href=\"#Случайный-лес.\" data-toc-modified-id=\"Случайный-лес.-2.1.2\"><span class=\"toc-item-num\">2.1.2&nbsp;&nbsp;</span>Случайный лес.</a></span></li><li><span><a href=\"#Логистическая-регрессия.\" data-toc-modified-id=\"Логистическая-регрессия.-2.1.3\"><span class=\"toc-item-num\">2.1.3&nbsp;&nbsp;</span>Логистическая регрессия.</a></span></li></ul></li><li><span><a href=\"#Оценка-качества-моделей.\" data-toc-modified-id=\"Оценка-качества-моделей.-2.2\"><span class=\"toc-item-num\">2.2&nbsp;&nbsp;</span>Оценка качества моделей.</a></span></li><li><span><a href=\"#Вывод-по-шагу-2.\" data-toc-modified-id=\"Вывод-по-шагу-2.-2.3\"><span class=\"toc-item-num\">2.3&nbsp;&nbsp;</span>Вывод по шагу 2.</a></span></li></ul></li><li><span><a href=\"#Борьба-с-дисбалансом\" data-toc-modified-id=\"Борьба-с-дисбалансом-3\"><span class=\"toc-item-num\">3&nbsp;&nbsp;</span>Борьба с дисбалансом</a></span><ul class=\"toc-item\"><li><span><a href=\"#Взвешивание-классов.\" data-toc-modified-id=\"Взвешивание-классов.-3.1\"><span class=\"toc-item-num\">3.1&nbsp;&nbsp;</span>Взвешивание классов.</a></span></li><li><span><a href=\"#Уменьшение-выборки.\" data-toc-modified-id=\"Уменьшение-выборки.-3.2\"><span class=\"toc-item-num\">3.2&nbsp;&nbsp;</span>Уменьшение выборки.</a></span></li><li><span><a href=\"#Увеличение-выборки.\" data-toc-modified-id=\"Увеличение-выборки.-3.3\"><span class=\"toc-item-num\">3.3&nbsp;&nbsp;</span>Увеличение выборки.</a></span></li><li><span><a href=\"#Вывод-по-шагу-3.\" data-toc-modified-id=\"Вывод-по-шагу-3.-3.4\"><span class=\"toc-item-num\">3.4&nbsp;&nbsp;</span>Вывод по шагу 3.</a></span></li></ul></li><li><span><a href=\"#Тестирование-модели\" data-toc-modified-id=\"Тестирование-модели-4\"><span class=\"toc-item-num\">4&nbsp;&nbsp;</span>Тестирование модели</a></span><ul class=\"toc-item\"><li><span><a href=\"#Вывод-по-шагу-4.\" data-toc-modified-id=\"Вывод-по-шагу-4.-4.1\"><span class=\"toc-item-num\">4.1&nbsp;&nbsp;</span>Вывод по шагу 4.</a></span></li></ul></li><li><span><a href=\"#Общий-вывод.\" data-toc-modified-id=\"Общий-вывод.-5\"><span class=\"toc-item-num\">5&nbsp;&nbsp;</span>Общий вывод.</a></span></li><li><span><a href=\"#Чек-лист-готовности-проекта\" data-toc-modified-id=\"Чек-лист-готовности-проекта-6\"><span class=\"toc-item-num\">6&nbsp;&nbsp;</span>Чек-лист готовности проекта</a></span></li></ul></div>"
   ]
  },
  {
   "cell_type": "markdown",
   "metadata": {},
   "source": [
    "# Отток клиентов «Бета-Банка»"
   ]
  },
  {
   "cell_type": "markdown",
   "metadata": {},
   "source": [
    "Из «Бета-Банка» стали уходить клиенты. Каждый месяц. Немного, но заметно. Банковские маркетологи посчитали: сохранять текущих клиентов дешевле, чем привлекать новых.\n",
    "\n",
    "<b> Цель проекта </b> - спрогнозировать, уйдёт клиент из банка в ближайшее время или нет. \n",
    "\n",
    "Нам предоставлены исторические данные о поведении клиентов и расторжении договоров с банком. \n",
    "\n",
    "<b> Описание данных </b>\n",
    "\n",
    "Признаки:\n",
    "\n",
    "- RowNumber — индекс строки в данных\n",
    "- CustomerId — уникальный идентификатор клиента\n",
    "- Surname — фамилия\n",
    "- CreditScore — кредитный рейтинг\n",
    "- Geography — страна проживания\n",
    "- Gender — пол\n",
    "- Age — возраст\n",
    "- Tenure — сколько лет человек является клиентом банка\n",
    "- Balance — баланс на счёте\n",
    "- NumOfProducts — количество продуктов банка, используемых клиентом\n",
    "- HasCrCard — наличие кредитной карты\n",
    "- IsActiveMember — активность клиента\n",
    "- EstimatedSalary — предполагаемая зарплата\n",
    "\n",
    "Целевой признак:\n",
    "- Exited — факт ухода клиента\n",
    "\n",
    "<b>Задачи проекта:</b>\n",
    "- Подготовить данные.\n",
    "- Исследовать баланс классов, обучить модель без учёта дисбаланса. \n",
    "- Улучшить качество модели, учитывая дисбаланс классов. Обучить разные модели и найти лучшую по значению F1-меры (минимальный порог 0.59). \n",
    "- Провести финальное тестирование.\n"
   ]
  },
  {
   "cell_type": "markdown",
   "metadata": {},
   "source": [
    "## Подготовка данных"
   ]
  },
  {
   "cell_type": "markdown",
   "metadata": {},
   "source": [
    "### Подключение необходимых библиотек."
   ]
  },
  {
   "cell_type": "code",
   "execution_count": 1,
   "metadata": {},
   "outputs": [
    {
     "name": "stdout",
     "output_type": "stream",
     "text": [
      "Collecting package metadata (current_repodata.json): done\n",
      "Solving environment: done\n",
      "\n",
      "\n",
      "==> WARNING: A newer version of conda exists. <==\n",
      "  current version: 4.10.2\n",
      "  latest version: 22.11.1\n",
      "\n",
      "Please update conda by running\n",
      "\n",
      "    $ conda update -n base conda\n",
      "\n",
      "\n",
      "\n",
      "# All requested packages already installed.\n",
      "\n",
      "\n",
      "Note: you may need to restart the kernel to use updated packages.\n"
     ]
    }
   ],
   "source": [
    "conda install -c conda-forge imbalanced-learn"
   ]
  },
  {
   "cell_type": "code",
   "execution_count": 2,
   "metadata": {},
   "outputs": [],
   "source": [
    "import matplotlib.pyplot as plt\n",
    "import numpy as np\n",
    "import pandas as pd\n",
    "from sklearn.model_selection import train_test_split\n",
    "from sklearn.linear_model import LogisticRegression\n",
    "from sklearn.tree import DecisionTreeClassifier\n",
    "from sklearn.ensemble import RandomForestClassifier\n",
    "from sklearn.metrics import f1_score, precision_score, recall_score, accuracy_score, roc_auc_score, roc_curve\n",
    "from sklearn.utils import shuffle\n",
    "from sklearn.preprocessing import StandardScaler\n",
    "from sklearn.preprocessing import OneHotEncoder\n",
    "from collections import Counter\n",
    "from sklearn.datasets import make_classification\n",
    "from imblearn.under_sampling import RandomUnderSampler \n",
    "from imblearn.over_sampling import SMOTE"
   ]
  },
  {
   "cell_type": "markdown",
   "metadata": {},
   "source": [
    "### Открытие и изучение данных."
   ]
  },
  {
   "cell_type": "code",
   "execution_count": 3,
   "metadata": {},
   "outputs": [],
   "source": [
    "server_path = '/datasets/Churn.csv'   \n",
    "local_path = 'Churn.csv'               \n",
    "try:\n",
    "    df = pd.read_csv(server_path)   \n",
    "except: \n",
    "    df = pd.read_csv(local_path)  "
   ]
  },
  {
   "cell_type": "code",
   "execution_count": 4,
   "metadata": {},
   "outputs": [
    {
     "data": {
      "text/html": [
       "<div>\n",
       "<style scoped>\n",
       "    .dataframe tbody tr th:only-of-type {\n",
       "        vertical-align: middle;\n",
       "    }\n",
       "\n",
       "    .dataframe tbody tr th {\n",
       "        vertical-align: top;\n",
       "    }\n",
       "\n",
       "    .dataframe thead th {\n",
       "        text-align: right;\n",
       "    }\n",
       "</style>\n",
       "<table border=\"1\" class=\"dataframe\">\n",
       "  <thead>\n",
       "    <tr style=\"text-align: right;\">\n",
       "      <th></th>\n",
       "      <th>RowNumber</th>\n",
       "      <th>CustomerId</th>\n",
       "      <th>Surname</th>\n",
       "      <th>CreditScore</th>\n",
       "      <th>Geography</th>\n",
       "      <th>Gender</th>\n",
       "      <th>Age</th>\n",
       "      <th>Tenure</th>\n",
       "      <th>Balance</th>\n",
       "      <th>NumOfProducts</th>\n",
       "      <th>HasCrCard</th>\n",
       "      <th>IsActiveMember</th>\n",
       "      <th>EstimatedSalary</th>\n",
       "      <th>Exited</th>\n",
       "    </tr>\n",
       "  </thead>\n",
       "  <tbody>\n",
       "    <tr>\n",
       "      <th>0</th>\n",
       "      <td>1</td>\n",
       "      <td>15634602</td>\n",
       "      <td>Hargrave</td>\n",
       "      <td>619</td>\n",
       "      <td>France</td>\n",
       "      <td>Female</td>\n",
       "      <td>42</td>\n",
       "      <td>2.0</td>\n",
       "      <td>0.00</td>\n",
       "      <td>1</td>\n",
       "      <td>1</td>\n",
       "      <td>1</td>\n",
       "      <td>101348.88</td>\n",
       "      <td>1</td>\n",
       "    </tr>\n",
       "    <tr>\n",
       "      <th>1</th>\n",
       "      <td>2</td>\n",
       "      <td>15647311</td>\n",
       "      <td>Hill</td>\n",
       "      <td>608</td>\n",
       "      <td>Spain</td>\n",
       "      <td>Female</td>\n",
       "      <td>41</td>\n",
       "      <td>1.0</td>\n",
       "      <td>83807.86</td>\n",
       "      <td>1</td>\n",
       "      <td>0</td>\n",
       "      <td>1</td>\n",
       "      <td>112542.58</td>\n",
       "      <td>0</td>\n",
       "    </tr>\n",
       "    <tr>\n",
       "      <th>2</th>\n",
       "      <td>3</td>\n",
       "      <td>15619304</td>\n",
       "      <td>Onio</td>\n",
       "      <td>502</td>\n",
       "      <td>France</td>\n",
       "      <td>Female</td>\n",
       "      <td>42</td>\n",
       "      <td>8.0</td>\n",
       "      <td>159660.80</td>\n",
       "      <td>3</td>\n",
       "      <td>1</td>\n",
       "      <td>0</td>\n",
       "      <td>113931.57</td>\n",
       "      <td>1</td>\n",
       "    </tr>\n",
       "    <tr>\n",
       "      <th>3</th>\n",
       "      <td>4</td>\n",
       "      <td>15701354</td>\n",
       "      <td>Boni</td>\n",
       "      <td>699</td>\n",
       "      <td>France</td>\n",
       "      <td>Female</td>\n",
       "      <td>39</td>\n",
       "      <td>1.0</td>\n",
       "      <td>0.00</td>\n",
       "      <td>2</td>\n",
       "      <td>0</td>\n",
       "      <td>0</td>\n",
       "      <td>93826.63</td>\n",
       "      <td>0</td>\n",
       "    </tr>\n",
       "    <tr>\n",
       "      <th>4</th>\n",
       "      <td>5</td>\n",
       "      <td>15737888</td>\n",
       "      <td>Mitchell</td>\n",
       "      <td>850</td>\n",
       "      <td>Spain</td>\n",
       "      <td>Female</td>\n",
       "      <td>43</td>\n",
       "      <td>2.0</td>\n",
       "      <td>125510.82</td>\n",
       "      <td>1</td>\n",
       "      <td>1</td>\n",
       "      <td>1</td>\n",
       "      <td>79084.10</td>\n",
       "      <td>0</td>\n",
       "    </tr>\n",
       "  </tbody>\n",
       "</table>\n",
       "</div>"
      ],
      "text/plain": [
       "   RowNumber  CustomerId   Surname  CreditScore Geography  Gender  Age  \\\n",
       "0          1    15634602  Hargrave          619    France  Female   42   \n",
       "1          2    15647311      Hill          608     Spain  Female   41   \n",
       "2          3    15619304      Onio          502    France  Female   42   \n",
       "3          4    15701354      Boni          699    France  Female   39   \n",
       "4          5    15737888  Mitchell          850     Spain  Female   43   \n",
       "\n",
       "   Tenure    Balance  NumOfProducts  HasCrCard  IsActiveMember  \\\n",
       "0     2.0       0.00              1          1               1   \n",
       "1     1.0   83807.86              1          0               1   \n",
       "2     8.0  159660.80              3          1               0   \n",
       "3     1.0       0.00              2          0               0   \n",
       "4     2.0  125510.82              1          1               1   \n",
       "\n",
       "   EstimatedSalary  Exited  \n",
       "0        101348.88       1  \n",
       "1        112542.58       0  \n",
       "2        113931.57       1  \n",
       "3         93826.63       0  \n",
       "4         79084.10       0  "
      ]
     },
     "execution_count": 4,
     "metadata": {},
     "output_type": "execute_result"
    }
   ],
   "source": [
    "df.head(5)"
   ]
  },
  {
   "cell_type": "code",
   "execution_count": 5,
   "metadata": {},
   "outputs": [
    {
     "name": "stdout",
     "output_type": "stream",
     "text": [
      "<class 'pandas.core.frame.DataFrame'>\n",
      "RangeIndex: 10000 entries, 0 to 9999\n",
      "Data columns (total 14 columns):\n",
      " #   Column           Non-Null Count  Dtype  \n",
      "---  ------           --------------  -----  \n",
      " 0   RowNumber        10000 non-null  int64  \n",
      " 1   CustomerId       10000 non-null  int64  \n",
      " 2   Surname          10000 non-null  object \n",
      " 3   CreditScore      10000 non-null  int64  \n",
      " 4   Geography        10000 non-null  object \n",
      " 5   Gender           10000 non-null  object \n",
      " 6   Age              10000 non-null  int64  \n",
      " 7   Tenure           9091 non-null   float64\n",
      " 8   Balance          10000 non-null  float64\n",
      " 9   NumOfProducts    10000 non-null  int64  \n",
      " 10  HasCrCard        10000 non-null  int64  \n",
      " 11  IsActiveMember   10000 non-null  int64  \n",
      " 12  EstimatedSalary  10000 non-null  float64\n",
      " 13  Exited           10000 non-null  int64  \n",
      "dtypes: float64(3), int64(8), object(3)\n",
      "memory usage: 1.1+ MB\n"
     ]
    }
   ],
   "source": [
    "df.info()"
   ]
  },
  {
   "cell_type": "markdown",
   "metadata": {},
   "source": [
    "Обнаружены пропуски в столбце Tenure. Проверим, можно ли заполнить их, опираясь на какую-либо закономерность."
   ]
  },
  {
   "cell_type": "code",
   "execution_count": 6,
   "metadata": {},
   "outputs": [
    {
     "data": {
      "text/html": [
       "<div>\n",
       "<style scoped>\n",
       "    .dataframe tbody tr th:only-of-type {\n",
       "        vertical-align: middle;\n",
       "    }\n",
       "\n",
       "    .dataframe tbody tr th {\n",
       "        vertical-align: top;\n",
       "    }\n",
       "\n",
       "    .dataframe thead th {\n",
       "        text-align: right;\n",
       "    }\n",
       "</style>\n",
       "<table border=\"1\" class=\"dataframe\">\n",
       "  <thead>\n",
       "    <tr style=\"text-align: right;\">\n",
       "      <th></th>\n",
       "      <th>RowNumber</th>\n",
       "      <th>CustomerId</th>\n",
       "      <th>Surname</th>\n",
       "      <th>CreditScore</th>\n",
       "      <th>Geography</th>\n",
       "      <th>Gender</th>\n",
       "      <th>Age</th>\n",
       "      <th>Tenure</th>\n",
       "      <th>Balance</th>\n",
       "      <th>NumOfProducts</th>\n",
       "      <th>HasCrCard</th>\n",
       "      <th>IsActiveMember</th>\n",
       "      <th>EstimatedSalary</th>\n",
       "      <th>Exited</th>\n",
       "    </tr>\n",
       "  </thead>\n",
       "  <tbody>\n",
       "    <tr>\n",
       "      <th>30</th>\n",
       "      <td>31</td>\n",
       "      <td>15589475</td>\n",
       "      <td>Azikiwe</td>\n",
       "      <td>591</td>\n",
       "      <td>Spain</td>\n",
       "      <td>Female</td>\n",
       "      <td>39</td>\n",
       "      <td>NaN</td>\n",
       "      <td>0.00</td>\n",
       "      <td>3</td>\n",
       "      <td>1</td>\n",
       "      <td>0</td>\n",
       "      <td>140469.38</td>\n",
       "      <td>1</td>\n",
       "    </tr>\n",
       "    <tr>\n",
       "      <th>48</th>\n",
       "      <td>49</td>\n",
       "      <td>15766205</td>\n",
       "      <td>Yin</td>\n",
       "      <td>550</td>\n",
       "      <td>Germany</td>\n",
       "      <td>Male</td>\n",
       "      <td>38</td>\n",
       "      <td>NaN</td>\n",
       "      <td>103391.38</td>\n",
       "      <td>1</td>\n",
       "      <td>0</td>\n",
       "      <td>1</td>\n",
       "      <td>90878.13</td>\n",
       "      <td>0</td>\n",
       "    </tr>\n",
       "    <tr>\n",
       "      <th>51</th>\n",
       "      <td>52</td>\n",
       "      <td>15768193</td>\n",
       "      <td>Trevisani</td>\n",
       "      <td>585</td>\n",
       "      <td>Germany</td>\n",
       "      <td>Male</td>\n",
       "      <td>36</td>\n",
       "      <td>NaN</td>\n",
       "      <td>146050.97</td>\n",
       "      <td>2</td>\n",
       "      <td>0</td>\n",
       "      <td>0</td>\n",
       "      <td>86424.57</td>\n",
       "      <td>0</td>\n",
       "    </tr>\n",
       "    <tr>\n",
       "      <th>53</th>\n",
       "      <td>54</td>\n",
       "      <td>15702298</td>\n",
       "      <td>Parkhill</td>\n",
       "      <td>655</td>\n",
       "      <td>Germany</td>\n",
       "      <td>Male</td>\n",
       "      <td>41</td>\n",
       "      <td>NaN</td>\n",
       "      <td>125561.97</td>\n",
       "      <td>1</td>\n",
       "      <td>0</td>\n",
       "      <td>0</td>\n",
       "      <td>164040.94</td>\n",
       "      <td>1</td>\n",
       "    </tr>\n",
       "    <tr>\n",
       "      <th>60</th>\n",
       "      <td>61</td>\n",
       "      <td>15651280</td>\n",
       "      <td>Hunter</td>\n",
       "      <td>742</td>\n",
       "      <td>Germany</td>\n",
       "      <td>Male</td>\n",
       "      <td>35</td>\n",
       "      <td>NaN</td>\n",
       "      <td>136857.00</td>\n",
       "      <td>1</td>\n",
       "      <td>0</td>\n",
       "      <td>0</td>\n",
       "      <td>84509.57</td>\n",
       "      <td>0</td>\n",
       "    </tr>\n",
       "    <tr>\n",
       "      <th>...</th>\n",
       "      <td>...</td>\n",
       "      <td>...</td>\n",
       "      <td>...</td>\n",
       "      <td>...</td>\n",
       "      <td>...</td>\n",
       "      <td>...</td>\n",
       "      <td>...</td>\n",
       "      <td>...</td>\n",
       "      <td>...</td>\n",
       "      <td>...</td>\n",
       "      <td>...</td>\n",
       "      <td>...</td>\n",
       "      <td>...</td>\n",
       "      <td>...</td>\n",
       "    </tr>\n",
       "    <tr>\n",
       "      <th>9944</th>\n",
       "      <td>9945</td>\n",
       "      <td>15703923</td>\n",
       "      <td>Cameron</td>\n",
       "      <td>744</td>\n",
       "      <td>Germany</td>\n",
       "      <td>Male</td>\n",
       "      <td>41</td>\n",
       "      <td>NaN</td>\n",
       "      <td>190409.34</td>\n",
       "      <td>2</td>\n",
       "      <td>1</td>\n",
       "      <td>1</td>\n",
       "      <td>138361.48</td>\n",
       "      <td>0</td>\n",
       "    </tr>\n",
       "    <tr>\n",
       "      <th>9956</th>\n",
       "      <td>9957</td>\n",
       "      <td>15707861</td>\n",
       "      <td>Nucci</td>\n",
       "      <td>520</td>\n",
       "      <td>France</td>\n",
       "      <td>Female</td>\n",
       "      <td>46</td>\n",
       "      <td>NaN</td>\n",
       "      <td>85216.61</td>\n",
       "      <td>1</td>\n",
       "      <td>1</td>\n",
       "      <td>0</td>\n",
       "      <td>117369.52</td>\n",
       "      <td>1</td>\n",
       "    </tr>\n",
       "    <tr>\n",
       "      <th>9964</th>\n",
       "      <td>9965</td>\n",
       "      <td>15642785</td>\n",
       "      <td>Douglas</td>\n",
       "      <td>479</td>\n",
       "      <td>France</td>\n",
       "      <td>Male</td>\n",
       "      <td>34</td>\n",
       "      <td>NaN</td>\n",
       "      <td>117593.48</td>\n",
       "      <td>2</td>\n",
       "      <td>0</td>\n",
       "      <td>0</td>\n",
       "      <td>113308.29</td>\n",
       "      <td>0</td>\n",
       "    </tr>\n",
       "    <tr>\n",
       "      <th>9985</th>\n",
       "      <td>9986</td>\n",
       "      <td>15586914</td>\n",
       "      <td>Nepean</td>\n",
       "      <td>659</td>\n",
       "      <td>France</td>\n",
       "      <td>Male</td>\n",
       "      <td>36</td>\n",
       "      <td>NaN</td>\n",
       "      <td>123841.49</td>\n",
       "      <td>2</td>\n",
       "      <td>1</td>\n",
       "      <td>0</td>\n",
       "      <td>96833.00</td>\n",
       "      <td>0</td>\n",
       "    </tr>\n",
       "    <tr>\n",
       "      <th>9999</th>\n",
       "      <td>10000</td>\n",
       "      <td>15628319</td>\n",
       "      <td>Walker</td>\n",
       "      <td>792</td>\n",
       "      <td>France</td>\n",
       "      <td>Female</td>\n",
       "      <td>28</td>\n",
       "      <td>NaN</td>\n",
       "      <td>130142.79</td>\n",
       "      <td>1</td>\n",
       "      <td>1</td>\n",
       "      <td>0</td>\n",
       "      <td>38190.78</td>\n",
       "      <td>0</td>\n",
       "    </tr>\n",
       "  </tbody>\n",
       "</table>\n",
       "<p>909 rows × 14 columns</p>\n",
       "</div>"
      ],
      "text/plain": [
       "      RowNumber  CustomerId    Surname  CreditScore Geography  Gender  Age  \\\n",
       "30           31    15589475    Azikiwe          591     Spain  Female   39   \n",
       "48           49    15766205        Yin          550   Germany    Male   38   \n",
       "51           52    15768193  Trevisani          585   Germany    Male   36   \n",
       "53           54    15702298   Parkhill          655   Germany    Male   41   \n",
       "60           61    15651280     Hunter          742   Germany    Male   35   \n",
       "...         ...         ...        ...          ...       ...     ...  ...   \n",
       "9944       9945    15703923    Cameron          744   Germany    Male   41   \n",
       "9956       9957    15707861      Nucci          520    France  Female   46   \n",
       "9964       9965    15642785    Douglas          479    France    Male   34   \n",
       "9985       9986    15586914     Nepean          659    France    Male   36   \n",
       "9999      10000    15628319     Walker          792    France  Female   28   \n",
       "\n",
       "      Tenure    Balance  NumOfProducts  HasCrCard  IsActiveMember  \\\n",
       "30       NaN       0.00              3          1               0   \n",
       "48       NaN  103391.38              1          0               1   \n",
       "51       NaN  146050.97              2          0               0   \n",
       "53       NaN  125561.97              1          0               0   \n",
       "60       NaN  136857.00              1          0               0   \n",
       "...      ...        ...            ...        ...             ...   \n",
       "9944     NaN  190409.34              2          1               1   \n",
       "9956     NaN   85216.61              1          1               0   \n",
       "9964     NaN  117593.48              2          0               0   \n",
       "9985     NaN  123841.49              2          1               0   \n",
       "9999     NaN  130142.79              1          1               0   \n",
       "\n",
       "      EstimatedSalary  Exited  \n",
       "30          140469.38       1  \n",
       "48           90878.13       0  \n",
       "51           86424.57       0  \n",
       "53          164040.94       1  \n",
       "60           84509.57       0  \n",
       "...               ...     ...  \n",
       "9944        138361.48       0  \n",
       "9956        117369.52       1  \n",
       "9964        113308.29       0  \n",
       "9985         96833.00       0  \n",
       "9999         38190.78       0  \n",
       "\n",
       "[909 rows x 14 columns]"
      ]
     },
     "execution_count": 6,
     "metadata": {},
     "output_type": "execute_result"
    }
   ],
   "source": [
    "df[df['Tenure'].isna()]"
   ]
  },
  {
   "cell_type": "markdown",
   "metadata": {},
   "source": [
    "Заполним пропуски медианным значением."
   ]
  },
  {
   "cell_type": "code",
   "execution_count": 7,
   "metadata": {},
   "outputs": [
    {
     "name": "stdout",
     "output_type": "stream",
     "text": [
      "<class 'pandas.core.frame.DataFrame'>\n",
      "RangeIndex: 10000 entries, 0 to 9999\n",
      "Data columns (total 14 columns):\n",
      " #   Column           Non-Null Count  Dtype  \n",
      "---  ------           --------------  -----  \n",
      " 0   RowNumber        10000 non-null  int64  \n",
      " 1   CustomerId       10000 non-null  int64  \n",
      " 2   Surname          10000 non-null  object \n",
      " 3   CreditScore      10000 non-null  int64  \n",
      " 4   Geography        10000 non-null  object \n",
      " 5   Gender           10000 non-null  object \n",
      " 6   Age              10000 non-null  int64  \n",
      " 7   Tenure           10000 non-null  object \n",
      " 8   Balance          10000 non-null  float64\n",
      " 9   NumOfProducts    10000 non-null  int64  \n",
      " 10  HasCrCard        10000 non-null  int64  \n",
      " 11  IsActiveMember   10000 non-null  int64  \n",
      " 12  EstimatedSalary  10000 non-null  float64\n",
      " 13  Exited           10000 non-null  int64  \n",
      "dtypes: float64(2), int64(8), object(4)\n",
      "memory usage: 1.1+ MB\n"
     ]
    }
   ],
   "source": [
    "df['Tenure'] = df.fillna(df['Tenure'].mean())\n",
    "df.info()"
   ]
  },
  {
   "cell_type": "markdown",
   "metadata": {},
   "source": [
    "Проверим данные на наличие дубликатов и аномалий."
   ]
  },
  {
   "cell_type": "code",
   "execution_count": 8,
   "metadata": {},
   "outputs": [
    {
     "name": "stdout",
     "output_type": "stream",
     "text": [
      "ROWNUMBER \n",
      " [    1     2     3 ...  9998  9999 10000] \n",
      "\n",
      "CUSTOMERID \n",
      " [15634602 15647311 15619304 ... 15584532 15682355 15628319] \n",
      "\n",
      "SURNAME \n",
      " ['Hargrave' 'Hill' 'Onio' ... 'Kashiwagi' 'Aldridge' 'Burbidge'] \n",
      "\n",
      "CREDITSCORE \n",
      " [619 608 502 699 850 645 822 376 501 684 528 497 476 549 635 616 653 587\n",
      " 726 732 636 510 669 846 577 756 571 574 411 591 533 553 520 722 475 490\n",
      " 804 582 472 465 556 834 660 776 829 637 550 698 585 788 655 601 656 725\n",
      " 511 614 742 687 555 603 751 581 735 661 675 738 813 657 604 519 664 678\n",
      " 757 416 665 777 543 506 493 652 750 729 646 647 808 524 769 730 515 773\n",
      " 814 710 413 623 670 622 785 605 479 685 538 562 721 628 668 828 674 625\n",
      " 432 770 758 795 686 789 589 461 584 579 663 682 793 691 485 650 754 535\n",
      " 716 539 706 586 631 717 800 683 704 615 667 484 480 578 512 606 597 778\n",
      " 514 525 715 580 807 521 759 516 711 618 643 671 689 620 676 572 695 592\n",
      " 567 694 547 594 673 610 767 763 712 703 662 659 523 772 545 634 739 771\n",
      " 681 544 696 766 727 693 557 531 498 651 791 733 811 707 714 782 775 799\n",
      " 602 744 588 747 583 627 731 629 438 642 806 474 559 429 680 749 734 644\n",
      " 626 649 805 718 840 630 654 762 568 613 522 737 648 443 640 540 460 593\n",
      " 801 611 802 745 483 690 492 709 705 560 752 701 537 487 596 702 486 724\n",
      " 548 464 790 534 748 494 590 468 509 818 816 536 753 774 621 569 658 798\n",
      " 641 542 692 639 765 570 638 599 632 779 527 564 833 504 842 508 417 598\n",
      " 741 607 761 848 546 439 755 760 526 713 700 666 566 495 688 612 477 427\n",
      " 839 819 720 459 503 624 529 563 482 796 445 746 786 554 672 787 499 844\n",
      " 450 815 838 803 736 633 600 679 517 792 743 488 421 841 708 507 505 456\n",
      " 435 561 518 565 728 784 552 609 764 697 723 551 444 719 496 541 830 812\n",
      " 677 420 595 617 809 500 826 434 513 478 797 363 399 463 780 452 575 837\n",
      " 794 824 428 823 781 849 489 431 457 768 831 359 820 573 576 558 817 449\n",
      " 440 415 821 530 350 446 425 740 481 783 358 845 451 458 469 423 404 836\n",
      " 473 835 466 491 351 827 843 365 532 414 453 471 401 810 832 470 447 422\n",
      " 825 430 436 426 408 847 418 437 410 454 407 455 462 386 405 383 395 467\n",
      " 433 442 424 448 441 367 412 382 373 419] \n",
      "\n",
      "GEOGRAPHY \n",
      " ['France' 'Spain' 'Germany'] \n",
      "\n",
      "GENDER \n",
      " ['Female' 'Male'] \n",
      "\n",
      "AGE \n",
      " [42 41 39 43 44 50 29 27 31 24 34 25 35 45 58 32 38 46 36 33 40 51 61 49\n",
      " 37 19 66 56 26 21 55 75 22 30 28 65 48 52 57 73 47 54 72 20 67 79 62 53\n",
      " 80 59 68 23 60 70 63 64 18 82 69 74 71 76 77 88 85 84 78 81 92 83] \n",
      "\n",
      "TENURE \n",
      " [1 2 3 ... 9998 9999 10000] \n",
      "\n",
      "BALANCE \n",
      " [     0.    83807.86 159660.8  ...  57369.61  75075.31 130142.79] \n",
      "\n",
      "NUMOFPRODUCTS \n",
      " [1 3 2 4] \n",
      "\n",
      "HASCRCARD \n",
      " [1 0] \n",
      "\n",
      "ISACTIVEMEMBER \n",
      " [1 0] \n",
      "\n",
      "ESTIMATEDSALARY \n",
      " [101348.88 112542.58 113931.57 ...  42085.58  92888.52  38190.78] \n",
      "\n",
      "EXITED \n",
      " [1 0] \n",
      "\n"
     ]
    }
   ],
   "source": [
    "columns = df.columns\n",
    "for c in columns:\n",
    "    print(c.upper(), '\\n', df[c].unique(), '\\n')"
   ]
  },
  {
   "cell_type": "code",
   "execution_count": 9,
   "metadata": {},
   "outputs": [
    {
     "data": {
      "text/plain": [
       "0"
      ]
     },
     "execution_count": 9,
     "metadata": {},
     "output_type": "execute_result"
    }
   ],
   "source": [
    "df.duplicated().sum() "
   ]
  },
  {
   "cell_type": "markdown",
   "metadata": {},
   "source": [
    "Проблем не выявлено."
   ]
  },
  {
   "cell_type": "markdown",
   "metadata": {},
   "source": [
    "### Подготовка данных к решению задачи."
   ]
  },
  {
   "cell_type": "markdown",
   "metadata": {},
   "source": [
    "Удалим столбцы RowNumber, CustomerId и Surname. Эти данные не влияют на отток клиентов и не нужны при исследовании модели."
   ]
  },
  {
   "cell_type": "code",
   "execution_count": 10,
   "metadata": {},
   "outputs": [],
   "source": [
    "var_non_informative = ['RowNumber', 'CustomerId', 'Surname']\n",
    "var_numeric = ['CreditScore', 'Age', 'Tenure', 'Balance', \n",
    "               'NumOfProducts', 'HasCrCard', 'IsActiveMember', \n",
    "               'EstimatedSalary']\n",
    "var_categorical = ['Geography', 'Gender']\n",
    "df = df.drop(var_non_informative, axis=1)"
   ]
  },
  {
   "cell_type": "markdown",
   "metadata": {},
   "source": [
    "Проведем разделение выборки на обучающую, валидационную и тестовую, масштабируем данные и проведем кодирование."
   ]
  },
  {
   "cell_type": "code",
   "execution_count": 11,
   "metadata": {},
   "outputs": [
    {
     "name": "stdout",
     "output_type": "stream",
     "text": [
      "(6000, 16346) (2000, 16346) (2000, 16346)\n",
      "(6000,) (2000,) (2000,)\n"
     ]
    },
    {
     "name": "stderr",
     "output_type": "stream",
     "text": [
      "/tmp/ipykernel_717/4281443328.py:11: SettingWithCopyWarning: \n",
      "A value is trying to be set on a copy of a slice from a DataFrame.\n",
      "Try using .loc[row_indexer,col_indexer] = value instead\n",
      "\n",
      "See the caveats in the documentation: https://pandas.pydata.org/pandas-docs/stable/user_guide/indexing.html#returning-a-view-versus-a-copy\n",
      "  features_train[var_numeric] = scaler.fit_transform(features_train[var_numeric])\n",
      "/opt/conda/lib/python3.9/site-packages/pandas/core/indexing.py:1738: SettingWithCopyWarning: \n",
      "A value is trying to be set on a copy of a slice from a DataFrame.\n",
      "Try using .loc[row_indexer,col_indexer] = value instead\n",
      "\n",
      "See the caveats in the documentation: https://pandas.pydata.org/pandas-docs/stable/user_guide/indexing.html#returning-a-view-versus-a-copy\n",
      "  self._setitem_single_column(loc, value[:, i].tolist(), pi)\n"
     ]
    }
   ],
   "source": [
    "target = df['Exited']\n",
    "features = df.drop('Exited', axis=1)\n",
    "\n",
    "features_train, features_valid, target_train, target_valid = train_test_split(features, target, test_size=0.4, \n",
    "                                                                              random_state=12345, stratify=target)\n",
    "features_valid, features_test, target_valid, target_test = train_test_split(features_valid, target_valid, test_size=0.5, \n",
    "                                                                              random_state=12345, stratify=target_valid)\n",
    "\n",
    "\n",
    "scaler = StandardScaler(with_mean=False)\n",
    "features_train[var_numeric] = scaler.fit_transform(features_train[var_numeric])\n",
    "features_valid[var_numeric] = scaler.transform(features_valid[var_numeric])\n",
    "features_test[var_numeric] = scaler.transform(features_test[var_numeric])\n",
    "\n",
    "encoder = OneHotEncoder(handle_unknown=\"ignore\")\n",
    "features_train = encoder.fit_transform(features_train, target_train)\n",
    "features_valid = encoder.transform(features_valid)\n",
    "features_test = encoder.transform(features_test)\n",
    "\n",
    "\n",
    "print(features_train.shape, features_valid.shape, features_test.shape)\n",
    "print(target_train.shape, target_valid.shape, target_test.shape)\n"
   ]
  },
  {
   "cell_type": "markdown",
   "metadata": {},
   "source": [
    "### Вывод по шагу 1.\n",
    "\n",
    "Данные готовы к исследованию.\n",
    "\n",
    "Были удалены пропуски и признаки, не влияющие на работу модели. \n",
    "\n",
    "Данные были разбиты по принципу 60/20/20. Было проведено масштабирование численных признаков, OHE кодирование данных.\n",
    "\n",
    "Обучение пройдет на данных features_train, target_train. Валидация модели на данных features_valid, target_valid. Лучшая модель по валидации будет применена на данных features_test, target_test.\n"
   ]
  },
  {
   "cell_type": "markdown",
   "metadata": {},
   "source": [
    "## Исследование задачи"
   ]
  },
  {
   "cell_type": "code",
   "execution_count": 12,
   "metadata": {},
   "outputs": [
    {
     "data": {
      "text/plain": [
       "0    7963\n",
       "1    2037\n",
       "Name: Exited, dtype: int64"
      ]
     },
     "execution_count": 12,
     "metadata": {},
     "output_type": "execute_result"
    }
   ],
   "source": [
    "target.value_counts()"
   ]
  },
  {
   "cell_type": "markdown",
   "metadata": {},
   "source": [
    "Видим сильный дисбаланс классов, проверим работу трех моделей (дерево решений, случайный лес, логистическая регрессия) без его исправления."
   ]
  },
  {
   "cell_type": "markdown",
   "metadata": {},
   "source": [
    "### Настройка гиперпараметров моделей."
   ]
  },
  {
   "cell_type": "markdown",
   "metadata": {},
   "source": [
    "#### Дерево решений."
   ]
  },
  {
   "cell_type": "markdown",
   "metadata": {},
   "source": [
    "Настроим гиперпараметры."
   ]
  },
  {
   "cell_type": "code",
   "execution_count": 13,
   "metadata": {},
   "outputs": [
    {
     "name": "stdout",
     "output_type": "stream",
     "text": [
      "Лучшая глубина дерева: 98\n",
      "Лучшее значение F1-меры: 0.5544554455445545\n"
     ]
    }
   ],
   "source": [
    "best_depth = 0\n",
    "best_f1 = 0\n",
    "\n",
    "for depth in range(1,101):\n",
    "    model = DecisionTreeClassifier(random_state=12345, max_depth=depth)\n",
    "    model.fit(features_train, target_train)\n",
    "    predicted_valid = model.predict(features_valid)\n",
    "    f = f1_score(target_valid, predicted_valid)\n",
    "    if f > best_f1:\n",
    "        best_depth = depth\n",
    "        best_f1 = f\n",
    "\n",
    "print('Лучшая глубина дерева:', best_depth)\n",
    "print('Лучшее значение F1-меры:', best_f1)    "
   ]
  },
  {
   "cell_type": "code",
   "execution_count": 14,
   "metadata": {},
   "outputs": [
    {
     "name": "stdout",
     "output_type": "stream",
     "text": [
      "Лучшee значение параметра min_samples_split: 2\n",
      "Лучшее значение F1-меры: 0.5544554455445545\n"
     ]
    }
   ],
   "source": [
    "best_ss = 0\n",
    "best_f1 = 0\n",
    "\n",
    "for ss in range(2,101):\n",
    "    model = DecisionTreeClassifier(random_state=12345, max_depth=98, min_samples_split=ss)\n",
    "    model.fit(features_train, target_train)\n",
    "    predicted_valid = model.predict(features_valid)\n",
    "    f = f1_score(target_valid, predicted_valid)\n",
    "    if f > best_f1:\n",
    "        best_ss = ss\n",
    "        best_f1 = f\n",
    "\n",
    "print('Лучшee значение параметра min_samples_split:', best_ss)\n",
    "print('Лучшее значение F1-меры:', best_f1) "
   ]
  },
  {
   "cell_type": "code",
   "execution_count": 15,
   "metadata": {},
   "outputs": [
    {
     "name": "stdout",
     "output_type": "stream",
     "text": [
      "Лучшee значение параметра min_samples_leaf: 1\n",
      "Лучшее значение F1-меры: 0.5544554455445545\n"
     ]
    }
   ],
   "source": [
    "best_ll = 0\n",
    "best_f1 = 0\n",
    "\n",
    "for ll in range(1,101):\n",
    "    model = DecisionTreeClassifier(random_state=12345, max_depth=98, min_samples_split=2,min_samples_leaf=ll)\n",
    "    model.fit(features_train, target_train)\n",
    "    predicted_valid = model.predict(features_valid)\n",
    "    f = f1_score(target_valid, predicted_valid)\n",
    "    if f > best_f1:\n",
    "        best_ll = ll\n",
    "        best_f1 = f\n",
    "\n",
    "print('Лучшee значение параметра min_samples_leaf:', best_ll)\n",
    "print('Лучшее значение F1-меры:', best_f1) "
   ]
  },
  {
   "cell_type": "markdown",
   "metadata": {},
   "source": [
    "#### Случайный лес."
   ]
  },
  {
   "cell_type": "code",
   "execution_count": 16,
   "metadata": {},
   "outputs": [
    {
     "name": "stdout",
     "output_type": "stream",
     "text": [
      "Лучшее количество деревьев: 19\n",
      "Лучшее значение F1-меры: 0.4256880733944954\n"
     ]
    }
   ],
   "source": [
    "best_estim = 0\n",
    "best_f1 = 0\n",
    "\n",
    "for estim in range(1,101):\n",
    "    model = RandomForestClassifier(random_state=12345, n_estimators=estim)\n",
    "    model.fit(features_train, target_train)\n",
    "    predicted_valid = model.predict(features_valid)\n",
    "    f = f1_score(target_valid, predicted_valid)\n",
    "    \n",
    "    if f > best_f1:\n",
    "        best_estim = estim\n",
    "        best_f1 = f\n",
    "\n",
    "print('Лучшее количество деревьев:', best_estim)\n",
    "print('Лучшее значение F1-меры:', best_f1)   "
   ]
  },
  {
   "cell_type": "markdown",
   "metadata": {},
   "source": [
    "#### Логистическая регрессия."
   ]
  },
  {
   "cell_type": "code",
   "execution_count": 17,
   "metadata": {},
   "outputs": [
    {
     "name": "stdout",
     "output_type": "stream",
     "text": [
      "F1 0.5585585585585585\n"
     ]
    }
   ],
   "source": [
    "model =  LogisticRegression(random_state=12345, solver='liblinear')\n",
    "model.fit(features_train, target_train)\n",
    "predicted_valid = model.predict(features_valid)\n",
    "print('F1', f1_score(target_valid, predicted_valid))"
   ]
  },
  {
   "cell_type": "markdown",
   "metadata": {},
   "source": [
    "### Оценка качества моделей."
   ]
  },
  {
   "cell_type": "code",
   "execution_count": 18,
   "metadata": {},
   "outputs": [
    {
     "name": "stdout",
     "output_type": "stream",
     "text": [
      "Дерево решений\n",
      "Accuracy: 0.8425\n",
      "Precision: 0.6555183946488294\n",
      "Recall: 0.4803921568627451\n",
      "F1: 0.5544554455445545\n",
      "\n",
      "Случайный лес\n",
      "Accuracy: 0.8435\n",
      "Precision: 0.8467153284671532\n",
      "Recall: 0.28431372549019607\n",
      "F1: 0.4256880733944954\n",
      "\n",
      "Логистическая регрессия\n",
      "Accuracy: 0.853\n",
      "Precision: 0.7209302325581395\n",
      "Recall: 0.45588235294117646\n",
      "F1: 0.5585585585585585\n",
      "\n"
     ]
    }
   ],
   "source": [
    "model1 = DecisionTreeClassifier(random_state=12345, max_depth=98, min_samples_split=2,min_samples_leaf=1)\n",
    "model1.fit(features_train, target_train)\n",
    "predicted_valid1 = model1.predict(features_valid)\n",
    "print('Дерево решений')\n",
    "print('Accuracy:', accuracy_score(target_valid, predicted_valid1))\n",
    "print('Precision:', precision_score(target_valid, predicted_valid1))\n",
    "print('Recall:', recall_score(target_valid, predicted_valid1))\n",
    "print('F1:', f1_score(target_valid, predicted_valid1))\n",
    "print()\n",
    "\n",
    "model2 = RandomForestClassifier(random_state=12345, n_estimators=19)\n",
    "model2.fit(features_train, target_train)\n",
    "predicted_valid2 = model2.predict(features_valid)\n",
    "print('Случайный лес')\n",
    "print('Accuracy:', accuracy_score(target_valid, predicted_valid2))\n",
    "print('Precision:', precision_score(target_valid, predicted_valid2))\n",
    "print('Recall:', recall_score(target_valid, predicted_valid2))\n",
    "print('F1:', f1_score(target_valid, predicted_valid2))\n",
    "print()\n",
    "\n",
    "model3 = LogisticRegression(random_state=12345, solver='liblinear')\n",
    "model3.fit(features_train, target_train)\n",
    "predicted_valid3 = model3.predict(features_valid)\n",
    "print('Логистическая регрессия')\n",
    "print('Accuracy:', accuracy_score(target_valid, predicted_valid3))\n",
    "print('Precision:', precision_score(target_valid, predicted_valid3))\n",
    "print('Recall:', recall_score(target_valid, predicted_valid3))\n",
    "print('F1:', f1_score(target_valid, predicted_valid3))\n",
    "print()\n"
   ]
  },
  {
   "cell_type": "code",
   "execution_count": 19,
   "metadata": {},
   "outputs": [
    {
     "name": "stdout",
     "output_type": "stream",
     "text": [
      "AUC-ROC DecisionTreeClassifier 0.7031835033008178\n",
      "AUC-ROC RandomForestClassifier 0.8269841856340526\n",
      "AUC-ROC LogisticRegression 0.8572049894078234\n"
     ]
    },
    {
     "data": {
      "image/png": "[encoded data removed]",
      "text/plain": [
       "<Figure size 864x648 with 1 Axes>"
      ]
     },
     "metadata": {
      "needs_background": "light"
     },
     "output_type": "display_data"
    }
   ],
   "source": [
    "plt.figure(figsize=[12,9])\n",
    "\n",
    "plt.plot([0, 1], [0, 1], linestyle='--', label='RandomModel')\n",
    "\n",
    "\n",
    "\n",
    "probabilities_valid = model1.predict_proba(features_valid)\n",
    "probabilities_one_valid = probabilities_valid[:, 1]\n",
    "fpr, tpr, thresholds = roc_curve(target_valid, probabilities_one_valid)\n",
    "auc_roc = roc_auc_score(target_valid, probabilities_one_valid)\n",
    "print('AUC-ROC DecisionTreeClassifier',auc_roc)\n",
    "plt.plot(fpr, tpr, label='DecisionTreeClassifier')\n",
    "\n",
    "\n",
    "probabilities_valid = model2.predict_proba(features_valid)\n",
    "probabilities_one_valid = probabilities_valid[:, 1]\n",
    "fpr, tpr, thresholds = roc_curve(target_valid, probabilities_one_valid)\n",
    "auc_roc = roc_auc_score(target_valid, probabilities_one_valid)\n",
    "print('AUC-ROC RandomForestClassifier',auc_roc)\n",
    "plt.plot(fpr, tpr, label='RandomForestClassifier')\n",
    "\n",
    "\n",
    "probabilities_valid = model3.predict_proba(features_valid)\n",
    "probabilities_one_valid = probabilities_valid[:, 1]\n",
    "fpr, tpr, thresholds = roc_curve(target_valid, probabilities_one_valid)\n",
    "auc_roc = roc_auc_score(target_valid, probabilities_one_valid)\n",
    "print('AUC-ROC LogisticRegression',auc_roc)\n",
    "plt.plot(fpr, tpr, label='LogisticRegression')\n",
    "\n",
    "plt.xlim([0,1])\n",
    "plt.ylim([0,1])\n",
    "\n",
    "plt.xlabel(\"False Positive Rate\")\n",
    "plt.ylabel(\"True Positive Rate\")\n",
    "\n",
    "plt.legend(loc='lower right', fontsize='x-large')\n",
    "\n",
    "plt.title(\"ROC-кривая\")\n",
    "plt.show()"
   ]
  },
  {
   "cell_type": "markdown",
   "metadata": {},
   "source": [
    "### Вывод по шагу 2.\n",
    "\n",
    "В данных существует дисбаланс классов в отношении 1:4, из-за чего все модели имеют recall ниже, чем precision. Это влияет на F1-меру. На данном этапе лучшее качество по всем метрикам наблюдаем у модели логистической регрессии."
   ]
  },
  {
   "cell_type": "markdown",
   "metadata": {},
   "source": [
    "## Борьба с дисбалансом"
   ]
  },
  {
   "cell_type": "markdown",
   "metadata": {},
   "source": [
    "Сравним работу моделей после устранения дисбаланса тремя методами:\n",
    "- взвешиванием классов,\n",
    "- уменьшением выборки,\n",
    "- увеличением выборки."
   ]
  },
  {
   "cell_type": "markdown",
   "metadata": {},
   "source": [
    "### Взвешивание классов."
   ]
  },
  {
   "cell_type": "code",
   "execution_count": 20,
   "metadata": {
    "scrolled": true
   },
   "outputs": [
    {
     "name": "stdout",
     "output_type": "stream",
     "text": [
      "Дерево решений\n",
      "Accuracy: 0.814\n",
      "Precision: 0.5454545454545454\n",
      "Recall: 0.5294117647058824\n",
      "F1: 0.5373134328358209\n",
      "\n",
      "Случайный лес\n",
      "Accuracy: 0.847\n",
      "Precision: 0.7451923076923077\n",
      "Recall: 0.3799019607843137\n",
      "F1: 0.5032467532467533\n",
      "\n",
      "Логистическая регрессия\n",
      "Accuracy: 0.832\n",
      "Precision: 0.5786026200873362\n",
      "Recall: 0.6495098039215687\n",
      "F1: 0.6120092378752887\n",
      "\n"
     ]
    }
   ],
   "source": [
    "model1 = DecisionTreeClassifier(random_state=12345, max_depth=98, min_samples_split=2,min_samples_leaf=1, class_weight='balanced')\n",
    "model1.fit(features_train, target_train)\n",
    "predicted_valid1 = model1.predict(features_valid)\n",
    "print('Дерево решений')\n",
    "print('Accuracy:', accuracy_score(target_valid, predicted_valid1))\n",
    "print('Precision:', precision_score(target_valid, predicted_valid1))\n",
    "print('Recall:', recall_score(target_valid, predicted_valid1))\n",
    "print('F1:', f1_score(target_valid, predicted_valid1))\n",
    "print()\n",
    "\n",
    "model2 = RandomForestClassifier(random_state=12345, n_estimators=19, class_weight='balanced')\n",
    "model2.fit(features_train, target_train)\n",
    "predicted_valid2 = model2.predict(features_valid)\n",
    "print('Случайный лес')\n",
    "print('Accuracy:', accuracy_score(target_valid, predicted_valid2))\n",
    "print('Precision:', precision_score(target_valid, predicted_valid2))\n",
    "print('Recall:', recall_score(target_valid, predicted_valid2))\n",
    "print('F1:', f1_score(target_valid, predicted_valid2))\n",
    "print()\n",
    "\n",
    "model3 = LogisticRegression(random_state=12345, solver='liblinear', class_weight='balanced')\n",
    "model3.fit(features_train, target_train)\n",
    "predicted_valid3 = model3.predict(features_valid)\n",
    "print('Логистическая регрессия')\n",
    "print('Accuracy:', accuracy_score(target_valid, predicted_valid3))\n",
    "print('Precision:', precision_score(target_valid, predicted_valid3))\n",
    "print('Recall:', recall_score(target_valid, predicted_valid3))\n",
    "print('F1:', f1_score(target_valid, predicted_valid3))\n",
    "print()"
   ]
  },
  {
   "cell_type": "markdown",
   "metadata": {},
   "source": [
    "F-мера упала у дерева решений, выросла у случайного леса и логистической регресии."
   ]
  },
  {
   "cell_type": "markdown",
   "metadata": {},
   "source": [
    "### Уменьшение выборки."
   ]
  },
  {
   "cell_type": "code",
   "execution_count": 21,
   "metadata": {},
   "outputs": [
    {
     "name": "stdout",
     "output_type": "stream",
     "text": [
      "0    1222\n",
      "1    1222\n",
      "Name: Exited, dtype: int64\n"
     ]
    }
   ],
   "source": [
    "rus = RandomUnderSampler()\n",
    "features_downsampled, target_downsampled = rus.fit_sample(features_train, target_train)\n",
    "print(target_downsampled.value_counts())"
   ]
  },
  {
   "cell_type": "code",
   "execution_count": 22,
   "metadata": {},
   "outputs": [
    {
     "name": "stdout",
     "output_type": "stream",
     "text": [
      "Дерево решений\n",
      "Accuracy: 0.733\n",
      "Precision: 0.4136986301369863\n",
      "Recall: 0.7401960784313726\n",
      "F1: 0.530755711775044\n",
      "\n",
      "Случайный лес\n",
      "Accuracy: 0.7575\n",
      "Precision: 0.4444444444444444\n",
      "Recall: 0.7549019607843137\n",
      "F1: 0.5594913714804722\n",
      "\n",
      "Логистическая регрессия\n",
      "Accuracy: 0.773\n",
      "Precision: 0.4666666666666667\n",
      "Recall: 0.7892156862745098\n",
      "F1: 0.5865209471766848\n",
      "\n"
     ]
    }
   ],
   "source": [
    "model1 = DecisionTreeClassifier(random_state=12345, max_depth=98, min_samples_split=2,min_samples_leaf=1)\n",
    "model1.fit(features_downsampled, target_downsampled)\n",
    "predicted_valid1 = model1.predict(features_valid)\n",
    "print('Дерево решений')\n",
    "print('Accuracy:', accuracy_score(target_valid, predicted_valid1))\n",
    "print('Precision:', precision_score(target_valid, predicted_valid1))\n",
    "print('Recall:', recall_score(target_valid, predicted_valid1))\n",
    "print('F1:', f1_score(target_valid, predicted_valid1))\n",
    "print()\n",
    "\n",
    "model2 = RandomForestClassifier(random_state=12345, n_estimators=19)\n",
    "model2.fit(features_downsampled, target_downsampled)\n",
    "predicted_valid2 = model2.predict(features_valid)\n",
    "print('Случайный лес')\n",
    "print('Accuracy:', accuracy_score(target_valid, predicted_valid2))\n",
    "print('Precision:', precision_score(target_valid, predicted_valid2))\n",
    "print('Recall:', recall_score(target_valid, predicted_valid2))\n",
    "print('F1:', f1_score(target_valid, predicted_valid2))\n",
    "print()\n",
    "\n",
    "model3 = LogisticRegression(random_state=12345, solver='liblinear')\n",
    "model3.fit(features_downsampled, target_downsampled)\n",
    "predicted_valid3 = model3.predict(features_valid)\n",
    "print('Логистическая регрессия')\n",
    "print('Accuracy:', accuracy_score(target_valid, predicted_valid3))\n",
    "print('Precision:', precision_score(target_valid, predicted_valid3))\n",
    "print('Recall:', recall_score(target_valid, predicted_valid3))\n",
    "print('F1:', f1_score(target_valid, predicted_valid3))\n",
    "print()"
   ]
  },
  {
   "cell_type": "markdown",
   "metadata": {},
   "source": [
    "По сравнению с предыдущим методом f1-мера случайного леса выросла, у других моделей упала. "
   ]
  },
  {
   "cell_type": "markdown",
   "metadata": {},
   "source": [
    "### Увеличение выборки."
   ]
  },
  {
   "cell_type": "code",
   "execution_count": 23,
   "metadata": {},
   "outputs": [
    {
     "name": "stdout",
     "output_type": "stream",
     "text": [
      "0    4778\n",
      "1    4778\n",
      "Name: Exited, dtype: int64\n"
     ]
    }
   ],
   "source": [
    "sm = SMOTE(random_state=12345)\n",
    "features_upsampled, target_upsampled = sm.fit_resample(features_train, target_train)\n",
    "\n",
    "print(target_upsampled.value_counts())"
   ]
  },
  {
   "cell_type": "code",
   "execution_count": 24,
   "metadata": {},
   "outputs": [
    {
     "name": "stdout",
     "output_type": "stream",
     "text": [
      "Дерево решений\n",
      "Accuracy: 0.8415\n",
      "Precision: 0.645367412140575\n",
      "Recall: 0.4950980392156863\n",
      "F1: 0.5603328710124826\n",
      "\n",
      "Случайный лес\n",
      "Accuracy: 0.851\n",
      "Precision: 0.7669902912621359\n",
      "Recall: 0.3872549019607843\n",
      "F1: 0.5146579804560261\n",
      "\n",
      "Логистическая регрессия\n",
      "Accuracy: 0.8375\n",
      "Precision: 0.5967365967365967\n",
      "Recall: 0.6274509803921569\n",
      "F1: 0.6117084826762246\n",
      "\n"
     ]
    }
   ],
   "source": [
    "model1 = DecisionTreeClassifier(random_state=12345, max_depth=98, min_samples_split=2,min_samples_leaf=1)\n",
    "model1.fit(features_upsampled, target_upsampled)\n",
    "predicted_valid1 = model1.predict(features_valid)\n",
    "print('Дерево решений')\n",
    "print('Accuracy:', accuracy_score(target_valid, predicted_valid1))\n",
    "print('Precision:', precision_score(target_valid, predicted_valid1))\n",
    "print('Recall:', recall_score(target_valid, predicted_valid1))\n",
    "print('F1:', f1_score(target_valid, predicted_valid1))\n",
    "print()\n",
    "\n",
    "model2 = RandomForestClassifier(random_state=12345, n_estimators=19)\n",
    "model2.fit(features_upsampled, target_upsampled)\n",
    "predicted_valid2 = model2.predict(features_valid)\n",
    "print('Случайный лес')\n",
    "print('Accuracy:', accuracy_score(target_valid, predicted_valid2))\n",
    "print('Precision:', precision_score(target_valid, predicted_valid2))\n",
    "print('Recall:', recall_score(target_valid, predicted_valid2))\n",
    "print('F1:', f1_score(target_valid, predicted_valid2))\n",
    "print()\n",
    "\n",
    "model3 = LogisticRegression(random_state=12345, solver='liblinear')\n",
    "model3.fit(features_upsampled, target_upsampled)\n",
    "predicted_valid3 = model3.predict(features_valid)\n",
    "print('Логистическая регрессия')\n",
    "print('Accuracy:', accuracy_score(target_valid, predicted_valid3))\n",
    "print('Precision:', precision_score(target_valid, predicted_valid3))\n",
    "print('Recall:', recall_score(target_valid, predicted_valid3))\n",
    "print('F1:', f1_score(target_valid, predicted_valid3))\n",
    "print()"
   ]
  },
  {
   "cell_type": "markdown",
   "metadata": {},
   "source": [
    "Значение F1-меры случайного леса 0.622 - пока лучшее из полученных результатов.\n",
    "Построим ROC-кривую."
   ]
  },
  {
   "cell_type": "code",
   "execution_count": 25,
   "metadata": {},
   "outputs": [
    {
     "name": "stdout",
     "output_type": "stream",
     "text": [
      "AUC-ROC LogisticRegression 0.856641510247315\n"
     ]
    },
    {
     "data": {
      "image/png": "[encoded data removed]",
      "text/plain": [
       "<Figure size 864x648 with 1 Axes>"
      ]
     },
     "metadata": {
      "needs_background": "light"
     },
     "output_type": "display_data"
    }
   ],
   "source": [
    "plt.figure(figsize=[12,9])\n",
    "\n",
    "plt.plot([0, 1], [0, 1], linestyle='--', label='RandomModel')\n",
    "\n",
    "model = LogisticRegression(random_state=12345, solver='liblinear', class_weight='balanced')\n",
    "model.fit(features_train, target_train)\n",
    "predicted_valid = model.predict(features_valid)\n",
    "probabilities_valid = model.predict_proba(features_valid)\n",
    "probabilities_one_valid = probabilities_valid[:, 1]\n",
    "fpr, tpr, thresholds = roc_curve(target_valid, probabilities_one_valid)\n",
    "auc_roc = roc_auc_score(target_valid, probabilities_one_valid)\n",
    "print('AUC-ROC LogisticRegression',auc_roc)\n",
    "plt.plot(fpr, tpr, label='LogisticRegression')\n",
    "plt.xlim([0,1])\n",
    "plt.ylim([0,1])\n",
    "\n",
    "plt.xlabel(\"False Positive Rate\")\n",
    "plt.ylabel(\"True Positive Rate\")\n",
    "\n",
    "plt.legend(loc='lower right', fontsize='x-large')\n",
    "\n",
    "plt.title(\"ROC-кривая\")\n",
    "plt.show()"
   ]
  },
  {
   "cell_type": "markdown",
   "metadata": {},
   "source": [
    "Получили неплохое значение метрики roc-auc."
   ]
  },
  {
   "cell_type": "markdown",
   "metadata": {},
   "source": [
    "### Вывод по шагу 3.\n",
    "Удалось повысить значение F1-меры с 0.559 до 0.611 методом взвешивания классов. Лучший результат по-прежнему показывает модель логистической регрессии."
   ]
  },
  {
   "cell_type": "markdown",
   "metadata": {},
   "source": [
    "## Тестирование модели"
   ]
  },
  {
   "cell_type": "markdown",
   "metadata": {},
   "source": [
    "Оценим работу модели случайного леса на тестовой выборке без и с исправлением дисбаланса."
   ]
  },
  {
   "cell_type": "code",
   "execution_count": 26,
   "metadata": {},
   "outputs": [
    {
     "name": "stdout",
     "output_type": "stream",
     "text": [
      "Логистическая регрессия - дисбаланс классов\n",
      "Accuracy: 0.8495\n",
      "Precision: 0.7264957264957265\n",
      "Recall: 0.4176904176904177\n",
      "F1: 0.5304212168486738\n",
      "\n",
      "Логистическая регрессия - взвешенные классы\n",
      "Accuracy: 0.821\n",
      "Precision: 0.5536105032822757\n",
      "Recall: 0.6216216216216216\n",
      "F1: 0.5856481481481481\n",
      "\n",
      "Логистическая регрессия - уменьшенное количество классов 0\n",
      "Accuracy: 0.753\n",
      "Precision: 0.43812233285917496\n",
      "Recall: 0.7567567567567568\n",
      "F1: 0.554954954954955\n",
      "\n",
      "Логистическая регрессия - увеличенное количество классов 1\n",
      "Accuracy: 0.829\n",
      "Precision: 0.5779376498800959\n",
      "Recall: 0.5921375921375921\n",
      "F1: 0.5849514563106796\n",
      "\n"
     ]
    }
   ],
   "source": [
    "model =  LogisticRegression(random_state=12345, solver='liblinear')\n",
    "model.fit(features_train, target_train)\n",
    "predicted_test = model.predict(features_test)\n",
    "print('Логистическая регрессия - дисбаланс классов')\n",
    "print('Accuracy:', accuracy_score(target_test, predicted_test))\n",
    "print('Precision:', precision_score(target_test, predicted_test))\n",
    "print('Recall:', recall_score(target_test, predicted_test))\n",
    "print('F1:', f1_score(target_test, predicted_test))\n",
    "print()\n",
    "\n",
    "model = LogisticRegression(random_state=12345, solver='liblinear', class_weight='balanced')\n",
    "model.fit(features_train, target_train)\n",
    "predicted_test = model.predict(features_test)\n",
    "print('Логистическая регрессия - взвешенные классы')\n",
    "print('Accuracy:', accuracy_score(target_test, predicted_test))\n",
    "print('Precision:', precision_score(target_test, predicted_test))\n",
    "print('Recall:', recall_score(target_test, predicted_test))\n",
    "print('F1:', f1_score(target_test, predicted_test))\n",
    "print()\n",
    "\n",
    "model = LogisticRegression(random_state=12345, solver='liblinear')\n",
    "model.fit(features_downsampled, target_downsampled)\n",
    "predicted_test = model.predict(features_test)\n",
    "print('Логистическая регрессия - уменьшенное количество классов 0')\n",
    "print('Accuracy:', accuracy_score(target_test, predicted_test))\n",
    "print('Precision:', precision_score(target_test, predicted_test))\n",
    "print('Recall:', recall_score(target_test, predicted_test))\n",
    "print('F1:', f1_score(target_test, predicted_test))\n",
    "print()\n",
    "\n",
    "model = LogisticRegression(random_state=12345, solver='liblinear')\n",
    "model.fit(features_upsampled, target_upsampled)\n",
    "predicted_test = model.predict(features_test)\n",
    "print('Логистическая регрессия - увеличенное количество классов 1')\n",
    "print('Accuracy:', accuracy_score(target_test, predicted_test))\n",
    "print('Precision:', precision_score(target_test, predicted_test))\n",
    "print('Recall:', recall_score(target_test, predicted_test))\n",
    "print('F1:', f1_score(target_test, predicted_test))\n",
    "print()"
   ]
  },
  {
   "cell_type": "markdown",
   "metadata": {},
   "source": [
    "Лучший результат 0.599 - при увеличении выборки. Порог пройден, попробуем улучшить значение, настроив гиперпараметры при обучении модели с равным количеством классов."
   ]
  },
  {
   "cell_type": "code",
   "execution_count": 27,
   "metadata": {},
   "outputs": [
    {
     "name": "stdout",
     "output_type": "stream",
     "text": [
      "LogisticRegression - disbalanced 0.8451255569899637\n",
      "AUC-ROC LogisticRegression - balanced 0.8437019453968606\n"
     ]
    },
    {
     "data": {
      "image/png": "[encoded data removed]",
      "text/plain": [
       "<Figure size 864x648 with 1 Axes>"
      ]
     },
     "metadata": {
      "needs_background": "light"
     },
     "output_type": "display_data"
    }
   ],
   "source": [
    "plt.figure(figsize=[12,9])\n",
    "\n",
    "plt.plot([0, 1], [0, 1], linestyle='--', label='RandomModel')\n",
    "\n",
    "model =  LogisticRegression(random_state=12345, solver='liblinear')\n",
    "model.fit(features_train, target_train)\n",
    "predicted_test = model.predict(features_test)\n",
    "probabilities_test = model.predict_proba(features_test)\n",
    "probabilities_one_test = probabilities_test[:, 1]\n",
    "fpr, tpr, thresholds = roc_curve(target_test, probabilities_one_test)\n",
    "auc_roc = roc_auc_score(target_test, probabilities_one_test)\n",
    "print('LogisticRegression - disbalanced',auc_roc)\n",
    "plt.plot(fpr, tpr, label='LogisticRegression - disbalanced')\n",
    "\n",
    "\n",
    "model = LogisticRegression(random_state=12345, solver='liblinear', class_weight='balanced')\n",
    "model.fit(features_train, target_train)\n",
    "predicted_test = model.predict(features_test)\n",
    "probabilities_test = model.predict_proba(features_test)\n",
    "probabilities_one_test = probabilities_test[:, 1]\n",
    "fpr, tpr, thresholds = roc_curve(target_test, probabilities_one_test)\n",
    "auc_roc = roc_auc_score(target_test, probabilities_one_test)\n",
    "print('AUC-ROC LogisticRegression - balanced',auc_roc)\n",
    "plt.plot(fpr, tpr, label='LogisticRegression - balanced')\n",
    "\n",
    "plt.xlim([0,1])\n",
    "plt.ylim([0,1])\n",
    "\n",
    "plt.xlabel(\"False Positive Rate\")\n",
    "plt.ylabel(\"True Positive Rate\")\n",
    "\n",
    "plt.legend(loc='lower right', fontsize='x-large')\n",
    "\n",
    "plt.title(\"ROC-кривая\")\n",
    "plt.show()"
   ]
  },
  {
   "cell_type": "markdown",
   "metadata": {},
   "source": [
    "### Вывод по шагу 4.\n",
    "\n",
    "Оценивая адеватность модели можно заметить, что по метрике AUC-ROC модель примерно одинаково хорошо предсказывает вероятность ухода клиента до и после борьбы с дисбалансом.\n",
    "\n",
    "\n",
    "В результате исследования была получена модель с лучшими показателями как по F1-мере, так и по AUC-ROC - логистическая регрессия со взвешенными классами."
   ]
  },
  {
   "cell_type": "markdown",
   "metadata": {},
   "source": [
    "## Общий вывод.\n",
    "\n",
    "В ходе исследования качество трех выбранных моделей было оценено на данных без изменений и после корректировки балланса классов. \n",
    "\n",
    "Получена улученная модель. Обученная модель случайного леса со взвешенными классами адекватна, что подтверждается ее значением AUC-ROC 0.839. Точность попадания по классам = 0.853, precision = 0.673, recall = 0.544 и целевая для исследования метрика f1 = 0.602. "
   ]
  },
  {
   "cell_type": "markdown",
   "metadata": {},
   "source": [
    "<div class=\"alert alert-info\"> upd.\n",
    "\n",
    "- AUC-ROC: 0.84\n",
    "- Accuracy: 0.82\n",
    "- Precision: 0.55\n",
    "- Recall: 0.62\n",
    "- F1: 0.59 </div>"
   ]
  },
  {
   "cell_type": "code",
   "execution_count": null,
   "metadata": {},
   "outputs": [],
   "source": []
  },
  {
   "cell_type": "code",
   "execution_count": null,
   "metadata": {},
   "outputs": [],
   "source": []
  }
 ],
 "metadata": {
  "ExecuteTimeLog": [
   {
    "duration": 1472,
    "start_time": "2023-02-04T23:13:14.677Z"
   },
   {
    "duration": 183,
    "start_time": "2023-02-04T23:13:18.442Z"
   },
   {
    "duration": 16,
    "start_time": "2023-02-04T23:15:14.645Z"
   },
   {
    "duration": 12,
    "start_time": "2023-02-04T23:18:12.008Z"
   },
   {
    "duration": 27,
    "start_time": "2023-02-04T23:22:50.426Z"
   },
   {
    "duration": 7,
    "start_time": "2023-02-04T23:23:12.118Z"
   },
   {
    "duration": 23,
    "start_time": "2023-02-04T23:23:24.988Z"
   },
   {
    "duration": 6,
    "start_time": "2023-02-04T23:24:22.624Z"
   },
   {
    "duration": 7,
    "start_time": "2023-02-04T23:24:49.512Z"
   },
   {
    "duration": 22,
    "start_time": "2023-02-04T23:25:18.880Z"
   },
   {
    "duration": 9,
    "start_time": "2023-02-04T23:25:43.614Z"
   },
   {
    "duration": 8,
    "start_time": "2023-02-04T23:26:04.497Z"
   },
   {
    "duration": 11,
    "start_time": "2023-02-04T23:26:37.951Z"
   },
   {
    "duration": 5,
    "start_time": "2023-02-04T23:26:53.855Z"
   },
   {
    "duration": 20,
    "start_time": "2023-02-04T23:27:23.290Z"
   },
   {
    "duration": 9,
    "start_time": "2023-02-04T23:31:00.953Z"
   },
   {
    "duration": 12,
    "start_time": "2023-02-04T23:31:11.791Z"
   },
   {
    "duration": 6,
    "start_time": "2023-02-04T23:32:11.381Z"
   },
   {
    "duration": 3,
    "start_time": "2023-02-04T23:35:43.888Z"
   },
   {
    "duration": 13,
    "start_time": "2023-02-04T23:35:44.754Z"
   },
   {
    "duration": 5,
    "start_time": "2023-02-04T23:35:50.992Z"
   },
   {
    "duration": 6,
    "start_time": "2023-02-04T23:36:10.209Z"
   },
   {
    "duration": 6,
    "start_time": "2023-02-04T23:36:32.955Z"
   },
   {
    "duration": 7,
    "start_time": "2023-02-04T23:37:40.114Z"
   },
   {
    "duration": 19,
    "start_time": "2023-02-04T23:38:21.825Z"
   },
   {
    "duration": 19,
    "start_time": "2023-02-04T23:38:53.721Z"
   },
   {
    "duration": 16,
    "start_time": "2023-02-04T23:40:52.494Z"
   },
   {
    "duration": 135,
    "start_time": "2023-02-04T23:42:09.536Z"
   },
   {
    "duration": 25,
    "start_time": "2023-02-04T23:43:55.740Z"
   },
   {
    "duration": 22,
    "start_time": "2023-02-04T23:44:10.880Z"
   },
   {
    "duration": 14,
    "start_time": "2023-02-04T23:44:59.390Z"
   },
   {
    "duration": 6,
    "start_time": "2023-02-04T23:45:45.098Z"
   },
   {
    "duration": 118,
    "start_time": "2023-02-04T23:48:25.191Z"
   },
   {
    "duration": 4,
    "start_time": "2023-02-04T23:52:26.674Z"
   },
   {
    "duration": 1462,
    "start_time": "2023-02-04T23:55:13.604Z"
   },
   {
    "duration": 57,
    "start_time": "2023-02-04T23:55:15.068Z"
   },
   {
    "duration": 24,
    "start_time": "2023-02-04T23:55:15.127Z"
   },
   {
    "duration": 65,
    "start_time": "2023-02-04T23:55:15.153Z"
   },
   {
    "duration": 55,
    "start_time": "2023-02-04T23:55:15.220Z"
   },
   {
    "duration": 16,
    "start_time": "2023-02-04T23:55:15.277Z"
   },
   {
    "duration": 20,
    "start_time": "2023-02-04T23:55:15.295Z"
   },
   {
    "duration": 18,
    "start_time": "2023-02-04T23:55:15.317Z"
   },
   {
    "duration": 18,
    "start_time": "2023-02-04T23:55:15.337Z"
   },
   {
    "duration": 8,
    "start_time": "2023-02-04T23:55:15.358Z"
   },
   {
    "duration": 157,
    "start_time": "2023-02-04T23:55:15.368Z"
   },
   {
    "duration": 0,
    "start_time": "2023-02-04T23:55:15.527Z"
   },
   {
    "duration": 0,
    "start_time": "2023-02-04T23:55:15.528Z"
   },
   {
    "duration": 0,
    "start_time": "2023-02-04T23:55:15.529Z"
   },
   {
    "duration": 0,
    "start_time": "2023-02-04T23:55:15.530Z"
   },
   {
    "duration": 32,
    "start_time": "2023-02-04T23:55:32.339Z"
   },
   {
    "duration": 24,
    "start_time": "2023-02-04T23:55:48.840Z"
   },
   {
    "duration": 1439,
    "start_time": "2023-02-04T23:59:07.349Z"
   },
   {
    "duration": 55,
    "start_time": "2023-02-04T23:59:08.791Z"
   },
   {
    "duration": 23,
    "start_time": "2023-02-04T23:59:08.848Z"
   },
   {
    "duration": 18,
    "start_time": "2023-02-04T23:59:08.873Z"
   },
   {
    "duration": 48,
    "start_time": "2023-02-04T23:59:08.893Z"
   },
   {
    "duration": 5,
    "start_time": "2023-02-04T23:59:08.943Z"
   },
   {
    "duration": 31,
    "start_time": "2023-02-04T23:59:08.950Z"
   },
   {
    "duration": 6,
    "start_time": "2023-02-04T23:59:08.983Z"
   },
   {
    "duration": 22,
    "start_time": "2023-02-04T23:59:08.991Z"
   },
   {
    "duration": 12,
    "start_time": "2023-02-04T23:59:09.015Z"
   },
   {
    "duration": 18,
    "start_time": "2023-02-04T23:59:09.037Z"
   },
   {
    "duration": 20,
    "start_time": "2023-02-04T23:59:09.057Z"
   },
   {
    "duration": 17,
    "start_time": "2023-02-04T23:59:09.079Z"
   },
   {
    "duration": 5,
    "start_time": "2023-02-04T23:59:09.099Z"
   },
   {
    "duration": 241,
    "start_time": "2023-02-04T23:59:09.106Z"
   },
   {
    "duration": 15,
    "start_time": "2023-02-05T00:03:39.184Z"
   },
   {
    "duration": 7,
    "start_time": "2023-02-05T00:03:42.635Z"
   },
   {
    "duration": 752,
    "start_time": "2023-02-05T00:03:45.895Z"
   },
   {
    "duration": 2913,
    "start_time": "2023-02-05T00:06:02.418Z"
   },
   {
    "duration": 75,
    "start_time": "2023-02-05T00:09:20.914Z"
   },
   {
    "duration": 1846,
    "start_time": "2023-02-05T00:09:26.762Z"
   },
   {
    "duration": 1862,
    "start_time": "2023-02-05T00:11:26.595Z"
   },
   {
    "duration": 36100,
    "start_time": "2023-02-05T00:18:40.004Z"
   },
   {
    "duration": 97,
    "start_time": "2023-02-05T00:25:34.156Z"
   },
   {
    "duration": 357,
    "start_time": "2023-02-05T00:31:28.398Z"
   },
   {
    "duration": 408,
    "start_time": "2023-02-05T00:37:39.516Z"
   },
   {
    "duration": 377,
    "start_time": "2023-02-05T00:42:16.261Z"
   },
   {
    "duration": 16,
    "start_time": "2023-02-05T00:46:27.986Z"
   },
   {
    "duration": 14,
    "start_time": "2023-02-05T00:46:45.713Z"
   },
   {
    "duration": 267,
    "start_time": "2023-02-05T00:50:22.795Z"
   },
   {
    "duration": 15,
    "start_time": "2023-02-05T00:52:01.452Z"
   },
   {
    "duration": 17,
    "start_time": "2023-02-05T00:52:07.534Z"
   },
   {
    "duration": 14,
    "start_time": "2023-02-05T00:52:13.098Z"
   },
   {
    "duration": 17,
    "start_time": "2023-02-05T00:52:28.052Z"
   },
   {
    "duration": 226,
    "start_time": "2023-02-05T00:52:32.920Z"
   },
   {
    "duration": 458,
    "start_time": "2023-02-05T00:53:32.187Z"
   },
   {
    "duration": 165,
    "start_time": "2023-02-05T01:00:05.950Z"
   },
   {
    "duration": 214,
    "start_time": "2023-02-05T01:00:54.405Z"
   },
   {
    "duration": 47131,
    "start_time": "2023-02-05T01:06:11.094Z"
   },
   {
    "duration": 1028,
    "start_time": "2023-02-05T01:09:56.558Z"
   },
   {
    "duration": 942,
    "start_time": "2023-02-05T01:14:10.168Z"
   },
   {
    "duration": 1374,
    "start_time": "2023-02-05T01:14:44.321Z"
   },
   {
    "duration": 54,
    "start_time": "2023-02-05T01:14:45.697Z"
   },
   {
    "duration": 17,
    "start_time": "2023-02-05T01:14:45.753Z"
   },
   {
    "duration": 13,
    "start_time": "2023-02-05T01:14:45.773Z"
   },
   {
    "duration": 51,
    "start_time": "2023-02-05T01:14:45.788Z"
   },
   {
    "duration": 6,
    "start_time": "2023-02-05T01:14:45.841Z"
   },
   {
    "duration": 12,
    "start_time": "2023-02-05T01:14:45.849Z"
   },
   {
    "duration": 5,
    "start_time": "2023-02-05T01:14:45.863Z"
   },
   {
    "duration": 25,
    "start_time": "2023-02-05T01:14:45.870Z"
   },
   {
    "duration": 8,
    "start_time": "2023-02-05T01:14:45.899Z"
   },
   {
    "duration": 56,
    "start_time": "2023-02-05T01:14:45.909Z"
   },
   {
    "duration": 24,
    "start_time": "2023-02-05T01:14:45.968Z"
   },
   {
    "duration": 44,
    "start_time": "2023-02-05T01:14:45.994Z"
   },
   {
    "duration": 7,
    "start_time": "2023-02-05T01:14:46.040Z"
   },
   {
    "duration": 2853,
    "start_time": "2023-02-05T01:14:46.049Z"
   },
   {
    "duration": 1901,
    "start_time": "2023-02-05T01:14:48.903Z"
   },
   {
    "duration": 1814,
    "start_time": "2023-02-05T01:14:50.806Z"
   },
   {
    "duration": 34149,
    "start_time": "2023-02-05T01:14:52.622Z"
   },
   {
    "duration": 68,
    "start_time": "2023-02-05T01:15:26.773Z"
   },
   {
    "duration": 404,
    "start_time": "2023-02-05T01:15:26.843Z"
   },
   {
    "duration": 566,
    "start_time": "2023-02-05T01:15:27.252Z"
   },
   {
    "duration": 419,
    "start_time": "2023-02-05T01:15:27.820Z"
   },
   {
    "duration": 12,
    "start_time": "2023-02-05T01:15:28.241Z"
   },
   {
    "duration": 190,
    "start_time": "2023-02-05T01:15:28.255Z"
   },
   {
    "duration": 104,
    "start_time": "2023-02-05T01:15:28.448Z"
   },
   {
    "duration": 485,
    "start_time": "2023-02-05T01:15:28.554Z"
   },
   {
    "duration": 270,
    "start_time": "2023-02-05T01:15:29.041Z"
   },
   {
    "duration": 852,
    "start_time": "2023-02-05T01:15:29.315Z"
   },
   {
    "duration": 45292,
    "start_time": "2023-02-05T01:19:23.219Z"
   },
   {
    "duration": 45296,
    "start_time": "2023-02-05T01:21:57.219Z"
   },
   {
    "duration": 45237,
    "start_time": "2023-02-05T01:22:49.407Z"
   },
   {
    "duration": 828,
    "start_time": "2023-02-05T01:24:04.692Z"
   },
   {
    "duration": 11,
    "start_time": "2023-02-05T01:36:27.236Z"
   },
   {
    "duration": 12,
    "start_time": "2023-02-05T01:36:40.425Z"
   },
   {
    "duration": 1119,
    "start_time": "2023-02-05T01:37:31.076Z"
   },
   {
    "duration": 0,
    "start_time": "2023-02-05T01:37:32.199Z"
   },
   {
    "duration": 0,
    "start_time": "2023-02-05T01:37:32.200Z"
   },
   {
    "duration": 0,
    "start_time": "2023-02-05T01:37:32.201Z"
   },
   {
    "duration": 0,
    "start_time": "2023-02-05T01:37:32.202Z"
   },
   {
    "duration": 0,
    "start_time": "2023-02-05T01:37:32.203Z"
   },
   {
    "duration": 1,
    "start_time": "2023-02-05T01:37:32.203Z"
   },
   {
    "duration": 0,
    "start_time": "2023-02-05T01:37:32.204Z"
   },
   {
    "duration": 0,
    "start_time": "2023-02-05T01:37:32.205Z"
   },
   {
    "duration": 0,
    "start_time": "2023-02-05T01:37:32.206Z"
   },
   {
    "duration": 0,
    "start_time": "2023-02-05T01:37:32.207Z"
   },
   {
    "duration": 0,
    "start_time": "2023-02-05T01:37:32.208Z"
   },
   {
    "duration": 0,
    "start_time": "2023-02-05T01:37:32.209Z"
   },
   {
    "duration": 0,
    "start_time": "2023-02-05T01:37:32.210Z"
   },
   {
    "duration": 0,
    "start_time": "2023-02-05T01:37:32.211Z"
   },
   {
    "duration": 0,
    "start_time": "2023-02-05T01:37:32.212Z"
   },
   {
    "duration": 0,
    "start_time": "2023-02-05T01:37:32.213Z"
   },
   {
    "duration": 0,
    "start_time": "2023-02-05T01:37:32.214Z"
   },
   {
    "duration": 0,
    "start_time": "2023-02-05T01:37:32.215Z"
   },
   {
    "duration": 0,
    "start_time": "2023-02-05T01:37:32.216Z"
   },
   {
    "duration": 0,
    "start_time": "2023-02-05T01:37:32.217Z"
   },
   {
    "duration": 0,
    "start_time": "2023-02-05T01:37:32.218Z"
   },
   {
    "duration": 0,
    "start_time": "2023-02-05T01:37:32.219Z"
   },
   {
    "duration": 0,
    "start_time": "2023-02-05T01:37:32.220Z"
   },
   {
    "duration": 0,
    "start_time": "2023-02-05T01:37:32.221Z"
   },
   {
    "duration": 0,
    "start_time": "2023-02-05T01:37:32.222Z"
   },
   {
    "duration": 0,
    "start_time": "2023-02-05T01:37:32.223Z"
   },
   {
    "duration": 0,
    "start_time": "2023-02-05T01:37:32.224Z"
   },
   {
    "duration": 0,
    "start_time": "2023-02-05T01:37:32.225Z"
   },
   {
    "duration": 0,
    "start_time": "2023-02-05T01:37:32.226Z"
   },
   {
    "duration": 0,
    "start_time": "2023-02-05T01:37:32.227Z"
   },
   {
    "duration": 0,
    "start_time": "2023-02-05T01:37:32.228Z"
   },
   {
    "duration": 469,
    "start_time": "2023-02-05T01:37:59.883Z"
   },
   {
    "duration": 1552,
    "start_time": "2023-02-05T01:38:22.029Z"
   },
   {
    "duration": 44,
    "start_time": "2023-02-05T01:38:23.583Z"
   },
   {
    "duration": 19,
    "start_time": "2023-02-05T01:38:23.629Z"
   },
   {
    "duration": 12,
    "start_time": "2023-02-05T01:38:23.650Z"
   },
   {
    "duration": 0,
    "start_time": "2023-02-05T01:38:23.665Z"
   },
   {
    "duration": 0,
    "start_time": "2023-02-05T01:38:23.667Z"
   },
   {
    "duration": 0,
    "start_time": "2023-02-05T01:38:23.668Z"
   },
   {
    "duration": 0,
    "start_time": "2023-02-05T01:38:23.670Z"
   },
   {
    "duration": 0,
    "start_time": "2023-02-05T01:38:23.671Z"
   },
   {
    "duration": 0,
    "start_time": "2023-02-05T01:38:23.672Z"
   },
   {
    "duration": 0,
    "start_time": "2023-02-05T01:38:23.674Z"
   },
   {
    "duration": 0,
    "start_time": "2023-02-05T01:38:23.675Z"
   },
   {
    "duration": 0,
    "start_time": "2023-02-05T01:38:23.676Z"
   },
   {
    "duration": 0,
    "start_time": "2023-02-05T01:38:23.677Z"
   },
   {
    "duration": 0,
    "start_time": "2023-02-05T01:38:23.679Z"
   },
   {
    "duration": 0,
    "start_time": "2023-02-05T01:38:23.680Z"
   },
   {
    "duration": 0,
    "start_time": "2023-02-05T01:38:23.681Z"
   },
   {
    "duration": 0,
    "start_time": "2023-02-05T01:38:23.683Z"
   },
   {
    "duration": 0,
    "start_time": "2023-02-05T01:38:23.684Z"
   },
   {
    "duration": 0,
    "start_time": "2023-02-05T01:38:23.685Z"
   },
   {
    "duration": 0,
    "start_time": "2023-02-05T01:38:23.686Z"
   },
   {
    "duration": 0,
    "start_time": "2023-02-05T01:38:23.687Z"
   },
   {
    "duration": 0,
    "start_time": "2023-02-05T01:38:23.688Z"
   },
   {
    "duration": 0,
    "start_time": "2023-02-05T01:38:23.737Z"
   },
   {
    "duration": 0,
    "start_time": "2023-02-05T01:38:23.739Z"
   },
   {
    "duration": 0,
    "start_time": "2023-02-05T01:38:23.740Z"
   },
   {
    "duration": 0,
    "start_time": "2023-02-05T01:38:23.741Z"
   },
   {
    "duration": 0,
    "start_time": "2023-02-05T01:38:23.742Z"
   },
   {
    "duration": 0,
    "start_time": "2023-02-05T01:38:23.743Z"
   },
   {
    "duration": 0,
    "start_time": "2023-02-05T01:38:23.744Z"
   },
   {
    "duration": 0,
    "start_time": "2023-02-05T01:38:23.745Z"
   },
   {
    "duration": 0,
    "start_time": "2023-02-05T01:38:23.746Z"
   },
   {
    "duration": 14,
    "start_time": "2023-02-05T01:38:44.345Z"
   },
   {
    "duration": 21,
    "start_time": "2023-02-05T01:41:17.799Z"
   },
   {
    "duration": 5,
    "start_time": "2023-02-05T01:41:57.661Z"
   },
   {
    "duration": 9,
    "start_time": "2023-02-05T01:43:08.306Z"
   },
   {
    "duration": 19,
    "start_time": "2023-02-05T01:44:57.504Z"
   },
   {
    "duration": 11,
    "start_time": "2023-02-05T01:45:05.601Z"
   },
   {
    "duration": 8,
    "start_time": "2023-02-05T01:50:22.462Z"
   },
   {
    "duration": 19,
    "start_time": "2023-02-05T01:51:44.505Z"
   },
   {
    "duration": 15,
    "start_time": "2023-02-05T01:58:23.252Z"
   },
   {
    "duration": 6,
    "start_time": "2023-02-05T01:58:29.809Z"
   },
   {
    "duration": 2649,
    "start_time": "2023-02-05T02:02:52.365Z"
   },
   {
    "duration": 2624,
    "start_time": "2023-02-05T02:04:38.555Z"
   },
   {
    "duration": 1745,
    "start_time": "2023-02-05T02:04:43.174Z"
   },
   {
    "duration": 1662,
    "start_time": "2023-02-05T02:04:47.613Z"
   },
   {
    "duration": 33296,
    "start_time": "2023-02-05T02:05:43.245Z"
   },
   {
    "duration": 105,
    "start_time": "2023-02-05T02:07:41.636Z"
   },
   {
    "duration": 441,
    "start_time": "2023-02-05T02:13:08.398Z"
   },
   {
    "duration": 431,
    "start_time": "2023-02-05T02:13:16.507Z"
   },
   {
    "duration": 376,
    "start_time": "2023-02-05T02:26:50.162Z"
   },
   {
    "duration": 13,
    "start_time": "2023-02-05T02:27:48.617Z"
   },
   {
    "duration": 176,
    "start_time": "2023-02-05T02:27:51.070Z"
   },
   {
    "duration": 13,
    "start_time": "2023-02-05T02:31:07.181Z"
   },
   {
    "duration": 415,
    "start_time": "2023-02-05T02:31:10.833Z"
   },
   {
    "duration": 417,
    "start_time": "2023-02-05T02:32:00.336Z"
   },
   {
    "duration": 217,
    "start_time": "2023-02-05T02:34:34.583Z"
   },
   {
    "duration": 875,
    "start_time": "2023-02-05T02:42:03.229Z"
   },
   {
    "duration": 30732,
    "start_time": "2023-02-05T02:45:56.725Z"
   },
   {
    "duration": 46194,
    "start_time": "2023-02-05T02:46:30.101Z"
   },
   {
    "duration": 757,
    "start_time": "2023-02-05T02:47:51.079Z"
   },
   {
    "duration": 280,
    "start_time": "2023-02-05T02:58:23.707Z"
   },
   {
    "duration": 211,
    "start_time": "2023-02-05T03:02:29.453Z"
   },
   {
    "duration": 521,
    "start_time": "2023-02-05T03:06:07.908Z"
   },
   {
    "duration": 1448,
    "start_time": "2023-02-05T03:20:40.511Z"
   },
   {
    "duration": 48,
    "start_time": "2023-02-05T03:20:41.961Z"
   },
   {
    "duration": 18,
    "start_time": "2023-02-05T03:20:42.011Z"
   },
   {
    "duration": 21,
    "start_time": "2023-02-05T03:20:42.032Z"
   },
   {
    "duration": 35,
    "start_time": "2023-02-05T03:20:42.055Z"
   },
   {
    "duration": 7,
    "start_time": "2023-02-05T03:20:42.092Z"
   },
   {
    "duration": 24,
    "start_time": "2023-02-05T03:20:42.101Z"
   },
   {
    "duration": 29,
    "start_time": "2023-02-05T03:20:42.128Z"
   },
   {
    "duration": 17,
    "start_time": "2023-02-05T03:20:42.162Z"
   },
   {
    "duration": 14,
    "start_time": "2023-02-05T03:20:42.183Z"
   },
   {
    "duration": 49,
    "start_time": "2023-02-05T03:20:42.200Z"
   },
   {
    "duration": 22,
    "start_time": "2023-02-05T03:20:42.253Z"
   },
   {
    "duration": 12,
    "start_time": "2023-02-05T03:20:42.277Z"
   },
   {
    "duration": 2933,
    "start_time": "2023-02-05T03:20:42.290Z"
   },
   {
    "duration": 1960,
    "start_time": "2023-02-05T03:20:45.225Z"
   },
   {
    "duration": 2012,
    "start_time": "2023-02-05T03:20:47.186Z"
   },
   {
    "duration": 35448,
    "start_time": "2023-02-05T03:20:49.200Z"
   },
   {
    "duration": 37,
    "start_time": "2023-02-05T03:21:24.649Z"
   },
   {
    "duration": 390,
    "start_time": "2023-02-05T03:21:24.752Z"
   },
   {
    "duration": 577,
    "start_time": "2023-02-05T03:21:25.144Z"
   },
   {
    "duration": 318,
    "start_time": "2023-02-05T03:21:25.723Z"
   },
   {
    "duration": 97,
    "start_time": "2023-02-05T03:21:26.043Z"
   },
   {
    "duration": 297,
    "start_time": "2023-02-05T03:21:26.142Z"
   },
   {
    "duration": 98,
    "start_time": "2023-02-05T03:21:26.442Z"
   },
   {
    "duration": 407,
    "start_time": "2023-02-05T03:21:26.542Z"
   },
   {
    "duration": 394,
    "start_time": "2023-02-05T03:21:26.951Z"
   },
   {
    "duration": 979,
    "start_time": "2023-02-05T03:21:27.347Z"
   },
   {
    "duration": 46666,
    "start_time": "2023-02-05T03:21:28.330Z"
   },
   {
    "duration": 903,
    "start_time": "2023-02-05T03:22:14.999Z"
   },
   {
    "duration": 498,
    "start_time": "2023-02-05T03:22:15.904Z"
   },
   {
    "duration": 1737,
    "start_time": "2023-02-05T21:35:59.709Z"
   },
   {
    "duration": 189,
    "start_time": "2023-02-05T21:36:01.449Z"
   },
   {
    "duration": 24,
    "start_time": "2023-02-05T21:36:01.640Z"
   },
   {
    "duration": 76,
    "start_time": "2023-02-05T21:36:01.667Z"
   },
   {
    "duration": 87,
    "start_time": "2023-02-05T21:36:01.745Z"
   },
   {
    "duration": 68,
    "start_time": "2023-02-05T21:36:01.834Z"
   },
   {
    "duration": 31,
    "start_time": "2023-02-05T21:36:01.904Z"
   },
   {
    "duration": 38,
    "start_time": "2023-02-05T21:36:01.937Z"
   },
   {
    "duration": 34,
    "start_time": "2023-02-05T21:36:01.979Z"
   },
   {
    "duration": 1543,
    "start_time": "2023-02-05T21:36:02.016Z"
   },
   {
    "duration": 594,
    "start_time": "2023-02-05T21:36:03.561Z"
   },
   {
    "duration": 7,
    "start_time": "2023-02-05T21:36:04.157Z"
   },
   {
    "duration": 20975,
    "start_time": "2023-02-05T21:36:04.166Z"
   },
   {
    "duration": 0,
    "start_time": "2023-02-05T21:36:25.143Z"
   },
   {
    "duration": 0,
    "start_time": "2023-02-05T21:36:25.144Z"
   },
   {
    "duration": 0,
    "start_time": "2023-02-05T21:36:25.146Z"
   },
   {
    "duration": 0,
    "start_time": "2023-02-05T21:36:25.148Z"
   },
   {
    "duration": 1,
    "start_time": "2023-02-05T21:36:25.149Z"
   },
   {
    "duration": 0,
    "start_time": "2023-02-05T21:36:25.151Z"
   },
   {
    "duration": 0,
    "start_time": "2023-02-05T21:36:25.153Z"
   },
   {
    "duration": 0,
    "start_time": "2023-02-05T21:36:25.155Z"
   },
   {
    "duration": 0,
    "start_time": "2023-02-05T21:36:25.156Z"
   },
   {
    "duration": 1,
    "start_time": "2023-02-05T21:36:25.157Z"
   },
   {
    "duration": 0,
    "start_time": "2023-02-05T21:36:25.159Z"
   },
   {
    "duration": 0,
    "start_time": "2023-02-05T21:36:25.161Z"
   },
   {
    "duration": 0,
    "start_time": "2023-02-05T21:36:25.162Z"
   },
   {
    "duration": 0,
    "start_time": "2023-02-05T21:36:25.164Z"
   },
   {
    "duration": 0,
    "start_time": "2023-02-05T21:36:25.166Z"
   },
   {
    "duration": 0,
    "start_time": "2023-02-05T21:36:25.167Z"
   },
   {
    "duration": 38,
    "start_time": "2023-02-05T21:42:22.161Z"
   },
   {
    "duration": 724,
    "start_time": "2023-02-05T22:04:09.183Z"
   },
   {
    "duration": 0,
    "start_time": "2023-02-05T22:04:09.910Z"
   },
   {
    "duration": 0,
    "start_time": "2023-02-05T22:04:09.911Z"
   },
   {
    "duration": 0,
    "start_time": "2023-02-05T22:04:09.912Z"
   },
   {
    "duration": 0,
    "start_time": "2023-02-05T22:04:09.913Z"
   },
   {
    "duration": 0,
    "start_time": "2023-02-05T22:04:09.915Z"
   },
   {
    "duration": 0,
    "start_time": "2023-02-05T22:04:09.916Z"
   },
   {
    "duration": 0,
    "start_time": "2023-02-05T22:04:09.917Z"
   },
   {
    "duration": 0,
    "start_time": "2023-02-05T22:04:09.918Z"
   },
   {
    "duration": 0,
    "start_time": "2023-02-05T22:04:09.920Z"
   },
   {
    "duration": 0,
    "start_time": "2023-02-05T22:04:09.921Z"
   },
   {
    "duration": 0,
    "start_time": "2023-02-05T22:04:09.939Z"
   },
   {
    "duration": 0,
    "start_time": "2023-02-05T22:04:09.940Z"
   },
   {
    "duration": 0,
    "start_time": "2023-02-05T22:04:09.941Z"
   },
   {
    "duration": 0,
    "start_time": "2023-02-05T22:04:09.943Z"
   },
   {
    "duration": 0,
    "start_time": "2023-02-05T22:04:09.944Z"
   },
   {
    "duration": 0,
    "start_time": "2023-02-05T22:04:09.945Z"
   },
   {
    "duration": 0,
    "start_time": "2023-02-05T22:04:09.946Z"
   },
   {
    "duration": 0,
    "start_time": "2023-02-05T22:04:09.948Z"
   },
   {
    "duration": 0,
    "start_time": "2023-02-05T22:04:09.949Z"
   },
   {
    "duration": 0,
    "start_time": "2023-02-05T22:04:09.951Z"
   },
   {
    "duration": 0,
    "start_time": "2023-02-05T22:04:09.952Z"
   },
   {
    "duration": 0,
    "start_time": "2023-02-05T22:04:09.953Z"
   },
   {
    "duration": 0,
    "start_time": "2023-02-05T22:04:09.955Z"
   },
   {
    "duration": 0,
    "start_time": "2023-02-05T22:04:09.956Z"
   },
   {
    "duration": 0,
    "start_time": "2023-02-05T22:04:09.957Z"
   },
   {
    "duration": 0,
    "start_time": "2023-02-05T22:04:09.959Z"
   },
   {
    "duration": 0,
    "start_time": "2023-02-05T22:04:09.960Z"
   },
   {
    "duration": 0,
    "start_time": "2023-02-05T22:04:09.962Z"
   },
   {
    "duration": 0,
    "start_time": "2023-02-05T22:04:09.963Z"
   },
   {
    "duration": 801,
    "start_time": "2023-02-05T22:04:22.995Z"
   },
   {
    "duration": 43,
    "start_time": "2023-02-05T22:04:26.636Z"
   },
   {
    "duration": 17,
    "start_time": "2023-02-05T22:04:30.799Z"
   },
   {
    "duration": 13,
    "start_time": "2023-02-05T22:04:33.612Z"
   },
   {
    "duration": 26,
    "start_time": "2023-02-05T22:04:41.153Z"
   },
   {
    "duration": 31,
    "start_time": "2023-02-05T22:04:45.159Z"
   },
   {
    "duration": 18,
    "start_time": "2023-02-05T22:05:48.553Z"
   },
   {
    "duration": 17,
    "start_time": "2023-02-05T22:05:52.602Z"
   },
   {
    "duration": 6,
    "start_time": "2023-02-05T22:06:57.776Z"
   },
   {
    "duration": 16,
    "start_time": "2023-02-05T22:11:15.001Z"
   },
   {
    "duration": 6,
    "start_time": "2023-02-05T22:16:48.770Z"
   },
   {
    "duration": 57,
    "start_time": "2023-02-05T22:18:53.505Z"
   },
   {
    "duration": 4,
    "start_time": "2023-02-05T22:25:36.844Z"
   },
   {
    "duration": 96,
    "start_time": "2023-02-05T22:32:28.700Z"
   },
   {
    "duration": 84,
    "start_time": "2023-02-05T22:42:11.429Z"
   },
   {
    "duration": 141,
    "start_time": "2023-02-05T22:43:42.824Z"
   },
   {
    "duration": 86,
    "start_time": "2023-02-05T22:46:13.957Z"
   },
   {
    "duration": 208,
    "start_time": "2023-02-05T22:46:23.704Z"
   },
   {
    "duration": 217,
    "start_time": "2023-02-05T22:46:50.931Z"
   },
   {
    "duration": 163,
    "start_time": "2023-02-05T22:49:22.286Z"
   },
   {
    "duration": 124,
    "start_time": "2023-02-05T22:50:17.791Z"
   },
   {
    "duration": 134,
    "start_time": "2023-02-05T22:51:18.875Z"
   },
   {
    "duration": 17,
    "start_time": "2023-02-05T22:52:19.669Z"
   },
   {
    "duration": 27,
    "start_time": "2023-02-05T22:52:40.810Z"
   },
   {
    "duration": 81,
    "start_time": "2023-02-05T22:53:27.593Z"
   },
   {
    "duration": 207,
    "start_time": "2023-02-05T22:53:36.985Z"
   },
   {
    "duration": 1200,
    "start_time": "2023-02-05T22:58:46.789Z"
   },
   {
    "duration": 0,
    "start_time": "2023-02-05T22:58:47.992Z"
   },
   {
    "duration": 0,
    "start_time": "2023-02-05T22:58:47.993Z"
   },
   {
    "duration": 0,
    "start_time": "2023-02-05T22:58:47.995Z"
   },
   {
    "duration": 0,
    "start_time": "2023-02-05T22:58:47.996Z"
   },
   {
    "duration": 0,
    "start_time": "2023-02-05T22:58:47.998Z"
   },
   {
    "duration": 0,
    "start_time": "2023-02-05T22:58:48.000Z"
   },
   {
    "duration": 0,
    "start_time": "2023-02-05T22:58:48.001Z"
   },
   {
    "duration": 0,
    "start_time": "2023-02-05T22:58:48.002Z"
   },
   {
    "duration": 0,
    "start_time": "2023-02-05T22:58:48.004Z"
   },
   {
    "duration": 1,
    "start_time": "2023-02-05T22:58:48.005Z"
   },
   {
    "duration": 0,
    "start_time": "2023-02-05T22:58:48.007Z"
   },
   {
    "duration": 0,
    "start_time": "2023-02-05T22:58:48.008Z"
   },
   {
    "duration": 0,
    "start_time": "2023-02-05T22:58:48.010Z"
   },
   {
    "duration": 0,
    "start_time": "2023-02-05T22:58:48.011Z"
   },
   {
    "duration": 0,
    "start_time": "2023-02-05T22:58:48.013Z"
   },
   {
    "duration": 0,
    "start_time": "2023-02-05T22:58:48.014Z"
   },
   {
    "duration": 0,
    "start_time": "2023-02-05T22:58:48.016Z"
   },
   {
    "duration": 0,
    "start_time": "2023-02-05T22:58:48.017Z"
   },
   {
    "duration": 0,
    "start_time": "2023-02-05T22:58:48.018Z"
   },
   {
    "duration": 0,
    "start_time": "2023-02-05T22:58:48.020Z"
   },
   {
    "duration": 0,
    "start_time": "2023-02-05T22:58:48.021Z"
   },
   {
    "duration": 0,
    "start_time": "2023-02-05T22:58:48.022Z"
   },
   {
    "duration": 0,
    "start_time": "2023-02-05T22:58:48.038Z"
   },
   {
    "duration": 0,
    "start_time": "2023-02-05T22:58:48.040Z"
   },
   {
    "duration": 0,
    "start_time": "2023-02-05T22:58:48.042Z"
   },
   {
    "duration": 0,
    "start_time": "2023-02-05T22:58:48.043Z"
   },
   {
    "duration": 0,
    "start_time": "2023-02-05T22:58:48.044Z"
   },
   {
    "duration": 549,
    "start_time": "2023-02-05T22:58:56.675Z"
   },
   {
    "duration": 42,
    "start_time": "2023-02-05T22:58:59.825Z"
   },
   {
    "duration": 19,
    "start_time": "2023-02-05T22:59:03.237Z"
   },
   {
    "duration": 16,
    "start_time": "2023-02-05T22:59:06.137Z"
   },
   {
    "duration": 26,
    "start_time": "2023-02-05T22:59:09.672Z"
   },
   {
    "duration": 32,
    "start_time": "2023-02-05T22:59:14.451Z"
   },
   {
    "duration": 20,
    "start_time": "2023-02-05T22:59:18.087Z"
   },
   {
    "duration": 12,
    "start_time": "2023-02-05T22:59:21.803Z"
   },
   {
    "duration": 9,
    "start_time": "2023-02-05T22:59:25.325Z"
   },
   {
    "duration": 59,
    "start_time": "2023-02-05T23:04:39.246Z"
   },
   {
    "duration": 50,
    "start_time": "2023-02-05T23:05:01.078Z"
   },
   {
    "duration": 3,
    "start_time": "2023-02-05T23:05:37.489Z"
   },
   {
    "duration": 5,
    "start_time": "2023-02-05T23:05:48.271Z"
   },
   {
    "duration": 4,
    "start_time": "2023-02-05T23:05:59.591Z"
   },
   {
    "duration": 5,
    "start_time": "2023-02-05T23:06:04.732Z"
   },
   {
    "duration": 32,
    "start_time": "2023-02-05T23:07:13.209Z"
   },
   {
    "duration": 62,
    "start_time": "2023-02-05T23:08:24.143Z"
   },
   {
    "duration": 40,
    "start_time": "2023-02-05T23:09:14.756Z"
   },
   {
    "duration": 93,
    "start_time": "2023-02-05T23:10:10.182Z"
   },
   {
    "duration": 31,
    "start_time": "2023-02-05T23:10:17.322Z"
   },
   {
    "duration": 40,
    "start_time": "2023-02-05T23:10:29.534Z"
   },
   {
    "duration": 125,
    "start_time": "2023-02-05T23:10:55.032Z"
   },
   {
    "duration": 83,
    "start_time": "2023-02-05T23:12:09.047Z"
   },
   {
    "duration": 46,
    "start_time": "2023-02-05T23:12:40.772Z"
   },
   {
    "duration": 5,
    "start_time": "2023-02-05T23:13:29.713Z"
   },
   {
    "duration": 1082,
    "start_time": "2023-02-05T23:13:36.366Z"
   },
   {
    "duration": 0,
    "start_time": "2023-02-05T23:13:37.451Z"
   },
   {
    "duration": 0,
    "start_time": "2023-02-05T23:13:37.452Z"
   },
   {
    "duration": 0,
    "start_time": "2023-02-05T23:13:37.454Z"
   },
   {
    "duration": 0,
    "start_time": "2023-02-05T23:13:37.455Z"
   },
   {
    "duration": 0,
    "start_time": "2023-02-05T23:13:37.456Z"
   },
   {
    "duration": 0,
    "start_time": "2023-02-05T23:13:37.457Z"
   },
   {
    "duration": 0,
    "start_time": "2023-02-05T23:13:37.459Z"
   },
   {
    "duration": 0,
    "start_time": "2023-02-05T23:13:37.460Z"
   },
   {
    "duration": 0,
    "start_time": "2023-02-05T23:13:37.461Z"
   },
   {
    "duration": 0,
    "start_time": "2023-02-05T23:13:37.462Z"
   },
   {
    "duration": 0,
    "start_time": "2023-02-05T23:13:37.463Z"
   },
   {
    "duration": 0,
    "start_time": "2023-02-05T23:13:37.464Z"
   },
   {
    "duration": 0,
    "start_time": "2023-02-05T23:13:37.465Z"
   },
   {
    "duration": 0,
    "start_time": "2023-02-05T23:13:37.467Z"
   },
   {
    "duration": 0,
    "start_time": "2023-02-05T23:13:37.468Z"
   },
   {
    "duration": 0,
    "start_time": "2023-02-05T23:13:37.469Z"
   },
   {
    "duration": 0,
    "start_time": "2023-02-05T23:13:37.470Z"
   },
   {
    "duration": 0,
    "start_time": "2023-02-05T23:13:37.471Z"
   },
   {
    "duration": 0,
    "start_time": "2023-02-05T23:13:37.472Z"
   },
   {
    "duration": 0,
    "start_time": "2023-02-05T23:13:37.474Z"
   },
   {
    "duration": 0,
    "start_time": "2023-02-05T23:13:37.475Z"
   },
   {
    "duration": 0,
    "start_time": "2023-02-05T23:13:37.476Z"
   },
   {
    "duration": 0,
    "start_time": "2023-02-05T23:13:37.477Z"
   },
   {
    "duration": 0,
    "start_time": "2023-02-05T23:13:37.478Z"
   },
   {
    "duration": 0,
    "start_time": "2023-02-05T23:13:37.479Z"
   },
   {
    "duration": 0,
    "start_time": "2023-02-05T23:13:37.480Z"
   },
   {
    "duration": 0,
    "start_time": "2023-02-05T23:13:37.481Z"
   },
   {
    "duration": 126,
    "start_time": "2023-02-05T23:13:47.059Z"
   },
   {
    "duration": 13,
    "start_time": "2023-02-05T23:14:15.255Z"
   },
   {
    "duration": 16,
    "start_time": "2023-02-05T23:14:33.872Z"
   },
   {
    "duration": 1454,
    "start_time": "2023-02-05T23:15:45.112Z"
   },
   {
    "duration": 41,
    "start_time": "2023-02-05T23:15:46.568Z"
   },
   {
    "duration": 17,
    "start_time": "2023-02-05T23:15:46.610Z"
   },
   {
    "duration": 18,
    "start_time": "2023-02-05T23:15:46.629Z"
   },
   {
    "duration": 23,
    "start_time": "2023-02-05T23:15:46.649Z"
   },
   {
    "duration": 45,
    "start_time": "2023-02-05T23:15:46.673Z"
   },
   {
    "duration": 19,
    "start_time": "2023-02-05T23:15:46.720Z"
   },
   {
    "duration": 11,
    "start_time": "2023-02-05T23:15:46.741Z"
   },
   {
    "duration": 13,
    "start_time": "2023-02-05T23:15:46.753Z"
   },
   {
    "duration": 84,
    "start_time": "2023-02-05T23:15:46.768Z"
   },
   {
    "duration": 7,
    "start_time": "2023-02-05T23:15:46.854Z"
   },
   {
    "duration": 811,
    "start_time": "2023-02-05T23:15:46.862Z"
   },
   {
    "duration": 0,
    "start_time": "2023-02-05T23:15:47.675Z"
   },
   {
    "duration": 0,
    "start_time": "2023-02-05T23:15:47.677Z"
   },
   {
    "duration": 0,
    "start_time": "2023-02-05T23:15:47.678Z"
   },
   {
    "duration": 0,
    "start_time": "2023-02-05T23:15:47.680Z"
   },
   {
    "duration": 0,
    "start_time": "2023-02-05T23:15:47.682Z"
   },
   {
    "duration": 0,
    "start_time": "2023-02-05T23:15:47.683Z"
   },
   {
    "duration": 0,
    "start_time": "2023-02-05T23:15:47.684Z"
   },
   {
    "duration": 0,
    "start_time": "2023-02-05T23:15:47.685Z"
   },
   {
    "duration": 0,
    "start_time": "2023-02-05T23:15:47.686Z"
   },
   {
    "duration": 0,
    "start_time": "2023-02-05T23:15:47.688Z"
   },
   {
    "duration": 0,
    "start_time": "2023-02-05T23:15:47.690Z"
   },
   {
    "duration": 0,
    "start_time": "2023-02-05T23:15:47.691Z"
   },
   {
    "duration": 0,
    "start_time": "2023-02-05T23:15:47.692Z"
   },
   {
    "duration": 0,
    "start_time": "2023-02-05T23:15:47.694Z"
   },
   {
    "duration": 0,
    "start_time": "2023-02-05T23:15:47.695Z"
   },
   {
    "duration": 0,
    "start_time": "2023-02-05T23:15:47.697Z"
   },
   {
    "duration": 5,
    "start_time": "2023-02-05T23:23:29.259Z"
   },
   {
    "duration": 5,
    "start_time": "2023-02-05T23:24:45.373Z"
   },
   {
    "duration": 1264,
    "start_time": "2023-02-05T23:24:56.069Z"
   },
   {
    "duration": 40,
    "start_time": "2023-02-05T23:24:57.334Z"
   },
   {
    "duration": 17,
    "start_time": "2023-02-05T23:24:57.376Z"
   },
   {
    "duration": 15,
    "start_time": "2023-02-05T23:24:57.395Z"
   },
   {
    "duration": 25,
    "start_time": "2023-02-05T23:24:57.412Z"
   },
   {
    "duration": 21,
    "start_time": "2023-02-05T23:24:57.439Z"
   },
   {
    "duration": 15,
    "start_time": "2023-02-05T23:24:57.462Z"
   },
   {
    "duration": 11,
    "start_time": "2023-02-05T23:24:57.479Z"
   },
   {
    "duration": 6,
    "start_time": "2023-02-05T23:24:57.491Z"
   },
   {
    "duration": 107,
    "start_time": "2023-02-05T23:24:57.499Z"
   },
   {
    "duration": 6,
    "start_time": "2023-02-05T23:24:57.608Z"
   },
   {
    "duration": 948,
    "start_time": "2023-02-05T23:24:57.616Z"
   },
   {
    "duration": 0,
    "start_time": "2023-02-05T23:24:58.565Z"
   },
   {
    "duration": 0,
    "start_time": "2023-02-05T23:24:58.567Z"
   },
   {
    "duration": 0,
    "start_time": "2023-02-05T23:24:58.568Z"
   },
   {
    "duration": 0,
    "start_time": "2023-02-05T23:24:58.568Z"
   },
   {
    "duration": 0,
    "start_time": "2023-02-05T23:24:58.569Z"
   },
   {
    "duration": 0,
    "start_time": "2023-02-05T23:24:58.570Z"
   },
   {
    "duration": 0,
    "start_time": "2023-02-05T23:24:58.571Z"
   },
   {
    "duration": 0,
    "start_time": "2023-02-05T23:24:58.572Z"
   },
   {
    "duration": 0,
    "start_time": "2023-02-05T23:24:58.573Z"
   },
   {
    "duration": 0,
    "start_time": "2023-02-05T23:24:58.574Z"
   },
   {
    "duration": 0,
    "start_time": "2023-02-05T23:24:58.575Z"
   },
   {
    "duration": 0,
    "start_time": "2023-02-05T23:24:58.576Z"
   },
   {
    "duration": 0,
    "start_time": "2023-02-05T23:24:58.577Z"
   },
   {
    "duration": 0,
    "start_time": "2023-02-05T23:24:58.578Z"
   },
   {
    "duration": 0,
    "start_time": "2023-02-05T23:24:58.579Z"
   },
   {
    "duration": 0,
    "start_time": "2023-02-05T23:24:58.579Z"
   },
   {
    "duration": 27956,
    "start_time": "2023-02-05T23:25:51.312Z"
   },
   {
    "duration": 31665,
    "start_time": "2023-02-05T23:26:33.988Z"
   },
   {
    "duration": 7078,
    "start_time": "2023-02-05T23:27:32.451Z"
   },
   {
    "duration": 178629,
    "start_time": "2023-02-05T23:27:57.300Z"
   },
   {
    "duration": 543,
    "start_time": "2023-02-05T23:31:01.596Z"
   },
   {
    "duration": 1815,
    "start_time": "2023-02-05T23:31:49.724Z"
   },
   {
    "duration": 287,
    "start_time": "2023-02-05T23:31:59.341Z"
   },
   {
    "duration": 1814,
    "start_time": "2023-02-05T23:32:55.526Z"
   },
   {
    "duration": 14,
    "start_time": "2023-02-05T23:36:15.788Z"
   },
   {
    "duration": 64,
    "start_time": "2023-02-05T23:37:13.360Z"
   },
   {
    "duration": 43459,
    "start_time": "2023-02-05T23:38:39.976Z"
   },
   {
    "duration": 58,
    "start_time": "2023-02-05T23:39:33.657Z"
   },
   {
    "duration": 41,
    "start_time": "2023-02-05T23:41:31.189Z"
   },
   {
    "duration": 10,
    "start_time": "2023-02-05T23:42:07.656Z"
   },
   {
    "duration": 1928,
    "start_time": "2023-02-05T23:42:57.521Z"
   },
   {
    "duration": 12,
    "start_time": "2023-02-05T23:46:44.696Z"
   },
   {
    "duration": 11,
    "start_time": "2023-02-05T23:46:52.996Z"
   },
   {
    "duration": 122,
    "start_time": "2023-02-05T23:47:42.972Z"
   },
   {
    "duration": 4138,
    "start_time": "2023-02-05T23:48:13.600Z"
   },
   {
    "duration": 297,
    "start_time": "2023-02-05T23:51:14.898Z"
   },
   {
    "duration": 1249,
    "start_time": "2023-02-05T23:57:04.752Z"
   },
   {
    "duration": 435,
    "start_time": "2023-02-06T00:04:08.605Z"
   },
   {
    "duration": 2970,
    "start_time": "2023-02-06T00:07:27.470Z"
   },
   {
    "duration": 14262,
    "start_time": "2023-02-06T00:11:11.690Z"
   },
   {
    "duration": 2207,
    "start_time": "2023-02-06T00:11:53.363Z"
   },
   {
    "duration": 32718,
    "start_time": "2023-02-06T00:18:06.941Z"
   },
   {
    "duration": 3544,
    "start_time": "2023-02-06T00:21:40.417Z"
   },
   {
    "duration": 7877,
    "start_time": "2023-02-06T00:22:07.151Z"
   },
   {
    "duration": 26881,
    "start_time": "2023-02-06T00:37:03.722Z"
   },
   {
    "duration": 1264,
    "start_time": "2023-02-06T00:37:30.606Z"
   },
   {
    "duration": 50,
    "start_time": "2023-02-06T00:37:31.871Z"
   },
   {
    "duration": 18,
    "start_time": "2023-02-06T00:37:31.923Z"
   },
   {
    "duration": 31,
    "start_time": "2023-02-06T00:37:31.945Z"
   },
   {
    "duration": 36,
    "start_time": "2023-02-06T00:37:31.979Z"
   },
   {
    "duration": 25,
    "start_time": "2023-02-06T00:37:32.017Z"
   },
   {
    "duration": 22,
    "start_time": "2023-02-06T00:37:32.045Z"
   },
   {
    "duration": 23,
    "start_time": "2023-02-06T00:37:32.068Z"
   },
   {
    "duration": 12,
    "start_time": "2023-02-06T00:37:32.094Z"
   },
   {
    "duration": 111,
    "start_time": "2023-02-06T00:37:32.108Z"
   },
   {
    "duration": 6,
    "start_time": "2023-02-06T00:37:32.220Z"
   },
   {
    "duration": 30883,
    "start_time": "2023-02-06T00:37:32.227Z"
   },
   {
    "duration": 37063,
    "start_time": "2023-02-06T00:38:03.111Z"
   },
   {
    "duration": 7474,
    "start_time": "2023-02-06T00:38:40.176Z"
   },
   {
    "duration": 191714,
    "start_time": "2023-02-06T00:38:47.653Z"
   },
   {
    "duration": 2871,
    "start_time": "2023-02-06T00:41:59.369Z"
   },
   {
    "duration": 6106,
    "start_time": "2023-02-06T00:42:02.245Z"
   },
   {
    "duration": 407,
    "start_time": "2023-02-06T00:42:08.353Z"
   },
   {
    "duration": 5888,
    "start_time": "2023-02-06T00:42:08.762Z"
   },
   {
    "duration": 97,
    "start_time": "2023-02-06T00:42:14.655Z"
   },
   {
    "duration": 3392,
    "start_time": "2023-02-06T00:42:14.755Z"
   },
   {
    "duration": 124,
    "start_time": "2023-02-06T00:42:18.149Z"
   },
   {
    "duration": 8064,
    "start_time": "2023-02-06T00:42:18.275Z"
   },
   {
    "duration": 4478,
    "start_time": "2023-02-06T00:42:26.341Z"
   },
   {
    "duration": 9533,
    "start_time": "2023-02-06T00:42:30.821Z"
   },
   {
    "duration": 5366,
    "start_time": "2023-02-06T00:42:40.357Z"
   }
  ],
  "kernelspec": {
   "display_name": "Python 3 (ipykernel)",
   "language": "python",
   "name": "python3"
  },
  "language_info": {
   "codemirror_mode": {
    "name": "ipython",
    "version": 3
   },
   "file_extension": ".py",
   "mimetype": "text/x-python",
   "name": "python",
   "nbconvert_exporter": "python",
   "pygments_lexer": "ipython3",
   "version": "3.12.4"
  },
  "toc": {
   "base_numbering": 1,
   "nav_menu": {},
   "number_sections": true,
   "sideBar": true,
   "skip_h1_title": true,
   "title_cell": "Содержание",
   "title_sidebar": "Contents",
   "toc_cell": true,
   "toc_position": {},
   "toc_section_display": true,
   "toc_window_display": true
  }
 },
 "nbformat": 4,
 "nbformat_minor": 4
}
