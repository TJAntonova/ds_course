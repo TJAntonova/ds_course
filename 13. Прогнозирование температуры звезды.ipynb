{
 "cells": [
  {
   "cell_type": "markdown",
   "id": "17f5c45f",
   "metadata": {},
   "source": [
    "# Прогнозирование температуры звезды"
   ]
  },
  {
   "cell_type": "markdown",
   "id": "5bcfccb5",
   "metadata": {},
   "source": [
    "# Содержание\n",
    "\n",
    "1. [Загрузка данных](#1)\n",
    "2. [Предобработка и исследовательсикй анализ данных](#2)\n",
    "3. [Построение базовой нейронной сети](#3)\n",
    "3. [Улучшение нейронной сети](#4)\n",
    "4. [Выводы](#5)"
   ]
  },
  {
   "cell_type": "markdown",
   "id": "aba68f33",
   "metadata": {},
   "source": [
    "Обычно для расчёта температуры учёные пользуются следующими методами:\n",
    "\n",
    "- Закон смещения Вина.\n",
    "- Закон Стефана-Больцмана.\n",
    "- Спектральный анализ.\n",
    "\n",
    "Каждый из них имеет плюсы и минусы. Заказчик - обсерватория «Небо на ладони» - хочет внедрить технологии машинного обучения для предсказания температуры звёзд, надеясь, что этот метод будет наиболее точным и удобным.\n",
    "\n",
    "\n",
    "**Цель проекта** - с помощью нейросети определить температуру на поверхности обнаруженных звёзд. \n",
    "\n",
    "В базе обсерватории есть характеристики уже изученных 240 звёзд.\n",
    "\n",
    "**Описание данных**\n",
    " \n",
    "Признаки:\n",
    "\n",
    "- Относительная светимость L/Lo — светимость звезды относительно Солнца.\n",
    "- Относительный радиус R/Ro — радиус звезды относительно радиуса Солнца.\n",
    "- Абсолютная звёздная величина Mv — физическая величина, характеризующая блеск звезды.\n",
    "- Звёздный цвет (white, red, blue, yellow, yellow-orange и др.) — цвет звезды, который определяют на основе спектрального анализа.\n",
    "- Тип звезды.\n",
    "\n",
    "Целевой признак:\n",
    "\n",
    "- Абсолютная температура T(K) — температура на поверхности звезды в Кельвинах.\n",
    "\n",
    "\n",
    "**Задачи проекта**:\n",
    "\n",
    "- Предобработать и провести исследовательский анализ данных.\n",
    "- Построить и обучить простую модель нейронной сети — baseline.\n",
    "- Улучшить сеть.\n"
   ]
  },
  {
   "cell_type": "markdown",
   "id": "15243175",
   "metadata": {},
   "source": [
    "## Импорт необходимых библиотек"
   ]
  },
  {
   "cell_type": "code",
   "execution_count": 1,
   "id": "spectacular-folder",
   "metadata": {},
   "outputs": [],
   "source": [
    "import pandas as pd\n",
    "import matplotlib.pyplot as plt\n",
    "import seaborn as sns \n",
    "import numpy as np \n",
    "import random\n",
    "\n",
    "from math import ceil, sqrt\n",
    "from sklearn.model_selection import train_test_split\n",
    "from sklearn.preprocessing import OneHotEncoder, StandardScaler\n",
    "from sklearn.metrics import mean_squared_error\n",
    "\n",
    "import torch\n",
    "import torch.nn as nn\n",
    "\n"
   ]
  },
  {
   "cell_type": "markdown",
   "id": "corresponding-armstrong",
   "metadata": {
    "ExecuteTime": {
     "end_time": "2022-05-05T04:58:05.692448Z",
     "start_time": "2022-05-05T04:58:05.688565Z"
    }
   },
   "source": [
    "## Загрузка данных <a id=\"1\"></a>"
   ]
  },
  {
   "cell_type": "code",
   "execution_count": 2,
   "id": "flush-dream",
   "metadata": {},
   "outputs": [],
   "source": [
    "server_path = '/datasets/6_class.csv'   \n",
    "local_path = ''               \n",
    "try:\n",
    "    df = pd.read_csv(server_path)   \n",
    "except: \n",
    "    df = pd.read_csv(local_path)  "
   ]
  },
  {
   "cell_type": "code",
   "execution_count": 3,
   "id": "ec732e96",
   "metadata": {},
   "outputs": [
    {
     "data": {
      "text/html": [
       "<div>\n",
       "<style scoped>\n",
       "    .dataframe tbody tr th:only-of-type {\n",
       "        vertical-align: middle;\n",
       "    }\n",
       "\n",
       "    .dataframe tbody tr th {\n",
       "        vertical-align: top;\n",
       "    }\n",
       "\n",
       "    .dataframe thead th {\n",
       "        text-align: right;\n",
       "    }\n",
       "</style>\n",
       "<table border=\"1\" class=\"dataframe\">\n",
       "  <thead>\n",
       "    <tr style=\"text-align: right;\">\n",
       "      <th></th>\n",
       "      <th>Unnamed: 0</th>\n",
       "      <th>Temperature (K)</th>\n",
       "      <th>Luminosity(L/Lo)</th>\n",
       "      <th>Radius(R/Ro)</th>\n",
       "      <th>Absolute magnitude(Mv)</th>\n",
       "      <th>Star type</th>\n",
       "      <th>Star color</th>\n",
       "    </tr>\n",
       "  </thead>\n",
       "  <tbody>\n",
       "    <tr>\n",
       "      <th>0</th>\n",
       "      <td>0</td>\n",
       "      <td>3068</td>\n",
       "      <td>0.002400</td>\n",
       "      <td>0.1700</td>\n",
       "      <td>16.12</td>\n",
       "      <td>0</td>\n",
       "      <td>Red</td>\n",
       "    </tr>\n",
       "    <tr>\n",
       "      <th>1</th>\n",
       "      <td>1</td>\n",
       "      <td>3042</td>\n",
       "      <td>0.000500</td>\n",
       "      <td>0.1542</td>\n",
       "      <td>16.60</td>\n",
       "      <td>0</td>\n",
       "      <td>Red</td>\n",
       "    </tr>\n",
       "    <tr>\n",
       "      <th>2</th>\n",
       "      <td>2</td>\n",
       "      <td>2600</td>\n",
       "      <td>0.000300</td>\n",
       "      <td>0.1020</td>\n",
       "      <td>18.70</td>\n",
       "      <td>0</td>\n",
       "      <td>Red</td>\n",
       "    </tr>\n",
       "    <tr>\n",
       "      <th>3</th>\n",
       "      <td>3</td>\n",
       "      <td>2800</td>\n",
       "      <td>0.000200</td>\n",
       "      <td>0.1600</td>\n",
       "      <td>16.65</td>\n",
       "      <td>0</td>\n",
       "      <td>Red</td>\n",
       "    </tr>\n",
       "    <tr>\n",
       "      <th>4</th>\n",
       "      <td>4</td>\n",
       "      <td>1939</td>\n",
       "      <td>0.000138</td>\n",
       "      <td>0.1030</td>\n",
       "      <td>20.06</td>\n",
       "      <td>0</td>\n",
       "      <td>Red</td>\n",
       "    </tr>\n",
       "  </tbody>\n",
       "</table>\n",
       "</div>"
      ],
      "text/plain": [
       "   Unnamed: 0  Temperature (K)  Luminosity(L/Lo)  Radius(R/Ro)  \\\n",
       "0           0             3068          0.002400        0.1700   \n",
       "1           1             3042          0.000500        0.1542   \n",
       "2           2             2600          0.000300        0.1020   \n",
       "3           3             2800          0.000200        0.1600   \n",
       "4           4             1939          0.000138        0.1030   \n",
       "\n",
       "   Absolute magnitude(Mv)  Star type Star color  \n",
       "0                   16.12          0        Red  \n",
       "1                   16.60          0        Red  \n",
       "2                   18.70          0        Red  \n",
       "3                   16.65          0        Red  \n",
       "4                   20.06          0        Red  "
      ]
     },
     "execution_count": 3,
     "metadata": {},
     "output_type": "execute_result"
    }
   ],
   "source": [
    "df.head()"
   ]
  },
  {
   "cell_type": "markdown",
   "id": "2adb5782",
   "metadata": {},
   "source": [
    "Сразу удалим колонку с индексами и для удобства работы упростим названия остальных."
   ]
  },
  {
   "cell_type": "code",
   "execution_count": 4,
   "id": "dfe3e797",
   "metadata": {},
   "outputs": [],
   "source": [
    "df = df.iloc[:,1:]\n",
    "df.columns = ['temperature', 'luminosity', 'radius', 'magnitude','star_type','star_color']"
   ]
  },
  {
   "cell_type": "markdown",
   "id": "974f0e47",
   "metadata": {},
   "source": [
    "Разделим данные на признаки."
   ]
  },
  {
   "cell_type": "code",
   "execution_count": 5,
   "id": "0f5b69aa",
   "metadata": {},
   "outputs": [],
   "source": [
    "num_cols = ['luminosity','radius','magnitude'] #числовые признаки\n",
    "cat_cols = ['star_type', 'star_color'] #категориальные признаки\n",
    "target = ['temperature'] #целевой признак"
   ]
  },
  {
   "cell_type": "code",
   "execution_count": 6,
   "id": "8de3b12d",
   "metadata": {},
   "outputs": [
    {
     "name": "stdout",
     "output_type": "stream",
     "text": [
      "<class 'pandas.core.frame.DataFrame'>\n",
      "RangeIndex: 240 entries, 0 to 239\n",
      "Data columns (total 6 columns):\n",
      " #   Column       Non-Null Count  Dtype  \n",
      "---  ------       --------------  -----  \n",
      " 0   temperature  240 non-null    int64  \n",
      " 1   luminosity   240 non-null    float64\n",
      " 2   radius       240 non-null    float64\n",
      " 3   magnitude    240 non-null    float64\n",
      " 4   star_type    240 non-null    int64  \n",
      " 5   star_color   240 non-null    object \n",
      "dtypes: float64(3), int64(2), object(1)\n",
      "memory usage: 11.4+ KB\n"
     ]
    }
   ],
   "source": [
    "df.info()"
   ]
  },
  {
   "cell_type": "markdown",
   "id": "199c88df",
   "metadata": {},
   "source": [
    "Пропусков не обнаружено."
   ]
  },
  {
   "cell_type": "code",
   "execution_count": 7,
   "id": "cc89049b",
   "metadata": {
    "scrolled": true
   },
   "outputs": [
    {
     "data": {
      "text/plain": [
       "0"
      ]
     },
     "execution_count": 7,
     "metadata": {},
     "output_type": "execute_result"
    }
   ],
   "source": [
    "df.duplicated().sum()"
   ]
  },
  {
   "cell_type": "markdown",
   "id": "4b9b6f49",
   "metadata": {},
   "source": [
    "Явных дубликатов не обнаружено."
   ]
  },
  {
   "cell_type": "code",
   "execution_count": 8,
   "id": "8d3a9be8",
   "metadata": {},
   "outputs": [
    {
     "data": {
      "text/plain": [
       "array(['Red', 'Blue White', 'White', 'Yellowish White', 'Blue white',\n",
       "       'Pale yellow orange', 'Blue', 'Blue-white', 'Whitish',\n",
       "       'yellow-white', 'Orange', 'White-Yellow', 'white', 'Blue ',\n",
       "       'yellowish', 'Yellowish', 'Orange-Red', 'Blue white ',\n",
       "       'Blue-White'], dtype=object)"
      ]
     },
     "execution_count": 8,
     "metadata": {},
     "output_type": "execute_result"
    }
   ],
   "source": [
    "df['star_color'].unique() "
   ]
  },
  {
   "cell_type": "code",
   "execution_count": 9,
   "id": "4fbf93be",
   "metadata": {},
   "outputs": [
    {
     "data": {
      "text/plain": [
       "array([0, 1, 2, 3, 4, 5])"
      ]
     },
     "execution_count": 9,
     "metadata": {},
     "output_type": "execute_result"
    }
   ],
   "source": [
    "df['star_type'].unique()"
   ]
  },
  {
   "cell_type": "markdown",
   "id": "b9c3ef9b",
   "metadata": {},
   "source": [
    "В колонке star_color есть неявные дубликаты, исправим в следующем пункте."
   ]
  },
  {
   "cell_type": "code",
   "execution_count": 10,
   "id": "0ffce1c2",
   "metadata": {},
   "outputs": [
    {
     "data": {
      "text/html": [
       "<div>\n",
       "<style scoped>\n",
       "    .dataframe tbody tr th:only-of-type {\n",
       "        vertical-align: middle;\n",
       "    }\n",
       "\n",
       "    .dataframe tbody tr th {\n",
       "        vertical-align: top;\n",
       "    }\n",
       "\n",
       "    .dataframe thead th {\n",
       "        text-align: right;\n",
       "    }\n",
       "</style>\n",
       "<table border=\"1\" class=\"dataframe\">\n",
       "  <thead>\n",
       "    <tr style=\"text-align: right;\">\n",
       "      <th></th>\n",
       "      <th>temperature</th>\n",
       "      <th>luminosity</th>\n",
       "      <th>radius</th>\n",
       "      <th>magnitude</th>\n",
       "      <th>star_type</th>\n",
       "      <th>star_color</th>\n",
       "    </tr>\n",
       "  </thead>\n",
       "  <tbody>\n",
       "    <tr>\n",
       "      <th>count</th>\n",
       "      <td>240.000000</td>\n",
       "      <td>240.000000</td>\n",
       "      <td>240.000000</td>\n",
       "      <td>240.000000</td>\n",
       "      <td>240.000000</td>\n",
       "      <td>240</td>\n",
       "    </tr>\n",
       "    <tr>\n",
       "      <th>unique</th>\n",
       "      <td>NaN</td>\n",
       "      <td>NaN</td>\n",
       "      <td>NaN</td>\n",
       "      <td>NaN</td>\n",
       "      <td>NaN</td>\n",
       "      <td>19</td>\n",
       "    </tr>\n",
       "    <tr>\n",
       "      <th>top</th>\n",
       "      <td>NaN</td>\n",
       "      <td>NaN</td>\n",
       "      <td>NaN</td>\n",
       "      <td>NaN</td>\n",
       "      <td>NaN</td>\n",
       "      <td>Red</td>\n",
       "    </tr>\n",
       "    <tr>\n",
       "      <th>freq</th>\n",
       "      <td>NaN</td>\n",
       "      <td>NaN</td>\n",
       "      <td>NaN</td>\n",
       "      <td>NaN</td>\n",
       "      <td>NaN</td>\n",
       "      <td>112</td>\n",
       "    </tr>\n",
       "    <tr>\n",
       "      <th>mean</th>\n",
       "      <td>10497.462500</td>\n",
       "      <td>107188.361635</td>\n",
       "      <td>237.157781</td>\n",
       "      <td>4.382396</td>\n",
       "      <td>2.500000</td>\n",
       "      <td>NaN</td>\n",
       "    </tr>\n",
       "    <tr>\n",
       "      <th>std</th>\n",
       "      <td>9552.425037</td>\n",
       "      <td>179432.244940</td>\n",
       "      <td>517.155763</td>\n",
       "      <td>10.532512</td>\n",
       "      <td>1.711394</td>\n",
       "      <td>NaN</td>\n",
       "    </tr>\n",
       "    <tr>\n",
       "      <th>min</th>\n",
       "      <td>1939.000000</td>\n",
       "      <td>0.000080</td>\n",
       "      <td>0.008400</td>\n",
       "      <td>-11.920000</td>\n",
       "      <td>0.000000</td>\n",
       "      <td>NaN</td>\n",
       "    </tr>\n",
       "    <tr>\n",
       "      <th>25%</th>\n",
       "      <td>3344.250000</td>\n",
       "      <td>0.000865</td>\n",
       "      <td>0.102750</td>\n",
       "      <td>-6.232500</td>\n",
       "      <td>1.000000</td>\n",
       "      <td>NaN</td>\n",
       "    </tr>\n",
       "    <tr>\n",
       "      <th>50%</th>\n",
       "      <td>5776.000000</td>\n",
       "      <td>0.070500</td>\n",
       "      <td>0.762500</td>\n",
       "      <td>8.313000</td>\n",
       "      <td>2.500000</td>\n",
       "      <td>NaN</td>\n",
       "    </tr>\n",
       "    <tr>\n",
       "      <th>75%</th>\n",
       "      <td>15055.500000</td>\n",
       "      <td>198050.000000</td>\n",
       "      <td>42.750000</td>\n",
       "      <td>13.697500</td>\n",
       "      <td>4.000000</td>\n",
       "      <td>NaN</td>\n",
       "    </tr>\n",
       "    <tr>\n",
       "      <th>max</th>\n",
       "      <td>40000.000000</td>\n",
       "      <td>849420.000000</td>\n",
       "      <td>1948.500000</td>\n",
       "      <td>20.060000</td>\n",
       "      <td>5.000000</td>\n",
       "      <td>NaN</td>\n",
       "    </tr>\n",
       "  </tbody>\n",
       "</table>\n",
       "</div>"
      ],
      "text/plain": [
       "         temperature     luminosity       radius   magnitude   star_type  \\\n",
       "count     240.000000     240.000000   240.000000  240.000000  240.000000   \n",
       "unique           NaN            NaN          NaN         NaN         NaN   \n",
       "top              NaN            NaN          NaN         NaN         NaN   \n",
       "freq             NaN            NaN          NaN         NaN         NaN   \n",
       "mean    10497.462500  107188.361635   237.157781    4.382396    2.500000   \n",
       "std      9552.425037  179432.244940   517.155763   10.532512    1.711394   \n",
       "min      1939.000000       0.000080     0.008400  -11.920000    0.000000   \n",
       "25%      3344.250000       0.000865     0.102750   -6.232500    1.000000   \n",
       "50%      5776.000000       0.070500     0.762500    8.313000    2.500000   \n",
       "75%     15055.500000  198050.000000    42.750000   13.697500    4.000000   \n",
       "max     40000.000000  849420.000000  1948.500000   20.060000    5.000000   \n",
       "\n",
       "       star_color  \n",
       "count         240  \n",
       "unique         19  \n",
       "top           Red  \n",
       "freq          112  \n",
       "mean          NaN  \n",
       "std           NaN  \n",
       "min           NaN  \n",
       "25%           NaN  \n",
       "50%           NaN  \n",
       "75%           NaN  \n",
       "max           NaN  "
      ]
     },
     "execution_count": 10,
     "metadata": {},
     "output_type": "execute_result"
    }
   ],
   "source": [
    "df.describe(include = 'all')"
   ]
  },
  {
   "cell_type": "markdown",
   "id": "f4e6b982",
   "metadata": {},
   "source": [
    "- temperature содержит значения от 2000 градусов (красные звёзды) до 40000 градусов (голубые звезды).\n",
    "- В характеристиках luminosity, radius, magnitude очень большой разброс значений.\n",
    "- В star_color 19 уникальных значений. Нужно обработать."
   ]
  },
  {
   "cell_type": "markdown",
   "id": "d167912b",
   "metadata": {},
   "source": [
    "## Предобработка и анализ данных <a id=\"2\"></a>"
   ]
  },
  {
   "cell_type": "markdown",
   "id": "0e2f01ef",
   "metadata": {},
   "source": [
    "Исправим значения колонки star_color."
   ]
  },
  {
   "cell_type": "code",
   "execution_count": 11,
   "id": "77d896c1",
   "metadata": {},
   "outputs": [
    {
     "data": {
      "text/plain": [
       "Red                   112\n",
       "Blue                   55\n",
       "Blue-white             26\n",
       "Blue White             10\n",
       "yellow-white            8\n",
       "White                   7\n",
       "white                   3\n",
       "Yellowish White         3\n",
       "Blue white              3\n",
       "Whitish                 2\n",
       "Orange                  2\n",
       "yellowish               2\n",
       "Pale yellow orange      1\n",
       "Blue white              1\n",
       "Blue-White              1\n",
       "White-Yellow            1\n",
       "Orange-Red              1\n",
       "Yellowish               1\n",
       "Blue                    1\n",
       "Name: star_color, dtype: int64"
      ]
     },
     "execution_count": 11,
     "metadata": {},
     "output_type": "execute_result"
    }
   ],
   "source": [
    "df['star_color'].value_counts()"
   ]
  },
  {
   "cell_type": "markdown",
   "id": "026d6bea",
   "metadata": {},
   "source": [
    "Спектральная классификация делит звезды в порядке уменьшения температуры, от более голубых к более красным(классы O, B, A, F, G, K, M). Создадим функцию, чтобы перезаписать цвет звезды."
   ]
  },
  {
   "cell_type": "code",
   "execution_count": 12,
   "id": "05c1a20e",
   "metadata": {},
   "outputs": [],
   "source": [
    "def star_color(x):\n",
    "    if x > 30000:\n",
    "        return 'blue'\n",
    "    elif 30000 >= x > 10000:\n",
    "        return 'blue_white'\n",
    "    elif 10000 >= x > 7400:\n",
    "        return 'white'\n",
    "    elif 7400 >= x > 6000:\n",
    "        return 'yellow_white'\n",
    "    elif 6000 >= x > 5000:\n",
    "        return 'yellow'\n",
    "    elif 5000 >= x > 3800:\n",
    "        return 'orange'\n",
    "    else:\n",
    "        return 'red'"
   ]
  },
  {
   "cell_type": "code",
   "execution_count": 13,
   "id": "27cca227",
   "metadata": {},
   "outputs": [],
   "source": [
    "df['star_color'] = df['temperature'].apply(star_color)"
   ]
  },
  {
   "cell_type": "code",
   "execution_count": 14,
   "id": "60c63ee2",
   "metadata": {},
   "outputs": [
    {
     "data": {
      "text/plain": [
       "red             109\n",
       "blue_white       76\n",
       "white            21\n",
       "blue             14\n",
       "yellow_white      7\n",
       "orange            7\n",
       "yellow            6\n",
       "Name: star_color, dtype: int64"
      ]
     },
     "execution_count": 14,
     "metadata": {},
     "output_type": "execute_result"
    }
   ],
   "source": [
    "df['star_color'].value_counts()"
   ]
  },
  {
   "cell_type": "code",
   "execution_count": 15,
   "id": "7670d0ca",
   "metadata": {},
   "outputs": [
    {
     "data": {
      "image/png": "[encoded data removed]",
      "text/plain": [
       "<Figure size 774.5x720 with 20 Axes>"
      ]
     },
     "metadata": {
      "needs_background": "light"
     },
     "output_type": "display_data"
    }
   ],
   "source": [
    "sns.pairplot(df, hue='star_type');"
   ]
  },
  {
   "cell_type": "markdown",
   "id": "01024376",
   "metadata": {},
   "source": [
    "- С увеличением температуры начинает уменьшаться абсолютная звёздная величина.\n",
    "- При помощи радиуса можно выделить тип звезды.\n",
    "- Хорошо выделяются кластеры типа звезды в зависимости от абсолютной звёздой величины."
   ]
  },
  {
   "cell_type": "code",
   "execution_count": 16,
   "id": "02168e89",
   "metadata": {},
   "outputs": [
    {
     "data": {
      "image/png": "[encoded data removed]",
      "text/plain": [
       "<Figure size 1224x936 with 1 Axes>"
      ]
     },
     "metadata": {
      "needs_background": "light"
     },
     "output_type": "display_data"
    },
    {
     "data": {
      "image/png": "[encoded data removed]",
      "text/plain": [
       "<Figure size 1224x936 with 1 Axes>"
      ]
     },
     "metadata": {
      "needs_background": "light"
     },
     "output_type": "display_data"
    },
    {
     "data": {
      "image/png": "[encoded data removed]",
      "text/plain": [
       "<Figure size 1224x936 with 1 Axes>"
      ]
     },
     "metadata": {
      "needs_background": "light"
     },
     "output_type": "display_data"
    }
   ],
   "source": [
    "fig = plt.figure()\n",
    "for i in range(len(num_cols)):\n",
    "    plt.subplot(len(num_cols), 1, i+1)\n",
    "    df[num_cols[i]].plot(kind = 'hist', bins = 15, grid = True, legend = num_cols[i], figsize = (17,13))\n",
    "    plt.show()"
   ]
  },
  {
   "cell_type": "markdown",
   "id": "295aca8a",
   "metadata": {},
   "source": [
    "В первых двух столбцах большинство значений находится в диапазоне от 0 до 150, но задача связана с астрономией, а датасет не такой большой, чтобы обрабатывать его от выбросов. Попробуем оставить данные как есть."
   ]
  },
  {
   "cell_type": "code",
   "execution_count": 17,
   "id": "1bd803e5",
   "metadata": {},
   "outputs": [],
   "source": [
    "df['star_type'] = df['star_type'].astype(dtype='object')"
   ]
  },
  {
   "cell_type": "code",
   "execution_count": 18,
   "id": "776c8b03",
   "metadata": {},
   "outputs": [
    {
     "data": {
      "text/plain": [
       "0"
      ]
     },
     "execution_count": 18,
     "metadata": {},
     "output_type": "execute_result"
    }
   ],
   "source": [
    "df.duplicated().sum() "
   ]
  },
  {
   "cell_type": "markdown",
   "id": "funded-electric",
   "metadata": {},
   "source": [
    "## Построение базовой нейронной сети <a id=\"3\"></a>"
   ]
  },
  {
   "cell_type": "markdown",
   "id": "09bda218",
   "metadata": {},
   "source": [
    "Подготовим данные для нейронной сети."
   ]
  },
  {
   "cell_type": "code",
   "execution_count": 19,
   "id": "9fb07c8f",
   "metadata": {},
   "outputs": [
    {
     "name": "stdout",
     "output_type": "stream",
     "text": [
      "(192, 14) (48, 14)\n",
      "(192, 1) (48, 1)\n"
     ]
    },
    {
     "name": "stderr",
     "output_type": "stream",
     "text": [
      "/tmp/ipykernel_189/3504565368.py:11: SettingWithCopyWarning: \n",
      "A value is trying to be set on a copy of a slice from a DataFrame.\n",
      "Try using .loc[row_indexer,col_indexer] = value instead\n",
      "\n",
      "See the caveats in the documentation: https://pandas.pydata.org/pandas-docs/stable/user_guide/indexing.html#returning-a-view-versus-a-copy\n",
      "  X_train[num_cols] = scaler.fit_transform(X_train[num_cols])\n",
      "/opt/conda/lib/python3.9/site-packages/pandas/core/indexing.py:1738: SettingWithCopyWarning: \n",
      "A value is trying to be set on a copy of a slice from a DataFrame.\n",
      "Try using .loc[row_indexer,col_indexer] = value instead\n",
      "\n",
      "See the caveats in the documentation: https://pandas.pydata.org/pandas-docs/stable/user_guide/indexing.html#returning-a-view-versus-a-copy\n",
      "  self._setitem_single_column(loc, value[:, i].tolist(), pi)\n",
      "/tmp/ipykernel_189/3504565368.py:12: SettingWithCopyWarning: \n",
      "A value is trying to be set on a copy of a slice from a DataFrame.\n",
      "Try using .loc[row_indexer,col_indexer] = value instead\n",
      "\n",
      "See the caveats in the documentation: https://pandas.pydata.org/pandas-docs/stable/user_guide/indexing.html#returning-a-view-versus-a-copy\n",
      "  X_test[num_cols] = scaler.transform(X_test[num_cols])\n",
      "/opt/conda/lib/python3.9/site-packages/pandas/core/indexing.py:1738: SettingWithCopyWarning: \n",
      "A value is trying to be set on a copy of a slice from a DataFrame.\n",
      "Try using .loc[row_indexer,col_indexer] = value instead\n",
      "\n",
      "See the caveats in the documentation: https://pandas.pydata.org/pandas-docs/stable/user_guide/indexing.html#returning-a-view-versus-a-copy\n",
      "  self._setitem_single_column(loc, value[:, i].tolist(), pi)\n",
      "/opt/conda/lib/python3.9/site-packages/pandas/core/frame.py:4308: SettingWithCopyWarning: \n",
      "A value is trying to be set on a copy of a slice from a DataFrame\n",
      "\n",
      "See the caveats in the documentation: https://pandas.pydata.org/pandas-docs/stable/user_guide/indexing.html#returning-a-view-versus-a-copy\n",
      "  return super().drop(\n",
      "/opt/conda/lib/python3.9/site-packages/pandas/core/frame.py:4308: SettingWithCopyWarning: \n",
      "A value is trying to be set on a copy of a slice from a DataFrame\n",
      "\n",
      "See the caveats in the documentation: https://pandas.pydata.org/pandas-docs/stable/user_guide/indexing.html#returning-a-view-versus-a-copy\n",
      "  return super().drop(\n"
     ]
    }
   ],
   "source": [
    "X = df.drop(target, axis = 1).copy()\n",
    "y = df[target].copy()\n",
    "\n",
    "X_train, X_test, y_train, y_test = train_test_split(X,y, test_size=0.2, random_state=42)\n",
    "\n",
    "for i in [X_train, X_test, y_train, y_test]:\n",
    "    i.reset_index(drop=True, inplace=True)\n",
    "    \n",
    "scaler = StandardScaler()\n",
    "\n",
    "X_train[num_cols] = scaler.fit_transform(X_train[num_cols])\n",
    "X_test[num_cols] = scaler.transform(X_test[num_cols])\n",
    "\n",
    "encoder = OneHotEncoder(sparse=False, drop = 'first', handle_unknown = 'error')\n",
    "\n",
    "X_train_cat = pd.DataFrame(encoder.fit_transform(X_train.loc[:,cat_cols]))\n",
    "X_train_cat.columns = encoder.get_feature_names(cat_cols)\n",
    "X_train.drop(cat_cols, axis = 1, inplace = True)\n",
    "X_train = pd.concat([X_train, X_train_cat], axis = 1)\n",
    "\n",
    "X_test_cat = pd.DataFrame(encoder.transform(X_test.loc[:,cat_cols]))\n",
    "X_test_cat.columns = encoder.get_feature_names(cat_cols)\n",
    "X_test.drop(cat_cols, axis = 1, inplace = True)\n",
    "X_test = pd.concat([X_test, X_test_cat], axis = 1)\n",
    "\n",
    "\n",
    "print(X_train.shape, X_test.shape)\n",
    "print(y_train.shape, y_test.shape)"
   ]
  },
  {
   "cell_type": "markdown",
   "id": "36acfa97",
   "metadata": {},
   "source": [
    "Переведём данные к тензорам."
   ]
  },
  {
   "cell_type": "code",
   "execution_count": 20,
   "id": "e47c60a8",
   "metadata": {},
   "outputs": [],
   "source": [
    "X_train = torch.FloatTensor(X_train.values)\n",
    "X_test  = torch.FloatTensor(X_test.values)\n",
    "y_train  = torch.FloatTensor(y_train.values)\n",
    "y_test = torch.FloatTensor(y_test.values)"
   ]
  },
  {
   "cell_type": "markdown",
   "id": "4ac0af16",
   "metadata": {},
   "source": [
    "Настроим количество нейронов на слоях сети."
   ]
  },
  {
   "cell_type": "code",
   "execution_count": 21,
   "id": "b8d43f0d",
   "metadata": {},
   "outputs": [],
   "source": [
    "n_in_neurons = 14\n",
    "n_hidden_neurons_1 = 50\n",
    "n_hidden_neurons_2 = 20\n",
    "n_out_neurons = 1"
   ]
  },
  {
   "cell_type": "markdown",
   "id": "3413d367",
   "metadata": {},
   "source": [
    "Создадим класс для задания архитектуры нейронной сети."
   ]
  },
  {
   "cell_type": "code",
   "execution_count": 22,
   "id": "2cd047ad",
   "metadata": {},
   "outputs": [],
   "source": [
    "class Model(nn.Module):\n",
    "    def __init__(self, n_in_neurons, n_hidden_neurons_1, n_hidden_neurons_2, n_out_neurons):\n",
    "        super(Model, self).__init__()\n",
    "        \n",
    "        self.fc1 = nn.Linear(n_in_neurons, n_hidden_neurons_1)\n",
    "        self.act1 = nn.ReLU()\n",
    "        self.fc2 = nn.Linear(n_hidden_neurons_1, n_hidden_neurons_2)\n",
    "        self.act2 = nn.ReLU()\n",
    "        self.fc3 = nn.Linear(n_hidden_neurons_2, n_out_neurons)\n",
    "\n",
    "    def forward(self, x):\n",
    "        x = self.fc1(x)\n",
    "        x = self.act1(x)\n",
    "        x = self.fc2(x)\n",
    "        x = self.act2(x)\n",
    "        x = self.fc3(x)\n",
    "        \n",
    "        return x       "
   ]
  },
  {
   "cell_type": "code",
   "execution_count": 23,
   "id": "25e09bd0",
   "metadata": {},
   "outputs": [],
   "source": [
    "net = Model(n_in_neurons, n_hidden_neurons_1, n_hidden_neurons_2, n_out_neurons) #модель \n",
    "loss=nn.MSELoss()\n",
    "\n",
    "optimizer = torch.optim.Adam(net.parameters(), lr=1e-3)\n",
    "optimizer1 = torch.optim.RMSprop(net.parameters(), lr=1e-3)\n",
    "optimizer2 = torch.optim.Adam(net.parameters(), lr=1e-2)\n",
    "optimizer3 = torch.optim.Adamax(net.parameters(), lr=1e-2)"
   ]
  },
  {
   "cell_type": "code",
   "execution_count": 24,
   "id": "22c75ff3",
   "metadata": {},
   "outputs": [],
   "source": [
    "def cross_vall_score(model, X_train, y_train, optim, num_epochs, batch_size, k=4, loss=nn.MSELoss()):\n",
    "    '''Функция для кросс-валидации нейронной сети'''\n",
    "    num_batches = ceil(len(X_train)/batch_size) # количество батчей \n",
    "    num_val_samples = len(X_train)//k # размер валидационной выборки \n",
    "    all_scores = []\n",
    "    \n",
    "    for i in range(k): \n",
    "        #разбиваем на валидационную и тренировочную выборку \n",
    "        print('processing fold #', i+1, end='  ')\n",
    "        \n",
    "        #обнуляем веса нейронной сети\n",
    "        for layer in model.children():\n",
    "            if hasattr(layer, 'reset_parameters'):\n",
    "                layer.reset_parameters()\n",
    "            \n",
    "        #валидационная выборка\n",
    "        val_data = X_train[i*num_val_samples: (i+1)*num_val_samples]\n",
    "        val_targets = y_train[i*num_val_samples: (i+1)*num_val_samples]\n",
    "        \n",
    "        #тренировочная выборка\n",
    "        partial_train_data = np.concatenate([X_train[:i*num_val_samples], X_train[(i+1)*num_val_samples:]], axis = 0)\n",
    "        partial_train_targets = np.concatenate([y_train[:i*num_val_samples], y_train[(i+1)*num_val_samples:]], axis = 0)\n",
    "        \n",
    "        #приводим наши данные к формату FloatTensor\n",
    "        val_data = torch.FloatTensor(val_data)\n",
    "        val_targets = torch.FloatTensor(val_targets)\n",
    "        partial_train_data = torch.FloatTensor(partial_train_data)\n",
    "        partial_train_targets = torch.FloatTensor(partial_train_targets)\n",
    "        \n",
    "        for epoch in range(num_epochs):\n",
    "            #создаем случайную перестановку индексов для каждой эпохи\n",
    "            order = np.random.permutation(len(partial_train_data))\n",
    "            for batch_idx in range(num_batches):\n",
    "                start_index = batch_idx * batch_size #стартовый индекс батча\n",
    "                optim.zero_grad() #обнуляем градиаенты\n",
    "                \n",
    "                #извлекаем батч\n",
    "                batch_indexes = order[start_index:start_index+batch_size]\n",
    "                X_batch = partial_train_data[batch_indexes]\n",
    "                y_batch = partial_train_targets[batch_indexes]\n",
    "                \n",
    "                preds = net.forward(X_batch).flatten() #получаем предсказание\n",
    "                loss_value = loss(preds, y_batch.flatten()) #высчитываем ошибку\n",
    "                loss_value.backward()\n",
    "                optim.step()\n",
    "                \n",
    "            if epoch == num_epochs-1:\n",
    "                model.eval()\n",
    "                val_preds = model.forward(val_data)\n",
    "                RMSE_loss = torch.sqrt(loss(val_targets, val_preds))\n",
    "                all_scores.append(RMSE_loss)\n",
    "                print('RMSE метрика =', float(RMSE_loss))\n",
    "    print('Средняя RMSE метрика =', int(sum(all_scores)/len(all_scores)),  '\\n')\n",
    "    return"
   ]
  },
  {
   "cell_type": "code",
   "execution_count": 25,
   "id": "de9cac06",
   "metadata": {},
   "outputs": [
    {
     "name": "stdout",
     "output_type": "stream",
     "text": [
      "Adam (\n",
      "Parameter Group 0\n",
      "    amsgrad: False\n",
      "    betas: (0.9, 0.999)\n",
      "    eps: 1e-08\n",
      "    lr: 0.001\n",
      "    weight_decay: 0\n",
      ")\n",
      "processing fold # 1  RMSE метрика = 5103.88916015625\n",
      "processing fold # 2  RMSE метрика = 5865.4267578125\n",
      "processing fold # 3  RMSE метрика = 4580.87255859375\n",
      "processing fold # 4  RMSE метрика = 5860.73974609375\n",
      "Средняя RMSE метрика = 5352 \n",
      "\n",
      "RMSprop (\n",
      "Parameter Group 0\n",
      "    alpha: 0.99\n",
      "    centered: False\n",
      "    eps: 1e-08\n",
      "    lr: 0.001\n",
      "    momentum: 0\n",
      "    weight_decay: 0\n",
      ")\n",
      "processing fold # 1  RMSE метрика = 5318.1103515625\n",
      "processing fold # 2  RMSE метрика = 6392.1640625\n",
      "processing fold # 3  RMSE метрика = 4892.75830078125\n",
      "processing fold # 4  RMSE метрика = 7491.51220703125\n",
      "Средняя RMSE метрика = 6023 \n",
      "\n",
      "Adam (\n",
      "Parameter Group 0\n",
      "    amsgrad: False\n",
      "    betas: (0.9, 0.999)\n",
      "    eps: 1e-08\n",
      "    lr: 0.01\n",
      "    weight_decay: 0\n",
      ")\n",
      "processing fold # 1  RMSE метрика = 3907.029052734375\n",
      "processing fold # 2  RMSE метрика = 3246.30029296875\n",
      "processing fold # 3  RMSE метрика = 3022.022216796875\n",
      "processing fold # 4  RMSE метрика = 4271.73974609375\n",
      "Средняя RMSE метрика = 3611 \n",
      "\n",
      "Adamax (\n",
      "Parameter Group 0\n",
      "    betas: (0.9, 0.999)\n",
      "    eps: 1e-08\n",
      "    lr: 0.01\n",
      "    weight_decay: 0\n",
      ")\n",
      "processing fold # 1  RMSE метрика = 3819.27001953125\n",
      "processing fold # 2  RMSE метрика = 3393.2158203125\n",
      "processing fold # 3  RMSE метрика = 3001.046875\n",
      "processing fold # 4  RMSE метрика = 3546.392578125\n",
      "Средняя RMSE метрика = 3439 \n",
      "\n"
     ]
    }
   ],
   "source": [
    "x = [optimizer, optimizer1, optimizer2, optimizer3]\n",
    "\n",
    "for i in x:\n",
    "    print(i)\n",
    "    cross_vall_score(net, X_train, y_train, i, 250,6)"
   ]
  },
  {
   "cell_type": "markdown",
   "id": "785cbfbe",
   "metadata": {},
   "source": [
    "Лучше всего себя показала оптимизация Adamax с шагом сходимости в 0.01."
   ]
  },
  {
   "cell_type": "code",
   "execution_count": 26,
   "id": "a8c3a2b8",
   "metadata": {},
   "outputs": [],
   "source": [
    "def neiron(model, X_train, y_train, optim, batch_size, num_epochs = 250):\n",
    "    '''Функция обучает нейронную сеть батчами с заданным количеством эпох'''\n",
    "    num_batches = ceil(len(X_train)/batch_size)\n",
    "    for epoch in range(num_epochs):\n",
    "        order = np.random.permutation(len(X_train))\n",
    "        for batch_idx in range(num_batches):\n",
    "            start_index = batch_idx * batch_size \n",
    "            optim.zero_grad() \n",
    "        \n",
    "            batch_indexes = order[start_index:start_index+batch_size] #индексы объектов текущего обатча\n",
    "            X_batch = X_train[batch_indexes]\n",
    "            y_batch = y_train[batch_indexes]\n",
    "        \n",
    "            preds = model.forward(X_batch).flatten() \n",
    "            loss_value = loss(preds, y_batch.flatten())\n",
    "            loss_value.backward()\n",
    "            optim.step()\n",
    "    return  model"
   ]
  },
  {
   "cell_type": "code",
   "execution_count": 27,
   "id": "de58b24f",
   "metadata": {},
   "outputs": [],
   "source": [
    "net = neiron(net, X_train, y_train, optimizer3, batch_size=6) #обучаем модель с заданными параметрами "
   ]
  },
  {
   "cell_type": "code",
   "execution_count": 28,
   "id": "121f66a4",
   "metadata": {},
   "outputs": [
    {
     "name": "stdout",
     "output_type": "stream",
     "text": [
      "RMSE нейронной сети на тестовой выборке =  3518\n"
     ]
    }
   ],
   "source": [
    "net.eval()\n",
    "test_preds = net.forward(X_test)\n",
    "print('RMSE нейронной сети на тестовой выборке = ', int(torch.sqrt(loss(y_test, test_preds))))"
   ]
  },
  {
   "cell_type": "code",
   "execution_count": 29,
   "id": "b87fe8eb",
   "metadata": {},
   "outputs": [],
   "source": [
    "def vizualization(target, preds, width = 0.3):\n",
    "    '''Визуализирует предсказания нейронной сети на тестовой выборке'''\n",
    "    y1 = target.numpy().reshape([-1])\n",
    "    y2 = preds.reshape([-1]).detach().numpy()\n",
    "    x = np.arange(len(y1))\n",
    "    \n",
    "    fig,ax = plt.subplots()\n",
    "    rects1 = ax.bar(x - width/2, y1, width, label = 'Факт')\n",
    "    rects2 = ax.bar(x + width/2, y2, width, label = 'Прогноз')\n",
    "    ax.set_title('Факт-Прогноз')\n",
    "    ax.set_xticks(x)\n",
    "    ax.set_xlabel('Номер звезды в таблице данных')\n",
    "    ax.set_ylabel('Температура звезды')\n",
    "    fig.set_figwidth(17)\n",
    "    fig.set_figheight(10)\n",
    "    ax.legend();"
   ]
  },
  {
   "cell_type": "code",
   "execution_count": 30,
   "id": "cf3fc423",
   "metadata": {},
   "outputs": [
    {
     "data": {
      "image/png": "[encoded data removed]",
      "text/plain": [
       "<Figure size 1224x720 with 1 Axes>"
      ]
     },
     "metadata": {
      "needs_background": "light"
     },
     "output_type": "display_data"
    }
   ],
   "source": [
    "vizualization(y_test, test_preds)"
   ]
  },
  {
   "cell_type": "markdown",
   "id": "50f54ae1",
   "metadata": {},
   "source": [
    "Нейронная сеть очень хорошо предсказывает температуру звёзд, у которых значение до 5000 градусов. В целом, по графику видно, что модель не сильно ошибается."
   ]
  },
  {
   "cell_type": "markdown",
   "id": "growing-supply",
   "metadata": {},
   "source": [
    "## Улучшение нейронной сети <a id=\"4\"></a>"
   ]
  },
  {
   "cell_type": "markdown",
   "id": "ed2705a6",
   "metadata": {},
   "source": [
    "Для улучшения нейронной сети попробуем применить Dropout и изменить размер батча. Далее проверим, позволят ли данные методы улучшить нашу нейронную сеть."
   ]
  },
  {
   "cell_type": "code",
   "execution_count": 31,
   "id": "81f16e31",
   "metadata": {},
   "outputs": [],
   "source": [
    "class Model(nn.Module):\n",
    "    def __init__(self, n_in_neurons, n_hidden_neurons_1, n_hidden_neurons_2, n_out_neurons, dp):\n",
    "        super(Model, self).__init__()\n",
    "        \n",
    "        self.fc1 = nn.Linear(n_in_neurons, n_hidden_neurons_1)\n",
    "        self.act1 = nn.ReLU()\n",
    "        self.dp2 = nn.Dropout(p=dp)\n",
    "        self.fc2 = nn.Linear(n_hidden_neurons_1, n_hidden_neurons_2)\n",
    "        self.act2 = nn.ReLU()\n",
    "        self.fc3 = nn.Linear(n_hidden_neurons_2, n_out_neurons)\n",
    "\n",
    "    def forward(self, x):\n",
    "        x = self.fc1(x)\n",
    "        x = self.act1(x)\n",
    "        x = self.dp2(x)\n",
    "        x = self.fc2(x)\n",
    "        x = self.act2(x)\n",
    "        x = self.fc3(x)\n",
    "        \n",
    "        return x       "
   ]
  },
  {
   "cell_type": "code",
   "execution_count": 32,
   "id": "59baec92",
   "metadata": {},
   "outputs": [
    {
     "name": "stdout",
     "output_type": "stream",
     "text": [
      "dp= 0.2\n",
      "batch_size= 3\n",
      "processing fold # 1  RMSE метрика = 3659.973876953125\n",
      "processing fold # 2  RMSE метрика = 3145.897216796875\n",
      "processing fold # 3  RMSE метрика = 2455.226318359375\n",
      "processing fold # 4  RMSE метрика = 3423.6552734375\n",
      "Средняя RMSE метрика = 3171 \n",
      "\n",
      "batch_size= 6\n",
      "processing fold # 1  RMSE метрика = 3848.62060546875\n",
      "processing fold # 2  RMSE метрика = 3700.69677734375\n",
      "processing fold # 3  RMSE метрика = 2607.563232421875\n",
      "processing fold # 4  RMSE метрика = 3888.0400390625\n",
      "Средняя RMSE метрика = 3511 \n",
      "\n",
      "batch_size= 8\n",
      "processing fold # 1  RMSE метрика = 3787.241943359375\n",
      "processing fold # 2  RMSE метрика = 4704.1650390625\n",
      "processing fold # 3  RMSE метрика = 3162.466064453125\n",
      "processing fold # 4  RMSE метрика = 4025.2275390625\n",
      "Средняя RMSE метрика = 3919 \n",
      "\n",
      "batch_size= 12\n",
      "processing fold # 1  RMSE метрика = 4416.78515625\n",
      "processing fold # 2  RMSE метрика = 4679.2890625\n",
      "processing fold # 3  RMSE метрика = 3928.552001953125\n",
      "processing fold # 4  RMSE метрика = 4252.68359375\n",
      "Средняя RMSE метрика = 4319 \n",
      "\n",
      "batch_size= 16\n",
      "processing fold # 1  RMSE метрика = 4485.876953125\n",
      "processing fold # 2  RMSE метрика = 5233.6572265625\n",
      "processing fold # 3  RMSE метрика = 3928.15576171875\n",
      "processing fold # 4  RMSE метрика = 5488.22412109375\n",
      "Средняя RMSE метрика = 4783 \n",
      "\n",
      "dp= 0.3\n",
      "batch_size= 3\n",
      "processing fold # 1  RMSE метрика = 3616.3466796875\n",
      "processing fold # 2  RMSE метрика = 3457.321044921875\n",
      "processing fold # 3  RMSE метрика = 2378.58203125\n",
      "processing fold # 4  RMSE метрика = 3481.643310546875\n",
      "Средняя RMSE метрика = 3233 \n",
      "\n",
      "batch_size= 6\n",
      "processing fold # 1  RMSE метрика = 3781.21142578125\n",
      "processing fold # 2  RMSE метрика = 3536.8115234375\n",
      "processing fold # 3  RMSE метрика = 3170.720947265625\n",
      "processing fold # 4  RMSE метрика = 3605.13720703125\n",
      "Средняя RMSE метрика = 3523 \n",
      "\n",
      "batch_size= 8\n",
      "processing fold # 1  RMSE метрика = 4049.6298828125\n",
      "processing fold # 2  RMSE метрика = 4068.256591796875\n",
      "processing fold # 3  RMSE метрика = 3066.16357421875\n",
      "processing fold # 4  RMSE метрика = 3490.7998046875\n",
      "Средняя RMSE метрика = 3668 \n",
      "\n",
      "batch_size= 12\n",
      "processing fold # 1  RMSE метрика = 4356.34326171875\n",
      "processing fold # 2  RMSE метрика = 4892.14501953125\n",
      "processing fold # 3  RMSE метрика = 3669.790771484375\n",
      "processing fold # 4  RMSE метрика = 4253.65869140625\n",
      "Средняя RMSE метрика = 4292 \n",
      "\n",
      "batch_size= 16\n",
      "processing fold # 1  RMSE метрика = 4485.64501953125\n",
      "processing fold # 2  RMSE метрика = 5258.6962890625\n",
      "processing fold # 3  RMSE метрика = 3986.779296875\n",
      "processing fold # 4  RMSE метрика = 5468.2822265625\n",
      "Средняя RMSE метрика = 4799 \n",
      "\n",
      "dp= 0.7\n",
      "batch_size= 3\n",
      "processing fold # 1  RMSE метрика = 4555.22412109375\n",
      "processing fold # 2  RMSE метрика = 3261.102783203125\n",
      "processing fold # 3  RMSE метрика = 2489.0888671875\n",
      "processing fold # 4  RMSE метрика = 3368.730224609375\n",
      "Средняя RMSE метрика = 3418 \n",
      "\n",
      "batch_size= 6\n",
      "processing fold # 1  RMSE метрика = 3761.4052734375\n",
      "processing fold # 2  RMSE метрика = 3543.083740234375\n",
      "processing fold # 3  RMSE метрика = 2853.0927734375\n",
      "processing fold # 4  RMSE метрика = 4007.72314453125\n",
      "Средняя RMSE метрика = 3541 \n",
      "\n",
      "batch_size= 8\n",
      "processing fold # 1  RMSE метрика = 4035.39794921875\n",
      "processing fold # 2  RMSE метрика = 4166.3291015625\n",
      "processing fold # 3  RMSE метрика = 2930.420654296875\n",
      "processing fold # 4  RMSE метрика = 3978.417724609375\n",
      "Средняя RMSE метрика = 3777 \n",
      "\n",
      "batch_size= 12\n",
      "processing fold # 1  RMSE метрика = 4241.564453125\n",
      "processing fold # 2  RMSE метрика = 4924.9462890625\n",
      "processing fold # 3  RMSE метрика = 3015.26123046875\n",
      "processing fold # 4  RMSE метрика = 4124.19970703125\n",
      "Средняя RMSE метрика = 4076 \n",
      "\n",
      "batch_size= 16\n",
      "processing fold # 1  RMSE метрика = 4558.2900390625\n",
      "processing fold # 2  RMSE метрика = 5422.0380859375\n",
      "processing fold # 3  RMSE метрика = 3985.896728515625\n",
      "processing fold # 4  RMSE метрика = 5104.0634765625\n",
      "Средняя RMSE метрика = 4767 \n",
      "\n"
     ]
    }
   ],
   "source": [
    "for i in [0.2, 0.3, 0.7]:\n",
    "    net = Model(n_in_neurons, n_hidden_neurons_1, n_hidden_neurons_2, n_out_neurons,i) \n",
    "    loss=nn.MSELoss()\n",
    "    print('dp=', i)\n",
    "    for y in [3, 6, 8, 12, 16]:\n",
    "        print('batch_size=', y)\n",
    "        cross_vall_score(net, X_train, y_train, torch.optim.Adamax(net.parameters(), lr=1e-2), 250, y)"
   ]
  },
  {
   "cell_type": "markdown",
   "id": "b2e53f50",
   "metadata": {},
   "source": [
    "Лучший результат получили при значении dropout=0.2 и размере батча = 3."
   ]
  },
  {
   "cell_type": "markdown",
   "id": "75228498",
   "metadata": {},
   "source": [
    "Сохраним модель с параметрами."
   ]
  },
  {
   "cell_type": "code",
   "execution_count": 34,
   "id": "23947b43",
   "metadata": {},
   "outputs": [],
   "source": [
    "net = Model(n_in_neurons, n_hidden_neurons_1, n_hidden_neurons_2, n_out_neurons, 0.2) \n",
    "loss=nn.MSELoss()"
   ]
  },
  {
   "cell_type": "code",
   "execution_count": 35,
   "id": "dbed0809",
   "metadata": {},
   "outputs": [
    {
     "name": "stdout",
     "output_type": "stream",
     "text": [
      "processing fold # 1  RMSE метрика = 3661.970947265625\n",
      "processing fold # 2  RMSE метрика = 3112.0556640625\n",
      "processing fold # 3  RMSE метрика = 2615.41650390625\n",
      "processing fold # 4  RMSE метрика = 3561.285888671875\n",
      "Средняя RMSE метрика = 3237 \n",
      "\n"
     ]
    }
   ],
   "source": [
    "cross_vall_score(net, X_train, y_train, torch.optim.Adamax(net.parameters(), lr=1e-2), 250, 3)"
   ]
  },
  {
   "cell_type": "code",
   "execution_count": 36,
   "id": "cf84f915",
   "metadata": {},
   "outputs": [],
   "source": [
    "net = neiron(net, X_train, y_train, torch.optim.Adamax(net.parameters()), batch_size=3)"
   ]
  },
  {
   "cell_type": "code",
   "execution_count": 37,
   "id": "d87da692",
   "metadata": {},
   "outputs": [
    {
     "name": "stdout",
     "output_type": "stream",
     "text": [
      "RMSE нейронной сети на тестовой выборке =  3501\n"
     ]
    }
   ],
   "source": [
    "net.eval()\n",
    "test_preds = net.forward(X_test)\n",
    "print('RMSE нейронной сети на тестовой выборке = ', int(torch.sqrt(loss(y_test, test_preds))))"
   ]
  },
  {
   "cell_type": "markdown",
   "id": "d2e4199f",
   "metadata": {},
   "source": [
    "Получилось немного, но улучшить модель."
   ]
  },
  {
   "cell_type": "code",
   "execution_count": 38,
   "id": "ff2608b8",
   "metadata": {},
   "outputs": [
    {
     "data": {
      "image/png": "[encoded data removed]",
      "text/plain": [
       "<Figure size 1224x720 with 1 Axes>"
      ]
     },
     "metadata": {
      "needs_background": "light"
     },
     "output_type": "display_data"
    }
   ],
   "source": [
    "vizualization(y_test, test_preds)"
   ]
  },
  {
   "cell_type": "markdown",
   "id": "accurate-infrastructure",
   "metadata": {},
   "source": [
    "## Выводы <a id=\"5\"></a>"
   ]
  },
  {
   "cell_type": "markdown",
   "id": "00548e7e",
   "metadata": {},
   "source": [
    "В ходе проекта была построена модель нейронной сети. При использовании подобранной оптимизации Adamax с шагом сходимости в 0.01, размером батча = 3 и исключением, равным 0.3, удалось достичь значения метрики rmse = 3501. Полученная нейронная сеть отлично предсказывает температуру звёзд до 5000 градусов. По графикам, представленным в проекте, видно, что модель в целом хорошо справляется с поставленной задачей."
   ]
  },
  {
   "cell_type": "code",
   "execution_count": null,
   "id": "dfe27053",
   "metadata": {},
   "outputs": [],
   "source": []
  }
 ],
 "metadata": {
  "ExecuteTimeLog": [
   {
    "duration": 7439,
    "start_time": "2023-07-30T19:40:30.299Z"
   },
   {
    "duration": 4,
    "start_time": "2023-07-30T19:41:13.735Z"
   },
   {
    "duration": 47,
    "start_time": "2023-07-30T19:41:19.920Z"
   },
   {
    "duration": 59,
    "start_time": "2023-07-30T19:41:39.520Z"
   },
   {
    "duration": 75,
    "start_time": "2023-07-30T19:42:12.639Z"
   },
   {
    "duration": 17,
    "start_time": "2023-07-30T19:42:24.442Z"
   },
   {
    "duration": 5,
    "start_time": "2023-07-30T19:43:28.669Z"
   },
   {
    "duration": 3,
    "start_time": "2023-07-30T19:43:53.362Z"
   },
   {
    "duration": 5,
    "start_time": "2023-07-30T19:43:55.799Z"
   },
   {
    "duration": 5,
    "start_time": "2023-07-30T19:44:08.144Z"
   },
   {
    "duration": 35,
    "start_time": "2023-07-30T19:44:09.456Z"
   },
   {
    "duration": 9,
    "start_time": "2023-07-30T19:44:55.731Z"
   },
   {
    "duration": 16,
    "start_time": "2023-07-30T19:45:22.367Z"
   },
   {
    "duration": 6,
    "start_time": "2023-07-30T19:45:43.234Z"
   },
   {
    "duration": 6970,
    "start_time": "2023-07-30T19:46:07.841Z"
   },
   {
    "duration": 6,
    "start_time": "2023-07-30T19:47:09.038Z"
   },
   {
    "duration": 5,
    "start_time": "2023-07-30T19:47:57.448Z"
   },
   {
    "duration": 5,
    "start_time": "2023-07-30T19:48:12.438Z"
   },
   {
    "duration": 8,
    "start_time": "2023-07-30T19:48:23.611Z"
   },
   {
    "duration": 4,
    "start_time": "2023-07-30T19:48:36.964Z"
   },
   {
    "duration": 3061,
    "start_time": "2023-07-31T14:56:23.254Z"
   },
   {
    "duration": 71,
    "start_time": "2023-07-31T14:56:26.317Z"
   },
   {
    "duration": 22,
    "start_time": "2023-07-31T14:56:26.389Z"
   },
   {
    "duration": 26,
    "start_time": "2023-07-31T14:56:26.412Z"
   },
   {
    "duration": 38,
    "start_time": "2023-07-31T14:56:26.440Z"
   },
   {
    "duration": 9,
    "start_time": "2023-07-31T14:56:26.479Z"
   },
   {
    "duration": 40,
    "start_time": "2023-07-31T14:56:26.490Z"
   },
   {
    "duration": 37,
    "start_time": "2023-07-31T14:56:26.532Z"
   },
   {
    "duration": 49,
    "start_time": "2023-07-31T14:56:26.571Z"
   },
   {
    "duration": 6,
    "start_time": "2023-07-31T14:56:26.622Z"
   },
   {
    "duration": 5286,
    "start_time": "2023-07-31T14:56:26.629Z"
   },
   {
    "duration": 6,
    "start_time": "2023-07-31T14:56:31.917Z"
   },
   {
    "duration": 25,
    "start_time": "2023-07-31T14:56:31.924Z"
   },
   {
    "duration": 33,
    "start_time": "2023-07-31T14:56:31.951Z"
   },
   {
    "duration": 33,
    "start_time": "2023-07-31T14:56:31.985Z"
   },
   {
    "duration": 30,
    "start_time": "2023-07-31T14:56:32.020Z"
   },
   {
    "duration": 4,
    "start_time": "2023-07-31T14:59:05.977Z"
   },
   {
    "duration": 27,
    "start_time": "2023-07-31T14:59:07.647Z"
   },
   {
    "duration": 9,
    "start_time": "2023-07-31T14:59:08.524Z"
   },
   {
    "duration": 153,
    "start_time": "2023-07-31T14:59:10.375Z"
   },
   {
    "duration": 4,
    "start_time": "2023-07-31T14:59:57.454Z"
   },
   {
    "duration": 19,
    "start_time": "2023-07-31T15:01:06.197Z"
   },
   {
    "duration": 3,
    "start_time": "2023-07-31T15:01:25.547Z"
   },
   {
    "duration": 27,
    "start_time": "2023-07-31T15:02:46.328Z"
   },
   {
    "duration": 9,
    "start_time": "2023-07-31T15:02:46.947Z"
   },
   {
    "duration": 4,
    "start_time": "2023-07-31T15:02:48.130Z"
   },
   {
    "duration": 3,
    "start_time": "2023-07-31T15:02:49.115Z"
   },
   {
    "duration": 27,
    "start_time": "2023-07-31T15:03:27.414Z"
   },
   {
    "duration": 9,
    "start_time": "2023-07-31T15:03:28.054Z"
   },
   {
    "duration": 4,
    "start_time": "2023-07-31T15:03:28.713Z"
   },
   {
    "duration": 2,
    "start_time": "2023-07-31T15:03:30.773Z"
   },
   {
    "duration": 26,
    "start_time": "2023-07-31T15:04:38.250Z"
   },
   {
    "duration": 8,
    "start_time": "2023-07-31T15:04:38.915Z"
   },
   {
    "duration": 3,
    "start_time": "2023-07-31T15:04:39.921Z"
   },
   {
    "duration": 12,
    "start_time": "2023-07-31T15:04:40.664Z"
   },
   {
    "duration": 4,
    "start_time": "2023-07-31T15:04:44.173Z"
   },
   {
    "duration": 11,
    "start_time": "2023-07-31T15:04:52.284Z"
   },
   {
    "duration": 27,
    "start_time": "2023-07-31T15:26:16.731Z"
   },
   {
    "duration": 9,
    "start_time": "2023-07-31T15:26:17.630Z"
   },
   {
    "duration": 4,
    "start_time": "2023-07-31T15:28:34.916Z"
   },
   {
    "duration": 13,
    "start_time": "2023-07-31T15:28:35.737Z"
   },
   {
    "duration": 27,
    "start_time": "2023-07-31T15:40:54.936Z"
   },
   {
    "duration": 8,
    "start_time": "2023-07-31T15:40:55.618Z"
   },
   {
    "duration": 4,
    "start_time": "2023-07-31T15:40:58.961Z"
   },
   {
    "duration": 3,
    "start_time": "2023-07-31T15:41:00.229Z"
   },
   {
    "duration": 10,
    "start_time": "2023-07-31T15:41:01.092Z"
   },
   {
    "duration": 6,
    "start_time": "2023-07-31T15:41:04.071Z"
   },
   {
    "duration": 4,
    "start_time": "2023-07-31T15:41:05.432Z"
   },
   {
    "duration": 5,
    "start_time": "2023-07-31T15:41:07.630Z"
   },
   {
    "duration": 19,
    "start_time": "2023-07-31T15:41:09.037Z"
   },
   {
    "duration": 3239,
    "start_time": "2023-07-31T15:51:05.740Z"
   },
   {
    "duration": 3741,
    "start_time": "2023-07-31T15:51:15.944Z"
   },
   {
    "duration": 5,
    "start_time": "2023-07-31T15:55:50.480Z"
   },
   {
    "duration": 3,
    "start_time": "2023-07-31T16:04:59.775Z"
   },
   {
    "duration": 3,
    "start_time": "2023-07-31T16:05:26.783Z"
   },
   {
    "duration": 5,
    "start_time": "2023-07-31T16:05:39.626Z"
   },
   {
    "duration": 3,
    "start_time": "2023-07-31T16:07:14.160Z"
   },
   {
    "duration": 563,
    "start_time": "2023-07-31T16:08:10.978Z"
   },
   {
    "duration": 5,
    "start_time": "2023-07-31T16:17:14.635Z"
   },
   {
    "duration": 6,
    "start_time": "2023-07-31T16:17:15.526Z"
   },
   {
    "duration": 3,
    "start_time": "2023-07-31T16:19:06.042Z"
   },
   {
    "duration": 2,
    "start_time": "2023-07-31T16:19:13.192Z"
   },
   {
    "duration": 2037,
    "start_time": "2023-07-31T16:19:51.396Z"
   },
   {
    "duration": 28,
    "start_time": "2023-07-31T16:19:53.435Z"
   },
   {
    "duration": 14,
    "start_time": "2023-07-31T16:19:53.465Z"
   },
   {
    "duration": 6,
    "start_time": "2023-07-31T16:19:53.481Z"
   },
   {
    "duration": 9,
    "start_time": "2023-07-31T16:19:53.489Z"
   },
   {
    "duration": 115,
    "start_time": "2023-07-31T16:19:53.513Z"
   },
   {
    "duration": 83,
    "start_time": "2023-07-31T16:19:53.630Z"
   },
   {
    "duration": 29,
    "start_time": "2023-07-31T16:19:53.720Z"
   },
   {
    "duration": 12,
    "start_time": "2023-07-31T16:19:53.751Z"
   },
   {
    "duration": 44,
    "start_time": "2023-07-31T16:19:53.765Z"
   },
   {
    "duration": 11,
    "start_time": "2023-07-31T16:19:53.818Z"
   },
   {
    "duration": 26,
    "start_time": "2023-07-31T16:19:53.831Z"
   },
   {
    "duration": 39,
    "start_time": "2023-07-31T16:19:53.858Z"
   },
   {
    "duration": 39,
    "start_time": "2023-07-31T16:19:53.899Z"
   },
   {
    "duration": 3714,
    "start_time": "2023-07-31T16:19:53.940Z"
   },
   {
    "duration": 622,
    "start_time": "2023-07-31T16:19:57.656Z"
   },
   {
    "duration": 3,
    "start_time": "2023-07-31T16:19:58.280Z"
   },
   {
    "duration": 162,
    "start_time": "2023-07-31T16:19:58.284Z"
   },
   {
    "duration": 0,
    "start_time": "2023-07-31T16:19:58.448Z"
   },
   {
    "duration": 0,
    "start_time": "2023-07-31T16:19:58.449Z"
   },
   {
    "duration": 0,
    "start_time": "2023-07-31T16:19:58.450Z"
   },
   {
    "duration": 6,
    "start_time": "2023-07-31T16:20:04.372Z"
   },
   {
    "duration": 16,
    "start_time": "2023-07-31T16:20:07.996Z"
   },
   {
    "duration": 8,
    "start_time": "2023-07-31T16:20:08.749Z"
   },
   {
    "duration": 5,
    "start_time": "2023-07-31T16:20:10.143Z"
   },
   {
    "duration": 1928,
    "start_time": "2023-07-31T16:26:24.341Z"
   },
   {
    "duration": 27,
    "start_time": "2023-07-31T16:26:26.271Z"
   },
   {
    "duration": 12,
    "start_time": "2023-07-31T16:26:26.300Z"
   },
   {
    "duration": 54,
    "start_time": "2023-07-31T16:26:26.314Z"
   },
   {
    "duration": 17,
    "start_time": "2023-07-31T16:26:26.369Z"
   },
   {
    "duration": 12,
    "start_time": "2023-07-31T16:26:26.388Z"
   },
   {
    "duration": 7,
    "start_time": "2023-07-31T16:26:26.401Z"
   },
   {
    "duration": 7,
    "start_time": "2023-07-31T16:26:26.409Z"
   },
   {
    "duration": 6,
    "start_time": "2023-07-31T16:26:26.418Z"
   },
   {
    "duration": 22,
    "start_time": "2023-07-31T16:26:26.426Z"
   },
   {
    "duration": 5,
    "start_time": "2023-07-31T16:26:26.449Z"
   },
   {
    "duration": 5,
    "start_time": "2023-07-31T16:26:26.455Z"
   },
   {
    "duration": 39,
    "start_time": "2023-07-31T16:26:26.461Z"
   },
   {
    "duration": 5,
    "start_time": "2023-07-31T16:26:26.501Z"
   },
   {
    "duration": 3318,
    "start_time": "2023-07-31T16:26:26.508Z"
   },
   {
    "duration": 544,
    "start_time": "2023-07-31T16:26:29.827Z"
   },
   {
    "duration": 3,
    "start_time": "2023-07-31T16:26:30.373Z"
   },
   {
    "duration": 25,
    "start_time": "2023-07-31T16:26:30.377Z"
   },
   {
    "duration": 36,
    "start_time": "2023-07-31T16:26:30.403Z"
   },
   {
    "duration": 145,
    "start_time": "2023-07-31T16:28:20.250Z"
   },
   {
    "duration": 18,
    "start_time": "2023-07-31T16:30:06.559Z"
   },
   {
    "duration": 28,
    "start_time": "2023-07-31T16:30:44.984Z"
   },
   {
    "duration": 47,
    "start_time": "2023-07-31T16:30:49.319Z"
   },
   {
    "duration": 1794,
    "start_time": "2023-07-31T16:33:31.933Z"
   },
   {
    "duration": 29,
    "start_time": "2023-07-31T16:33:33.729Z"
   },
   {
    "duration": 13,
    "start_time": "2023-07-31T16:33:33.759Z"
   },
   {
    "duration": 4,
    "start_time": "2023-07-31T16:33:33.774Z"
   },
   {
    "duration": 10,
    "start_time": "2023-07-31T16:33:33.779Z"
   },
   {
    "duration": 18,
    "start_time": "2023-07-31T16:33:33.791Z"
   },
   {
    "duration": 13,
    "start_time": "2023-07-31T16:33:33.811Z"
   },
   {
    "duration": 5,
    "start_time": "2023-07-31T16:33:33.825Z"
   },
   {
    "duration": 10,
    "start_time": "2023-07-31T16:33:33.831Z"
   },
   {
    "duration": 23,
    "start_time": "2023-07-31T16:33:33.843Z"
   },
   {
    "duration": 5,
    "start_time": "2023-07-31T16:33:33.867Z"
   },
   {
    "duration": 14,
    "start_time": "2023-07-31T16:33:33.873Z"
   },
   {
    "duration": 15,
    "start_time": "2023-07-31T16:33:33.888Z"
   },
   {
    "duration": 9,
    "start_time": "2023-07-31T16:33:33.905Z"
   },
   {
    "duration": 3423,
    "start_time": "2023-07-31T16:33:33.915Z"
   },
   {
    "duration": 573,
    "start_time": "2023-07-31T16:33:37.340Z"
   },
   {
    "duration": 4,
    "start_time": "2023-07-31T16:33:37.914Z"
   },
   {
    "duration": 54,
    "start_time": "2023-07-31T16:33:37.919Z"
   },
   {
    "duration": 50,
    "start_time": "2023-07-31T16:33:37.974Z"
   },
   {
    "duration": 16,
    "start_time": "2023-07-31T16:33:38.026Z"
   },
   {
    "duration": 26,
    "start_time": "2023-07-31T16:35:00.881Z"
   },
   {
    "duration": 24,
    "start_time": "2023-07-31T16:36:21.186Z"
   },
   {
    "duration": 5,
    "start_time": "2023-07-31T16:36:44.357Z"
   },
   {
    "duration": 3,
    "start_time": "2023-07-31T16:37:48.835Z"
   },
   {
    "duration": 4,
    "start_time": "2023-07-31T16:39:13.758Z"
   },
   {
    "duration": 36,
    "start_time": "2023-07-31T16:39:46.014Z"
   },
   {
    "duration": 8,
    "start_time": "2023-07-31T16:43:22.672Z"
   },
   {
    "duration": 70704,
    "start_time": "2023-07-31T16:43:40.990Z"
   },
   {
    "duration": 4,
    "start_time": "2023-07-31T16:46:28.967Z"
   },
   {
    "duration": 4979,
    "start_time": "2023-07-31T16:46:32.999Z"
   },
   {
    "duration": 4,
    "start_time": "2023-07-31T16:46:40.282Z"
   },
   {
    "duration": 5,
    "start_time": "2023-07-31T16:46:49.003Z"
   },
   {
    "duration": 498,
    "start_time": "2023-07-31T16:46:50.697Z"
   },
   {
    "duration": 6,
    "start_time": "2023-07-31T16:52:17.501Z"
   },
   {
    "duration": 9,
    "start_time": "2023-07-31T16:52:31.491Z"
   },
   {
    "duration": 295346,
    "start_time": "2023-07-31T16:52:41.439Z"
   },
   {
    "duration": 1831,
    "start_time": "2023-07-31T17:17:48.022Z"
   },
   {
    "duration": 30,
    "start_time": "2023-07-31T17:17:49.855Z"
   },
   {
    "duration": 17,
    "start_time": "2023-07-31T17:17:49.886Z"
   },
   {
    "duration": 29,
    "start_time": "2023-07-31T17:17:49.905Z"
   },
   {
    "duration": 28,
    "start_time": "2023-07-31T17:17:49.936Z"
   },
   {
    "duration": 49,
    "start_time": "2023-07-31T17:17:49.965Z"
   },
   {
    "duration": 42,
    "start_time": "2023-07-31T17:17:50.016Z"
   },
   {
    "duration": 24,
    "start_time": "2023-07-31T17:17:50.060Z"
   },
   {
    "duration": 38,
    "start_time": "2023-07-31T17:17:50.086Z"
   },
   {
    "duration": 69,
    "start_time": "2023-07-31T17:17:50.127Z"
   },
   {
    "duration": 6,
    "start_time": "2023-07-31T17:17:50.198Z"
   },
   {
    "duration": 11,
    "start_time": "2023-07-31T17:17:50.206Z"
   },
   {
    "duration": 12,
    "start_time": "2023-07-31T17:17:50.218Z"
   },
   {
    "duration": 8,
    "start_time": "2023-07-31T17:17:50.231Z"
   },
   {
    "duration": 3370,
    "start_time": "2023-07-31T17:17:50.240Z"
   },
   {
    "duration": 550,
    "start_time": "2023-07-31T17:17:53.612Z"
   },
   {
    "duration": 4,
    "start_time": "2023-07-31T17:17:54.164Z"
   },
   {
    "duration": 8,
    "start_time": "2023-07-31T17:17:54.169Z"
   },
   {
    "duration": 39,
    "start_time": "2023-07-31T17:17:54.178Z"
   },
   {
    "duration": 4,
    "start_time": "2023-07-31T17:17:54.219Z"
   },
   {
    "duration": 8,
    "start_time": "2023-07-31T17:17:54.224Z"
   },
   {
    "duration": 7,
    "start_time": "2023-07-31T17:17:54.234Z"
   },
   {
    "duration": 9,
    "start_time": "2023-07-31T17:17:54.242Z"
   },
   {
    "duration": 9,
    "start_time": "2023-07-31T17:17:54.252Z"
   },
   {
    "duration": 8532,
    "start_time": "2023-07-31T17:17:54.262Z"
   },
   {
    "duration": 0,
    "start_time": "2023-07-31T17:18:02.796Z"
   },
   {
    "duration": 0,
    "start_time": "2023-07-31T17:18:02.797Z"
   },
   {
    "duration": 0,
    "start_time": "2023-07-31T17:18:02.798Z"
   },
   {
    "duration": 0,
    "start_time": "2023-07-31T17:18:02.799Z"
   },
   {
    "duration": 0,
    "start_time": "2023-07-31T17:18:02.800Z"
   },
   {
    "duration": 0,
    "start_time": "2023-07-31T17:18:02.801Z"
   },
   {
    "duration": 0,
    "start_time": "2023-07-31T17:18:02.802Z"
   },
   {
    "duration": 0,
    "start_time": "2023-07-31T17:18:02.803Z"
   },
   {
    "duration": 0,
    "start_time": "2023-07-31T17:18:02.804Z"
   },
   {
    "duration": 0,
    "start_time": "2023-07-31T17:18:02.805Z"
   },
   {
    "duration": 0,
    "start_time": "2023-07-31T17:18:02.806Z"
   },
   {
    "duration": 0,
    "start_time": "2023-07-31T17:18:02.807Z"
   },
   {
    "duration": 0,
    "start_time": "2023-07-31T17:18:02.808Z"
   },
   {
    "duration": 0,
    "start_time": "2023-07-31T17:18:02.809Z"
   },
   {
    "duration": 0,
    "start_time": "2023-07-31T17:18:02.810Z"
   },
   {
    "duration": 0,
    "start_time": "2023-07-31T17:18:02.810Z"
   },
   {
    "duration": 1823,
    "start_time": "2023-07-31T17:18:26.841Z"
   },
   {
    "duration": 28,
    "start_time": "2023-07-31T17:18:28.666Z"
   },
   {
    "duration": 19,
    "start_time": "2023-07-31T17:18:28.696Z"
   },
   {
    "duration": 5,
    "start_time": "2023-07-31T17:18:28.717Z"
   },
   {
    "duration": 3,
    "start_time": "2023-07-31T17:18:28.724Z"
   },
   {
    "duration": 34,
    "start_time": "2023-07-31T17:18:28.729Z"
   },
   {
    "duration": 7,
    "start_time": "2023-07-31T17:18:28.764Z"
   },
   {
    "duration": 20,
    "start_time": "2023-07-31T17:18:28.773Z"
   },
   {
    "duration": 19,
    "start_time": "2023-07-31T17:18:28.794Z"
   },
   {
    "duration": 33,
    "start_time": "2023-07-31T17:18:28.814Z"
   },
   {
    "duration": 5,
    "start_time": "2023-07-31T17:18:28.849Z"
   },
   {
    "duration": 22,
    "start_time": "2023-07-31T17:18:28.856Z"
   },
   {
    "duration": 6,
    "start_time": "2023-07-31T17:18:28.880Z"
   },
   {
    "duration": 22,
    "start_time": "2023-07-31T17:18:28.889Z"
   },
   {
    "duration": 3294,
    "start_time": "2023-07-31T17:18:28.912Z"
   },
   {
    "duration": 568,
    "start_time": "2023-07-31T17:18:32.208Z"
   },
   {
    "duration": 3,
    "start_time": "2023-07-31T17:18:32.777Z"
   },
   {
    "duration": 9,
    "start_time": "2023-07-31T17:18:32.781Z"
   },
   {
    "duration": 25,
    "start_time": "2023-07-31T17:18:32.799Z"
   },
   {
    "duration": 4,
    "start_time": "2023-07-31T17:18:32.825Z"
   },
   {
    "duration": 12,
    "start_time": "2023-07-31T17:18:32.830Z"
   },
   {
    "duration": 7,
    "start_time": "2023-07-31T17:18:32.844Z"
   },
   {
    "duration": 6,
    "start_time": "2023-07-31T17:18:32.852Z"
   },
   {
    "duration": 17,
    "start_time": "2023-07-31T17:18:32.859Z"
   },
   {
    "duration": 22442,
    "start_time": "2023-07-31T17:18:32.877Z"
   },
   {
    "duration": 151,
    "start_time": "2023-07-31T17:18:55.321Z"
   },
   {
    "duration": 0,
    "start_time": "2023-07-31T17:18:55.474Z"
   },
   {
    "duration": 0,
    "start_time": "2023-07-31T17:18:55.475Z"
   },
   {
    "duration": 0,
    "start_time": "2023-07-31T17:18:55.476Z"
   },
   {
    "duration": 0,
    "start_time": "2023-07-31T17:18:55.477Z"
   },
   {
    "duration": 0,
    "start_time": "2023-07-31T17:18:55.478Z"
   },
   {
    "duration": 0,
    "start_time": "2023-07-31T17:18:55.479Z"
   },
   {
    "duration": 0,
    "start_time": "2023-07-31T17:18:55.480Z"
   },
   {
    "duration": 0,
    "start_time": "2023-07-31T17:18:55.481Z"
   },
   {
    "duration": 0,
    "start_time": "2023-07-31T17:18:55.482Z"
   },
   {
    "duration": 0,
    "start_time": "2023-07-31T17:18:55.483Z"
   },
   {
    "duration": 0,
    "start_time": "2023-07-31T17:18:55.500Z"
   },
   {
    "duration": 0,
    "start_time": "2023-07-31T17:18:55.501Z"
   },
   {
    "duration": 0,
    "start_time": "2023-07-31T17:18:55.502Z"
   },
   {
    "duration": 0,
    "start_time": "2023-07-31T17:18:55.503Z"
   },
   {
    "duration": 0,
    "start_time": "2023-07-31T17:18:55.504Z"
   },
   {
    "duration": 10,
    "start_time": "2023-07-31T17:22:21.685Z"
   },
   {
    "duration": 5,
    "start_time": "2023-07-31T17:36:35.469Z"
   },
   {
    "duration": 10,
    "start_time": "2023-07-31T17:36:36.551Z"
   },
   {
    "duration": 15,
    "start_time": "2023-07-31T17:37:02.119Z"
   },
   {
    "duration": 1908,
    "start_time": "2023-07-31T17:38:33.299Z"
   },
   {
    "duration": 28,
    "start_time": "2023-07-31T17:38:35.208Z"
   },
   {
    "duration": 15,
    "start_time": "2023-07-31T17:38:35.237Z"
   },
   {
    "duration": 11,
    "start_time": "2023-07-31T17:38:35.253Z"
   },
   {
    "duration": 8,
    "start_time": "2023-07-31T17:38:35.266Z"
   },
   {
    "duration": 20,
    "start_time": "2023-07-31T17:38:35.275Z"
   },
   {
    "duration": 5,
    "start_time": "2023-07-31T17:38:35.297Z"
   },
   {
    "duration": 10,
    "start_time": "2023-07-31T17:38:35.303Z"
   },
   {
    "duration": 6,
    "start_time": "2023-07-31T17:38:35.314Z"
   },
   {
    "duration": 38,
    "start_time": "2023-07-31T17:38:35.322Z"
   },
   {
    "duration": 8,
    "start_time": "2023-07-31T17:38:35.362Z"
   },
   {
    "duration": 10,
    "start_time": "2023-07-31T17:38:35.372Z"
   },
   {
    "duration": 8,
    "start_time": "2023-07-31T17:38:35.383Z"
   },
   {
    "duration": 21,
    "start_time": "2023-07-31T17:38:35.394Z"
   },
   {
    "duration": 3370,
    "start_time": "2023-07-31T17:38:35.416Z"
   },
   {
    "duration": 552,
    "start_time": "2023-07-31T17:38:38.788Z"
   },
   {
    "duration": 3,
    "start_time": "2023-07-31T17:38:39.341Z"
   },
   {
    "duration": 7,
    "start_time": "2023-07-31T17:38:39.346Z"
   },
   {
    "duration": 22,
    "start_time": "2023-07-31T17:38:39.354Z"
   },
   {
    "duration": 3,
    "start_time": "2023-07-31T17:38:39.378Z"
   },
   {
    "duration": 2,
    "start_time": "2023-07-31T17:38:39.399Z"
   },
   {
    "duration": 7,
    "start_time": "2023-07-31T17:38:39.402Z"
   },
   {
    "duration": 6,
    "start_time": "2023-07-31T17:38:39.410Z"
   },
   {
    "duration": 8,
    "start_time": "2023-07-31T17:38:39.417Z"
   },
   {
    "duration": 142,
    "start_time": "2023-07-31T17:38:39.427Z"
   },
   {
    "duration": 0,
    "start_time": "2023-07-31T17:38:39.571Z"
   },
   {
    "duration": 0,
    "start_time": "2023-07-31T17:38:39.571Z"
   },
   {
    "duration": 0,
    "start_time": "2023-07-31T17:38:39.572Z"
   },
   {
    "duration": 0,
    "start_time": "2023-07-31T17:38:39.573Z"
   },
   {
    "duration": 0,
    "start_time": "2023-07-31T17:38:39.574Z"
   },
   {
    "duration": 0,
    "start_time": "2023-07-31T17:38:39.575Z"
   },
   {
    "duration": 0,
    "start_time": "2023-07-31T17:38:39.575Z"
   },
   {
    "duration": 0,
    "start_time": "2023-07-31T17:38:39.576Z"
   },
   {
    "duration": 69702,
    "start_time": "2023-07-31T17:39:03.652Z"
   },
   {
    "duration": 5,
    "start_time": "2023-07-31T17:40:13.355Z"
   },
   {
    "duration": 4846,
    "start_time": "2023-07-31T17:40:13.361Z"
   },
   {
    "duration": 3,
    "start_time": "2023-07-31T17:40:18.209Z"
   },
   {
    "duration": 9,
    "start_time": "2023-07-31T17:40:18.214Z"
   },
   {
    "duration": 530,
    "start_time": "2023-07-31T17:40:18.224Z"
   },
   {
    "duration": 5,
    "start_time": "2023-07-31T17:40:28.742Z"
   },
   {
    "duration": 515068,
    "start_time": "2023-07-31T17:40:41.551Z"
   },
   {
    "duration": 45462,
    "start_time": "2023-07-31T17:53:30.652Z"
   },
   {
    "duration": 5,
    "start_time": "2023-07-31T17:54:32.523Z"
   },
   {
    "duration": 36163,
    "start_time": "2023-07-31T18:05:16.550Z"
   },
   {
    "duration": 86,
    "start_time": "2023-07-31T18:05:52.715Z"
   },
   {
    "duration": 5,
    "start_time": "2023-07-31T18:08:34.701Z"
   },
   {
    "duration": 5,
    "start_time": "2023-07-31T18:08:36.218Z"
   },
   {
    "duration": 113018,
    "start_time": "2023-07-31T18:08:39.610Z"
   },
   {
    "duration": 184045,
    "start_time": "2023-07-31T18:10:54.966Z"
   },
   {
    "duration": 96,
    "start_time": "2023-07-31T18:14:16.916Z"
   },
   {
    "duration": 47332,
    "start_time": "2023-07-31T18:14:23.793Z"
   },
   {
    "duration": 11,
    "start_time": "2023-07-31T18:15:16.089Z"
   },
   {
    "duration": 510,
    "start_time": "2023-07-31T18:15:52.548Z"
   },
   {
    "duration": 1857,
    "start_time": "2023-07-31T18:23:09.295Z"
   },
   {
    "duration": 28,
    "start_time": "2023-07-31T18:23:11.154Z"
   },
   {
    "duration": 29,
    "start_time": "2023-07-31T18:23:11.184Z"
   },
   {
    "duration": 3,
    "start_time": "2023-07-31T18:23:11.218Z"
   },
   {
    "duration": 60,
    "start_time": "2023-07-31T18:23:11.223Z"
   },
   {
    "duration": 55,
    "start_time": "2023-07-31T18:23:11.285Z"
   },
   {
    "duration": 15,
    "start_time": "2023-07-31T18:23:11.341Z"
   },
   {
    "duration": 22,
    "start_time": "2023-07-31T18:23:11.357Z"
   },
   {
    "duration": 37,
    "start_time": "2023-07-31T18:23:11.381Z"
   },
   {
    "duration": 42,
    "start_time": "2023-07-31T18:23:11.419Z"
   },
   {
    "duration": 5,
    "start_time": "2023-07-31T18:23:11.462Z"
   },
   {
    "duration": 4,
    "start_time": "2023-07-31T18:23:11.468Z"
   },
   {
    "duration": 7,
    "start_time": "2023-07-31T18:23:11.473Z"
   },
   {
    "duration": 7,
    "start_time": "2023-07-31T18:23:11.483Z"
   },
   {
    "duration": 3543,
    "start_time": "2023-07-31T18:23:11.492Z"
   },
   {
    "duration": 663,
    "start_time": "2023-07-31T18:23:15.036Z"
   },
   {
    "duration": 5,
    "start_time": "2023-07-31T18:23:15.709Z"
   },
   {
    "duration": 12,
    "start_time": "2023-07-31T18:23:15.715Z"
   },
   {
    "duration": 31,
    "start_time": "2023-07-31T18:23:15.728Z"
   },
   {
    "duration": 5,
    "start_time": "2023-07-31T18:23:15.760Z"
   },
   {
    "duration": 19,
    "start_time": "2023-07-31T18:23:15.766Z"
   },
   {
    "duration": 26,
    "start_time": "2023-07-31T18:23:15.787Z"
   },
   {
    "duration": 10,
    "start_time": "2023-07-31T18:23:15.816Z"
   },
   {
    "duration": 27,
    "start_time": "2023-07-31T18:23:15.828Z"
   },
   {
    "duration": 73287,
    "start_time": "2023-07-31T18:23:15.856Z"
   },
   {
    "duration": 5,
    "start_time": "2023-07-31T18:24:29.144Z"
   },
   {
    "duration": 5055,
    "start_time": "2023-07-31T18:24:29.150Z"
   },
   {
    "duration": 4,
    "start_time": "2023-07-31T18:24:34.213Z"
   },
   {
    "duration": 13,
    "start_time": "2023-07-31T18:24:34.219Z"
   },
   {
    "duration": 520,
    "start_time": "2023-07-31T18:24:34.234Z"
   },
   {
    "duration": 4,
    "start_time": "2023-07-31T18:24:34.756Z"
   },
   {
    "duration": 10,
    "start_time": "2023-07-31T18:24:34.762Z"
   },
   {
    "duration": 201939,
    "start_time": "2023-07-31T18:24:34.773Z"
   },
   {
    "duration": 47903,
    "start_time": "2023-07-31T18:27:56.714Z"
   },
   {
    "duration": 4,
    "start_time": "2023-07-31T18:28:44.620Z"
   },
   {
    "duration": 579,
    "start_time": "2023-07-31T18:28:44.704Z"
   },
   {
    "duration": 1671,
    "start_time": "2023-07-31T18:32:29.044Z"
   },
   {
    "duration": 28,
    "start_time": "2023-07-31T18:32:30.717Z"
   },
   {
    "duration": 17,
    "start_time": "2023-07-31T18:32:30.747Z"
   },
   {
    "duration": 29,
    "start_time": "2023-07-31T18:32:30.766Z"
   },
   {
    "duration": 29,
    "start_time": "2023-07-31T18:32:30.796Z"
   },
   {
    "duration": 61,
    "start_time": "2023-07-31T18:32:30.826Z"
   },
   {
    "duration": 41,
    "start_time": "2023-07-31T18:32:30.888Z"
   },
   {
    "duration": 35,
    "start_time": "2023-07-31T18:32:30.930Z"
   },
   {
    "duration": 27,
    "start_time": "2023-07-31T18:32:30.966Z"
   },
   {
    "duration": 56,
    "start_time": "2023-07-31T18:32:30.995Z"
   },
   {
    "duration": 90,
    "start_time": "2023-07-31T18:32:31.053Z"
   },
   {
    "duration": 19,
    "start_time": "2023-07-31T18:32:31.145Z"
   },
   {
    "duration": 20,
    "start_time": "2023-07-31T18:32:31.165Z"
   },
   {
    "duration": 22,
    "start_time": "2023-07-31T18:32:31.186Z"
   },
   {
    "duration": 3341,
    "start_time": "2023-07-31T18:32:31.209Z"
   },
   {
    "duration": 611,
    "start_time": "2023-07-31T18:32:34.552Z"
   },
   {
    "duration": 3,
    "start_time": "2023-07-31T18:32:35.164Z"
   },
   {
    "duration": 21,
    "start_time": "2023-07-31T18:32:35.168Z"
   },
   {
    "duration": 23,
    "start_time": "2023-07-31T18:32:35.190Z"
   },
   {
    "duration": 4,
    "start_time": "2023-07-31T18:32:35.214Z"
   },
   {
    "duration": 6,
    "start_time": "2023-07-31T18:32:35.219Z"
   },
   {
    "duration": 7,
    "start_time": "2023-07-31T18:32:35.226Z"
   },
   {
    "duration": 13,
    "start_time": "2023-07-31T18:32:35.234Z"
   },
   {
    "duration": 9,
    "start_time": "2023-07-31T18:32:35.248Z"
   },
   {
    "duration": 70393,
    "start_time": "2023-07-31T18:32:35.259Z"
   },
   {
    "duration": 4,
    "start_time": "2023-07-31T18:33:45.654Z"
   },
   {
    "duration": 4979,
    "start_time": "2023-07-31T18:33:45.660Z"
   },
   {
    "duration": 4,
    "start_time": "2023-07-31T18:33:50.643Z"
   },
   {
    "duration": 40,
    "start_time": "2023-07-31T18:33:50.649Z"
   },
   {
    "duration": 518,
    "start_time": "2023-07-31T18:33:50.691Z"
   },
   {
    "duration": 4,
    "start_time": "2023-07-31T18:33:51.211Z"
   },
   {
    "duration": 10,
    "start_time": "2023-07-31T18:33:51.216Z"
   },
   {
    "duration": 139800,
    "start_time": "2023-07-31T18:33:51.227Z"
   },
   {
    "duration": 44818,
    "start_time": "2023-07-31T18:36:11.100Z"
   },
   {
    "duration": 85,
    "start_time": "2023-07-31T18:36:55.919Z"
   },
   {
    "duration": 612,
    "start_time": "2023-07-31T18:36:56.006Z"
   },
   {
    "duration": 74,
    "start_time": "2023-08-01T03:51:33.463Z"
   },
   {
    "duration": 2017,
    "start_time": "2023-08-01T07:03:41.811Z"
   },
   {
    "duration": 73,
    "start_time": "2023-08-01T07:03:43.831Z"
   },
   {
    "duration": 18,
    "start_time": "2023-08-01T07:03:43.905Z"
   },
   {
    "duration": 15,
    "start_time": "2023-08-01T07:03:43.925Z"
   },
   {
    "duration": 7,
    "start_time": "2023-08-01T07:03:43.942Z"
   },
   {
    "duration": 14,
    "start_time": "2023-08-01T07:03:43.950Z"
   },
   {
    "duration": 9,
    "start_time": "2023-08-01T07:03:43.966Z"
   },
   {
    "duration": 9,
    "start_time": "2023-08-01T07:03:43.976Z"
   },
   {
    "duration": 6,
    "start_time": "2023-08-01T07:03:43.987Z"
   },
   {
    "duration": 22,
    "start_time": "2023-08-01T07:03:43.995Z"
   },
   {
    "duration": 11,
    "start_time": "2023-08-01T07:03:44.018Z"
   },
   {
    "duration": 10,
    "start_time": "2023-08-01T07:03:44.031Z"
   },
   {
    "duration": 25,
    "start_time": "2023-08-01T07:03:44.043Z"
   },
   {
    "duration": 10,
    "start_time": "2023-08-01T07:03:44.070Z"
   },
   {
    "duration": 3523,
    "start_time": "2023-08-01T07:03:44.081Z"
   },
   {
    "duration": 574,
    "start_time": "2023-08-01T07:03:47.606Z"
   },
   {
    "duration": 3,
    "start_time": "2023-08-01T07:03:48.181Z"
   },
   {
    "duration": 11,
    "start_time": "2023-08-01T07:03:48.186Z"
   },
   {
    "duration": 38,
    "start_time": "2023-08-01T07:03:48.198Z"
   },
   {
    "duration": 48,
    "start_time": "2023-08-01T07:03:48.238Z"
   },
   {
    "duration": 3,
    "start_time": "2023-08-01T07:03:48.288Z"
   },
   {
    "duration": 6,
    "start_time": "2023-08-01T07:03:48.292Z"
   },
   {
    "duration": 63,
    "start_time": "2023-08-01T07:03:48.300Z"
   },
   {
    "duration": 9,
    "start_time": "2023-08-01T07:03:48.365Z"
   },
   {
    "duration": 73432,
    "start_time": "2023-08-01T07:03:48.376Z"
   },
   {
    "duration": 4,
    "start_time": "2023-08-01T07:05:01.809Z"
   },
   {
    "duration": 5399,
    "start_time": "2023-08-01T07:05:01.814Z"
   },
   {
    "duration": 8,
    "start_time": "2023-08-01T07:05:07.216Z"
   },
   {
    "duration": 24,
    "start_time": "2023-08-01T07:05:07.225Z"
   },
   {
    "duration": 534,
    "start_time": "2023-08-01T07:05:07.251Z"
   },
   {
    "duration": 143,
    "start_time": "2023-08-01T07:05:07.786Z"
   },
   {
    "duration": 1,
    "start_time": "2023-08-01T07:05:07.930Z"
   },
   {
    "duration": 0,
    "start_time": "2023-08-01T07:05:07.931Z"
   },
   {
    "duration": 0,
    "start_time": "2023-08-01T07:05:07.932Z"
   },
   {
    "duration": 0,
    "start_time": "2023-08-01T07:05:07.933Z"
   },
   {
    "duration": 0,
    "start_time": "2023-08-01T07:05:07.934Z"
   },
   {
    "duration": 0,
    "start_time": "2023-08-01T07:05:07.936Z"
   },
   {
    "duration": 74544,
    "start_time": "2023-08-01T07:31:02.009Z"
   },
   {
    "duration": 7,
    "start_time": "2023-08-01T07:51:17.679Z"
   },
   {
    "duration": 27,
    "start_time": "2023-08-01T07:51:18.813Z"
   },
   {
    "duration": 7,
    "start_time": "2023-08-01T07:51:51.737Z"
   },
   {
    "duration": 309066,
    "start_time": "2023-08-01T07:51:52.763Z"
   },
   {
    "duration": 4,
    "start_time": "2023-08-01T07:59:06.785Z"
   },
   {
    "duration": 41435,
    "start_time": "2023-08-01T07:59:08.392Z"
   },
   {
    "duration": 143,
    "start_time": "2023-08-01T08:01:39.330Z"
   },
   {
    "duration": 213,
    "start_time": "2023-08-01T08:02:09.020Z"
   },
   {
    "duration": 13,
    "start_time": "2023-08-01T08:02:35.487Z"
   },
   {
    "duration": 5,
    "start_time": "2023-08-01T08:03:14.629Z"
   },
   {
    "duration": 382,
    "start_time": "2023-08-01T08:03:26.137Z"
   },
   {
    "duration": 10129,
    "start_time": "2023-08-01T08:03:47.442Z"
   },
   {
    "duration": 5,
    "start_time": "2023-08-01T08:04:29.680Z"
   },
   {
    "duration": 1947,
    "start_time": "2023-08-01T08:09:30.799Z"
   },
   {
    "duration": 28,
    "start_time": "2023-08-01T08:09:32.748Z"
   },
   {
    "duration": 18,
    "start_time": "2023-08-01T08:09:32.777Z"
   },
   {
    "duration": 46,
    "start_time": "2023-08-01T08:09:32.797Z"
   },
   {
    "duration": 66,
    "start_time": "2023-08-01T08:09:32.845Z"
   },
   {
    "duration": 31,
    "start_time": "2023-08-01T08:09:32.913Z"
   },
   {
    "duration": 16,
    "start_time": "2023-08-01T08:09:32.946Z"
   },
   {
    "duration": 21,
    "start_time": "2023-08-01T08:09:32.964Z"
   },
   {
    "duration": 8,
    "start_time": "2023-08-01T08:09:32.987Z"
   },
   {
    "duration": 33,
    "start_time": "2023-08-01T08:09:32.998Z"
   },
   {
    "duration": 5,
    "start_time": "2023-08-01T08:09:33.033Z"
   },
   {
    "duration": 13,
    "start_time": "2023-08-01T08:09:33.040Z"
   },
   {
    "duration": 21,
    "start_time": "2023-08-01T08:09:33.055Z"
   },
   {
    "duration": 20,
    "start_time": "2023-08-01T08:09:33.078Z"
   },
   {
    "duration": 3479,
    "start_time": "2023-08-01T08:09:33.100Z"
   },
   {
    "duration": 589,
    "start_time": "2023-08-01T08:09:36.580Z"
   },
   {
    "duration": 4,
    "start_time": "2023-08-01T08:09:37.171Z"
   },
   {
    "duration": 18,
    "start_time": "2023-08-01T08:09:37.176Z"
   },
   {
    "duration": 54,
    "start_time": "2023-08-01T08:09:37.196Z"
   },
   {
    "duration": 5,
    "start_time": "2023-08-01T08:09:37.252Z"
   },
   {
    "duration": 6,
    "start_time": "2023-08-01T08:09:37.258Z"
   },
   {
    "duration": 7,
    "start_time": "2023-08-01T08:09:37.265Z"
   },
   {
    "duration": 6,
    "start_time": "2023-08-01T08:09:37.273Z"
   },
   {
    "duration": 10,
    "start_time": "2023-08-01T08:09:37.281Z"
   },
   {
    "duration": 72647,
    "start_time": "2023-08-01T08:09:37.293Z"
   },
   {
    "duration": 5,
    "start_time": "2023-08-01T08:10:49.942Z"
   },
   {
    "duration": 5059,
    "start_time": "2023-08-01T08:10:49.948Z"
   },
   {
    "duration": 14,
    "start_time": "2023-08-01T08:10:55.010Z"
   },
   {
    "duration": 8,
    "start_time": "2023-08-01T08:10:55.026Z"
   },
   {
    "duration": 649,
    "start_time": "2023-08-01T08:10:55.036Z"
   },
   {
    "duration": 5,
    "start_time": "2023-08-01T08:10:55.687Z"
   },
   {
    "duration": 287359,
    "start_time": "2023-08-01T08:10:55.694Z"
   },
   {
    "duration": 4,
    "start_time": "2023-08-01T08:15:43.054Z"
   },
   {
    "duration": 10707,
    "start_time": "2023-08-01T08:15:43.060Z"
   },
   {
    "duration": 5,
    "start_time": "2023-08-01T08:15:53.769Z"
   },
   {
    "duration": 570,
    "start_time": "2023-08-01T08:15:53.776Z"
   },
   {
    "duration": 4,
    "start_time": "2023-08-01T08:19:26.451Z"
   },
   {
    "duration": 6,
    "start_time": "2023-08-01T08:19:42.304Z"
   },
   {
    "duration": 5,
    "start_time": "2023-08-01T08:19:48.137Z"
   },
   {
    "duration": 40167,
    "start_time": "2023-08-01T08:19:49.037Z"
   },
   {
    "duration": 5,
    "start_time": "2023-08-01T08:20:33.800Z"
   },
   {
    "duration": 10061,
    "start_time": "2023-08-01T08:25:59.320Z"
   },
   {
    "duration": 5,
    "start_time": "2023-08-01T08:26:09.384Z"
   },
   {
    "duration": 1840,
    "start_time": "2023-08-01T08:27:59.538Z"
   },
   {
    "duration": 28,
    "start_time": "2023-08-01T08:28:01.380Z"
   },
   {
    "duration": 54,
    "start_time": "2023-08-01T08:28:01.409Z"
   },
   {
    "duration": 22,
    "start_time": "2023-08-01T08:28:01.465Z"
   },
   {
    "duration": 26,
    "start_time": "2023-08-01T08:28:01.489Z"
   },
   {
    "duration": 44,
    "start_time": "2023-08-01T08:28:01.516Z"
   },
   {
    "duration": 38,
    "start_time": "2023-08-01T08:28:01.561Z"
   },
   {
    "duration": 45,
    "start_time": "2023-08-01T08:28:01.600Z"
   },
   {
    "duration": 31,
    "start_time": "2023-08-01T08:28:01.646Z"
   },
   {
    "duration": 61,
    "start_time": "2023-08-01T08:28:01.680Z"
   },
   {
    "duration": 18,
    "start_time": "2023-08-01T08:28:01.744Z"
   },
   {
    "duration": 35,
    "start_time": "2023-08-01T08:28:01.764Z"
   },
   {
    "duration": 64,
    "start_time": "2023-08-01T08:28:01.801Z"
   },
   {
    "duration": 56,
    "start_time": "2023-08-01T08:28:01.867Z"
   },
   {
    "duration": 3506,
    "start_time": "2023-08-01T08:28:01.925Z"
   },
   {
    "duration": 569,
    "start_time": "2023-08-01T08:28:05.433Z"
   },
   {
    "duration": 3,
    "start_time": "2023-08-01T08:28:06.003Z"
   },
   {
    "duration": 98,
    "start_time": "2023-08-01T08:28:06.008Z"
   },
   {
    "duration": 37,
    "start_time": "2023-08-01T08:28:06.108Z"
   },
   {
    "duration": 9,
    "start_time": "2023-08-01T08:28:06.147Z"
   },
   {
    "duration": 33,
    "start_time": "2023-08-01T08:28:06.158Z"
   },
   {
    "duration": 38,
    "start_time": "2023-08-01T08:28:06.192Z"
   },
   {
    "duration": 17,
    "start_time": "2023-08-01T08:28:06.232Z"
   },
   {
    "duration": 16,
    "start_time": "2023-08-01T08:28:06.251Z"
   },
   {
    "duration": 72593,
    "start_time": "2023-08-01T08:28:06.268Z"
   },
   {
    "duration": 4,
    "start_time": "2023-08-01T08:29:18.863Z"
   },
   {
    "duration": 5034,
    "start_time": "2023-08-01T08:29:18.869Z"
   },
   {
    "duration": 4,
    "start_time": "2023-08-01T08:29:23.907Z"
   },
   {
    "duration": 5,
    "start_time": "2023-08-01T08:29:23.919Z"
   },
   {
    "duration": 536,
    "start_time": "2023-08-01T08:29:23.925Z"
   },
   {
    "duration": 5,
    "start_time": "2023-08-01T08:29:24.463Z"
   },
   {
    "duration": 158670,
    "start_time": "2023-08-01T08:29:24.470Z"
   },
   {
    "duration": 0,
    "start_time": "2023-08-01T08:32:03.142Z"
   },
   {
    "duration": 0,
    "start_time": "2023-08-01T08:32:03.143Z"
   },
   {
    "duration": 0,
    "start_time": "2023-08-01T08:32:03.145Z"
   },
   {
    "duration": 0,
    "start_time": "2023-08-01T08:32:03.146Z"
   },
   {
    "duration": 0,
    "start_time": "2023-08-01T08:32:03.148Z"
   },
   {
    "duration": 2051,
    "start_time": "2023-08-01T08:32:19.849Z"
   },
   {
    "duration": 29,
    "start_time": "2023-08-01T08:32:21.903Z"
   },
   {
    "duration": 21,
    "start_time": "2023-08-01T08:32:21.935Z"
   },
   {
    "duration": 5,
    "start_time": "2023-08-01T08:32:21.959Z"
   },
   {
    "duration": 9,
    "start_time": "2023-08-01T08:32:21.967Z"
   },
   {
    "duration": 25,
    "start_time": "2023-08-01T08:32:21.978Z"
   },
   {
    "duration": 21,
    "start_time": "2023-08-01T08:32:22.005Z"
   },
   {
    "duration": 18,
    "start_time": "2023-08-01T08:32:22.029Z"
   },
   {
    "duration": 10,
    "start_time": "2023-08-01T08:32:22.050Z"
   },
   {
    "duration": 47,
    "start_time": "2023-08-01T08:32:22.063Z"
   },
   {
    "duration": 6,
    "start_time": "2023-08-01T08:32:22.112Z"
   },
   {
    "duration": 11,
    "start_time": "2023-08-01T08:32:22.120Z"
   },
   {
    "duration": 18,
    "start_time": "2023-08-01T08:32:22.132Z"
   },
   {
    "duration": 12,
    "start_time": "2023-08-01T08:32:22.153Z"
   },
   {
    "duration": 3776,
    "start_time": "2023-08-01T08:32:22.167Z"
   },
   {
    "duration": 593,
    "start_time": "2023-08-01T08:32:25.944Z"
   },
   {
    "duration": 3,
    "start_time": "2023-08-01T08:32:26.539Z"
   },
   {
    "duration": 14,
    "start_time": "2023-08-01T08:32:26.543Z"
   },
   {
    "duration": 30,
    "start_time": "2023-08-01T08:32:26.559Z"
   },
   {
    "duration": 6,
    "start_time": "2023-08-01T08:32:26.590Z"
   },
   {
    "duration": 22,
    "start_time": "2023-08-01T08:32:26.598Z"
   },
   {
    "duration": 14,
    "start_time": "2023-08-01T08:32:26.622Z"
   },
   {
    "duration": 7,
    "start_time": "2023-08-01T08:32:26.638Z"
   },
   {
    "duration": 22,
    "start_time": "2023-08-01T08:32:26.646Z"
   },
   {
    "duration": 72507,
    "start_time": "2023-08-01T08:32:26.669Z"
   },
   {
    "duration": 5,
    "start_time": "2023-08-01T08:33:39.179Z"
   },
   {
    "duration": 5059,
    "start_time": "2023-08-01T08:33:39.186Z"
   },
   {
    "duration": 5,
    "start_time": "2023-08-01T08:33:44.247Z"
   },
   {
    "duration": 30,
    "start_time": "2023-08-01T08:33:44.254Z"
   },
   {
    "duration": 553,
    "start_time": "2023-08-01T08:33:44.286Z"
   },
   {
    "duration": 4,
    "start_time": "2023-08-01T08:33:44.841Z"
   },
   {
    "duration": 277444,
    "start_time": "2023-08-01T08:33:44.847Z"
   },
   {
    "duration": 138,
    "start_time": "2023-08-01T08:38:22.293Z"
   },
   {
    "duration": 0,
    "start_time": "2023-08-01T08:38:22.433Z"
   },
   {
    "duration": 1,
    "start_time": "2023-08-01T08:38:22.433Z"
   },
   {
    "duration": 0,
    "start_time": "2023-08-01T08:38:22.434Z"
   },
   {
    "duration": 0,
    "start_time": "2023-08-01T08:38:22.435Z"
   },
   {
    "duration": 0,
    "start_time": "2023-08-01T08:38:22.436Z"
   },
   {
    "duration": 9,
    "start_time": "2023-08-01T08:38:43.823Z"
   },
   {
    "duration": 41781,
    "start_time": "2023-08-01T08:38:44.531Z"
   },
   {
    "duration": 10320,
    "start_time": "2023-08-01T08:39:29.656Z"
   },
   {
    "duration": 6,
    "start_time": "2023-08-01T08:39:39.978Z"
   },
   {
    "duration": 551,
    "start_time": "2023-08-01T08:39:51.219Z"
   }
  ],
  "kernelspec": {
   "display_name": "Python 3",
   "language": "python",
   "name": "python3"
  },
  "language_info": {
   "codemirror_mode": {
    "name": "ipython",
    "version": 3
   },
   "file_extension": ".py",
   "mimetype": "text/x-python",
   "name": "python",
   "nbconvert_exporter": "python",
   "pygments_lexer": "ipython3",
   "version": "3.8.8"
  },
  "toc": {
   "base_numbering": 1,
   "nav_menu": {},
   "number_sections": false,
   "sideBar": true,
   "skip_h1_title": false,
   "title_cell": "Table of Contents",
   "title_sidebar": "Contents",
   "toc_cell": false,
   "toc_position": {},
   "toc_section_display": true,
   "toc_window_display": false
  },
  "varInspector": {
   "cols": {
    "lenName": 16,
    "lenType": 16,
    "lenVar": 40
   },
   "kernels_config": {
    "python": {
     "delete_cmd_postfix": "",
     "delete_cmd_prefix": "del ",
     "library": "var_list.py",
     "varRefreshCmd": "print(var_dic_list())"
    },
    "r": {
     "delete_cmd_postfix": ") ",
     "delete_cmd_prefix": "rm(",
     "library": "var_list.r",
     "varRefreshCmd": "cat(var_dic_list()) "
    }
   },
   "types_to_exclude": [
    "module",
    "function",
    "builtin_function_or_method",
    "instance",
    "_Feature"
   ],
   "window_display": false
  }
 },
 "nbformat": 4,
 "nbformat_minor": 5
}
