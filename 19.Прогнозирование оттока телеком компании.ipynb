{
 "cells": [
  {
   "cell_type": "markdown",
   "id": "38ae24d5",
   "metadata": {},
   "source": [
    "# Отток клиентов"
   ]
  },
  {
   "cell_type": "markdown",
   "id": "7dd349a6",
   "metadata": {},
   "source": [
    "Оператор связи «ТелеДом» хочет бороться с оттоком клиентов. Для этого его сотрудники начнут предлагать промокоды и специальные условия всем, кто планирует отказаться от услуг связи. Чтобы заранее находить таких пользователей, «ТелеДому» нужна модель, которая будет предсказывать, разорвёт ли абонент договор. Команда оператора собрала персональные данные о некоторых клиентах, информацию об их тарифах и услугах.\n",
    "\n",
    "**Цель проекта** — обучить на этих данных модель для прогноза оттока клиентов."
   ]
  },
  {
   "cell_type": "markdown",
   "id": "76f1ab5e",
   "metadata": {},
   "source": [
    "**Описание данных**\n",
    "\n",
    "Данные хранятся в базе данных PostgreSQL. Она состоит из нескольких таблиц:\n",
    "\n",
    "- contract — информация о договорах;\n",
    "- personal — персональные данные клиентов;\n",
    "- internet — информация об интернет-услугах;\n",
    "- phone — информация об услугах телефонии.\n",
    "\n",
    "Таблица telecom.contract\n",
    "\n",
    "- customerID — ID абонента;\n",
    "- BeginDate — дата начала действия договора;\n",
    "- EndDate — дата окончания действия договора;\n",
    "- Type — тип оплаты: раз в год-два или ежемесячно;\n",
    "- PaperlessBilling — электронный расчётный лист;\n",
    "- PaymentMethod — тип платежа;\n",
    "- MonthlyCharges — расходы за месяц;\n",
    "- TotalCharges — общие расходы абонента.\n",
    "\n",
    "Таблица personal\n",
    "\n",
    "- customerID — ID пользователя;\n",
    "- gender — пол;\n",
    "- SeniorCitizen — является ли абонент пенсионером;\n",
    "- Partner — есть ли у абонента супруг или супруга;\n",
    "- Dependents — есть ли у абонента дети.\n",
    "\n",
    "Таблица telecom.internet\n",
    "\n",
    "- customerID — ID пользователя;\n",
    "- InternetService — тип подключения;\n",
    "- OnlineSecurity — блокировка опасных сайтов;\n",
    "- OnlineBackup — облачное хранилище файлов для резервного копирования данных;\n",
    "- DeviceProtection — антивирус;\n",
    "- TechSupport — выделенная линия технической поддержки;\n",
    "- StreamingTV — стриминговое телевидение;\n",
    "- StreamingMovies — каталог фильмов.\n",
    "\n",
    "Таблица telecom.phone\n",
    "\n",
    "- customerID — ID пользователя;\n",
    "- MultipleLines — подключение телефона к нескольким линиям одновременно.\n",
    "\n",
    "Информация о договорах актуальна на 1 февраля 2020."
   ]
  },
  {
   "cell_type": "markdown",
   "id": "b0d0f65d",
   "metadata": {},
   "source": [
    "## Импорты и константы"
   ]
  },
  {
   "cell_type": "code",
   "execution_count": 1,
   "id": "1dac2d4b",
   "metadata": {},
   "outputs": [],
   "source": [
    "RANDOM_STATE = 231023"
   ]
  },
  {
   "cell_type": "code",
   "execution_count": 2,
   "id": "374bc67e",
   "metadata": {},
   "outputs": [
    {
     "name": "stdout",
     "output_type": "stream",
     "text": [
      "Collecting phik\n",
      "  Downloading phik-0.12.3-cp39-cp39-manylinux_2_17_x86_64.manylinux2014_x86_64.whl (679 kB)\n",
      "\u001b[K     |████████████████████████████████| 679 kB 994 kB/s eta 0:00:01\n",
      "\u001b[?25hRequirement already satisfied: pandas>=0.25.1 in /opt/conda/lib/python3.9/site-packages (from phik) (1.2.4)\n",
      "Requirement already satisfied: joblib>=0.14.1 in /opt/conda/lib/python3.9/site-packages (from phik) (1.1.0)\n",
      "Requirement already satisfied: matplotlib>=2.2.3 in /opt/conda/lib/python3.9/site-packages (from phik) (3.3.4)\n",
      "Requirement already satisfied: numpy>=1.18.0 in /opt/conda/lib/python3.9/site-packages (from phik) (1.21.1)\n",
      "Requirement already satisfied: scipy>=1.5.2 in /opt/conda/lib/python3.9/site-packages (from phik) (1.9.1)\n",
      "Requirement already satisfied: pillow>=6.2.0 in /opt/conda/lib/python3.9/site-packages (from matplotlib>=2.2.3->phik) (8.4.0)\n",
      "Requirement already satisfied: cycler>=0.10 in /opt/conda/lib/python3.9/site-packages (from matplotlib>=2.2.3->phik) (0.11.0)\n",
      "Requirement already satisfied: pyparsing!=2.0.4,!=2.1.2,!=2.1.6,>=2.0.3 in /opt/conda/lib/python3.9/site-packages (from matplotlib>=2.2.3->phik) (2.4.7)\n",
      "Requirement already satisfied: python-dateutil>=2.1 in /opt/conda/lib/python3.9/site-packages (from matplotlib>=2.2.3->phik) (2.8.1)\n",
      "Requirement already satisfied: kiwisolver>=1.0.1 in /opt/conda/lib/python3.9/site-packages (from matplotlib>=2.2.3->phik) (1.4.4)\n",
      "Requirement already satisfied: pytz>=2017.3 in /opt/conda/lib/python3.9/site-packages (from pandas>=0.25.1->phik) (2021.1)\n",
      "Requirement already satisfied: six>=1.5 in /opt/conda/lib/python3.9/site-packages (from python-dateutil>=2.1->matplotlib>=2.2.3->phik) (1.16.0)\n",
      "Installing collected packages: phik\n",
      "Successfully installed phik-0.12.3\n"
     ]
    }
   ],
   "source": [
    "!pip install phik"
   ]
  },
  {
   "cell_type": "code",
   "execution_count": 3,
   "id": "83127c77",
   "metadata": {},
   "outputs": [
    {
     "name": "stdout",
     "output_type": "stream",
     "text": [
      "Collecting torchvision\n",
      "  Downloading torchvision-0.16.0-cp39-cp39-manylinux1_x86_64.whl (6.9 MB)\n",
      "\u001b[K     |████████████████████████████████| 6.9 MB 994 kB/s eta 0:00:01\n",
      "\u001b[?25hCollecting torch==2.1.0\n",
      "  Downloading torch-2.1.0-cp39-cp39-manylinux1_x86_64.whl (670.2 MB)\n",
      "\u001b[K     |████████████████████████████████| 670.2 MB 1.2 kB/s  eta 0:00:011 0:01:16MB 52.9 MB/s eta 0:00:10MB/s eta 0:00:09MB/s eta 0:00:06     |███████████▎                    | 237.3 MB 74.2 MB/s eta 0:00:06█▋                    | 242.9 MB 74.2 MB/s eta 0:00:06    |██████████████▋                 | 306.8 MB 106.7 MB/s eta 0:00:04     |███████████████                 | 312.8 MB 106.7 MB/s eta 0:00:04| 325.1 MB 106.7 MB/s eta 0:00:04███████████████████▏        | 485.4 MB 10.5 MB/s eta 0:00:18██████████████████████▌       | 513.1 MB 10.5 MB/s eta 0:00:15��████████████████▉       | 519.1 MB 10.5 MB/s eta 0:00:15��█████████████▋    | 577.6 MB 28.5 MB/s eta 0:00:04    |████████████████████████████▏   | 590.0 MB 118.1 MB/s eta 0:00:01�█▊ | 643.2 MB 36.5 MB/s eta 0:00:01�██ | 649.3 MB 36.5 MB/s eta 0:00:01█████████████▋| 661.6 MB 36.5 MB/s eta 0:00:01\n",
      "\u001b[?25hRequirement already satisfied: requests in /opt/conda/lib/python3.9/site-packages (from torchvision) (2.25.1)\n",
      "Requirement already satisfied: numpy in /opt/conda/lib/python3.9/site-packages (from torchvision) (1.21.1)\n",
      "Requirement already satisfied: pillow!=8.3.*,>=5.3.0 in /opt/conda/lib/python3.9/site-packages (from torchvision) (8.4.0)\n",
      "Collecting fsspec\n",
      "  Downloading fsspec-2023.10.0-py3-none-any.whl (166 kB)\n",
      "\u001b[K     |████████████████████████████████| 166 kB 97.0 MB/s eta 0:00:01\n",
      "\u001b[?25hCollecting networkx\n",
      "  Downloading networkx-3.2-py3-none-any.whl (1.6 MB)\n",
      "\u001b[K     |████████████████████████████████| 1.6 MB 87.8 MB/s eta 0:00:01\n",
      "\u001b[?25hCollecting nvidia-cublas-cu12==12.1.3.1\n",
      "  Downloading nvidia_cublas_cu12-12.1.3.1-py3-none-manylinux1_x86_64.whl (410.6 MB)\n",
      "\u001b[K     |████████████████████████████████| 410.6 MB 1.5 kB/s  eta 0:00:011    |▌                               | 6.2 MB 16.9 MB/s eta 0:00:25     |███▌                            | 44.9 MB 16.9 MB/s eta 0:00:22MB/s eta 0:00:03          | 199.7 MB 17.6 MB/s eta 0:00:13��█▏            | 246.5 MB 19.8 MB/s eta 0:00:09███████████████████▊            | 252.6 MB 19.8 MB/s eta 0:00:08█▋          | 276.8 MB 19.8 MB/s eta 0:00:07 323.6 MB 100.2 MB/s eta 0:00:01�███████▋      | 329.1 MB 100.2 MB/s eta 0:00:01     | 335.7 MB 100.2 MB/s eta 0:00:01ta 0:00:029.7 MB/s eta 0:00:02\n",
      "\u001b[?25hRequirement already satisfied: filelock in /opt/conda/lib/python3.9/site-packages (from torch==2.1.0->torchvision) (3.8.0)\n",
      "Collecting triton==2.1.0\n",
      "  Downloading triton-2.1.0-0-cp39-cp39-manylinux2014_x86_64.manylinux_2_17_x86_64.whl (89.3 MB)\n",
      "\u001b[K     |████████████████████████████████| 89.3 MB 4.1 kB/s s eta 0:00:01�████████████            | 55.6 MB 374 kB/s eta 0:01:30ta 0:00:01\n",
      "\u001b[?25hRequirement already satisfied: typing-extensions in /opt/conda/lib/python3.9/site-packages (from torch==2.1.0->torchvision) (4.3.0)\n",
      "Collecting nvidia-cusparse-cu12==12.1.0.106\n",
      "  Downloading nvidia_cusparse_cu12-12.1.0.106-py3-none-manylinux1_x86_64.whl (196.0 MB)\n",
      "\u001b[K     |████████████████████████████████| 196.0 MB 11 kB/s s eta 0:00:01        | 33.5 MB 56.5 MB/s eta 0:00:03��███▎                        | 44.7 MB 125.8 MB/s eta 0:00:02�████████▏               | 98.7 MB 92.1 MB/s eta 0:00:02��█████████████▏              | 105.1 MB 92.1 MB/s eta 0:00:01131.8 MB 92.1 MB/s eta 0:00:0101\n",
      "\u001b[?25hCollecting nvidia-cuda-cupti-cu12==12.1.105\n",
      "  Downloading nvidia_cuda_cupti_cu12-12.1.105-py3-none-manylinux1_x86_64.whl (14.1 MB)\n",
      "\u001b[K     |████████████████████████████████| 14.1 MB 86.0 MB/s eta 0:00:01\n",
      "\u001b[?25hCollecting nvidia-curand-cu12==10.3.2.106\n",
      "  Downloading nvidia_curand_cu12-10.3.2.106-py3-none-manylinux1_x86_64.whl (56.5 MB)\n",
      "\u001b[K     |████████████████████████████████| 56.5 MB 46 kB/s  eta 0:00:0101\n",
      "\u001b[?25hCollecting nvidia-nvtx-cu12==12.1.105\n",
      "  Downloading nvidia_nvtx_cu12-12.1.105-py3-none-manylinux1_x86_64.whl (99 kB)\n",
      "\u001b[K     |████████████████████████████████| 99 kB 3.3 MB/s s eta 0:00:01\n",
      "\u001b[?25hCollecting sympy\n",
      "  Downloading sympy-1.12-py3-none-any.whl (5.7 MB)\n",
      "\u001b[K     |████████████████████████████████| 5.7 MB 61.0 MB/s eta 0:00:01\n",
      "\u001b[?25hCollecting nvidia-cusolver-cu12==11.4.5.107\n",
      "  Downloading nvidia_cusolver_cu12-11.4.5.107-py3-none-manylinux1_x86_64.whl (124.2 MB)\n",
      "\u001b[K     |████████████████████████████████| 124.2 MB 8.8 kB/s s eta 0:00:01              | 28.6 MB 85.6 MB/s eta 0:00:02 eta 0:00:02     |████████████████████▉           | 80.7 MB 12.9 MB/s eta 0:00:04�██████████▎      | 98.1 MB 12.9 MB/s eta 0:00:03\n",
      "\u001b[?25hCollecting nvidia-cufft-cu12==11.0.2.54\n",
      "  Downloading nvidia_cufft_cu12-11.0.2.54-py3-none-manylinux1_x86_64.whl (121.6 MB)\n",
      "\u001b[K     |████████████████████████████████| 121.6 MB 12 kB/s  eta 0:00:01:03��████████▏                   | 46.4 MB 46.0 MB/s eta 0:00:02.7 MB 4.8 MB/s eta 0:00:03\n",
      "\u001b[?25hCollecting nvidia-nccl-cu12==2.18.1\n",
      "  Downloading nvidia_nccl_cu12-2.18.1-py3-none-manylinux1_x86_64.whl (209.8 MB)\n",
      "\u001b[K     |████████████████████████████████| 209.8 MB 1.1 kB/s  eta 0:00:01MB 75.2 MB/s eta 0:00:03                | 54.5 MB 3.7 MB/s eta 0:00:43                    | 57.6 MB 3.7 MB/s eta 0:00:42███▉                 | 97.0 MB 18.0 MB/s eta 0:00:07 |███████████████▌                | 101.9 MB 18.0 MB/s eta 0:00:06��██████████████              | 117.8 MB 18.0 MB/s eta 0:00:06| 123.8 MB 18.0 MB/s eta 0:00:05��████████████████▉       | 162.7 MB 19.2 MB/s eta 0:00:03 0:00:01\n",
      "\u001b[?25hCollecting nvidia-cuda-nvrtc-cu12==12.1.105\n",
      "  Downloading nvidia_cuda_nvrtc_cu12-12.1.105-py3-none-manylinux1_x86_64.whl (23.7 MB)\n",
      "\u001b[K     |████████████████████████████████| 23.7 MB 7.0 MB/s eta 0:00:01��███████████████   | 21.4 MB 7.0 MB/s eta 0:00:01\n",
      "\u001b[?25hCollecting nvidia-cuda-runtime-cu12==12.1.105\n",
      "  Downloading nvidia_cuda_runtime_cu12-12.1.105-py3-none-manylinux1_x86_64.whl (823 kB)\n",
      "\u001b[K     |████████████████████████████████| 823 kB 66.5 MB/s eta 0:00:01\n",
      "\u001b[?25hRequirement already satisfied: jinja2 in /opt/conda/lib/python3.9/site-packages (from torch==2.1.0->torchvision) (3.0.1)\n",
      "Collecting nvidia-cudnn-cu12==8.9.2.26\n",
      "  Downloading nvidia_cudnn_cu12-8.9.2.26-py3-none-manylinux1_x86_64.whl (731.7 MB)\n",
      "\u001b[K     |████████████████████████████████| 731.7 MB 3.6 kB/s  eta 0:00:012     |██                              | 46.8 MB 86.0 MB/s eta 0:00:0870.9 MB 5.7 MB/s eta 0:01:56�                           | 105.4 MB 5.7 MB/s eta 0:01:50 eta 0:00:46████▋                         | 151.4 MB 13.6 MB/s eta 0:00:43��███▏                        | 164.0 MB 13.6 MB/s eta 0:00:42                  | 185.1 MB 31.4 MB/s eta 0:00:18 0:00:18MB/s eta 0:00:19| 232.4 MB 28.0 MB/s eta 0:00:18�█▍                     | 238.1 MB 28.0 MB/s eta 0:00:18��█████▍                    | 260.3 MB 28.0 MB/s eta 0:00:17�████████████▏                | 345.9 MB 7.1 MB/s eta 0:00:55  | 377.9 MB 7.1 MB/s eta 0:00:50 | 419.2 MB 135.4 MB/s eta 0:00:03�██████▋             | 425.8 MB 135.4 MB/s eta 0:00:03�███████▌            | 445.7 MB 111.5 MB/s eta 0:00:03��███████████████████▉           | 477.0 MB 111.5 MB/s eta 0:00:031.5 MB/s eta 0:00:03�██████▍          | 488.6 MB 111.5 MB/s eta 0:00:03     |██████████████████████▎         | 509.6 MB 102.9 MB/s eta 0:00:03��████████████████████▌         | 513.5 MB 102.9 MB/s eta 0:00:03  |████████████████████████        | 547.5 MB 4.9 MB/s eta 0:00:38████████████████       | 569.5 MB 4.9 MB/s eta 0:00:344��████████▎    | 622.9 MB 5.0 MB/s eta 0:00:22��███████████████████▏   | 644.5 MB 3.0 MB/s eta 0:00:30��███████████████████▍   | 648.8 MB 3.0 MB/s eta 0:00:28 MB/s eta 0:00:26    |█████████████████████████████▍  | 672.4 MB 3.0 MB/s eta 0:00:20████████████████████████████▊ | 701.8 MB 15.7 MB/s eta 0:00:02�████████████▏| 711.9 MB 15.7 MB/s eta 0:00:02\n",
      "\u001b[?25hCollecting nvidia-nvjitlink-cu12\n",
      "  Downloading nvidia_nvjitlink_cu12-12.3.52-py3-none-manylinux1_x86_64.whl (20.5 MB)\n",
      "\u001b[K     |████████████████████████████████| 20.5 MB 18 kB/s /s eta 0:00:01\n",
      "\u001b[?25hRequirement already satisfied: MarkupSafe>=2.0 in /opt/conda/lib/python3.9/site-packages (from jinja2->torch==2.1.0->torchvision) (2.1.1)\n",
      "Requirement already satisfied: chardet<5,>=3.0.2 in /opt/conda/lib/python3.9/site-packages (from requests->torchvision) (4.0.0)\n",
      "Requirement already satisfied: certifi>=2017.4.17 in /opt/conda/lib/python3.9/site-packages (from requests->torchvision) (2022.6.15)\n",
      "Requirement already satisfied: urllib3<1.27,>=1.21.1 in /opt/conda/lib/python3.9/site-packages (from requests->torchvision) (1.26.6)\n",
      "Requirement already satisfied: idna<3,>=2.5 in /opt/conda/lib/python3.9/site-packages (from requests->torchvision) (2.10)\n",
      "Collecting mpmath>=0.19\n",
      "  Downloading mpmath-1.3.0-py3-none-any.whl (536 kB)\n",
      "\u001b[K     |████████████████████████████████| 536 kB 87.5 MB/s eta 0:00:01\n",
      "\u001b[?25hInstalling collected packages: nvidia-nvjitlink-cu12, nvidia-cusparse-cu12, nvidia-cublas-cu12, mpmath, triton, sympy, nvidia-nvtx-cu12, nvidia-nccl-cu12, nvidia-cusolver-cu12, nvidia-curand-cu12, nvidia-cufft-cu12, nvidia-cudnn-cu12, nvidia-cuda-runtime-cu12, nvidia-cuda-nvrtc-cu12, nvidia-cuda-cupti-cu12, networkx, fsspec, torch, torchvision\n",
      "  Attempting uninstall: torch\n",
      "    Found existing installation: torch 1.10.0\n",
      "    Uninstalling torch-1.10.0:\n",
      "      Successfully uninstalled torch-1.10.0\n",
      "Successfully installed fsspec-2023.10.0 mpmath-1.3.0 networkx-3.2 nvidia-cublas-cu12-12.1.3.1 nvidia-cuda-cupti-cu12-12.1.105 nvidia-cuda-nvrtc-cu12-12.1.105 nvidia-cuda-runtime-cu12-12.1.105 nvidia-cudnn-cu12-8.9.2.26 nvidia-cufft-cu12-11.0.2.54 nvidia-curand-cu12-10.3.2.106 nvidia-cusolver-cu12-11.4.5.107 nvidia-cusparse-cu12-12.1.0.106 nvidia-nccl-cu12-2.18.1 nvidia-nvjitlink-cu12-12.3.52 nvidia-nvtx-cu12-12.1.105 sympy-1.12 torch-2.1.0 torchvision-0.16.0 triton-2.1.0\n"
     ]
    }
   ],
   "source": [
    "!pip install torchvision"
   ]
  },
  {
   "cell_type": "code",
   "execution_count": 4,
   "id": "aa461be4",
   "metadata": {},
   "outputs": [],
   "source": [
    "from sqlalchemy import create_engine\n",
    "\n",
    "import pandas as pd\n",
    "import numpy as np\n",
    "import matplotlib.pyplot as plt\n",
    "import seaborn as sns\n",
    "\n",
    "import warnings\n",
    "import time\n",
    "from tqdm import tqdm\n",
    "from tqdm import notebook\n",
    "tqdm.pandas()\n",
    "\n",
    "import phik\n",
    "from phik.report import plot_correlation_matrix\n",
    "from phik import report\n",
    "\n",
    "from sklearn.compose import ColumnTransformer\n",
    "from sklearn.preprocessing import StandardScaler, OneHotEncoder\n",
    "from sklearn.utils import shuffle\n",
    "from sklearn.ensemble import RandomForestClassifier\n",
    "from sklearn.metrics import precision_score, recall_score, f1_score, roc_auc_score, classification_report, roc_curve, confusion_matrix, accuracy_score, make_scorer\n",
    "from sklearn.model_selection import train_test_split, GridSearchCV\n",
    "from sklearn.metrics import precision_recall_curve\n",
    "from catboost import CatBoostClassifier\n",
    "from lightgbm import LGBMClassifier\n",
    "\n",
    "\n",
    "\n",
    "import torch\n",
    "import torch.nn as nn\n",
    "from torch.utils.data import Dataset, DataLoader"
   ]
  },
  {
   "cell_type": "markdown",
   "id": "27fcb71f",
   "metadata": {},
   "source": [
    "## Распаковка данных"
   ]
  },
  {
   "cell_type": "code",
   "execution_count": 5,
   "id": "5dd89d6c",
   "metadata": {},
   "outputs": [],
   "source": [
    "db_config = {\n",
    "            'user': 'praktikum_student', # Имя пользователя\n",
    "            'pwd': 'Sdf4$2;d-d30pp', # Пароль\n",
    "            'host': 'rc1b-wcoijxj3yxfsf3fs.mdb.yandexcloud.net', # Хост\n",
    "            'port': 6432, # Порт подключения\n",
    "            'db': 'data-science-final' # Название базы данных,\n",
    "            }\n",
    "\n",
    "connection_string = 'postgresql://{}:{}@{}:{}/{}'.format(\n",
    "    db_config['user'],\n",
    "    db_config['pwd'],\n",
    "    db_config['host'],\n",
    "    db_config['port'],\n",
    "    db_config['db'],\n",
    ") \n",
    "\n",
    "engine = create_engine(connection_string)"
   ]
  },
  {
   "cell_type": "code",
   "execution_count": 6,
   "id": "98b5aca0",
   "metadata": {},
   "outputs": [],
   "source": [
    "contract = '''\n",
    "SELECT *\n",
    "FROM telecom.contract\n",
    "'''\n",
    "contract = pd.read_sql_query(contract, con = engine)\n",
    "contract.name = 'contract'\n"
   ]
  },
  {
   "cell_type": "code",
   "execution_count": 7,
   "id": "129dfbd9",
   "metadata": {},
   "outputs": [
    {
     "data": {
      "text/html": [
       "<div>\n",
       "<style scoped>\n",
       "    .dataframe tbody tr th:only-of-type {\n",
       "        vertical-align: middle;\n",
       "    }\n",
       "\n",
       "    .dataframe tbody tr th {\n",
       "        vertical-align: top;\n",
       "    }\n",
       "\n",
       "    .dataframe thead th {\n",
       "        text-align: right;\n",
       "    }\n",
       "</style>\n",
       "<table border=\"1\" class=\"dataframe\">\n",
       "  <thead>\n",
       "    <tr style=\"text-align: right;\">\n",
       "      <th></th>\n",
       "      <th>customerID</th>\n",
       "      <th>BeginDate</th>\n",
       "      <th>EndDate</th>\n",
       "      <th>Type</th>\n",
       "      <th>PaperlessBilling</th>\n",
       "      <th>PaymentMethod</th>\n",
       "      <th>MonthlyCharges</th>\n",
       "      <th>TotalCharges</th>\n",
       "    </tr>\n",
       "  </thead>\n",
       "  <tbody>\n",
       "    <tr>\n",
       "      <th>0</th>\n",
       "      <td>4472-LVYGI</td>\n",
       "      <td>2020-02-01</td>\n",
       "      <td>None</td>\n",
       "      <td>Two year</td>\n",
       "      <td>Yes</td>\n",
       "      <td>Bank transfer (automatic)</td>\n",
       "      <td>52.55</td>\n",
       "      <td>NaN</td>\n",
       "    </tr>\n",
       "    <tr>\n",
       "      <th>1</th>\n",
       "      <td>3115-CZMZD</td>\n",
       "      <td>2020-02-01</td>\n",
       "      <td>None</td>\n",
       "      <td>Two year</td>\n",
       "      <td>No</td>\n",
       "      <td>Mailed check</td>\n",
       "      <td>20.25</td>\n",
       "      <td>NaN</td>\n",
       "    </tr>\n",
       "    <tr>\n",
       "      <th>2</th>\n",
       "      <td>3668-QPYBK</td>\n",
       "      <td>2018-08-09</td>\n",
       "      <td>2019-12-01</td>\n",
       "      <td>Month-to-month</td>\n",
       "      <td>Yes</td>\n",
       "      <td>Mailed check</td>\n",
       "      <td>53.85</td>\n",
       "      <td>108.15</td>\n",
       "    </tr>\n",
       "    <tr>\n",
       "      <th>3</th>\n",
       "      <td>5709-LVOEQ</td>\n",
       "      <td>2020-02-01</td>\n",
       "      <td>None</td>\n",
       "      <td>Two year</td>\n",
       "      <td>No</td>\n",
       "      <td>Mailed check</td>\n",
       "      <td>80.85</td>\n",
       "      <td>NaN</td>\n",
       "    </tr>\n",
       "    <tr>\n",
       "      <th>4</th>\n",
       "      <td>9237-HQITU</td>\n",
       "      <td>2019-01-26</td>\n",
       "      <td>2019-11-01</td>\n",
       "      <td>Month-to-month</td>\n",
       "      <td>Yes</td>\n",
       "      <td>Electronic check</td>\n",
       "      <td>70.70</td>\n",
       "      <td>151.65</td>\n",
       "    </tr>\n",
       "  </tbody>\n",
       "</table>\n",
       "</div>"
      ],
      "text/plain": [
       "   customerID   BeginDate     EndDate            Type PaperlessBilling  \\\n",
       "0  4472-LVYGI  2020-02-01        None        Two year              Yes   \n",
       "1  3115-CZMZD  2020-02-01        None        Two year               No   \n",
       "2  3668-QPYBK  2018-08-09  2019-12-01  Month-to-month              Yes   \n",
       "3  5709-LVOEQ  2020-02-01        None        Two year               No   \n",
       "4  9237-HQITU  2019-01-26  2019-11-01  Month-to-month              Yes   \n",
       "\n",
       "               PaymentMethod  MonthlyCharges  TotalCharges  \n",
       "0  Bank transfer (automatic)           52.55           NaN  \n",
       "1               Mailed check           20.25           NaN  \n",
       "2               Mailed check           53.85        108.15  \n",
       "3               Mailed check           80.85           NaN  \n",
       "4           Electronic check           70.70        151.65  "
      ]
     },
     "execution_count": 7,
     "metadata": {},
     "output_type": "execute_result"
    }
   ],
   "source": [
    "contract.head()"
   ]
  },
  {
   "cell_type": "code",
   "execution_count": 8,
   "id": "3e16a884",
   "metadata": {},
   "outputs": [
    {
     "name": "stdout",
     "output_type": "stream",
     "text": [
      "<class 'pandas.core.frame.DataFrame'>\n",
      "RangeIndex: 7043 entries, 0 to 7042\n",
      "Data columns (total 8 columns):\n",
      " #   Column            Non-Null Count  Dtype  \n",
      "---  ------            --------------  -----  \n",
      " 0   customerID        7043 non-null   object \n",
      " 1   BeginDate         7043 non-null   object \n",
      " 2   EndDate           1869 non-null   object \n",
      " 3   Type              7043 non-null   object \n",
      " 4   PaperlessBilling  7043 non-null   object \n",
      " 5   PaymentMethod     7043 non-null   object \n",
      " 6   MonthlyCharges    7043 non-null   float64\n",
      " 7   TotalCharges      7032 non-null   float64\n",
      "dtypes: float64(2), object(6)\n",
      "memory usage: 440.3+ KB\n"
     ]
    }
   ],
   "source": [
    "contract.info()"
   ]
  },
  {
   "cell_type": "markdown",
   "id": "3eaf3bf0",
   "metadata": {},
   "source": [
    "Наименования столбцов в порядке. В столбцах BeginDate и EndDate нужно сменить тип данных .\n",
    "\n",
    "Рассмотрим пропуски в столбце TotalCharges."
   ]
  },
  {
   "cell_type": "code",
   "execution_count": 9,
   "id": "a3388918",
   "metadata": {},
   "outputs": [
    {
     "data": {
      "text/html": [
       "<div>\n",
       "<style scoped>\n",
       "    .dataframe tbody tr th:only-of-type {\n",
       "        vertical-align: middle;\n",
       "    }\n",
       "\n",
       "    .dataframe tbody tr th {\n",
       "        vertical-align: top;\n",
       "    }\n",
       "\n",
       "    .dataframe thead th {\n",
       "        text-align: right;\n",
       "    }\n",
       "</style>\n",
       "<table border=\"1\" class=\"dataframe\">\n",
       "  <thead>\n",
       "    <tr style=\"text-align: right;\">\n",
       "      <th></th>\n",
       "      <th>customerID</th>\n",
       "      <th>BeginDate</th>\n",
       "      <th>EndDate</th>\n",
       "      <th>Type</th>\n",
       "      <th>PaperlessBilling</th>\n",
       "      <th>PaymentMethod</th>\n",
       "      <th>MonthlyCharges</th>\n",
       "      <th>TotalCharges</th>\n",
       "    </tr>\n",
       "  </thead>\n",
       "  <tbody>\n",
       "    <tr>\n",
       "      <th>0</th>\n",
       "      <td>4472-LVYGI</td>\n",
       "      <td>2020-02-01</td>\n",
       "      <td>None</td>\n",
       "      <td>Two year</td>\n",
       "      <td>Yes</td>\n",
       "      <td>Bank transfer (automatic)</td>\n",
       "      <td>52.55</td>\n",
       "      <td>NaN</td>\n",
       "    </tr>\n",
       "    <tr>\n",
       "      <th>1</th>\n",
       "      <td>3115-CZMZD</td>\n",
       "      <td>2020-02-01</td>\n",
       "      <td>None</td>\n",
       "      <td>Two year</td>\n",
       "      <td>No</td>\n",
       "      <td>Mailed check</td>\n",
       "      <td>20.25</td>\n",
       "      <td>NaN</td>\n",
       "    </tr>\n",
       "    <tr>\n",
       "      <th>3</th>\n",
       "      <td>5709-LVOEQ</td>\n",
       "      <td>2020-02-01</td>\n",
       "      <td>None</td>\n",
       "      <td>Two year</td>\n",
       "      <td>No</td>\n",
       "      <td>Mailed check</td>\n",
       "      <td>80.85</td>\n",
       "      <td>NaN</td>\n",
       "    </tr>\n",
       "    <tr>\n",
       "      <th>6</th>\n",
       "      <td>4367-NUYAO</td>\n",
       "      <td>2020-02-01</td>\n",
       "      <td>None</td>\n",
       "      <td>Two year</td>\n",
       "      <td>No</td>\n",
       "      <td>Mailed check</td>\n",
       "      <td>25.75</td>\n",
       "      <td>NaN</td>\n",
       "    </tr>\n",
       "    <tr>\n",
       "      <th>7</th>\n",
       "      <td>1371-DWPAZ</td>\n",
       "      <td>2020-02-01</td>\n",
       "      <td>None</td>\n",
       "      <td>Two year</td>\n",
       "      <td>No</td>\n",
       "      <td>Credit card (automatic)</td>\n",
       "      <td>56.05</td>\n",
       "      <td>NaN</td>\n",
       "    </tr>\n",
       "    <tr>\n",
       "      <th>9</th>\n",
       "      <td>3213-VVOLG</td>\n",
       "      <td>2020-02-01</td>\n",
       "      <td>None</td>\n",
       "      <td>Two year</td>\n",
       "      <td>No</td>\n",
       "      <td>Mailed check</td>\n",
       "      <td>25.35</td>\n",
       "      <td>NaN</td>\n",
       "    </tr>\n",
       "    <tr>\n",
       "      <th>10</th>\n",
       "      <td>2923-ARZLG</td>\n",
       "      <td>2020-02-01</td>\n",
       "      <td>None</td>\n",
       "      <td>One year</td>\n",
       "      <td>Yes</td>\n",
       "      <td>Mailed check</td>\n",
       "      <td>19.70</td>\n",
       "      <td>NaN</td>\n",
       "    </tr>\n",
       "    <tr>\n",
       "      <th>11</th>\n",
       "      <td>2775-SEFEE</td>\n",
       "      <td>2020-02-01</td>\n",
       "      <td>None</td>\n",
       "      <td>Two year</td>\n",
       "      <td>Yes</td>\n",
       "      <td>Bank transfer (automatic)</td>\n",
       "      <td>61.90</td>\n",
       "      <td>NaN</td>\n",
       "    </tr>\n",
       "    <tr>\n",
       "      <th>4408</th>\n",
       "      <td>7644-OMVMY</td>\n",
       "      <td>2020-02-01</td>\n",
       "      <td>None</td>\n",
       "      <td>Two year</td>\n",
       "      <td>No</td>\n",
       "      <td>Mailed check</td>\n",
       "      <td>19.85</td>\n",
       "      <td>NaN</td>\n",
       "    </tr>\n",
       "    <tr>\n",
       "      <th>5160</th>\n",
       "      <td>2520-SGTTA</td>\n",
       "      <td>2020-02-01</td>\n",
       "      <td>None</td>\n",
       "      <td>Two year</td>\n",
       "      <td>No</td>\n",
       "      <td>Mailed check</td>\n",
       "      <td>20.00</td>\n",
       "      <td>NaN</td>\n",
       "    </tr>\n",
       "    <tr>\n",
       "      <th>6839</th>\n",
       "      <td>4075-WKNIU</td>\n",
       "      <td>2020-02-01</td>\n",
       "      <td>None</td>\n",
       "      <td>Two year</td>\n",
       "      <td>No</td>\n",
       "      <td>Mailed check</td>\n",
       "      <td>73.35</td>\n",
       "      <td>NaN</td>\n",
       "    </tr>\n",
       "  </tbody>\n",
       "</table>\n",
       "</div>"
      ],
      "text/plain": [
       "      customerID   BeginDate EndDate      Type PaperlessBilling  \\\n",
       "0     4472-LVYGI  2020-02-01    None  Two year              Yes   \n",
       "1     3115-CZMZD  2020-02-01    None  Two year               No   \n",
       "3     5709-LVOEQ  2020-02-01    None  Two year               No   \n",
       "6     4367-NUYAO  2020-02-01    None  Two year               No   \n",
       "7     1371-DWPAZ  2020-02-01    None  Two year               No   \n",
       "9     3213-VVOLG  2020-02-01    None  Two year               No   \n",
       "10    2923-ARZLG  2020-02-01    None  One year              Yes   \n",
       "11    2775-SEFEE  2020-02-01    None  Two year              Yes   \n",
       "4408  7644-OMVMY  2020-02-01    None  Two year               No   \n",
       "5160  2520-SGTTA  2020-02-01    None  Two year               No   \n",
       "6839  4075-WKNIU  2020-02-01    None  Two year               No   \n",
       "\n",
       "                  PaymentMethod  MonthlyCharges  TotalCharges  \n",
       "0     Bank transfer (automatic)           52.55           NaN  \n",
       "1                  Mailed check           20.25           NaN  \n",
       "3                  Mailed check           80.85           NaN  \n",
       "6                  Mailed check           25.75           NaN  \n",
       "7       Credit card (automatic)           56.05           NaN  \n",
       "9                  Mailed check           25.35           NaN  \n",
       "10                 Mailed check           19.70           NaN  \n",
       "11    Bank transfer (automatic)           61.90           NaN  \n",
       "4408               Mailed check           19.85           NaN  \n",
       "5160               Mailed check           20.00           NaN  \n",
       "6839               Mailed check           73.35           NaN  "
      ]
     },
     "execution_count": 9,
     "metadata": {},
     "output_type": "execute_result"
    }
   ],
   "source": [
    "contract.loc[contract.TotalCharges.isna()]"
   ]
  },
  {
   "cell_type": "code",
   "execution_count": 10,
   "id": "05dc16f6",
   "metadata": {},
   "outputs": [
    {
     "data": {
      "text/plain": [
       "2020-02-01    11\n",
       "Name: BeginDate, dtype: int64"
      ]
     },
     "execution_count": 10,
     "metadata": {},
     "output_type": "execute_result"
    }
   ],
   "source": [
    "contract.loc[contract.TotalCharges.isna()]['BeginDate'].value_counts()"
   ]
  },
  {
   "cell_type": "markdown",
   "id": "10ec71af",
   "metadata": {},
   "source": [
    "Данные пропущенные значения связаны лишь с теми людьми, которые сформировали договор с «ТелеДом» в последний день сбора данных (\"Информация о договорах актуальна на 1 февраля 2020\"), никакой полезной информации они не предоставят, мы их удалим. "
   ]
  },
  {
   "cell_type": "code",
   "execution_count": 11,
   "id": "e1e8bdfd",
   "metadata": {},
   "outputs": [],
   "source": [
    "personal = '''\n",
    "SELECT *\n",
    "FROM telecom.personal\n",
    "'''\n",
    "personal = pd.read_sql_query(personal, con = engine)\n",
    "personal.name = 'personal'"
   ]
  },
  {
   "cell_type": "code",
   "execution_count": 12,
   "id": "e87f5f0c",
   "metadata": {},
   "outputs": [
    {
     "data": {
      "text/html": [
       "<div>\n",
       "<style scoped>\n",
       "    .dataframe tbody tr th:only-of-type {\n",
       "        vertical-align: middle;\n",
       "    }\n",
       "\n",
       "    .dataframe tbody tr th {\n",
       "        vertical-align: top;\n",
       "    }\n",
       "\n",
       "    .dataframe thead th {\n",
       "        text-align: right;\n",
       "    }\n",
       "</style>\n",
       "<table border=\"1\" class=\"dataframe\">\n",
       "  <thead>\n",
       "    <tr style=\"text-align: right;\">\n",
       "      <th></th>\n",
       "      <th>customerID</th>\n",
       "      <th>gender</th>\n",
       "      <th>SeniorCitizen</th>\n",
       "      <th>Partner</th>\n",
       "      <th>Dependents</th>\n",
       "    </tr>\n",
       "  </thead>\n",
       "  <tbody>\n",
       "    <tr>\n",
       "      <th>0</th>\n",
       "      <td>7590-VHVEG</td>\n",
       "      <td>Female</td>\n",
       "      <td>0</td>\n",
       "      <td>Yes</td>\n",
       "      <td>No</td>\n",
       "    </tr>\n",
       "    <tr>\n",
       "      <th>1</th>\n",
       "      <td>5575-GNVDE</td>\n",
       "      <td>Male</td>\n",
       "      <td>0</td>\n",
       "      <td>No</td>\n",
       "      <td>No</td>\n",
       "    </tr>\n",
       "    <tr>\n",
       "      <th>2</th>\n",
       "      <td>3668-QPYBK</td>\n",
       "      <td>Male</td>\n",
       "      <td>0</td>\n",
       "      <td>No</td>\n",
       "      <td>No</td>\n",
       "    </tr>\n",
       "    <tr>\n",
       "      <th>3</th>\n",
       "      <td>7795-CFOCW</td>\n",
       "      <td>Male</td>\n",
       "      <td>0</td>\n",
       "      <td>No</td>\n",
       "      <td>No</td>\n",
       "    </tr>\n",
       "    <tr>\n",
       "      <th>4</th>\n",
       "      <td>9237-HQITU</td>\n",
       "      <td>Female</td>\n",
       "      <td>0</td>\n",
       "      <td>No</td>\n",
       "      <td>No</td>\n",
       "    </tr>\n",
       "  </tbody>\n",
       "</table>\n",
       "</div>"
      ],
      "text/plain": [
       "   customerID  gender  SeniorCitizen Partner Dependents\n",
       "0  7590-VHVEG  Female              0     Yes         No\n",
       "1  5575-GNVDE    Male              0      No         No\n",
       "2  3668-QPYBK    Male              0      No         No\n",
       "3  7795-CFOCW    Male              0      No         No\n",
       "4  9237-HQITU  Female              0      No         No"
      ]
     },
     "execution_count": 12,
     "metadata": {},
     "output_type": "execute_result"
    }
   ],
   "source": [
    "personal.head()"
   ]
  },
  {
   "cell_type": "code",
   "execution_count": 13,
   "id": "03ecebc0",
   "metadata": {},
   "outputs": [
    {
     "name": "stdout",
     "output_type": "stream",
     "text": [
      "<class 'pandas.core.frame.DataFrame'>\n",
      "RangeIndex: 7043 entries, 0 to 7042\n",
      "Data columns (total 5 columns):\n",
      " #   Column         Non-Null Count  Dtype \n",
      "---  ------         --------------  ----- \n",
      " 0   customerID     7043 non-null   object\n",
      " 1   gender         7043 non-null   object\n",
      " 2   SeniorCitizen  7043 non-null   int64 \n",
      " 3   Partner        7043 non-null   object\n",
      " 4   Dependents     7043 non-null   object\n",
      "dtypes: int64(1), object(4)\n",
      "memory usage: 275.2+ KB\n"
     ]
    }
   ],
   "source": [
    "personal.info()"
   ]
  },
  {
   "cell_type": "markdown",
   "id": "4a5062ae",
   "metadata": {},
   "source": [
    "В дальнейшем необходимо изменить данные в столбце SeniorCitizen (является ли абонент пенсионером) int -> object."
   ]
  },
  {
   "cell_type": "code",
   "execution_count": 14,
   "id": "e1e4aae7",
   "metadata": {},
   "outputs": [],
   "source": [
    "internet = '''\n",
    "SELECT *\n",
    "FROM telecom.internet\n",
    "'''\n",
    "internet = pd.read_sql_query(internet, con = engine)\n",
    "internet_columns = internet.iloc[0]\n",
    "internet = internet[1:]\n",
    "internet.columns = internet_columns\n",
    "internet.name = 'internet'"
   ]
  },
  {
   "cell_type": "code",
   "execution_count": 15,
   "id": "70842ab7",
   "metadata": {},
   "outputs": [
    {
     "data": {
      "text/html": [
       "<div>\n",
       "<style scoped>\n",
       "    .dataframe tbody tr th:only-of-type {\n",
       "        vertical-align: middle;\n",
       "    }\n",
       "\n",
       "    .dataframe tbody tr th {\n",
       "        vertical-align: top;\n",
       "    }\n",
       "\n",
       "    .dataframe thead th {\n",
       "        text-align: right;\n",
       "    }\n",
       "</style>\n",
       "<table border=\"1\" class=\"dataframe\">\n",
       "  <thead>\n",
       "    <tr style=\"text-align: right;\">\n",
       "      <th></th>\n",
       "      <th>customerID</th>\n",
       "      <th>InternetService</th>\n",
       "      <th>OnlineSecurity</th>\n",
       "      <th>OnlineBackup</th>\n",
       "      <th>DeviceProtection</th>\n",
       "      <th>TechSupport</th>\n",
       "      <th>StreamingTV</th>\n",
       "      <th>StreamingMovies</th>\n",
       "    </tr>\n",
       "  </thead>\n",
       "  <tbody>\n",
       "    <tr>\n",
       "      <th>1</th>\n",
       "      <td>7590-VHVEG</td>\n",
       "      <td>DSL</td>\n",
       "      <td>No</td>\n",
       "      <td>Yes</td>\n",
       "      <td>No</td>\n",
       "      <td>No</td>\n",
       "      <td>No</td>\n",
       "      <td>No</td>\n",
       "    </tr>\n",
       "    <tr>\n",
       "      <th>2</th>\n",
       "      <td>5575-GNVDE</td>\n",
       "      <td>DSL</td>\n",
       "      <td>Yes</td>\n",
       "      <td>No</td>\n",
       "      <td>Yes</td>\n",
       "      <td>No</td>\n",
       "      <td>No</td>\n",
       "      <td>No</td>\n",
       "    </tr>\n",
       "    <tr>\n",
       "      <th>3</th>\n",
       "      <td>3668-QPYBK</td>\n",
       "      <td>DSL</td>\n",
       "      <td>Yes</td>\n",
       "      <td>Yes</td>\n",
       "      <td>No</td>\n",
       "      <td>No</td>\n",
       "      <td>No</td>\n",
       "      <td>No</td>\n",
       "    </tr>\n",
       "    <tr>\n",
       "      <th>4</th>\n",
       "      <td>7795-CFOCW</td>\n",
       "      <td>DSL</td>\n",
       "      <td>Yes</td>\n",
       "      <td>No</td>\n",
       "      <td>Yes</td>\n",
       "      <td>Yes</td>\n",
       "      <td>No</td>\n",
       "      <td>No</td>\n",
       "    </tr>\n",
       "    <tr>\n",
       "      <th>5</th>\n",
       "      <td>9237-HQITU</td>\n",
       "      <td>Fiber optic</td>\n",
       "      <td>No</td>\n",
       "      <td>No</td>\n",
       "      <td>No</td>\n",
       "      <td>No</td>\n",
       "      <td>No</td>\n",
       "      <td>No</td>\n",
       "    </tr>\n",
       "  </tbody>\n",
       "</table>\n",
       "</div>"
      ],
      "text/plain": [
       "0  customerID InternetService OnlineSecurity OnlineBackup DeviceProtection  \\\n",
       "1  7590-VHVEG             DSL             No          Yes               No   \n",
       "2  5575-GNVDE             DSL            Yes           No              Yes   \n",
       "3  3668-QPYBK             DSL            Yes          Yes               No   \n",
       "4  7795-CFOCW             DSL            Yes           No              Yes   \n",
       "5  9237-HQITU     Fiber optic             No           No               No   \n",
       "\n",
       "0 TechSupport StreamingTV StreamingMovies  \n",
       "1          No          No              No  \n",
       "2          No          No              No  \n",
       "3          No          No              No  \n",
       "4         Yes          No              No  \n",
       "5          No          No              No  "
      ]
     },
     "execution_count": 15,
     "metadata": {},
     "output_type": "execute_result"
    }
   ],
   "source": [
    "internet.head()"
   ]
  },
  {
   "cell_type": "code",
   "execution_count": 16,
   "id": "d4794cb9",
   "metadata": {},
   "outputs": [
    {
     "name": "stdout",
     "output_type": "stream",
     "text": [
      "<class 'pandas.core.frame.DataFrame'>\n",
      "RangeIndex: 5517 entries, 1 to 5517\n",
      "Data columns (total 8 columns):\n",
      " #   Column            Non-Null Count  Dtype \n",
      "---  ------            --------------  ----- \n",
      " 0   customerID        5517 non-null   object\n",
      " 1   InternetService   5517 non-null   object\n",
      " 2   OnlineSecurity    5517 non-null   object\n",
      " 3   OnlineBackup      5517 non-null   object\n",
      " 4   DeviceProtection  5517 non-null   object\n",
      " 5   TechSupport       5517 non-null   object\n",
      " 6   StreamingTV       5517 non-null   object\n",
      " 7   StreamingMovies   5517 non-null   object\n",
      "dtypes: object(8)\n",
      "memory usage: 344.9+ KB\n"
     ]
    }
   ],
   "source": [
    "internet.info()"
   ]
  },
  {
   "cell_type": "markdown",
   "id": "23fc63f0",
   "metadata": {},
   "source": [
    "Пропущенных значений нет, наименования столбцов в норме."
   ]
  },
  {
   "cell_type": "code",
   "execution_count": 17,
   "id": "599af570",
   "metadata": {},
   "outputs": [],
   "source": [
    "phone = '''\n",
    "SELECT *\n",
    "FROM telecom.phone\n",
    "'''\n",
    "phone = pd.read_sql_query(phone, con = engine)\n",
    "phone_columns = phone.iloc[0]\n",
    "phone = phone[1:]\n",
    "phone.columns = phone_columns\n",
    "phone.name = 'phone'"
   ]
  },
  {
   "cell_type": "code",
   "execution_count": 18,
   "id": "38ce97d4",
   "metadata": {},
   "outputs": [
    {
     "data": {
      "text/html": [
       "<div>\n",
       "<style scoped>\n",
       "    .dataframe tbody tr th:only-of-type {\n",
       "        vertical-align: middle;\n",
       "    }\n",
       "\n",
       "    .dataframe tbody tr th {\n",
       "        vertical-align: top;\n",
       "    }\n",
       "\n",
       "    .dataframe thead th {\n",
       "        text-align: right;\n",
       "    }\n",
       "</style>\n",
       "<table border=\"1\" class=\"dataframe\">\n",
       "  <thead>\n",
       "    <tr style=\"text-align: right;\">\n",
       "      <th></th>\n",
       "      <th>customerID</th>\n",
       "      <th>MultipleLines</th>\n",
       "    </tr>\n",
       "  </thead>\n",
       "  <tbody>\n",
       "    <tr>\n",
       "      <th>1</th>\n",
       "      <td>5575-GNVDE</td>\n",
       "      <td>No</td>\n",
       "    </tr>\n",
       "    <tr>\n",
       "      <th>2</th>\n",
       "      <td>3668-QPYBK</td>\n",
       "      <td>No</td>\n",
       "    </tr>\n",
       "    <tr>\n",
       "      <th>3</th>\n",
       "      <td>9237-HQITU</td>\n",
       "      <td>No</td>\n",
       "    </tr>\n",
       "    <tr>\n",
       "      <th>4</th>\n",
       "      <td>9305-CDSKC</td>\n",
       "      <td>Yes</td>\n",
       "    </tr>\n",
       "    <tr>\n",
       "      <th>5</th>\n",
       "      <td>1452-KIOVK</td>\n",
       "      <td>Yes</td>\n",
       "    </tr>\n",
       "  </tbody>\n",
       "</table>\n",
       "</div>"
      ],
      "text/plain": [
       "0  customerID MultipleLines\n",
       "1  5575-GNVDE            No\n",
       "2  3668-QPYBK            No\n",
       "3  9237-HQITU            No\n",
       "4  9305-CDSKC           Yes\n",
       "5  1452-KIOVK           Yes"
      ]
     },
     "execution_count": 18,
     "metadata": {},
     "output_type": "execute_result"
    }
   ],
   "source": [
    "phone.head()"
   ]
  },
  {
   "cell_type": "code",
   "execution_count": 19,
   "id": "a94971a1",
   "metadata": {},
   "outputs": [
    {
     "name": "stdout",
     "output_type": "stream",
     "text": [
      "<class 'pandas.core.frame.DataFrame'>\n",
      "RangeIndex: 6361 entries, 1 to 6361\n",
      "Data columns (total 2 columns):\n",
      " #   Column         Non-Null Count  Dtype \n",
      "---  ------         --------------  ----- \n",
      " 0   customerID     6361 non-null   object\n",
      " 1   MultipleLines  6361 non-null   object\n",
      "dtypes: object(2)\n",
      "memory usage: 99.5+ KB\n"
     ]
    }
   ],
   "source": [
    "phone.info()"
   ]
  },
  {
   "cell_type": "markdown",
   "id": "25d7d7f3",
   "metadata": {},
   "source": [
    "Пересечение множества значений customerID из столбца internet и phone даст нам 4835 значений - клиенты, которые пользуются и интернетом, и телефонной связью вместе. Это означает, что не все пользователи пользуются и тем, и тем сразу. Пересечение contract и internet даст нам 5517 значений, а contract и phone - 6361 значение. При дальнейшем объединении всех 4 таблиц нужно будет заполнять NaN значения определённым типом \"Без интернета\" или \"Без телефонной связи\"."
   ]
  },
  {
   "cell_type": "markdown",
   "id": "69a8f8d9",
   "metadata": {},
   "source": [
    "### Вывод"
   ]
  },
  {
   "cell_type": "markdown",
   "id": "b09fc1a1",
   "metadata": {},
   "source": [
    "Удалось установить связь с базой данных, получили 4 таблицы:\n",
    "\n",
    "- contract — информация о договорах. Всего наблюдений по контрактам у нас 7043. В данном DF 73,5% пропущенных значений в признаке EndDate (дата окончания действия договора) - это пользователи, которые не разорвали контракт, наш будущий класс 0. А также 11 NaN значений в столбце TotalCharges (общие расходы абонента), данные пропущенные значения связаны лишь с теми людьми, которые сформировали договор с «ТелеДом» в последний день сбора данных (\"Информация о договорах актуальна на 1 февраля 2020\"), поэтому никакой полезной информации, к сожалению, они нам не предоставят, и мы их удалим. Наименования столбцов в порядке, однако необходимо поменять тип данных столбцов BeginDate и EndDate -> datetime[64].\n",
    "- personal — персональные данные клиентов. В данном DF также 7043 наблюдений (1 пользователь - 1 контракт). В дальнейшем необходимо изменить данные в столбце SeniorCitizen (является ли абонент пенсионером) int -> object.\n",
    "- internet — информация об интернет-услугах. Всего 5517 наблюдений. Пропущенных значений нет, наименования столбцов в норме.\n",
    "- phone — информация об услугах телефонии. Он предоставляет нам 6361 наблюдение.\n",
    "\n",
    "При дальнейшем объединении всех 4 таблиц нужно будет заполнять NaN значения определённым типом \"Без интернета\" или \"Без телефонной связи\", т.к. не у всех пользователей подключены и Интернет и телефонная связь вместе."
   ]
  },
  {
   "cell_type": "markdown",
   "id": "f0eac818",
   "metadata": {},
   "source": [
    "## Объединение данных"
   ]
  },
  {
   "cell_type": "code",
   "execution_count": 20,
   "id": "f665aa8e",
   "metadata": {},
   "outputs": [
    {
     "data": {
      "text/html": [
       "<div>\n",
       "<style scoped>\n",
       "    .dataframe tbody tr th:only-of-type {\n",
       "        vertical-align: middle;\n",
       "    }\n",
       "\n",
       "    .dataframe tbody tr th {\n",
       "        vertical-align: top;\n",
       "    }\n",
       "\n",
       "    .dataframe thead th {\n",
       "        text-align: right;\n",
       "    }\n",
       "</style>\n",
       "<table border=\"1\" class=\"dataframe\">\n",
       "  <thead>\n",
       "    <tr style=\"text-align: right;\">\n",
       "      <th></th>\n",
       "      <th>customerID</th>\n",
       "      <th>BeginDate</th>\n",
       "      <th>EndDate</th>\n",
       "      <th>Type</th>\n",
       "      <th>PaperlessBilling</th>\n",
       "      <th>PaymentMethod</th>\n",
       "      <th>MonthlyCharges</th>\n",
       "      <th>TotalCharges</th>\n",
       "    </tr>\n",
       "  </thead>\n",
       "  <tbody>\n",
       "    <tr>\n",
       "      <th>0</th>\n",
       "      <td>4472-LVYGI</td>\n",
       "      <td>2020-02-01</td>\n",
       "      <td>None</td>\n",
       "      <td>Two year</td>\n",
       "      <td>Yes</td>\n",
       "      <td>Bank transfer (automatic)</td>\n",
       "      <td>52.55</td>\n",
       "      <td>NaN</td>\n",
       "    </tr>\n",
       "  </tbody>\n",
       "</table>\n",
       "</div>"
      ],
      "text/plain": [
       "   customerID   BeginDate EndDate      Type PaperlessBilling  \\\n",
       "0  4472-LVYGI  2020-02-01    None  Two year              Yes   \n",
       "\n",
       "               PaymentMethod  MonthlyCharges  TotalCharges  \n",
       "0  Bank transfer (automatic)           52.55           NaN  "
      ]
     },
     "execution_count": 20,
     "metadata": {},
     "output_type": "execute_result"
    }
   ],
   "source": [
    "contract.head(1)"
   ]
  },
  {
   "cell_type": "code",
   "execution_count": 21,
   "id": "7f5ea17b",
   "metadata": {},
   "outputs": [
    {
     "name": "stdout",
     "output_type": "stream",
     "text": [
      "Количество уникальных значений столбца Type: 3\n",
      "['Two year' 'Month-to-month' 'One year']\n",
      "-----------------------------\n",
      "Количество уникальных значений столбца PaperlessBilling: 2\n",
      "['Yes' 'No']\n",
      "-----------------------------\n",
      "Количество уникальных значений столбца PaymentMethod: 4\n",
      "['Bank transfer (automatic)' 'Mailed check' 'Electronic check'\n",
      " 'Credit card (automatic)']\n",
      "-----------------------------\n"
     ]
    }
   ],
   "source": [
    "for column in ['Type', 'PaperlessBilling', 'PaymentMethod']:\n",
    "    print(f'Количество уникальных значений столбца {column}: {contract[column].nunique()}')\n",
    "    print(contract[column].unique())\n",
    "    print('-----------------------------')"
   ]
  },
  {
   "cell_type": "code",
   "execution_count": 22,
   "id": "6076835c",
   "metadata": {},
   "outputs": [
    {
     "data": {
      "image/png": "[encoded data removed]",
      "text/plain": [
       "<Figure size 720x432 with 2 Axes>"
      ]
     },
     "metadata": {
      "needs_background": "light"
     },
     "output_type": "display_data"
    }
   ],
   "source": [
    "fig, ax = plt.subplots(nrows=1, ncols=2, figsize=(10, 6))\n",
    "    \n",
    "contract.boxplot(column='MonthlyCharges', ax=ax[0])\n",
    "ax[0].set_title(f'Диаграмма размаха на столбце MonthlyCharges')\n",
    "ax[0].grid(True)\n",
    "\n",
    "ax[1].hist(contract['MonthlyCharges'], bins=200)\n",
    "ax[1].set_title(f'Гистограмма на столбце MonthlyCharges')\n",
    "ax[1].grid(True)\n",
    "\n",
    "fig.suptitle(f'Разброс данных столбца MonthlyCharges')\n",
    "\n",
    "plt.show()"
   ]
  },
  {
   "cell_type": "markdown",
   "id": "fcdc4f1d",
   "metadata": {},
   "source": [
    "MonthlyCharges имеет множество пиковых зон, видимо связанных с ежемесячным платежём, а разбросы рядом с ними - дополнительные затраты пользователей в месяц. Судя по boxplot, признак не имеет выбросов, а медиана находится в районе значения 70, при этом данные в большинстве своём находятся в диапазоне от 35 до 90 условных единиц."
   ]
  },
  {
   "cell_type": "code",
   "execution_count": 23,
   "id": "442a9d95",
   "metadata": {},
   "outputs": [
    {
     "data": {
      "image/png": "[encoded data removed]",
      "text/plain": [
       "<Figure size 720x432 with 2 Axes>"
      ]
     },
     "metadata": {
      "needs_background": "light"
     },
     "output_type": "display_data"
    }
   ],
   "source": [
    "fig, ax = plt.subplots(nrows=1, ncols=2, figsize=(10, 6))\n",
    "    \n",
    "contract.boxplot(column='TotalCharges', ax=ax[0])\n",
    "ax[0].set_title(f'Диаграмма размаха на столбце TotalCharges')\n",
    "ax[0].grid(True)\n",
    "\n",
    "ax[1].hist(contract['TotalCharges'], bins=200)\n",
    "ax[1].set_title(f'Гистограмма на столбце TotalCharges')\n",
    "ax[1].grid(True)\n",
    "\n",
    "fig.suptitle(f'Разброс данных столбца TotalCharges')\n",
    "\n",
    "plt.show()"
   ]
  },
  {
   "cell_type": "markdown",
   "id": "cedbfb58",
   "metadata": {},
   "source": [
    "TotalCharges имеет показательное распределение в диапазоне (0, 8600), плавно убывающее в сторону положительного oX. В данных также отсутствуют выбросы, медиана распределена в районе 1600, а большинство значений находятся в диапазоне от 300 до 3700. Подобное распределение обусловленно накопительным свойством клиента - чем дольше он с договором, тем больше суммарная цена затрат."
   ]
  },
  {
   "cell_type": "code",
   "execution_count": 24,
   "id": "e9095747",
   "metadata": {},
   "outputs": [
    {
     "data": {
      "text/html": [
       "<div>\n",
       "<style scoped>\n",
       "    .dataframe tbody tr th:only-of-type {\n",
       "        vertical-align: middle;\n",
       "    }\n",
       "\n",
       "    .dataframe tbody tr th {\n",
       "        vertical-align: top;\n",
       "    }\n",
       "\n",
       "    .dataframe thead th {\n",
       "        text-align: right;\n",
       "    }\n",
       "</style>\n",
       "<table border=\"1\" class=\"dataframe\">\n",
       "  <thead>\n",
       "    <tr style=\"text-align: right;\">\n",
       "      <th></th>\n",
       "      <th>customerID</th>\n",
       "      <th>gender</th>\n",
       "      <th>SeniorCitizen</th>\n",
       "      <th>Partner</th>\n",
       "      <th>Dependents</th>\n",
       "    </tr>\n",
       "  </thead>\n",
       "  <tbody>\n",
       "    <tr>\n",
       "      <th>0</th>\n",
       "      <td>7590-VHVEG</td>\n",
       "      <td>Female</td>\n",
       "      <td>0</td>\n",
       "      <td>Yes</td>\n",
       "      <td>No</td>\n",
       "    </tr>\n",
       "  </tbody>\n",
       "</table>\n",
       "</div>"
      ],
      "text/plain": [
       "   customerID  gender  SeniorCitizen Partner Dependents\n",
       "0  7590-VHVEG  Female              0     Yes         No"
      ]
     },
     "execution_count": 24,
     "metadata": {},
     "output_type": "execute_result"
    }
   ],
   "source": [
    "personal.head(1)"
   ]
  },
  {
   "cell_type": "code",
   "execution_count": 25,
   "id": "65648028",
   "metadata": {},
   "outputs": [
    {
     "name": "stdout",
     "output_type": "stream",
     "text": [
      "Количество уникальных значений столбца gender: 2\n",
      "['Female' 'Male']\n",
      "-----------------------------\n",
      "Количество уникальных значений столбца SeniorCitizen: 2\n",
      "[0 1]\n",
      "-----------------------------\n",
      "Количество уникальных значений столбца Partner: 2\n",
      "['Yes' 'No']\n",
      "-----------------------------\n",
      "Количество уникальных значений столбца Dependents: 2\n",
      "['No' 'Yes']\n",
      "-----------------------------\n"
     ]
    }
   ],
   "source": [
    "for column in personal.columns.drop('customerID'):\n",
    "    print(f'Количество уникальных значений столбца {column}: {personal[column].nunique()}')\n",
    "    print(personal[column].unique())\n",
    "    print('-----------------------------')"
   ]
  },
  {
   "cell_type": "code",
   "execution_count": 26,
   "id": "b3e21583",
   "metadata": {},
   "outputs": [
    {
     "data": {
      "text/html": [
       "<div>\n",
       "<style scoped>\n",
       "    .dataframe tbody tr th:only-of-type {\n",
       "        vertical-align: middle;\n",
       "    }\n",
       "\n",
       "    .dataframe tbody tr th {\n",
       "        vertical-align: top;\n",
       "    }\n",
       "\n",
       "    .dataframe thead th {\n",
       "        text-align: right;\n",
       "    }\n",
       "</style>\n",
       "<table border=\"1\" class=\"dataframe\">\n",
       "  <thead>\n",
       "    <tr style=\"text-align: right;\">\n",
       "      <th></th>\n",
       "      <th>customerID</th>\n",
       "      <th>InternetService</th>\n",
       "      <th>OnlineSecurity</th>\n",
       "      <th>OnlineBackup</th>\n",
       "      <th>DeviceProtection</th>\n",
       "      <th>TechSupport</th>\n",
       "      <th>StreamingTV</th>\n",
       "      <th>StreamingMovies</th>\n",
       "    </tr>\n",
       "  </thead>\n",
       "  <tbody>\n",
       "    <tr>\n",
       "      <th>1</th>\n",
       "      <td>7590-VHVEG</td>\n",
       "      <td>DSL</td>\n",
       "      <td>No</td>\n",
       "      <td>Yes</td>\n",
       "      <td>No</td>\n",
       "      <td>No</td>\n",
       "      <td>No</td>\n",
       "      <td>No</td>\n",
       "    </tr>\n",
       "  </tbody>\n",
       "</table>\n",
       "</div>"
      ],
      "text/plain": [
       "0  customerID InternetService OnlineSecurity OnlineBackup DeviceProtection  \\\n",
       "1  7590-VHVEG             DSL             No          Yes               No   \n",
       "\n",
       "0 TechSupport StreamingTV StreamingMovies  \n",
       "1          No          No              No  "
      ]
     },
     "execution_count": 26,
     "metadata": {},
     "output_type": "execute_result"
    }
   ],
   "source": [
    "internet.head(1)"
   ]
  },
  {
   "cell_type": "code",
   "execution_count": 27,
   "id": "4b010ac5",
   "metadata": {},
   "outputs": [
    {
     "name": "stdout",
     "output_type": "stream",
     "text": [
      "Количество уникальных значений столбца InternetService: 2\n",
      "['DSL' 'Fiber optic']\n",
      "-----------------------------\n",
      "Количество уникальных значений столбца OnlineSecurity: 2\n",
      "['No' 'Yes']\n",
      "-----------------------------\n",
      "Количество уникальных значений столбца OnlineBackup: 2\n",
      "['Yes' 'No']\n",
      "-----------------------------\n",
      "Количество уникальных значений столбца DeviceProtection: 2\n",
      "['No' 'Yes']\n",
      "-----------------------------\n",
      "Количество уникальных значений столбца TechSupport: 2\n",
      "['No' 'Yes']\n",
      "-----------------------------\n",
      "Количество уникальных значений столбца StreamingTV: 2\n",
      "['No' 'Yes']\n",
      "-----------------------------\n",
      "Количество уникальных значений столбца StreamingMovies: 2\n",
      "['No' 'Yes']\n",
      "-----------------------------\n"
     ]
    }
   ],
   "source": [
    "for column in internet.columns.drop('customerID'):\n",
    "    print(f'Количество уникальных значений столбца {column}: {internet[column].nunique()}')\n",
    "    print(internet[column].unique())\n",
    "    print('-----------------------------')"
   ]
  },
  {
   "cell_type": "code",
   "execution_count": 28,
   "id": "42c53085",
   "metadata": {},
   "outputs": [
    {
     "data": {
      "text/html": [
       "<div>\n",
       "<style scoped>\n",
       "    .dataframe tbody tr th:only-of-type {\n",
       "        vertical-align: middle;\n",
       "    }\n",
       "\n",
       "    .dataframe tbody tr th {\n",
       "        vertical-align: top;\n",
       "    }\n",
       "\n",
       "    .dataframe thead th {\n",
       "        text-align: right;\n",
       "    }\n",
       "</style>\n",
       "<table border=\"1\" class=\"dataframe\">\n",
       "  <thead>\n",
       "    <tr style=\"text-align: right;\">\n",
       "      <th></th>\n",
       "      <th>customerID</th>\n",
       "      <th>MultipleLines</th>\n",
       "    </tr>\n",
       "  </thead>\n",
       "  <tbody>\n",
       "    <tr>\n",
       "      <th>1</th>\n",
       "      <td>5575-GNVDE</td>\n",
       "      <td>No</td>\n",
       "    </tr>\n",
       "  </tbody>\n",
       "</table>\n",
       "</div>"
      ],
      "text/plain": [
       "0  customerID MultipleLines\n",
       "1  5575-GNVDE            No"
      ]
     },
     "execution_count": 28,
     "metadata": {},
     "output_type": "execute_result"
    }
   ],
   "source": [
    "phone.head(1)"
   ]
  },
  {
   "cell_type": "code",
   "execution_count": 29,
   "id": "07732737",
   "metadata": {},
   "outputs": [
    {
     "name": "stdout",
     "output_type": "stream",
     "text": [
      "Количество уникальных значений столбца MultipleLines: 2\n",
      "['No' 'Yes']\n",
      "-----------------------------\n"
     ]
    }
   ],
   "source": [
    "for column in phone.columns.drop('customerID'):\n",
    "    print(f'Количество уникальных значений столбца {column}: {phone[column].nunique()}')\n",
    "    print(phone[column].unique())\n",
    "    print('-----------------------------')"
   ]
  },
  {
   "cell_type": "code",
   "execution_count": 30,
   "id": "55d0b215",
   "metadata": {},
   "outputs": [],
   "source": [
    "data = personal.merge(contract, on ='customerID', how='inner')\n",
    "data = data.merge(internet, on ='customerID', how = 'outer')\n",
    "data = data.merge(phone, on ='customerID', how = 'outer')\n",
    "data.name = 'data'"
   ]
  },
  {
   "cell_type": "code",
   "execution_count": 31,
   "id": "c761307b",
   "metadata": {},
   "outputs": [
    {
     "data": {
      "text/html": [
       "<div>\n",
       "<style scoped>\n",
       "    .dataframe tbody tr th:only-of-type {\n",
       "        vertical-align: middle;\n",
       "    }\n",
       "\n",
       "    .dataframe tbody tr th {\n",
       "        vertical-align: top;\n",
       "    }\n",
       "\n",
       "    .dataframe thead th {\n",
       "        text-align: right;\n",
       "    }\n",
       "</style>\n",
       "<table border=\"1\" class=\"dataframe\">\n",
       "  <thead>\n",
       "    <tr style=\"text-align: right;\">\n",
       "      <th></th>\n",
       "      <th>customerID</th>\n",
       "      <th>gender</th>\n",
       "      <th>SeniorCitizen</th>\n",
       "      <th>Partner</th>\n",
       "      <th>Dependents</th>\n",
       "      <th>BeginDate</th>\n",
       "      <th>EndDate</th>\n",
       "      <th>Type</th>\n",
       "      <th>PaperlessBilling</th>\n",
       "      <th>PaymentMethod</th>\n",
       "      <th>MonthlyCharges</th>\n",
       "      <th>TotalCharges</th>\n",
       "      <th>InternetService</th>\n",
       "      <th>OnlineSecurity</th>\n",
       "      <th>OnlineBackup</th>\n",
       "      <th>DeviceProtection</th>\n",
       "      <th>TechSupport</th>\n",
       "      <th>StreamingTV</th>\n",
       "      <th>StreamingMovies</th>\n",
       "      <th>MultipleLines</th>\n",
       "    </tr>\n",
       "  </thead>\n",
       "  <tbody>\n",
       "    <tr>\n",
       "      <th>0</th>\n",
       "      <td>7590-VHVEG</td>\n",
       "      <td>Female</td>\n",
       "      <td>0</td>\n",
       "      <td>Yes</td>\n",
       "      <td>No</td>\n",
       "      <td>2019-04-29</td>\n",
       "      <td>None</td>\n",
       "      <td>Month-to-month</td>\n",
       "      <td>Yes</td>\n",
       "      <td>Electronic check</td>\n",
       "      <td>29.85</td>\n",
       "      <td>29.85</td>\n",
       "      <td>DSL</td>\n",
       "      <td>No</td>\n",
       "      <td>Yes</td>\n",
       "      <td>No</td>\n",
       "      <td>No</td>\n",
       "      <td>No</td>\n",
       "      <td>No</td>\n",
       "      <td>NaN</td>\n",
       "    </tr>\n",
       "    <tr>\n",
       "      <th>1</th>\n",
       "      <td>5575-GNVDE</td>\n",
       "      <td>Male</td>\n",
       "      <td>0</td>\n",
       "      <td>No</td>\n",
       "      <td>No</td>\n",
       "      <td>2019-03-26</td>\n",
       "      <td>None</td>\n",
       "      <td>One year</td>\n",
       "      <td>No</td>\n",
       "      <td>Mailed check</td>\n",
       "      <td>56.95</td>\n",
       "      <td>1889.50</td>\n",
       "      <td>DSL</td>\n",
       "      <td>Yes</td>\n",
       "      <td>No</td>\n",
       "      <td>Yes</td>\n",
       "      <td>No</td>\n",
       "      <td>No</td>\n",
       "      <td>No</td>\n",
       "      <td>No</td>\n",
       "    </tr>\n",
       "    <tr>\n",
       "      <th>2</th>\n",
       "      <td>3668-QPYBK</td>\n",
       "      <td>Male</td>\n",
       "      <td>0</td>\n",
       "      <td>No</td>\n",
       "      <td>No</td>\n",
       "      <td>2018-08-09</td>\n",
       "      <td>2019-12-01</td>\n",
       "      <td>Month-to-month</td>\n",
       "      <td>Yes</td>\n",
       "      <td>Mailed check</td>\n",
       "      <td>53.85</td>\n",
       "      <td>108.15</td>\n",
       "      <td>DSL</td>\n",
       "      <td>Yes</td>\n",
       "      <td>Yes</td>\n",
       "      <td>No</td>\n",
       "      <td>No</td>\n",
       "      <td>No</td>\n",
       "      <td>No</td>\n",
       "      <td>No</td>\n",
       "    </tr>\n",
       "    <tr>\n",
       "      <th>3</th>\n",
       "      <td>7795-CFOCW</td>\n",
       "      <td>Male</td>\n",
       "      <td>0</td>\n",
       "      <td>No</td>\n",
       "      <td>No</td>\n",
       "      <td>2018-12-22</td>\n",
       "      <td>None</td>\n",
       "      <td>One year</td>\n",
       "      <td>No</td>\n",
       "      <td>Bank transfer (automatic)</td>\n",
       "      <td>42.30</td>\n",
       "      <td>1840.75</td>\n",
       "      <td>DSL</td>\n",
       "      <td>Yes</td>\n",
       "      <td>No</td>\n",
       "      <td>Yes</td>\n",
       "      <td>Yes</td>\n",
       "      <td>No</td>\n",
       "      <td>No</td>\n",
       "      <td>NaN</td>\n",
       "    </tr>\n",
       "    <tr>\n",
       "      <th>4</th>\n",
       "      <td>9237-HQITU</td>\n",
       "      <td>Female</td>\n",
       "      <td>0</td>\n",
       "      <td>No</td>\n",
       "      <td>No</td>\n",
       "      <td>2019-01-26</td>\n",
       "      <td>2019-11-01</td>\n",
       "      <td>Month-to-month</td>\n",
       "      <td>Yes</td>\n",
       "      <td>Electronic check</td>\n",
       "      <td>70.70</td>\n",
       "      <td>151.65</td>\n",
       "      <td>Fiber optic</td>\n",
       "      <td>No</td>\n",
       "      <td>No</td>\n",
       "      <td>No</td>\n",
       "      <td>No</td>\n",
       "      <td>No</td>\n",
       "      <td>No</td>\n",
       "      <td>No</td>\n",
       "    </tr>\n",
       "  </tbody>\n",
       "</table>\n",
       "</div>"
      ],
      "text/plain": [
       "   customerID  gender  SeniorCitizen Partner Dependents   BeginDate  \\\n",
       "0  7590-VHVEG  Female              0     Yes         No  2019-04-29   \n",
       "1  5575-GNVDE    Male              0      No         No  2019-03-26   \n",
       "2  3668-QPYBK    Male              0      No         No  2018-08-09   \n",
       "3  7795-CFOCW    Male              0      No         No  2018-12-22   \n",
       "4  9237-HQITU  Female              0      No         No  2019-01-26   \n",
       "\n",
       "      EndDate            Type PaperlessBilling              PaymentMethod  \\\n",
       "0        None  Month-to-month              Yes           Electronic check   \n",
       "1        None        One year               No               Mailed check   \n",
       "2  2019-12-01  Month-to-month              Yes               Mailed check   \n",
       "3        None        One year               No  Bank transfer (automatic)   \n",
       "4  2019-11-01  Month-to-month              Yes           Electronic check   \n",
       "\n",
       "   MonthlyCharges  TotalCharges InternetService OnlineSecurity OnlineBackup  \\\n",
       "0           29.85         29.85             DSL             No          Yes   \n",
       "1           56.95       1889.50             DSL            Yes           No   \n",
       "2           53.85        108.15             DSL            Yes          Yes   \n",
       "3           42.30       1840.75             DSL            Yes           No   \n",
       "4           70.70        151.65     Fiber optic             No           No   \n",
       "\n",
       "  DeviceProtection TechSupport StreamingTV StreamingMovies MultipleLines  \n",
       "0               No          No          No              No           NaN  \n",
       "1              Yes          No          No              No            No  \n",
       "2               No          No          No              No            No  \n",
       "3              Yes         Yes          No              No           NaN  \n",
       "4               No          No          No              No            No  "
      ]
     },
     "execution_count": 31,
     "metadata": {},
     "output_type": "execute_result"
    }
   ],
   "source": [
    "data.head()"
   ]
  },
  {
   "cell_type": "code",
   "execution_count": 32,
   "id": "fae72c00",
   "metadata": {},
   "outputs": [
    {
     "name": "stdout",
     "output_type": "stream",
     "text": [
      "<class 'pandas.core.frame.DataFrame'>\n",
      "Int64Index: 7043 entries, 0 to 7042\n",
      "Data columns (total 20 columns):\n",
      " #   Column            Non-Null Count  Dtype  \n",
      "---  ------            --------------  -----  \n",
      " 0   customerID        7043 non-null   object \n",
      " 1   gender            7043 non-null   object \n",
      " 2   SeniorCitizen     7043 non-null   int64  \n",
      " 3   Partner           7043 non-null   object \n",
      " 4   Dependents        7043 non-null   object \n",
      " 5   BeginDate         7043 non-null   object \n",
      " 6   EndDate           1869 non-null   object \n",
      " 7   Type              7043 non-null   object \n",
      " 8   PaperlessBilling  7043 non-null   object \n",
      " 9   PaymentMethod     7043 non-null   object \n",
      " 10  MonthlyCharges    7043 non-null   float64\n",
      " 11  TotalCharges      7032 non-null   float64\n",
      " 12  InternetService   5517 non-null   object \n",
      " 13  OnlineSecurity    5517 non-null   object \n",
      " 14  OnlineBackup      5517 non-null   object \n",
      " 15  DeviceProtection  5517 non-null   object \n",
      " 16  TechSupport       5517 non-null   object \n",
      " 17  StreamingTV       5517 non-null   object \n",
      " 18  StreamingMovies   5517 non-null   object \n",
      " 19  MultipleLines     6361 non-null   object \n",
      "dtypes: float64(2), int64(1), object(17)\n",
      "memory usage: 1.1+ MB\n"
     ]
    }
   ],
   "source": [
    "data.info()"
   ]
  },
  {
   "cell_type": "markdown",
   "id": "381a175c",
   "metadata": {},
   "source": [
    "Неявных дубликатов в таблицах не обнаружили. После объединения всех 4 таблиц в один DF у нас получилось 20 столбцов, и 7043 наблюдения. \n",
    "\n",
    "На следующем этапе следует убрать NaN значения, которые появились из-за того, что не все пользователи пользуются и интернетом, и телефонной связью одновременно. Также стоит провести features engineering со столбцами datetime, тк свою полезность они маловероятно покажут на этапе предсказаний."
   ]
  },
  {
   "cell_type": "markdown",
   "id": "6e5e394d",
   "metadata": {},
   "source": [
    "## Предобработка"
   ]
  },
  {
   "cell_type": "markdown",
   "id": "10e259ad",
   "metadata": {},
   "source": [
    "Преобразуем столбец EndDate в целевую переменную."
   ]
  },
  {
   "cell_type": "code",
   "execution_count": 33,
   "id": "d6297c66",
   "metadata": {},
   "outputs": [
    {
     "name": "stderr",
     "output_type": "stream",
     "text": [
      "100%|██████████| 7043/7043 [00:00<00:00, 90492.29it/s]\n"
     ]
    }
   ],
   "source": [
    "def target_map(row):\n",
    "    \n",
    "    if row['EndDate'] is None:\n",
    "        return 0\n",
    "    return 1\n",
    "\n",
    "data['target'] = data.progress_apply(target_map, axis=1)"
   ]
  },
  {
   "cell_type": "markdown",
   "id": "396c11a2",
   "metadata": {},
   "source": [
    "Заполним NaN значения, которые появились при объединении сущностей: WOI - без интернета, WOT - без телефонной связи."
   ]
  },
  {
   "cell_type": "code",
   "execution_count": 34,
   "id": "57d15e6c",
   "metadata": {},
   "outputs": [
    {
     "name": "stdout",
     "output_type": "stream",
     "text": [
      "<class 'pandas.core.frame.DataFrame'>\n",
      "Int64Index: 7043 entries, 0 to 7042\n",
      "Data columns (total 21 columns):\n",
      " #   Column            Non-Null Count  Dtype  \n",
      "---  ------            --------------  -----  \n",
      " 0   customerID        7043 non-null   object \n",
      " 1   gender            7043 non-null   object \n",
      " 2   SeniorCitizen     7043 non-null   int64  \n",
      " 3   Partner           7043 non-null   object \n",
      " 4   Dependents        7043 non-null   object \n",
      " 5   BeginDate         7043 non-null   object \n",
      " 6   EndDate           1869 non-null   object \n",
      " 7   Type              7043 non-null   object \n",
      " 8   PaperlessBilling  7043 non-null   object \n",
      " 9   PaymentMethod     7043 non-null   object \n",
      " 10  MonthlyCharges    7043 non-null   float64\n",
      " 11  TotalCharges      7032 non-null   float64\n",
      " 12  InternetService   7043 non-null   object \n",
      " 13  OnlineSecurity    7043 non-null   object \n",
      " 14  OnlineBackup      7043 non-null   object \n",
      " 15  DeviceProtection  7043 non-null   object \n",
      " 16  TechSupport       7043 non-null   object \n",
      " 17  StreamingTV       7043 non-null   object \n",
      " 18  StreamingMovies   7043 non-null   object \n",
      " 19  MultipleLines     7043 non-null   object \n",
      " 20  target            7043 non-null   int64  \n",
      "dtypes: float64(2), int64(2), object(17)\n",
      "memory usage: 1.2+ MB\n"
     ]
    }
   ],
   "source": [
    "woi = ['MultipleLines']\n",
    "wot = ['InternetService', 'OnlineSecurity', 'OnlineBackup', 'DeviceProtection', 'TechSupport', 'StreamingTV', 'StreamingMovies']\n",
    "\n",
    "data[woi] = data[woi].fillna('WOI')\n",
    "data[wot] = data[wot].fillna('WOT')\n",
    "\n",
    "data.info()"
   ]
  },
  {
   "cell_type": "markdown",
   "id": "cb9561a1",
   "metadata": {},
   "source": [
    "Поменяем int на object в столбце SeniorCitizen."
   ]
  },
  {
   "cell_type": "code",
   "execution_count": 35,
   "id": "8ffc1da1",
   "metadata": {},
   "outputs": [
    {
     "data": {
      "text/plain": [
       "array(['No', 'Yes'], dtype=object)"
      ]
     },
     "execution_count": 35,
     "metadata": {},
     "output_type": "execute_result"
    }
   ],
   "source": [
    "data.loc[data['SeniorCitizen'] == 0, 'SeniorCitizen'] = 'No'\n",
    "data.loc[data['SeniorCitizen'] == 1, 'SeniorCitizen'] = 'Yes'\n",
    "\n",
    "data.SeniorCitizen.unique()"
   ]
  },
  {
   "cell_type": "markdown",
   "id": "9013aed9",
   "metadata": {},
   "source": [
    "Попробуем сгенерировать новые признаки.\n",
    "\n",
    "- use_days - количество дней пользования тарифом. Если контракт не разорван - ограничиваемся дедлайном."
   ]
  },
  {
   "cell_type": "code",
   "execution_count": 36,
   "id": "460e1426",
   "metadata": {},
   "outputs": [
    {
     "data": {
      "text/html": [
       "<div>\n",
       "<style scoped>\n",
       "    .dataframe tbody tr th:only-of-type {\n",
       "        vertical-align: middle;\n",
       "    }\n",
       "\n",
       "    .dataframe tbody tr th {\n",
       "        vertical-align: top;\n",
       "    }\n",
       "\n",
       "    .dataframe thead th {\n",
       "        text-align: right;\n",
       "    }\n",
       "</style>\n",
       "<table border=\"1\" class=\"dataframe\">\n",
       "  <thead>\n",
       "    <tr style=\"text-align: right;\">\n",
       "      <th></th>\n",
       "      <th>customerID</th>\n",
       "      <th>gender</th>\n",
       "      <th>SeniorCitizen</th>\n",
       "      <th>Partner</th>\n",
       "      <th>Dependents</th>\n",
       "      <th>BeginDate</th>\n",
       "      <th>EndDate</th>\n",
       "      <th>Type</th>\n",
       "      <th>PaperlessBilling</th>\n",
       "      <th>PaymentMethod</th>\n",
       "      <th>...</th>\n",
       "      <th>InternetService</th>\n",
       "      <th>OnlineSecurity</th>\n",
       "      <th>OnlineBackup</th>\n",
       "      <th>DeviceProtection</th>\n",
       "      <th>TechSupport</th>\n",
       "      <th>StreamingTV</th>\n",
       "      <th>StreamingMovies</th>\n",
       "      <th>MultipleLines</th>\n",
       "      <th>target</th>\n",
       "      <th>use_days</th>\n",
       "    </tr>\n",
       "  </thead>\n",
       "  <tbody>\n",
       "    <tr>\n",
       "      <th>0</th>\n",
       "      <td>7590-VHVEG</td>\n",
       "      <td>Female</td>\n",
       "      <td>No</td>\n",
       "      <td>Yes</td>\n",
       "      <td>No</td>\n",
       "      <td>2019-04-29</td>\n",
       "      <td>2020-02-01</td>\n",
       "      <td>Month-to-month</td>\n",
       "      <td>Yes</td>\n",
       "      <td>Electronic check</td>\n",
       "      <td>...</td>\n",
       "      <td>DSL</td>\n",
       "      <td>No</td>\n",
       "      <td>Yes</td>\n",
       "      <td>No</td>\n",
       "      <td>No</td>\n",
       "      <td>No</td>\n",
       "      <td>No</td>\n",
       "      <td>WOI</td>\n",
       "      <td>0</td>\n",
       "      <td>278</td>\n",
       "    </tr>\n",
       "    <tr>\n",
       "      <th>1</th>\n",
       "      <td>5575-GNVDE</td>\n",
       "      <td>Male</td>\n",
       "      <td>No</td>\n",
       "      <td>No</td>\n",
       "      <td>No</td>\n",
       "      <td>2019-03-26</td>\n",
       "      <td>2020-02-01</td>\n",
       "      <td>One year</td>\n",
       "      <td>No</td>\n",
       "      <td>Mailed check</td>\n",
       "      <td>...</td>\n",
       "      <td>DSL</td>\n",
       "      <td>Yes</td>\n",
       "      <td>No</td>\n",
       "      <td>Yes</td>\n",
       "      <td>No</td>\n",
       "      <td>No</td>\n",
       "      <td>No</td>\n",
       "      <td>No</td>\n",
       "      <td>0</td>\n",
       "      <td>312</td>\n",
       "    </tr>\n",
       "    <tr>\n",
       "      <th>2</th>\n",
       "      <td>3668-QPYBK</td>\n",
       "      <td>Male</td>\n",
       "      <td>No</td>\n",
       "      <td>No</td>\n",
       "      <td>No</td>\n",
       "      <td>2018-08-09</td>\n",
       "      <td>2019-12-01</td>\n",
       "      <td>Month-to-month</td>\n",
       "      <td>Yes</td>\n",
       "      <td>Mailed check</td>\n",
       "      <td>...</td>\n",
       "      <td>DSL</td>\n",
       "      <td>Yes</td>\n",
       "      <td>Yes</td>\n",
       "      <td>No</td>\n",
       "      <td>No</td>\n",
       "      <td>No</td>\n",
       "      <td>No</td>\n",
       "      <td>No</td>\n",
       "      <td>1</td>\n",
       "      <td>479</td>\n",
       "    </tr>\n",
       "  </tbody>\n",
       "</table>\n",
       "<p>3 rows × 22 columns</p>\n",
       "</div>"
      ],
      "text/plain": [
       "   customerID  gender SeniorCitizen Partner Dependents  BeginDate    EndDate  \\\n",
       "0  7590-VHVEG  Female            No     Yes         No 2019-04-29 2020-02-01   \n",
       "1  5575-GNVDE    Male            No      No         No 2019-03-26 2020-02-01   \n",
       "2  3668-QPYBK    Male            No      No         No 2018-08-09 2019-12-01   \n",
       "\n",
       "             Type PaperlessBilling     PaymentMethod  ...  InternetService  \\\n",
       "0  Month-to-month              Yes  Electronic check  ...              DSL   \n",
       "1        One year               No      Mailed check  ...              DSL   \n",
       "2  Month-to-month              Yes      Mailed check  ...              DSL   \n",
       "\n",
       "   OnlineSecurity OnlineBackup DeviceProtection TechSupport StreamingTV  \\\n",
       "0              No          Yes               No          No          No   \n",
       "1             Yes           No              Yes          No          No   \n",
       "2             Yes          Yes               No          No          No   \n",
       "\n",
       "  StreamingMovies MultipleLines target use_days  \n",
       "0              No           WOI      0      278  \n",
       "1              No            No      0      312  \n",
       "2              No            No      1      479  \n",
       "\n",
       "[3 rows x 22 columns]"
      ]
     },
     "execution_count": 36,
     "metadata": {},
     "output_type": "execute_result"
    }
   ],
   "source": [
    "data['BeginDate'] = pd.to_datetime(data['BeginDate'])\n",
    "data['EndDate'] = pd.to_datetime(data['EndDate'])\n",
    "data['EndDate'] = data['EndDate'].fillna(pd.to_datetime('01-02-2020', format='%d-%m-%Y'))\n",
    "data['use_days'] = (data['EndDate'] - data['BeginDate']).dt.days\n",
    "\n",
    "data.head(3)"
   ]
  },
  {
   "cell_type": "markdown",
   "id": "b6ff1d95",
   "metadata": {},
   "source": [
    "- dbp - количество дней, которые остались до оплаты пользования за следующий период."
   ]
  },
  {
   "cell_type": "code",
   "execution_count": 37,
   "id": "5960723b",
   "metadata": {},
   "outputs": [
    {
     "name": "stderr",
     "output_type": "stream",
     "text": [
      "100%|██████████| 7043/7043 [00:00<00:00, 52230.98it/s]\n"
     ]
    },
    {
     "data": {
      "text/html": [
       "<div>\n",
       "<style scoped>\n",
       "    .dataframe tbody tr th:only-of-type {\n",
       "        vertical-align: middle;\n",
       "    }\n",
       "\n",
       "    .dataframe tbody tr th {\n",
       "        vertical-align: top;\n",
       "    }\n",
       "\n",
       "    .dataframe thead th {\n",
       "        text-align: right;\n",
       "    }\n",
       "</style>\n",
       "<table border=\"1\" class=\"dataframe\">\n",
       "  <thead>\n",
       "    <tr style=\"text-align: right;\">\n",
       "      <th></th>\n",
       "      <th>customerID</th>\n",
       "      <th>gender</th>\n",
       "      <th>SeniorCitizen</th>\n",
       "      <th>Partner</th>\n",
       "      <th>Dependents</th>\n",
       "      <th>BeginDate</th>\n",
       "      <th>EndDate</th>\n",
       "      <th>Type</th>\n",
       "      <th>PaperlessBilling</th>\n",
       "      <th>PaymentMethod</th>\n",
       "      <th>...</th>\n",
       "      <th>OnlineSecurity</th>\n",
       "      <th>OnlineBackup</th>\n",
       "      <th>DeviceProtection</th>\n",
       "      <th>TechSupport</th>\n",
       "      <th>StreamingTV</th>\n",
       "      <th>StreamingMovies</th>\n",
       "      <th>MultipleLines</th>\n",
       "      <th>target</th>\n",
       "      <th>use_days</th>\n",
       "      <th>dbp</th>\n",
       "    </tr>\n",
       "  </thead>\n",
       "  <tbody>\n",
       "    <tr>\n",
       "      <th>0</th>\n",
       "      <td>7590-VHVEG</td>\n",
       "      <td>Female</td>\n",
       "      <td>No</td>\n",
       "      <td>Yes</td>\n",
       "      <td>No</td>\n",
       "      <td>2019-04-29</td>\n",
       "      <td>2020-02-01</td>\n",
       "      <td>Month-to-month</td>\n",
       "      <td>Yes</td>\n",
       "      <td>Electronic check</td>\n",
       "      <td>...</td>\n",
       "      <td>No</td>\n",
       "      <td>Yes</td>\n",
       "      <td>No</td>\n",
       "      <td>No</td>\n",
       "      <td>No</td>\n",
       "      <td>No</td>\n",
       "      <td>WOI</td>\n",
       "      <td>0</td>\n",
       "      <td>278</td>\n",
       "      <td>8</td>\n",
       "    </tr>\n",
       "    <tr>\n",
       "      <th>1</th>\n",
       "      <td>5575-GNVDE</td>\n",
       "      <td>Male</td>\n",
       "      <td>No</td>\n",
       "      <td>No</td>\n",
       "      <td>No</td>\n",
       "      <td>2019-03-26</td>\n",
       "      <td>2020-02-01</td>\n",
       "      <td>One year</td>\n",
       "      <td>No</td>\n",
       "      <td>Mailed check</td>\n",
       "      <td>...</td>\n",
       "      <td>Yes</td>\n",
       "      <td>No</td>\n",
       "      <td>Yes</td>\n",
       "      <td>No</td>\n",
       "      <td>No</td>\n",
       "      <td>No</td>\n",
       "      <td>No</td>\n",
       "      <td>0</td>\n",
       "      <td>312</td>\n",
       "      <td>312</td>\n",
       "    </tr>\n",
       "    <tr>\n",
       "      <th>2</th>\n",
       "      <td>3668-QPYBK</td>\n",
       "      <td>Male</td>\n",
       "      <td>No</td>\n",
       "      <td>No</td>\n",
       "      <td>No</td>\n",
       "      <td>2018-08-09</td>\n",
       "      <td>2019-12-01</td>\n",
       "      <td>Month-to-month</td>\n",
       "      <td>Yes</td>\n",
       "      <td>Mailed check</td>\n",
       "      <td>...</td>\n",
       "      <td>Yes</td>\n",
       "      <td>Yes</td>\n",
       "      <td>No</td>\n",
       "      <td>No</td>\n",
       "      <td>No</td>\n",
       "      <td>No</td>\n",
       "      <td>No</td>\n",
       "      <td>1</td>\n",
       "      <td>479</td>\n",
       "      <td>29</td>\n",
       "    </tr>\n",
       "  </tbody>\n",
       "</table>\n",
       "<p>3 rows × 23 columns</p>\n",
       "</div>"
      ],
      "text/plain": [
       "   customerID  gender SeniorCitizen Partner Dependents  BeginDate    EndDate  \\\n",
       "0  7590-VHVEG  Female            No     Yes         No 2019-04-29 2020-02-01   \n",
       "1  5575-GNVDE    Male            No      No         No 2019-03-26 2020-02-01   \n",
       "2  3668-QPYBK    Male            No      No         No 2018-08-09 2019-12-01   \n",
       "\n",
       "             Type PaperlessBilling     PaymentMethod  ...  OnlineSecurity  \\\n",
       "0  Month-to-month              Yes  Electronic check  ...              No   \n",
       "1        One year               No      Mailed check  ...             Yes   \n",
       "2  Month-to-month              Yes      Mailed check  ...             Yes   \n",
       "\n",
       "   OnlineBackup DeviceProtection TechSupport StreamingTV StreamingMovies  \\\n",
       "0           Yes               No          No          No              No   \n",
       "1            No              Yes          No          No              No   \n",
       "2           Yes               No          No          No              No   \n",
       "\n",
       "  MultipleLines target use_days  dbp  \n",
       "0           WOI      0      278    8  \n",
       "1            No      0      312  312  \n",
       "2            No      1      479   29  \n",
       "\n",
       "[3 rows x 23 columns]"
      ]
     },
     "execution_count": 37,
     "metadata": {},
     "output_type": "execute_result"
    }
   ],
   "source": [
    "def days_before_payment(row):\n",
    "    if row['Type'] == 'Month-to-month':\n",
    "        return row['use_days'] % 30\n",
    "    elif row['Type'] == 'One year':\n",
    "        return row['use_days'] % 366\n",
    "    return row['use_days'] % 732\n",
    "\n",
    "data['dbp'] = data.progress_apply(days_before_payment, axis=1)\n",
    "data.head(3)"
   ]
  },
  {
   "cell_type": "markdown",
   "id": "70d82c90",
   "metadata": {},
   "source": [
    "Удалим столбцы времени и оставшиеся 11 NaN значений."
   ]
  },
  {
   "cell_type": "code",
   "execution_count": 38,
   "id": "2ccefe4d",
   "metadata": {},
   "outputs": [
    {
     "name": "stdout",
     "output_type": "stream",
     "text": [
      "<class 'pandas.core.frame.DataFrame'>\n",
      "Int64Index: 7032 entries, 0 to 7042\n",
      "Data columns (total 20 columns):\n",
      " #   Column            Non-Null Count  Dtype  \n",
      "---  ------            --------------  -----  \n",
      " 0   gender            7032 non-null   object \n",
      " 1   SeniorCitizen     7032 non-null   object \n",
      " 2   Partner           7032 non-null   object \n",
      " 3   Dependents        7032 non-null   object \n",
      " 4   Type              7032 non-null   object \n",
      " 5   PaperlessBilling  7032 non-null   object \n",
      " 6   PaymentMethod     7032 non-null   object \n",
      " 7   MonthlyCharges    7032 non-null   float64\n",
      " 8   TotalCharges      7032 non-null   float64\n",
      " 9   InternetService   7032 non-null   object \n",
      " 10  OnlineSecurity    7032 non-null   object \n",
      " 11  OnlineBackup      7032 non-null   object \n",
      " 12  DeviceProtection  7032 non-null   object \n",
      " 13  TechSupport       7032 non-null   object \n",
      " 14  StreamingTV       7032 non-null   object \n",
      " 15  StreamingMovies   7032 non-null   object \n",
      " 16  MultipleLines     7032 non-null   object \n",
      " 17  target            7032 non-null   int64  \n",
      " 18  use_days          7032 non-null   int64  \n",
      " 19  dbp               7032 non-null   int64  \n",
      "dtypes: float64(2), int64(3), object(15)\n",
      "memory usage: 1.1+ MB\n"
     ]
    }
   ],
   "source": [
    "del data['BeginDate']\n",
    "del data['EndDate'] \n",
    "del data['customerID']\n",
    "\n",
    "data.dropna(inplace=True)\n",
    "data.info()"
   ]
  },
  {
   "cell_type": "code",
   "execution_count": 39,
   "id": "c043f877",
   "metadata": {},
   "outputs": [
    {
     "data": {
      "text/plain": [
       "0"
      ]
     },
     "execution_count": 39,
     "metadata": {},
     "output_type": "execute_result"
    }
   ],
   "source": [
    "data.duplicated().sum()"
   ]
  },
  {
   "cell_type": "code",
   "execution_count": 40,
   "id": "8eeaddf8",
   "metadata": {},
   "outputs": [
    {
     "data": {
      "text/plain": [
       "0    0.734215\n",
       "1    0.265785\n",
       "Name: target, dtype: float64"
      ]
     },
     "execution_count": 40,
     "metadata": {},
     "output_type": "execute_result"
    }
   ],
   "source": [
    "data['target'].value_counts(normalize=True)"
   ]
  },
  {
   "cell_type": "markdown",
   "id": "564a17d1",
   "metadata": {},
   "source": [
    "Обнаружен дисбаланс классов 73%/27%, что в дальнейшей работе будем исправлять весами модели (class_weight='balanced). "
   ]
  },
  {
   "cell_type": "markdown",
   "id": "32912a62",
   "metadata": {},
   "source": [
    "## Исследовательский анализ данных"
   ]
  },
  {
   "cell_type": "code",
   "execution_count": 41,
   "id": "6e23d3ab",
   "metadata": {},
   "outputs": [
    {
     "data": {
      "text/html": [
       "<div>\n",
       "<style scoped>\n",
       "    .dataframe tbody tr th:only-of-type {\n",
       "        vertical-align: middle;\n",
       "    }\n",
       "\n",
       "    .dataframe tbody tr th {\n",
       "        vertical-align: top;\n",
       "    }\n",
       "\n",
       "    .dataframe thead th {\n",
       "        text-align: right;\n",
       "    }\n",
       "</style>\n",
       "<table border=\"1\" class=\"dataframe\">\n",
       "  <thead>\n",
       "    <tr style=\"text-align: right;\">\n",
       "      <th></th>\n",
       "      <th>gender</th>\n",
       "      <th>SeniorCitizen</th>\n",
       "      <th>Partner</th>\n",
       "      <th>Dependents</th>\n",
       "      <th>Type</th>\n",
       "      <th>PaperlessBilling</th>\n",
       "      <th>PaymentMethod</th>\n",
       "      <th>MonthlyCharges</th>\n",
       "      <th>TotalCharges</th>\n",
       "      <th>InternetService</th>\n",
       "      <th>OnlineSecurity</th>\n",
       "      <th>OnlineBackup</th>\n",
       "      <th>DeviceProtection</th>\n",
       "      <th>TechSupport</th>\n",
       "      <th>StreamingTV</th>\n",
       "      <th>StreamingMovies</th>\n",
       "      <th>MultipleLines</th>\n",
       "      <th>target</th>\n",
       "      <th>use_days</th>\n",
       "      <th>dbp</th>\n",
       "    </tr>\n",
       "  </thead>\n",
       "  <tbody>\n",
       "    <tr>\n",
       "      <th>gender</th>\n",
       "      <td>1.00</td>\n",
       "      <td>0.00</td>\n",
       "      <td>0.00</td>\n",
       "      <td>0.00</td>\n",
       "      <td>0.00</td>\n",
       "      <td>0.00</td>\n",
       "      <td>0.00</td>\n",
       "      <td>0.01</td>\n",
       "      <td>0.00</td>\n",
       "      <td>0.00</td>\n",
       "      <td>0.00</td>\n",
       "      <td>0.00</td>\n",
       "      <td>0.00</td>\n",
       "      <td>0.00</td>\n",
       "      <td>0.00</td>\n",
       "      <td>0.00</td>\n",
       "      <td>0.00</td>\n",
       "      <td>0.00</td>\n",
       "      <td>0.00</td>\n",
       "      <td>0.02</td>\n",
       "    </tr>\n",
       "    <tr>\n",
       "      <th>SeniorCitizen</th>\n",
       "      <td>0.00</td>\n",
       "      <td>1.00</td>\n",
       "      <td>0.02</td>\n",
       "      <td>0.32</td>\n",
       "      <td>0.09</td>\n",
       "      <td>0.24</td>\n",
       "      <td>0.29</td>\n",
       "      <td>0.30</td>\n",
       "      <td>0.15</td>\n",
       "      <td>0.16</td>\n",
       "      <td>0.13</td>\n",
       "      <td>0.11</td>\n",
       "      <td>0.11</td>\n",
       "      <td>0.14</td>\n",
       "      <td>0.11</td>\n",
       "      <td>0.11</td>\n",
       "      <td>0.09</td>\n",
       "      <td>0.23</td>\n",
       "      <td>0.04</td>\n",
       "      <td>0.17</td>\n",
       "    </tr>\n",
       "    <tr>\n",
       "      <th>Partner</th>\n",
       "      <td>0.00</td>\n",
       "      <td>0.02</td>\n",
       "      <td>1.00</td>\n",
       "      <td>0.65</td>\n",
       "      <td>0.18</td>\n",
       "      <td>0.01</td>\n",
       "      <td>0.24</td>\n",
       "      <td>0.20</td>\n",
       "      <td>0.42</td>\n",
       "      <td>0.00</td>\n",
       "      <td>0.09</td>\n",
       "      <td>0.09</td>\n",
       "      <td>0.10</td>\n",
       "      <td>0.08</td>\n",
       "      <td>0.08</td>\n",
       "      <td>0.08</td>\n",
       "      <td>0.09</td>\n",
       "      <td>0.23</td>\n",
       "      <td>0.00</td>\n",
       "      <td>0.35</td>\n",
       "    </tr>\n",
       "    <tr>\n",
       "      <th>Dependents</th>\n",
       "      <td>0.00</td>\n",
       "      <td>0.32</td>\n",
       "      <td>0.65</td>\n",
       "      <td>1.00</td>\n",
       "      <td>0.15</td>\n",
       "      <td>0.17</td>\n",
       "      <td>0.22</td>\n",
       "      <td>0.18</td>\n",
       "      <td>0.12</td>\n",
       "      <td>0.11</td>\n",
       "      <td>0.12</td>\n",
       "      <td>0.10</td>\n",
       "      <td>0.09</td>\n",
       "      <td>0.11</td>\n",
       "      <td>0.09</td>\n",
       "      <td>0.08</td>\n",
       "      <td>0.01</td>\n",
       "      <td>0.25</td>\n",
       "      <td>0.00</td>\n",
       "      <td>0.29</td>\n",
       "    </tr>\n",
       "    <tr>\n",
       "      <th>Type</th>\n",
       "      <td>0.00</td>\n",
       "      <td>0.09</td>\n",
       "      <td>0.18</td>\n",
       "      <td>0.15</td>\n",
       "      <td>1.00</td>\n",
       "      <td>0.11</td>\n",
       "      <td>0.28</td>\n",
       "      <td>0.39</td>\n",
       "      <td>0.51</td>\n",
       "      <td>0.50</td>\n",
       "      <td>0.64</td>\n",
       "      <td>0.58</td>\n",
       "      <td>0.63</td>\n",
       "      <td>0.67</td>\n",
       "      <td>0.55</td>\n",
       "      <td>0.55</td>\n",
       "      <td>0.24</td>\n",
       "      <td>0.25</td>\n",
       "      <td>0.00</td>\n",
       "      <td>0.80</td>\n",
       "    </tr>\n",
       "    <tr>\n",
       "      <th>PaperlessBilling</th>\n",
       "      <td>0.00</td>\n",
       "      <td>0.24</td>\n",
       "      <td>0.01</td>\n",
       "      <td>0.17</td>\n",
       "      <td>0.11</td>\n",
       "      <td>1.00</td>\n",
       "      <td>0.37</td>\n",
       "      <td>0.47</td>\n",
       "      <td>0.21</td>\n",
       "      <td>0.23</td>\n",
       "      <td>0.21</td>\n",
       "      <td>0.20</td>\n",
       "      <td>0.20</td>\n",
       "      <td>0.20</td>\n",
       "      <td>0.20</td>\n",
       "      <td>0.20</td>\n",
       "      <td>0.10</td>\n",
       "      <td>0.30</td>\n",
       "      <td>0.04</td>\n",
       "      <td>0.22</td>\n",
       "    </tr>\n",
       "    <tr>\n",
       "      <th>PaymentMethod</th>\n",
       "      <td>0.00</td>\n",
       "      <td>0.29</td>\n",
       "      <td>0.24</td>\n",
       "      <td>0.22</td>\n",
       "      <td>0.28</td>\n",
       "      <td>0.37</td>\n",
       "      <td>1.00</td>\n",
       "      <td>0.40</td>\n",
       "      <td>0.35</td>\n",
       "      <td>0.32</td>\n",
       "      <td>0.31</td>\n",
       "      <td>0.29</td>\n",
       "      <td>0.30</td>\n",
       "      <td>0.32</td>\n",
       "      <td>0.28</td>\n",
       "      <td>0.28</td>\n",
       "      <td>0.17</td>\n",
       "      <td>0.45</td>\n",
       "      <td>0.00</td>\n",
       "      <td>0.33</td>\n",
       "    </tr>\n",
       "    <tr>\n",
       "      <th>MonthlyCharges</th>\n",
       "      <td>0.01</td>\n",
       "      <td>0.30</td>\n",
       "      <td>0.20</td>\n",
       "      <td>0.18</td>\n",
       "      <td>0.39</td>\n",
       "      <td>0.47</td>\n",
       "      <td>0.40</td>\n",
       "      <td>1.00</td>\n",
       "      <td>0.76</td>\n",
       "      <td>0.92</td>\n",
       "      <td>0.81</td>\n",
       "      <td>0.82</td>\n",
       "      <td>0.83</td>\n",
       "      <td>0.82</td>\n",
       "      <td>0.86</td>\n",
       "      <td>0.86</td>\n",
       "      <td>0.71</td>\n",
       "      <td>0.36</td>\n",
       "      <td>0.00</td>\n",
       "      <td>0.33</td>\n",
       "    </tr>\n",
       "    <tr>\n",
       "      <th>TotalCharges</th>\n",
       "      <td>0.00</td>\n",
       "      <td>0.15</td>\n",
       "      <td>0.42</td>\n",
       "      <td>0.12</td>\n",
       "      <td>0.51</td>\n",
       "      <td>0.21</td>\n",
       "      <td>0.35</td>\n",
       "      <td>0.76</td>\n",
       "      <td>1.00</td>\n",
       "      <td>0.51</td>\n",
       "      <td>0.53</td>\n",
       "      <td>0.57</td>\n",
       "      <td>0.57</td>\n",
       "      <td>0.54</td>\n",
       "      <td>0.57</td>\n",
       "      <td>0.57</td>\n",
       "      <td>0.49</td>\n",
       "      <td>0.28</td>\n",
       "      <td>0.02</td>\n",
       "      <td>0.45</td>\n",
       "    </tr>\n",
       "    <tr>\n",
       "      <th>InternetService</th>\n",
       "      <td>0.00</td>\n",
       "      <td>0.16</td>\n",
       "      <td>0.00</td>\n",
       "      <td>0.11</td>\n",
       "      <td>0.50</td>\n",
       "      <td>0.23</td>\n",
       "      <td>0.32</td>\n",
       "      <td>0.92</td>\n",
       "      <td>0.51</td>\n",
       "      <td>1.00</td>\n",
       "      <td>0.95</td>\n",
       "      <td>0.94</td>\n",
       "      <td>0.94</td>\n",
       "      <td>0.95</td>\n",
       "      <td>0.95</td>\n",
       "      <td>0.95</td>\n",
       "      <td>0.74</td>\n",
       "      <td>0.20</td>\n",
       "      <td>0.00</td>\n",
       "      <td>0.30</td>\n",
       "    </tr>\n",
       "    <tr>\n",
       "      <th>OnlineSecurity</th>\n",
       "      <td>0.00</td>\n",
       "      <td>0.13</td>\n",
       "      <td>0.09</td>\n",
       "      <td>0.12</td>\n",
       "      <td>0.64</td>\n",
       "      <td>0.21</td>\n",
       "      <td>0.31</td>\n",
       "      <td>0.81</td>\n",
       "      <td>0.53</td>\n",
       "      <td>0.95</td>\n",
       "      <td>1.00</td>\n",
       "      <td>0.95</td>\n",
       "      <td>0.95</td>\n",
       "      <td>0.95</td>\n",
       "      <td>0.94</td>\n",
       "      <td>0.94</td>\n",
       "      <td>0.54</td>\n",
       "      <td>0.21</td>\n",
       "      <td>0.00</td>\n",
       "      <td>0.42</td>\n",
       "    </tr>\n",
       "    <tr>\n",
       "      <th>OnlineBackup</th>\n",
       "      <td>0.00</td>\n",
       "      <td>0.11</td>\n",
       "      <td>0.09</td>\n",
       "      <td>0.10</td>\n",
       "      <td>0.58</td>\n",
       "      <td>0.20</td>\n",
       "      <td>0.29</td>\n",
       "      <td>0.82</td>\n",
       "      <td>0.57</td>\n",
       "      <td>0.94</td>\n",
       "      <td>0.95</td>\n",
       "      <td>1.00</td>\n",
       "      <td>0.95</td>\n",
       "      <td>0.95</td>\n",
       "      <td>0.95</td>\n",
       "      <td>0.95</td>\n",
       "      <td>0.56</td>\n",
       "      <td>0.18</td>\n",
       "      <td>0.01</td>\n",
       "      <td>0.37</td>\n",
       "    </tr>\n",
       "    <tr>\n",
       "      <th>DeviceProtection</th>\n",
       "      <td>0.00</td>\n",
       "      <td>0.11</td>\n",
       "      <td>0.10</td>\n",
       "      <td>0.09</td>\n",
       "      <td>0.63</td>\n",
       "      <td>0.20</td>\n",
       "      <td>0.30</td>\n",
       "      <td>0.83</td>\n",
       "      <td>0.57</td>\n",
       "      <td>0.94</td>\n",
       "      <td>0.95</td>\n",
       "      <td>0.95</td>\n",
       "      <td>1.00</td>\n",
       "      <td>0.95</td>\n",
       "      <td>0.95</td>\n",
       "      <td>0.95</td>\n",
       "      <td>0.56</td>\n",
       "      <td>0.17</td>\n",
       "      <td>0.00</td>\n",
       "      <td>0.42</td>\n",
       "    </tr>\n",
       "    <tr>\n",
       "      <th>TechSupport</th>\n",
       "      <td>0.00</td>\n",
       "      <td>0.14</td>\n",
       "      <td>0.08</td>\n",
       "      <td>0.11</td>\n",
       "      <td>0.67</td>\n",
       "      <td>0.20</td>\n",
       "      <td>0.32</td>\n",
       "      <td>0.82</td>\n",
       "      <td>0.54</td>\n",
       "      <td>0.95</td>\n",
       "      <td>0.95</td>\n",
       "      <td>0.95</td>\n",
       "      <td>0.95</td>\n",
       "      <td>1.00</td>\n",
       "      <td>0.95</td>\n",
       "      <td>0.95</td>\n",
       "      <td>0.54</td>\n",
       "      <td>0.21</td>\n",
       "      <td>0.00</td>\n",
       "      <td>0.45</td>\n",
       "    </tr>\n",
       "    <tr>\n",
       "      <th>StreamingTV</th>\n",
       "      <td>0.00</td>\n",
       "      <td>0.11</td>\n",
       "      <td>0.08</td>\n",
       "      <td>0.09</td>\n",
       "      <td>0.55</td>\n",
       "      <td>0.20</td>\n",
       "      <td>0.28</td>\n",
       "      <td>0.86</td>\n",
       "      <td>0.57</td>\n",
       "      <td>0.95</td>\n",
       "      <td>0.94</td>\n",
       "      <td>0.95</td>\n",
       "      <td>0.95</td>\n",
       "      <td>0.95</td>\n",
       "      <td>1.00</td>\n",
       "      <td>0.97</td>\n",
       "      <td>0.59</td>\n",
       "      <td>0.14</td>\n",
       "      <td>0.03</td>\n",
       "      <td>0.34</td>\n",
       "    </tr>\n",
       "    <tr>\n",
       "      <th>StreamingMovies</th>\n",
       "      <td>0.00</td>\n",
       "      <td>0.11</td>\n",
       "      <td>0.08</td>\n",
       "      <td>0.08</td>\n",
       "      <td>0.55</td>\n",
       "      <td>0.20</td>\n",
       "      <td>0.28</td>\n",
       "      <td>0.86</td>\n",
       "      <td>0.57</td>\n",
       "      <td>0.95</td>\n",
       "      <td>0.94</td>\n",
       "      <td>0.95</td>\n",
       "      <td>0.95</td>\n",
       "      <td>0.95</td>\n",
       "      <td>0.97</td>\n",
       "      <td>1.00</td>\n",
       "      <td>0.59</td>\n",
       "      <td>0.14</td>\n",
       "      <td>0.03</td>\n",
       "      <td>0.35</td>\n",
       "    </tr>\n",
       "    <tr>\n",
       "      <th>MultipleLines</th>\n",
       "      <td>0.00</td>\n",
       "      <td>0.09</td>\n",
       "      <td>0.09</td>\n",
       "      <td>0.01</td>\n",
       "      <td>0.24</td>\n",
       "      <td>0.10</td>\n",
       "      <td>0.17</td>\n",
       "      <td>0.71</td>\n",
       "      <td>0.49</td>\n",
       "      <td>0.74</td>\n",
       "      <td>0.54</td>\n",
       "      <td>0.56</td>\n",
       "      <td>0.56</td>\n",
       "      <td>0.54</td>\n",
       "      <td>0.59</td>\n",
       "      <td>0.59</td>\n",
       "      <td>1.00</td>\n",
       "      <td>0.02</td>\n",
       "      <td>0.00</td>\n",
       "      <td>0.12</td>\n",
       "    </tr>\n",
       "    <tr>\n",
       "      <th>target</th>\n",
       "      <td>0.00</td>\n",
       "      <td>0.23</td>\n",
       "      <td>0.23</td>\n",
       "      <td>0.25</td>\n",
       "      <td>0.25</td>\n",
       "      <td>0.30</td>\n",
       "      <td>0.45</td>\n",
       "      <td>0.36</td>\n",
       "      <td>0.28</td>\n",
       "      <td>0.20</td>\n",
       "      <td>0.21</td>\n",
       "      <td>0.18</td>\n",
       "      <td>0.17</td>\n",
       "      <td>0.21</td>\n",
       "      <td>0.14</td>\n",
       "      <td>0.14</td>\n",
       "      <td>0.02</td>\n",
       "      <td>1.00</td>\n",
       "      <td>0.03</td>\n",
       "      <td>0.50</td>\n",
       "    </tr>\n",
       "    <tr>\n",
       "      <th>use_days</th>\n",
       "      <td>0.00</td>\n",
       "      <td>0.04</td>\n",
       "      <td>0.00</td>\n",
       "      <td>0.00</td>\n",
       "      <td>0.00</td>\n",
       "      <td>0.04</td>\n",
       "      <td>0.00</td>\n",
       "      <td>0.00</td>\n",
       "      <td>0.02</td>\n",
       "      <td>0.00</td>\n",
       "      <td>0.00</td>\n",
       "      <td>0.01</td>\n",
       "      <td>0.00</td>\n",
       "      <td>0.00</td>\n",
       "      <td>0.03</td>\n",
       "      <td>0.03</td>\n",
       "      <td>0.00</td>\n",
       "      <td>0.03</td>\n",
       "      <td>1.00</td>\n",
       "      <td>0.87</td>\n",
       "    </tr>\n",
       "    <tr>\n",
       "      <th>dbp</th>\n",
       "      <td>0.02</td>\n",
       "      <td>0.17</td>\n",
       "      <td>0.35</td>\n",
       "      <td>0.29</td>\n",
       "      <td>0.80</td>\n",
       "      <td>0.22</td>\n",
       "      <td>0.33</td>\n",
       "      <td>0.33</td>\n",
       "      <td>0.45</td>\n",
       "      <td>0.30</td>\n",
       "      <td>0.42</td>\n",
       "      <td>0.37</td>\n",
       "      <td>0.42</td>\n",
       "      <td>0.45</td>\n",
       "      <td>0.34</td>\n",
       "      <td>0.35</td>\n",
       "      <td>0.12</td>\n",
       "      <td>0.50</td>\n",
       "      <td>0.87</td>\n",
       "      <td>1.00</td>\n",
       "    </tr>\n",
       "  </tbody>\n",
       "</table>\n",
       "</div>"
      ],
      "text/plain": [
       "                  gender  SeniorCitizen  Partner  Dependents  Type  \\\n",
       "gender              1.00           0.00     0.00        0.00  0.00   \n",
       "SeniorCitizen       0.00           1.00     0.02        0.32  0.09   \n",
       "Partner             0.00           0.02     1.00        0.65  0.18   \n",
       "Dependents          0.00           0.32     0.65        1.00  0.15   \n",
       "Type                0.00           0.09     0.18        0.15  1.00   \n",
       "PaperlessBilling    0.00           0.24     0.01        0.17  0.11   \n",
       "PaymentMethod       0.00           0.29     0.24        0.22  0.28   \n",
       "MonthlyCharges      0.01           0.30     0.20        0.18  0.39   \n",
       "TotalCharges        0.00           0.15     0.42        0.12  0.51   \n",
       "InternetService     0.00           0.16     0.00        0.11  0.50   \n",
       "OnlineSecurity      0.00           0.13     0.09        0.12  0.64   \n",
       "OnlineBackup        0.00           0.11     0.09        0.10  0.58   \n",
       "DeviceProtection    0.00           0.11     0.10        0.09  0.63   \n",
       "TechSupport         0.00           0.14     0.08        0.11  0.67   \n",
       "StreamingTV         0.00           0.11     0.08        0.09  0.55   \n",
       "StreamingMovies     0.00           0.11     0.08        0.08  0.55   \n",
       "MultipleLines       0.00           0.09     0.09        0.01  0.24   \n",
       "target              0.00           0.23     0.23        0.25  0.25   \n",
       "use_days            0.00           0.04     0.00        0.00  0.00   \n",
       "dbp                 0.02           0.17     0.35        0.29  0.80   \n",
       "\n",
       "                  PaperlessBilling  PaymentMethod  MonthlyCharges  \\\n",
       "gender                        0.00           0.00            0.01   \n",
       "SeniorCitizen                 0.24           0.29            0.30   \n",
       "Partner                       0.01           0.24            0.20   \n",
       "Dependents                    0.17           0.22            0.18   \n",
       "Type                          0.11           0.28            0.39   \n",
       "PaperlessBilling              1.00           0.37            0.47   \n",
       "PaymentMethod                 0.37           1.00            0.40   \n",
       "MonthlyCharges                0.47           0.40            1.00   \n",
       "TotalCharges                  0.21           0.35            0.76   \n",
       "InternetService               0.23           0.32            0.92   \n",
       "OnlineSecurity                0.21           0.31            0.81   \n",
       "OnlineBackup                  0.20           0.29            0.82   \n",
       "DeviceProtection              0.20           0.30            0.83   \n",
       "TechSupport                   0.20           0.32            0.82   \n",
       "StreamingTV                   0.20           0.28            0.86   \n",
       "StreamingMovies               0.20           0.28            0.86   \n",
       "MultipleLines                 0.10           0.17            0.71   \n",
       "target                        0.30           0.45            0.36   \n",
       "use_days                      0.04           0.00            0.00   \n",
       "dbp                           0.22           0.33            0.33   \n",
       "\n",
       "                  TotalCharges  InternetService  OnlineSecurity  OnlineBackup  \\\n",
       "gender                    0.00             0.00            0.00          0.00   \n",
       "SeniorCitizen             0.15             0.16            0.13          0.11   \n",
       "Partner                   0.42             0.00            0.09          0.09   \n",
       "Dependents                0.12             0.11            0.12          0.10   \n",
       "Type                      0.51             0.50            0.64          0.58   \n",
       "PaperlessBilling          0.21             0.23            0.21          0.20   \n",
       "PaymentMethod             0.35             0.32            0.31          0.29   \n",
       "MonthlyCharges            0.76             0.92            0.81          0.82   \n",
       "TotalCharges              1.00             0.51            0.53          0.57   \n",
       "InternetService           0.51             1.00            0.95          0.94   \n",
       "OnlineSecurity            0.53             0.95            1.00          0.95   \n",
       "OnlineBackup              0.57             0.94            0.95          1.00   \n",
       "DeviceProtection          0.57             0.94            0.95          0.95   \n",
       "TechSupport               0.54             0.95            0.95          0.95   \n",
       "StreamingTV               0.57             0.95            0.94          0.95   \n",
       "StreamingMovies           0.57             0.95            0.94          0.95   \n",
       "MultipleLines             0.49             0.74            0.54          0.56   \n",
       "target                    0.28             0.20            0.21          0.18   \n",
       "use_days                  0.02             0.00            0.00          0.01   \n",
       "dbp                       0.45             0.30            0.42          0.37   \n",
       "\n",
       "                  DeviceProtection  TechSupport  StreamingTV  StreamingMovies  \\\n",
       "gender                        0.00         0.00         0.00             0.00   \n",
       "SeniorCitizen                 0.11         0.14         0.11             0.11   \n",
       "Partner                       0.10         0.08         0.08             0.08   \n",
       "Dependents                    0.09         0.11         0.09             0.08   \n",
       "Type                          0.63         0.67         0.55             0.55   \n",
       "PaperlessBilling              0.20         0.20         0.20             0.20   \n",
       "PaymentMethod                 0.30         0.32         0.28             0.28   \n",
       "MonthlyCharges                0.83         0.82         0.86             0.86   \n",
       "TotalCharges                  0.57         0.54         0.57             0.57   \n",
       "InternetService               0.94         0.95         0.95             0.95   \n",
       "OnlineSecurity                0.95         0.95         0.94             0.94   \n",
       "OnlineBackup                  0.95         0.95         0.95             0.95   \n",
       "DeviceProtection              1.00         0.95         0.95             0.95   \n",
       "TechSupport                   0.95         1.00         0.95             0.95   \n",
       "StreamingTV                   0.95         0.95         1.00             0.97   \n",
       "StreamingMovies               0.95         0.95         0.97             1.00   \n",
       "MultipleLines                 0.56         0.54         0.59             0.59   \n",
       "target                        0.17         0.21         0.14             0.14   \n",
       "use_days                      0.00         0.00         0.03             0.03   \n",
       "dbp                           0.42         0.45         0.34             0.35   \n",
       "\n",
       "                  MultipleLines  target  use_days   dbp  \n",
       "gender                     0.00    0.00      0.00  0.02  \n",
       "SeniorCitizen              0.09    0.23      0.04  0.17  \n",
       "Partner                    0.09    0.23      0.00  0.35  \n",
       "Dependents                 0.01    0.25      0.00  0.29  \n",
       "Type                       0.24    0.25      0.00  0.80  \n",
       "PaperlessBilling           0.10    0.30      0.04  0.22  \n",
       "PaymentMethod              0.17    0.45      0.00  0.33  \n",
       "MonthlyCharges             0.71    0.36      0.00  0.33  \n",
       "TotalCharges               0.49    0.28      0.02  0.45  \n",
       "InternetService            0.74    0.20      0.00  0.30  \n",
       "OnlineSecurity             0.54    0.21      0.00  0.42  \n",
       "OnlineBackup               0.56    0.18      0.01  0.37  \n",
       "DeviceProtection           0.56    0.17      0.00  0.42  \n",
       "TechSupport                0.54    0.21      0.00  0.45  \n",
       "StreamingTV                0.59    0.14      0.03  0.34  \n",
       "StreamingMovies            0.59    0.14      0.03  0.35  \n",
       "MultipleLines              1.00    0.02      0.00  0.12  \n",
       "target                     0.02    1.00      0.03  0.50  \n",
       "use_days                   0.00    0.03      1.00  0.87  \n",
       "dbp                        0.12    0.50      0.87  1.00  "
      ]
     },
     "execution_count": 41,
     "metadata": {},
     "output_type": "execute_result"
    }
   ],
   "source": [
    "phik_overview = data.phik_matrix(interval_cols=['MonthlyCharges', 'TotalCharges', 'use_days', 'dbp'])\n",
    "phik_overview.round(2)"
   ]
  },
  {
   "cell_type": "code",
   "execution_count": 42,
   "id": "05844554",
   "metadata": {},
   "outputs": [],
   "source": [
    "def violentplot(df, column, target):\n",
    "    plt.figure(figsize = (8, 5))\n",
    "    sns.violinplot(\n",
    "        x = target,\n",
    "        y = column,\n",
    "        data = df,\n",
    "        kind = \"violin\",\n",
    "        split = True,\n",
    "        palette = \"coolwarm\"\n",
    "    )\n",
    "    plt.show()\n",
    "\n",
    "    if df[column].nunique() <= 25:\n",
    "        plt.figure(figsize = (12, 10))\n",
    "        sns.histplot(data=df,\n",
    "                     x=column,\n",
    "                     binwidth=1,\n",
    "                     hue=target)\n",
    "        plt.show()\n",
    "\n",
    "    print()\n",
    "    print('Корреляция Phik:', np.round(phik_overview.loc[column]['target'], 2))\n",
    "    print('-----------------------------------------------------------------------------------------------')\n",
    "    print()"
   ]
  },
  {
   "cell_type": "code",
   "execution_count": 43,
   "id": "db7400c3",
   "metadata": {},
   "outputs": [
    {
     "data": {
      "image/png": "[encoded data removed]",
      "text/plain": [
       "<Figure size 864x720 with 2 Axes>"
      ]
     },
     "metadata": {
      "needs_background": "light"
     },
     "output_type": "display_data"
    }
   ],
   "source": [
    "plot_correlation_matrix(phik_overview.values, \n",
    "                        x_labels=phik_overview.columns, \n",
    "                        y_labels=phik_overview.index, \n",
    "                        vmin=0, vmax=1, color_map=\"Blues\", \n",
    "                        title=r\"Корреляция $\\phi_K$\", \n",
    "                        fontsize_factor=0.8, \n",
    "                        figsize=(12, 10))\n",
    "plt.tight_layout()\n",
    "plt.show()"
   ]
  },
  {
   "cell_type": "code",
   "execution_count": 44,
   "id": "68748cc7",
   "metadata": {},
   "outputs": [
    {
     "data": {
      "image/png": "[encoded data removed]",
      "text/plain": [
       "<Figure size 576x360 with 1 Axes>"
      ]
     },
     "metadata": {
      "needs_background": "light"
     },
     "output_type": "display_data"
    },
    {
     "name": "stdout",
     "output_type": "stream",
     "text": [
      "\n",
      "Корреляция Phik: 0.36\n",
      "-----------------------------------------------------------------------------------------------\n",
      "\n"
     ]
    }
   ],
   "source": [
    "violentplot(data, 'MonthlyCharges', 'target')"
   ]
  },
  {
   "cell_type": "markdown",
   "id": "85de487a",
   "metadata": {},
   "source": [
    "Мы можем наблюдать, что клиент чаще всего уходит при больших ежемесячных затратах. Большинство людей, которые не разорвали договор с компанией платят 20 условных денежных единиц, но как только планка поднимается до 80 - шанс расторжения договора повышается. У данного признака слабая зависимость с нашей целевой переменной."
   ]
  },
  {
   "cell_type": "code",
   "execution_count": 45,
   "id": "e32d3c59",
   "metadata": {},
   "outputs": [
    {
     "data": {
      "image/png": "[encoded data removed]",
      "text/plain": [
       "<Figure size 576x360 with 1 Axes>"
      ]
     },
     "metadata": {
      "needs_background": "light"
     },
     "output_type": "display_data"
    },
    {
     "name": "stdout",
     "output_type": "stream",
     "text": [
      "\n",
      "Корреляция Phik: 0.28\n",
      "-----------------------------------------------------------------------------------------------\n",
      "\n"
     ]
    }
   ],
   "source": [
    "violentplot(data, 'TotalCharges', 'target')"
   ]
  },
  {
   "cell_type": "markdown",
   "id": "c096e7b0",
   "metadata": {},
   "source": [
    "Данная взаимосвязь может говорить о том, что человек уходит от компании буквально на первых этапах знакомства с тарифом. Также можно заметить, что \"долгие контракты\" чаще всего остаются в компании. Если тариф полностью покрывает необходимости клиента - он им пользуется на протяжении долгого времени. Наблюдается слабая зависимость равная 28%."
   ]
  },
  {
   "cell_type": "code",
   "execution_count": 46,
   "id": "1ffb67bc",
   "metadata": {},
   "outputs": [
    {
     "data": {
      "image/png": "[encoded data removed]",
      "text/plain": [
       "<Figure size 576x360 with 1 Axes>"
      ]
     },
     "metadata": {
      "needs_background": "light"
     },
     "output_type": "display_data"
    },
    {
     "name": "stdout",
     "output_type": "stream",
     "text": [
      "\n",
      "Корреляция Phik: 0.03\n",
      "-----------------------------------------------------------------------------------------------\n",
      "\n"
     ]
    }
   ],
   "source": [
    "violentplot(data, 'use_days', 'target')"
   ]
  },
  {
   "cell_type": "markdown",
   "id": "bdb8d54b",
   "metadata": {},
   "source": [
    "Данные нового добавленного столбца независимы между собой. "
   ]
  },
  {
   "cell_type": "code",
   "execution_count": 47,
   "id": "533c02b5",
   "metadata": {},
   "outputs": [
    {
     "data": {
      "image/png": "[encoded data removed]",
      "text/plain": [
       "<Figure size 576x360 with 1 Axes>"
      ]
     },
     "metadata": {
      "needs_background": "light"
     },
     "output_type": "display_data"
    },
    {
     "name": "stdout",
     "output_type": "stream",
     "text": [
      "\n",
      "Корреляция Phik: 0.5\n",
      "-----------------------------------------------------------------------------------------------\n",
      "\n"
     ]
    }
   ],
   "source": [
    "violentplot(data, 'dbp', 'target')"
   ]
  },
  {
   "cell_type": "markdown",
   "id": "58a70673",
   "metadata": {},
   "source": [
    "Признак dbp - количество дней, которые остались до оплаты следующего периода тарифа. Достаточно хороший показатель, который имеет умеренную зависимость. Пользователи чаще всего отказываются от тарифа в последние дни."
   ]
  },
  {
   "cell_type": "code",
   "execution_count": 48,
   "id": "4327426a",
   "metadata": {},
   "outputs": [],
   "source": [
    "def proba_plot(data, column):\n",
    "    array0 = []\n",
    "    array1 = []\n",
    "    unique_list = list(data[column].unique())\n",
    "    for i in range(len(unique_list)):\n",
    "        all_unique = data.loc[data[column] == unique_list[i], column].count()\n",
    "\n",
    "        target_1 = data.loc[(data[column] == unique_list[i]) & (data['target'] == 1), column].count()\n",
    "        proba1 = np.round((target_1 / all_unique), 2)\n",
    "        target_0 = data.loc[(data[column] == unique_list[i]) & (data['target'] == 0), column].count()\n",
    "        proba0 = np.round((target_0 / all_unique), 2)\n",
    "\n",
    "        array0.append([unique_list[i], proba0, 'Не ушёл'])\n",
    "        array1.append([unique_list[i], proba1, 'Ушёл'])\n",
    "\n",
    "    array = np.concatenate([array0, array1], axis=0)\n",
    "    df = pd.DataFrame(data=array, columns = ['Уникальные значения столбца '+column, 'Доля клиентов', 'Hue'])\n",
    "    df['Доля клиентов'] = df['Доля клиентов'].astype(float)\n",
    "    display(df)\n",
    "    \n",
    "    sns.barplot(data = df, x = 'Уникальные значения столбца '+column, y = 'Доля клиентов', hue = 'Hue')\n",
    "    plt.show()\n",
    "    \n",
    "    print()\n",
    "    print('Корреляция Phik:', np.round(phik_overview.loc[column]['target'], 2))\n",
    "    print('-----------------------------------------------------------------------------------------------')\n",
    "    print()\n",
    "    \n",
    "    return None"
   ]
  },
  {
   "cell_type": "code",
   "execution_count": 49,
   "id": "255804c8",
   "metadata": {},
   "outputs": [
    {
     "data": {
      "text/html": [
       "<div>\n",
       "<style scoped>\n",
       "    .dataframe tbody tr th:only-of-type {\n",
       "        vertical-align: middle;\n",
       "    }\n",
       "\n",
       "    .dataframe tbody tr th {\n",
       "        vertical-align: top;\n",
       "    }\n",
       "\n",
       "    .dataframe thead th {\n",
       "        text-align: right;\n",
       "    }\n",
       "</style>\n",
       "<table border=\"1\" class=\"dataframe\">\n",
       "  <thead>\n",
       "    <tr style=\"text-align: right;\">\n",
       "      <th></th>\n",
       "      <th>Уникальные значения столбца gender</th>\n",
       "      <th>Доля клиентов</th>\n",
       "      <th>Hue</th>\n",
       "    </tr>\n",
       "  </thead>\n",
       "  <tbody>\n",
       "    <tr>\n",
       "      <th>0</th>\n",
       "      <td>Female</td>\n",
       "      <td>0.73</td>\n",
       "      <td>Не ушёл</td>\n",
       "    </tr>\n",
       "    <tr>\n",
       "      <th>1</th>\n",
       "      <td>Male</td>\n",
       "      <td>0.74</td>\n",
       "      <td>Не ушёл</td>\n",
       "    </tr>\n",
       "    <tr>\n",
       "      <th>2</th>\n",
       "      <td>Female</td>\n",
       "      <td>0.27</td>\n",
       "      <td>Ушёл</td>\n",
       "    </tr>\n",
       "    <tr>\n",
       "      <th>3</th>\n",
       "      <td>Male</td>\n",
       "      <td>0.26</td>\n",
       "      <td>Ушёл</td>\n",
       "    </tr>\n",
       "  </tbody>\n",
       "</table>\n",
       "</div>"
      ],
      "text/plain": [
       "  Уникальные значения столбца gender  Доля клиентов      Hue\n",
       "0                             Female           0.73  Не ушёл\n",
       "1                               Male           0.74  Не ушёл\n",
       "2                             Female           0.27     Ушёл\n",
       "3                               Male           0.26     Ушёл"
      ]
     },
     "metadata": {},
     "output_type": "display_data"
    },
    {
     "data": {
      "image/png": "[encoded data removed]",
      "text/plain": [
       "<Figure size 432x288 with 1 Axes>"
      ]
     },
     "metadata": {
      "needs_background": "light"
     },
     "output_type": "display_data"
    },
    {
     "name": "stdout",
     "output_type": "stream",
     "text": [
      "\n",
      "Корреляция Phik: 0.0\n",
      "-----------------------------------------------------------------------------------------------\n",
      "\n"
     ]
    }
   ],
   "source": [
    "proba_plot(data, 'gender')"
   ]
  },
  {
   "cell_type": "markdown",
   "id": "d3879c44",
   "metadata": {},
   "source": [
    "Признак пола независим с нашим таргетом."
   ]
  },
  {
   "cell_type": "code",
   "execution_count": 50,
   "id": "5ccafbeb",
   "metadata": {},
   "outputs": [
    {
     "data": {
      "text/html": [
       "<div>\n",
       "<style scoped>\n",
       "    .dataframe tbody tr th:only-of-type {\n",
       "        vertical-align: middle;\n",
       "    }\n",
       "\n",
       "    .dataframe tbody tr th {\n",
       "        vertical-align: top;\n",
       "    }\n",
       "\n",
       "    .dataframe thead th {\n",
       "        text-align: right;\n",
       "    }\n",
       "</style>\n",
       "<table border=\"1\" class=\"dataframe\">\n",
       "  <thead>\n",
       "    <tr style=\"text-align: right;\">\n",
       "      <th></th>\n",
       "      <th>Уникальные значения столбца Type</th>\n",
       "      <th>Доля клиентов</th>\n",
       "      <th>Hue</th>\n",
       "    </tr>\n",
       "  </thead>\n",
       "  <tbody>\n",
       "    <tr>\n",
       "      <th>0</th>\n",
       "      <td>Month-to-month</td>\n",
       "      <td>0.57</td>\n",
       "      <td>Не ушёл</td>\n",
       "    </tr>\n",
       "    <tr>\n",
       "      <th>1</th>\n",
       "      <td>One year</td>\n",
       "      <td>0.89</td>\n",
       "      <td>Не ушёл</td>\n",
       "    </tr>\n",
       "    <tr>\n",
       "      <th>2</th>\n",
       "      <td>Two year</td>\n",
       "      <td>0.97</td>\n",
       "      <td>Не ушёл</td>\n",
       "    </tr>\n",
       "    <tr>\n",
       "      <th>3</th>\n",
       "      <td>Month-to-month</td>\n",
       "      <td>0.43</td>\n",
       "      <td>Ушёл</td>\n",
       "    </tr>\n",
       "    <tr>\n",
       "      <th>4</th>\n",
       "      <td>One year</td>\n",
       "      <td>0.11</td>\n",
       "      <td>Ушёл</td>\n",
       "    </tr>\n",
       "    <tr>\n",
       "      <th>5</th>\n",
       "      <td>Two year</td>\n",
       "      <td>0.03</td>\n",
       "      <td>Ушёл</td>\n",
       "    </tr>\n",
       "  </tbody>\n",
       "</table>\n",
       "</div>"
      ],
      "text/plain": [
       "  Уникальные значения столбца Type  Доля клиентов      Hue\n",
       "0                   Month-to-month           0.57  Не ушёл\n",
       "1                         One year           0.89  Не ушёл\n",
       "2                         Two year           0.97  Не ушёл\n",
       "3                   Month-to-month           0.43     Ушёл\n",
       "4                         One year           0.11     Ушёл\n",
       "5                         Two year           0.03     Ушёл"
      ]
     },
     "metadata": {},
     "output_type": "display_data"
    },
    {
     "data": {
      "image/png": "[encoded data removed]",
      "text/plain": [
       "<Figure size 432x288 with 1 Axes>"
      ]
     },
     "metadata": {
      "needs_background": "light"
     },
     "output_type": "display_data"
    },
    {
     "name": "stdout",
     "output_type": "stream",
     "text": [
      "\n",
      "Корреляция Phik: 0.25\n",
      "-----------------------------------------------------------------------------------------------\n",
      "\n"
     ]
    }
   ],
   "source": [
    "proba_plot(data, 'Type')"
   ]
  },
  {
   "cell_type": "code",
   "execution_count": 51,
   "id": "61bf9879",
   "metadata": {},
   "outputs": [
    {
     "data": {
      "image/png": "[encoded data removed]",
      "text/plain": [
       "<Figure size 432x288 with 1 Axes>"
      ]
     },
     "metadata": {
      "needs_background": "light"
     },
     "output_type": "display_data"
    }
   ],
   "source": [
    "begin_pivot = contract.pivot_table(index='BeginDate', values='customerID', aggfunc='count')\n",
    "\n",
    "begin_pivot['Скользящее среднее'] = begin_pivot['customerID'].rolling(50).mean()\n",
    "begin_pivot['Стандартное отклонение'] = begin_pivot['customerID'].rolling(50).std()\n",
    "begin_pivot.rename(columns={'customerID': 'Количество клиентов'}, inplace=True)\n",
    "begin_pivot.plot()\n",
    "plt.show()"
   ]
  },
  {
   "cell_type": "markdown",
   "id": "fd604c9b",
   "metadata": {},
   "source": [
    "Чаще всего контракт разрывают клиенты, которые платят за тариф раз в месяц. Если человек будет платить раз в год-два, то с большей вероятностью он не будет разрывать контракт, тк уверен в своём выборе. \n",
    "\n",
    "Однако, скорее всего, здесь работает немного другая логика - пользователь чаще всего разрывает контракт на последних месяцах пользования, а в выборке самый \"первый\" клиент имеет временную метку datetime.date(2018, 4, 17), тогда мы не можем утверждать, что данный признак является актуальным для нас, ведь пик подписания контрактов - май 2019 года, а информация о договорах актуальна на 1 февраля 2020. Нам придётся отказаться от данного признака, тк он не объективен для наших данных. При будущих предсказаниях в компании алгоритм может с бОльшей вероятностью выдавать класс 0, если человек платит раз в год-два, хотя это скорее всего не так. "
   ]
  },
  {
   "cell_type": "code",
   "execution_count": 52,
   "id": "356374d0",
   "metadata": {},
   "outputs": [
    {
     "data": {
      "text/html": [
       "<div>\n",
       "<style scoped>\n",
       "    .dataframe tbody tr th:only-of-type {\n",
       "        vertical-align: middle;\n",
       "    }\n",
       "\n",
       "    .dataframe tbody tr th {\n",
       "        vertical-align: top;\n",
       "    }\n",
       "\n",
       "    .dataframe thead th {\n",
       "        text-align: right;\n",
       "    }\n",
       "</style>\n",
       "<table border=\"1\" class=\"dataframe\">\n",
       "  <thead>\n",
       "    <tr style=\"text-align: right;\">\n",
       "      <th></th>\n",
       "      <th>Уникальные значения столбца SeniorCitizen</th>\n",
       "      <th>Доля клиентов</th>\n",
       "      <th>Hue</th>\n",
       "    </tr>\n",
       "  </thead>\n",
       "  <tbody>\n",
       "    <tr>\n",
       "      <th>0</th>\n",
       "      <td>No</td>\n",
       "      <td>0.76</td>\n",
       "      <td>Не ушёл</td>\n",
       "    </tr>\n",
       "    <tr>\n",
       "      <th>1</th>\n",
       "      <td>Yes</td>\n",
       "      <td>0.58</td>\n",
       "      <td>Не ушёл</td>\n",
       "    </tr>\n",
       "    <tr>\n",
       "      <th>2</th>\n",
       "      <td>No</td>\n",
       "      <td>0.24</td>\n",
       "      <td>Ушёл</td>\n",
       "    </tr>\n",
       "    <tr>\n",
       "      <th>3</th>\n",
       "      <td>Yes</td>\n",
       "      <td>0.42</td>\n",
       "      <td>Ушёл</td>\n",
       "    </tr>\n",
       "  </tbody>\n",
       "</table>\n",
       "</div>"
      ],
      "text/plain": [
       "  Уникальные значения столбца SeniorCitizen  Доля клиентов      Hue\n",
       "0                                        No           0.76  Не ушёл\n",
       "1                                       Yes           0.58  Не ушёл\n",
       "2                                        No           0.24     Ушёл\n",
       "3                                       Yes           0.42     Ушёл"
      ]
     },
     "metadata": {},
     "output_type": "display_data"
    },
    {
     "data": {
      "image/png": "[encoded data removed]",
      "text/plain": [
       "<Figure size 432x288 with 1 Axes>"
      ]
     },
     "metadata": {
      "needs_background": "light"
     },
     "output_type": "display_data"
    },
    {
     "name": "stdout",
     "output_type": "stream",
     "text": [
      "\n",
      "Корреляция Phik: 0.23\n",
      "-----------------------------------------------------------------------------------------------\n",
      "\n"
     ]
    }
   ],
   "source": [
    "proba_plot(data, 'SeniorCitizen')"
   ]
  },
  {
   "cell_type": "markdown",
   "id": "849ba016",
   "metadata": {},
   "source": [
    "Пенсионеры чаще разрывают договоры, нежели остальные. Данный столбец имеет 23% слабую зависимость."
   ]
  },
  {
   "cell_type": "code",
   "execution_count": 53,
   "id": "6e325412",
   "metadata": {},
   "outputs": [
    {
     "data": {
      "text/html": [
       "<div>\n",
       "<style scoped>\n",
       "    .dataframe tbody tr th:only-of-type {\n",
       "        vertical-align: middle;\n",
       "    }\n",
       "\n",
       "    .dataframe tbody tr th {\n",
       "        vertical-align: top;\n",
       "    }\n",
       "\n",
       "    .dataframe thead th {\n",
       "        text-align: right;\n",
       "    }\n",
       "</style>\n",
       "<table border=\"1\" class=\"dataframe\">\n",
       "  <thead>\n",
       "    <tr style=\"text-align: right;\">\n",
       "      <th></th>\n",
       "      <th>Уникальные значения столбца Partner</th>\n",
       "      <th>Доля клиентов</th>\n",
       "      <th>Hue</th>\n",
       "    </tr>\n",
       "  </thead>\n",
       "  <tbody>\n",
       "    <tr>\n",
       "      <th>0</th>\n",
       "      <td>Yes</td>\n",
       "      <td>0.80</td>\n",
       "      <td>Не ушёл</td>\n",
       "    </tr>\n",
       "    <tr>\n",
       "      <th>1</th>\n",
       "      <td>No</td>\n",
       "      <td>0.67</td>\n",
       "      <td>Не ушёл</td>\n",
       "    </tr>\n",
       "    <tr>\n",
       "      <th>2</th>\n",
       "      <td>Yes</td>\n",
       "      <td>0.20</td>\n",
       "      <td>Ушёл</td>\n",
       "    </tr>\n",
       "    <tr>\n",
       "      <th>3</th>\n",
       "      <td>No</td>\n",
       "      <td>0.33</td>\n",
       "      <td>Ушёл</td>\n",
       "    </tr>\n",
       "  </tbody>\n",
       "</table>\n",
       "</div>"
      ],
      "text/plain": [
       "  Уникальные значения столбца Partner  Доля клиентов      Hue\n",
       "0                                 Yes           0.80  Не ушёл\n",
       "1                                  No           0.67  Не ушёл\n",
       "2                                 Yes           0.20     Ушёл\n",
       "3                                  No           0.33     Ушёл"
      ]
     },
     "metadata": {},
     "output_type": "display_data"
    },
    {
     "data": {
      "image/png": "[encoded data removed]",
      "text/plain": [
       "<Figure size 432x288 with 1 Axes>"
      ]
     },
     "metadata": {
      "needs_background": "light"
     },
     "output_type": "display_data"
    },
    {
     "name": "stdout",
     "output_type": "stream",
     "text": [
      "\n",
      "Корреляция Phik: 0.23\n",
      "-----------------------------------------------------------------------------------------------\n",
      "\n"
     ]
    }
   ],
   "source": [
    "proba_plot(data, 'Partner')"
   ]
  },
  {
   "cell_type": "markdown",
   "id": "51256543",
   "metadata": {},
   "source": [
    "Неженатые люди чаще всего уходят от компании, тем не менее мы имеет слабую зависимость равную 23%."
   ]
  },
  {
   "cell_type": "code",
   "execution_count": 54,
   "id": "caa26387",
   "metadata": {},
   "outputs": [
    {
     "data": {
      "text/html": [
       "<div>\n",
       "<style scoped>\n",
       "    .dataframe tbody tr th:only-of-type {\n",
       "        vertical-align: middle;\n",
       "    }\n",
       "\n",
       "    .dataframe tbody tr th {\n",
       "        vertical-align: top;\n",
       "    }\n",
       "\n",
       "    .dataframe thead th {\n",
       "        text-align: right;\n",
       "    }\n",
       "</style>\n",
       "<table border=\"1\" class=\"dataframe\">\n",
       "  <thead>\n",
       "    <tr style=\"text-align: right;\">\n",
       "      <th></th>\n",
       "      <th>Уникальные значения столбца Dependents</th>\n",
       "      <th>Доля клиентов</th>\n",
       "      <th>Hue</th>\n",
       "    </tr>\n",
       "  </thead>\n",
       "  <tbody>\n",
       "    <tr>\n",
       "      <th>0</th>\n",
       "      <td>No</td>\n",
       "      <td>0.69</td>\n",
       "      <td>Не ушёл</td>\n",
       "    </tr>\n",
       "    <tr>\n",
       "      <th>1</th>\n",
       "      <td>Yes</td>\n",
       "      <td>0.84</td>\n",
       "      <td>Не ушёл</td>\n",
       "    </tr>\n",
       "    <tr>\n",
       "      <th>2</th>\n",
       "      <td>No</td>\n",
       "      <td>0.31</td>\n",
       "      <td>Ушёл</td>\n",
       "    </tr>\n",
       "    <tr>\n",
       "      <th>3</th>\n",
       "      <td>Yes</td>\n",
       "      <td>0.16</td>\n",
       "      <td>Ушёл</td>\n",
       "    </tr>\n",
       "  </tbody>\n",
       "</table>\n",
       "</div>"
      ],
      "text/plain": [
       "  Уникальные значения столбца Dependents  Доля клиентов      Hue\n",
       "0                                     No           0.69  Не ушёл\n",
       "1                                    Yes           0.84  Не ушёл\n",
       "2                                     No           0.31     Ушёл\n",
       "3                                    Yes           0.16     Ушёл"
      ]
     },
     "metadata": {},
     "output_type": "display_data"
    },
    {
     "data": {
      "image/png": "[encoded data removed]",
      "text/plain": [
       "<Figure size 432x288 with 1 Axes>"
      ]
     },
     "metadata": {
      "needs_background": "light"
     },
     "output_type": "display_data"
    },
    {
     "name": "stdout",
     "output_type": "stream",
     "text": [
      "\n",
      "Корреляция Phik: 0.25\n",
      "-----------------------------------------------------------------------------------------------\n",
      "\n"
     ]
    }
   ],
   "source": [
    "proba_plot(data, 'Dependents')"
   ]
  },
  {
   "cell_type": "markdown",
   "id": "4cb918d4",
   "metadata": {},
   "source": [
    "Чаще всего люди с детьми разрывают договор с компанией. Мы имеем слабую зависимость в 25%"
   ]
  },
  {
   "cell_type": "code",
   "execution_count": 55,
   "id": "034c3cfc",
   "metadata": {},
   "outputs": [
    {
     "data": {
      "text/html": [
       "<div>\n",
       "<style scoped>\n",
       "    .dataframe tbody tr th:only-of-type {\n",
       "        vertical-align: middle;\n",
       "    }\n",
       "\n",
       "    .dataframe tbody tr th {\n",
       "        vertical-align: top;\n",
       "    }\n",
       "\n",
       "    .dataframe thead th {\n",
       "        text-align: right;\n",
       "    }\n",
       "</style>\n",
       "<table border=\"1\" class=\"dataframe\">\n",
       "  <thead>\n",
       "    <tr style=\"text-align: right;\">\n",
       "      <th></th>\n",
       "      <th>Уникальные значения столбца PaperlessBilling</th>\n",
       "      <th>Доля клиентов</th>\n",
       "      <th>Hue</th>\n",
       "    </tr>\n",
       "  </thead>\n",
       "  <tbody>\n",
       "    <tr>\n",
       "      <th>0</th>\n",
       "      <td>Yes</td>\n",
       "      <td>0.66</td>\n",
       "      <td>Не ушёл</td>\n",
       "    </tr>\n",
       "    <tr>\n",
       "      <th>1</th>\n",
       "      <td>No</td>\n",
       "      <td>0.84</td>\n",
       "      <td>Не ушёл</td>\n",
       "    </tr>\n",
       "    <tr>\n",
       "      <th>2</th>\n",
       "      <td>Yes</td>\n",
       "      <td>0.34</td>\n",
       "      <td>Ушёл</td>\n",
       "    </tr>\n",
       "    <tr>\n",
       "      <th>3</th>\n",
       "      <td>No</td>\n",
       "      <td>0.16</td>\n",
       "      <td>Ушёл</td>\n",
       "    </tr>\n",
       "  </tbody>\n",
       "</table>\n",
       "</div>"
      ],
      "text/plain": [
       "  Уникальные значения столбца PaperlessBilling  Доля клиентов      Hue\n",
       "0                                          Yes           0.66  Не ушёл\n",
       "1                                           No           0.84  Не ушёл\n",
       "2                                          Yes           0.34     Ушёл\n",
       "3                                           No           0.16     Ушёл"
      ]
     },
     "metadata": {},
     "output_type": "display_data"
    },
    {
     "data": {
      "image/png": "[encoded data removed]",
      "text/plain": [
       "<Figure size 432x288 with 1 Axes>"
      ]
     },
     "metadata": {
      "needs_background": "light"
     },
     "output_type": "display_data"
    },
    {
     "name": "stdout",
     "output_type": "stream",
     "text": [
      "\n",
      "Корреляция Phik: 0.3\n",
      "-----------------------------------------------------------------------------------------------\n",
      "\n"
     ]
    }
   ],
   "source": [
    "proba_plot(data, 'PaperlessBilling')"
   ]
  },
  {
   "cell_type": "code",
   "execution_count": 56,
   "id": "ac9e146c",
   "metadata": {},
   "outputs": [
    {
     "data": {
      "text/html": [
       "<div>\n",
       "<style scoped>\n",
       "    .dataframe tbody tr th:only-of-type {\n",
       "        vertical-align: middle;\n",
       "    }\n",
       "\n",
       "    .dataframe tbody tr th {\n",
       "        vertical-align: top;\n",
       "    }\n",
       "\n",
       "    .dataframe thead th {\n",
       "        text-align: right;\n",
       "    }\n",
       "</style>\n",
       "<table border=\"1\" class=\"dataframe\">\n",
       "  <thead>\n",
       "    <tr style=\"text-align: right;\">\n",
       "      <th></th>\n",
       "      <th>Уникальные значения столбца PaymentMethod</th>\n",
       "      <th>Доля клиентов</th>\n",
       "      <th>Hue</th>\n",
       "    </tr>\n",
       "  </thead>\n",
       "  <tbody>\n",
       "    <tr>\n",
       "      <th>0</th>\n",
       "      <td>Electronic check</td>\n",
       "      <td>0.55</td>\n",
       "      <td>Не ушёл</td>\n",
       "    </tr>\n",
       "    <tr>\n",
       "      <th>1</th>\n",
       "      <td>Mailed check</td>\n",
       "      <td>0.81</td>\n",
       "      <td>Не ушёл</td>\n",
       "    </tr>\n",
       "    <tr>\n",
       "      <th>2</th>\n",
       "      <td>Bank transfer (automatic)</td>\n",
       "      <td>0.83</td>\n",
       "      <td>Не ушёл</td>\n",
       "    </tr>\n",
       "    <tr>\n",
       "      <th>3</th>\n",
       "      <td>Credit card (automatic)</td>\n",
       "      <td>0.85</td>\n",
       "      <td>Не ушёл</td>\n",
       "    </tr>\n",
       "    <tr>\n",
       "      <th>4</th>\n",
       "      <td>Electronic check</td>\n",
       "      <td>0.45</td>\n",
       "      <td>Ушёл</td>\n",
       "    </tr>\n",
       "    <tr>\n",
       "      <th>5</th>\n",
       "      <td>Mailed check</td>\n",
       "      <td>0.19</td>\n",
       "      <td>Ушёл</td>\n",
       "    </tr>\n",
       "    <tr>\n",
       "      <th>6</th>\n",
       "      <td>Bank transfer (automatic)</td>\n",
       "      <td>0.17</td>\n",
       "      <td>Ушёл</td>\n",
       "    </tr>\n",
       "    <tr>\n",
       "      <th>7</th>\n",
       "      <td>Credit card (automatic)</td>\n",
       "      <td>0.15</td>\n",
       "      <td>Ушёл</td>\n",
       "    </tr>\n",
       "  </tbody>\n",
       "</table>\n",
       "</div>"
      ],
      "text/plain": [
       "  Уникальные значения столбца PaymentMethod  Доля клиентов      Hue\n",
       "0                          Electronic check           0.55  Не ушёл\n",
       "1                              Mailed check           0.81  Не ушёл\n",
       "2                 Bank transfer (automatic)           0.83  Не ушёл\n",
       "3                   Credit card (automatic)           0.85  Не ушёл\n",
       "4                          Electronic check           0.45     Ушёл\n",
       "5                              Mailed check           0.19     Ушёл\n",
       "6                 Bank transfer (automatic)           0.17     Ушёл\n",
       "7                   Credit card (automatic)           0.15     Ушёл"
      ]
     },
     "metadata": {},
     "output_type": "display_data"
    },
    {
     "data": {
      "image/png": "[encoded data removed]",
      "text/plain": [
       "<Figure size 432x288 with 1 Axes>"
      ]
     },
     "metadata": {
      "needs_background": "light"
     },
     "output_type": "display_data"
    },
    {
     "name": "stdout",
     "output_type": "stream",
     "text": [
      "\n",
      "Корреляция Phik: 0.45\n",
      "-----------------------------------------------------------------------------------------------\n",
      "\n"
     ]
    }
   ],
   "source": [
    "proba_plot(data, 'PaymentMethod')"
   ]
  },
  {
   "cell_type": "markdown",
   "id": "c39fe9be",
   "metadata": {},
   "source": [
    "Клиенты, которые пользуются любым видом автоплатежа из представленных с меньшей вероятностью разорвут договор с компанией, в отличии от тех, кто пользуется электронным чеком. "
   ]
  },
  {
   "cell_type": "code",
   "execution_count": 57,
   "id": "f431ae81",
   "metadata": {},
   "outputs": [
    {
     "data": {
      "text/html": [
       "<div>\n",
       "<style scoped>\n",
       "    .dataframe tbody tr th:only-of-type {\n",
       "        vertical-align: middle;\n",
       "    }\n",
       "\n",
       "    .dataframe tbody tr th {\n",
       "        vertical-align: top;\n",
       "    }\n",
       "\n",
       "    .dataframe thead th {\n",
       "        text-align: right;\n",
       "    }\n",
       "</style>\n",
       "<table border=\"1\" class=\"dataframe\">\n",
       "  <thead>\n",
       "    <tr style=\"text-align: right;\">\n",
       "      <th></th>\n",
       "      <th>Уникальные значения столбца InternetService</th>\n",
       "      <th>Доля клиентов</th>\n",
       "      <th>Hue</th>\n",
       "    </tr>\n",
       "  </thead>\n",
       "  <tbody>\n",
       "    <tr>\n",
       "      <th>0</th>\n",
       "      <td>DSL</td>\n",
       "      <td>0.81</td>\n",
       "      <td>Не ушёл</td>\n",
       "    </tr>\n",
       "    <tr>\n",
       "      <th>1</th>\n",
       "      <td>Fiber optic</td>\n",
       "      <td>0.58</td>\n",
       "      <td>Не ушёл</td>\n",
       "    </tr>\n",
       "    <tr>\n",
       "      <th>2</th>\n",
       "      <td>WOT</td>\n",
       "      <td>0.93</td>\n",
       "      <td>Не ушёл</td>\n",
       "    </tr>\n",
       "    <tr>\n",
       "      <th>3</th>\n",
       "      <td>DSL</td>\n",
       "      <td>0.19</td>\n",
       "      <td>Ушёл</td>\n",
       "    </tr>\n",
       "    <tr>\n",
       "      <th>4</th>\n",
       "      <td>Fiber optic</td>\n",
       "      <td>0.42</td>\n",
       "      <td>Ушёл</td>\n",
       "    </tr>\n",
       "    <tr>\n",
       "      <th>5</th>\n",
       "      <td>WOT</td>\n",
       "      <td>0.07</td>\n",
       "      <td>Ушёл</td>\n",
       "    </tr>\n",
       "  </tbody>\n",
       "</table>\n",
       "</div>"
      ],
      "text/plain": [
       "  Уникальные значения столбца InternetService  Доля клиентов      Hue\n",
       "0                                         DSL           0.81  Не ушёл\n",
       "1                                 Fiber optic           0.58  Не ушёл\n",
       "2                                         WOT           0.93  Не ушёл\n",
       "3                                         DSL           0.19     Ушёл\n",
       "4                                 Fiber optic           0.42     Ушёл\n",
       "5                                         WOT           0.07     Ушёл"
      ]
     },
     "metadata": {},
     "output_type": "display_data"
    },
    {
     "data": {
      "image/png": "[encoded data removed]",
      "text/plain": [
       "<Figure size 432x288 with 1 Axes>"
      ]
     },
     "metadata": {
      "needs_background": "light"
     },
     "output_type": "display_data"
    },
    {
     "name": "stdout",
     "output_type": "stream",
     "text": [
      "\n",
      "Корреляция Phik: 0.2\n",
      "-----------------------------------------------------------------------------------------------\n",
      "\n"
     ]
    }
   ],
   "source": [
    "proba_plot(data, 'InternetService')"
   ]
  },
  {
   "cell_type": "markdown",
   "id": "08dcd9b8",
   "metadata": {},
   "source": [
    "Мы можем наблюдать слабую корреляцию между признаком InternetService и нашей целевой переменой, однако люди, которые выбирают оптоволокно чаще всего отказываются от услуг компании. "
   ]
  },
  {
   "cell_type": "code",
   "execution_count": 58,
   "id": "d904bcbc",
   "metadata": {},
   "outputs": [
    {
     "data": {
      "text/html": [
       "<div>\n",
       "<style scoped>\n",
       "    .dataframe tbody tr th:only-of-type {\n",
       "        vertical-align: middle;\n",
       "    }\n",
       "\n",
       "    .dataframe tbody tr th {\n",
       "        vertical-align: top;\n",
       "    }\n",
       "\n",
       "    .dataframe thead th {\n",
       "        text-align: right;\n",
       "    }\n",
       "</style>\n",
       "<table border=\"1\" class=\"dataframe\">\n",
       "  <thead>\n",
       "    <tr style=\"text-align: right;\">\n",
       "      <th></th>\n",
       "      <th>Уникальные значения столбца OnlineSecurity</th>\n",
       "      <th>Доля клиентов</th>\n",
       "      <th>Hue</th>\n",
       "    </tr>\n",
       "  </thead>\n",
       "  <tbody>\n",
       "    <tr>\n",
       "      <th>0</th>\n",
       "      <td>No</td>\n",
       "      <td>0.58</td>\n",
       "      <td>Не ушёл</td>\n",
       "    </tr>\n",
       "    <tr>\n",
       "      <th>1</th>\n",
       "      <td>Yes</td>\n",
       "      <td>0.85</td>\n",
       "      <td>Не ушёл</td>\n",
       "    </tr>\n",
       "    <tr>\n",
       "      <th>2</th>\n",
       "      <td>WOT</td>\n",
       "      <td>0.93</td>\n",
       "      <td>Не ушёл</td>\n",
       "    </tr>\n",
       "    <tr>\n",
       "      <th>3</th>\n",
       "      <td>No</td>\n",
       "      <td>0.42</td>\n",
       "      <td>Ушёл</td>\n",
       "    </tr>\n",
       "    <tr>\n",
       "      <th>4</th>\n",
       "      <td>Yes</td>\n",
       "      <td>0.15</td>\n",
       "      <td>Ушёл</td>\n",
       "    </tr>\n",
       "    <tr>\n",
       "      <th>5</th>\n",
       "      <td>WOT</td>\n",
       "      <td>0.07</td>\n",
       "      <td>Ушёл</td>\n",
       "    </tr>\n",
       "  </tbody>\n",
       "</table>\n",
       "</div>"
      ],
      "text/plain": [
       "  Уникальные значения столбца OnlineSecurity  Доля клиентов      Hue\n",
       "0                                         No           0.58  Не ушёл\n",
       "1                                        Yes           0.85  Не ушёл\n",
       "2                                        WOT           0.93  Не ушёл\n",
       "3                                         No           0.42     Ушёл\n",
       "4                                        Yes           0.15     Ушёл\n",
       "5                                        WOT           0.07     Ушёл"
      ]
     },
     "metadata": {},
     "output_type": "display_data"
    },
    {
     "data": {
      "image/png": "[encoded data removed]",
      "text/plain": [
       "<Figure size 432x288 with 1 Axes>"
      ]
     },
     "metadata": {
      "needs_background": "light"
     },
     "output_type": "display_data"
    },
    {
     "name": "stdout",
     "output_type": "stream",
     "text": [
      "\n",
      "Корреляция Phik: 0.21\n",
      "-----------------------------------------------------------------------------------------------\n",
      "\n"
     ]
    }
   ],
   "source": [
    "proba_plot(data, 'OnlineSecurity')"
   ]
  },
  {
   "cell_type": "markdown",
   "id": "968f072a",
   "metadata": {},
   "source": [
    "Доля клиентов без блокировки опасных сайтов, которые отказались от услуг провайдера превышет обратную. Зависимость равна 21 %"
   ]
  },
  {
   "cell_type": "code",
   "execution_count": 59,
   "id": "1ae0dd14",
   "metadata": {},
   "outputs": [
    {
     "data": {
      "text/html": [
       "<div>\n",
       "<style scoped>\n",
       "    .dataframe tbody tr th:only-of-type {\n",
       "        vertical-align: middle;\n",
       "    }\n",
       "\n",
       "    .dataframe tbody tr th {\n",
       "        vertical-align: top;\n",
       "    }\n",
       "\n",
       "    .dataframe thead th {\n",
       "        text-align: right;\n",
       "    }\n",
       "</style>\n",
       "<table border=\"1\" class=\"dataframe\">\n",
       "  <thead>\n",
       "    <tr style=\"text-align: right;\">\n",
       "      <th></th>\n",
       "      <th>Уникальные значения столбца OnlineBackup</th>\n",
       "      <th>Доля клиентов</th>\n",
       "      <th>Hue</th>\n",
       "    </tr>\n",
       "  </thead>\n",
       "  <tbody>\n",
       "    <tr>\n",
       "      <th>0</th>\n",
       "      <td>Yes</td>\n",
       "      <td>0.78</td>\n",
       "      <td>Не ушёл</td>\n",
       "    </tr>\n",
       "    <tr>\n",
       "      <th>1</th>\n",
       "      <td>No</td>\n",
       "      <td>0.60</td>\n",
       "      <td>Не ушёл</td>\n",
       "    </tr>\n",
       "    <tr>\n",
       "      <th>2</th>\n",
       "      <td>WOT</td>\n",
       "      <td>0.93</td>\n",
       "      <td>Не ушёл</td>\n",
       "    </tr>\n",
       "    <tr>\n",
       "      <th>3</th>\n",
       "      <td>Yes</td>\n",
       "      <td>0.22</td>\n",
       "      <td>Ушёл</td>\n",
       "    </tr>\n",
       "    <tr>\n",
       "      <th>4</th>\n",
       "      <td>No</td>\n",
       "      <td>0.40</td>\n",
       "      <td>Ушёл</td>\n",
       "    </tr>\n",
       "    <tr>\n",
       "      <th>5</th>\n",
       "      <td>WOT</td>\n",
       "      <td>0.07</td>\n",
       "      <td>Ушёл</td>\n",
       "    </tr>\n",
       "  </tbody>\n",
       "</table>\n",
       "</div>"
      ],
      "text/plain": [
       "  Уникальные значения столбца OnlineBackup  Доля клиентов      Hue\n",
       "0                                      Yes           0.78  Не ушёл\n",
       "1                                       No           0.60  Не ушёл\n",
       "2                                      WOT           0.93  Не ушёл\n",
       "3                                      Yes           0.22     Ушёл\n",
       "4                                       No           0.40     Ушёл\n",
       "5                                      WOT           0.07     Ушёл"
      ]
     },
     "metadata": {},
     "output_type": "display_data"
    },
    {
     "data": {
      "image/png": "[encoded data removed]",
      "text/plain": [
       "<Figure size 432x288 with 1 Axes>"
      ]
     },
     "metadata": {
      "needs_background": "light"
     },
     "output_type": "display_data"
    },
    {
     "name": "stdout",
     "output_type": "stream",
     "text": [
      "\n",
      "Корреляция Phik: 0.18\n",
      "-----------------------------------------------------------------------------------------------\n",
      "\n"
     ]
    }
   ],
   "source": [
    "proba_plot(data, 'OnlineBackup')"
   ]
  },
  {
   "cell_type": "markdown",
   "id": "ac9b6dac",
   "metadata": {},
   "source": [
    "Клиенты, которые пользуются облачными хранилищами файлов для резервного копирования данных реже разрывают контракт, нежели те, кто не пользуются. Наблюдается слабая зависимость равная 18%."
   ]
  },
  {
   "cell_type": "code",
   "execution_count": 60,
   "id": "470a9a72",
   "metadata": {},
   "outputs": [
    {
     "data": {
      "text/html": [
       "<div>\n",
       "<style scoped>\n",
       "    .dataframe tbody tr th:only-of-type {\n",
       "        vertical-align: middle;\n",
       "    }\n",
       "\n",
       "    .dataframe tbody tr th {\n",
       "        vertical-align: top;\n",
       "    }\n",
       "\n",
       "    .dataframe thead th {\n",
       "        text-align: right;\n",
       "    }\n",
       "</style>\n",
       "<table border=\"1\" class=\"dataframe\">\n",
       "  <thead>\n",
       "    <tr style=\"text-align: right;\">\n",
       "      <th></th>\n",
       "      <th>Уникальные значения столбца DeviceProtection</th>\n",
       "      <th>Доля клиентов</th>\n",
       "      <th>Hue</th>\n",
       "    </tr>\n",
       "  </thead>\n",
       "  <tbody>\n",
       "    <tr>\n",
       "      <th>0</th>\n",
       "      <td>No</td>\n",
       "      <td>0.61</td>\n",
       "      <td>Не ушёл</td>\n",
       "    </tr>\n",
       "    <tr>\n",
       "      <th>1</th>\n",
       "      <td>Yes</td>\n",
       "      <td>0.77</td>\n",
       "      <td>Не ушёл</td>\n",
       "    </tr>\n",
       "    <tr>\n",
       "      <th>2</th>\n",
       "      <td>WOT</td>\n",
       "      <td>0.93</td>\n",
       "      <td>Не ушёл</td>\n",
       "    </tr>\n",
       "    <tr>\n",
       "      <th>3</th>\n",
       "      <td>No</td>\n",
       "      <td>0.39</td>\n",
       "      <td>Ушёл</td>\n",
       "    </tr>\n",
       "    <tr>\n",
       "      <th>4</th>\n",
       "      <td>Yes</td>\n",
       "      <td>0.23</td>\n",
       "      <td>Ушёл</td>\n",
       "    </tr>\n",
       "    <tr>\n",
       "      <th>5</th>\n",
       "      <td>WOT</td>\n",
       "      <td>0.07</td>\n",
       "      <td>Ушёл</td>\n",
       "    </tr>\n",
       "  </tbody>\n",
       "</table>\n",
       "</div>"
      ],
      "text/plain": [
       "  Уникальные значения столбца DeviceProtection  Доля клиентов      Hue\n",
       "0                                           No           0.61  Не ушёл\n",
       "1                                          Yes           0.77  Не ушёл\n",
       "2                                          WOT           0.93  Не ушёл\n",
       "3                                           No           0.39     Ушёл\n",
       "4                                          Yes           0.23     Ушёл\n",
       "5                                          WOT           0.07     Ушёл"
      ]
     },
     "metadata": {},
     "output_type": "display_data"
    },
    {
     "data": {
      "image/png": "[encoded data removed]",
      "text/plain": [
       "<Figure size 432x288 with 1 Axes>"
      ]
     },
     "metadata": {
      "needs_background": "light"
     },
     "output_type": "display_data"
    },
    {
     "name": "stdout",
     "output_type": "stream",
     "text": [
      "\n",
      "Корреляция Phik: 0.17\n",
      "-----------------------------------------------------------------------------------------------\n",
      "\n"
     ]
    }
   ],
   "source": [
    "proba_plot(data, 'DeviceProtection')"
   ]
  },
  {
   "cell_type": "markdown",
   "id": "dc2fabca",
   "metadata": {},
   "source": [
    "Схожая картина с признаком Online Security наблюдается на Device Protection. Слабая зависимость в 17%."
   ]
  },
  {
   "cell_type": "code",
   "execution_count": 61,
   "id": "4a709b6e",
   "metadata": {},
   "outputs": [
    {
     "data": {
      "text/html": [
       "<div>\n",
       "<style scoped>\n",
       "    .dataframe tbody tr th:only-of-type {\n",
       "        vertical-align: middle;\n",
       "    }\n",
       "\n",
       "    .dataframe tbody tr th {\n",
       "        vertical-align: top;\n",
       "    }\n",
       "\n",
       "    .dataframe thead th {\n",
       "        text-align: right;\n",
       "    }\n",
       "</style>\n",
       "<table border=\"1\" class=\"dataframe\">\n",
       "  <thead>\n",
       "    <tr style=\"text-align: right;\">\n",
       "      <th></th>\n",
       "      <th>Уникальные значения столбца TechSupport</th>\n",
       "      <th>Доля клиентов</th>\n",
       "      <th>Hue</th>\n",
       "    </tr>\n",
       "  </thead>\n",
       "  <tbody>\n",
       "    <tr>\n",
       "      <th>0</th>\n",
       "      <td>No</td>\n",
       "      <td>0.58</td>\n",
       "      <td>Не ушёл</td>\n",
       "    </tr>\n",
       "    <tr>\n",
       "      <th>1</th>\n",
       "      <td>Yes</td>\n",
       "      <td>0.85</td>\n",
       "      <td>Не ушёл</td>\n",
       "    </tr>\n",
       "    <tr>\n",
       "      <th>2</th>\n",
       "      <td>WOT</td>\n",
       "      <td>0.93</td>\n",
       "      <td>Не ушёл</td>\n",
       "    </tr>\n",
       "    <tr>\n",
       "      <th>3</th>\n",
       "      <td>No</td>\n",
       "      <td>0.42</td>\n",
       "      <td>Ушёл</td>\n",
       "    </tr>\n",
       "    <tr>\n",
       "      <th>4</th>\n",
       "      <td>Yes</td>\n",
       "      <td>0.15</td>\n",
       "      <td>Ушёл</td>\n",
       "    </tr>\n",
       "    <tr>\n",
       "      <th>5</th>\n",
       "      <td>WOT</td>\n",
       "      <td>0.07</td>\n",
       "      <td>Ушёл</td>\n",
       "    </tr>\n",
       "  </tbody>\n",
       "</table>\n",
       "</div>"
      ],
      "text/plain": [
       "  Уникальные значения столбца TechSupport  Доля клиентов      Hue\n",
       "0                                      No           0.58  Не ушёл\n",
       "1                                     Yes           0.85  Не ушёл\n",
       "2                                     WOT           0.93  Не ушёл\n",
       "3                                      No           0.42     Ушёл\n",
       "4                                     Yes           0.15     Ушёл\n",
       "5                                     WOT           0.07     Ушёл"
      ]
     },
     "metadata": {},
     "output_type": "display_data"
    },
    {
     "data": {
      "image/png": "[encoded data removed]",
      "text/plain": [
       "<Figure size 432x288 with 1 Axes>"
      ]
     },
     "metadata": {
      "needs_background": "light"
     },
     "output_type": "display_data"
    },
    {
     "name": "stdout",
     "output_type": "stream",
     "text": [
      "\n",
      "Корреляция Phik: 0.21\n",
      "-----------------------------------------------------------------------------------------------\n",
      "\n"
     ]
    }
   ],
   "source": [
    "proba_plot(data, 'TechSupport')"
   ]
  },
  {
   "cell_type": "markdown",
   "id": "1a57dd75",
   "metadata": {},
   "source": [
    "Люди без выделенной линии технической поддержки чаще всего уходят из компании. Наблюдается слабая зависимость равная 21%"
   ]
  },
  {
   "cell_type": "code",
   "execution_count": 62,
   "id": "ac2a712c",
   "metadata": {},
   "outputs": [
    {
     "data": {
      "text/html": [
       "<div>\n",
       "<style scoped>\n",
       "    .dataframe tbody tr th:only-of-type {\n",
       "        vertical-align: middle;\n",
       "    }\n",
       "\n",
       "    .dataframe tbody tr th {\n",
       "        vertical-align: top;\n",
       "    }\n",
       "\n",
       "    .dataframe thead th {\n",
       "        text-align: right;\n",
       "    }\n",
       "</style>\n",
       "<table border=\"1\" class=\"dataframe\">\n",
       "  <thead>\n",
       "    <tr style=\"text-align: right;\">\n",
       "      <th></th>\n",
       "      <th>Уникальные значения столбца StreamingTV</th>\n",
       "      <th>Доля клиентов</th>\n",
       "      <th>Hue</th>\n",
       "    </tr>\n",
       "  </thead>\n",
       "  <tbody>\n",
       "    <tr>\n",
       "      <th>0</th>\n",
       "      <td>No</td>\n",
       "      <td>0.66</td>\n",
       "      <td>Не ушёл</td>\n",
       "    </tr>\n",
       "    <tr>\n",
       "      <th>1</th>\n",
       "      <td>Yes</td>\n",
       "      <td>0.70</td>\n",
       "      <td>Не ушёл</td>\n",
       "    </tr>\n",
       "    <tr>\n",
       "      <th>2</th>\n",
       "      <td>WOT</td>\n",
       "      <td>0.93</td>\n",
       "      <td>Не ушёл</td>\n",
       "    </tr>\n",
       "    <tr>\n",
       "      <th>3</th>\n",
       "      <td>No</td>\n",
       "      <td>0.34</td>\n",
       "      <td>Ушёл</td>\n",
       "    </tr>\n",
       "    <tr>\n",
       "      <th>4</th>\n",
       "      <td>Yes</td>\n",
       "      <td>0.30</td>\n",
       "      <td>Ушёл</td>\n",
       "    </tr>\n",
       "    <tr>\n",
       "      <th>5</th>\n",
       "      <td>WOT</td>\n",
       "      <td>0.07</td>\n",
       "      <td>Ушёл</td>\n",
       "    </tr>\n",
       "  </tbody>\n",
       "</table>\n",
       "</div>"
      ],
      "text/plain": [
       "  Уникальные значения столбца StreamingTV  Доля клиентов      Hue\n",
       "0                                      No           0.66  Не ушёл\n",
       "1                                     Yes           0.70  Не ушёл\n",
       "2                                     WOT           0.93  Не ушёл\n",
       "3                                      No           0.34     Ушёл\n",
       "4                                     Yes           0.30     Ушёл\n",
       "5                                     WOT           0.07     Ушёл"
      ]
     },
     "metadata": {},
     "output_type": "display_data"
    },
    {
     "data": {
      "image/png": "[encoded data removed]",
      "text/plain": [
       "<Figure size 432x288 with 1 Axes>"
      ]
     },
     "metadata": {
      "needs_background": "light"
     },
     "output_type": "display_data"
    },
    {
     "name": "stdout",
     "output_type": "stream",
     "text": [
      "\n",
      "Корреляция Phik: 0.14\n",
      "-----------------------------------------------------------------------------------------------\n",
      "\n"
     ]
    }
   ],
   "source": [
    "proba_plot(data, 'StreamingTV')"
   ]
  },
  {
   "cell_type": "code",
   "execution_count": 63,
   "id": "8c34e13b",
   "metadata": {},
   "outputs": [
    {
     "data": {
      "text/html": [
       "<div>\n",
       "<style scoped>\n",
       "    .dataframe tbody tr th:only-of-type {\n",
       "        vertical-align: middle;\n",
       "    }\n",
       "\n",
       "    .dataframe tbody tr th {\n",
       "        vertical-align: top;\n",
       "    }\n",
       "\n",
       "    .dataframe thead th {\n",
       "        text-align: right;\n",
       "    }\n",
       "</style>\n",
       "<table border=\"1\" class=\"dataframe\">\n",
       "  <thead>\n",
       "    <tr style=\"text-align: right;\">\n",
       "      <th></th>\n",
       "      <th>Уникальные значения столбца StreamingMovies</th>\n",
       "      <th>Доля клиентов</th>\n",
       "      <th>Hue</th>\n",
       "    </tr>\n",
       "  </thead>\n",
       "  <tbody>\n",
       "    <tr>\n",
       "      <th>0</th>\n",
       "      <td>No</td>\n",
       "      <td>0.66</td>\n",
       "      <td>Не ушёл</td>\n",
       "    </tr>\n",
       "    <tr>\n",
       "      <th>1</th>\n",
       "      <td>Yes</td>\n",
       "      <td>0.70</td>\n",
       "      <td>Не ушёл</td>\n",
       "    </tr>\n",
       "    <tr>\n",
       "      <th>2</th>\n",
       "      <td>WOT</td>\n",
       "      <td>0.93</td>\n",
       "      <td>Не ушёл</td>\n",
       "    </tr>\n",
       "    <tr>\n",
       "      <th>3</th>\n",
       "      <td>No</td>\n",
       "      <td>0.34</td>\n",
       "      <td>Ушёл</td>\n",
       "    </tr>\n",
       "    <tr>\n",
       "      <th>4</th>\n",
       "      <td>Yes</td>\n",
       "      <td>0.30</td>\n",
       "      <td>Ушёл</td>\n",
       "    </tr>\n",
       "    <tr>\n",
       "      <th>5</th>\n",
       "      <td>WOT</td>\n",
       "      <td>0.07</td>\n",
       "      <td>Ушёл</td>\n",
       "    </tr>\n",
       "  </tbody>\n",
       "</table>\n",
       "</div>"
      ],
      "text/plain": [
       "  Уникальные значения столбца StreamingMovies  Доля клиентов      Hue\n",
       "0                                          No           0.66  Не ушёл\n",
       "1                                         Yes           0.70  Не ушёл\n",
       "2                                         WOT           0.93  Не ушёл\n",
       "3                                          No           0.34     Ушёл\n",
       "4                                         Yes           0.30     Ушёл\n",
       "5                                         WOT           0.07     Ушёл"
      ]
     },
     "metadata": {},
     "output_type": "display_data"
    },
    {
     "data": {
      "image/png": "[encoded data removed]",
      "text/plain": [
       "<Figure size 432x288 with 1 Axes>"
      ]
     },
     "metadata": {
      "needs_background": "light"
     },
     "output_type": "display_data"
    },
    {
     "name": "stdout",
     "output_type": "stream",
     "text": [
      "\n",
      "Корреляция Phik: 0.14\n",
      "-----------------------------------------------------------------------------------------------\n",
      "\n"
     ]
    }
   ],
   "source": [
    "proba_plot(data, 'StreamingMovies')"
   ]
  },
  {
   "cell_type": "markdown",
   "id": "713d85c8",
   "metadata": {},
   "source": [
    "Судя по графику данные независимы между собой. "
   ]
  },
  {
   "cell_type": "code",
   "execution_count": 64,
   "id": "5d65f9ef",
   "metadata": {},
   "outputs": [
    {
     "data": {
      "text/html": [
       "<div>\n",
       "<style scoped>\n",
       "    .dataframe tbody tr th:only-of-type {\n",
       "        vertical-align: middle;\n",
       "    }\n",
       "\n",
       "    .dataframe tbody tr th {\n",
       "        vertical-align: top;\n",
       "    }\n",
       "\n",
       "    .dataframe thead th {\n",
       "        text-align: right;\n",
       "    }\n",
       "</style>\n",
       "<table border=\"1\" class=\"dataframe\">\n",
       "  <thead>\n",
       "    <tr style=\"text-align: right;\">\n",
       "      <th></th>\n",
       "      <th>Уникальные значения столбца MultipleLines</th>\n",
       "      <th>Доля клиентов</th>\n",
       "      <th>Hue</th>\n",
       "    </tr>\n",
       "  </thead>\n",
       "  <tbody>\n",
       "    <tr>\n",
       "      <th>0</th>\n",
       "      <td>WOI</td>\n",
       "      <td>0.75</td>\n",
       "      <td>Не ушёл</td>\n",
       "    </tr>\n",
       "    <tr>\n",
       "      <th>1</th>\n",
       "      <td>No</td>\n",
       "      <td>0.75</td>\n",
       "      <td>Не ушёл</td>\n",
       "    </tr>\n",
       "    <tr>\n",
       "      <th>2</th>\n",
       "      <td>Yes</td>\n",
       "      <td>0.71</td>\n",
       "      <td>Не ушёл</td>\n",
       "    </tr>\n",
       "    <tr>\n",
       "      <th>3</th>\n",
       "      <td>WOI</td>\n",
       "      <td>0.25</td>\n",
       "      <td>Ушёл</td>\n",
       "    </tr>\n",
       "    <tr>\n",
       "      <th>4</th>\n",
       "      <td>No</td>\n",
       "      <td>0.25</td>\n",
       "      <td>Ушёл</td>\n",
       "    </tr>\n",
       "    <tr>\n",
       "      <th>5</th>\n",
       "      <td>Yes</td>\n",
       "      <td>0.29</td>\n",
       "      <td>Ушёл</td>\n",
       "    </tr>\n",
       "  </tbody>\n",
       "</table>\n",
       "</div>"
      ],
      "text/plain": [
       "  Уникальные значения столбца MultipleLines  Доля клиентов      Hue\n",
       "0                                       WOI           0.75  Не ушёл\n",
       "1                                        No           0.75  Не ушёл\n",
       "2                                       Yes           0.71  Не ушёл\n",
       "3                                       WOI           0.25     Ушёл\n",
       "4                                        No           0.25     Ушёл\n",
       "5                                       Yes           0.29     Ушёл"
      ]
     },
     "metadata": {},
     "output_type": "display_data"
    },
    {
     "data": {
      "image/png": "[encoded data removed]",
      "text/plain": [
       "<Figure size 432x288 with 1 Axes>"
      ]
     },
     "metadata": {
      "needs_background": "light"
     },
     "output_type": "display_data"
    },
    {
     "name": "stdout",
     "output_type": "stream",
     "text": [
      "\n",
      "Корреляция Phik: 0.02\n",
      "-----------------------------------------------------------------------------------------------\n",
      "\n"
     ]
    }
   ],
   "source": [
    "proba_plot(data, 'MultipleLines')"
   ]
  },
  {
   "cell_type": "markdown",
   "id": "5c20b8b3",
   "metadata": {},
   "source": [
    "Признак подключения телефона к нескольким линиям одновременно независим с нашим таргетом. "
   ]
  },
  {
   "cell_type": "markdown",
   "id": "c39a2d85",
   "metadata": {},
   "source": [
    "Мы имеет 3 сильных признака, которые не имеют мультикорреляцию. Остальные оставим - они необходимы для прироста информации."
   ]
  },
  {
   "cell_type": "code",
   "execution_count": 65,
   "id": "9a748abe",
   "metadata": {},
   "outputs": [],
   "source": [
    "for column in ['use_days', 'gender', 'Type']:\n",
    "    del data[column]"
   ]
  },
  {
   "cell_type": "markdown",
   "id": "eeaa5251",
   "metadata": {},
   "source": [
    "## Выбор модели"
   ]
  },
  {
   "cell_type": "markdown",
   "id": "07248563",
   "metadata": {},
   "source": [
    "### Подготовка данных"
   ]
  },
  {
   "cell_type": "code",
   "execution_count": 66,
   "id": "7bf60ca0",
   "metadata": {},
   "outputs": [],
   "source": [
    "features = data.drop('target', axis=1)\n",
    "target = data['target']"
   ]
  },
  {
   "cell_type": "code",
   "execution_count": 67,
   "id": "212d5e94",
   "metadata": {},
   "outputs": [
    {
     "name": "stdout",
     "output_type": "stream",
     "text": [
      "(5274, 16) (5274,) (1758, 16) (1758,)\n"
     ]
    }
   ],
   "source": [
    "features_train, features_test, target_train, target_test = train_test_split(features, target,\n",
    "                                                                            test_size = .25,\n",
    "                                                                            random_state = RANDOM_STATE)\n",
    "\n",
    "\n",
    "print(features_train.shape, target_train.shape,\n",
    "      features_test.shape, target_test.shape)"
   ]
  },
  {
   "cell_type": "code",
   "execution_count": 68,
   "id": "39d9311a",
   "metadata": {},
   "outputs": [],
   "source": [
    "numerics = list(features.select_dtypes(include=['int64', 'float64']).columns)\n",
    "categorical = list(features.select_dtypes(include='object').columns)\n",
    "\n",
    "col_transformer = ColumnTransformer(\n",
    "                        transformers=[\n",
    "                            ('scaler', StandardScaler(), numerics),\n",
    "                            ('ohe', OneHotEncoder(sparse=False, drop='first'), categorical)],\n",
    "                                remainder=\"passthrough\"\n",
    "                                  )\n",
    "\n",
    "col_transformer.fit(features_train)\n",
    "features_train = col_transformer.transform(features_train)\n",
    "features_test = col_transformer.transform(features_test)"
   ]
  },
  {
   "cell_type": "code",
   "execution_count": 69,
   "id": "06b6758c",
   "metadata": {},
   "outputs": [
    {
     "name": "stdout",
     "output_type": "stream",
     "text": [
      "--------------------------------------------------\n",
      "Размернoсть features_train: (5274, 26)\n",
      "\n",
      "--------------------------------------------------\n",
      "Размернoсть features_test: (1758, 26)\n",
      "\n"
     ]
    }
   ],
   "source": [
    "names = ['features_train', 'features_test']\n",
    "ds = [features_train, features_test]\n",
    "for i in range(len(ds)):\n",
    "    print('-'*50)\n",
    "    print(f'Размернoсть {names[i]}:', ds[i].shape)\n",
    "    print()"
   ]
  },
  {
   "cell_type": "markdown",
   "id": "ebe16240",
   "metadata": {},
   "source": [
    "### RandomForestClassifier"
   ]
  },
  {
   "cell_type": "code",
   "execution_count": 70,
   "id": "1ebce52f",
   "metadata": {},
   "outputs": [],
   "source": [
    "analitics = pd.DataFrame(columns = ['ROC_AUC', 'Precision'])\n",
    "\n",
    "def alter_table(name, roc_auc, precision):\n",
    "    analitics.loc[name, ['ROC_AUC']] = roc_auc\n",
    "    analitics.loc[name, ['Precision']] = precision\n",
    "    return analitics"
   ]
  },
  {
   "cell_type": "code",
   "execution_count": 71,
   "id": "7bf81c75",
   "metadata": {},
   "outputs": [
    {
     "data": {
      "text/plain": [
       "\"grid_params = {\\n    'n_estimators': np.arange(40, 100, 10),\\n    'max_depth' : np.arange(12, 24)\\n}\\n\\ngrid_rf = GridSearchCV(RandomForestClassifier(), grid_params, cv=3, verbose=10, scoring=['roc_auc', 'precision'], refit = 'roc_auc').fit(features_train, target_train)\\nbest_rf = grid_rf.best_estimator_\""
      ]
     },
     "execution_count": 71,
     "metadata": {},
     "output_type": "execute_result"
    }
   ],
   "source": [
    "'''grid_params = {\n",
    "    'n_estimators': np.arange(40, 100, 10),\n",
    "    'max_depth' : np.arange(12, 24)\n",
    "}\n",
    "\n",
    "grid_rf = GridSearchCV(RandomForestClassifier(), grid_params, cv=3, verbose=10, scoring=['roc_auc', 'precision'], refit = 'roc_auc').fit(features_train, target_train)\n",
    "best_rf = grid_rf.best_estimator_'''"
   ]
  },
  {
   "cell_type": "code",
   "execution_count": 72,
   "id": "5f5e1317",
   "metadata": {},
   "outputs": [
    {
     "data": {
      "text/plain": [
       "\"cv_results = pd.DataFrame.from_dict(grid_rf.cv_results_)\\nbest_idx = cv_results.sort_values(by='rank_test_roc_auc').head(1).index[0]\\nroc = cv_results.loc[best_idx, 'mean_test_roc_auc']\\npr = cv_results.loc[best_idx, 'mean_test_precision']\\n\\nalter_table('RandomForestClassifier', round(roc, 4), round(pr, 4))\""
      ]
     },
     "execution_count": 72,
     "metadata": {},
     "output_type": "execute_result"
    }
   ],
   "source": [
    "'''cv_results = pd.DataFrame.from_dict(grid_rf.cv_results_)\n",
    "best_idx = cv_results.sort_values(by='rank_test_roc_auc').head(1).index[0]\n",
    "roc = cv_results.loc[best_idx, 'mean_test_roc_auc']\n",
    "pr = cv_results.loc[best_idx, 'mean_test_precision']\n",
    "\n",
    "alter_table('RandomForestClassifier', round(roc, 4), round(pr, 4))'''"
   ]
  },
  {
   "cell_type": "markdown",
   "id": "7e067672",
   "metadata": {},
   "source": [
    "### CatBoostClassifier"
   ]
  },
  {
   "cell_type": "code",
   "execution_count": 73,
   "id": "69e160f9",
   "metadata": {},
   "outputs": [
    {
     "data": {
      "text/plain": [
       "\"model_cbr = CatBoostClassifier(logging_level='Silent', loss_function='Logloss')\\nparameters_cbr = {'max_depth': np.arange(4, 11),\\n                  'learning_rate':[0.0001, 0.001, 0.01, 0.1, 1],\\n                  'iterations': [500,1000,1500,2000]}\\ncatboost_grid = GridSearchCV(model_cbr,\\n                             parameters_cbr,\\n                             cv=3,\\n                             verbose=10,\\n                             scoring=['roc_auc', 'precision'],\\n                             refit = 'roc_auc').fit(features_train, target_train)\""
      ]
     },
     "execution_count": 73,
     "metadata": {},
     "output_type": "execute_result"
    }
   ],
   "source": [
    "'''model_cbr = CatBoostClassifier(logging_level='Silent', loss_function='Logloss')\n",
    "parameters_cbr = {'max_depth': np.arange(4, 11),\n",
    "                  'learning_rate':[0.0001, 0.001, 0.01, 0.1, 1],\n",
    "                  'iterations': [500,1000,1500,2000]}\n",
    "catboost_grid = GridSearchCV(model_cbr,\n",
    "                             parameters_cbr,\n",
    "                             cv=3,\n",
    "                             verbose=10,\n",
    "                             scoring=['roc_auc', 'precision'],\n",
    "                             refit = 'roc_auc').fit(features_train, target_train)'''"
   ]
  },
  {
   "cell_type": "code",
   "execution_count": 74,
   "id": "1209499e",
   "metadata": {},
   "outputs": [
    {
     "data": {
      "text/plain": [
       "\"cv_results = pd.DataFrame.from_dict(catboost_grid.cv_results_)\\nbest_idx = cv_results.sort_values(by='rank_test_roc_auc').head(1).index[0]\\nroc = cv_results.loc[best_idx, 'mean_test_roc_auc']\\npr = cv_results.loc[best_idx, 'mean_test_precision']\\n\\nalter_table('CatBoostClassifier', round(roc, 4), round(pr, 4))\""
      ]
     },
     "execution_count": 74,
     "metadata": {},
     "output_type": "execute_result"
    }
   ],
   "source": [
    "'''cv_results = pd.DataFrame.from_dict(catboost_grid.cv_results_)\n",
    "best_idx = cv_results.sort_values(by='rank_test_roc_auc').head(1).index[0]\n",
    "roc = cv_results.loc[best_idx, 'mean_test_roc_auc']\n",
    "pr = cv_results.loc[best_idx, 'mean_test_precision']\n",
    "\n",
    "alter_table('CatBoostClassifier', round(roc, 4), round(pr, 4))'''"
   ]
  },
  {
   "cell_type": "markdown",
   "id": "ba1aa6a1",
   "metadata": {},
   "source": [
    "### LGBMClassifier"
   ]
  },
  {
   "cell_type": "code",
   "execution_count": 75,
   "id": "66deafe7",
   "metadata": {},
   "outputs": [
    {
     "data": {
      "text/plain": [
       "\"model_lgbm = LGBMClassifier()\\nparameters_lgbm = {'max_depth': np.arange(4, 11),\\n                  'learning_rate':[0.0001, 0.001, 0.01, 0.1, 1]}\\nlgbm = GridSearchCV(model_lgbm, \\n                    parameters_lgbm, \\n                    cv = 3,\\n                    verbose=10,\\n                    scoring={'roc_auc': 'roc_auc', 'precision': make_scorer(precision_score, average='binary', zero_division=1)},\\n                    refit = 'roc_auc').fit(features_train, target_train)\""
      ]
     },
     "execution_count": 75,
     "metadata": {},
     "output_type": "execute_result"
    }
   ],
   "source": [
    "'''model_lgbm = LGBMClassifier()\n",
    "parameters_lgbm = {'max_depth': np.arange(4, 11),\n",
    "                  'learning_rate':[0.0001, 0.001, 0.01, 0.1, 1]}\n",
    "lgbm = GridSearchCV(model_lgbm, \n",
    "                    parameters_lgbm, \n",
    "                    cv = 3,\n",
    "                    verbose=10,\n",
    "                    scoring={'roc_auc': 'roc_auc', 'precision': make_scorer(precision_score, average='binary', zero_division=1)},\n",
    "                    refit = 'roc_auc').fit(features_train, target_train)'''"
   ]
  },
  {
   "cell_type": "code",
   "execution_count": 76,
   "id": "9af945ca",
   "metadata": {},
   "outputs": [
    {
     "data": {
      "text/plain": [
       "\"cv_results = pd.DataFrame.from_dict(lgbm.cv_results_)\\nbest_idx = cv_results.sort_values(by='rank_test_roc_auc').head(1).index[0]\\nroc = cv_results.loc[best_idx, 'mean_test_roc_auc']\\npr = cv_results.loc[best_idx, 'mean_test_precision']\\n\\nalter_table('LGBMClassifier', round(roc, 4), round(pr, 4))\""
      ]
     },
     "execution_count": 76,
     "metadata": {},
     "output_type": "execute_result"
    }
   ],
   "source": [
    "'''cv_results = pd.DataFrame.from_dict(lgbm.cv_results_)\n",
    "best_idx = cv_results.sort_values(by='rank_test_roc_auc').head(1).index[0]\n",
    "roc = cv_results.loc[best_idx, 'mean_test_roc_auc']\n",
    "pr = cv_results.loc[best_idx, 'mean_test_precision']\n",
    "\n",
    "alter_table('LGBMClassifier', round(roc, 4), round(pr, 4))'''"
   ]
  },
  {
   "cell_type": "markdown",
   "id": "dac4bba9",
   "metadata": {},
   "source": [
    "### NN"
   ]
  },
  {
   "cell_type": "code",
   "execution_count": 77,
   "id": "3e246ba9",
   "metadata": {},
   "outputs": [],
   "source": [
    "class CustomEarlyStopping():\n",
    "    \"\"\"\n",
    "    Ранняя остановка, чтобы остановить тренировку, когда потеря не улучшается после определенной эпохи.\n",
    "    \"\"\"\n",
    "    def __init__(self, patience=5, min_delta=0):\n",
    "        \"\"\"\n",
    "        :param patience: сколько эпох ждать, прежде чем остановиться, когда потеря не улучшается\n",
    "        :param min_delta: минимальная разница между loss/метриками, если улучшений нет, то остановим обучение\n",
    "        \"\"\"\n",
    "        self.patience = patience\n",
    "        self.min_delta = min_delta\n",
    "        self.counter = 0\n",
    "        self.best_loss = None\n",
    "        self.early_stop = False\n",
    "\n",
    "    def __call__(self, val_loss):\n",
    "        if self.best_loss == None:\n",
    "            self.best_loss = val_loss\n",
    "        elif self.best_loss - val_loss > self.min_delta:\n",
    "            self.best_loss = val_loss\n",
    "            self.counter = 0\n",
    "        elif self.best_loss - val_loss < self.min_delta:\n",
    "            self.counter += 1\n",
    "            print(f\"INFO: Early stopping counter {self.counter} of {self.patience}\")\n",
    "            if self.counter >= self.patience:\n",
    "                print('INFO: Early stopping')\n",
    "                self.early_stop = True"
   ]
  },
  {
   "cell_type": "code",
   "execution_count": 78,
   "id": "6d8d4e20",
   "metadata": {},
   "outputs": [],
   "source": [
    "X_train = torch.FloatTensor(np.array(features_train))\n",
    "X_test = torch.FloatTensor(np.array(features_test))\n",
    "y_train = torch.FloatTensor(np.array(target_train))\n",
    "y_test = torch.FloatTensor(np.array(target_test))"
   ]
  },
  {
   "cell_type": "code",
   "execution_count": 79,
   "id": "391b5a5a",
   "metadata": {},
   "outputs": [],
   "source": [
    "class Net(nn.Module):\n",
    "    def __init__(self, n_in_neurons, n_hidden_neurons_1, n_hidden_neurons_2, n_out_neurons):\n",
    "            super(Net, self).__init__()\n",
    "            \n",
    "            self.fc1 = nn.Linear(n_in_neurons, n_hidden_neurons_1)\n",
    "            self.bn1 = nn.BatchNorm1d(n_hidden_neurons_1)\n",
    "            self.act1 = nn.ReLU()\n",
    "            self.dp2 = nn.Dropout(p=0.2)\n",
    "            self.fc2 = nn.Linear(n_hidden_neurons_1, n_hidden_neurons_2)\n",
    "            self.act2 = nn.ReLU()\n",
    "            self.fc3 = nn.Linear(n_hidden_neurons_2, n_out_neurons)\n",
    "            self.act3 = nn.Sigmoid()\n",
    "            \n",
    "    def forward(self, x):\n",
    "        x = self.fc1(x)\n",
    "        x = self.bn1(x)\n",
    "        x = self.act1(x)\n",
    "        x = self.dp2(x)\n",
    "        x = self.fc2(x)\n",
    "        x = self.act2(x)\n",
    "        x = self.fc3(x)\n",
    "        x = self.act3(x)\n",
    "        \n",
    "        return x"
   ]
  },
  {
   "cell_type": "code",
   "execution_count": 80,
   "id": "71c87ad4",
   "metadata": {},
   "outputs": [],
   "source": [
    "n_in_neurons = X_train.shape[1]\n",
    "n_hidden_neurons_1 = 24\n",
    "n_hidden_neurons_2 = 10\n",
    "n_out_neurons = 1\n",
    "\n",
    "net = Net(n_in_neurons, n_hidden_neurons_1, n_hidden_neurons_2, n_out_neurons)\n",
    "optimizer = torch.optim.Adam(net.parameters(), lr=1e-3)\n",
    "loss = nn.BCEWithLogitsLoss()"
   ]
  },
  {
   "cell_type": "code",
   "execution_count": 81,
   "id": "796f74b7",
   "metadata": {},
   "outputs": [],
   "source": [
    "dataset_train = torch.utils.data.TensorDataset(X_train, y_train)\n",
    "dataset_test = torch.utils.data.TensorDataset(X_test, y_test)\n",
    "\n",
    "train_dataloader = DataLoader(dataset_train, batch_size=40, shuffle=True,\n",
    "                              num_workers=0)\n",
    "test_dataloader = DataLoader(dataset_test, batch_size=40, num_workers=0)   "
   ]
  },
  {
   "cell_type": "code",
   "execution_count": 82,
   "id": "de7a9b17",
   "metadata": {},
   "outputs": [
    {
     "name": "stdout",
     "output_type": "stream",
     "text": [
      "epoch:0, ROC_AUC test: 0.8257900196503419\n",
      "INFO: Early stopping counter 1 of 5\n",
      "epoch:5, ROC_AUC test: 0.8281834819056614\n",
      "INFO: Early stopping counter 2 of 5\n",
      "epoch:10, ROC_AUC test: 0.8270280755315291\n",
      "INFO: Early stopping counter 3 of 5\n",
      "epoch:15, ROC_AUC test: 0.8312347667681513\n",
      "INFO: Early stopping counter 4 of 5\n",
      "epoch:20, ROC_AUC test: 0.8332875106474492\n",
      "INFO: Early stopping counter 5 of 5\n",
      "INFO: Early stopping\n",
      "epoch:25, ROC_AUC test: 0.8267750668364635\n",
      "Early Stoppning!!!\n",
      "Best ROC_AUC test 0.8257900196503419\n"
     ]
    }
   ],
   "source": [
    "early_stopping = CustomEarlyStopping(patience=5, min_delta=20)\n",
    "\n",
    "num_epochs = 100001\n",
    "for epoch in range(num_epochs):\n",
    "    net.train()\n",
    "    for batch in train_dataloader:\n",
    "        data_train, temperature_train = batch \n",
    "        optimizer.zero_grad()\n",
    "\n",
    "        preds = net.forward(data_train).flatten()\n",
    "\n",
    "        loss_value = loss(preds, temperature_train)\n",
    "        loss_value.backward()\n",
    "        optimizer.step()\n",
    "\n",
    "    if epoch % 5 == 0:\n",
    "        predicted_temp = [] \n",
    "        with torch.no_grad():\n",
    "            net.eval()\n",
    "            for batch in test_dataloader:\n",
    "                data_test, temperature_test = batch \n",
    "\n",
    "                test_preds = net.forward(data_test).flatten()\n",
    "                predicted_temp.append(test_preds)\n",
    "                BCE_loss = loss(test_preds, temperature_test)\n",
    "\n",
    "        predicted_temp = torch.cat(predicted_temp).detach().numpy()\n",
    "        ROC_AUC = roc_auc_score(y_test, predicted_temp)\n",
    "        early_stopping(BCE_loss)\n",
    "        if early_stopping.counter == 0:\n",
    "            best_roc = ROC_AUC\n",
    "            best_predicted_temp = predicted_temp\n",
    "            \n",
    "        print(f\"epoch:{epoch}, ROC_AUC test: {ROC_AUC}\")\n",
    "\n",
    "        if early_stopping.early_stop:\n",
    "            print('Early Stoppning!!!')\n",
    "            print(f'Best ROC_AUC test {best_roc}')\n",
    "            break "
   ]
  },
  {
   "cell_type": "markdown",
   "id": "4783265e",
   "metadata": {},
   "source": [
    "Лучший результат получили у catboost модели, целевая метрика = 0.8445."
   ]
  },
  {
   "cell_type": "markdown",
   "id": "84b55856",
   "metadata": {},
   "source": [
    "## Тестирование модели"
   ]
  },
  {
   "cell_type": "code",
   "execution_count": 83,
   "id": "c02f84e6",
   "metadata": {},
   "outputs": [],
   "source": [
    "#catboost_grid.best_params_"
   ]
  },
  {
   "cell_type": "markdown",
   "id": "82ffc7c7",
   "metadata": {},
   "source": [
    "{'iterations': 500, 'learning_rate': 0.01, 'max_depth': 4}"
   ]
  },
  {
   "cell_type": "code",
   "execution_count": 84,
   "id": "fc7d3c88",
   "metadata": {},
   "outputs": [],
   "source": [
    "model = CatBoostClassifier(logging_level='Silent',\n",
    "                           loss_function='Logloss',\n",
    "                           iterations = 500, \n",
    "                           learning_rate = 0.01, \n",
    "                           max_depth = 5).fit(features_train, target_train)\n",
    "predictions = model.predict(features_test)"
   ]
  },
  {
   "cell_type": "code",
   "execution_count": 92,
   "id": "2dd4a6b6",
   "metadata": {},
   "outputs": [
    {
     "name": "stdout",
     "output_type": "stream",
     "text": [
      "AUC-ROC на тестовом наборе данных: 0.85\n",
      "Accuracy на тестовом наборе данных: 0.81\n"
     ]
    }
   ],
   "source": [
    "y_pred_proba = model.predict_proba(features_test)[:, 1]\n",
    "\n",
    "auc_roc = roc_auc_score(target_test, y_pred_proba)\n",
    "acc = accuracy_score(target_test.to_numpy(), [round(i) for i in y_pred_proba])\n",
    "print('AUC-ROC на тестовом наборе данных:', round(auc_roc, 2))\n",
    "print('Accuracy на тестовом наборе данных:', round(acc, 2))"
   ]
  },
  {
   "cell_type": "code",
   "execution_count": 93,
   "id": "bd516cdd",
   "metadata": {},
   "outputs": [
    {
     "data": {
      "image/png": "[encoded data removed]",
      "text/plain": [
       "<Figure size 432x288 with 1 Axes>"
      ]
     },
     "metadata": {
      "needs_background": "light"
     },
     "output_type": "display_data"
    }
   ],
   "source": [
    "predicted_probalities = model.predict_proba(features_test)[:, 1]\n",
    "\n",
    "fpr, tpr, thresholds = roc_curve(target_test, predicted_probalities)\n",
    "\n",
    "plt.figure(figsize=(6, 4))\n",
    "plt.plot(fpr, tpr)\n",
    "plt.plot([0, 1], [0, 1], linestyle='--')\n",
    "plt.xlim([0.0, 1.0])\n",
    "plt.ylim([0.0, 1.0])\n",
    "\n",
    "plt.xlabel('False Positive Rate')\n",
    "plt.ylabel('True Positive Rate')\n",
    "plt.title('ROC-кривая')\n",
    "\n",
    "plt.show()"
   ]
  },
  {
   "cell_type": "code",
   "execution_count": 94,
   "id": "b0feecc1",
   "metadata": {},
   "outputs": [
    {
     "data": {
      "image/png": "[encoded data removed]",
      "text/plain": [
       "<Figure size 576x288 with 2 Axes>"
      ]
     },
     "metadata": {
      "needs_background": "light"
     },
     "output_type": "display_data"
    }
   ],
   "source": [
    "cm_cbc = confusion_matrix(target_test, predictions)\n",
    "cm_cbc_data = pd.DataFrame(cm_cbc,\n",
    "                           index=['0', '1'],\n",
    "                           columns=['0', '1'])\n",
    "\n",
    "plt.figure(figsize=(8, 4))\n",
    "sns.heatmap(cm_cbc, xticklabels=cm_cbc_data.columns, yticklabels=cm_cbc_data.index, annot=True, fmt='g', cmap=\"Reds\", annot_kws={\"size\": 16})\n",
    "plt.title(\"Матрица ошибок\", size=18)\n",
    "plt.xlabel('predictions', size=18)\n",
    "plt.ylabel('target', size=18);"
   ]
  },
  {
   "cell_type": "code",
   "execution_count": 95,
   "id": "72c0e3b6",
   "metadata": {},
   "outputs": [
    {
     "data": {
      "image/png": "[encoded data removed]",
      "text/plain": [
       "<Figure size 432x288 with 1 Axes>"
      ]
     },
     "metadata": {
      "needs_background": "light"
     },
     "output_type": "display_data"
    }
   ],
   "source": [
    "precision, recall, threshold = precision_recall_curve(target_test, y_pred_proba)\n",
    "plt.plot(recall, precision)\n",
    "\n",
    "plt.xlabel('Recall')\n",
    "plt.ylabel('Precision')\n",
    "plt.title('PR-кривая')\n",
    "\n",
    "plt.show()\n"
   ]
  },
  {
   "cell_type": "markdown",
   "id": "b15b467d",
   "metadata": {},
   "source": [
    "Исследуем важность признаков у лучшей модели."
   ]
  },
  {
   "cell_type": "code",
   "execution_count": 96,
   "id": "fbe550bb",
   "metadata": {},
   "outputs": [
    {
     "data": {
      "text/html": [
       "<div>\n",
       "<style scoped>\n",
       "    .dataframe tbody tr th:only-of-type {\n",
       "        vertical-align: middle;\n",
       "    }\n",
       "\n",
       "    .dataframe tbody tr th {\n",
       "        vertical-align: top;\n",
       "    }\n",
       "\n",
       "    .dataframe thead th {\n",
       "        text-align: right;\n",
       "    }\n",
       "</style>\n",
       "<table border=\"1\" class=\"dataframe\">\n",
       "  <thead>\n",
       "    <tr style=\"text-align: right;\">\n",
       "      <th></th>\n",
       "      <th>importance</th>\n",
       "    </tr>\n",
       "    <tr>\n",
       "      <th>feature</th>\n",
       "      <th></th>\n",
       "    </tr>\n",
       "  </thead>\n",
       "  <tbody>\n",
       "    <tr>\n",
       "      <th>TotalCharges</th>\n",
       "      <td>23.979620</td>\n",
       "    </tr>\n",
       "    <tr>\n",
       "      <th>dbp</th>\n",
       "      <td>22.789360</td>\n",
       "    </tr>\n",
       "    <tr>\n",
       "      <th>InternetService_Fiber optic</th>\n",
       "      <td>11.934309</td>\n",
       "    </tr>\n",
       "    <tr>\n",
       "      <th>MonthlyCharges</th>\n",
       "      <td>8.949690</td>\n",
       "    </tr>\n",
       "    <tr>\n",
       "      <th>PaymentMethod_Electronic check</th>\n",
       "      <td>3.662883</td>\n",
       "    </tr>\n",
       "    <tr>\n",
       "      <th>PaperlessBilling_Yes</th>\n",
       "      <td>2.909391</td>\n",
       "    </tr>\n",
       "    <tr>\n",
       "      <th>OnlineSecurity_Yes</th>\n",
       "      <td>2.840508</td>\n",
       "    </tr>\n",
       "    <tr>\n",
       "      <th>TechSupport_Yes</th>\n",
       "      <td>2.346667</td>\n",
       "    </tr>\n",
       "    <tr>\n",
       "      <th>StreamingTV_Yes</th>\n",
       "      <td>1.952405</td>\n",
       "    </tr>\n",
       "    <tr>\n",
       "      <th>StreamingMovies_WOT</th>\n",
       "      <td>1.932303</td>\n",
       "    </tr>\n",
       "  </tbody>\n",
       "</table>\n",
       "</div>"
      ],
      "text/plain": [
       "                                importance\n",
       "feature                                   \n",
       "TotalCharges                     23.979620\n",
       "dbp                              22.789360\n",
       "InternetService_Fiber optic      11.934309\n",
       "MonthlyCharges                    8.949690\n",
       "PaymentMethod_Electronic check    3.662883\n",
       "PaperlessBilling_Yes              2.909391\n",
       "OnlineSecurity_Yes                2.840508\n",
       "TechSupport_Yes                   2.346667\n",
       "StreamingTV_Yes                   1.952405\n",
       "StreamingMovies_WOT               1.932303"
      ]
     },
     "metadata": {},
     "output_type": "display_data"
    },
    {
     "data": {
      "image/png": "[encoded data removed]",
      "text/plain": [
       "<Figure size 864x576 with 1 Axes>"
      ]
     },
     "metadata": {
      "needs_background": "light"
     },
     "output_type": "display_data"
    }
   ],
   "source": [
    "feature_names_numeric = numerics\n",
    "feature_names_categorical = col_transformer.named_transformers_['ohe'].get_feature_names(categorical)\n",
    "feature_names = feature_names_numeric + list(feature_names_categorical)\n",
    "\n",
    "feature_importances = model.feature_importances_\n",
    "\n",
    "fi_df = pd.DataFrame({'feature': feature_names,\n",
    "                   'importance': feature_importances}) \\\n",
    "                    .sort_values('importance', ascending = False)\n",
    "\n",
    "fi_df.set_index('feature', inplace=True)\n",
    "display(fi_df.head(10))\n",
    "\n",
    "fi_df.plot.bar(color = 'teal', figsize=(12, 8));"
   ]
  },
  {
   "cell_type": "code",
   "execution_count": 97,
   "id": "6df2df31",
   "metadata": {},
   "outputs": [
    {
     "data": {
      "image/png": "[encoded data removed]",
      "text/plain": [
       "<Figure size 576x360 with 1 Axes>"
      ]
     },
     "metadata": {
      "needs_background": "light"
     },
     "output_type": "display_data"
    },
    {
     "name": "stdout",
     "output_type": "stream",
     "text": [
      "\n",
      "Корреляция Phik: 0.5\n",
      "-----------------------------------------------------------------------------------------------\n",
      "\n"
     ]
    }
   ],
   "source": [
    "violentplot(data, 'dbp', 'target')"
   ]
  },
  {
   "cell_type": "markdown",
   "id": "68b78693",
   "metadata": {},
   "source": [
    "Самые весомые показатели для нашей модели - признак totalcharges и наш сгенерированный признак dbp (количество дней до оплаты следующего периода). Как мы можем видеть, на графике зависимости люди чаще всего расторгают договор с компанией за несколько дней до продления периода. Можно сделать вывод, что выдавать купоны на скидку нужно именно в данный момент - это может поднять интерес клиента."
   ]
  },
  {
   "cell_type": "markdown",
   "id": "dfbb0f4d",
   "metadata": {},
   "source": [
    "## Вывод"
   ]
  },
  {
   "cell_type": "markdown",
   "id": "f57cdd25",
   "metadata": {},
   "source": [
    "Бустинг модель CatBoostClassifier очень хорошо показала себя на тестовых данных. По итогам предсказаний метрика AUC-ROC = 0.85.\n",
    "\n",
    "Если обратиться к матрице ошибок, то можно увидеть, что наша модель чаще ошибается с 1 (предсказывает 0), нежели с 1 (предсказывает 0). С точки зрения бизнеса - это не особо хороший показатель, т.к. в нашем случае не так страшно получить ошибку первого рода, нежели второго. Итоги:\n",
    "\n",
    "- 68% от общего количества тестовых данных - правильное предсказание класса 0,\n",
    "- 13% - правильное предсказание класса 1,\n",
    "- 6% - ложное предсказание класса 0, метка предсказания - 1,\n",
    "- 13% - ложное предсказание класса 1 (модель пропускает человека, который планирует разорвать договор на оказание услуг).\n",
    "\n",
    "Из работы модели выявили, что предлагать промокоды и специальные условия тем, кто планирует отказаться от услуг связи, следует за несколько дней до продления периода. \n",
    "\n",
    "Можно вывести показатели данной модели на более высокий уровень, увеличив временной промежуток. Стоит собрать как можно больше информации, возможно, сгенерировать её и поставить на обработку искуственные наблюдения.\n"
   ]
  },
  {
   "cell_type": "code",
   "execution_count": null,
   "id": "fa8aa557",
   "metadata": {},
   "outputs": [],
   "source": []
  }
 ],
 "metadata": {
  "ExecuteTimeLog": [
   {
    "duration": 44,
    "start_time": "2023-10-27T15:52:44.380Z"
   },
   {
    "duration": 8,
    "start_time": "2023-10-27T15:59:18.865Z"
   },
   {
    "duration": 3140,
    "start_time": "2023-10-27T15:59:18.875Z"
   },
   {
    "duration": 354604,
    "start_time": "2023-10-27T15:59:22.016Z"
   },
   {
    "duration": 9038,
    "start_time": "2023-10-27T16:05:16.622Z"
   },
   {
    "duration": 8897,
    "start_time": "2023-10-27T16:05:25.673Z"
   },
   {
    "duration": 325,
    "start_time": "2023-10-27T16:05:34.572Z"
   },
   {
    "duration": 17,
    "start_time": "2023-10-27T16:05:34.899Z"
   },
   {
    "duration": 14,
    "start_time": "2023-10-27T16:05:34.917Z"
   },
   {
    "duration": 36,
    "start_time": "2023-10-27T16:05:34.933Z"
   },
   {
    "duration": 6,
    "start_time": "2023-10-27T16:05:34.971Z"
   },
   {
    "duration": 50,
    "start_time": "2023-10-27T16:05:34.979Z"
   },
   {
    "duration": 7,
    "start_time": "2023-10-27T16:05:35.031Z"
   },
   {
    "duration": 26,
    "start_time": "2023-10-27T16:05:35.044Z"
   },
   {
    "duration": 52,
    "start_time": "2023-10-27T16:05:35.073Z"
   },
   {
    "duration": 9,
    "start_time": "2023-10-27T16:05:35.127Z"
   },
   {
    "duration": 30,
    "start_time": "2023-10-27T16:05:35.137Z"
   },
   {
    "duration": 45,
    "start_time": "2023-10-27T16:05:35.169Z"
   },
   {
    "duration": 6,
    "start_time": "2023-10-27T16:05:35.216Z"
   },
   {
    "duration": 44,
    "start_time": "2023-10-27T16:05:35.223Z"
   },
   {
    "duration": 9,
    "start_time": "2023-10-27T16:05:35.269Z"
   },
   {
    "duration": 12,
    "start_time": "2023-10-27T16:05:35.279Z"
   },
   {
    "duration": 499,
    "start_time": "2023-10-27T16:05:35.292Z"
   },
   {
    "duration": 409,
    "start_time": "2023-10-27T16:05:35.793Z"
   },
   {
    "duration": 7,
    "start_time": "2023-10-27T16:05:36.204Z"
   },
   {
    "duration": 15,
    "start_time": "2023-10-27T16:05:36.213Z"
   },
   {
    "duration": 23,
    "start_time": "2023-10-27T16:05:36.248Z"
   },
   {
    "duration": 17,
    "start_time": "2023-10-27T16:05:36.277Z"
   },
   {
    "duration": 6,
    "start_time": "2023-10-27T16:05:36.295Z"
   },
   {
    "duration": 6,
    "start_time": "2023-10-27T16:05:36.302Z"
   },
   {
    "duration": 40,
    "start_time": "2023-10-27T16:05:36.309Z"
   },
   {
    "duration": 24,
    "start_time": "2023-10-27T16:05:36.350Z"
   },
   {
    "duration": 141,
    "start_time": "2023-10-27T16:05:36.376Z"
   },
   {
    "duration": 84,
    "start_time": "2023-10-27T16:05:36.519Z"
   },
   {
    "duration": 23,
    "start_time": "2023-10-27T16:05:36.604Z"
   },
   {
    "duration": 31,
    "start_time": "2023-10-27T16:05:36.629Z"
   },
   {
    "duration": 31,
    "start_time": "2023-10-27T16:05:36.669Z"
   },
   {
    "duration": 168,
    "start_time": "2023-10-27T16:05:36.701Z"
   },
   {
    "duration": 23,
    "start_time": "2023-10-27T16:05:36.871Z"
   },
   {
    "duration": 15,
    "start_time": "2023-10-27T16:05:36.895Z"
   },
   {
    "duration": 4,
    "start_time": "2023-10-27T16:05:36.911Z"
   },
   {
    "duration": 1254,
    "start_time": "2023-10-27T16:05:36.920Z"
   },
   {
    "duration": 4,
    "start_time": "2023-10-27T16:05:38.176Z"
   },
   {
    "duration": 3036,
    "start_time": "2023-10-27T16:05:38.181Z"
   },
   {
    "duration": 149,
    "start_time": "2023-10-27T16:05:41.219Z"
   },
   {
    "duration": 139,
    "start_time": "2023-10-27T16:05:41.373Z"
   },
   {
    "duration": 152,
    "start_time": "2023-10-27T16:05:41.514Z"
   },
   {
    "duration": 127,
    "start_time": "2023-10-27T16:05:41.669Z"
   },
   {
    "duration": 6,
    "start_time": "2023-10-27T16:05:41.798Z"
   },
   {
    "duration": 168,
    "start_time": "2023-10-27T16:05:41.805Z"
   },
   {
    "duration": 165,
    "start_time": "2023-10-27T16:05:41.974Z"
   },
   {
    "duration": 294,
    "start_time": "2023-10-27T16:05:42.140Z"
   },
   {
    "duration": 190,
    "start_time": "2023-10-27T16:05:42.437Z"
   },
   {
    "duration": 177,
    "start_time": "2023-10-27T16:05:42.629Z"
   },
   {
    "duration": 173,
    "start_time": "2023-10-27T16:05:42.808Z"
   },
   {
    "duration": 155,
    "start_time": "2023-10-27T16:05:42.982Z"
   },
   {
    "duration": 203,
    "start_time": "2023-10-27T16:05:43.138Z"
   },
   {
    "duration": 164,
    "start_time": "2023-10-27T16:05:43.360Z"
   },
   {
    "duration": 164,
    "start_time": "2023-10-27T16:05:43.525Z"
   },
   {
    "duration": 325,
    "start_time": "2023-10-27T16:05:43.691Z"
   },
   {
    "duration": 195,
    "start_time": "2023-10-27T16:05:44.018Z"
   },
   {
    "duration": 167,
    "start_time": "2023-10-27T16:05:44.214Z"
   },
   {
    "duration": 192,
    "start_time": "2023-10-27T16:05:44.382Z"
   },
   {
    "duration": 147,
    "start_time": "2023-10-27T16:05:44.575Z"
   },
   {
    "duration": 187,
    "start_time": "2023-10-27T16:05:44.723Z"
   },
   {
    "duration": 9,
    "start_time": "2023-10-27T16:05:44.912Z"
   },
   {
    "duration": 9,
    "start_time": "2023-10-27T16:05:44.922Z"
   },
   {
    "duration": 41,
    "start_time": "2023-10-27T16:05:44.932Z"
   },
   {
    "duration": 100,
    "start_time": "2023-10-27T16:05:44.974Z"
   },
   {
    "duration": 3,
    "start_time": "2023-10-27T16:05:45.076Z"
   },
   {
    "duration": 31,
    "start_time": "2023-10-27T16:05:45.081Z"
   },
   {
    "duration": 24,
    "start_time": "2023-10-27T16:05:45.113Z"
   },
   {
    "duration": 27,
    "start_time": "2023-10-27T16:05:45.142Z"
   },
   {
    "duration": 23,
    "start_time": "2023-10-27T16:05:45.170Z"
   },
   {
    "duration": 20,
    "start_time": "2023-10-27T16:05:45.195Z"
   },
   {
    "duration": 47,
    "start_time": "2023-10-27T16:05:45.216Z"
   },
   {
    "duration": 7,
    "start_time": "2023-10-27T16:05:45.268Z"
   },
   {
    "duration": 33,
    "start_time": "2023-10-27T16:05:45.277Z"
   },
   {
    "duration": 67,
    "start_time": "2023-10-27T16:05:45.311Z"
   },
   {
    "duration": 9,
    "start_time": "2023-10-27T16:05:45.380Z"
   },
   {
    "duration": 1227,
    "start_time": "2023-10-27T16:05:45.391Z"
   },
   {
    "duration": 3,
    "start_time": "2023-10-27T16:05:46.619Z"
   },
   {
    "duration": 149020,
    "start_time": "2023-10-27T16:05:46.624Z"
   },
   {
    "duration": 9,
    "start_time": "2023-10-27T16:08:15.645Z"
   },
   {
    "duration": 2012,
    "start_time": "2023-10-27T16:08:15.656Z"
   },
   {
    "duration": 53,
    "start_time": "2023-10-27T16:08:17.669Z"
   },
   {
    "duration": 0,
    "start_time": "2023-10-27T16:08:17.723Z"
   },
   {
    "duration": 0,
    "start_time": "2023-10-27T16:08:17.724Z"
   },
   {
    "duration": 0,
    "start_time": "2023-10-27T16:08:17.724Z"
   },
   {
    "duration": 0,
    "start_time": "2023-10-27T16:08:17.725Z"
   },
   {
    "duration": 0,
    "start_time": "2023-10-27T16:08:17.726Z"
   },
   {
    "duration": 4,
    "start_time": "2023-10-27T16:09:14.811Z"
   },
   {
    "duration": 4,
    "start_time": "2023-10-27T16:09:29.594Z"
   },
   {
    "duration": 5,
    "start_time": "2023-10-27T16:10:12.521Z"
   },
   {
    "duration": 14,
    "start_time": "2023-10-27T16:12:35.769Z"
   },
   {
    "duration": 79,
    "start_time": "2023-10-27T16:13:02.885Z"
   },
   {
    "duration": 17,
    "start_time": "2023-10-27T16:13:09.083Z"
   },
   {
    "duration": 31,
    "start_time": "2023-10-27T16:13:55.165Z"
   },
   {
    "duration": 189,
    "start_time": "2023-10-27T16:14:32.683Z"
   },
   {
    "duration": 152,
    "start_time": "2023-10-27T16:14:33.677Z"
   },
   {
    "duration": 143,
    "start_time": "2023-10-27T16:14:35.149Z"
   },
   {
    "duration": 361,
    "start_time": "2023-10-27T16:14:36.721Z"
   },
   {
    "duration": 145,
    "start_time": "2023-10-27T16:14:37.391Z"
   }
  ],
  "kernelspec": {
   "display_name": "Python 3 (ipykernel)",
   "language": "python",
   "name": "python3"
  },
  "language_info": {
   "codemirror_mode": {
    "name": "ipython",
    "version": 3
   },
   "file_extension": ".py",
   "mimetype": "text/x-python",
   "name": "python",
   "nbconvert_exporter": "python",
   "pygments_lexer": "ipython3",
   "version": "3.12.4"
  },
  "toc": {
   "base_numbering": 1,
   "nav_menu": {},
   "number_sections": true,
   "sideBar": true,
   "skip_h1_title": true,
   "title_cell": "Table of Contents",
   "title_sidebar": "Contents",
   "toc_cell": false,
   "toc_position": {},
   "toc_section_display": true,
   "toc_window_display": true
  }
 },
 "nbformat": 4,
 "nbformat_minor": 5
}
