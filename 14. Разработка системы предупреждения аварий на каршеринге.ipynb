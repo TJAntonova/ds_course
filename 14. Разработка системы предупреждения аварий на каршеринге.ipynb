{
 "cells": [
  {
   "cell_type": "markdown",
   "id": "32ce8b81",
   "metadata": {},
   "source": [
    "# Оценка риска ДТП по выбранному маршруту движения"
   ]
  },
  {
   "cell_type": "markdown",
   "id": "a98ae14e",
   "metadata": {},
   "source": [
    "# Содержание\n",
    "\n",
    "1. [Подключение к базе данных](#1)\n",
    "2. [Первичное исследование таблиц](#2)\n",
    "3. [Статистический анализ факторов ДТП](#3)\n",
    "4. [Создание датафрейма для решения задачи](#4)\n",
    "5. [Предобработка данных](#5)\n",
    "6. [Подготовка данных для моделей](#6)\n",
    "7. [Обучение моделей](#7)\n",
    "8. [Анализ важности факторов ДТП](#8)\n",
    "9. [Выводы](#9)"
   ]
  },
  {
   "cell_type": "markdown",
   "id": "288c925f",
   "metadata": {},
   "source": [
    "**Цель проекта** - создать систему, которая могла бы оценить риск ДТП по выбранному маршруту движения. \n",
    "\n",
    "Под риском понимается вероятность ДТП с любым повреждением транспортного средства. Текущая задача — понять, возможно ли предсказывать ДТП, опираясь на исторические данные одного из регионов.\n",
    "\n",
    "**Задачи от заказчика**: \n",
    "\n",
    "- Создать модель предсказания ДТП.\n",
    "    - Для модели выбрать тип виновника — только машина (car).\n",
    "    - Выбрать случаи, когда ДТП привело к любым повреждениям транспортного средства, кроме типа SCRATCH (царапина).\n",
    "    - Для моделирования ограничиться данными за 2012 год — они самые свежие.\n",
    "    - Обязательное условие — учесть фактор возраста автомобиля.\n",
    "- На основе модели исследовать основные факторы ДТП.\n",
    "- Ответить на вопросы:\n",
    "    - Возможно ли создать адекватную системы оценки водительского риска при выдаче авто?\n",
    "    - Какие ещё факторы нужно учесть?\n",
    "    - Нужно ли оборудовать автомобиль какими-либо датчиками или камерой?\n",
    "    \n",
    "В распоряжении SQL таблицы, содержащие информацию о происшествиях (collisions), участниках происшествия (parties) и автомобилях (vehicles)."
   ]
  },
  {
   "cell_type": "markdown",
   "id": "1c708e26",
   "metadata": {},
   "source": [
    "## Импорт библиотек"
   ]
  },
  {
   "cell_type": "code",
   "execution_count": 1,
   "id": "e3f0d21a",
   "metadata": {},
   "outputs": [
    {
     "name": "stdout",
     "output_type": "stream",
     "text": [
      "Requirement already satisfied: optuna in c:\\users\\js\\anaconda3\\lib\\site-packages (3.1.0)\n",
      "Requirement already satisfied: PyYAML in c:\\users\\js\\anaconda3\\lib\\site-packages (from optuna) (5.4.1)\n",
      "Requirement already satisfied: packaging>=20.0 in c:\\users\\js\\anaconda3\\lib\\site-packages (from optuna) (23.0)\n",
      "Requirement already satisfied: colorlog in c:\\users\\js\\anaconda3\\lib\\site-packages (from optuna) (6.7.0)\n",
      "Requirement already satisfied: alembic>=1.5.0 in c:\\users\\js\\anaconda3\\lib\\site-packages (from optuna) (1.10.3)\n",
      "Requirement already satisfied: numpy in c:\\users\\js\\anaconda3\\lib\\site-packages (from optuna) (1.20.1)\n",
      "Requirement already satisfied: tqdm in c:\\users\\js\\anaconda3\\lib\\site-packages (from optuna) (4.59.0)\n",
      "Requirement already satisfied: sqlalchemy>=1.3.0 in c:\\users\\js\\anaconda3\\lib\\site-packages (from optuna) (1.4.7)\n",
      "Requirement already satisfied: cmaes>=0.9.1 in c:\\users\\js\\anaconda3\\lib\\site-packages (from optuna) (0.9.1)\n",
      "Requirement already satisfied: importlib-resources in c:\\users\\js\\anaconda3\\lib\\site-packages (from alembic>=1.5.0->optuna) (5.12.0)\n",
      "Requirement already satisfied: importlib-metadata in c:\\users\\js\\anaconda3\\lib\\site-packages (from alembic>=1.5.0->optuna) (4.11.4)\n",
      "Requirement already satisfied: Mako in c:\\users\\js\\anaconda3\\lib\\site-packages (from alembic>=1.5.0->optuna) (1.2.4)\n",
      "Requirement already satisfied: typing-extensions>=4 in c:\\users\\js\\anaconda3\\lib\\site-packages (from alembic>=1.5.0->optuna) (4.5.0)\n",
      "Requirement already satisfied: greenlet!=0.4.17 in c:\\users\\js\\anaconda3\\lib\\site-packages (from sqlalchemy>=1.3.0->optuna) (1.0.0)\n",
      "Requirement already satisfied: colorama in c:\\users\\js\\anaconda3\\lib\\site-packages (from colorlog->optuna) (0.4.4)\n",
      "Requirement already satisfied: zipp>=0.5 in c:\\users\\js\\anaconda3\\lib\\site-packages (from importlib-metadata->alembic>=1.5.0->optuna) (3.4.1)\n",
      "Requirement already satisfied: MarkupSafe>=0.9.2 in c:\\users\\js\\anaconda3\\lib\\site-packages (from Mako->alembic>=1.5.0->optuna) (1.1.1)\n",
      "Note: you may need to restart the kernel to use updated packages.\n"
     ]
    }
   ],
   "source": [
    "pip install optuna"
   ]
  },
  {
   "cell_type": "code",
   "execution_count": 2,
   "id": "8fe200d3",
   "metadata": {},
   "outputs": [],
   "source": [
    "import pandas as pd\n",
    "import numpy as np\n",
    "from sqlalchemy import create_engine \n",
    "\n",
    "import seaborn as sns\n",
    "import matplotlib.pyplot as plt\n",
    "\n",
    "from sklearn.model_selection import train_test_split\n",
    "from sklearn.preprocessing import StandardScaler\n",
    "from sklearn.preprocessing import OneHotEncoder\n",
    "\n",
    "from sklearn.linear_model import LogisticRegression\n",
    "import lightgbm as lgb\n",
    "from catboost import CatBoostClassifier\n",
    "import optuna\n",
    "\n",
    "from sklearn.metrics import f1_score, confusion_matrix, roc_auc_score, roc_curve\n",
    "\n",
    "from sklearn.metrics import (precision_recall_curve, PrecisionRecallDisplay)\n",
    "from sklearn.metrics import recall_score, precision_score\n",
    "\n",
    "pd.options.mode.chained_assignment = None"
   ]
  },
  {
   "cell_type": "code",
   "execution_count": 3,
   "id": "8fcadb29",
   "metadata": {},
   "outputs": [
    {
     "name": "stdout",
     "output_type": "stream",
     "text": [
      "Requirement already satisfied: psycopg2 in c:\\users\\js\\anaconda3\\lib\\site-packages (2.9.6)\n",
      "Note: you may need to restart the kernel to use updated packages.\n"
     ]
    }
   ],
   "source": [
    "pip install psycopg2"
   ]
  },
  {
   "cell_type": "markdown",
   "id": "94a16f83",
   "metadata": {
    "ExecuteTime": {
     "end_time": "2022-05-05T04:58:05.692448Z",
     "start_time": "2022-05-05T04:58:05.688565Z"
    }
   },
   "source": [
    "## Подключение к базе данных <a id=\"1\"></a>"
   ]
  },
  {
   "cell_type": "code",
   "execution_count": 4,
   "id": "58e3a8ad",
   "metadata": {},
   "outputs": [],
   "source": [
    "db_config = {\n",
    "'user': 'praktikum_student', # имя пользователя,\n",
    "'pwd': 'Sdf4$2;d-d30pp', # пароль,\n",
    "'host': 'rc1b-wcoijxj3yxfsf3fs.mdb.yandexcloud.net',\n",
    "'port': 6432, # порт подключения,\n",
    "'db': 'data-science-vehicle-db' # название базы данных,\n",
    "} \n",
    "\n",
    "#сторока подключения к базе данных\n",
    "connection_string = 'postgresql://{}:{}@{}:{}/{}'.format(\n",
    "    db_config['user'],\n",
    "    db_config['pwd'],\n",
    "    db_config['host'],\n",
    "    db_config['port'],\n",
    "    db_config['db'],\n",
    ")\n",
    "\n",
    "engine = create_engine(connection_string) "
   ]
  },
  {
   "cell_type": "markdown",
   "id": "d19f5860",
   "metadata": {},
   "source": [
    "## Первичное исследование таблиц <a id=\"2\"></a>"
   ]
  },
  {
   "cell_type": "code",
   "execution_count": 5,
   "id": "982cc09c",
   "metadata": {},
   "outputs": [
    {
     "name": "stdout",
     "output_type": "stream",
     "text": [
      "Первые пять строк таблицы collisions:\n"
     ]
    },
    {
     "data": {
      "text/html": [
       "<div>\n",
       "<style scoped>\n",
       "    .dataframe tbody tr th:only-of-type {\n",
       "        vertical-align: middle;\n",
       "    }\n",
       "\n",
       "    .dataframe tbody tr th {\n",
       "        vertical-align: top;\n",
       "    }\n",
       "\n",
       "    .dataframe thead th {\n",
       "        text-align: right;\n",
       "    }\n",
       "</style>\n",
       "<table border=\"1\" class=\"dataframe\">\n",
       "  <thead>\n",
       "    <tr style=\"text-align: right;\">\n",
       "      <th></th>\n",
       "      <th>case_id</th>\n",
       "      <th>county_city_location</th>\n",
       "      <th>county_location</th>\n",
       "      <th>distance</th>\n",
       "      <th>direction</th>\n",
       "      <th>intersection</th>\n",
       "      <th>weather_1</th>\n",
       "      <th>location_type</th>\n",
       "      <th>collision_damage</th>\n",
       "      <th>party_count</th>\n",
       "      <th>primary_collision_factor</th>\n",
       "      <th>pcf_violation_category</th>\n",
       "      <th>type_of_collision</th>\n",
       "      <th>motor_vehicle_involved_with</th>\n",
       "      <th>road_surface</th>\n",
       "      <th>road_condition_1</th>\n",
       "      <th>lighting</th>\n",
       "      <th>control_device</th>\n",
       "      <th>collision_date</th>\n",
       "      <th>collision_time</th>\n",
       "    </tr>\n",
       "  </thead>\n",
       "  <tbody>\n",
       "    <tr>\n",
       "      <th>0</th>\n",
       "      <td>4083072</td>\n",
       "      <td>1942</td>\n",
       "      <td>los angeles</td>\n",
       "      <td>528.0</td>\n",
       "      <td>north</td>\n",
       "      <td>0.0</td>\n",
       "      <td>cloudy</td>\n",
       "      <td>highway</td>\n",
       "      <td>small damage</td>\n",
       "      <td>2</td>\n",
       "      <td>vehicle code violation</td>\n",
       "      <td>unsafe lane change</td>\n",
       "      <td>sideswipe</td>\n",
       "      <td>other motor vehicle</td>\n",
       "      <td>wet</td>\n",
       "      <td>normal</td>\n",
       "      <td>daylight</td>\n",
       "      <td>none</td>\n",
       "      <td>2009-01-22</td>\n",
       "      <td>07:25:00</td>\n",
       "    </tr>\n",
       "    <tr>\n",
       "      <th>2</th>\n",
       "      <td>4083073</td>\n",
       "      <td>0109</td>\n",
       "      <td>alameda</td>\n",
       "      <td>0.0</td>\n",
       "      <td>None</td>\n",
       "      <td>1.0</td>\n",
       "      <td>clear</td>\n",
       "      <td>None</td>\n",
       "      <td>scratch</td>\n",
       "      <td>2</td>\n",
       "      <td>vehicle code violation</td>\n",
       "      <td>improper turning</td>\n",
       "      <td>broadside</td>\n",
       "      <td>other motor vehicle</td>\n",
       "      <td>dry</td>\n",
       "      <td>normal</td>\n",
       "      <td>dark with street lights</td>\n",
       "      <td>functioning</td>\n",
       "      <td>2009-01-11</td>\n",
       "      <td>03:32:00</td>\n",
       "    </tr>\n",
       "    <tr>\n",
       "      <th>1</th>\n",
       "      <td>4083075</td>\n",
       "      <td>4313</td>\n",
       "      <td>santa clara</td>\n",
       "      <td>0.0</td>\n",
       "      <td>None</td>\n",
       "      <td>1.0</td>\n",
       "      <td>clear</td>\n",
       "      <td>None</td>\n",
       "      <td>small damage</td>\n",
       "      <td>1</td>\n",
       "      <td>vehicle code violation</td>\n",
       "      <td>improper passing</td>\n",
       "      <td>hit object</td>\n",
       "      <td>fixed object</td>\n",
       "      <td>dry</td>\n",
       "      <td>normal</td>\n",
       "      <td>dark with street lights</td>\n",
       "      <td>functioning</td>\n",
       "      <td>2009-01-03</td>\n",
       "      <td>02:26:00</td>\n",
       "    </tr>\n",
       "    <tr>\n",
       "      <th>3</th>\n",
       "      <td>4083077</td>\n",
       "      <td>0109</td>\n",
       "      <td>alameda</td>\n",
       "      <td>0.0</td>\n",
       "      <td>None</td>\n",
       "      <td>1.0</td>\n",
       "      <td>clear</td>\n",
       "      <td>None</td>\n",
       "      <td>scratch</td>\n",
       "      <td>2</td>\n",
       "      <td>vehicle code violation</td>\n",
       "      <td>automobile right of way</td>\n",
       "      <td>broadside</td>\n",
       "      <td>other motor vehicle</td>\n",
       "      <td>dry</td>\n",
       "      <td>normal</td>\n",
       "      <td>daylight</td>\n",
       "      <td>functioning</td>\n",
       "      <td>2009-01-11</td>\n",
       "      <td>10:35:00</td>\n",
       "    </tr>\n",
       "    <tr>\n",
       "      <th>4</th>\n",
       "      <td>4083087</td>\n",
       "      <td>4313</td>\n",
       "      <td>santa clara</td>\n",
       "      <td>0.0</td>\n",
       "      <td>None</td>\n",
       "      <td>1.0</td>\n",
       "      <td>clear</td>\n",
       "      <td>None</td>\n",
       "      <td>scratch</td>\n",
       "      <td>2</td>\n",
       "      <td>vehicle code violation</td>\n",
       "      <td>speeding</td>\n",
       "      <td>rear end</td>\n",
       "      <td>other motor vehicle</td>\n",
       "      <td>dry</td>\n",
       "      <td>None</td>\n",
       "      <td>dark with street lights</td>\n",
       "      <td>functioning</td>\n",
       "      <td>2009-01-02</td>\n",
       "      <td>22:43:00</td>\n",
       "    </tr>\n",
       "  </tbody>\n",
       "</table>\n",
       "</div>"
      ],
      "text/plain": [
       "   case_id county_city_location county_location  distance direction  \\\n",
       "0  4083072                 1942     los angeles     528.0     north   \n",
       "2  4083073                 0109         alameda       0.0      None   \n",
       "1  4083075                 4313     santa clara       0.0      None   \n",
       "3  4083077                 0109         alameda       0.0      None   \n",
       "4  4083087                 4313     santa clara       0.0      None   \n",
       "\n",
       "   intersection weather_1 location_type collision_damage  party_count  \\\n",
       "0           0.0    cloudy       highway     small damage            2   \n",
       "2           1.0     clear          None          scratch            2   \n",
       "1           1.0     clear          None     small damage            1   \n",
       "3           1.0     clear          None          scratch            2   \n",
       "4           1.0     clear          None          scratch            2   \n",
       "\n",
       "  primary_collision_factor   pcf_violation_category type_of_collision  \\\n",
       "0   vehicle code violation       unsafe lane change         sideswipe   \n",
       "2   vehicle code violation         improper turning         broadside   \n",
       "1   vehicle code violation         improper passing        hit object   \n",
       "3   vehicle code violation  automobile right of way         broadside   \n",
       "4   vehicle code violation                 speeding          rear end   \n",
       "\n",
       "  motor_vehicle_involved_with road_surface road_condition_1  \\\n",
       "0         other motor vehicle          wet           normal   \n",
       "2         other motor vehicle          dry           normal   \n",
       "1                fixed object          dry           normal   \n",
       "3         other motor vehicle          dry           normal   \n",
       "4         other motor vehicle          dry             None   \n",
       "\n",
       "                  lighting control_device collision_date collision_time  \n",
       "0                 daylight           none     2009-01-22       07:25:00  \n",
       "2  dark with street lights    functioning     2009-01-11       03:32:00  \n",
       "1  dark with street lights    functioning     2009-01-03       02:26:00  \n",
       "3                 daylight    functioning     2009-01-11       10:35:00  \n",
       "4  dark with street lights    functioning     2009-01-02       22:43:00  "
      ]
     },
     "metadata": {},
     "output_type": "display_data"
    },
    {
     "name": "stdout",
     "output_type": "stream",
     "text": [
      "Информация о таблице collisions:\n",
      "<class 'pandas.core.frame.DataFrame'>\n",
      "RangeIndex: 1400000 entries, 0 to 1399999\n",
      "Data columns (total 20 columns):\n",
      " #   Column                       Non-Null Count    Dtype  \n",
      "---  ------                       --------------    -----  \n",
      " 0   case_id                      1400000 non-null  object \n",
      " 1   county_city_location         1400000 non-null  object \n",
      " 2   county_location              1400000 non-null  object \n",
      " 3   distance                     1400000 non-null  float64\n",
      " 4   direction                    1059358 non-null  object \n",
      " 5   intersection                 1387781 non-null  float64\n",
      " 6   weather_1                    1392741 non-null  object \n",
      " 7   location_type                518779 non-null   object \n",
      " 8   collision_damage             1400000 non-null  object \n",
      " 9   party_count                  1400000 non-null  int64  \n",
      " 10  primary_collision_factor     1391834 non-null  object \n",
      " 11  pcf_violation_category       1372046 non-null  object \n",
      " 12  type_of_collision            1388176 non-null  object \n",
      " 13  motor_vehicle_involved_with  1393181 non-null  object \n",
      " 14  road_surface                 1386907 non-null  object \n",
      " 15  road_condition_1             1388012 non-null  object \n",
      " 16  lighting                     1391407 non-null  object \n",
      " 17  control_device               1391593 non-null  object \n",
      " 18  collision_date               1400000 non-null  object \n",
      " 19  collision_time               1387692 non-null  object \n",
      "dtypes: float64(2), int64(1), object(17)\n",
      "memory usage: 213.6+ MB\n"
     ]
    },
    {
     "data": {
      "text/plain": [
       "None"
      ]
     },
     "metadata": {},
     "output_type": "display_data"
    }
   ],
   "source": [
    "sql_query = \"\"\"\n",
    "SELECT *\n",
    "FROM collisions\n",
    "\"\"\"\n",
    "collisions = pd.read_sql_query(sql_query, con=engine)\n",
    "print('Первые пять строк таблицы collisions:')\n",
    "display(collisions.head().sort_values('case_id'))\n",
    "print('Информация о таблице collisions:')\n",
    "display(collisions.info())"
   ]
  },
  {
   "cell_type": "code",
   "execution_count": 6,
   "id": "99e1994a",
   "metadata": {},
   "outputs": [
    {
     "name": "stdout",
     "output_type": "stream",
     "text": [
      "Первые строки таблицы parties:\n"
     ]
    },
    {
     "data": {
      "text/html": [
       "<div>\n",
       "<style scoped>\n",
       "    .dataframe tbody tr th:only-of-type {\n",
       "        vertical-align: middle;\n",
       "    }\n",
       "\n",
       "    .dataframe tbody tr th {\n",
       "        vertical-align: top;\n",
       "    }\n",
       "\n",
       "    .dataframe thead th {\n",
       "        text-align: right;\n",
       "    }\n",
       "</style>\n",
       "<table border=\"1\" class=\"dataframe\">\n",
       "  <thead>\n",
       "    <tr style=\"text-align: right;\">\n",
       "      <th></th>\n",
       "      <th>id</th>\n",
       "      <th>case_id</th>\n",
       "      <th>party_number</th>\n",
       "      <th>party_type</th>\n",
       "      <th>at_fault</th>\n",
       "      <th>insurance_premium</th>\n",
       "      <th>party_sobriety</th>\n",
       "      <th>party_drug_physical</th>\n",
       "      <th>cellphone_in_use</th>\n",
       "    </tr>\n",
       "  </thead>\n",
       "  <tbody>\n",
       "    <tr>\n",
       "      <th>0</th>\n",
       "      <td>22</td>\n",
       "      <td>3899454</td>\n",
       "      <td>1</td>\n",
       "      <td>road signs</td>\n",
       "      <td>1</td>\n",
       "      <td>29.0</td>\n",
       "      <td>had not been drinking</td>\n",
       "      <td>None</td>\n",
       "      <td>0.0</td>\n",
       "    </tr>\n",
       "    <tr>\n",
       "      <th>1</th>\n",
       "      <td>23</td>\n",
       "      <td>3899454</td>\n",
       "      <td>2</td>\n",
       "      <td>road signs</td>\n",
       "      <td>0</td>\n",
       "      <td>7.0</td>\n",
       "      <td>had not been drinking</td>\n",
       "      <td>None</td>\n",
       "      <td>0.0</td>\n",
       "    </tr>\n",
       "    <tr>\n",
       "      <th>2</th>\n",
       "      <td>29</td>\n",
       "      <td>3899462</td>\n",
       "      <td>2</td>\n",
       "      <td>car</td>\n",
       "      <td>0</td>\n",
       "      <td>21.0</td>\n",
       "      <td>had not been drinking</td>\n",
       "      <td>None</td>\n",
       "      <td>0.0</td>\n",
       "    </tr>\n",
       "    <tr>\n",
       "      <th>3</th>\n",
       "      <td>31</td>\n",
       "      <td>3899465</td>\n",
       "      <td>2</td>\n",
       "      <td>road signs</td>\n",
       "      <td>0</td>\n",
       "      <td>24.0</td>\n",
       "      <td>had not been drinking</td>\n",
       "      <td>None</td>\n",
       "      <td>0.0</td>\n",
       "    </tr>\n",
       "    <tr>\n",
       "      <th>4</th>\n",
       "      <td>41</td>\n",
       "      <td>3899478</td>\n",
       "      <td>2</td>\n",
       "      <td>road bumper</td>\n",
       "      <td>0</td>\n",
       "      <td>NaN</td>\n",
       "      <td>not applicable</td>\n",
       "      <td>not applicable</td>\n",
       "      <td>0.0</td>\n",
       "    </tr>\n",
       "    <tr>\n",
       "      <th>5</th>\n",
       "      <td>43</td>\n",
       "      <td>3899481</td>\n",
       "      <td>2</td>\n",
       "      <td>road bumper</td>\n",
       "      <td>0</td>\n",
       "      <td>NaN</td>\n",
       "      <td>not applicable</td>\n",
       "      <td>not applicable</td>\n",
       "      <td>0.0</td>\n",
       "    </tr>\n",
       "    <tr>\n",
       "      <th>6</th>\n",
       "      <td>72</td>\n",
       "      <td>3899505</td>\n",
       "      <td>2</td>\n",
       "      <td>road bumper</td>\n",
       "      <td>0</td>\n",
       "      <td>NaN</td>\n",
       "      <td>not applicable</td>\n",
       "      <td>not applicable</td>\n",
       "      <td>0.0</td>\n",
       "    </tr>\n",
       "    <tr>\n",
       "      <th>7</th>\n",
       "      <td>73</td>\n",
       "      <td>3899505</td>\n",
       "      <td>3</td>\n",
       "      <td>road bumper</td>\n",
       "      <td>0</td>\n",
       "      <td>NaN</td>\n",
       "      <td>not applicable</td>\n",
       "      <td>not applicable</td>\n",
       "      <td>0.0</td>\n",
       "    </tr>\n",
       "    <tr>\n",
       "      <th>8</th>\n",
       "      <td>76</td>\n",
       "      <td>3899509</td>\n",
       "      <td>1</td>\n",
       "      <td>road bumper</td>\n",
       "      <td>0</td>\n",
       "      <td>NaN</td>\n",
       "      <td>had not been drinking</td>\n",
       "      <td>None</td>\n",
       "      <td>0.0</td>\n",
       "    </tr>\n",
       "    <tr>\n",
       "      <th>9</th>\n",
       "      <td>93</td>\n",
       "      <td>3981292</td>\n",
       "      <td>2</td>\n",
       "      <td>road bumper</td>\n",
       "      <td>0</td>\n",
       "      <td>NaN</td>\n",
       "      <td>had not been drinking</td>\n",
       "      <td>None</td>\n",
       "      <td>NaN</td>\n",
       "    </tr>\n",
       "    <tr>\n",
       "      <th>10</th>\n",
       "      <td>111</td>\n",
       "      <td>3982068</td>\n",
       "      <td>2</td>\n",
       "      <td>road bumper</td>\n",
       "      <td>0</td>\n",
       "      <td>NaN</td>\n",
       "      <td>not applicable</td>\n",
       "      <td>not applicable</td>\n",
       "      <td>0.0</td>\n",
       "    </tr>\n",
       "    <tr>\n",
       "      <th>11</th>\n",
       "      <td>126</td>\n",
       "      <td>3982887</td>\n",
       "      <td>1</td>\n",
       "      <td>None</td>\n",
       "      <td>1</td>\n",
       "      <td>NaN</td>\n",
       "      <td>impairment unknown</td>\n",
       "      <td>G</td>\n",
       "      <td>0.0</td>\n",
       "    </tr>\n",
       "    <tr>\n",
       "      <th>12</th>\n",
       "      <td>115</td>\n",
       "      <td>3982076</td>\n",
       "      <td>2</td>\n",
       "      <td>road bumper</td>\n",
       "      <td>0</td>\n",
       "      <td>NaN</td>\n",
       "      <td>None</td>\n",
       "      <td>None</td>\n",
       "      <td>NaN</td>\n",
       "    </tr>\n",
       "    <tr>\n",
       "      <th>13</th>\n",
       "      <td>135</td>\n",
       "      <td>3982892</td>\n",
       "      <td>2</td>\n",
       "      <td>road bumper</td>\n",
       "      <td>0</td>\n",
       "      <td>NaN</td>\n",
       "      <td>not applicable</td>\n",
       "      <td>not applicable</td>\n",
       "      <td>0.0</td>\n",
       "    </tr>\n",
       "    <tr>\n",
       "      <th>14</th>\n",
       "      <td>142</td>\n",
       "      <td>3982898</td>\n",
       "      <td>2</td>\n",
       "      <td>car</td>\n",
       "      <td>0</td>\n",
       "      <td>71.0</td>\n",
       "      <td>had not been drinking</td>\n",
       "      <td>None</td>\n",
       "      <td>0.0</td>\n",
       "    </tr>\n",
       "    <tr>\n",
       "      <th>15</th>\n",
       "      <td>163</td>\n",
       "      <td>3982910</td>\n",
       "      <td>1</td>\n",
       "      <td>building</td>\n",
       "      <td>1</td>\n",
       "      <td>15.0</td>\n",
       "      <td>had not been drinking</td>\n",
       "      <td>None</td>\n",
       "      <td>0.0</td>\n",
       "    </tr>\n",
       "    <tr>\n",
       "      <th>16</th>\n",
       "      <td>170</td>\n",
       "      <td>3982914</td>\n",
       "      <td>1</td>\n",
       "      <td>building</td>\n",
       "      <td>1</td>\n",
       "      <td>21.0</td>\n",
       "      <td>had not been drinking</td>\n",
       "      <td>None</td>\n",
       "      <td>1.0</td>\n",
       "    </tr>\n",
       "    <tr>\n",
       "      <th>17</th>\n",
       "      <td>171</td>\n",
       "      <td>3982914</td>\n",
       "      <td>2</td>\n",
       "      <td>car</td>\n",
       "      <td>0</td>\n",
       "      <td>43.0</td>\n",
       "      <td>had not been drinking</td>\n",
       "      <td>None</td>\n",
       "      <td>1.0</td>\n",
       "    </tr>\n",
       "    <tr>\n",
       "      <th>18</th>\n",
       "      <td>176</td>\n",
       "      <td>3982918</td>\n",
       "      <td>1</td>\n",
       "      <td>building</td>\n",
       "      <td>1</td>\n",
       "      <td>59.0</td>\n",
       "      <td>had not been drinking</td>\n",
       "      <td>None</td>\n",
       "      <td>0.0</td>\n",
       "    </tr>\n",
       "    <tr>\n",
       "      <th>19</th>\n",
       "      <td>222</td>\n",
       "      <td>3982945</td>\n",
       "      <td>1</td>\n",
       "      <td>building</td>\n",
       "      <td>1</td>\n",
       "      <td>47.0</td>\n",
       "      <td>had not been drinking</td>\n",
       "      <td>None</td>\n",
       "      <td>NaN</td>\n",
       "    </tr>\n",
       "  </tbody>\n",
       "</table>\n",
       "</div>"
      ],
      "text/plain": [
       "     id  case_id  party_number   party_type  at_fault  insurance_premium  \\\n",
       "0    22  3899454             1   road signs         1               29.0   \n",
       "1    23  3899454             2   road signs         0                7.0   \n",
       "2    29  3899462             2          car         0               21.0   \n",
       "3    31  3899465             2   road signs         0               24.0   \n",
       "4    41  3899478             2  road bumper         0                NaN   \n",
       "5    43  3899481             2  road bumper         0                NaN   \n",
       "6    72  3899505             2  road bumper         0                NaN   \n",
       "7    73  3899505             3  road bumper         0                NaN   \n",
       "8    76  3899509             1  road bumper         0                NaN   \n",
       "9    93  3981292             2  road bumper         0                NaN   \n",
       "10  111  3982068             2  road bumper         0                NaN   \n",
       "11  126  3982887             1         None         1                NaN   \n",
       "12  115  3982076             2  road bumper         0                NaN   \n",
       "13  135  3982892             2  road bumper         0                NaN   \n",
       "14  142  3982898             2          car         0               71.0   \n",
       "15  163  3982910             1     building         1               15.0   \n",
       "16  170  3982914             1     building         1               21.0   \n",
       "17  171  3982914             2          car         0               43.0   \n",
       "18  176  3982918             1     building         1               59.0   \n",
       "19  222  3982945             1     building         1               47.0   \n",
       "\n",
       "           party_sobriety party_drug_physical  cellphone_in_use  \n",
       "0   had not been drinking                None               0.0  \n",
       "1   had not been drinking                None               0.0  \n",
       "2   had not been drinking                None               0.0  \n",
       "3   had not been drinking                None               0.0  \n",
       "4          not applicable      not applicable               0.0  \n",
       "5          not applicable      not applicable               0.0  \n",
       "6          not applicable      not applicable               0.0  \n",
       "7          not applicable      not applicable               0.0  \n",
       "8   had not been drinking                None               0.0  \n",
       "9   had not been drinking                None               NaN  \n",
       "10         not applicable      not applicable               0.0  \n",
       "11     impairment unknown                   G               0.0  \n",
       "12                   None                None               NaN  \n",
       "13         not applicable      not applicable               0.0  \n",
       "14  had not been drinking                None               0.0  \n",
       "15  had not been drinking                None               0.0  \n",
       "16  had not been drinking                None               1.0  \n",
       "17  had not been drinking                None               1.0  \n",
       "18  had not been drinking                None               0.0  \n",
       "19  had not been drinking                None               NaN  "
      ]
     },
     "metadata": {},
     "output_type": "display_data"
    },
    {
     "name": "stdout",
     "output_type": "stream",
     "text": [
      "Информация о таблице parties:\n",
      "<class 'pandas.core.frame.DataFrame'>\n",
      "RangeIndex: 2752408 entries, 0 to 2752407\n",
      "Data columns (total 9 columns):\n",
      " #   Column               Dtype  \n",
      "---  ------               -----  \n",
      " 0   id                   int64  \n",
      " 1   case_id              object \n",
      " 2   party_number         int64  \n",
      " 3   party_type           object \n",
      " 4   at_fault             int64  \n",
      " 5   insurance_premium    float64\n",
      " 6   party_sobriety       object \n",
      " 7   party_drug_physical  object \n",
      " 8   cellphone_in_use     float64\n",
      "dtypes: float64(2), int64(3), object(4)\n",
      "memory usage: 189.0+ MB\n",
      "None\n"
     ]
    }
   ],
   "source": [
    "sql_query = \"\"\"\n",
    "SELECT *\n",
    "FROM parties\n",
    "\"\"\"\n",
    "parties = pd.read_sql_query(sql_query, con=engine)\n",
    "print('Первые строки таблицы parties:')\n",
    "display(parties.head(20))\n",
    "print('Информация о таблице parties:')\n",
    "print(parties.info())"
   ]
  },
  {
   "cell_type": "code",
   "execution_count": 7,
   "id": "a4fc7e7d",
   "metadata": {},
   "outputs": [
    {
     "name": "stdout",
     "output_type": "stream",
     "text": [
      "Первые пять строк таблицы vehicles:\n"
     ]
    },
    {
     "data": {
      "text/html": [
       "<div>\n",
       "<style scoped>\n",
       "    .dataframe tbody tr th:only-of-type {\n",
       "        vertical-align: middle;\n",
       "    }\n",
       "\n",
       "    .dataframe tbody tr th {\n",
       "        vertical-align: top;\n",
       "    }\n",
       "\n",
       "    .dataframe thead th {\n",
       "        text-align: right;\n",
       "    }\n",
       "</style>\n",
       "<table border=\"1\" class=\"dataframe\">\n",
       "  <thead>\n",
       "    <tr style=\"text-align: right;\">\n",
       "      <th></th>\n",
       "      <th>id</th>\n",
       "      <th>case_id</th>\n",
       "      <th>party_number</th>\n",
       "      <th>vehicle_type</th>\n",
       "      <th>vehicle_transmission</th>\n",
       "      <th>vehicle_age</th>\n",
       "    </tr>\n",
       "  </thead>\n",
       "  <tbody>\n",
       "    <tr>\n",
       "      <th>0</th>\n",
       "      <td>1175713</td>\n",
       "      <td>5305032</td>\n",
       "      <td>2</td>\n",
       "      <td>sedan</td>\n",
       "      <td>manual</td>\n",
       "      <td>3.0</td>\n",
       "    </tr>\n",
       "    <tr>\n",
       "      <th>1</th>\n",
       "      <td>1</td>\n",
       "      <td>3858022</td>\n",
       "      <td>1</td>\n",
       "      <td>sedan</td>\n",
       "      <td>auto</td>\n",
       "      <td>3.0</td>\n",
       "    </tr>\n",
       "    <tr>\n",
       "      <th>2</th>\n",
       "      <td>1175712</td>\n",
       "      <td>5305030</td>\n",
       "      <td>1</td>\n",
       "      <td>sedan</td>\n",
       "      <td>auto</td>\n",
       "      <td>3.0</td>\n",
       "    </tr>\n",
       "    <tr>\n",
       "      <th>3</th>\n",
       "      <td>1175717</td>\n",
       "      <td>5305033</td>\n",
       "      <td>3</td>\n",
       "      <td>sedan</td>\n",
       "      <td>auto</td>\n",
       "      <td>5.0</td>\n",
       "    </tr>\n",
       "    <tr>\n",
       "      <th>4</th>\n",
       "      <td>1175722</td>\n",
       "      <td>5305034</td>\n",
       "      <td>2</td>\n",
       "      <td>sedan</td>\n",
       "      <td>auto</td>\n",
       "      <td>5.0</td>\n",
       "    </tr>\n",
       "  </tbody>\n",
       "</table>\n",
       "</div>"
      ],
      "text/plain": [
       "        id  case_id  party_number vehicle_type vehicle_transmission  \\\n",
       "0  1175713  5305032             2        sedan               manual   \n",
       "1        1  3858022             1        sedan                 auto   \n",
       "2  1175712  5305030             1        sedan                 auto   \n",
       "3  1175717  5305033             3        sedan                 auto   \n",
       "4  1175722  5305034             2        sedan                 auto   \n",
       "\n",
       "   vehicle_age  \n",
       "0          3.0  \n",
       "1          3.0  \n",
       "2          3.0  \n",
       "3          5.0  \n",
       "4          5.0  "
      ]
     },
     "metadata": {},
     "output_type": "display_data"
    },
    {
     "name": "stdout",
     "output_type": "stream",
     "text": [
      "Информация о таблице vehicles:\n",
      "<class 'pandas.core.frame.DataFrame'>\n",
      "RangeIndex: 1021234 entries, 0 to 1021233\n",
      "Data columns (total 6 columns):\n",
      " #   Column                Non-Null Count    Dtype  \n",
      "---  ------                --------------    -----  \n",
      " 0   id                    1021234 non-null  int64  \n",
      " 1   case_id               1021234 non-null  object \n",
      " 2   party_number          1021234 non-null  int64  \n",
      " 3   vehicle_type          1021234 non-null  object \n",
      " 4   vehicle_transmission  997575 non-null   object \n",
      " 5   vehicle_age           996652 non-null   float64\n",
      "dtypes: float64(1), int64(2), object(3)\n",
      "memory usage: 46.7+ MB\n",
      "None\n"
     ]
    }
   ],
   "source": [
    "sql_query = \"\"\"\n",
    "SELECT *\n",
    "FROM vehicles\n",
    "\"\"\"\n",
    "vehicles = pd.read_sql_query(sql_query, con=engine)\n",
    "print('Первые пять строк таблицы vehicles:')\n",
    "display(vehicles.head())\n",
    "print('Информация о таблице vehicles:')\n",
    "print(vehicles.info())"
   ]
  },
  {
   "cell_type": "code",
   "execution_count": 8,
   "id": "a2faf863",
   "metadata": {},
   "outputs": [
    {
     "name": "stdout",
     "output_type": "stream",
     "text": [
      "Первые пять строк таблицы case_ids:\n"
     ]
    },
    {
     "data": {
      "text/html": [
       "<div>\n",
       "<style scoped>\n",
       "    .dataframe tbody tr th:only-of-type {\n",
       "        vertical-align: middle;\n",
       "    }\n",
       "\n",
       "    .dataframe tbody tr th {\n",
       "        vertical-align: top;\n",
       "    }\n",
       "\n",
       "    .dataframe thead th {\n",
       "        text-align: right;\n",
       "    }\n",
       "</style>\n",
       "<table border=\"1\" class=\"dataframe\">\n",
       "  <thead>\n",
       "    <tr style=\"text-align: right;\">\n",
       "      <th></th>\n",
       "      <th>case_id</th>\n",
       "      <th>db_year</th>\n",
       "    </tr>\n",
       "  </thead>\n",
       "  <tbody>\n",
       "    <tr>\n",
       "      <th>0</th>\n",
       "      <td>0081715</td>\n",
       "      <td>2021</td>\n",
       "    </tr>\n",
       "    <tr>\n",
       "      <th>1</th>\n",
       "      <td>0726202</td>\n",
       "      <td>2021</td>\n",
       "    </tr>\n",
       "    <tr>\n",
       "      <th>2</th>\n",
       "      <td>3858022</td>\n",
       "      <td>2021</td>\n",
       "    </tr>\n",
       "    <tr>\n",
       "      <th>3</th>\n",
       "      <td>3899441</td>\n",
       "      <td>2021</td>\n",
       "    </tr>\n",
       "    <tr>\n",
       "      <th>4</th>\n",
       "      <td>3899442</td>\n",
       "      <td>2021</td>\n",
       "    </tr>\n",
       "  </tbody>\n",
       "</table>\n",
       "</div>"
      ],
      "text/plain": [
       "   case_id db_year\n",
       "0  0081715    2021\n",
       "1  0726202    2021\n",
       "2  3858022    2021\n",
       "3  3899441    2021\n",
       "4  3899442    2021"
      ]
     },
     "metadata": {},
     "output_type": "display_data"
    },
    {
     "name": "stdout",
     "output_type": "stream",
     "text": [
      "Информация о таблице case_ids:\n",
      "<class 'pandas.core.frame.DataFrame'>\n",
      "RangeIndex: 1400000 entries, 0 to 1399999\n",
      "Data columns (total 2 columns):\n",
      " #   Column   Non-Null Count    Dtype \n",
      "---  ------   --------------    ----- \n",
      " 0   case_id  1400000 non-null  object\n",
      " 1   db_year  1400000 non-null  object\n",
      "dtypes: object(2)\n",
      "memory usage: 21.4+ MB\n",
      "None\n"
     ]
    }
   ],
   "source": [
    "sql_query = \"\"\"\n",
    "SELECT *\n",
    "FROM case_ids\n",
    "\"\"\"\n",
    "case_ids = pd.read_sql_query(sql_query, con=engine)\n",
    "print('Первые пять строк таблицы case_ids:')\n",
    "display(case_ids.head())\n",
    "print('Информация о таблице case_ids:')\n",
    "print(case_ids.info())"
   ]
  },
  {
   "cell_type": "markdown",
   "id": "3ccd6cea",
   "metadata": {},
   "source": [
    "- Все таблицы имеют набор данных;\n",
    "- Общий ключ для связи таблиц имеется (case_id);\n",
    "- Таблица case_ids отличается от того, как она описана на схеме данных. В ней 2 столбца:\n",
    "    - case_id - id проишествия\n",
    "    - db_year - год происшествия\n",
    "- Количество таблиц не соответствует условию задачи. Для построения рабочей модели необходимы данные о поездках без ДТП. В данном случае у модели будет 100 процентное смещение в строну предсказания ДТП.\n"
   ]
  },
  {
   "cell_type": "markdown",
   "id": "c85ac01a",
   "metadata": {},
   "source": [
    "##  Статистический анализ факторов ДТП <a id=\"3\"></a>"
   ]
  },
  {
   "cell_type": "markdown",
   "id": "5f6fed9e",
   "metadata": {},
   "source": [
    "Посмотрим, в какие месяцы происходит наибольшее количество аварий за весь период наблюдений."
   ]
  },
  {
   "cell_type": "code",
   "execution_count": 9,
   "id": "14859eb5",
   "metadata": {},
   "outputs": [
    {
     "data": {
      "text/html": [
       "<div>\n",
       "<style scoped>\n",
       "    .dataframe tbody tr th:only-of-type {\n",
       "        vertical-align: middle;\n",
       "    }\n",
       "\n",
       "    .dataframe tbody tr th {\n",
       "        vertical-align: top;\n",
       "    }\n",
       "\n",
       "    .dataframe thead th {\n",
       "        text-align: right;\n",
       "    }\n",
       "</style>\n",
       "<table border=\"1\" class=\"dataframe\">\n",
       "  <thead>\n",
       "    <tr style=\"text-align: right;\">\n",
       "      <th></th>\n",
       "      <th>collision_count</th>\n",
       "      <th>collision_date</th>\n",
       "    </tr>\n",
       "  </thead>\n",
       "  <tbody>\n",
       "    <tr>\n",
       "      <th>0</th>\n",
       "      <td>35062</td>\n",
       "      <td>2009-01-01</td>\n",
       "    </tr>\n",
       "    <tr>\n",
       "      <th>1</th>\n",
       "      <td>34480</td>\n",
       "      <td>2009-02-01</td>\n",
       "    </tr>\n",
       "    <tr>\n",
       "      <th>2</th>\n",
       "      <td>36648</td>\n",
       "      <td>2009-03-01</td>\n",
       "    </tr>\n",
       "    <tr>\n",
       "      <th>3</th>\n",
       "      <td>35239</td>\n",
       "      <td>2009-04-01</td>\n",
       "    </tr>\n",
       "    <tr>\n",
       "      <th>4</th>\n",
       "      <td>36916</td>\n",
       "      <td>2009-05-01</td>\n",
       "    </tr>\n",
       "  </tbody>\n",
       "</table>\n",
       "</div>"
      ],
      "text/plain": [
       "   collision_count collision_date\n",
       "0            35062     2009-01-01\n",
       "1            34480     2009-02-01\n",
       "2            36648     2009-03-01\n",
       "3            35239     2009-04-01\n",
       "4            36916     2009-05-01"
      ]
     },
     "execution_count": 9,
     "metadata": {},
     "output_type": "execute_result"
    }
   ],
   "source": [
    "sql_query = \"\"\"\n",
    "SELECT COUNT(case_id) as collision_count, date_trunc('month', collision_date)::date as collision_date\n",
    "FROM collisions\n",
    "group by date_trunc('month', collision_date)\n",
    "\"\"\"\n",
    "\n",
    "collisions_count = pd.read_sql_query(sql_query, con=engine)\n",
    "collisions_count.head()"
   ]
  },
  {
   "cell_type": "code",
   "execution_count": 10,
   "id": "cb2317f4",
   "metadata": {},
   "outputs": [
    {
     "data": {
      "image/png": "[encoded data removed]",
      "text/plain": [
       "<Figure size 720x1080 with 1 Axes>"
      ]
     },
     "metadata": {
      "needs_background": "light"
     },
     "output_type": "display_data"
    }
   ],
   "source": [
    "f, ax = plt.subplots(figsize=(10, 15))\n",
    "\n",
    "sns.barplot(data =collisions_count, \n",
    "            x='collision_count',\n",
    "            y = 'collision_date',\n",
    "            palette = ['r'],\n",
    "            alpha=0.7, label = 'Количество проишествий', ax=ax)\n",
    "ax.legend(ncol=1, loc=\"lower right\", frameon=True)\n",
    "ax.set(xlabel=\"Количество\",\n",
    "       ylabel=\"Дата\")\n",
    "\n",
    "plt.title(\"Количество проишествий по месяцам\")\n",
    "plt.show()"
   ]
  },
  {
   "cell_type": "markdown",
   "id": "3de01707",
   "metadata": {},
   "source": [
    "Начиная с января 2012 года происходит резкое падение количества проишествий, которое можно объяснить недостатком данных.\n",
    "\n",
    "У нас достаточно небольшой период наблюдений, всего 3 года, то есть по три наблюдения на каждый месяц. Обнаруживаются высокие значения в осенние месяцы (сентябрь-октябрь), вероятнее всего это связано с погодными условиями (дожди,туман)."
   ]
  },
  {
   "cell_type": "code",
   "execution_count": 11,
   "id": "1fe90470",
   "metadata": {},
   "outputs": [
    {
     "data": {
      "text/html": [
       "<div>\n",
       "<style scoped>\n",
       "    .dataframe tbody tr th:only-of-type {\n",
       "        vertical-align: middle;\n",
       "    }\n",
       "\n",
       "    .dataframe tbody tr th {\n",
       "        vertical-align: top;\n",
       "    }\n",
       "\n",
       "    .dataframe thead th {\n",
       "        text-align: right;\n",
       "    }\n",
       "</style>\n",
       "<table border=\"1\" class=\"dataframe\">\n",
       "  <thead>\n",
       "    <tr style=\"text-align: right;\">\n",
       "      <th></th>\n",
       "      <th>accidents_mean</th>\n",
       "    </tr>\n",
       "    <tr>\n",
       "      <th>accidents_date</th>\n",
       "      <th></th>\n",
       "    </tr>\n",
       "  </thead>\n",
       "  <tbody>\n",
       "    <tr>\n",
       "      <th>Январь</th>\n",
       "      <td>32975.00</td>\n",
       "    </tr>\n",
       "    <tr>\n",
       "      <th>Февраль</th>\n",
       "      <td>32187.50</td>\n",
       "    </tr>\n",
       "    <tr>\n",
       "      <th>Март</th>\n",
       "      <td>34883.50</td>\n",
       "    </tr>\n",
       "    <tr>\n",
       "      <th>Апрель</th>\n",
       "      <td>32543.75</td>\n",
       "    </tr>\n",
       "    <tr>\n",
       "      <th>Май</th>\n",
       "      <td>32579.00</td>\n",
       "    </tr>\n",
       "    <tr>\n",
       "      <th>Июнь</th>\n",
       "      <td>25005.50</td>\n",
       "    </tr>\n",
       "    <tr>\n",
       "      <th>Июль</th>\n",
       "      <td>33945.00</td>\n",
       "    </tr>\n",
       "    <tr>\n",
       "      <th>Август</th>\n",
       "      <td>34489.00</td>\n",
       "    </tr>\n",
       "    <tr>\n",
       "      <th>Сентябрь</th>\n",
       "      <td>34883.00</td>\n",
       "    </tr>\n",
       "    <tr>\n",
       "      <th>Октябрь</th>\n",
       "      <td>37311.00</td>\n",
       "    </tr>\n",
       "    <tr>\n",
       "      <th>Ноябрь</th>\n",
       "      <td>34839.00</td>\n",
       "    </tr>\n",
       "    <tr>\n",
       "      <th>Декабрь</th>\n",
       "      <td>35915.00</td>\n",
       "    </tr>\n",
       "  </tbody>\n",
       "</table>\n",
       "</div>"
      ],
      "text/plain": [
       "                accidents_mean\n",
       "accidents_date                \n",
       "Январь                32975.00\n",
       "Февраль               32187.50\n",
       "Март                  34883.50\n",
       "Апрель                32543.75\n",
       "Май                   32579.00\n",
       "Июнь                  25005.50\n",
       "Июль                  33945.00\n",
       "Август                34489.00\n",
       "Сентябрь              34883.00\n",
       "Октябрь               37311.00\n",
       "Ноябрь                34839.00\n",
       "Декабрь               35915.00"
      ]
     },
     "execution_count": 11,
     "metadata": {},
     "output_type": "execute_result"
    }
   ],
   "source": [
    "time_series = \"\"\"\n",
    "\n",
    "WITH f AS\n",
    "(SELECT CAST(DATE_TRUNC('MONTH', COLLISION_DATE) as DATE) AS date,\n",
    "       COUNT(CASE_ID)\n",
    "FROM collisions\n",
    "WHERE COLLISION_DATE BETWEEN '2009-01-01' AND '2012-06-01'\n",
    "GROUP BY CAST(DATE_TRUNC('MONTH', COLLISION_DATE) as DATE))\n",
    "\n",
    "SELECT EXTRACT(MONTH FROM date) AS accidents_date,\n",
    "       AVG(count) AS accidents_mean\n",
    "FROM f\n",
    "GROUP BY EXTRACT(MONTH FROM date);\n",
    "\"\"\"\n",
    "\n",
    "time_series = pd.read_sql_query(time_series, con = engine)\n",
    "\n",
    "month_list = {1 : 'Январь',\n",
    "              2 : 'Февраль',\n",
    "              3 : 'Март',\n",
    "              4 : 'Апрель',\n",
    "              5 : 'Май',\n",
    "              6 : 'Июнь',\n",
    "              7 : 'Июль',\n",
    "              8 : 'Август',\n",
    "              9 : 'Сентябрь',\n",
    "              10 : 'Октябрь',\n",
    "              11 : 'Ноябрь',\n",
    "              12 : 'Декабрь'} \n",
    "\n",
    "\n",
    "time_series = time_series.sort_values(by='accidents_date').reset_index(drop=True)\n",
    "time_series['accidents_date'] = time_series['accidents_date'].replace(month_list)\n",
    "time_series = time_series.set_index('accidents_date')\n",
    "time_series"
   ]
  },
  {
   "cell_type": "code",
   "execution_count": 12,
   "id": "511a4782",
   "metadata": {},
   "outputs": [
    {
     "data": {
      "image/png": "[encoded data removed]",
      "text/plain": [
       "<Figure size 1080x504 with 1 Axes>"
      ]
     },
     "metadata": {
      "needs_background": "light"
     },
     "output_type": "display_data"
    }
   ],
   "source": [
    "fig, ax = plt.subplots()\n",
    "fig.set_figwidth(15)\n",
    "fig.set_figheight(7)\n",
    "ax.plot(time_series.index, time_series['accidents_mean'])\n",
    "ax.set_title('Временной ряд ДТП', fontsize=20)\n",
    "ax.set_xlabel('Месяц проишествия')\n",
    "ax.set_ylabel('Среднее количество проишествий')\n",
    "plt.show()"
   ]
  },
  {
   "cell_type": "markdown",
   "id": "b1b63fdd",
   "metadata": {},
   "source": [
    "За период 1 января 2009 - 1 июня 2012 отмечается рост дтп в марте и октябре. Меньше всего происшествий в июне. Логично, ведь состояние дорог, видимость и эмоциональное состояние водителей в июне намного больше располагает к безопасному движению. "
   ]
  },
  {
   "cell_type": "markdown",
   "id": "d565b740",
   "metadata": {},
   "source": [
    "Для получения более подробного статистического анализа на совещание рабочей группы выносятся следующие аналитические задачи:"
   ]
  },
  {
   "cell_type": "markdown",
   "id": "1684895f",
   "metadata": {},
   "source": [
    "- Проведите анализ серьёзности повреждений транспортного средства, исходя из состояния дороги в момент ДТП (связать collisions и parties);\n",
    "- Найдите самые частые причины ДТП (таблица parties);\n",
    "- Выявите, автомобили с каким типом кузова чаще получают серьезные повреждения при ДТП (связать vehicles и collisions);\n",
    "- Найдите район, в котором произошло больше всего аварий в период с 01.01.2009 по 01.06.2012? (таблица collisions);\n",
    "- Проанализируйте зависимость серьезности ДТП от погодных факторов (таблица collisions);\n",
    "- Выявите, влияет ли трезвость участника на тип дополнительных участников дтп (связать parties и collisions);\n",
    "- Проанализируйте влияние типа местности на тип аварии (таблица collisions);\n",
    "- Выявите, влияет ли трезвость участника и его состояние на категорию нарушения (связать parties и collisions);\n",
    "- Проанализируйте влияние типа КПП на виновность участника (связать vehicles и parties). "
   ]
  },
  {
   "cell_type": "code",
   "execution_count": 13,
   "id": "e5b26486",
   "metadata": {},
   "outputs": [
    {
     "data": {
      "text/html": [
       "<div>\n",
       "<style scoped>\n",
       "    .dataframe tbody tr th:only-of-type {\n",
       "        vertical-align: middle;\n",
       "    }\n",
       "\n",
       "    .dataframe tbody tr th {\n",
       "        vertical-align: top;\n",
       "    }\n",
       "\n",
       "    .dataframe thead th {\n",
       "        text-align: right;\n",
       "    }\n",
       "</style>\n",
       "<table border=\"1\" class=\"dataframe\">\n",
       "  <thead>\n",
       "    <tr style=\"text-align: right;\">\n",
       "      <th></th>\n",
       "      <th>road_surface</th>\n",
       "      <th>collision_damage</th>\n",
       "      <th>col_count</th>\n",
       "    </tr>\n",
       "  </thead>\n",
       "  <tbody>\n",
       "    <tr>\n",
       "      <th>0</th>\n",
       "      <td>dry</td>\n",
       "      <td>fatal</td>\n",
       "      <td>9746</td>\n",
       "    </tr>\n",
       "    <tr>\n",
       "      <th>1</th>\n",
       "      <td>dry</td>\n",
       "      <td>middle damage</td>\n",
       "      <td>156935</td>\n",
       "    </tr>\n",
       "    <tr>\n",
       "      <th>2</th>\n",
       "      <td>dry</td>\n",
       "      <td>scratch</td>\n",
       "      <td>463545</td>\n",
       "    </tr>\n",
       "    <tr>\n",
       "      <th>3</th>\n",
       "      <td>dry</td>\n",
       "      <td>severe damage</td>\n",
       "      <td>490510</td>\n",
       "    </tr>\n",
       "    <tr>\n",
       "      <th>4</th>\n",
       "      <td>dry</td>\n",
       "      <td>small damage</td>\n",
       "      <td>1232957</td>\n",
       "    </tr>\n",
       "    <tr>\n",
       "      <th>5</th>\n",
       "      <td>slippery</td>\n",
       "      <td>fatal</td>\n",
       "      <td>12</td>\n",
       "    </tr>\n",
       "    <tr>\n",
       "      <th>6</th>\n",
       "      <td>slippery</td>\n",
       "      <td>middle damage</td>\n",
       "      <td>237</td>\n",
       "    </tr>\n",
       "    <tr>\n",
       "      <th>7</th>\n",
       "      <td>slippery</td>\n",
       "      <td>scratch</td>\n",
       "      <td>541</td>\n",
       "    </tr>\n",
       "    <tr>\n",
       "      <th>8</th>\n",
       "      <td>slippery</td>\n",
       "      <td>severe damage</td>\n",
       "      <td>601</td>\n",
       "    </tr>\n",
       "    <tr>\n",
       "      <th>9</th>\n",
       "      <td>slippery</td>\n",
       "      <td>small damage</td>\n",
       "      <td>1359</td>\n",
       "    </tr>\n",
       "    <tr>\n",
       "      <th>10</th>\n",
       "      <td>snowy</td>\n",
       "      <td>fatal</td>\n",
       "      <td>46</td>\n",
       "    </tr>\n",
       "    <tr>\n",
       "      <th>11</th>\n",
       "      <td>snowy</td>\n",
       "      <td>middle damage</td>\n",
       "      <td>805</td>\n",
       "    </tr>\n",
       "    <tr>\n",
       "      <th>12</th>\n",
       "      <td>snowy</td>\n",
       "      <td>scratch</td>\n",
       "      <td>2060</td>\n",
       "    </tr>\n",
       "    <tr>\n",
       "      <th>13</th>\n",
       "      <td>snowy</td>\n",
       "      <td>severe damage</td>\n",
       "      <td>2215</td>\n",
       "    </tr>\n",
       "    <tr>\n",
       "      <th>14</th>\n",
       "      <td>snowy</td>\n",
       "      <td>small damage</td>\n",
       "      <td>7175</td>\n",
       "    </tr>\n",
       "    <tr>\n",
       "      <th>15</th>\n",
       "      <td>wet</td>\n",
       "      <td>fatal</td>\n",
       "      <td>857</td>\n",
       "    </tr>\n",
       "    <tr>\n",
       "      <th>16</th>\n",
       "      <td>wet</td>\n",
       "      <td>middle damage</td>\n",
       "      <td>13900</td>\n",
       "    </tr>\n",
       "    <tr>\n",
       "      <th>17</th>\n",
       "      <td>wet</td>\n",
       "      <td>scratch</td>\n",
       "      <td>47127</td>\n",
       "    </tr>\n",
       "    <tr>\n",
       "      <th>18</th>\n",
       "      <td>wet</td>\n",
       "      <td>severe damage</td>\n",
       "      <td>49552</td>\n",
       "    </tr>\n",
       "    <tr>\n",
       "      <th>19</th>\n",
       "      <td>wet</td>\n",
       "      <td>small damage</td>\n",
       "      <td>135709</td>\n",
       "    </tr>\n",
       "    <tr>\n",
       "      <th>20</th>\n",
       "      <td>None</td>\n",
       "      <td>fatal</td>\n",
       "      <td>55</td>\n",
       "    </tr>\n",
       "    <tr>\n",
       "      <th>21</th>\n",
       "      <td>None</td>\n",
       "      <td>middle damage</td>\n",
       "      <td>1393</td>\n",
       "    </tr>\n",
       "    <tr>\n",
       "      <th>22</th>\n",
       "      <td>None</td>\n",
       "      <td>scratch</td>\n",
       "      <td>4654</td>\n",
       "    </tr>\n",
       "    <tr>\n",
       "      <th>23</th>\n",
       "      <td>None</td>\n",
       "      <td>severe damage</td>\n",
       "      <td>4880</td>\n",
       "    </tr>\n",
       "    <tr>\n",
       "      <th>24</th>\n",
       "      <td>None</td>\n",
       "      <td>small damage</td>\n",
       "      <td>12968</td>\n",
       "    </tr>\n",
       "  </tbody>\n",
       "</table>\n",
       "</div>"
      ],
      "text/plain": [
       "   road_surface collision_damage  col_count\n",
       "0           dry            fatal       9746\n",
       "1           dry    middle damage     156935\n",
       "2           dry          scratch     463545\n",
       "3           dry    severe damage     490510\n",
       "4           dry     small damage    1232957\n",
       "5      slippery            fatal         12\n",
       "6      slippery    middle damage        237\n",
       "7      slippery          scratch        541\n",
       "8      slippery    severe damage        601\n",
       "9      slippery     small damage       1359\n",
       "10        snowy            fatal         46\n",
       "11        snowy    middle damage        805\n",
       "12        snowy          scratch       2060\n",
       "13        snowy    severe damage       2215\n",
       "14        snowy     small damage       7175\n",
       "15          wet            fatal        857\n",
       "16          wet    middle damage      13900\n",
       "17          wet          scratch      47127\n",
       "18          wet    severe damage      49552\n",
       "19          wet     small damage     135709\n",
       "20         None            fatal         55\n",
       "21         None    middle damage       1393\n",
       "22         None          scratch       4654\n",
       "23         None    severe damage       4880\n",
       "24         None     small damage      12968"
      ]
     },
     "execution_count": 13,
     "metadata": {},
     "output_type": "execute_result"
    }
   ],
   "source": [
    "sql_query = '''\n",
    "select distinct road_surface, collision_damage,\n",
    "COUNT(collision_damage) over (partition by road_surface order by collision_damage) as col_count\n",
    "from collisions c \n",
    "where case_id in (select distinct case_id\n",
    "                  from parties p \n",
    "                  where party_type = 'car')\n",
    "order by road_surface, col_count'''\n",
    "\n",
    "col_with_weather = pd.read_sql_query(sql_query, con=engine)\n",
    "col_with_weather"
   ]
  },
  {
   "cell_type": "code",
   "execution_count": 14,
   "id": "a7538e89",
   "metadata": {},
   "outputs": [
    {
     "data": {
      "image/png": "[encoded data removed]",
      "text/plain": [
       "<Figure size 1080x720 with 1 Axes>"
      ]
     },
     "metadata": {
      "needs_background": "light"
     },
     "output_type": "display_data"
    }
   ],
   "source": [
    "f, ax = plt.subplots(figsize=(15, 10))\n",
    "\n",
    "sns.barplot(data =col_with_weather, \n",
    "            x='road_surface',\n",
    "            y = 'col_count',\n",
    "            hue  = 'collision_damage',\n",
    "            palette = \"Set2\",\n",
    "            alpha=0.7)\n",
    "ax.legend(ncol=1, loc=\"upper right\", frameon=True)\n",
    "ax.set(xlabel=\"Состояние дороги\",\n",
    "       ylabel=\"Количество происшествий\")\n",
    "\n",
    "plt.title(\" Анализ серьёзности повреждений транспортного средства, исходя из состояния дороги в момент ДТП\")\n",
    "plt.show()"
   ]
  },
  {
   "cell_type": "markdown",
   "id": "4fab5f93",
   "metadata": {},
   "source": [
    "Во всех группах состояния дорожного покрытия мы можем заметить крайне схожые паттерны распределения повреждений. И хотя количество проишествий на покрытиях с разным состоянием может отличаться в разы, пропорции очень схожи. Больше всего мелких повреждений, за ними идет серьезное повреждение, потом царапины, среднее повреждение и меньше всего фатальных."
   ]
  },
  {
   "cell_type": "code",
   "execution_count": 15,
   "id": "17cece0e",
   "metadata": {},
   "outputs": [
    {
     "data": {
      "text/html": [
       "<div>\n",
       "<style scoped>\n",
       "    .dataframe tbody tr th:only-of-type {\n",
       "        vertical-align: middle;\n",
       "    }\n",
       "\n",
       "    .dataframe tbody tr th {\n",
       "        vertical-align: top;\n",
       "    }\n",
       "\n",
       "    .dataframe thead th {\n",
       "        text-align: right;\n",
       "    }\n",
       "</style>\n",
       "<table border=\"1\" class=\"dataframe\">\n",
       "  <thead>\n",
       "    <tr style=\"text-align: right;\">\n",
       "      <th></th>\n",
       "      <th>collision_damage</th>\n",
       "      <th>vehicle_type</th>\n",
       "      <th>col_count</th>\n",
       "      <th>prcnt</th>\n",
       "    </tr>\n",
       "  </thead>\n",
       "  <tbody>\n",
       "    <tr>\n",
       "      <th>0</th>\n",
       "      <td>severe damage</td>\n",
       "      <td>coupe</td>\n",
       "      <td>442780</td>\n",
       "      <td>0.437932</td>\n",
       "    </tr>\n",
       "    <tr>\n",
       "      <th>1</th>\n",
       "      <td>middle damage</td>\n",
       "      <td>coupe</td>\n",
       "      <td>140402</td>\n",
       "      <td>0.138865</td>\n",
       "    </tr>\n",
       "    <tr>\n",
       "      <th>2</th>\n",
       "      <td>scratch</td>\n",
       "      <td>coupe</td>\n",
       "      <td>418973</td>\n",
       "      <td>0.414385</td>\n",
       "    </tr>\n",
       "    <tr>\n",
       "      <th>3</th>\n",
       "      <td>fatal</td>\n",
       "      <td>coupe</td>\n",
       "      <td>8916</td>\n",
       "      <td>0.008818</td>\n",
       "    </tr>\n",
       "    <tr>\n",
       "      <th>4</th>\n",
       "      <td>severe damage</td>\n",
       "      <td>hatchback</td>\n",
       "      <td>45595</td>\n",
       "      <td>0.420385</td>\n",
       "    </tr>\n",
       "    <tr>\n",
       "      <th>5</th>\n",
       "      <td>middle damage</td>\n",
       "      <td>hatchback</td>\n",
       "      <td>20362</td>\n",
       "      <td>0.187737</td>\n",
       "    </tr>\n",
       "    <tr>\n",
       "      <th>6</th>\n",
       "      <td>fatal</td>\n",
       "      <td>hatchback</td>\n",
       "      <td>2786</td>\n",
       "      <td>0.025687</td>\n",
       "    </tr>\n",
       "    <tr>\n",
       "      <th>7</th>\n",
       "      <td>scratch</td>\n",
       "      <td>hatchback</td>\n",
       "      <td>39717</td>\n",
       "      <td>0.366190</td>\n",
       "    </tr>\n",
       "    <tr>\n",
       "      <th>8</th>\n",
       "      <td>middle damage</td>\n",
       "      <td>minivan</td>\n",
       "      <td>22573</td>\n",
       "      <td>0.212981</td>\n",
       "    </tr>\n",
       "    <tr>\n",
       "      <th>9</th>\n",
       "      <td>fatal</td>\n",
       "      <td>minivan</td>\n",
       "      <td>527</td>\n",
       "      <td>0.004972</td>\n",
       "    </tr>\n",
       "    <tr>\n",
       "      <th>10</th>\n",
       "      <td>scratch</td>\n",
       "      <td>minivan</td>\n",
       "      <td>39886</td>\n",
       "      <td>0.376333</td>\n",
       "    </tr>\n",
       "    <tr>\n",
       "      <th>11</th>\n",
       "      <td>severe damage</td>\n",
       "      <td>minivan</td>\n",
       "      <td>43000</td>\n",
       "      <td>0.405714</td>\n",
       "    </tr>\n",
       "    <tr>\n",
       "      <th>12</th>\n",
       "      <td>severe damage</td>\n",
       "      <td>other</td>\n",
       "      <td>1194</td>\n",
       "      <td>0.435290</td>\n",
       "    </tr>\n",
       "    <tr>\n",
       "      <th>13</th>\n",
       "      <td>fatal</td>\n",
       "      <td>other</td>\n",
       "      <td>22</td>\n",
       "      <td>0.008020</td>\n",
       "    </tr>\n",
       "    <tr>\n",
       "      <th>14</th>\n",
       "      <td>scratch</td>\n",
       "      <td>other</td>\n",
       "      <td>1069</td>\n",
       "      <td>0.389719</td>\n",
       "    </tr>\n",
       "    <tr>\n",
       "      <th>15</th>\n",
       "      <td>middle damage</td>\n",
       "      <td>other</td>\n",
       "      <td>458</td>\n",
       "      <td>0.166970</td>\n",
       "    </tr>\n",
       "    <tr>\n",
       "      <th>16</th>\n",
       "      <td>scratch</td>\n",
       "      <td>sedan</td>\n",
       "      <td>197080</td>\n",
       "      <td>0.208163</td>\n",
       "    </tr>\n",
       "    <tr>\n",
       "      <th>17</th>\n",
       "      <td>fatal</td>\n",
       "      <td>sedan</td>\n",
       "      <td>2892</td>\n",
       "      <td>0.003055</td>\n",
       "    </tr>\n",
       "    <tr>\n",
       "      <th>18</th>\n",
       "      <td>middle damage</td>\n",
       "      <td>sedan</td>\n",
       "      <td>52871</td>\n",
       "      <td>0.055844</td>\n",
       "    </tr>\n",
       "    <tr>\n",
       "      <th>19</th>\n",
       "      <td>small damage</td>\n",
       "      <td>sedan</td>\n",
       "      <td>488665</td>\n",
       "      <td>0.516145</td>\n",
       "    </tr>\n",
       "    <tr>\n",
       "      <th>20</th>\n",
       "      <td>severe damage</td>\n",
       "      <td>sedan</td>\n",
       "      <td>205252</td>\n",
       "      <td>0.216794</td>\n",
       "    </tr>\n",
       "  </tbody>\n",
       "</table>\n",
       "</div>"
      ],
      "text/plain": [
       "   collision_damage vehicle_type  col_count     prcnt\n",
       "0     severe damage        coupe     442780  0.437932\n",
       "1     middle damage        coupe     140402  0.138865\n",
       "2           scratch        coupe     418973  0.414385\n",
       "3             fatal        coupe       8916  0.008818\n",
       "4     severe damage    hatchback      45595  0.420385\n",
       "5     middle damage    hatchback      20362  0.187737\n",
       "6             fatal    hatchback       2786  0.025687\n",
       "7           scratch    hatchback      39717  0.366190\n",
       "8     middle damage      minivan      22573  0.212981\n",
       "9             fatal      minivan        527  0.004972\n",
       "10          scratch      minivan      39886  0.376333\n",
       "11    severe damage      minivan      43000  0.405714\n",
       "12    severe damage        other       1194  0.435290\n",
       "13            fatal        other         22  0.008020\n",
       "14          scratch        other       1069  0.389719\n",
       "15    middle damage        other        458  0.166970\n",
       "16          scratch        sedan     197080  0.208163\n",
       "17            fatal        sedan       2892  0.003055\n",
       "18    middle damage        sedan      52871  0.055844\n",
       "19     small damage        sedan     488665  0.516145\n",
       "20    severe damage        sedan     205252  0.216794"
      ]
     },
     "execution_count": 15,
     "metadata": {},
     "output_type": "execute_result"
    }
   ],
   "source": [
    "sql_query = '''\n",
    "select *,\n",
    "col_count/SUM(col_count) over (partition by vehicle_type) as prcnt\n",
    "from (\n",
    "select distinct collision_damage, vehicle_type,\n",
    "count(collision_damage) over(partition by vehicle_type order by collision_damage) as col_count\n",
    "from\n",
    "(select case_id , collision_damage \n",
    "from collisions) c \n",
    "join\n",
    "(select case_id, vehicle_type\n",
    "from vehicles) v  on c.case_id = v.case_id) t\n",
    "'''\n",
    "\n",
    "car_crash = pd.read_sql_query(sql_query, con=engine)\n",
    "\n",
    "car_crash = car_crash.fillna('unknown')\n",
    "car_crash"
   ]
  },
  {
   "cell_type": "code",
   "execution_count": 16,
   "id": "c5bab157",
   "metadata": {},
   "outputs": [
    {
     "data": {
      "image/png": "[encoded data removed]",
      "text/plain": [
       "<Figure size 1080x576 with 1 Axes>"
      ]
     },
     "metadata": {
      "needs_background": "light"
     },
     "output_type": "display_data"
    }
   ],
   "source": [
    "f, ax = plt.subplots(figsize=(15, 8))\n",
    "\n",
    "\n",
    "sns.barplot(data =car_crash, \n",
    "            x='vehicle_type',\n",
    "            y = 'col_count',\n",
    "            hue  = 'collision_damage',\n",
    "            palette = \"Set2\",\n",
    "            alpha=0.7)\n",
    "ax.legend(ncol=1, loc=\"upper right\", frameon=True)\n",
    "ax.set(xlabel=\"Тип кузова\",\n",
    "       ylabel=\"Количество происшествий\")\n",
    "\n",
    "plt.title(\"Автомобили с каким типом кузова чаще получают серьезные повреждения при ДТП\")\n",
    "plt.show()"
   ]
  },
  {
   "cell_type": "markdown",
   "id": "e97b27f4",
   "metadata": {},
   "source": [
    "В количественном отношении во всех категориях кроме легких повреждений лидируют машины с типом кузова купе. Посмотрим в процентном соотношении."
   ]
  },
  {
   "cell_type": "code",
   "execution_count": 17,
   "id": "660d8cab",
   "metadata": {},
   "outputs": [
    {
     "data": {
      "image/png": "[encoded data removed]",
      "text/plain": [
       "<Figure size 1080x576 with 1 Axes>"
      ]
     },
     "metadata": {
      "needs_background": "light"
     },
     "output_type": "display_data"
    }
   ],
   "source": [
    "f, ax = plt.subplots(figsize=(15, 8))\n",
    "\n",
    "sns.barplot(data =car_crash, \n",
    "            x='vehicle_type',\n",
    "            y = 'prcnt',\n",
    "            hue  = 'collision_damage',\n",
    "            palette = \"Set2\",\n",
    "            alpha=0.7)\n",
    "ax.legend(ncol=1, loc=\"upper right\", frameon=True)\n",
    "ax.set(xlabel=\"Тип кузова\",\n",
    "       ylabel=\"Количество происшествий\")\n",
    "\n",
    "plt.title(\"Автомобили с каким типом кузова чаще получают серьезные повреждения при ДТП\")\n",
    "plt.show()\n"
   ]
  },
  {
   "cell_type": "markdown",
   "id": "11bac441",
   "metadata": {},
   "source": [
    "В категории серьезные повреждения и царапины все еще лидируют Купе. В категории средние повреждения лидируют Минивены, а в категории не подлежит восстановлению - лидер Хачбек. В категории кузова Седан вероятно имеются аномалии и рассматривать ее в данной статистике не представляется возможным."
   ]
  },
  {
   "cell_type": "code",
   "execution_count": 18,
   "id": "83548a3b",
   "metadata": {},
   "outputs": [],
   "source": [
    "sql_query = '''\n",
    "\n",
    "SELECT v.vehicle_age,\n",
    "       p.at_fault\n",
    "FROM parties AS p\n",
    "INNER JOIN vehicles AS v ON p.case_id = v.case_id and p.party_number = v.party_number\n",
    "\n",
    "'''\n",
    "\n",
    "vehicle_age = pd.read_sql_query(sql_query, con = engine)"
   ]
  },
  {
   "cell_type": "code",
   "execution_count": 19,
   "id": "ec8f694f",
   "metadata": {},
   "outputs": [
    {
     "data": {
      "image/png": "[encoded data removed]",
      "text/plain": [
       "<Figure size 864x720 with 1 Axes>"
      ]
     },
     "metadata": {
      "needs_background": "light"
     },
     "output_type": "display_data"
    }
   ],
   "source": [
    "plt.figure(figsize = (12, 10))\n",
    "sns.violinplot(\n",
    "    x = vehicle_age.at_fault,\n",
    "    y = vehicle_age.vehicle_age,\n",
    "    kind = \"violin\",\n",
    "    split = True,\n",
    "    palette = \"coolwarm\"\n",
    ")\n",
    "plt.title(\"Влияние возраста автомобиля на виновность водителя в дтп\")\n",
    "plt.show()"
   ]
  },
  {
   "cell_type": "markdown",
   "id": "41b5ca02",
   "metadata": {},
   "source": [
    "**Вывод**: графики возраста автомобиля абсолютно идентичны с двух сторон, этот параметр никак не влияет на виновность человека в проишествии."
   ]
  },
  {
   "cell_type": "markdown",
   "id": "640b5bef",
   "metadata": {},
   "source": [
    "## Создание датафрейма для решения задачи <a id=\"4\"></a>"
   ]
  },
  {
   "cell_type": "markdown",
   "id": "198b7418",
   "metadata": {},
   "source": [
    "Подготовим предварительный набор данных на основе предположения заказчика."
   ]
  },
  {
   "cell_type": "code",
   "execution_count": 20,
   "id": "f812e965",
   "metadata": {},
   "outputs": [
    {
     "data": {
      "text/html": [
       "<div>\n",
       "<style scoped>\n",
       "    .dataframe tbody tr th:only-of-type {\n",
       "        vertical-align: middle;\n",
       "    }\n",
       "\n",
       "    .dataframe tbody tr th {\n",
       "        vertical-align: top;\n",
       "    }\n",
       "\n",
       "    .dataframe thead th {\n",
       "        text-align: right;\n",
       "    }\n",
       "</style>\n",
       "<table border=\"1\" class=\"dataframe\">\n",
       "  <thead>\n",
       "    <tr style=\"text-align: right;\">\n",
       "      <th></th>\n",
       "      <th>vehicle_type</th>\n",
       "      <th>vehicle_transmission</th>\n",
       "      <th>vehicle_age</th>\n",
       "      <th>county_city_location</th>\n",
       "      <th>county_location</th>\n",
       "      <th>distance</th>\n",
       "      <th>direction</th>\n",
       "      <th>intersection</th>\n",
       "      <th>weather_1</th>\n",
       "      <th>location_type</th>\n",
       "      <th>...</th>\n",
       "      <th>lighting</th>\n",
       "      <th>control_device</th>\n",
       "      <th>collision_date</th>\n",
       "      <th>collision_time</th>\n",
       "      <th>party_type</th>\n",
       "      <th>insurance_premium</th>\n",
       "      <th>party_sobriety</th>\n",
       "      <th>party_drug_physical</th>\n",
       "      <th>cellphone_in_use</th>\n",
       "      <th>at_fault</th>\n",
       "    </tr>\n",
       "  </thead>\n",
       "  <tbody>\n",
       "    <tr>\n",
       "      <th>0</th>\n",
       "      <td>sedan</td>\n",
       "      <td>auto</td>\n",
       "      <td>2.0</td>\n",
       "      <td>1942</td>\n",
       "      <td>los angeles</td>\n",
       "      <td>20.0</td>\n",
       "      <td>south</td>\n",
       "      <td>0.0</td>\n",
       "      <td>clear</td>\n",
       "      <td>None</td>\n",
       "      <td>...</td>\n",
       "      <td>daylight</td>\n",
       "      <td>functioning</td>\n",
       "      <td>2012-04-15</td>\n",
       "      <td>17:05:00</td>\n",
       "      <td>car</td>\n",
       "      <td>46.0</td>\n",
       "      <td>had not been drinking</td>\n",
       "      <td>None</td>\n",
       "      <td>0.0</td>\n",
       "      <td>0</td>\n",
       "    </tr>\n",
       "    <tr>\n",
       "      <th>1</th>\n",
       "      <td>sedan</td>\n",
       "      <td>auto</td>\n",
       "      <td>10.0</td>\n",
       "      <td>1942</td>\n",
       "      <td>los angeles</td>\n",
       "      <td>450.0</td>\n",
       "      <td>east</td>\n",
       "      <td>0.0</td>\n",
       "      <td>clear</td>\n",
       "      <td>highway</td>\n",
       "      <td>...</td>\n",
       "      <td>daylight</td>\n",
       "      <td>none</td>\n",
       "      <td>2012-04-18</td>\n",
       "      <td>17:15:00</td>\n",
       "      <td>car</td>\n",
       "      <td>52.0</td>\n",
       "      <td>had not been drinking</td>\n",
       "      <td>None</td>\n",
       "      <td>0.0</td>\n",
       "      <td>0</td>\n",
       "    </tr>\n",
       "    <tr>\n",
       "      <th>2</th>\n",
       "      <td>sedan</td>\n",
       "      <td>auto</td>\n",
       "      <td>6.0</td>\n",
       "      <td>1900</td>\n",
       "      <td>los angeles</td>\n",
       "      <td>0.0</td>\n",
       "      <td>None</td>\n",
       "      <td>1.0</td>\n",
       "      <td>clear</td>\n",
       "      <td>None</td>\n",
       "      <td>...</td>\n",
       "      <td>daylight</td>\n",
       "      <td>functioning</td>\n",
       "      <td>2012-04-23</td>\n",
       "      <td>09:05:00</td>\n",
       "      <td>car</td>\n",
       "      <td>16.0</td>\n",
       "      <td>had not been drinking</td>\n",
       "      <td>None</td>\n",
       "      <td>0.0</td>\n",
       "      <td>0</td>\n",
       "    </tr>\n",
       "    <tr>\n",
       "      <th>3</th>\n",
       "      <td>sedan</td>\n",
       "      <td>auto</td>\n",
       "      <td>11.0</td>\n",
       "      <td>3001</td>\n",
       "      <td>orange</td>\n",
       "      <td>175.0</td>\n",
       "      <td>west</td>\n",
       "      <td>0.0</td>\n",
       "      <td>clear</td>\n",
       "      <td>ramp</td>\n",
       "      <td>...</td>\n",
       "      <td>daylight</td>\n",
       "      <td>functioning</td>\n",
       "      <td>2012-04-29</td>\n",
       "      <td>18:22:00</td>\n",
       "      <td>car</td>\n",
       "      <td>71.0</td>\n",
       "      <td>had not been drinking</td>\n",
       "      <td>None</td>\n",
       "      <td>0.0</td>\n",
       "      <td>0</td>\n",
       "    </tr>\n",
       "    <tr>\n",
       "      <th>4</th>\n",
       "      <td>sedan</td>\n",
       "      <td>auto</td>\n",
       "      <td>3.0</td>\n",
       "      <td>3015</td>\n",
       "      <td>orange</td>\n",
       "      <td>113.0</td>\n",
       "      <td>north</td>\n",
       "      <td>0.0</td>\n",
       "      <td>clear</td>\n",
       "      <td>None</td>\n",
       "      <td>...</td>\n",
       "      <td>dark with street lights</td>\n",
       "      <td>functioning</td>\n",
       "      <td>2012-05-17</td>\n",
       "      <td>20:15:00</td>\n",
       "      <td>car</td>\n",
       "      <td>21.0</td>\n",
       "      <td>not applicable</td>\n",
       "      <td>not applicable</td>\n",
       "      <td>0.0</td>\n",
       "      <td>0</td>\n",
       "    </tr>\n",
       "  </tbody>\n",
       "</table>\n",
       "<p>5 rows × 28 columns</p>\n",
       "</div>"
      ],
      "text/plain": [
       "  vehicle_type vehicle_transmission  vehicle_age county_city_location  \\\n",
       "0        sedan                 auto          2.0                 1942   \n",
       "1        sedan                 auto         10.0                 1942   \n",
       "2        sedan                 auto          6.0                 1900   \n",
       "3        sedan                 auto         11.0                 3001   \n",
       "4        sedan                 auto          3.0                 3015   \n",
       "\n",
       "  county_location  distance direction  intersection weather_1 location_type  \\\n",
       "0     los angeles      20.0     south           0.0     clear          None   \n",
       "1     los angeles     450.0      east           0.0     clear       highway   \n",
       "2     los angeles       0.0      None           1.0     clear          None   \n",
       "3          orange     175.0      west           0.0     clear          ramp   \n",
       "4          orange     113.0     north           0.0     clear          None   \n",
       "\n",
       "   ...                 lighting  control_device collision_date collision_time  \\\n",
       "0  ...                 daylight     functioning     2012-04-15       17:05:00   \n",
       "1  ...                 daylight            none     2012-04-18       17:15:00   \n",
       "2  ...                 daylight     functioning     2012-04-23       09:05:00   \n",
       "3  ...                 daylight     functioning     2012-04-29       18:22:00   \n",
       "4  ...  dark with street lights     functioning     2012-05-17       20:15:00   \n",
       "\n",
       "  party_type insurance_premium         party_sobriety party_drug_physical  \\\n",
       "0        car              46.0  had not been drinking                None   \n",
       "1        car              52.0  had not been drinking                None   \n",
       "2        car              16.0  had not been drinking                None   \n",
       "3        car              71.0  had not been drinking                None   \n",
       "4        car              21.0         not applicable      not applicable   \n",
       "\n",
       "  cellphone_in_use at_fault  \n",
       "0              0.0        0  \n",
       "1              0.0        0  \n",
       "2              0.0        0  \n",
       "3              0.0        0  \n",
       "4              0.0        0  \n",
       "\n",
       "[5 rows x 28 columns]"
      ]
     },
     "execution_count": 20,
     "metadata": {},
     "output_type": "execute_result"
    }
   ],
   "source": [
    "sql_query = '''\n",
    "\n",
    "SELECT \n",
    "       v.vehicle_type,\n",
    "       v.vehicle_transmission,\n",
    "       v.vehicle_age,\n",
    "       c.county_city_location,\n",
    "       c.county_location,\n",
    "       c.distance,\n",
    "       c.direction,\n",
    "       c.intersection,\n",
    "       c.weather_1,\n",
    "       c.location_type,\n",
    "       c.collision_damage,\n",
    "       c.party_count,\n",
    "       c.primary_collision_factor,\n",
    "       c.pcf_violation_category,\n",
    "       c.type_of_collision,\n",
    "       c.motor_vehicle_involved_with,\n",
    "       c.road_surface,\n",
    "       c.road_condition_1,\n",
    "       c.lighting,\n",
    "       c.control_device,\n",
    "       c.collision_date,\n",
    "       c.collision_time,\n",
    "       p.party_type,\n",
    "       p.insurance_premium,\n",
    "       p.party_sobriety,\n",
    "       p.party_drug_physical,\n",
    "       p.cellphone_in_use,\n",
    "       p.at_fault\n",
    "FROM case_ids AS ci\n",
    "INNER JOIN collisions AS c ON ci.CASE_ID = c.CASE_ID\n",
    "INNER JOIN vehicles AS v ON c.CASE_ID = v.CASE_ID \n",
    "INNER JOIN parties AS p ON v.CASE_ID = p.CASE_ID and v.PARTY_NUMBER = p.PARTY_NUMBER\n",
    "WHERE p.PARTY_TYPE = 'car' AND c.COLLISION_DAMAGE != 'SCRATCH' AND EXTRACT(YEAR FROM c.COLLISION_DATE) = 2012;\n",
    "\n",
    "'''\n",
    "\n",
    "df = pd.read_sql_query(sql_query, con=engine)\n",
    "df.head()"
   ]
  },
  {
   "cell_type": "code",
   "execution_count": 21,
   "id": "683095af",
   "metadata": {},
   "outputs": [
    {
     "name": "stdout",
     "output_type": "stream",
     "text": [
      "<class 'pandas.core.frame.DataFrame'>\n",
      "RangeIndex: 103267 entries, 0 to 103266\n",
      "Data columns (total 28 columns):\n",
      " #   Column                       Non-Null Count   Dtype  \n",
      "---  ------                       --------------   -----  \n",
      " 0   vehicle_type                 103267 non-null  object \n",
      " 1   vehicle_transmission         101309 non-null  object \n",
      " 2   vehicle_age                  100606 non-null  float64\n",
      " 3   county_city_location         103267 non-null  object \n",
      " 4   county_location              103267 non-null  object \n",
      " 5   distance                     103267 non-null  float64\n",
      " 6   direction                    75818 non-null   object \n",
      " 7   intersection                 102918 non-null  float64\n",
      " 8   weather_1                    102962 non-null  object \n",
      " 9   location_type                43323 non-null   object \n",
      " 10  collision_damage             103267 non-null  object \n",
      " 11  party_count                  103267 non-null  int64  \n",
      " 12  primary_collision_factor     102992 non-null  object \n",
      " 13  pcf_violation_category       101786 non-null  object \n",
      " 14  type_of_collision            102672 non-null  object \n",
      " 15  motor_vehicle_involved_with  102926 non-null  object \n",
      " 16  road_surface                 102484 non-null  object \n",
      " 17  road_condition_1             102722 non-null  object \n",
      " 18  lighting                     102934 non-null  object \n",
      " 19  control_device               102791 non-null  object \n",
      " 20  collision_date               103267 non-null  object \n",
      " 21  collision_time               103157 non-null  object \n",
      " 22  party_type                   103267 non-null  object \n",
      " 23  insurance_premium            102471 non-null  float64\n",
      " 24  party_sobriety               101673 non-null  object \n",
      " 25  party_drug_physical          4340 non-null    object \n",
      " 26  cellphone_in_use             93264 non-null   float64\n",
      " 27  at_fault                     103267 non-null  int64  \n",
      "dtypes: float64(5), int64(2), object(21)\n",
      "memory usage: 22.1+ MB\n"
     ]
    }
   ],
   "source": [
    "df.info()"
   ]
  },
  {
   "cell_type": "code",
   "execution_count": 22,
   "id": "db445bf4",
   "metadata": {},
   "outputs": [
    {
     "data": {
      "text/plain": [
       "vehicle_type                       0\n",
       "vehicle_transmission            1958\n",
       "vehicle_age                     2661\n",
       "county_city_location               0\n",
       "county_location                    0\n",
       "distance                           0\n",
       "direction                      27449\n",
       "intersection                     349\n",
       "weather_1                        305\n",
       "location_type                  59944\n",
       "collision_damage                   0\n",
       "party_count                        0\n",
       "primary_collision_factor         275\n",
       "pcf_violation_category          1481\n",
       "type_of_collision                595\n",
       "motor_vehicle_involved_with      341\n",
       "road_surface                     783\n",
       "road_condition_1                 545\n",
       "lighting                         333\n",
       "control_device                   476\n",
       "collision_date                     0\n",
       "collision_time                   110\n",
       "party_type                         0\n",
       "insurance_premium                796\n",
       "party_sobriety                  1594\n",
       "party_drug_physical            98927\n",
       "cellphone_in_use               10003\n",
       "at_fault                           0\n",
       "dtype: int64"
      ]
     },
     "execution_count": 22,
     "metadata": {},
     "output_type": "execute_result"
    }
   ],
   "source": [
    "df.isna().sum()"
   ]
  },
  {
   "cell_type": "code",
   "execution_count": 23,
   "id": "f46408e9",
   "metadata": {},
   "outputs": [
    {
     "data": {
      "text/plain": [
       "0    0.553294\n",
       "1    0.446706\n",
       "Name: at_fault, dtype: float64"
      ]
     },
     "execution_count": 23,
     "metadata": {},
     "output_type": "execute_result"
    }
   ],
   "source": [
    "df.at_fault.value_counts(normalize = True)"
   ]
  },
  {
   "cell_type": "markdown",
   "id": "53ce182f",
   "metadata": {},
   "source": [
    "- Имеем 26 признаков, at_fault - целевой.\n",
    "- В большинстве столбцов обнаружены пропуски.\n",
    "- Присутствует дисбаланс классов. Класса 0 больше чем класса 1, но разница не критична."
   ]
  },
  {
   "cell_type": "markdown",
   "id": "78df54c2",
   "metadata": {},
   "source": [
    "## Предобработка данных <a id=\"5\"></a>"
   ]
  },
  {
   "cell_type": "markdown",
   "id": "55e352b7",
   "metadata": {},
   "source": [
    "Почти каждый признак нуждается в предобработке, рассмотрим их по порядку."
   ]
  },
  {
   "cell_type": "code",
   "execution_count": 24,
   "id": "4027450c",
   "metadata": {},
   "outputs": [],
   "source": [
    "df_orig = df.copy()"
   ]
  },
  {
   "cell_type": "code",
   "execution_count": 25,
   "id": "88509b9b",
   "metadata": {},
   "outputs": [
    {
     "data": {
      "text/plain": [
       "sedan    52350\n",
       "coupe    50895\n",
       "other       22\n",
       "Name: vehicle_type, dtype: int64"
      ]
     },
     "execution_count": 25,
     "metadata": {},
     "output_type": "execute_result"
    }
   ],
   "source": [
    "df.vehicle_type.value_counts()"
   ]
  },
  {
   "cell_type": "markdown",
   "id": "26b17129",
   "metadata": {},
   "source": [
    "Other - очень маленькое количество. Вероятно надо его исключить."
   ]
  },
  {
   "cell_type": "code",
   "execution_count": 26,
   "id": "db86d675",
   "metadata": {},
   "outputs": [],
   "source": [
    "df = df.drop(df[df['vehicle_type'] == 'other'].index)\n",
    "df['vehicle_type'] = df['vehicle_type'].astype('category')"
   ]
  },
  {
   "cell_type": "code",
   "execution_count": 27,
   "id": "cfa9a03d",
   "metadata": {},
   "outputs": [
    {
     "data": {
      "text/plain": [
       "0    17:05:00\n",
       "1    17:15:00\n",
       "2    09:05:00\n",
       "3    18:22:00\n",
       "4    20:15:00\n",
       "Name: collision_time, dtype: object"
      ]
     },
     "execution_count": 27,
     "metadata": {},
     "output_type": "execute_result"
    }
   ],
   "source": [
    "df['collision_time'].head()"
   ]
  },
  {
   "cell_type": "markdown",
   "id": "4fec3216",
   "metadata": {},
   "source": [
    "Состояние водителя зависит от времени суток, оставим признак, но только часы."
   ]
  },
  {
   "cell_type": "code",
   "execution_count": 28,
   "id": "7a76b012",
   "metadata": {},
   "outputs": [
    {
     "data": {
      "text/plain": [
       "15    9014\n",
       "17    8265\n",
       "16    7815\n",
       "14    7529\n",
       "18    7176\n",
       "13    6623\n",
       "12    6295\n",
       "8     5388\n",
       "11    5316\n",
       "7     5284\n",
       "19    4504\n",
       "10    4405\n",
       "9     4206\n",
       "20    3589\n",
       "21    3152\n",
       "22    2555\n",
       "6     2229\n",
       "23    2059\n",
       "2     1592\n",
       "1     1584\n",
       "0     1541\n",
       "5     1228\n",
       "3      999\n",
       "4      787\n",
       "Name: collision_time, dtype: int64"
      ]
     },
     "execution_count": 28,
     "metadata": {},
     "output_type": "execute_result"
    }
   ],
   "source": [
    "df = df.drop(df[df['collision_time'].isna()].index)\n",
    "df['collision_time'] = df['collision_time'].apply(lambda x: x.hour)\n",
    "df['collision_time'].value_counts()"
   ]
  },
  {
   "cell_type": "code",
   "execution_count": 29,
   "id": "fcf4e1e1",
   "metadata": {},
   "outputs": [],
   "source": [
    "df['collision_time'] = df['collision_time'].astype('category')"
   ]
  },
  {
   "cell_type": "markdown",
   "id": "31eff869",
   "metadata": {},
   "source": [
    "Cтолбец collision_date важен, сложность вождения имеет зависимость от времени года, но в периоде, который мы рассматриваем у нас есть данные только по 5 месяцам. Алгоритм может переобучиться на этих месяцах и другие предсказывать хуже. В таком разрезе столбец нам не подходит, но из него можно извлечь информацию о дне недели. "
   ]
  },
  {
   "cell_type": "code",
   "execution_count": 30,
   "id": "b989d595",
   "metadata": {},
   "outputs": [
    {
     "data": {
      "text/plain": [
       "4    17140\n",
       "5    15435\n",
       "2    14780\n",
       "3    14703\n",
       "1    14524\n",
       "0    13534\n",
       "6    13019\n",
       "Name: collision_date, dtype: int64"
      ]
     },
     "execution_count": 30,
     "metadata": {},
     "output_type": "execute_result"
    }
   ],
   "source": [
    "df['collision_date'] = df['collision_date'].apply(lambda x: x.weekday())\n",
    "df['collision_date'].value_counts()"
   ]
  },
  {
   "cell_type": "code",
   "execution_count": 31,
   "id": "ee3eea6c",
   "metadata": {},
   "outputs": [],
   "source": [
    "df['collision_date'] = df['collision_date'].astype('category')"
   ]
  },
  {
   "cell_type": "code",
   "execution_count": 32,
   "id": "c4ffad30",
   "metadata": {},
   "outputs": [
    {
     "data": {
      "text/plain": [
       "none               63814\n",
       "functioning        38534\n",
       "not functioning      250\n",
       "obscured              63\n",
       "Name: control_device, dtype: int64"
      ]
     },
     "execution_count": 32,
     "metadata": {},
     "output_type": "execute_result"
    }
   ],
   "source": [
    "df['control_device'].value_counts()"
   ]
  },
  {
   "cell_type": "markdown",
   "id": "3d95a298",
   "metadata": {},
   "source": [
    "not functioning и obscured - очень малое количество. Заменим на значение 'none'."
   ]
  },
  {
   "cell_type": "code",
   "execution_count": 33,
   "id": "e5b1597a",
   "metadata": {},
   "outputs": [
    {
     "data": {
      "text/plain": [
       "none           64127\n",
       "functioning    38534\n",
       "Name: control_device, dtype: int64"
      ]
     },
     "execution_count": 33,
     "metadata": {},
     "output_type": "execute_result"
    }
   ],
   "source": [
    "control_device_map = {\n",
    "    'not functioning': 'none',\n",
    "    'obscured':'none'\n",
    "}\n",
    "\n",
    "df['control_device'] = df['control_device'].apply(lambda x: control_device_map[x] if x in control_device_map else x)\n",
    "df['control_device'].value_counts()"
   ]
  },
  {
   "cell_type": "code",
   "execution_count": 34,
   "id": "294cd504",
   "metadata": {},
   "outputs": [],
   "source": [
    "df = df.drop(df[df['control_device'].isna()].index)\n",
    "df['control_device'] = df['control_device'].astype('category')"
   ]
  },
  {
   "cell_type": "code",
   "execution_count": 35,
   "id": "5261b94f",
   "metadata": {},
   "outputs": [
    {
     "data": {
      "text/plain": [
       "daylight                                   72091\n",
       "dark with street lights                    19407\n",
       "dark with no street lights                  7412\n",
       "dusk or dawn                                3260\n",
       "dark with street lights not functioning      220\n",
       "Name: lighting, dtype: int64"
      ]
     },
     "execution_count": 35,
     "metadata": {},
     "output_type": "execute_result"
    }
   ],
   "source": [
    "df['lighting'].value_counts()"
   ]
  },
  {
   "cell_type": "markdown",
   "id": "8cf15218",
   "metadata": {},
   "source": [
    "dark with street lights not functioning очень небольшая категория, можно объединить с dark with no street lights. "
   ]
  },
  {
   "cell_type": "code",
   "execution_count": 36,
   "id": "de3307e3",
   "metadata": {},
   "outputs": [
    {
     "data": {
      "text/plain": [
       "daylight                      72091\n",
       "dark with street lights       19407\n",
       "dark with no street lights     7632\n",
       "dusk or dawn                   3260\n",
       "Name: lighting, dtype: int64"
      ]
     },
     "execution_count": 36,
     "metadata": {},
     "output_type": "execute_result"
    }
   ],
   "source": [
    "df = df.drop(df[df['lighting'].isna()].index)\n",
    "\n",
    "lighting_map = {\n",
    "    'dark with street lights not functioning': 'dark with no street lights',\n",
    "}\n",
    "\n",
    "df['lighting'] = df['lighting'].apply(lambda x: lighting_map[x] if x in lighting_map else x)\n",
    "df['lighting'].value_counts()"
   ]
  },
  {
   "cell_type": "code",
   "execution_count": 37,
   "id": "11b1dc7b",
   "metadata": {},
   "outputs": [],
   "source": [
    "df['lighting'] = df['lighting'].astype('category')"
   ]
  },
  {
   "cell_type": "code",
   "execution_count": 38,
   "id": "706a3b11",
   "metadata": {},
   "outputs": [
    {
     "data": {
      "text/plain": [
       "normal            98762\n",
       "construction       1696\n",
       "holes               475\n",
       "obstruction         374\n",
       "other               338\n",
       "loose material      185\n",
       "reduced width       103\n",
       "flooded              59\n",
       "Name: road_condition_1, dtype: int64"
      ]
     },
     "execution_count": 38,
     "metadata": {},
     "output_type": "execute_result"
    }
   ],
   "source": [
    "df['road_condition_1'].value_counts()"
   ]
  },
  {
   "cell_type": "markdown",
   "id": "26125867",
   "metadata": {},
   "source": [
    "В категориях кроме normal мало значений, однако все они свидетельствуют о проблемах, поэтому объединим их в одну."
   ]
  },
  {
   "cell_type": "code",
   "execution_count": 39,
   "id": "27a58f60",
   "metadata": {},
   "outputs": [
    {
     "data": {
      "text/plain": [
       "normal    98762\n",
       "probem     3230\n",
       "Name: road_condition_1, dtype: int64"
      ]
     },
     "execution_count": 39,
     "metadata": {},
     "output_type": "execute_result"
    }
   ],
   "source": [
    "df = df.drop(df[df['road_condition_1'].isna()].index)\n",
    "\n",
    "road_condition_map = {\n",
    "    'construction': 'probem',\n",
    "    'holes': 'probem',\n",
    "    'obstruction': 'probem',\n",
    "    'other': 'probem',\n",
    "    'loose material': 'probem',\n",
    "    'reduced width': 'probem',\n",
    "    'flooded': 'probem'\n",
    "}\n",
    "\n",
    "df['road_condition_1'] = df['road_condition_1'].apply(lambda x: road_condition_map[x] if x in road_condition_map else x)\n",
    "df['road_condition_1'].value_counts()"
   ]
  },
  {
   "cell_type": "code",
   "execution_count": 40,
   "id": "6f21e76a",
   "metadata": {},
   "outputs": [],
   "source": [
    "df['road_condition_1'] = df['road_condition_1'].astype('category')"
   ]
  },
  {
   "cell_type": "code",
   "execution_count": 41,
   "id": "be1243e6",
   "metadata": {},
   "outputs": [
    {
     "data": {
      "text/plain": [
       "dry         90977\n",
       "wet          9824\n",
       "snowy         520\n",
       "slippery       67\n",
       "Name: road_surface, dtype: int64"
      ]
     },
     "execution_count": 41,
     "metadata": {},
     "output_type": "execute_result"
    }
   ],
   "source": [
    "df['road_surface'].value_counts()"
   ]
  },
  {
   "cell_type": "markdown",
   "id": "22a3c464",
   "metadata": {},
   "source": [
    "Категорию slippery объединим со snowy, обе подразумевают скользкую дорогу."
   ]
  },
  {
   "cell_type": "code",
   "execution_count": 42,
   "id": "cea0fad8",
   "metadata": {},
   "outputs": [
    {
     "data": {
      "text/plain": [
       "dry      90977\n",
       "wet       9824\n",
       "snowy      587\n",
       "Name: road_surface, dtype: int64"
      ]
     },
     "execution_count": 42,
     "metadata": {},
     "output_type": "execute_result"
    }
   ],
   "source": [
    "df = df.drop(df[df['road_surface'].isna()].index)\n",
    "\n",
    "road_surface_map = {\n",
    "    'slippery': 'snowy'\n",
    "}\n",
    "\n",
    "df['road_surface'] = df['road_surface'].apply(lambda x: road_surface_map[x] if x in road_surface_map else x)\n",
    "df['road_surface'].value_counts()"
   ]
  },
  {
   "cell_type": "code",
   "execution_count": 43,
   "id": "bac2a103",
   "metadata": {},
   "outputs": [],
   "source": [
    "df['road_surface'] = df['road_surface'].astype('category')"
   ]
  },
  {
   "cell_type": "code",
   "execution_count": 44,
   "id": "5904ca4a",
   "metadata": {},
   "outputs": [
    {
     "data": {
      "text/plain": [
       "other motor vehicle               79940\n",
       "fixed object                      11890\n",
       "non-collision                      3154\n",
       "other object                       2203\n",
       "parked motor vehicle               2117\n",
       "motor vehicle on other roadway      884\n",
       "bicycle                             663\n",
       "animal                              263\n",
       "train                                25\n",
       "Name: motor_vehicle_involved_with, dtype: int64"
      ]
     },
     "execution_count": 44,
     "metadata": {},
     "output_type": "execute_result"
    }
   ],
   "source": [
    "df['motor_vehicle_involved_with'].value_counts()"
   ]
  },
  {
   "cell_type": "code",
   "execution_count": 45,
   "id": "c4e7214d",
   "metadata": {},
   "outputs": [
    {
     "data": {
      "text/plain": [
       "rear end      40240\n",
       "broadside     24301\n",
       "sideswipe     13046\n",
       "hit object    12197\n",
       "head-on        5677\n",
       "overturned     3164\n",
       "other          2323\n",
       "Name: type_of_collision, dtype: int64"
      ]
     },
     "execution_count": 45,
     "metadata": {},
     "output_type": "execute_result"
    }
   ],
   "source": [
    "df['type_of_collision'].value_counts()"
   ]
  },
  {
   "cell_type": "markdown",
   "id": "26d6760e",
   "metadata": {},
   "source": [
    "Пока оставим эти признаки как есть, только удалим пропуски и заменим тип данных."
   ]
  },
  {
   "cell_type": "code",
   "execution_count": 46,
   "id": "cc73e472",
   "metadata": {},
   "outputs": [],
   "source": [
    "df = df.drop(df[df['motor_vehicle_involved_with'].isna()].index)\n",
    "df['motor_vehicle_involved_with'] = df['motor_vehicle_involved_with'].astype('category')"
   ]
  },
  {
   "cell_type": "code",
   "execution_count": 47,
   "id": "67e95807",
   "metadata": {},
   "outputs": [],
   "source": [
    "df = df.drop(df[df['type_of_collision'].isna()].index)\n",
    "df['type_of_collision'] = df['type_of_collision'].astype('category')"
   ]
  },
  {
   "cell_type": "code",
   "execution_count": 48,
   "id": "693d0dcd",
   "metadata": {},
   "outputs": [
    {
     "data": {
      "text/plain": [
       "vehicle code violation    97062\n",
       "other than driver          1562\n",
       "unknown                    1502\n",
       "other improper driving      352\n",
       "fell asleep                   3\n",
       "Name: primary_collision_factor, dtype: int64"
      ]
     },
     "execution_count": 48,
     "metadata": {},
     "output_type": "execute_result"
    }
   ],
   "source": [
    "df['primary_collision_factor'].value_counts()"
   ]
  },
  {
   "cell_type": "code",
   "execution_count": 49,
   "id": "f215cbc5",
   "metadata": {},
   "outputs": [
    {
     "data": {
      "text/plain": [
       "speeding                             37035\n",
       "automobile right of way              14709\n",
       "improper turning                     12726\n",
       "dui                                   8148\n",
       "traffic signals and signs             7455\n",
       "unsafe lane change                    6685\n",
       "following too closely                 2563\n",
       "unsafe starting or backing            2321\n",
       "wrong side of road                    1985\n",
       "unknown                               1594\n",
       "other than driver (or pedestrian)     1562\n",
       "other hazardous violation              729\n",
       "improper passing                       674\n",
       "pedestrian violation                   381\n",
       "other improper driving                 352\n",
       "pedestrian right of way                190\n",
       "other equipment                         99\n",
       "impeding traffic                        62\n",
       "hazardous parking                       44\n",
       "brakes                                  17\n",
       "lights                                   6\n",
       "fell asleep                              3\n",
       "Name: pcf_violation_category, dtype: int64"
      ]
     },
     "execution_count": 49,
     "metadata": {},
     "output_type": "execute_result"
    }
   ],
   "source": [
    "df['pcf_violation_category'].value_counts()"
   ]
  },
  {
   "cell_type": "markdown",
   "id": "7d7b27ca",
   "metadata": {},
   "source": [
    "primary_collision_factor (основной фактор аварии) и pcf_violation_category (категория нарушения) похожи. pcf_violation_category -  более информативный признак, оставим только его, перенеся малочисленные категории в other improper driving."
   ]
  },
  {
   "cell_type": "code",
   "execution_count": 50,
   "id": "b96474eb",
   "metadata": {},
   "outputs": [
    {
     "data": {
      "text/plain": [
       "speeding                             37035\n",
       "automobile right of way              14709\n",
       "improper turning                     12726\n",
       "dui                                   8148\n",
       "traffic signals and signs             7455\n",
       "unsafe lane change                    6685\n",
       "following too closely                 2563\n",
       "unsafe starting or backing            2321\n",
       "wrong side of road                    1985\n",
       "unknown                               1594\n",
       "other than driver (or pedestrian)     1562\n",
       "other hazardous violation              729\n",
       "improper passing                       674\n",
       "other improper driving                 484\n",
       "pedestrian violation                   381\n",
       "pedestrian right of way                190\n",
       "other equipment                         99\n",
       "Name: pcf_violation_category, dtype: int64"
      ]
     },
     "execution_count": 50,
     "metadata": {},
     "output_type": "execute_result"
    }
   ],
   "source": [
    "df = df.drop(df[df['pcf_violation_category'].isna()].index)\n",
    "\n",
    "pcf_violation_category_map = {\n",
    "    'fell asleep': 'other improper driving',\n",
    "    'lights': 'other improper driving',\n",
    "    'hazardous parking': 'other improper driving',\n",
    "    'impeding traffic': 'other improper driving',\n",
    "    'brakes': 'other improper driving'\n",
    "}\n",
    "\n",
    "df['pcf_violation_category'] = df['pcf_violation_category'].apply(lambda x: pcf_violation_category_map[x] if x in pcf_violation_category_map else x)\n",
    "\n",
    "df = df.drop('primary_collision_factor', axis = 1)\n",
    "\n",
    "df['pcf_violation_category'] = df['pcf_violation_category'].astype('category')\n",
    "df['pcf_violation_category'].value_counts()"
   ]
  },
  {
   "cell_type": "code",
   "execution_count": 51,
   "id": "8d3d1545",
   "metadata": {},
   "outputs": [
    {
     "data": {
      "text/plain": [
       "2     64051\n",
       "3     15613\n",
       "1     13973\n",
       "4      4192\n",
       "5      1072\n",
       "6       295\n",
       "7        89\n",
       "8        28\n",
       "9        23\n",
       "10        4\n",
       "Name: party_count, dtype: int64"
      ]
     },
     "execution_count": 51,
     "metadata": {},
     "output_type": "execute_result"
    }
   ],
   "source": [
    "df['party_count'].value_counts()"
   ]
  },
  {
   "cell_type": "markdown",
   "id": "91d65cbb",
   "metadata": {},
   "source": [
    "Для определения виновности имеет значение количество участников. Объединим все, что больше одного в одну категорию."
   ]
  },
  {
   "cell_type": "code",
   "execution_count": 52,
   "id": "725cafa2",
   "metadata": {},
   "outputs": [
    {
     "data": {
      "text/plain": [
       "2    85367\n",
       "1    13973\n",
       "Name: party_count, dtype: int64"
      ]
     },
     "execution_count": 52,
     "metadata": {},
     "output_type": "execute_result"
    }
   ],
   "source": [
    "df['party_count'] = df['party_count'].apply(lambda x: 1 if x == 1 else 2 )\n",
    "df['party_count'] = df['party_count'].astype('category')\n",
    "df['party_count'].value_counts()"
   ]
  },
  {
   "cell_type": "markdown",
   "id": "9f27ffda",
   "metadata": {},
   "source": [
    "collision_damage - ущерб при аварии, который не влияет на виновность участника ДТП. Удалим столбец."
   ]
  },
  {
   "cell_type": "code",
   "execution_count": 53,
   "id": "1aa05a48",
   "metadata": {},
   "outputs": [],
   "source": [
    "df = df.drop('collision_damage', axis = 1)"
   ]
  },
  {
   "cell_type": "code",
   "execution_count": 54,
   "id": "b9c210d3",
   "metadata": {},
   "outputs": [
    {
     "data": {
      "text/plain": [
       "highway         34580\n",
       "ramp             5534\n",
       "intersection     2240\n",
       "Name: location_type, dtype: int64"
      ]
     },
     "execution_count": 54,
     "metadata": {},
     "output_type": "execute_result"
    }
   ],
   "source": [
    "df['location_type'].value_counts()"
   ]
  },
  {
   "cell_type": "markdown",
   "id": "8ee86807",
   "metadata": {},
   "source": [
    "Оставим, заполним пропуски."
   ]
  },
  {
   "cell_type": "code",
   "execution_count": 55,
   "id": "9b1ee811",
   "metadata": {},
   "outputs": [
    {
     "data": {
      "text/plain": [
       "other           56986\n",
       "highway         34580\n",
       "ramp             5534\n",
       "intersection     2240\n",
       "Name: location_type, dtype: int64"
      ]
     },
     "execution_count": 55,
     "metadata": {},
     "output_type": "execute_result"
    }
   ],
   "source": [
    "df['location_type'] = df['location_type'].fillna('other')\n",
    "\n",
    "df['location_type'] = df['location_type'].astype('category')\n",
    "df['location_type'].value_counts()"
   ]
  },
  {
   "cell_type": "code",
   "execution_count": 56,
   "id": "466008bc",
   "metadata": {},
   "outputs": [
    {
     "data": {
      "text/plain": [
       "clear      79387\n",
       "cloudy     15053\n",
       "raining     4123\n",
       "fog          311\n",
       "snowing      227\n",
       "other         61\n",
       "wind          29\n",
       "Name: weather_1, dtype: int64"
      ]
     },
     "execution_count": 56,
     "metadata": {},
     "output_type": "execute_result"
    }
   ],
   "source": [
    "df['weather_1'].value_counts()"
   ]
  },
  {
   "cell_type": "markdown",
   "id": "f8d87280",
   "metadata": {},
   "source": [
    "wind объединим с other. Пропуски заполним other."
   ]
  },
  {
   "cell_type": "code",
   "execution_count": 57,
   "id": "6df2afc8",
   "metadata": {},
   "outputs": [
    {
     "data": {
      "text/plain": [
       "clear      79387\n",
       "cloudy     15053\n",
       "raining     4123\n",
       "fog          311\n",
       "other        239\n",
       "snowing      227\n",
       "Name: weather_1, dtype: int64"
      ]
     },
     "execution_count": 57,
     "metadata": {},
     "output_type": "execute_result"
    }
   ],
   "source": [
    "df['weather_1'] = df['weather_1'].fillna('other')\n",
    "\n",
    "weather_map = {\n",
    "    'wind': 'other'\n",
    "}\n",
    "\n",
    "df['weather_1'] = df['weather_1'].apply(lambda x: weather_map[x] if x in weather_map else x)\n",
    "\n",
    "\n",
    "df['weather_1'] = df['weather_1'].astype('category')\n",
    "df['weather_1'].value_counts()"
   ]
  },
  {
   "cell_type": "markdown",
   "id": "f834e1ff",
   "metadata": {},
   "source": [
    "Перекресток является фактором, повышающим вероятность аварии, но не влияет на вероятность быть в ней виновным. Удалим."
   ]
  },
  {
   "cell_type": "code",
   "execution_count": 58,
   "id": "0e59bdcb",
   "metadata": {},
   "outputs": [],
   "source": [
    "df = df.drop('intersection', axis = 1)"
   ]
  },
  {
   "cell_type": "code",
   "execution_count": 59,
   "id": "f7c4667f",
   "metadata": {},
   "outputs": [
    {
     "data": {
      "text/plain": [
       "north    20364\n",
       "south    20095\n",
       "west     16460\n",
       "east     16397\n",
       "Name: direction, dtype: int64"
      ]
     },
     "execution_count": 59,
     "metadata": {},
     "output_type": "execute_result"
    }
   ],
   "source": [
    "df['direction'].value_counts()"
   ]
  },
  {
   "cell_type": "markdown",
   "id": "bf60b2c9",
   "metadata": {},
   "source": [
    "Заполним пропуски."
   ]
  },
  {
   "cell_type": "code",
   "execution_count": 60,
   "id": "73ae79a0",
   "metadata": {},
   "outputs": [
    {
     "data": {
      "text/plain": [
       "unknown    26024\n",
       "north      20364\n",
       "south      20095\n",
       "west       16460\n",
       "east       16397\n",
       "Name: direction, dtype: int64"
      ]
     },
     "execution_count": 60,
     "metadata": {},
     "output_type": "execute_result"
    }
   ],
   "source": [
    "df['direction'] = df['direction'].fillna('unknown')\n",
    "df['direction'] = df['direction'].astype('category')\n",
    "df['direction'].value_counts()"
   ]
  },
  {
   "cell_type": "markdown",
   "id": "7bad8219",
   "metadata": {},
   "source": [
    "Виновность водителя мало зависит от географического положения автомобиля, удалим столбцы:"
   ]
  },
  {
   "cell_type": "code",
   "execution_count": 61,
   "id": "6b7b55b1",
   "metadata": {},
   "outputs": [],
   "source": [
    "df = df.drop('distance', axis = 1)\n",
    "df = df.drop('county_location', axis = 1)\n",
    "df = df.drop('county_city_location', axis = 1)"
   ]
  },
  {
   "cell_type": "code",
   "execution_count": 62,
   "id": "88697c46",
   "metadata": {},
   "outputs": [
    {
     "data": {
      "text/plain": [
       "0.0    88484\n",
       "1.0     1851\n",
       "Name: cellphone_in_use, dtype: int64"
      ]
     },
     "execution_count": 62,
     "metadata": {},
     "output_type": "execute_result"
    }
   ],
   "source": [
    "df['cellphone_in_use'].value_counts()"
   ]
  },
  {
   "cell_type": "markdown",
   "id": "913a6c08",
   "metadata": {},
   "source": [
    "Пропусков около 10000, заполним рандомно."
   ]
  },
  {
   "cell_type": "code",
   "execution_count": 63,
   "id": "02c1df14",
   "metadata": {},
   "outputs": [],
   "source": [
    "df['cellphone_in_use'] = df['cellphone_in_use'].fillna(np.random.choice(df[\"cellphone_in_use\"].dropna()))\n",
    "df['cellphone_in_use'] = df['cellphone_in_use'].astype('int')\n",
    "df['cellphone_in_use'] = df['cellphone_in_use'].astype('category')"
   ]
  },
  {
   "cell_type": "code",
   "execution_count": 64,
   "id": "c4686b11",
   "metadata": {},
   "outputs": [
    {
     "data": {
      "text/plain": [
       "G                        1679\n",
       "under drug influence     1006\n",
       "sleepy/fatigued           637\n",
       "not applicable            551\n",
       "impairment - physical     196\n",
       "Name: party_drug_physical, dtype: int64"
      ]
     },
     "execution_count": 64,
     "metadata": {},
     "output_type": "execute_result"
    }
   ],
   "source": [
    "df['party_drug_physical'].value_counts()"
   ]
  },
  {
   "cell_type": "markdown",
   "id": "2dc686b0",
   "metadata": {},
   "source": [
    "Заполним пропуски значением G-Impairment Unknown."
   ]
  },
  {
   "cell_type": "code",
   "execution_count": 65,
   "id": "1f8db184",
   "metadata": {},
   "outputs": [
    {
     "data": {
      "text/plain": [
       "impairment unknown       96950\n",
       "under drug influence      1006\n",
       "sleepy/fatigued            637\n",
       "not applicable             551\n",
       "impairment - physical      196\n",
       "Name: party_drug_physical, dtype: int64"
      ]
     },
     "execution_count": 65,
     "metadata": {},
     "output_type": "execute_result"
    }
   ],
   "source": [
    "df['party_drug_physical'] = df['party_drug_physical'].fillna('impairment unknown')\n",
    "\n",
    "party_drug_physical_map = {\n",
    "    'G': 'impairment unknown'\n",
    "}\n",
    "\n",
    "df['party_drug_physical'] = df['party_drug_physical'].apply(lambda x: party_drug_physical_map[x] if x in party_drug_physical_map else x)\n",
    "\n",
    "\n",
    "df['party_drug_physical'] = df['party_drug_physical'].astype('category')\n",
    "df['party_drug_physical'].value_counts()"
   ]
  },
  {
   "cell_type": "code",
   "execution_count": 66,
   "id": "85da87e5",
   "metadata": {},
   "outputs": [
    {
     "data": {
      "text/plain": [
       "had not been drinking                     89308\n",
       "had been drinking, under influence         5329\n",
       "impairment unknown                         1679\n",
       "had been drinking, not under influence      781\n",
       "not applicable                              551\n",
       "had been drinking, impairment unknown       307\n",
       "Name: party_sobriety, dtype: int64"
      ]
     },
     "execution_count": 66,
     "metadata": {},
     "output_type": "execute_result"
    }
   ],
   "source": [
    "df['party_sobriety'].value_counts()"
   ]
  },
  {
   "cell_type": "markdown",
   "id": "d0048293",
   "metadata": {},
   "source": [
    "Пропуски заполним значением impairment unknown."
   ]
  },
  {
   "cell_type": "code",
   "execution_count": 67,
   "id": "93a7de75",
   "metadata": {},
   "outputs": [
    {
     "data": {
      "text/plain": [
       "had not been drinking                     89308\n",
       "had been drinking, under influence         5329\n",
       "impairment unknown                         3064\n",
       "had been drinking, not under influence      781\n",
       "not applicable                              551\n",
       "had been drinking, impairment unknown       307\n",
       "Name: party_sobriety, dtype: int64"
      ]
     },
     "execution_count": 67,
     "metadata": {},
     "output_type": "execute_result"
    }
   ],
   "source": [
    "df['party_sobriety'] = df['party_sobriety'].fillna('impairment unknown')\n",
    "df['party_sobriety'] = df['party_sobriety'].astype('category')\n",
    "df['party_sobriety'].value_counts()"
   ]
  },
  {
   "cell_type": "code",
   "execution_count": 68,
   "id": "5c6732c9",
   "metadata": {},
   "outputs": [
    {
     "data": {
      "text/plain": [
       "count    98600.000000\n",
       "mean        38.689828\n",
       "std         16.273282\n",
       "min          0.000000\n",
       "25%         25.000000\n",
       "50%         36.000000\n",
       "75%         50.000000\n",
       "max        105.000000\n",
       "Name: insurance_premium, dtype: float64"
      ]
     },
     "execution_count": 68,
     "metadata": {},
     "output_type": "execute_result"
    }
   ],
   "source": [
    "df['insurance_premium'].describe()"
   ]
  },
  {
   "cell_type": "code",
   "execution_count": 69,
   "id": "ab550d00",
   "metadata": {},
   "outputs": [
    {
     "data": {
      "image/png": "[encoded data removed]",
      "text/plain": [
       "<Figure size 432x288 with 1 Axes>"
      ]
     },
     "metadata": {
      "needs_background": "light"
     },
     "output_type": "display_data"
    }
   ],
   "source": [
    "df['insurance_premium'].hist()\n",
    "plt.title('insurance_premium histogram')\n",
    "plt.show()\n"
   ]
  },
  {
   "cell_type": "markdown",
   "id": "b1409374",
   "metadata": {},
   "source": [
    "Может влиять на поведение водителя. Полное покрытие страховкой может делать водителя более рисковым и наоборот. Пропуски заполним средним."
   ]
  },
  {
   "cell_type": "code",
   "execution_count": 70,
   "id": "eea76ebc",
   "metadata": {},
   "outputs": [],
   "source": [
    "df['insurance_premium'] = df['insurance_premium'].fillna(df['insurance_premium'].mean())"
   ]
  },
  {
   "cell_type": "code",
   "execution_count": 71,
   "id": "267b4e40",
   "metadata": {},
   "outputs": [],
   "source": [
    "df = df.drop('party_type', axis = 1)"
   ]
  },
  {
   "cell_type": "code",
   "execution_count": 72,
   "id": "f43be236",
   "metadata": {},
   "outputs": [
    {
     "data": {
      "text/plain": [
       "count    96839.000000\n",
       "mean         5.216194\n",
       "std          3.126632\n",
       "min          0.000000\n",
       "25%          3.000000\n",
       "50%          5.000000\n",
       "75%          7.000000\n",
       "max        161.000000\n",
       "Name: vehicle_age, dtype: float64"
      ]
     },
     "execution_count": 72,
     "metadata": {},
     "output_type": "execute_result"
    }
   ],
   "source": [
    "df['vehicle_age'].describe()"
   ]
  },
  {
   "cell_type": "code",
   "execution_count": 73,
   "id": "5ec728df",
   "metadata": {},
   "outputs": [
    {
     "data": {
      "image/png": "[encoded data removed]",
      "text/plain": [
       "<Figure size 432x288 with 1 Axes>"
      ]
     },
     "metadata": {
      "needs_background": "light"
     },
     "output_type": "display_data"
    }
   ],
   "source": [
    "df.boxplot(column = 'vehicle_age')\n",
    "plt.title('vehicle_age boxplot')\n",
    "plt.show()"
   ]
  },
  {
   "cell_type": "markdown",
   "id": "32e9e5a9",
   "metadata": {},
   "source": [
    "Пропуски заполним медианным значением по столбцу. Все значения старше 12 заменим на 12."
   ]
  },
  {
   "cell_type": "code",
   "execution_count": 74,
   "id": "1643d798",
   "metadata": {},
   "outputs": [],
   "source": [
    "df['vehicle_age'] = df['vehicle_age'].apply(lambda x: 12 if x>12 else x)\n",
    "df['vehicle_age'] = df['vehicle_age'].fillna(df['vehicle_age'].median())"
   ]
  },
  {
   "cell_type": "code",
   "execution_count": 75,
   "id": "f8033aa2",
   "metadata": {},
   "outputs": [
    {
     "data": {
      "text/plain": [
       "count    99340.000000\n",
       "mean         5.186732\n",
       "std          2.953220\n",
       "min          0.000000\n",
       "25%          3.000000\n",
       "50%          5.000000\n",
       "75%          7.000000\n",
       "max         12.000000\n",
       "Name: vehicle_age, dtype: float64"
      ]
     },
     "execution_count": 75,
     "metadata": {},
     "output_type": "execute_result"
    }
   ],
   "source": [
    "df['vehicle_age'].describe()"
   ]
  },
  {
   "cell_type": "code",
   "execution_count": 76,
   "id": "6e021f9d",
   "metadata": {},
   "outputs": [],
   "source": [
    "df['vehicle_age'] = df['vehicle_age'].astype('int')\n",
    "df['vehicle_age'] = df['vehicle_age'].astype('category')"
   ]
  },
  {
   "cell_type": "code",
   "execution_count": 77,
   "id": "7169434f",
   "metadata": {},
   "outputs": [],
   "source": [
    "df = df.drop('vehicle_transmission', axis = 1)"
   ]
  },
  {
   "cell_type": "code",
   "execution_count": 78,
   "id": "48cb0005",
   "metadata": {},
   "outputs": [
    {
     "name": "stdout",
     "output_type": "stream",
     "text": [
      "<class 'pandas.core.frame.DataFrame'>\n",
      "Int64Index: 99340 entries, 0 to 103266\n",
      "Data columns (total 20 columns):\n",
      " #   Column                       Non-Null Count  Dtype   \n",
      "---  ------                       --------------  -----   \n",
      " 0   vehicle_type                 99340 non-null  category\n",
      " 1   vehicle_age                  99340 non-null  category\n",
      " 2   direction                    99340 non-null  category\n",
      " 3   weather_1                    99340 non-null  category\n",
      " 4   location_type                99340 non-null  category\n",
      " 5   party_count                  99340 non-null  category\n",
      " 6   pcf_violation_category       99340 non-null  category\n",
      " 7   type_of_collision            99340 non-null  category\n",
      " 8   motor_vehicle_involved_with  99340 non-null  category\n",
      " 9   road_surface                 99340 non-null  category\n",
      " 10  road_condition_1             99340 non-null  category\n",
      " 11  lighting                     99340 non-null  category\n",
      " 12  control_device               99340 non-null  category\n",
      " 13  collision_date               99340 non-null  category\n",
      " 14  collision_time               99340 non-null  category\n",
      " 15  insurance_premium            99340 non-null  float64 \n",
      " 16  party_sobriety               99340 non-null  category\n",
      " 17  party_drug_physical          99340 non-null  category\n",
      " 18  cellphone_in_use             99340 non-null  category\n",
      " 19  at_fault                     99340 non-null  int64   \n",
      "dtypes: category(18), float64(1), int64(1)\n",
      "memory usage: 4.0 MB\n"
     ]
    }
   ],
   "source": [
    "df.info()"
   ]
  },
  {
   "cell_type": "code",
   "execution_count": 79,
   "id": "107ca4a0",
   "metadata": {},
   "outputs": [
    {
     "data": {
      "text/plain": [
       "1136"
      ]
     },
     "execution_count": 79,
     "metadata": {},
     "output_type": "execute_result"
    }
   ],
   "source": [
    "df.duplicated().sum() "
   ]
  },
  {
   "cell_type": "code",
   "execution_count": 80,
   "id": "020ff0dc",
   "metadata": {},
   "outputs": [
    {
     "data": {
      "text/plain": [
       "0"
      ]
     },
     "execution_count": 80,
     "metadata": {},
     "output_type": "execute_result"
    }
   ],
   "source": [
    "df = df.drop_duplicates()\n",
    "df.duplicated().sum() "
   ]
  },
  {
   "cell_type": "code",
   "execution_count": 81,
   "id": "14f261ff",
   "metadata": {},
   "outputs": [
    {
     "data": {
      "text/plain": [
       "0.9509717528348843"
      ]
     },
     "execution_count": 81,
     "metadata": {},
     "output_type": "execute_result"
    }
   ],
   "source": [
    "len(df)/len(df_orig)"
   ]
  },
  {
   "cell_type": "markdown",
   "id": "f948cf4f",
   "metadata": {},
   "source": [
    "Дубликатов и пропусков нет, данные обработаны и готовы к построению моделей.\n",
    "\n",
    "Оставили следующий набор признаков:\n",
    "\n",
    "- vehicle_type - тип кузова. Аварийность зависит от паттернов поведения водителя, люди предпочитающие скорость - выбирают купе, а семейные, предпочитающие вместительность, чаще выбирают minivan.\n",
    "- collision_time - время проишествия. От вермени суток аварийность зависит.\n",
    "- collision_date - дата проишествия. Возможно и от дня недели зависит (в пт-сб больше водителей в состоянии опьянения, например)\n",
    "- control_device - устройство управления. Может зависеть.\n",
    "- direction - направление движения. Зная о времени движения дает информацию о том, куда светит солнце и не затрудняет ли движение.\n",
    "- motor_vehicle_involved_with - объект, с которым произошло ДТП. зависимость виновности в ДТП от объекта, с которым произошло столкновение может существовать. Наличие пешехода, велосипедистов, животных на дороге часто приводит к дтп.\n",
    "- insurance_premium - страховая премия. Без сомнений можно было бы оставить признак, имея данные просто о наличии страхования, а не факте выплаты. Полное покрытие страховкой может делать водителя более рисковым и наоборот. Но предлагаю все-таки оставить признак.\n",
    "- vehicle_age - возраст машины. Обязательный признак в задаче заказчика.\n",
    "\n",
    "Признаки ниже очевидно влияют на дтп:\n",
    "- lighting - освещенность.\n",
    "- road_condition_1 - состояние улицы.\n",
    "- road_surface - состояние покрытия.\n",
    "- party_count - количество участников. \n",
    "- location_type - тип дороги. \n",
    "- weather_1 - погода. \n",
    "- intersection - перекресток.\n",
    "- cellphone_in_use - наличие телефона в машине.\n",
    "- party_sobriety - трезвость участника.\n",
    "- party_drug_physical - состояние участника. \n",
    "\n"
   ]
  },
  {
   "cell_type": "code",
   "execution_count": 82,
   "id": "85e3a7b9",
   "metadata": {},
   "outputs": [],
   "source": [
    "df = df.drop('type_of_collision', axis = 1)\n",
    "df = df.drop('pcf_violation_category', axis = 1)\n",
    "df = df.drop('party_count', axis = 1)\n"
   ]
  },
  {
   "cell_type": "markdown",
   "id": "4e32aa4b",
   "metadata": {},
   "source": [
    "## Подготовка данных для моделей <a id=\"6\"></a>"
   ]
  },
  {
   "cell_type": "markdown",
   "id": "9a09d9e1",
   "metadata": {},
   "source": [
    "Разделим данные на категориальные, числовые и целевой признак."
   ]
  },
  {
   "cell_type": "code",
   "execution_count": 83,
   "id": "61a83b9b",
   "metadata": {},
   "outputs": [
    {
     "data": {
      "text/plain": [
       "(['lighting',\n",
       "  'party_sobriety',\n",
       "  'collision_date',\n",
       "  'control_device',\n",
       "  'vehicle_age',\n",
       "  'cellphone_in_use',\n",
       "  'collision_time',\n",
       "  'road_surface',\n",
       "  'motor_vehicle_involved_with',\n",
       "  'direction',\n",
       "  'party_drug_physical',\n",
       "  'location_type',\n",
       "  'weather_1',\n",
       "  'road_condition_1',\n",
       "  'vehicle_type'],\n",
       " ['insurance_premium'])"
      ]
     },
     "execution_count": 83,
     "metadata": {},
     "output_type": "execute_result"
    }
   ],
   "source": [
    "target = ['at_fault']\n",
    "numeric = ['insurance_premium']\n",
    "category = list(set(df.columns) - set(numeric) - set(target))\n",
    "category, numeric"
   ]
  },
  {
   "cell_type": "markdown",
   "id": "ca413d76",
   "metadata": {},
   "source": [
    "Проведем разделение на тренировочную, валидационную и тестовую выборки, масштабирование и кодирование."
   ]
  },
  {
   "cell_type": "code",
   "execution_count": 84,
   "id": "23ae9eb3",
   "metadata": {},
   "outputs": [
    {
     "name": "stdout",
     "output_type": "stream",
     "text": [
      "X - Train size: (58922, 80)\n",
      "X - Val size: (19641, 80)\n",
      "X - Test size: (19641, 80)\n"
     ]
    }
   ],
   "source": [
    "X = df.drop(target, axis = 1)\n",
    "y = df[target]\n",
    "\n",
    "X_train, X_test, y_train, y_test = train_test_split(X, y, test_size = 0.4, random_state = 42)\n",
    "X_test, X_val, y_test, y_val = train_test_split(X_test, y_test, test_size = 0.5, random_state = 42)\n",
    "\n",
    "scaler = StandardScaler()\n",
    "scaler.fit(X_train[numeric])\n",
    "X_train[numeric] = scaler.transform(X_train[numeric])\n",
    "X_val[numeric] = scaler.transform(X_val[numeric])\n",
    "X_test[numeric] = scaler.transform(X_test[numeric])\n",
    "\n",
    "X_train_c = X_train.copy()\n",
    "X_val_c = X_val.copy()\n",
    "X_test_c = X_test.copy()\n",
    "\n",
    "\n",
    "enc = OneHotEncoder(handle_unknown='error', sparse = 'False', drop='first')\n",
    "enc.fit(X_train[category])\n",
    "X_train_cat =pd.DataFrame(enc.transform(X_train[category]).toarray(), index = X_train.index)\n",
    "X_val_cat =pd.DataFrame(enc.transform(X_val[category]).toarray(), index = X_val.index)\n",
    "X_test_cat =pd.DataFrame(enc.transform(X_test[category]).toarray(), index = X_test.index)\n",
    "\n",
    "\n",
    "X_train =  X_train.drop(category, axis = 1).join(X_train_cat)\n",
    "X_val = X_val.drop(category, axis = 1).join(X_val_cat)\n",
    "X_test = X_test.drop(category, axis = 1).join(X_test_cat)\n",
    "\n",
    "\n",
    "\n",
    "print('X - Train size:', X_train.shape)\n",
    "print('X - Val size:', X_val.shape)\n",
    "print('X - Test size:', X_test.shape)"
   ]
  },
  {
   "cell_type": "markdown",
   "id": "16c6d375",
   "metadata": {},
   "source": [
    "## Обучение моделей <a id=\"7\"></a>"
   ]
  },
  {
   "cell_type": "markdown",
   "id": "443f3a31",
   "metadata": {},
   "source": [
    "### LogisticRegression"
   ]
  },
  {
   "cell_type": "markdown",
   "id": "e0e80691",
   "metadata": {},
   "source": [
    "Нам нужно оценить качество упорядочивания алгоритмом объектов двух классов, лучше всего для сравнения моделей подойдет метрика roc-auc."
   ]
  },
  {
   "cell_type": "code",
   "execution_count": 85,
   "id": "acf3d6bf",
   "metadata": {},
   "outputs": [
    {
     "data": {
      "text/plain": [
       "0.7472483613813351"
      ]
     },
     "execution_count": 85,
     "metadata": {},
     "output_type": "execute_result"
    }
   ],
   "source": [
    "lr_model = LogisticRegression(C = 0.5, random_state=42, class_weight = 'balanced', penalty = 'l1', solver = 'liblinear', max_iter = 1000)\n",
    "lr_model.fit(X_train, y_train.values.ravel())\n",
    "lr_model.predict_proba(X_val)[:,1]\n",
    "roc_auc_score(y_val.values.ravel(), lr_model.predict_proba(X_val)[:,1])\n"
   ]
  },
  {
   "cell_type": "markdown",
   "id": "0c99e372",
   "metadata": {},
   "source": [
    "Для старта неплохо, подберем параметры."
   ]
  },
  {
   "cell_type": "code",
   "execution_count": 86,
   "id": "c1b06655",
   "metadata": {},
   "outputs": [],
   "source": [
    "def objective_lr(trial):\n",
    "\n",
    "    param = {     \n",
    "        'C' : trial.suggest_float(\"C\", 0.1, 100, log=True),\n",
    "        'penalty' : trial.suggest_categorical('penalty', [\"l1\", \"l2\"]),\n",
    "        'max_iter' : trial.suggest_int('max_iter', 100, 1000, log=True),\n",
    "    }\n",
    "\n",
    "    model = LogisticRegression(random_state=42, class_weight = 'balanced', solver = 'liblinear', **param)\n",
    "    model.fit(X_train, y_train.values.ravel())\n",
    "\n",
    "    accuracy = roc_auc_score(y_val.values.ravel(), model.predict_proba(X_val)[:, 1])\n",
    "\n",
    "    return accuracy\n",
    "    "
   ]
  },
  {
   "cell_type": "code",
   "execution_count": 87,
   "id": "2cfbd580",
   "metadata": {},
   "outputs": [
    {
     "name": "stderr",
     "output_type": "stream",
     "text": [
      "\u001b[32m[I 2023-08-03 21:30:46,073]\u001b[0m A new study created in memory with name: no-name-bb801b54-c478-4a1c-be9d-463a9079441b\u001b[0m\n",
      "\u001b[32m[I 2023-08-03 21:30:50,731]\u001b[0m Trial 2 finished with value: 0.7470207898354158 and parameters: {'C': 0.22623812526688086, 'penalty': 'l2', 'max_iter': 268}. Best is trial 2 with value: 0.7470207898354158.\u001b[0m\n",
      "\u001b[32m[I 2023-08-03 21:30:52,373]\u001b[0m Trial 3 finished with value: 0.7472354405088835 and parameters: {'C': 1.4245085195623097, 'penalty': 'l2', 'max_iter': 681}. Best is trial 3 with value: 0.7472354405088835.\u001b[0m\n",
      "\u001b[32m[I 2023-08-03 21:30:54,687]\u001b[0m Trial 1 finished with value: 0.7472152460898596 and parameters: {'C': 60.744927831230335, 'penalty': 'l2', 'max_iter': 150}. Best is trial 3 with value: 0.7472354405088835.\u001b[0m\n",
      "\u001b[32m[I 2023-08-03 21:30:54,972]\u001b[0m Trial 5 finished with value: 0.7472138760904333 and parameters: {'C': 15.680960126545568, 'penalty': 'l2', 'max_iter': 133}. Best is trial 3 with value: 0.7472354405088835.\u001b[0m\n",
      "\u001b[32m[I 2023-08-03 21:31:03,345]\u001b[0m Trial 10 finished with value: 0.7472157376163713 and parameters: {'C': 41.26072302233034, 'penalty': 'l2', 'max_iter': 268}. Best is trial 3 with value: 0.7472354405088835.\u001b[0m\n",
      "\u001b[32m[I 2023-08-03 21:31:57,143]\u001b[0m Trial 0 finished with value: 0.746886200464298 and parameters: {'C': 0.242766317449843, 'penalty': 'l1', 'max_iter': 809}. Best is trial 3 with value: 0.7472354405088835.\u001b[0m\n",
      "\u001b[32m[I 2023-08-03 21:34:02,764]\u001b[0m Trial 6 finished with value: 0.747198189074102 and parameters: {'C': 1.644924454527008, 'penalty': 'l1', 'max_iter': 235}. Best is trial 3 with value: 0.7472354405088835.\u001b[0m\n",
      "\u001b[32m[I 2023-08-03 21:34:30,119]\u001b[0m Trial 7 finished with value: 0.7472128930374098 and parameters: {'C': 93.80496935404115, 'penalty': 'l1', 'max_iter': 150}. Best is trial 3 with value: 0.7472354405088835.\u001b[0m\n",
      "\u001b[32m[I 2023-08-03 21:34:31,520]\u001b[0m Trial 4 finished with value: 0.7472129139534317 and parameters: {'C': 18.047786821751362, 'penalty': 'l1', 'max_iter': 483}. Best is trial 3 with value: 0.7472354405088835.\u001b[0m\n",
      "\u001b[32m[I 2023-08-03 21:34:32,441]\u001b[0m Trial 8 finished with value: 0.7472134473119869 and parameters: {'C': 59.720411309014416, 'penalty': 'l1', 'max_iter': 351}. Best is trial 3 with value: 0.7472354405088835.\u001b[0m\n",
      "\u001b[32m[I 2023-08-03 21:34:33,991]\u001b[0m Trial 15 finished with value: 0.7469625805468154 and parameters: {'C': 0.20262010211023515, 'penalty': 'l2', 'max_iter': 900}. Best is trial 3 with value: 0.7472354405088835.\u001b[0m\n",
      "\u001b[32m[I 2023-08-03 21:34:36,151]\u001b[0m Trial 9 finished with value: 0.7472127466252574 and parameters: {'C': 26.855735642888824, 'penalty': 'l1', 'max_iter': 152}. Best is trial 3 with value: 0.7472354405088835.\u001b[0m\n",
      "\u001b[32m[I 2023-08-03 21:34:37,945]\u001b[0m Trial 17 finished with value: 0.7472302847095159 and parameters: {'C': 1.7805540613012294, 'penalty': 'l2', 'max_iter': 971}. Best is trial 3 with value: 0.7472354405088835.\u001b[0m\n",
      "\u001b[32m[I 2023-08-03 21:34:39,093]\u001b[0m Trial 18 finished with value: 0.7472178187605378 and parameters: {'C': 2.783669437461367, 'penalty': 'l2', 'max_iter': 482}. Best is trial 3 with value: 0.7472354405088835.\u001b[0m\n",
      "\u001b[32m[I 2023-08-03 21:34:41,022]\u001b[0m Trial 19 finished with value: 0.7472172226539173 and parameters: {'C': 3.5883485427485513, 'penalty': 'l2', 'max_iter': 522}. Best is trial 3 with value: 0.7472354405088835.\u001b[0m\n",
      "\u001b[32m[I 2023-08-03 21:34:43,060]\u001b[0m Trial 20 finished with value: 0.7472299814272001 and parameters: {'C': 1.9835744296864126, 'penalty': 'l2', 'max_iter': 986}. Best is trial 3 with value: 0.7472354405088835.\u001b[0m\n",
      "\u001b[32m[I 2023-08-03 21:34:44,245]\u001b[0m Trial 21 finished with value: 0.7472310481443106 and parameters: {'C': 1.8845153637227499, 'penalty': 'l2', 'max_iter': 999}. Best is trial 3 with value: 0.7472354405088835.\u001b[0m\n",
      "\u001b[32m[I 2023-08-03 21:34:46,341]\u001b[0m Trial 22 finished with value: 0.7472520687461948 and parameters: {'C': 0.7907711579550433, 'penalty': 'l2', 'max_iter': 952}. Best is trial 22 with value: 0.7472520687461948.\u001b[0m\n",
      "\u001b[32m[I 2023-08-03 21:34:48,217]\u001b[0m Trial 23 finished with value: 0.7472480214959814 and parameters: {'C': 0.9834597024831588, 'penalty': 'l2', 'max_iter': 703}. Best is trial 22 with value: 0.7472520687461948.\u001b[0m\n",
      "\u001b[32m[I 2023-08-03 21:34:49,255]\u001b[0m Trial 24 finished with value: 0.7472461495120324 and parameters: {'C': 0.5842730455292784, 'penalty': 'l2', 'max_iter': 687}. Best is trial 22 with value: 0.7472520687461948.\u001b[0m\n",
      "\u001b[32m[I 2023-08-03 21:34:50,769]\u001b[0m Trial 12 finished with value: 0.7472134682280087 and parameters: {'C': 22.361796465210816, 'penalty': 'l1', 'max_iter': 922}. Best is trial 22 with value: 0.7472520687461948.\u001b[0m\n",
      "\u001b[32m[I 2023-08-03 21:34:51,257]\u001b[0m Trial 25 finished with value: 0.7472456056954662 and parameters: {'C': 0.5761608426116356, 'penalty': 'l2', 'max_iter': 697}. Best is trial 22 with value: 0.7472520687461948.\u001b[0m\n",
      "\u001b[32m[I 2023-08-03 21:34:52,174]\u001b[0m Trial 27 finished with value: 0.7465720156722077 and parameters: {'C': 0.11488536316323787, 'penalty': 'l2', 'max_iter': 682}. Best is trial 22 with value: 0.7472520687461948.\u001b[0m\n",
      "\u001b[32m[I 2023-08-03 21:34:52,880]\u001b[0m Trial 26 finished with value: 0.7472478227937744 and parameters: {'C': 0.6595406018851262, 'penalty': 'l2', 'max_iter': 709}. Best is trial 22 with value: 0.7472520687461948.\u001b[0m\n",
      "\u001b[32m[I 2023-08-03 21:34:54,836]\u001b[0m Trial 11 finished with value: 0.747215664410295 and parameters: {'C': 14.025138737140539, 'penalty': 'l1', 'max_iter': 140}. Best is trial 22 with value: 0.7472520687461948.\u001b[0m\n",
      "\u001b[32m[I 2023-08-03 21:34:54,920]\u001b[0m Trial 28 finished with value: 0.7472469861529034 and parameters: {'C': 0.6092937157027687, 'penalty': 'l2', 'max_iter': 688}. Best is trial 22 with value: 0.7472520687461948.\u001b[0m\n",
      "\u001b[32m[I 2023-08-03 21:34:55,420]\u001b[0m Trial 29 finished with value: 0.7472456161534771 and parameters: {'C': 0.5795039335870346, 'penalty': 'l2', 'max_iter': 692}. Best is trial 22 with value: 0.7472520687461948.\u001b[0m\n",
      "\u001b[32m[I 2023-08-03 21:34:56,474]\u001b[0m Trial 30 finished with value: 0.7472494228694402 and parameters: {'C': 0.6830975353955775, 'penalty': 'l2', 'max_iter': 595}. Best is trial 22 with value: 0.7472520687461948.\u001b[0m\n",
      "\u001b[32m[I 2023-08-03 21:34:56,764]\u001b[0m Trial 31 finished with value: 0.7472464214203154 and parameters: {'C': 0.591593552600505, 'penalty': 'l2', 'max_iter': 801}. Best is trial 22 with value: 0.7472520687461948.\u001b[0m\n",
      "\u001b[32m[I 2023-08-03 21:34:58,509]\u001b[0m Trial 33 finished with value: 0.7472492346252442 and parameters: {'C': 0.9128710543967282, 'penalty': 'l2', 'max_iter': 592}. Best is trial 22 with value: 0.7472520687461948.\u001b[0m\n",
      "\u001b[32m[I 2023-08-03 21:34:58,680]\u001b[0m Trial 32 finished with value: 0.7472509497390298 and parameters: {'C': 0.7471555720989799, 'penalty': 'l2', 'max_iter': 785}. Best is trial 22 with value: 0.7472520687461948.\u001b[0m\n",
      "\u001b[32m[I 2023-08-03 21:34:59,003]\u001b[0m Trial 34 finished with value: 0.7472446121844318 and parameters: {'C': 1.0393678888730378, 'penalty': 'l2', 'max_iter': 587}. Best is trial 22 with value: 0.7472520687461948.\u001b[0m\n",
      "\u001b[32m[I 2023-08-03 21:34:59,605]\u001b[0m Trial 36 finished with value: 0.7471658738204592 and parameters: {'C': 0.3371139917232045, 'penalty': 'l2', 'max_iter': 550}. Best is trial 22 with value: 0.7472520687461948.\u001b[0m\n",
      "\u001b[32m[I 2023-08-03 21:35:00,198]\u001b[0m Trial 35 finished with value: 0.747247394015328 and parameters: {'C': 0.9965710035963861, 'penalty': 'l2', 'max_iter': 563}. Best is trial 22 with value: 0.7472520687461948.\u001b[0m\n",
      "\u001b[32m[I 2023-08-03 21:35:01,286]\u001b[0m Trial 37 finished with value: 0.7471656019121762 and parameters: {'C': 0.33682118558444446, 'penalty': 'l2', 'max_iter': 557}. Best is trial 22 with value: 0.7472520687461948.\u001b[0m\n",
      "\u001b[32m[I 2023-08-03 21:35:01,401]\u001b[0m Trial 38 finished with value: 0.7471333703226207 and parameters: {'C': 0.2996634161687556, 'penalty': 'l2', 'max_iter': 559}. Best is trial 22 with value: 0.7472520687461948.\u001b[0m\n",
      "\u001b[32m[I 2023-08-03 21:35:01,756]\u001b[0m Trial 39 finished with value: 0.7472081032684234 and parameters: {'C': 0.40341516838626174, 'penalty': 'l2', 'max_iter': 561}. Best is trial 22 with value: 0.7472520687461948.\u001b[0m\n",
      "\u001b[32m[I 2023-08-03 21:35:02,507]\u001b[0m Trial 40 finished with value: 0.7471774822125444 and parameters: {'C': 0.35155240666262255, 'penalty': 'l2', 'max_iter': 794}. Best is trial 22 with value: 0.7472520687461948.\u001b[0m\n",
      "\u001b[32m[I 2023-08-03 21:35:03,015]\u001b[0m Trial 41 finished with value: 0.7471854512168408 and parameters: {'C': 0.362935812412597, 'penalty': 'l2', 'max_iter': 843}. Best is trial 22 with value: 0.7472520687461948.\u001b[0m\n",
      "\u001b[32m[I 2023-08-03 21:35:03,977]\u001b[0m Trial 42 finished with value: 0.7471817386229758 and parameters: {'C': 0.3570190681613423, 'penalty': 'l2', 'max_iter': 871}. Best is trial 22 with value: 0.7472520687461948.\u001b[0m\n",
      "\u001b[32m[I 2023-08-03 21:35:04,426]\u001b[0m Trial 44 finished with value: 0.7469619635241731 and parameters: {'C': 0.20275440949949447, 'penalty': 'l2', 'max_iter': 812}. Best is trial 22 with value: 0.7472520687461948.\u001b[0m\n",
      "\u001b[32m[I 2023-08-03 21:35:04,944]\u001b[0m Trial 43 finished with value: 0.7472155807462079 and parameters: {'C': 3.488300939555214, 'penalty': 'l2', 'max_iter': 829}. Best is trial 22 with value: 0.7472520687461948.\u001b[0m\n",
      "\u001b[32m[I 2023-08-03 21:35:06,707]\u001b[0m Trial 45 finished with value: 0.7472417885214923 and parameters: {'C': 1.1767150282193861, 'penalty': 'l2', 'max_iter': 839}. Best is trial 22 with value: 0.7472520687461948.\u001b[0m\n",
      "\u001b[32m[I 2023-08-03 21:35:07,342]\u001b[0m Trial 46 finished with value: 0.7472459298938037 and parameters: {'C': 1.0590573908215037, 'penalty': 'l2', 'max_iter': 437}. Best is trial 22 with value: 0.7472520687461948.\u001b[0m\n",
      "\u001b[32m[I 2023-08-03 21:35:09,399]\u001b[0m Trial 48 finished with value: 0.7472465050844024 and parameters: {'C': 1.0279903949381524, 'penalty': 'l2', 'max_iter': 444}. Best is trial 22 with value: 0.7472520687461948.\u001b[0m\n",
      "\u001b[32m[I 2023-08-03 21:35:09,750]\u001b[0m Trial 49 finished with value: 0.7472474985954369 and parameters: {'C': 1.0013604376948728, 'penalty': 'l2', 'max_iter': 462}. Best is trial 22 with value: 0.7472520687461948.\u001b[0m\n",
      "\u001b[32m[I 2023-08-03 21:35:09,918]\u001b[0m Trial 13 finished with value: 0.7472134682280086 and parameters: {'C': 74.49355024255442, 'penalty': 'l1', 'max_iter': 134}. Best is trial 22 with value: 0.7472520687461948.\u001b[0m\n",
      "\u001b[32m[I 2023-08-03 21:37:10,439]\u001b[0m Trial 14 finished with value: 0.7472158631125019 and parameters: {'C': 13.4162393015063, 'penalty': 'l1', 'max_iter': 482}. Best is trial 22 with value: 0.7472520687461948.\u001b[0m\n",
      "\u001b[32m[I 2023-08-03 21:37:13,996]\u001b[0m Trial 51 finished with value: 0.7472109426183793 and parameters: {'C': 0.8095890371757389, 'penalty': 'l1', 'max_iter': 604}. Best is trial 22 with value: 0.7472520687461948.\u001b[0m\n",
      "\u001b[32m[I 2023-08-03 21:37:20,483]\u001b[0m Trial 56 finished with value: 0.7472364549359395 and parameters: {'C': 1.3694500178671658, 'penalty': 'l2', 'max_iter': 632}. Best is trial 22 with value: 0.7472520687461948.\u001b[0m\n",
      "\u001b[32m[I 2023-08-03 21:37:30,944]\u001b[0m Trial 54 finished with value: 0.7472100118554102 and parameters: {'C': 0.6975946055280341, 'penalty': 'l1', 'max_iter': 615}. Best is trial 22 with value: 0.7472520687461948.\u001b[0m\n",
      "\u001b[32m[I 2023-08-03 21:37:37,607]\u001b[0m Trial 58 finished with value: 0.7472506778307466 and parameters: {'C': 0.7391162012686258, 'penalty': 'l2', 'max_iter': 767}. Best is trial 22 with value: 0.7472520687461948.\u001b[0m\n",
      "\u001b[32m[I 2023-08-03 21:37:40,446]\u001b[0m Trial 52 finished with value: 0.7472119099843864 and parameters: {'C': 0.8608467030725924, 'penalty': 'l1', 'max_iter': 741}. Best is trial 22 with value: 0.7472520687461948.\u001b[0m\n",
      "\u001b[32m[I 2023-08-03 21:37:41,841]\u001b[0m Trial 59 finished with value: 0.7472344365398383 and parameters: {'C': 0.4801715489892981, 'penalty': 'l2', 'max_iter': 748}. Best is trial 22 with value: 0.7472520687461948.\u001b[0m\n",
      "\u001b[32m[I 2023-08-03 21:37:44,391]\u001b[0m Trial 16 finished with value: 0.7472129557854752 and parameters: {'C': 60.10060698572871, 'penalty': 'l1', 'max_iter': 129}. Best is trial 22 with value: 0.7472520687461948.\u001b[0m\n",
      "\u001b[32m[I 2023-08-03 21:37:45,727]\u001b[0m Trial 50 finished with value: 0.7472117217401903 and parameters: {'C': 0.8569951255057008, 'penalty': 'l1', 'max_iter': 406}. Best is trial 22 with value: 0.7472520687461948.\u001b[0m\n",
      "\u001b[32m[I 2023-08-03 21:37:46,031]\u001b[0m Trial 60 finished with value: 0.7472356182950685 and parameters: {'C': 1.4116419535047988, 'penalty': 'l2', 'max_iter': 762}. Best is trial 22 with value: 0.7472520687461948.\u001b[0m\n",
      "\u001b[32m[I 2023-08-03 21:37:46,789]\u001b[0m Trial 61 finished with value: 0.7472522256163581 and parameters: {'C': 0.8048085476885944, 'penalty': 'l2', 'max_iter': 951}. Best is trial 61 with value: 0.7472522256163581.\u001b[0m\n",
      "\u001b[32m[I 2023-08-03 21:37:48,831]\u001b[0m Trial 62 finished with value: 0.7472357333331884 and parameters: {'C': 1.5059442889693864, 'penalty': 'l2', 'max_iter': 943}. Best is trial 61 with value: 0.7472522256163581.\u001b[0m\n",
      "\u001b[32m[I 2023-08-03 21:37:49,505]\u001b[0m Trial 47 finished with value: 0.7472078052151131 and parameters: {'C': 1.296957242166752, 'penalty': 'l1', 'max_iter': 438}. Best is trial 61 with value: 0.7472522256163581.\u001b[0m\n",
      "\u001b[32m[I 2023-08-03 21:37:49,540]\u001b[0m Trial 64 finished with value: 0.7472347502801648 and parameters: {'C': 0.4852021822436724, 'penalty': 'l2', 'max_iter': 916}. Best is trial 61 with value: 0.7472522256163581.\u001b[0m\n",
      "\u001b[32m[I 2023-08-03 21:37:49,997]\u001b[0m Trial 53 finished with value: 0.7472116851371523 and parameters: {'C': 0.7560008149164188, 'penalty': 'l1', 'max_iter': 616}. Best is trial 61 with value: 0.7472522256163581.\u001b[0m\n",
      "\u001b[32m[I 2023-08-03 21:37:50,032]\u001b[0m Trial 63 finished with value: 0.7472359424934061 and parameters: {'C': 1.4427281328223986, 'penalty': 'l2', 'max_iter': 907}. Best is trial 61 with value: 0.7472522256163581.\u001b[0m\n",
      "\u001b[32m[I 2023-08-03 21:37:50,708]\u001b[0m Trial 65 finished with value: 0.74722255623947 and parameters: {'C': 2.18745880025236, 'penalty': 'l2', 'max_iter': 895}. Best is trial 61 with value: 0.7472522256163581.\u001b[0m\n",
      "\u001b[32m[I 2023-08-03 21:37:51,923]\u001b[0m Trial 66 finished with value: 0.7472269067719992 and parameters: {'C': 0.46110410745256364, 'penalty': 'l2', 'max_iter': 925}. Best is trial 61 with value: 0.7472522256163581.\u001b[0m\n",
      "\u001b[32m[I 2023-08-03 21:37:52,846]\u001b[0m Trial 67 finished with value: 0.7472229431858728 and parameters: {'C': 2.23041715463308, 'penalty': 'l2', 'max_iter': 905}. Best is trial 61 with value: 0.7472522256163581.\u001b[0m\n",
      "\u001b[32m[I 2023-08-03 21:37:53,270]\u001b[0m Trial 68 finished with value: 0.7472506255406923 and parameters: {'C': 0.7396973791587454, 'penalty': 'l2', 'max_iter': 895}. Best is trial 61 with value: 0.7472522256163581.\u001b[0m\n",
      "\u001b[32m[I 2023-08-03 21:37:53,388]\u001b[0m Trial 69 finished with value: 0.7472524556925975 and parameters: {'C': 0.7960008766167348, 'penalty': 'l2', 'max_iter': 992}. Best is trial 69 with value: 0.7472524556925975.\u001b[0m\n",
      "\u001b[32m[I 2023-08-03 21:37:53,629]\u001b[0m Trial 70 finished with value: 0.747223194178134 and parameters: {'C': 2.242434837680229, 'penalty': 'l2', 'max_iter': 763}. Best is trial 69 with value: 0.7472524556925975.\u001b[0m\n",
      "\u001b[32m[I 2023-08-03 21:37:54,117]\u001b[0m Trial 71 finished with value: 0.7472495797396035 and parameters: {'C': 0.7121031181435865, 'penalty': 'l2', 'max_iter': 995}. Best is trial 69 with value: 0.7472524556925975.\u001b[0m\n",
      "\u001b[32m[I 2023-08-03 21:37:55,463]\u001b[0m Trial 72 finished with value: 0.7472507196627903 and parameters: {'C': 0.741957858981382, 'penalty': 'l2', 'max_iter': 784}. Best is trial 69 with value: 0.7472524556925975.\u001b[0m\n",
      "\u001b[32m[I 2023-08-03 21:37:56,135]\u001b[0m Trial 76 finished with value: 0.7470727452335054 and parameters: {'C': 0.25303136843232515, 'penalty': 'l2', 'max_iter': 994}. Best is trial 69 with value: 0.7472524556925975.\u001b[0m\n",
      "\u001b[32m[I 2023-08-03 21:37:56,259]\u001b[0m Trial 73 finished with value: 0.747251493555596 and parameters: {'C': 0.7725374338064718, 'penalty': 'l2', 'max_iter': 643}. Best is trial 69 with value: 0.7472524556925975.\u001b[0m\n",
      "\u001b[32m[I 2023-08-03 21:37:56,495]\u001b[0m Trial 77 finished with value: 0.7470752656141292 and parameters: {'C': 0.2546406357496708, 'penalty': 'l2', 'max_iter': 972}. Best is trial 69 with value: 0.7472524556925975.\u001b[0m\n",
      "\u001b[32m[I 2023-08-03 21:37:56,892]\u001b[0m Trial 74 finished with value: 0.7472515040136068 and parameters: {'C': 0.7498279914512284, 'penalty': 'l2', 'max_iter': 999}. Best is trial 69 with value: 0.7472524556925975.\u001b[0m\n",
      "\u001b[32m[I 2023-08-03 21:37:56,925]\u001b[0m Trial 75 finished with value: 0.7472497470677777 and parameters: {'C': 0.7233828522150316, 'penalty': 'l2', 'max_iter': 977}. Best is trial 69 with value: 0.7472524556925975.\u001b[0m\n",
      "\u001b[32m[I 2023-08-03 21:37:58,774]\u001b[0m Trial 78 finished with value: 0.747250928823008 and parameters: {'C': 0.7593788442279219, 'penalty': 'l2', 'max_iter': 952}. Best is trial 69 with value: 0.7472524556925975.\u001b[0m\n",
      "\u001b[32m[I 2023-08-03 21:37:59,453]\u001b[0m Trial 81 finished with value: 0.7472209352477823 and parameters: {'C': 0.439464747211884, 'penalty': 'l2', 'max_iter': 861}. Best is trial 69 with value: 0.7472524556925975.\u001b[0m\n",
      "\u001b[32m[I 2023-08-03 21:37:59,592]\u001b[0m Trial 79 finished with value: 0.7472483456943187 and parameters: {'C': 0.6727055706778814, 'penalty': 'l2', 'max_iter': 979}. Best is trial 69 with value: 0.7472524556925975.\u001b[0m\n",
      "\u001b[32m[I 2023-08-03 21:37:59,678]\u001b[0m Trial 80 finished with value: 0.7472368000502988 and parameters: {'C': 0.5038723222787093, 'penalty': 'l2', 'max_iter': 825}. Best is trial 69 with value: 0.7472524556925975.\u001b[0m\n",
      "\u001b[32m[I 2023-08-03 21:37:59,860]\u001b[0m Trial 82 finished with value: 0.7472350849365132 and parameters: {'C': 0.4939703488146324, 'penalty': 'l2', 'max_iter': 853}. Best is trial 69 with value: 0.7472524556925975.\u001b[0m\n",
      "\u001b[32m[I 2023-08-03 21:37:59,935]\u001b[0m Trial 83 finished with value: 0.7472368941723969 and parameters: {'C': 0.5049423832515326, 'penalty': 'l2', 'max_iter': 841}. Best is trial 69 with value: 0.7472524556925975.\u001b[0m\n",
      "\u001b[32m[I 2023-08-03 21:38:01,336]\u001b[0m Trial 84 finished with value: 0.7472348757762955 and parameters: {'C': 0.5266185796650081, 'penalty': 'l2', 'max_iter': 854}. Best is trial 69 with value: 0.7472524556925975.\u001b[0m\n",
      "\u001b[32m[I 2023-08-03 21:38:02,440]\u001b[0m Trial 85 finished with value: 0.7472405858502402 and parameters: {'C': 0.5350893588139799, 'penalty': 'l2', 'max_iter': 815}. Best is trial 69 with value: 0.7472524556925975.\u001b[0m\n",
      "\u001b[32m[I 2023-08-03 21:38:03,267]\u001b[0m Trial 87 finished with value: 0.7472456370694988 and parameters: {'C': 0.5781180727663043, 'penalty': 'l2', 'max_iter': 854}. Best is trial 69 with value: 0.7472524556925975.\u001b[0m\n",
      "\u001b[32m[I 2023-08-03 21:38:03,317]\u001b[0m Trial 86 finished with value: 0.747232512265835 and parameters: {'C': 1.7386172098095052, 'penalty': 'l2', 'max_iter': 822}. Best is trial 69 with value: 0.7472524556925975.\u001b[0m\n",
      "\u001b[32m[I 2023-08-03 21:38:03,419]\u001b[0m Trial 89 finished with value: 0.7472425101242435 and parameters: {'C': 1.1566208854983142, 'penalty': 'l2', 'max_iter': 765}. Best is trial 69 with value: 0.7472524556925975.\u001b[0m\n",
      "\u001b[32m[I 2023-08-03 21:38:03,695]\u001b[0m Trial 88 finished with value: 0.7472432421850055 and parameters: {'C': 1.1431474682364569, 'penalty': 'l2', 'max_iter': 771}. Best is trial 69 with value: 0.7472524556925975.\u001b[0m\n",
      "\u001b[32m[I 2023-08-03 21:38:04,599]\u001b[0m Trial 90 finished with value: 0.7472421963839169 and parameters: {'C': 1.1596993871899512, 'penalty': 'l2', 'max_iter': 657}. Best is trial 69 with value: 0.7472524556925975.\u001b[0m\n",
      "\u001b[32m[I 2023-08-03 21:38:05,839]\u001b[0m Trial 91 finished with value: 0.7472510229451059 and parameters: {'C': 0.8724936519082157, 'penalty': 'l2', 'max_iter': 654}. Best is trial 69 with value: 0.7472524556925975.\u001b[0m\n",
      "\u001b[32m[I 2023-08-03 21:38:06,623]\u001b[0m Trial 92 finished with value: 0.747244967756802 and parameters: {'C': 1.0984614664324759, 'penalty': 'l2', 'max_iter': 651}. Best is trial 69 with value: 0.7472524556925975.\u001b[0m\n",
      "\u001b[32m[I 2023-08-03 21:38:06,830]\u001b[0m Trial 94 finished with value: 0.7472497784418103 and parameters: {'C': 0.9066631198582678, 'penalty': 'l2', 'max_iter': 648}. Best is trial 69 with value: 0.7472524556925975.\u001b[0m\n",
      "\u001b[32m[I 2023-08-03 21:38:07,068]\u001b[0m Trial 93 finished with value: 0.7472401779878155 and parameters: {'C': 1.2074007157429842, 'penalty': 'l2', 'max_iter': 774}. Best is trial 69 with value: 0.7472524556925975.\u001b[0m\n",
      "\u001b[32m[I 2023-08-03 21:38:07,299]\u001b[0m Trial 95 finished with value: 0.7472507196627902 and parameters: {'C': 0.8821015341301722, 'penalty': 'l2', 'max_iter': 659}. Best is trial 69 with value: 0.7472524556925975.\u001b[0m\n",
      "\u001b[32m[I 2023-08-03 21:38:07,938]\u001b[0m Trial 96 finished with value: 0.7472510020290841 and parameters: {'C': 0.8788135277635576, 'penalty': 'l2', 'max_iter': 703}. Best is trial 69 with value: 0.7472524556925975.\u001b[0m\n",
      "\u001b[32m[I 2023-08-03 21:38:09,164]\u001b[0m Trial 97 finished with value: 0.7472520059981294 and parameters: {'C': 0.8381552465603215, 'penalty': 'l2', 'max_iter': 716}. Best is trial 69 with value: 0.7472524556925975.\u001b[0m\n",
      "\u001b[32m[I 2023-08-03 21:38:09,969]\u001b[0m Trial 98 finished with value: 0.7472513366854325 and parameters: {'C': 0.8576182506045038, 'penalty': 'l2', 'max_iter': 726}. Best is trial 69 with value: 0.7472524556925975.\u001b[0m\n",
      "\u001b[32m[I 2023-08-03 21:38:10,188]\u001b[0m Trial 99 finished with value: 0.7472523824865213 and parameters: {'C': 0.8190488474593225, 'penalty': 'l2', 'max_iter': 725}. Best is trial 69 with value: 0.7472524556925975.\u001b[0m\n",
      "\u001b[32m[I 2023-08-03 21:38:15,974]\u001b[0m Trial 55 finished with value: 0.7472102419316499 and parameters: {'C': 0.7889118469601683, 'penalty': 'l1', 'max_iter': 624}. Best is trial 69 with value: 0.7472524556925975.\u001b[0m\n",
      "\u001b[32m[I 2023-08-03 21:38:17,893]\u001b[0m Trial 57 finished with value: 0.7472097190311053 and parameters: {'C': 0.7885986355353359, 'penalty': 'l1', 'max_iter': 751}. Best is trial 69 with value: 0.7472524556925975.\u001b[0m\n"
     ]
    },
    {
     "name": "stdout",
     "output_type": "stream",
     "text": [
      "Wall time: 7min 31s\n"
     ]
    }
   ],
   "source": [
    "%%time\n",
    "study_lr = optuna.create_study(direction='maximize')\n",
    "study_lr.optimize(objective_lr, n_trials=100, timeout=600, n_jobs=-1)\n"
   ]
  },
  {
   "cell_type": "code",
   "execution_count": 88,
   "id": "914635fb",
   "metadata": {},
   "outputs": [
    {
     "data": {
      "text/plain": [
       "{'C': 0.7960008766167348, 'penalty': 'l2', 'max_iter': 992}"
      ]
     },
     "execution_count": 88,
     "metadata": {},
     "output_type": "execute_result"
    }
   ],
   "source": [
    "best_params_lr = study_lr.best_trial.params\n",
    "best_params_lr\n"
   ]
  },
  {
   "cell_type": "code",
   "execution_count": 89,
   "id": "73b8597e",
   "metadata": {},
   "outputs": [
    {
     "data": {
      "text/plain": [
       "0.7472524556925975"
      ]
     },
     "execution_count": 89,
     "metadata": {},
     "output_type": "execute_result"
    }
   ],
   "source": [
    "model = LogisticRegression(random_state=42,\n",
    "                           class_weight = 'balanced',\n",
    "                           solver = 'liblinear',\n",
    "                           **best_params_lr)\n",
    "model.fit(X_train, y_train.values.ravel())\n",
    "\n",
    "roc_auc_score(y_val.values.ravel(), model.predict_proba(X_val)[:, 1])\n"
   ]
  },
  {
   "cell_type": "markdown",
   "id": "817e105e",
   "metadata": {},
   "source": [
    "Результат совсем немного улучшился, но в целом неплохой."
   ]
  },
  {
   "cell_type": "markdown",
   "id": "9c666dcc",
   "metadata": {},
   "source": [
    "### LGBMClassifier"
   ]
  },
  {
   "cell_type": "code",
   "execution_count": 90,
   "id": "db54748b",
   "metadata": {},
   "outputs": [],
   "source": [
    "def objective_lgbm(trial):\n",
    "\n",
    "    param = {     \n",
    "        'max_depth' : trial.suggest_int(\"max_depth\", 3, 10),\n",
    "        'n_estimators' : trial.suggest_int('n_estimators', 500, 4000, log=True),\n",
    "        'learning_rate' : trial.suggest_float('learning_rate', 0.01, 0.4, log=True),\n",
    "        'num_leaves' : trial.suggest_int(\"num_leaves\", 3, 20)\n",
    "        ###\n",
    "    }\n",
    "\n",
    "    model = lgb.LGBMClassifier(n_jobs=-1, random_state = 42,  **param)\n",
    "    model.fit(X_train_c, y_train.values.ravel())\n",
    "\n",
    "    accuracy = roc_auc_score(y_val.values.ravel(), model.predict_proba(X_val_c)[:, 1])\n",
    "\n",
    "    return accuracy\n",
    "   "
   ]
  },
  {
   "cell_type": "code",
   "execution_count": 91,
   "id": "7aa9e761",
   "metadata": {},
   "outputs": [
    {
     "name": "stderr",
     "output_type": "stream",
     "text": [
      "\u001b[32m[I 2023-08-03 21:38:19,758]\u001b[0m A new study created in memory with name: no-name-65e70532-15ba-428a-82a7-021de9c83e81\u001b[0m\n",
      "\u001b[32m[I 2023-08-03 21:38:29,811]\u001b[0m Trial 5 finished with value: 0.7374143590873912 and parameters: {'max_depth': 7, 'n_estimators': 618, 'learning_rate': 0.36133182929180563, 'num_leaves': 10}. Best is trial 5 with value: 0.7374143590873912.\u001b[0m\n",
      "\u001b[32m[I 2023-08-03 21:38:32,367]\u001b[0m Trial 7 finished with value: 0.7418860529017643 and parameters: {'max_depth': 3, 'n_estimators': 1022, 'learning_rate': 0.28781117713691745, 'num_leaves': 13}. Best is trial 7 with value: 0.7418860529017643.\u001b[0m\n",
      "\u001b[32m[I 2023-08-03 21:38:33,336]\u001b[0m Trial 4 finished with value: 0.7576770636934067 and parameters: {'max_depth': 10, 'n_estimators': 925, 'learning_rate': 0.037786310526305524, 'num_leaves': 6}. Best is trial 4 with value: 0.7576770636934067.\u001b[0m\n",
      "\u001b[32m[I 2023-08-03 21:38:36,450]\u001b[0m Trial 3 finished with value: 0.7560401444552496 and parameters: {'max_depth': 5, 'n_estimators': 1087, 'learning_rate': 0.044779018046302764, 'num_leaves': 8}. Best is trial 4 with value: 0.7576770636934067.\u001b[0m\n",
      "\u001b[32m[I 2023-08-03 21:38:38,926]\u001b[0m Trial 8 finished with value: 0.7571570181859999 and parameters: {'max_depth': 8, 'n_estimators': 1112, 'learning_rate': 0.09090764295440906, 'num_leaves': 3}. Best is trial 4 with value: 0.7576770636934067.\u001b[0m\n",
      "\u001b[32m[I 2023-08-03 21:38:47,815]\u001b[0m Trial 1 finished with value: 0.7289110393277891 and parameters: {'max_depth': 9, 'n_estimators': 1713, 'learning_rate': 0.2692284868664181, 'num_leaves': 9}. Best is trial 4 with value: 0.7576770636934067.\u001b[0m\n",
      "\u001b[32m[I 2023-08-03 21:38:48,943]\u001b[0m Trial 9 finished with value: 0.7533262644848941 and parameters: {'max_depth': 3, 'n_estimators': 1137, 'learning_rate': 0.07311775091521391, 'num_leaves': 12}. Best is trial 4 with value: 0.7576770636934067.\u001b[0m\n",
      "\u001b[32m[I 2023-08-03 21:38:51,084]\u001b[0m Trial 6 finished with value: 0.7559729831093294 and parameters: {'max_depth': 9, 'n_estimators': 3168, 'learning_rate': 0.03503201882952166, 'num_leaves': 4}. Best is trial 4 with value: 0.7576770636934067.\u001b[0m\n",
      "\u001b[32m[I 2023-08-03 21:38:58,785]\u001b[0m Trial 15 finished with value: 0.7565492561122733 and parameters: {'max_depth': 9, 'n_estimators': 719, 'learning_rate': 0.08896734918208181, 'num_leaves': 5}. Best is trial 4 with value: 0.7576770636934067.\u001b[0m\n",
      "\u001b[32m[I 2023-08-03 21:39:00,720]\u001b[0m Trial 2 finished with value: 0.7576010967023193 and parameters: {'max_depth': 8, 'n_estimators': 1631, 'learning_rate': 0.01416093855210655, 'num_leaves': 12}. Best is trial 4 with value: 0.7576770636934067.\u001b[0m\n",
      "\u001b[32m[I 2023-08-03 21:39:01,817]\u001b[0m Trial 13 finished with value: 0.7396767562697186 and parameters: {'max_depth': 3, 'n_estimators': 863, 'learning_rate': 0.38084595450284936, 'num_leaves': 19}. Best is trial 4 with value: 0.7576770636934067.\u001b[0m\n",
      "\u001b[32m[I 2023-08-03 21:39:03,936]\u001b[0m Trial 10 finished with value: 0.7542371310881755 and parameters: {'max_depth': 10, 'n_estimators': 1343, 'learning_rate': 0.04864785068755182, 'num_leaves': 11}. Best is trial 4 with value: 0.7576770636934067.\u001b[0m\n",
      "\u001b[32m[I 2023-08-03 21:39:06,151]\u001b[0m Trial 14 finished with value: 0.7418596202792461 and parameters: {'max_depth': 4, 'n_estimators': 619, 'learning_rate': 0.20010103802830295, 'num_leaves': 20}. Best is trial 4 with value: 0.7576770636934067.\u001b[0m\n",
      "\u001b[32m[I 2023-08-03 21:39:10,464]\u001b[0m Trial 12 finished with value: 0.7564070689962458 and parameters: {'max_depth': 4, 'n_estimators': 2599, 'learning_rate': 0.022444750449811934, 'num_leaves': 6}. Best is trial 4 with value: 0.7576770636934067.\u001b[0m\n",
      "\u001b[32m[I 2023-08-03 21:39:13,070]\u001b[0m Trial 0 finished with value: 0.738153886869296 and parameters: {'max_depth': 8, 'n_estimators': 1411, 'learning_rate': 0.11784145971057258, 'num_leaves': 19}. Best is trial 4 with value: 0.7576770636934067.\u001b[0m\n",
      "\u001b[32m[I 2023-08-03 21:39:16,288]\u001b[0m Trial 11 finished with value: 0.72106274662212 and parameters: {'max_depth': 7, 'n_estimators': 1226, 'learning_rate': 0.28902298117805847, 'num_leaves': 18}. Best is trial 4 with value: 0.7576770636934067.\u001b[0m\n",
      "\u001b[32m[I 2023-08-03 21:39:20,975]\u001b[0m Trial 20 finished with value: 0.7587183155474291 and parameters: {'max_depth': 7, 'n_estimators': 500, 'learning_rate': 0.014925922457920305, 'num_leaves': 16}. Best is trial 20 with value: 0.7587183155474291.\u001b[0m\n",
      "\u001b[32m[I 2023-08-03 21:39:23,456]\u001b[0m Trial 17 finished with value: 0.7587691153353155 and parameters: {'max_depth': 10, 'n_estimators': 622, 'learning_rate': 0.01049706264580804, 'num_leaves': 18}. Best is trial 17 with value: 0.7587691153353155.\u001b[0m\n",
      "\u001b[32m[I 2023-08-03 21:39:32,604]\u001b[0m Trial 24 finished with value: 0.7582094444246557 and parameters: {'max_depth': 6, 'n_estimators': 503, 'learning_rate': 0.010400153393917064, 'num_leaves': 15}. Best is trial 17 with value: 0.7587691153353155.\u001b[0m\n",
      "\u001b[32m[I 2023-08-03 21:39:36,116]\u001b[0m Trial 25 finished with value: 0.7583466169244625 and parameters: {'max_depth': 6, 'n_estimators': 542, 'learning_rate': 0.010105238596003322, 'num_leaves': 16}. Best is trial 17 with value: 0.7587691153353155.\u001b[0m\n",
      "\u001b[32m[I 2023-08-03 21:39:42,747]\u001b[0m Trial 19 finished with value: 0.7569798071915097 and parameters: {'max_depth': 6, 'n_estimators': 1736, 'learning_rate': 0.01188594951479267, 'num_leaves': 16}. Best is trial 17 with value: 0.7587691153353155.\u001b[0m\n",
      "\u001b[32m[I 2023-08-03 21:39:45,450]\u001b[0m Trial 26 finished with value: 0.7584828586613005 and parameters: {'max_depth': 6, 'n_estimators': 516, 'learning_rate': 0.017204409871891303, 'num_leaves': 15}. Best is trial 17 with value: 0.7587691153353155.\u001b[0m\n",
      "\u001b[32m[I 2023-08-03 21:39:49,213]\u001b[0m Trial 18 finished with value: 0.7568434817905846 and parameters: {'max_depth': 10, 'n_estimators': 1759, 'learning_rate': 0.010960698189983731, 'num_leaves': 17}. Best is trial 17 with value: 0.7587691153353155.\u001b[0m\n",
      "\u001b[32m[I 2023-08-03 21:39:51,085]\u001b[0m Trial 21 finished with value: 0.757325109794996 and parameters: {'max_depth': 7, 'n_estimators': 1779, 'learning_rate': 0.012301504911385082, 'num_leaves': 15}. Best is trial 17 with value: 0.7587691153353155.\u001b[0m\n",
      "\u001b[32m[I 2023-08-03 21:39:55,821]\u001b[0m Trial 28 finished with value: 0.7589828823068632 and parameters: {'max_depth': 5, 'n_estimators': 500, 'learning_rate': 0.016447237346885427, 'num_leaves': 15}. Best is trial 28 with value: 0.7589828823068632.\u001b[0m\n",
      "\u001b[32m[I 2023-08-03 21:39:56,975]\u001b[0m Trial 27 finished with value: 0.7578340959558894 and parameters: {'max_depth': 5, 'n_estimators': 764, 'learning_rate': 0.02224440874209707, 'num_leaves': 16}. Best is trial 28 with value: 0.7589828823068632.\u001b[0m\n",
      "\u001b[32m[I 2023-08-03 21:40:04,904]\u001b[0m Trial 22 finished with value: 0.7575023103314752 and parameters: {'max_depth': 10, 'n_estimators': 1884, 'learning_rate': 0.010331875099889488, 'num_leaves': 16}. Best is trial 28 with value: 0.7589828823068632.\u001b[0m\n",
      "\u001b[32m[I 2023-08-03 21:40:06,237]\u001b[0m Trial 16 finished with value: 0.7495601360620683 and parameters: {'max_depth': 4, 'n_estimators': 2904, 'learning_rate': 0.03081735621533449, 'num_leaves': 17}. Best is trial 28 with value: 0.7589828823068632.\u001b[0m\n",
      "\u001b[32m[I 2023-08-03 21:40:07,321]\u001b[0m Trial 30 finished with value: 0.7589710333805275 and parameters: {'max_depth': 5, 'n_estimators': 504, 'learning_rate': 0.01575652920535765, 'num_leaves': 14}. Best is trial 28 with value: 0.7589828823068632.\u001b[0m\n",
      "\u001b[32m[I 2023-08-03 21:40:08,178]\u001b[0m Trial 23 finished with value: 0.7575858332354288 and parameters: {'max_depth': 10, 'n_estimators': 1714, 'learning_rate': 0.010907755047903554, 'num_leaves': 15}. Best is trial 28 with value: 0.7589828823068632.\u001b[0m\n",
      "\u001b[32m[I 2023-08-03 21:40:09,199]\u001b[0m Trial 31 finished with value: 0.7589838758178975 and parameters: {'max_depth': 5, 'n_estimators': 512, 'learning_rate': 0.01758527168767981, 'num_leaves': 14}. Best is trial 31 with value: 0.7589838758178975.\u001b[0m\n",
      "\u001b[32m[I 2023-08-03 21:40:12,655]\u001b[0m Trial 29 finished with value: 0.7587898169678675 and parameters: {'max_depth': 5, 'n_estimators': 743, 'learning_rate': 0.017264444357093473, 'num_leaves': 14}. Best is trial 31 with value: 0.7589838758178975.\u001b[0m\n",
      "\u001b[32m[I 2023-08-03 21:40:18,563]\u001b[0m Trial 32 finished with value: 0.758489980566715 and parameters: {'max_depth': 5, 'n_estimators': 707, 'learning_rate': 0.021365667591182764, 'num_leaves': 14}. Best is trial 31 with value: 0.7589838758178975.\u001b[0m\n",
      "\u001b[32m[I 2023-08-03 21:40:19,562]\u001b[0m Trial 33 finished with value: 0.7589297712985705 and parameters: {'max_depth': 5, 'n_estimators': 624, 'learning_rate': 0.018237286246234895, 'num_leaves': 14}. Best is trial 31 with value: 0.7589838758178975.\u001b[0m\n",
      "\u001b[32m[I 2023-08-03 21:40:21,355]\u001b[0m Trial 34 finished with value: 0.7589106958867117 and parameters: {'max_depth': 5, 'n_estimators': 625, 'learning_rate': 0.015685649412546358, 'num_leaves': 14}. Best is trial 31 with value: 0.7589838758178975.\u001b[0m\n",
      "\u001b[32m[I 2023-08-03 21:40:21,993]\u001b[0m Trial 36 finished with value: 0.7591121171764065 and parameters: {'max_depth': 5, 'n_estimators': 616, 'learning_rate': 0.01887823204084579, 'num_leaves': 14}. Best is trial 36 with value: 0.7591121171764065.\u001b[0m\n",
      "\u001b[32m[I 2023-08-03 21:40:22,630]\u001b[0m Trial 38 finished with value: 0.7588517440793384 and parameters: {'max_depth': 5, 'n_estimators': 611, 'learning_rate': 0.01926823969486539, 'num_leaves': 13}. Best is trial 36 with value: 0.7591121171764065.\u001b[0m\n",
      "\u001b[32m[I 2023-08-03 21:40:23,591]\u001b[0m Trial 37 finished with value: 0.7588663539205484 and parameters: {'max_depth': 5, 'n_estimators': 613, 'learning_rate': 0.018686972393430642, 'num_leaves': 13}. Best is trial 36 with value: 0.7591121171764065.\u001b[0m\n",
      "\u001b[32m[I 2023-08-03 21:40:24,842]\u001b[0m Trial 35 finished with value: 0.7589059584077796 and parameters: {'max_depth': 5, 'n_estimators': 613, 'learning_rate': 0.018978616227870115, 'num_leaves': 14}. Best is trial 36 with value: 0.7591121171764065.\u001b[0m\n",
      "\u001b[32m[I 2023-08-03 21:40:28,623]\u001b[0m Trial 39 finished with value: 0.7590158093541428 and parameters: {'max_depth': 5, 'n_estimators': 581, 'learning_rate': 0.018841315518319454, 'num_leaves': 13}. Best is trial 36 with value: 0.7591121171764065.\u001b[0m\n",
      "\u001b[32m[I 2023-08-03 21:40:33,079]\u001b[0m Trial 44 finished with value: 0.7586628619446976 and parameters: {'max_depth': 4, 'n_estimators': 561, 'learning_rate': 0.02689270043970342, 'num_leaves': 10}. Best is trial 36 with value: 0.7591121171764065.\u001b[0m\n",
      "\u001b[32m[I 2023-08-03 21:40:34,632]\u001b[0m Trial 40 finished with value: 0.7586440166090782 and parameters: {'max_depth': 5, 'n_estimators': 578, 'learning_rate': 0.017061477144053417, 'num_leaves': 13}. Best is trial 36 with value: 0.7591121171764065.\u001b[0m\n",
      "\u001b[32m[I 2023-08-03 21:40:34,963]\u001b[0m Trial 41 finished with value: 0.7582904887800289 and parameters: {'max_depth': 4, 'n_estimators': 571, 'learning_rate': 0.027820457149006498, 'num_leaves': 13}. Best is trial 36 with value: 0.7591121171764065.\u001b[0m\n",
      "\u001b[32m[I 2023-08-03 21:40:35,509]\u001b[0m Trial 43 finished with value: 0.7586579048475369 and parameters: {'max_depth': 4, 'n_estimators': 561, 'learning_rate': 0.025788842391706476, 'num_leaves': 12}. Best is trial 36 with value: 0.7591121171764065.\u001b[0m\n",
      "\u001b[32m[I 2023-08-03 21:40:35,600]\u001b[0m Trial 42 finished with value: 0.7582479612787545 and parameters: {'max_depth': 4, 'n_estimators': 553, 'learning_rate': 0.027698803958878165, 'num_leaves': 13}. Best is trial 36 with value: 0.7591121171764065.\u001b[0m\n",
      "\u001b[32m[I 2023-08-03 21:40:36,455]\u001b[0m Trial 45 finished with value: 0.75864409504416 and parameters: {'max_depth': 4, 'n_estimators': 554, 'learning_rate': 0.02602849850570467, 'num_leaves': 10}. Best is trial 36 with value: 0.7591121171764065.\u001b[0m\n",
      "\u001b[32m[I 2023-08-03 21:40:39,765]\u001b[0m Trial 46 finished with value: 0.7587009291043284 and parameters: {'max_depth': 4, 'n_estimators': 546, 'learning_rate': 0.025186333379914043, 'num_leaves': 10}. Best is trial 36 with value: 0.7591121171764065.\u001b[0m\n",
      "\u001b[32m[I 2023-08-03 21:40:47,416]\u001b[0m Trial 47 finished with value: 0.7583036763317581 and parameters: {'max_depth': 4, 'n_estimators': 837, 'learning_rate': 0.026492560106681426, 'num_leaves': 10}. Best is trial 36 with value: 0.7591121171764065.\u001b[0m\n",
      "\u001b[32m[I 2023-08-03 21:40:47,927]\u001b[0m Trial 48 finished with value: 0.7581140098463011 and parameters: {'max_depth': 4, 'n_estimators': 550, 'learning_rate': 0.013670306265480475, 'num_leaves': 12}. Best is trial 36 with value: 0.7591121171764065.\u001b[0m\n",
      "\u001b[32m[I 2023-08-03 21:40:49,004]\u001b[0m Trial 51 finished with value: 0.7589012052418311 and parameters: {'max_depth': 6, 'n_estimators': 501, 'learning_rate': 0.014256442497503845, 'num_leaves': 11}. Best is trial 36 with value: 0.7591121171764065.\u001b[0m\n",
      "\u001b[32m[I 2023-08-03 21:40:51,653]\u001b[0m Trial 53 finished with value: 0.758881115402916 and parameters: {'max_depth': 6, 'n_estimators': 501, 'learning_rate': 0.013205062880361051, 'num_leaves': 11}. Best is trial 36 with value: 0.7591121171764065.\u001b[0m\n",
      "\u001b[32m[I 2023-08-03 21:40:51,830]\u001b[0m Trial 49 finished with value: 0.7582556060847133 and parameters: {'max_depth': 4, 'n_estimators': 547, 'learning_rate': 0.013302560485485492, 'num_leaves': 11}. Best is trial 36 with value: 0.7591121171764065.\u001b[0m\n",
      "\u001b[32m[I 2023-08-03 21:40:52,045]\u001b[0m Trial 50 finished with value: 0.7588402768704001 and parameters: {'max_depth': 6, 'n_estimators': 530, 'learning_rate': 0.01323807815538329, 'num_leaves': 11}. Best is trial 36 with value: 0.7591121171764065.\u001b[0m\n",
      "\u001b[32m[I 2023-08-03 21:40:53,468]\u001b[0m Trial 52 finished with value: 0.7590146432859288 and parameters: {'max_depth': 6, 'n_estimators': 682, 'learning_rate': 0.013823014574828766, 'num_leaves': 10}. Best is trial 36 with value: 0.7591121171764065.\u001b[0m\n",
      "\u001b[32m[I 2023-08-03 21:41:00,065]\u001b[0m Trial 57 finished with value: 0.7574992722793124 and parameters: {'max_depth': 3, 'n_estimators': 661, 'learning_rate': 0.036779280726549936, 'num_leaves': 11}. Best is trial 36 with value: 0.7591121171764065.\u001b[0m\n",
      "\u001b[32m[I 2023-08-03 21:41:00,157]\u001b[0m Trial 54 finished with value: 0.7590036832905186 and parameters: {'max_depth': 6, 'n_estimators': 679, 'learning_rate': 0.01361836424800231, 'num_leaves': 11}. Best is trial 36 with value: 0.7591121171764065.\u001b[0m\n",
      "\u001b[32m[I 2023-08-03 21:41:02,714]\u001b[0m Trial 56 finished with value: 0.7584027189238689 and parameters: {'max_depth': 6, 'n_estimators': 697, 'learning_rate': 0.013420498264006887, 'num_leaves': 8}. Best is trial 36 with value: 0.7591121171764065.\u001b[0m\n",
      "\u001b[32m[I 2023-08-03 21:41:05,163]\u001b[0m Trial 61 finished with value: 0.758495612205578 and parameters: {'max_depth': 5, 'n_estimators': 675, 'learning_rate': 0.02137429868345964, 'num_leaves': 7}. Best is trial 36 with value: 0.7591121171764065.\u001b[0m\n",
      "\u001b[32m[I 2023-08-03 21:41:08,448]\u001b[0m Trial 55 finished with value: 0.7589169340902061 and parameters: {'max_depth': 6, 'n_estimators': 701, 'learning_rate': 0.013646929573926315, 'num_leaves': 11}. Best is trial 36 with value: 0.7591121171764065.\u001b[0m\n",
      "\u001b[32m[I 2023-08-03 21:41:11,025]\u001b[0m Trial 59 finished with value: 0.756636277220869 and parameters: {'max_depth': 5, 'n_estimators': 685, 'learning_rate': 0.03722562255093743, 'num_leaves': 14}. Best is trial 36 with value: 0.7591121171764065.\u001b[0m\n",
      "\u001b[32m[I 2023-08-03 21:41:12,999]\u001b[0m Trial 60 finished with value: 0.7577094260080983 and parameters: {'max_depth': 5, 'n_estimators': 670, 'learning_rate': 0.032637855643429185, 'num_leaves': 14}. Best is trial 36 with value: 0.7591121171764065.\u001b[0m\n",
      "\u001b[32m[I 2023-08-03 21:41:13,355]\u001b[0m Trial 58 finished with value: 0.7572671096666135 and parameters: {'max_depth': 5, 'n_estimators': 692, 'learning_rate': 0.03451064953731484, 'num_leaves': 14}. Best is trial 36 with value: 0.7591121171764065.\u001b[0m\n",
      "\u001b[32m[I 2023-08-03 21:41:14,584]\u001b[0m Trial 62 finished with value: 0.7583973591932891 and parameters: {'max_depth': 5, 'n_estimators': 677, 'learning_rate': 0.014916485892509521, 'num_leaves': 8}. Best is trial 36 with value: 0.7591121171764065.\u001b[0m\n",
      "\u001b[32m[I 2023-08-03 21:41:16,319]\u001b[0m Trial 64 finished with value: 0.7581981079408535 and parameters: {'max_depth': 7, 'n_estimators': 676, 'learning_rate': 0.02103212185485246, 'num_leaves': 7}. Best is trial 36 with value: 0.7591121171764065.\u001b[0m\n",
      "\u001b[32m[I 2023-08-03 21:41:17,785]\u001b[0m Trial 63 finished with value: 0.7586777384651853 and parameters: {'max_depth': 7, 'n_estimators': 692, 'learning_rate': 0.02196476040272762, 'num_leaves': 8}. Best is trial 36 with value: 0.7591121171764065.\u001b[0m\n",
      "\u001b[32m[I 2023-08-03 21:41:24,644]\u001b[0m Trial 65 finished with value: 0.7583998952609294 and parameters: {'max_depth': 7, 'n_estimators': 921, 'learning_rate': 0.015610729535111193, 'num_leaves': 8}. Best is trial 36 with value: 0.7591121171764065.\u001b[0m\n",
      "\u001b[32m[I 2023-08-03 21:41:28,754]\u001b[0m Trial 66 finished with value: 0.757933713738599 and parameters: {'max_depth': 7, 'n_estimators': 780, 'learning_rate': 0.03148785311646325, 'num_leaves': 9}. Best is trial 36 with value: 0.7591121171764065.\u001b[0m\n",
      "\u001b[32m[I 2023-08-03 21:41:30,493]\u001b[0m Trial 69 finished with value: 0.758539195965952 and parameters: {'max_depth': 6, 'n_estimators': 766, 'learning_rate': 0.015343319357364686, 'num_leaves': 8}. Best is trial 36 with value: 0.7591121171764065.\u001b[0m\n",
      "\u001b[32m[I 2023-08-03 21:41:31,746]\u001b[0m Trial 68 finished with value: 0.758554548325935 and parameters: {'max_depth': 7, 'n_estimators': 780, 'learning_rate': 0.01533007126945354, 'num_leaves': 8}. Best is trial 36 with value: 0.7591121171764065.\u001b[0m\n",
      "\u001b[32m[I 2023-08-03 21:41:32,585]\u001b[0m Trial 67 finished with value: 0.7589005307001289 and parameters: {'max_depth': 7, 'n_estimators': 818, 'learning_rate': 0.011793578992363054, 'num_leaves': 9}. Best is trial 36 with value: 0.7591121171764065.\u001b[0m\n",
      "\u001b[32m[I 2023-08-03 21:41:36,363]\u001b[0m Trial 70 finished with value: 0.7588323444691418 and parameters: {'max_depth': 7, 'n_estimators': 791, 'learning_rate': 0.015653835969836785, 'num_leaves': 9}. Best is trial 36 with value: 0.7591121171764065.\u001b[0m\n",
      "\u001b[32m[I 2023-08-03 21:41:37,688]\u001b[0m Trial 72 finished with value: 0.7589581491111139 and parameters: {'max_depth': 8, 'n_estimators': 786, 'learning_rate': 0.011500358079686294, 'num_leaves': 9}. Best is trial 36 with value: 0.7591121171764065.\u001b[0m\n",
      "\u001b[32m[I 2023-08-03 21:41:38,619]\u001b[0m Trial 73 finished with value: 0.758717489364569 and parameters: {'max_depth': 6, 'n_estimators': 595, 'learning_rate': 0.011767580923514357, 'num_leaves': 9}. Best is trial 36 with value: 0.7591121171764065.\u001b[0m\n",
      "\u001b[32m[I 2023-08-03 21:41:40,018]\u001b[0m Trial 71 finished with value: 0.7589171014183802 and parameters: {'max_depth': 8, 'n_estimators': 810, 'learning_rate': 0.011769658156257587, 'num_leaves': 12}. Best is trial 36 with value: 0.7591121171764065.\u001b[0m\n",
      "\u001b[32m[I 2023-08-03 21:41:46,980]\u001b[0m Trial 75 finished with value: 0.7589776428434085 and parameters: {'max_depth': 8, 'n_estimators': 594, 'learning_rate': 0.011818784417275508, 'num_leaves': 12}. Best is trial 36 with value: 0.7591121171764065.\u001b[0m\n",
      "\u001b[32m[I 2023-08-03 21:41:49,417]\u001b[0m Trial 74 finished with value: 0.7586340344376861 and parameters: {'max_depth': 6, 'n_estimators': 590, 'learning_rate': 0.01176741484195862, 'num_leaves': 17}. Best is trial 36 with value: 0.7591121171764065.\u001b[0m\n",
      "\u001b[32m[I 2023-08-03 21:41:50,956]\u001b[0m Trial 78 finished with value: 0.7588653656385194 and parameters: {'max_depth': 5, 'n_estimators': 597, 'learning_rate': 0.017783772597937963, 'num_leaves': 15}. Best is trial 36 with value: 0.7591121171764065.\u001b[0m\n",
      "\u001b[32m[I 2023-08-03 21:41:51,642]\u001b[0m Trial 77 finished with value: 0.7586818432344586 and parameters: {'max_depth': 8, 'n_estimators': 588, 'learning_rate': 0.011602802418973938, 'num_leaves': 17}. Best is trial 36 with value: 0.7591121171764065.\u001b[0m\n",
      "\u001b[32m[I 2023-08-03 21:41:54,139]\u001b[0m Trial 79 finished with value: 0.7589448203762377 and parameters: {'max_depth': 8, 'n_estimators': 583, 'learning_rate': 0.01194866581085409, 'num_leaves': 12}. Best is trial 36 with value: 0.7591121171764065.\u001b[0m\n",
      "\u001b[32m[I 2023-08-03 21:41:54,258]\u001b[0m Trial 76 finished with value: 0.7585657906876392 and parameters: {'max_depth': 8, 'n_estimators': 590, 'learning_rate': 0.01147794267218724, 'num_leaves': 17}. Best is trial 36 with value: 0.7591121171764065.\u001b[0m\n",
      "\u001b[32m[I 2023-08-03 21:41:56,588]\u001b[0m Trial 81 finished with value: 0.7584674644692742 and parameters: {'max_depth': 9, 'n_estimators': 587, 'learning_rate': 0.016728421307808564, 'num_leaves': 15}. Best is trial 36 with value: 0.7591121171764065.\u001b[0m\n",
      "\u001b[32m[I 2023-08-03 21:41:57,338]\u001b[0m Trial 80 finished with value: 0.7587786896442831 and parameters: {'max_depth': 8, 'n_estimators': 637, 'learning_rate': 0.011441577330328958, 'num_leaves': 15}. Best is trial 36 with value: 0.7591121171764065.\u001b[0m\n",
      "\u001b[32m[I 2023-08-03 21:42:02,963]\u001b[0m Trial 82 finished with value: 0.758998208521819 and parameters: {'max_depth': 5, 'n_estimators': 580, 'learning_rate': 0.017738680200101373, 'num_leaves': 15}. Best is trial 36 with value: 0.7591121171764065.\u001b[0m\n",
      "\u001b[32m[I 2023-08-03 21:42:03,907]\u001b[0m Trial 84 finished with value: 0.7586959354041297 and parameters: {'max_depth': 9, 'n_estimators': 526, 'learning_rate': 0.019213079160644658, 'num_leaves': 12}. Best is trial 36 with value: 0.7591121171764065.\u001b[0m\n",
      "\u001b[32m[I 2023-08-03 21:42:04,913]\u001b[0m Trial 85 finished with value: 0.7588402925574166 and parameters: {'max_depth': 9, 'n_estimators': 522, 'learning_rate': 0.010123857812155588, 'num_leaves': 12}. Best is trial 36 with value: 0.7591121171764065.\u001b[0m\n",
      "\u001b[32m[I 2023-08-03 21:42:08,232]\u001b[0m Trial 86 finished with value: 0.7589378135089431 and parameters: {'max_depth': 5, 'n_estimators': 525, 'learning_rate': 0.019384017083213908, 'num_leaves': 15}. Best is trial 36 with value: 0.7591121171764065.\u001b[0m\n",
      "\u001b[32m[I 2023-08-03 21:42:10,293]\u001b[0m Trial 89 finished with value: 0.7589144241675931 and parameters: {'max_depth': 9, 'n_estimators': 537, 'learning_rate': 0.010174672225712505, 'num_leaves': 13}. Best is trial 36 with value: 0.7591121171764065.\u001b[0m\n",
      "\u001b[32m[I 2023-08-03 21:42:10,419]\u001b[0m Trial 88 finished with value: 0.7585652468710729 and parameters: {'max_depth': 5, 'n_estimators': 641, 'learning_rate': 0.01032746243241312, 'num_leaves': 13}. Best is trial 36 with value: 0.7591121171764065.\u001b[0m\n",
      "\u001b[32m[I 2023-08-03 21:42:11,212]\u001b[0m Trial 83 finished with value: 0.7583559036381307 and parameters: {'max_depth': 9, 'n_estimators': 641, 'learning_rate': 0.017271540684153347, 'num_leaves': 15}. Best is trial 36 with value: 0.7591121171764065.\u001b[0m\n",
      "\u001b[32m[I 2023-08-03 21:42:12,107]\u001b[0m Trial 87 finished with value: 0.7587043488738888 and parameters: {'max_depth': 9, 'n_estimators': 525, 'learning_rate': 0.016711743462887233, 'num_leaves': 15}. Best is trial 36 with value: 0.7591121171764065.\u001b[0m\n",
      "\u001b[32m[I 2023-08-03 21:42:16,189]\u001b[0m Trial 91 finished with value: 0.7587824388411863 and parameters: {'max_depth': 5, 'n_estimators': 524, 'learning_rate': 0.016828103998816252, 'num_leaves': 13}. Best is trial 36 with value: 0.7591121171764065.\u001b[0m\n",
      "\u001b[32m[I 2023-08-03 21:42:17,112]\u001b[0m Trial 90 finished with value: 0.7589735694481679 and parameters: {'max_depth': 5, 'n_estimators': 520, 'learning_rate': 0.01955528349805454, 'num_leaves': 13}. Best is trial 36 with value: 0.7591121171764065.\u001b[0m\n",
      "\u001b[32m[I 2023-08-03 21:42:20,309]\u001b[0m Trial 92 finished with value: 0.7589501225877578 and parameters: {'max_depth': 5, 'n_estimators': 631, 'learning_rate': 0.01689220947143583, 'num_leaves': 13}. Best is trial 36 with value: 0.7591121171764065.\u001b[0m\n",
      "\u001b[32m[I 2023-08-03 21:42:25,679]\u001b[0m Trial 93 finished with value: 0.7587970539114017 and parameters: {'max_depth': 5, 'n_estimators': 647, 'learning_rate': 0.016503449027616118, 'num_leaves': 13}. Best is trial 36 with value: 0.7591121171764065.\u001b[0m\n",
      "\u001b[32m[I 2023-08-03 21:42:27,520]\u001b[0m Trial 94 finished with value: 0.7588380179400482 and parameters: {'max_depth': 5, 'n_estimators': 629, 'learning_rate': 0.016816644171032725, 'num_leaves': 16}. Best is trial 36 with value: 0.7591121171764065.\u001b[0m\n",
      "\u001b[32m[I 2023-08-03 21:42:28,318]\u001b[0m Trial 97 finished with value: 0.7585000673182161 and parameters: {'max_depth': 6, 'n_estimators': 505, 'learning_rate': 0.01999875979049518, 'num_leaves': 16}. Best is trial 36 with value: 0.7591121171764065.\u001b[0m\n",
      "\u001b[32m[I 2023-08-03 21:42:31,724]\u001b[0m Trial 95 finished with value: 0.7582677844383919 and parameters: {'max_depth': 6, 'n_estimators': 728, 'learning_rate': 0.016644621323543305, 'num_leaves': 16}. Best is trial 36 with value: 0.7591121171764065.\u001b[0m\n",
      "\u001b[32m[I 2023-08-03 21:42:34,730]\u001b[0m Trial 96 finished with value: 0.7574102432326264 and parameters: {'max_depth': 6, 'n_estimators': 733, 'learning_rate': 0.024156793822436802, 'num_leaves': 16}. Best is trial 36 with value: 0.7591121171764065.\u001b[0m\n",
      "\u001b[32m[I 2023-08-03 21:42:36,255]\u001b[0m Trial 100 finished with value: 0.7588179856201932 and parameters: {'max_depth': 5, 'n_estimators': 574, 'learning_rate': 0.012886687110076305, 'num_leaves': 16}. Best is trial 36 with value: 0.7591121171764065.\u001b[0m\n",
      "\u001b[32m[I 2023-08-03 21:42:38,271]\u001b[0m Trial 98 finished with value: 0.7585537430590965 and parameters: {'max_depth': 6, 'n_estimators': 736, 'learning_rate': 0.012880181880584476, 'num_leaves': 16}. Best is trial 36 with value: 0.7591121171764065.\u001b[0m\n",
      "\u001b[32m[I 2023-08-03 21:42:39,119]\u001b[0m Trial 99 finished with value: 0.7580141985903899 and parameters: {'max_depth': 5, 'n_estimators': 732, 'learning_rate': 0.022974791789642218, 'num_leaves': 16}. Best is trial 36 with value: 0.7591121171764065.\u001b[0m\n",
      "\u001b[32m[I 2023-08-03 21:42:42,868]\u001b[0m Trial 101 finished with value: 0.7586796993422266 and parameters: {'max_depth': 6, 'n_estimators': 500, 'learning_rate': 0.014403203027504847, 'num_leaves': 16}. Best is trial 36 with value: 0.7591121171764065.\u001b[0m\n",
      "\u001b[32m[I 2023-08-03 21:42:45,035]\u001b[0m Trial 103 finished with value: 0.7586719499561589 and parameters: {'max_depth': 6, 'n_estimators': 564, 'learning_rate': 0.023667896508859868, 'num_leaves': 14}. Best is trial 36 with value: 0.7591121171764065.\u001b[0m\n",
      "\u001b[32m[I 2023-08-03 21:42:46,026]\u001b[0m Trial 104 finished with value: 0.7586875794534305 and parameters: {'max_depth': 5, 'n_estimators': 560, 'learning_rate': 0.0238302051381681, 'num_leaves': 14}. Best is trial 36 with value: 0.7591121171764065.\u001b[0m\n",
      "\u001b[32m[I 2023-08-03 21:42:48,540]\u001b[0m Trial 106 finished with value: 0.7582847682480733 and parameters: {'max_depth': 4, 'n_estimators': 546, 'learning_rate': 0.014157587348403923, 'num_leaves': 14}. Best is trial 36 with value: 0.7591121171764065.\u001b[0m\n",
      "\u001b[32m[I 2023-08-03 21:42:49,377]\u001b[0m Trial 105 finished with value: 0.758209873203102 and parameters: {'max_depth': 4, 'n_estimators': 563, 'learning_rate': 0.014055405804732492, 'num_leaves': 14}. Best is trial 36 with value: 0.7591121171764065.\u001b[0m\n",
      "\u001b[32m[I 2023-08-03 21:42:51,313]\u001b[0m Trial 107 finished with value: 0.7582074783186087 and parameters: {'max_depth': 4, 'n_estimators': 563, 'learning_rate': 0.014102463800035095, 'num_leaves': 14}. Best is trial 36 with value: 0.7591121171764065.\u001b[0m\n",
      "\u001b[32m[I 2023-08-03 21:42:52,006]\u001b[0m Trial 102 finished with value: 0.757858682739486 and parameters: {'max_depth': 6, 'n_estimators': 728, 'learning_rate': 0.023859816193240232, 'num_leaves': 14}. Best is trial 36 with value: 0.7591121171764065.\u001b[0m\n",
      "\u001b[32m[I 2023-08-03 21:42:53,494]\u001b[0m Trial 108 finished with value: 0.7582559250540455 and parameters: {'max_depth': 4, 'n_estimators': 559, 'learning_rate': 0.014310405261463668, 'num_leaves': 14}. Best is trial 36 with value: 0.7591121171764065.\u001b[0m\n",
      "\u001b[32m[I 2023-08-03 21:42:56,750]\u001b[0m Trial 111 finished with value: 0.7582977204945578 and parameters: {'max_depth': 4, 'n_estimators': 542, 'learning_rate': 0.014089294607601237, 'num_leaves': 10}. Best is trial 36 with value: 0.7591121171764065.\u001b[0m\n",
      "\u001b[32m[I 2023-08-03 21:42:57,770]\u001b[0m Trial 110 finished with value: 0.7582396680761208 and parameters: {'max_depth': 4, 'n_estimators': 545, 'learning_rate': 0.014541822072410573, 'num_leaves': 10}. Best is trial 36 with value: 0.7591121171764065.\u001b[0m\n",
      "\u001b[32m[I 2023-08-03 21:42:59,030]\u001b[0m Trial 109 finished with value: 0.7586110738747822 and parameters: {'max_depth': 4, 'n_estimators': 559, 'learning_rate': 0.020369692303958537, 'num_leaves': 14}. Best is trial 36 with value: 0.7591121171764065.\u001b[0m\n",
      "\u001b[32m[I 2023-08-03 21:43:02,497]\u001b[0m Trial 112 finished with value: 0.759064015555329 and parameters: {'max_depth': 5, 'n_estimators': 621, 'learning_rate': 0.020251529109010544, 'num_leaves': 10}. Best is trial 36 with value: 0.7591121171764065.\u001b[0m\n",
      "\u001b[32m[I 2023-08-03 21:43:03,904]\u001b[0m Trial 113 finished with value: 0.7589731563567377 and parameters: {'max_depth': 5, 'n_estimators': 601, 'learning_rate': 0.02083538516750052, 'num_leaves': 10}. Best is trial 36 with value: 0.7591121171764065.\u001b[0m\n",
      "\u001b[32m[I 2023-08-03 21:43:04,860]\u001b[0m Trial 114 finished with value: 0.7587934720426726 and parameters: {'max_depth': 5, 'n_estimators': 613, 'learning_rate': 0.01843895525290725, 'num_leaves': 10}. Best is trial 36 with value: 0.7591121171764065.\u001b[0m\n",
      "\u001b[32m[I 2023-08-03 21:43:05,409]\u001b[0m Trial 115 finished with value: 0.7589653285355883 and parameters: {'max_depth': 5, 'n_estimators': 607, 'learning_rate': 0.019957706344284235, 'num_leaves': 10}. Best is trial 36 with value: 0.7591121171764065.\u001b[0m\n",
      "\u001b[32m[I 2023-08-03 21:43:07,641]\u001b[0m Trial 116 finished with value: 0.7588469177073137 and parameters: {'max_depth': 5, 'n_estimators': 608, 'learning_rate': 0.018088004989916518, 'num_leaves': 10}. Best is trial 36 with value: 0.7591121171764065.\u001b[0m\n",
      "\u001b[32m[I 2023-08-03 21:43:10,564]\u001b[0m Trial 117 finished with value: 0.7591742795931222 and parameters: {'max_depth': 5, 'n_estimators': 615, 'learning_rate': 0.01992814303436506, 'num_leaves': 11}. Best is trial 117 with value: 0.7591742795931222.\u001b[0m\n",
      "\u001b[32m[I 2023-08-03 21:43:14,460]\u001b[0m Trial 118 finished with value: 0.758797681392055 and parameters: {'max_depth': 5, 'n_estimators': 609, 'learning_rate': 0.020196152723173467, 'num_leaves': 13}. Best is trial 117 with value: 0.7591742795931222.\u001b[0m\n",
      "\u001b[32m[I 2023-08-03 21:43:15,938]\u001b[0m Trial 119 finished with value: 0.7590140994693626 and parameters: {'max_depth': 5, 'n_estimators': 612, 'learning_rate': 0.017844956062600805, 'num_leaves': 13}. Best is trial 117 with value: 0.7591742795931222.\u001b[0m\n",
      "\u001b[32m[I 2023-08-03 21:43:16,719]\u001b[0m Trial 120 finished with value: 0.7591549479599967 and parameters: {'max_depth': 5, 'n_estimators': 603, 'learning_rate': 0.018874368580456796, 'num_leaves': 11}. Best is trial 117 with value: 0.7591742795931222.\u001b[0m\n",
      "\u001b[32m[I 2023-08-03 21:43:19,694]\u001b[0m Trial 121 finished with value: 0.7590842256613692 and parameters: {'max_depth': 5, 'n_estimators': 611, 'learning_rate': 0.018511039592753107, 'num_leaves': 11}. Best is trial 117 with value: 0.7591742795931222.\u001b[0m\n",
      "\u001b[32m[I 2023-08-03 21:43:19,781]\u001b[0m Trial 123 finished with value: 0.7590112026003467 and parameters: {'max_depth': 5, 'n_estimators': 653, 'learning_rate': 0.018298876429968962, 'num_leaves': 11}. Best is trial 117 with value: 0.7591742795931222.\u001b[0m\n",
      "\u001b[32m[I 2023-08-03 21:43:21,605]\u001b[0m Trial 122 finished with value: 0.7592267840367835 and parameters: {'max_depth': 5, 'n_estimators': 615, 'learning_rate': 0.0207998245260535, 'num_leaves': 11}. Best is trial 122 with value: 0.7592267840367835.\u001b[0m\n",
      "\u001b[32m[I 2023-08-03 21:43:23,548]\u001b[0m Trial 124 finished with value: 0.7588637080437937 and parameters: {'max_depth': 5, 'n_estimators': 654, 'learning_rate': 0.02201271137923929, 'num_leaves': 11}. Best is trial 122 with value: 0.7592267840367835.\u001b[0m\n",
      "\u001b[32m[I 2023-08-03 21:43:25,668]\u001b[0m Trial 125 finished with value: 0.7590199036654052 and parameters: {'max_depth': 5, 'n_estimators': 663, 'learning_rate': 0.02148660822417347, 'num_leaves': 11}. Best is trial 122 with value: 0.7592267840367835.\u001b[0m\n",
      "\u001b[32m[I 2023-08-03 21:43:30,505]\u001b[0m Trial 126 finished with value: 0.7590033381761593 and parameters: {'max_depth': 5, 'n_estimators': 653, 'learning_rate': 0.022382086010008132, 'num_leaves': 11}. Best is trial 122 with value: 0.7592267840367835.\u001b[0m\n",
      "\u001b[32m[I 2023-08-03 21:43:31,452]\u001b[0m Trial 128 finished with value: 0.7588495635840682 and parameters: {'max_depth': 5, 'n_estimators': 670, 'learning_rate': 0.02207998422138562, 'num_leaves': 11}. Best is trial 122 with value: 0.7592267840367835.\u001b[0m\n",
      "\u001b[32m[I 2023-08-03 21:43:32,774]\u001b[0m Trial 127 finished with value: 0.7584632969519354 and parameters: {'max_depth': 5, 'n_estimators': 663, 'learning_rate': 0.02878978692515154, 'num_leaves': 11}. Best is trial 122 with value: 0.7592267840367835.\u001b[0m\n",
      "\u001b[32m[I 2023-08-03 21:43:34,744]\u001b[0m Trial 130 finished with value: 0.7592587750920886 and parameters: {'max_depth': 5, 'n_estimators': 674, 'learning_rate': 0.018487733958992596, 'num_leaves': 11}. Best is trial 130 with value: 0.7592587750920886.\u001b[0m\n",
      "\u001b[32m[I 2023-08-03 21:43:36,137]\u001b[0m Trial 129 finished with value: 0.7590599892211373 and parameters: {'max_depth': 5, 'n_estimators': 641, 'learning_rate': 0.022405601056964285, 'num_leaves': 11}. Best is trial 130 with value: 0.7592587750920886.\u001b[0m\n",
      "\u001b[32m[I 2023-08-03 21:43:39,068]\u001b[0m Trial 131 finished with value: 0.7589891780294176 and parameters: {'max_depth': 5, 'n_estimators': 648, 'learning_rate': 0.021848184348681222, 'num_leaves': 11}. Best is trial 130 with value: 0.7592587750920886.\u001b[0m\n",
      "\u001b[32m[I 2023-08-03 21:43:40,150]\u001b[0m Trial 132 finished with value: 0.759062954067224 and parameters: {'max_depth': 5, 'n_estimators': 661, 'learning_rate': 0.01802579154103403, 'num_leaves': 11}. Best is trial 130 with value: 0.7592587750920886.\u001b[0m\n",
      "\u001b[32m[I 2023-08-03 21:43:41,360]\u001b[0m Trial 133 finished with value: 0.759086353866585 and parameters: {'max_depth': 5, 'n_estimators': 667, 'learning_rate': 0.01835631771971169, 'num_leaves': 11}. Best is trial 130 with value: 0.7592587750920886.\u001b[0m\n",
      "\u001b[32m[I 2023-08-03 21:43:47,263]\u001b[0m Trial 135 finished with value: 0.7575884634251671 and parameters: {'max_depth': 5, 'n_estimators': 694, 'learning_rate': 0.029246490437022966, 'num_leaves': 11}. Best is trial 130 with value: 0.7592587750920886.\u001b[0m\n",
      "\u001b[32m[I 2023-08-03 21:43:48,357]\u001b[0m Trial 134 finished with value: 0.7589718700213985 and parameters: {'max_depth': 5, 'n_estimators': 666, 'learning_rate': 0.021556916751238393, 'num_leaves': 11}. Best is trial 130 with value: 0.7592587750920886.\u001b[0m\n",
      "\u001b[32m[I 2023-08-03 21:43:50,872]\u001b[0m Trial 137 finished with value: 0.7591152388926564 and parameters: {'max_depth': 5, 'n_estimators': 697, 'learning_rate': 0.018528013152571327, 'num_leaves': 11}. Best is trial 130 with value: 0.7592587750920886.\u001b[0m\n",
      "\u001b[32m[I 2023-08-03 21:43:50,898]\u001b[0m Trial 136 finished with value: 0.7585630977498355 and parameters: {'max_depth': 5, 'n_estimators': 705, 'learning_rate': 0.025218288976836513, 'num_leaves': 11}. Best is trial 130 with value: 0.7592587750920886.\u001b[0m\n",
      "\u001b[32m[I 2023-08-03 21:43:54,174]\u001b[0m Trial 138 finished with value: 0.7588769531145829 and parameters: {'max_depth': 5, 'n_estimators': 704, 'learning_rate': 0.020991060432950563, 'num_leaves': 11}. Best is trial 130 with value: 0.7592587750920886.\u001b[0m\n",
      "\u001b[32m[I 2023-08-03 21:43:56,422]\u001b[0m Trial 139 finished with value: 0.7591700493277183 and parameters: {'max_depth': 5, 'n_estimators': 694, 'learning_rate': 0.01882031742610275, 'num_leaves': 12}. Best is trial 130 with value: 0.7592587750920886.\u001b[0m\n",
      "\u001b[32m[I 2023-08-03 21:43:58,345]\u001b[0m Trial 141 finished with value: 0.7580817991727672 and parameters: {'max_depth': 5, 'n_estimators': 714, 'learning_rate': 0.02580892420555904, 'num_leaves': 12}. Best is trial 130 with value: 0.7592587750920886.\u001b[0m\n",
      "\u001b[32m[I 2023-08-03 21:44:02,171]\u001b[0m Trial 140 finished with value: 0.7589926082569887 and parameters: {'max_depth': 5, 'n_estimators': 701, 'learning_rate': 0.018874041572407307, 'num_leaves': 12}. Best is trial 130 with value: 0.7592587750920886.\u001b[0m\n",
      "\u001b[32m[I 2023-08-03 21:44:03,312]\u001b[0m Trial 142 finished with value: 0.7584918577796693 and parameters: {'max_depth': 5, 'n_estimators': 625, 'learning_rate': 0.024744986702276435, 'num_leaves': 12}. Best is trial 130 with value: 0.7592587750920886.\u001b[0m\n",
      "\u001b[32m[I 2023-08-03 21:44:07,416]\u001b[0m Trial 143 finished with value: 0.7582829171801463 and parameters: {'max_depth': 5, 'n_estimators': 705, 'learning_rate': 0.024849042811941335, 'num_leaves': 12}. Best is trial 130 with value: 0.7592587750920886.\u001b[0m\n",
      "\u001b[32m[I 2023-08-03 21:44:08,284]\u001b[0m Trial 144 finished with value: 0.7587248570332392 and parameters: {'max_depth': 5, 'n_estimators': 705, 'learning_rate': 0.01934325155859706, 'num_leaves': 12}. Best is trial 130 with value: 0.7592587750920886.\u001b[0m\n",
      "\u001b[32m[I 2023-08-03 21:44:10,656]\u001b[0m Trial 145 finished with value: 0.7589913166926441 and parameters: {'max_depth': 5, 'n_estimators': 707, 'learning_rate': 0.01971367154799409, 'num_leaves': 12}. Best is trial 130 with value: 0.7592587750920886.\u001b[0m\n",
      "\u001b[32m[I 2023-08-03 21:44:11,995]\u001b[0m Trial 147 finished with value: 0.7588414586256305 and parameters: {'max_depth': 5, 'n_estimators': 622, 'learning_rate': 0.019358081066571654, 'num_leaves': 12}. Best is trial 130 with value: 0.7592587750920886.\u001b[0m\n",
      "\u001b[32m[I 2023-08-03 21:44:14,133]\u001b[0m Trial 148 finished with value: 0.7589504938471444 and parameters: {'max_depth': 5, 'n_estimators': 636, 'learning_rate': 0.01891671929735895, 'num_leaves': 12}. Best is trial 130 with value: 0.7592587750920886.\u001b[0m\n",
      "\u001b[32m[I 2023-08-03 21:44:15,700]\u001b[0m Trial 146 finished with value: 0.758710681199481 and parameters: {'max_depth': 5, 'n_estimators': 760, 'learning_rate': 0.018998479794732778, 'num_leaves': 12}. Best is trial 130 with value: 0.7592587750920886.\u001b[0m\n",
      "\u001b[32m[I 2023-08-03 21:44:17,453]\u001b[0m Trial 150 finished with value: 0.7586741147644127 and parameters: {'max_depth': 5, 'n_estimators': 630, 'learning_rate': 0.01598256184788857, 'num_leaves': 9}. Best is trial 130 with value: 0.7592587750920886.\u001b[0m\n",
      "\u001b[32m[I 2023-08-03 21:44:21,607]\u001b[0m Trial 152 finished with value: 0.7588380545430864 and parameters: {'max_depth': 5, 'n_estimators': 636, 'learning_rate': 0.019346743182531382, 'num_leaves': 9}. Best is trial 130 with value: 0.7592587750920886.\u001b[0m\n",
      "\u001b[32m[I 2023-08-03 21:44:23,953]\u001b[0m Trial 149 finished with value: 0.7590171636665526 and parameters: {'max_depth': 5, 'n_estimators': 763, 'learning_rate': 0.015410907983932591, 'num_leaves': 12}. Best is trial 130 with value: 0.7592587750920886.\u001b[0m\n",
      "\u001b[32m[I 2023-08-03 21:44:27,896]\u001b[0m Trial 154 finished with value: 0.7586066762812042 and parameters: {'max_depth': 5, 'n_estimators': 637, 'learning_rate': 0.015470013729054861, 'num_leaves': 9}. Best is trial 130 with value: 0.7592587750920886.\u001b[0m\n",
      "\u001b[32m[I 2023-08-03 21:44:28,211]\u001b[0m Trial 153 finished with value: 0.7588818317766619 and parameters: {'max_depth': 5, 'n_estimators': 757, 'learning_rate': 0.015603868751069479, 'num_leaves': 9}. Best is trial 130 with value: 0.7592587750920886.\u001b[0m\n",
      "\u001b[32m[I 2023-08-03 21:44:29,872]\u001b[0m Trial 151 finished with value: 0.758677382892815 and parameters: {'max_depth': 5, 'n_estimators': 760, 'learning_rate': 0.0157289374077619, 'num_leaves': 9}. Best is trial 130 with value: 0.7592587750920886.\u001b[0m\n",
      "\u001b[32m[I 2023-08-03 21:44:30,787]\u001b[0m Trial 155 finished with value: 0.758792368722524 and parameters: {'max_depth': 5, 'n_estimators': 780, 'learning_rate': 0.015343506715002713, 'num_leaves': 9}. Best is trial 130 with value: 0.7592587750920886.\u001b[0m\n",
      "\u001b[32m[I 2023-08-03 21:44:34,443]\u001b[0m Trial 156 finished with value: 0.7588208563441818 and parameters: {'max_depth': 5, 'n_estimators': 746, 'learning_rate': 0.01589802407507978, 'num_leaves': 10}. Best is trial 130 with value: 0.7592587750920886.\u001b[0m\n",
      "\u001b[32m[I 2023-08-03 21:44:35,193]\u001b[0m Trial 157 finished with value: 0.758761899307803 and parameters: {'max_depth': 5, 'n_estimators': 757, 'learning_rate': 0.015416314940948883, 'num_leaves': 10}. Best is trial 130 with value: 0.7592587750920886.\u001b[0m\n",
      "\u001b[32m[I 2023-08-03 21:44:37,704]\u001b[0m Trial 158 finished with value: 0.7589585935765768 and parameters: {'max_depth': 5, 'n_estimators': 677, 'learning_rate': 0.015816199757243986, 'num_leaves': 10}. Best is trial 130 with value: 0.7592587750920886.\u001b[0m\n",
      "\u001b[32m[I 2023-08-03 21:44:41,094]\u001b[0m Trial 159 finished with value: 0.7589412855685578 and parameters: {'max_depth': 5, 'n_estimators': 671, 'learning_rate': 0.015505151274293267, 'num_leaves': 10}. Best is trial 130 with value: 0.7592587750920886.\u001b[0m\n",
      "\u001b[32m[I 2023-08-03 21:44:43,696]\u001b[0m Trial 163 finished with value: 0.7587276806961789 and parameters: {'max_depth': 5, 'n_estimators': 581, 'learning_rate': 0.017450332978757768, 'num_leaves': 10}. Best is trial 130 with value: 0.7592587750920886.\u001b[0m\n",
      "\u001b[32m[I 2023-08-03 21:44:45,238]\u001b[0m Trial 160 finished with value: 0.7588380231690538 and parameters: {'max_depth': 5, 'n_estimators': 748, 'learning_rate': 0.015596724456132301, 'num_leaves': 10}. Best is trial 130 with value: 0.7592587750920886.\u001b[0m\n",
      "\u001b[32m[I 2023-08-03 21:44:46,306]\u001b[0m Trial 161 finished with value: 0.7587730475474093 and parameters: {'max_depth': 5, 'n_estimators': 673, 'learning_rate': 0.017930476369419628, 'num_leaves': 10}. Best is trial 130 with value: 0.7592587750920886.\u001b[0m\n",
      "\u001b[32m[I 2023-08-03 21:44:47,821]\u001b[0m Trial 162 finished with value: 0.7589374108755239 and parameters: {'max_depth': 5, 'n_estimators': 673, 'learning_rate': 0.01766769541813349, 'num_leaves': 10}. Best is trial 130 with value: 0.7592587750920886.\u001b[0m\n",
      "\u001b[32m[I 2023-08-03 21:44:51,581]\u001b[0m Trial 164 finished with value: 0.7588820879979287 and parameters: {'max_depth': 5, 'n_estimators': 671, 'learning_rate': 0.02100602849405062, 'num_leaves': 10}. Best is trial 130 with value: 0.7592587750920886.\u001b[0m\n",
      "\u001b[32m[I 2023-08-03 21:44:51,734]\u001b[0m Trial 165 finished with value: 0.7592630994795905 and parameters: {'max_depth': 5, 'n_estimators': 680, 'learning_rate': 0.01789165308791217, 'num_leaves': 11}. Best is trial 165 with value: 0.7592630994795905.\u001b[0m\n",
      "\u001b[32m[I 2023-08-03 21:44:56,070]\u001b[0m Trial 166 finished with value: 0.7589633572005361 and parameters: {'max_depth': 5, 'n_estimators': 832, 'learning_rate': 0.017513860215713002, 'num_leaves': 11}. Best is trial 165 with value: 0.7592630994795905.\u001b[0m\n",
      "\u001b[32m[I 2023-08-03 21:44:56,377]\u001b[0m Trial 167 finished with value: 0.7590224292750345 and parameters: {'max_depth': 6, 'n_estimators': 587, 'learning_rate': 0.017405522539182715, 'num_leaves': 11}. Best is trial 165 with value: 0.7592630994795905.\u001b[0m\n",
      "\u001b[32m[I 2023-08-03 21:44:57,177]\u001b[0m Trial 168 finished with value: 0.759004807526689 and parameters: {'max_depth': 5, 'n_estimators': 603, 'learning_rate': 0.017409075492660187, 'num_leaves': 11}. Best is trial 165 with value: 0.7592630994795905.\u001b[0m\n",
      "\u001b[32m[I 2023-08-03 21:44:58,291]\u001b[0m Trial 169 finished with value: 0.7589821293300794 and parameters: {'max_depth': 5, 'n_estimators': 606, 'learning_rate': 0.01768581943267544, 'num_leaves': 11}. Best is trial 165 with value: 0.7592630994795905.\u001b[0m\n",
      "\u001b[32m[I 2023-08-03 21:45:00,156]\u001b[0m Trial 171 finished with value: 0.7589477956803353 and parameters: {'max_depth': 5, 'n_estimators': 607, 'learning_rate': 0.020963635686387556, 'num_leaves': 11}. Best is trial 165 with value: 0.7592630994795905.\u001b[0m\n",
      "\u001b[32m[I 2023-08-03 21:45:02,322]\u001b[0m Trial 172 finished with value: 0.7591074895065888 and parameters: {'max_depth': 5, 'n_estimators': 606, 'learning_rate': 0.023326921794669865, 'num_leaves': 11}. Best is trial 165 with value: 0.7592630994795905.\u001b[0m\n",
      "\u001b[32m[I 2023-08-03 21:45:03,425]\u001b[0m Trial 170 finished with value: 0.7581095181306248 and parameters: {'max_depth': 5, 'n_estimators': 862, 'learning_rate': 0.023077048794440013, 'num_leaves': 11}. Best is trial 165 with value: 0.7592630994795905.\u001b[0m\n",
      "\u001b[32m[I 2023-08-03 21:45:06,263]\u001b[0m Trial 175 finished with value: 0.7588744588789862 and parameters: {'max_depth': 5, 'n_estimators': 588, 'learning_rate': 0.023653691064074663, 'num_leaves': 11}. Best is trial 165 with value: 0.7592630994795905.\u001b[0m\n",
      "\u001b[32m[I 2023-08-03 21:45:07,555]\u001b[0m Trial 177 finished with value: 0.7585806201470777 and parameters: {'max_depth': 4, 'n_estimators': 586, 'learning_rate': 0.022458655967796462, 'num_leaves': 11}. Best is trial 165 with value: 0.7592630994795905.\u001b[0m\n",
      "\u001b[32m[I 2023-08-03 21:45:07,818]\u001b[0m Trial 173 finished with value: 0.7584041987324096 and parameters: {'max_depth': 6, 'n_estimators': 871, 'learning_rate': 0.022840481635182285, 'num_leaves': 11}. Best is trial 165 with value: 0.7592630994795905.\u001b[0m\n",
      "\u001b[32m[I 2023-08-03 21:45:09,471]\u001b[0m Trial 174 finished with value: 0.7589289555737213 and parameters: {'max_depth': 6, 'n_estimators': 597, 'learning_rate': 0.023334994401173904, 'num_leaves': 11}. Best is trial 165 with value: 0.7592630994795905.\u001b[0m\n",
      "\u001b[32m[I 2023-08-03 21:45:11,148]\u001b[0m Trial 176 finished with value: 0.7581867400830187 and parameters: {'max_depth': 4, 'n_estimators': 868, 'learning_rate': 0.023228161004739473, 'num_leaves': 11}. Best is trial 165 with value: 0.7592630994795905.\u001b[0m\n",
      "\u001b[32m[I 2023-08-03 21:45:11,709]\u001b[0m Trial 178 finished with value: 0.7589706934951737 and parameters: {'max_depth': 6, 'n_estimators': 579, 'learning_rate': 0.022540198509647693, 'num_leaves': 11}. Best is trial 165 with value: 0.7592630994795905.\u001b[0m\n",
      "\u001b[32m[I 2023-08-03 21:45:12,037]\u001b[0m Trial 181 finished with value: 0.756609672041171 and parameters: {'max_depth': 4, 'n_estimators': 648, 'learning_rate': 0.020959558788394055, 'num_leaves': 3}. Best is trial 165 with value: 0.7592630994795905.\u001b[0m\n",
      "\u001b[32m[I 2023-08-03 21:45:14,264]\u001b[0m Trial 180 finished with value: 0.759206349083509 and parameters: {'max_depth': 5, 'n_estimators': 581, 'learning_rate': 0.022681664229651722, 'num_leaves': 11}. Best is trial 165 with value: 0.7592630994795905.\u001b[0m\n",
      "\u001b[32m[I 2023-08-03 21:45:18,290]\u001b[0m Trial 182 finished with value: 0.758832286950082 and parameters: {'max_depth': 5, 'n_estimators': 646, 'learning_rate': 0.020586400862537366, 'num_leaves': 12}. Best is trial 165 with value: 0.7592630994795905.\u001b[0m\n",
      "\u001b[32m[I 2023-08-03 21:45:18,878]\u001b[0m Trial 183 finished with value: 0.7589735276161242 and parameters: {'max_depth': 5, 'n_estimators': 648, 'learning_rate': 0.020124590436368012, 'num_leaves': 12}. Best is trial 165 with value: 0.7592630994795905.\u001b[0m\n",
      "\u001b[32m[I 2023-08-03 21:45:19,706]\u001b[0m Trial 179 finished with value: 0.7577519169063347 and parameters: {'max_depth': 5, 'n_estimators': 1006, 'learning_rate': 0.023271921633626572, 'num_leaves': 11}. Best is trial 165 with value: 0.7592630994795905.\u001b[0m\n",
      "\u001b[32m[I 2023-08-03 21:45:20,865]\u001b[0m Trial 184 finished with value: 0.7589920382953953 and parameters: {'max_depth': 5, 'n_estimators': 646, 'learning_rate': 0.020112589797704996, 'num_leaves': 12}. Best is trial 165 with value: 0.7592630994795905.\u001b[0m\n",
      "\u001b[32m[I 2023-08-03 21:45:22,411]\u001b[0m Trial 185 finished with value: 0.7591800942471759 and parameters: {'max_depth': 5, 'n_estimators': 647, 'learning_rate': 0.020404662911557393, 'num_leaves': 12}. Best is trial 165 with value: 0.7592630994795905.\u001b[0m\n",
      "\u001b[32m[I 2023-08-03 21:45:23,097]\u001b[0m Trial 186 finished with value: 0.7589755146381929 and parameters: {'max_depth': 5, 'n_estimators': 651, 'learning_rate': 0.020894851056960803, 'num_leaves': 12}. Best is trial 165 with value: 0.7592630994795905.\u001b[0m\n",
      "\u001b[32m[I 2023-08-03 21:45:25,422]\u001b[0m Trial 188 finished with value: 0.7589619819721044 and parameters: {'max_depth': 5, 'n_estimators': 627, 'learning_rate': 0.02006674954365502, 'num_leaves': 12}. Best is trial 165 with value: 0.7592630994795905.\u001b[0m\n",
      "\u001b[32m[I 2023-08-03 21:45:28,849]\u001b[0m Trial 187 finished with value: 0.7579030090186331 and parameters: {'max_depth': 5, 'n_estimators': 1023, 'learning_rate': 0.020542801352843768, 'num_leaves': 12}. Best is trial 165 with value: 0.7592630994795905.\u001b[0m\n",
      "\u001b[32m[I 2023-08-03 21:45:30,435]\u001b[0m Trial 191 finished with value: 0.7587992396356772 and parameters: {'max_depth': 5, 'n_estimators': 620, 'learning_rate': 0.02674953002419141, 'num_leaves': 12}. Best is trial 165 with value: 0.7592630994795905.\u001b[0m\n",
      "\u001b[32m[I 2023-08-03 21:45:31,077]\u001b[0m Trial 192 finished with value: 0.7588974089838789 and parameters: {'max_depth': 5, 'n_estimators': 623, 'learning_rate': 0.018607822302962485, 'num_leaves': 11}. Best is trial 165 with value: 0.7592630994795905.\u001b[0m\n",
      "\u001b[32m[I 2023-08-03 21:45:32,622]\u001b[0m Trial 194 finished with value: 0.7587372811501737 and parameters: {'max_depth': 5, 'n_estimators': 617, 'learning_rate': 0.027233835072426802, 'num_leaves': 11}. Best is trial 165 with value: 0.7592630994795905.\u001b[0m\n",
      "\u001b[32m[I 2023-08-03 21:45:33,273]\u001b[0m Trial 193 finished with value: 0.7588486537371211 and parameters: {'max_depth': 5, 'n_estimators': 622, 'learning_rate': 0.01860128723414438, 'num_leaves': 12}. Best is trial 165 with value: 0.7592630994795905.\u001b[0m\n",
      "\u001b[32m[I 2023-08-03 21:45:36,407]\u001b[0m Trial 195 finished with value: 0.7554499832138467 and parameters: {'max_depth': 5, 'n_estimators': 725, 'learning_rate': 0.04784951456606027, 'num_leaves': 11}. Best is trial 165 with value: 0.7592630994795905.\u001b[0m\n",
      "\u001b[32m[I 2023-08-03 21:45:36,627]\u001b[0m Trial 190 finished with value: 0.7582078757230224 and parameters: {'max_depth': 5, 'n_estimators': 1008, 'learning_rate': 0.018797757790128745, 'num_leaves': 12}. Best is trial 165 with value: 0.7592630994795905.\u001b[0m\n",
      "\u001b[32m[I 2023-08-03 21:45:37,802]\u001b[0m Trial 189 finished with value: 0.757582476213934 and parameters: {'max_depth': 5, 'n_estimators': 1077, 'learning_rate': 0.01996809336357182, 'num_leaves': 12}. Best is trial 165 with value: 0.7592630994795905.\u001b[0m\n",
      "\u001b[32m[I 2023-08-03 21:45:41,477]\u001b[0m Trial 198 finished with value: 0.7557556342690526 and parameters: {'max_depth': 5, 'n_estimators': 687, 'learning_rate': 0.047925156743780756, 'num_leaves': 11}. Best is trial 165 with value: 0.7592630994795905.\u001b[0m\n",
      "\u001b[32m[I 2023-08-03 21:45:41,985]\u001b[0m Trial 199 finished with value: 0.7590600990302516 and parameters: {'max_depth': 5, 'n_estimators': 571, 'learning_rate': 0.018698026771100173, 'num_leaves': 11}. Best is trial 165 with value: 0.7592630994795905.\u001b[0m\n",
      "\u001b[32m[I 2023-08-03 21:45:43,970]\u001b[0m Trial 197 finished with value: 0.7564209415476881 and parameters: {'max_depth': 5, 'n_estimators': 698, 'learning_rate': 0.04368367923931125, 'num_leaves': 11}. Best is trial 165 with value: 0.7592630994795905.\u001b[0m\n",
      "\u001b[32m[I 2023-08-03 21:45:44,134]\u001b[0m Trial 200 finished with value: 0.7561657556240201 and parameters: {'max_depth': 5, 'n_estimators': 691, 'learning_rate': 0.05920100315200095, 'num_leaves': 11}. Best is trial 165 with value: 0.7592630994795905.\u001b[0m\n",
      "\u001b[32m[I 2023-08-03 21:45:46,395]\u001b[0m Trial 201 finished with value: 0.7589504572441061 and parameters: {'max_depth': 5, 'n_estimators': 570, 'learning_rate': 0.01682898261313511, 'num_leaves': 11}. Best is trial 165 with value: 0.7592630994795905.\u001b[0m\n",
      "\u001b[32m[I 2023-08-03 21:45:46,902]\u001b[0m Trial 202 finished with value: 0.7587925569667201 and parameters: {'max_depth': 5, 'n_estimators': 580, 'learning_rate': 0.01689000659863458, 'num_leaves': 11}. Best is trial 165 with value: 0.7592630994795905.\u001b[0m\n",
      "\u001b[32m[I 2023-08-03 21:45:47,607]\u001b[0m Trial 196 finished with value: 0.7571544193702944 and parameters: {'max_depth': 5, 'n_estimators': 725, 'learning_rate': 0.026801707150938096, 'num_leaves': 20}. Best is trial 165 with value: 0.7592630994795905.\u001b[0m\n",
      "\u001b[32m[I 2023-08-03 21:45:48,411]\u001b[0m Trial 203 finished with value: 0.7589031608898671 and parameters: {'max_depth': 5, 'n_estimators': 577, 'learning_rate': 0.016943923647475632, 'num_leaves': 11}. Best is trial 165 with value: 0.7592630994795905.\u001b[0m\n",
      "\u001b[32m[I 2023-08-03 21:45:52,944]\u001b[0m Trial 204 finished with value: 0.7588580241148764 and parameters: {'max_depth': 5, 'n_estimators': 577, 'learning_rate': 0.016519209679620075, 'num_leaves': 11}. Best is trial 165 with value: 0.7592630994795905.\u001b[0m\n",
      "\u001b[32m[I 2023-08-03 21:45:53,724]\u001b[0m Trial 205 finished with value: 0.7590048859617706 and parameters: {'max_depth': 5, 'n_estimators': 567, 'learning_rate': 0.016793622354132672, 'num_leaves': 11}. Best is trial 165 with value: 0.7592630994795905.\u001b[0m\n",
      "\u001b[32m[I 2023-08-03 21:45:55,412]\u001b[0m Trial 210 finished with value: 0.7575698952268362 and parameters: {'max_depth': 3, 'n_estimators': 555, 'learning_rate': 0.018479228984284404, 'num_leaves': 13}. Best is trial 165 with value: 0.7592630994795905.\u001b[0m\n",
      "\u001b[32m[I 2023-08-03 21:45:55,509]\u001b[0m Trial 207 finished with value: 0.758704882232444 and parameters: {'max_depth': 5, 'n_estimators': 576, 'learning_rate': 0.017211220182235684, 'num_leaves': 10}. Best is trial 165 with value: 0.7592630994795905.\u001b[0m\n",
      "\u001b[32m[I 2023-08-03 21:45:55,541]\u001b[0m Trial 206 finished with value: 0.7586498208051209 and parameters: {'max_depth': 5, 'n_estimators': 566, 'learning_rate': 0.01671658642497859, 'num_leaves': 10}. Best is trial 165 with value: 0.7592630994795905.\u001b[0m\n",
      "\u001b[32m[I 2023-08-03 21:45:57,707]\u001b[0m Trial 208 finished with value: 0.7586966779229026 and parameters: {'max_depth': 5, 'n_estimators': 568, 'learning_rate': 0.01804929933743115, 'num_leaves': 10}. Best is trial 165 with value: 0.7592630994795905.\u001b[0m\n",
      "\u001b[32m[I 2023-08-03 21:45:59,628]\u001b[0m Trial 209 finished with value: 0.7580965763421512 and parameters: {'max_depth': 5, 'n_estimators': 1319, 'learning_rate': 0.01835751652930846, 'num_leaves': 4}. Best is trial 165 with value: 0.7592630994795905.\u001b[0m\n",
      "\u001b[32m[I 2023-08-03 21:46:00,481]\u001b[0m Trial 211 finished with value: 0.7590345814836861 and parameters: {'max_depth': 5, 'n_estimators': 544, 'learning_rate': 0.018772005613910278, 'num_leaves': 13}. Best is trial 165 with value: 0.7592630994795905.\u001b[0m\n",
      "\u001b[32m[I 2023-08-03 21:46:04,433]\u001b[0m Trial 216 finished with value: 0.7589072029110752 and parameters: {'max_depth': 5, 'n_estimators': 538, 'learning_rate': 0.0221009426284863, 'num_leaves': 10}. Best is trial 165 with value: 0.7592630994795905.\u001b[0m\n",
      "\u001b[32m[I 2023-08-03 21:46:05,626]\u001b[0m Trial 212 finished with value: 0.7588347759566731 and parameters: {'max_depth': 5, 'n_estimators': 598, 'learning_rate': 0.018490220410116893, 'num_leaves': 10}. Best is trial 165 with value: 0.7592630994795905.\u001b[0m\n",
      "\u001b[32m[I 2023-08-03 21:46:06,307]\u001b[0m Trial 213 finished with value: 0.7591266224375076 and parameters: {'max_depth': 5, 'n_estimators': 598, 'learning_rate': 0.018865144798113225, 'num_leaves': 13}. Best is trial 165 with value: 0.7592630994795905.\u001b[0m\n",
      "\u001b[32m[I 2023-08-03 21:46:06,927]\u001b[0m Trial 215 finished with value: 0.7587857121985941 and parameters: {'max_depth': 5, 'n_estimators': 661, 'learning_rate': 0.021632971788255986, 'num_leaves': 10}. Best is trial 165 with value: 0.7592630994795905.\u001b[0m\n",
      "\u001b[32m[I 2023-08-03 21:46:09,643]\u001b[0m Trial 217 finished with value: 0.7582024114123337 and parameters: {'max_depth': 5, 'n_estimators': 1408, 'learning_rate': 0.02172378960449392, 'num_leaves': 4}. Best is trial 165 with value: 0.7592630994795905.\u001b[0m\n",
      "\u001b[32m[I 2023-08-03 21:46:10,894]\u001b[0m Trial 219 finished with value: 0.7594577910392792 and parameters: {'max_depth': 5, 'n_estimators': 527, 'learning_rate': 0.02179153084057909, 'num_leaves': 13}. Best is trial 219 with value: 0.7594577910392792.\u001b[0m\n",
      "\u001b[32m[I 2023-08-03 21:46:11,633]\u001b[0m Trial 218 finished with value: 0.7589358787769289 and parameters: {'max_depth': 6, 'n_estimators': 664, 'learning_rate': 0.019353864417425114, 'num_leaves': 10}. Best is trial 219 with value: 0.7594577910392792.\u001b[0m\n",
      "\u001b[32m[I 2023-08-03 21:46:15,885]\u001b[0m Trial 214 finished with value: 0.7579348432037749 and parameters: {'max_depth': 5, 'n_estimators': 1264, 'learning_rate': 0.018633764085764407, 'num_leaves': 10}. Best is trial 219 with value: 0.7594577910392792.\u001b[0m\n",
      "\u001b[32m[I 2023-08-03 21:46:17,052]\u001b[0m Trial 220 finished with value: 0.7589329714499022 and parameters: {'max_depth': 5, 'n_estimators': 604, 'learning_rate': 0.019298617602160808, 'num_leaves': 13}. Best is trial 219 with value: 0.7594577910392792.\u001b[0m\n",
      "\u001b[32m[I 2023-08-03 21:46:17,636]\u001b[0m Trial 223 finished with value: 0.7589109782530056 and parameters: {'max_depth': 5, 'n_estimators': 535, 'learning_rate': 0.019471424123882048, 'num_leaves': 13}. Best is trial 219 with value: 0.7594577910392792.\u001b[0m\n",
      "\u001b[32m[I 2023-08-03 21:46:19,229]\u001b[0m Trial 221 finished with value: 0.7587969493312928 and parameters: {'max_depth': 5, 'n_estimators': 660, 'learning_rate': 0.019158588154763883, 'num_leaves': 13}. Best is trial 219 with value: 0.7594577910392792.\u001b[0m\n",
      "\u001b[32m[I 2023-08-03 21:46:19,869]\u001b[0m Trial 222 finished with value: 0.7587589972097817 and parameters: {'max_depth': 5, 'n_estimators': 656, 'learning_rate': 0.021098141526569473, 'num_leaves': 13}. Best is trial 219 with value: 0.7594577910392792.\u001b[0m\n",
      "\u001b[32m[I 2023-08-03 21:46:21,564]\u001b[0m Trial 225 finished with value: 0.7587438644680274 and parameters: {'max_depth': 5, 'n_estimators': 546, 'learning_rate': 0.019546023291146977, 'num_leaves': 13}. Best is trial 219 with value: 0.7594577910392792.\u001b[0m\n",
      "\u001b[32m[I 2023-08-03 21:46:22,172]\u001b[0m Trial 224 finished with value: 0.759017085231471 and parameters: {'max_depth': 5, 'n_estimators': 605, 'learning_rate': 0.01954420122801774, 'num_leaves': 13}. Best is trial 219 with value: 0.7594577910392792.\u001b[0m\n",
      "\u001b[32m[I 2023-08-03 21:46:22,392]\u001b[0m Trial 226 finished with value: 0.7588462013335678 and parameters: {'max_depth': 5, 'n_estimators': 536, 'learning_rate': 0.019581594037655987, 'num_leaves': 13}. Best is trial 219 with value: 0.7594577910392792.\u001b[0m\n",
      "\u001b[32m[I 2023-08-03 21:46:26,249]\u001b[0m Trial 227 finished with value: 0.7585433477962744 and parameters: {'max_depth': 5, 'n_estimators': 535, 'learning_rate': 0.02439695582943481, 'num_leaves': 13}. Best is trial 219 with value: 0.7594577910392792.\u001b[0m\n",
      "\u001b[32m[I 2023-08-03 21:46:26,817]\u001b[0m Trial 229 finished with value: 0.7589599792630194 and parameters: {'max_depth': 5, 'n_estimators': 521, 'learning_rate': 0.021171515700476963, 'num_leaves': 12}. Best is trial 219 with value: 0.7594577910392792.\u001b[0m\n",
      "\u001b[32m[I 2023-08-03 21:46:27,643]\u001b[0m Trial 228 finished with value: 0.7586185304365451 and parameters: {'max_depth': 5, 'n_estimators': 539, 'learning_rate': 0.020709318015114216, 'num_leaves': 13}. Best is trial 219 with value: 0.7594577910392792.\u001b[0m\n",
      "\u001b[32m[I 2023-08-03 21:46:28,617]\u001b[0m Trial 230 finished with value: 0.7589036942484224 and parameters: {'max_depth': 5, 'n_estimators': 520, 'learning_rate': 0.024800362210332813, 'num_leaves': 12}. Best is trial 219 with value: 0.7594577910392792.\u001b[0m\n",
      "\u001b[32m[I 2023-08-03 21:46:30,748]\u001b[0m Trial 232 finished with value: 0.758883881546796 and parameters: {'max_depth': 5, 'n_estimators': 522, 'learning_rate': 0.021655667410772676, 'num_leaves': 12}. Best is trial 219 with value: 0.7594577910392792.\u001b[0m\n",
      "\u001b[32m[I 2023-08-03 21:46:30,835]\u001b[0m Trial 231 finished with value: 0.7585275091387851 and parameters: {'max_depth': 5, 'n_estimators': 624, 'learning_rate': 0.024147079406204735, 'num_leaves': 12}. Best is trial 219 with value: 0.7594577910392792.\u001b[0m\n",
      "\u001b[32m[I 2023-08-03 21:46:31,389]\u001b[0m Trial 233 finished with value: 0.7589585308285114 and parameters: {'max_depth': 5, 'n_estimators': 527, 'learning_rate': 0.024115457502810522, 'num_leaves': 12}. Best is trial 219 with value: 0.7594577910392792.\u001b[0m\n",
      "\u001b[32m[I 2023-08-03 21:46:32,696]\u001b[0m Trial 234 finished with value: 0.7505164950127107 and parameters: {'max_depth': 5, 'n_estimators': 626, 'learning_rate': 0.12868472311710555, 'num_leaves': 12}. Best is trial 219 with value: 0.7594577910392792.\u001b[0m\n",
      "\u001b[32m[I 2023-08-03 21:46:36,774]\u001b[0m Trial 236 finished with value: 0.7592439874646935 and parameters: {'max_depth': 5, 'n_estimators': 624, 'learning_rate': 0.021785553575458822, 'num_leaves': 11}. Best is trial 219 with value: 0.7594577910392792.\u001b[0m\n",
      "\u001b[32m[I 2023-08-03 21:46:37,319]\u001b[0m Trial 235 finished with value: 0.7585232474993484 and parameters: {'max_depth': 5, 'n_estimators': 627, 'learning_rate': 0.025084071515794577, 'num_leaves': 12}. Best is trial 219 with value: 0.7594577910392792.\u001b[0m\n",
      "\u001b[32m[I 2023-08-03 21:46:38,439]\u001b[0m Trial 237 finished with value: 0.7586653561802944 and parameters: {'max_depth': 5, 'n_estimators': 629, 'learning_rate': 0.02437539735122963, 'num_leaves': 12}. Best is trial 219 with value: 0.7594577910392792.\u001b[0m\n",
      "\u001b[32m[I 2023-08-03 21:46:38,965]\u001b[0m Trial 238 finished with value: 0.7589346917926931 and parameters: {'max_depth': 5, 'n_estimators': 626, 'learning_rate': 0.017985108072972534, 'num_leaves': 11}. Best is trial 219 with value: 0.7594577910392792.\u001b[0m\n",
      "\u001b[32m[I 2023-08-03 21:46:40,927]\u001b[0m Trial 240 finished with value: 0.7588964259308555 and parameters: {'max_depth': 5, 'n_estimators': 603, 'learning_rate': 0.0177891124540122, 'num_leaves': 11}. Best is trial 219 with value: 0.7594577910392792.\u001b[0m\n",
      "\u001b[32m[I 2023-08-03 21:46:40,970]\u001b[0m Trial 239 finished with value: 0.7581744728362475 and parameters: {'max_depth': 5, 'n_estimators': 619, 'learning_rate': 0.031751888214600586, 'num_leaves': 11}. Best is trial 219 with value: 0.7594577910392792.\u001b[0m\n",
      "\u001b[32m[I 2023-08-03 21:46:41,688]\u001b[0m Trial 241 finished with value: 0.7588984024949132 and parameters: {'max_depth': 5, 'n_estimators': 603, 'learning_rate': 0.017977352103037633, 'num_leaves': 11}. Best is trial 219 with value: 0.7594577910392792.\u001b[0m\n",
      "\u001b[32m[I 2023-08-03 21:46:47,128]\u001b[0m Trial 243 finished with value: 0.7592979298848517 and parameters: {'max_depth': 5, 'n_estimators': 635, 'learning_rate': 0.022023136328757072, 'num_leaves': 11}. Best is trial 219 with value: 0.7594577910392792.\u001b[0m\n",
      "\u001b[32m[I 2023-08-03 21:46:48,197]\u001b[0m Trial 246 finished with value: 0.7587929073100848 and parameters: {'max_depth': 5, 'n_estimators': 595, 'learning_rate': 0.021954694812222224, 'num_leaves': 11}. Best is trial 219 with value: 0.7594577910392792.\u001b[0m\n",
      "\u001b[32m[I 2023-08-03 21:46:48,903]\u001b[0m Trial 244 finished with value: 0.7585415281023798 and parameters: {'max_depth': 5, 'n_estimators': 600, 'learning_rate': 0.030675376021962766, 'num_leaves': 11}. Best is trial 219 with value: 0.7594577910392792.\u001b[0m\n",
      "\u001b[32m[I 2023-08-03 21:46:49,583]\u001b[0m Trial 245 finished with value: 0.758112739197978 and parameters: {'max_depth': 5, 'n_estimators': 685, 'learning_rate': 0.030665373327598, 'num_leaves': 11}. Best is trial 219 with value: 0.7594577910392792.\u001b[0m\n",
      "\u001b[32m[I 2023-08-03 21:46:50,735]\u001b[0m Trial 247 finished with value: 0.7590289080127794 and parameters: {'max_depth': 5, 'n_estimators': 595, 'learning_rate': 0.020560776793408998, 'num_leaves': 11}. Best is trial 219 with value: 0.7594577910392792.\u001b[0m\n",
      "\u001b[32m[I 2023-08-03 21:46:51,356]\u001b[0m Trial 249 finished with value: 0.7592743993603546 and parameters: {'max_depth': 5, 'n_estimators': 593, 'learning_rate': 0.02042018019070517, 'num_leaves': 11}. Best is trial 219 with value: 0.7594577910392792.\u001b[0m\n",
      "\u001b[32m[I 2023-08-03 21:46:53,162]\u001b[0m Trial 248 finished with value: 0.7591085928267374 and parameters: {'max_depth': 5, 'n_estimators': 591, 'learning_rate': 0.02228198818050815, 'num_leaves': 11}. Best is trial 219 with value: 0.7594577910392792.\u001b[0m\n",
      "\u001b[32m[I 2023-08-03 21:46:57,207]\u001b[0m Trial 242 finished with value: 0.75524553433 and parameters: {'max_depth': 5, 'n_estimators': 1609, 'learning_rate': 0.030018480961792843, 'num_leaves': 11}. Best is trial 219 with value: 0.7594577910392792.\u001b[0m\n",
      "\u001b[32m[I 2023-08-03 21:46:58,824]\u001b[0m Trial 250 finished with value: 0.7587972369265923 and parameters: {'max_depth': 5, 'n_estimators': 685, 'learning_rate': 0.02203900377769348, 'num_leaves': 11}. Best is trial 219 with value: 0.7594577910392792.\u001b[0m\n",
      "\u001b[32m[I 2023-08-03 21:46:59,862]\u001b[0m Trial 251 finished with value: 0.7591717696705094 and parameters: {'max_depth': 5, 'n_estimators': 678, 'learning_rate': 0.020758562837093902, 'num_leaves': 11}. Best is trial 219 with value: 0.7594577910392792.\u001b[0m\n",
      "\u001b[32m[I 2023-08-03 21:47:00,740]\u001b[0m Trial 252 finished with value: 0.7588930636803551 and parameters: {'max_depth': 5, 'n_estimators': 673, 'learning_rate': 0.02082751428638839, 'num_leaves': 11}. Best is trial 219 with value: 0.7594577910392792.\u001b[0m\n",
      "\u001b[32m[I 2023-08-03 21:47:05,492]\u001b[0m Trial 256 finished with value: 0.758658270877918 and parameters: {'max_depth': 5, 'n_estimators': 559, 'learning_rate': 0.022275440364077536, 'num_leaves': 19}. Best is trial 219 with value: 0.7594577910392792.\u001b[0m\n",
      "\u001b[32m[I 2023-08-03 21:47:06,048]\u001b[0m Trial 257 finished with value: 0.7590621801744183 and parameters: {'max_depth': 5, 'n_estimators': 560, 'learning_rate': 0.02281394892600169, 'num_leaves': 11}. Best is trial 219 with value: 0.7594577910392792.\u001b[0m\n",
      "\u001b[32m[I 2023-08-03 21:47:07,662]\u001b[0m Trial 258 finished with value: 0.759046482700076 and parameters: {'max_depth': 5, 'n_estimators': 559, 'learning_rate': 0.0202962539868901, 'num_leaves': 11}. Best is trial 219 with value: 0.7594577910392792.\u001b[0m\n",
      "\u001b[32m[I 2023-08-03 21:47:09,658]\u001b[0m Trial 259 finished with value: 0.759011511111668 and parameters: {'max_depth': 5, 'n_estimators': 650, 'learning_rate': 0.022250421454456156, 'num_leaves': 11}. Best is trial 219 with value: 0.7594577910392792.\u001b[0m\n",
      "\u001b[32m[I 2023-08-03 21:47:10,338]\u001b[0m Trial 260 finished with value: 0.7588836776155836 and parameters: {'max_depth': 5, 'n_estimators': 644, 'learning_rate': 0.0223658008971617, 'num_leaves': 11}. Best is trial 219 with value: 0.7594577910392792.\u001b[0m\n",
      "\u001b[32m[I 2023-08-03 21:47:14,789]\u001b[0m Trial 253 finished with value: 0.7567121291738366 and parameters: {'max_depth': 5, 'n_estimators': 1635, 'learning_rate': 0.02094154144034068, 'num_leaves': 11}. Best is trial 219 with value: 0.7594577910392792.\u001b[0m\n",
      "\u001b[32m[I 2023-08-03 21:47:16,006]\u001b[0m Trial 261 finished with value: 0.7591110452302905 and parameters: {'max_depth': 5, 'n_estimators': 645, 'learning_rate': 0.020156680639699314, 'num_leaves': 11}. Best is trial 219 with value: 0.7594577910392792.\u001b[0m\n",
      "\u001b[32m[I 2023-08-03 21:47:16,576]\u001b[0m Trial 262 finished with value: 0.7586015570848745 and parameters: {'max_depth': 5, 'n_estimators': 643, 'learning_rate': 0.0265812353231038, 'num_leaves': 11}. Best is trial 219 with value: 0.7594577910392792.\u001b[0m\n",
      "\u001b[32m[I 2023-08-03 21:47:18,478]\u001b[0m Trial 263 finished with value: 0.7584072106395452 and parameters: {'max_depth': 5, 'n_estimators': 643, 'learning_rate': 0.0263199806577552, 'num_leaves': 11}. Best is trial 219 with value: 0.7594577910392792.\u001b[0m\n",
      "\u001b[32m[I 2023-08-03 21:47:21,979]\u001b[0m Trial 255 finished with value: 0.7557399001916723 and parameters: {'max_depth': 5, 'n_estimators': 1947, 'learning_rate': 0.020589167516296334, 'num_leaves': 11}. Best is trial 219 with value: 0.7594577910392792.\u001b[0m\n",
      "\u001b[32m[I 2023-08-03 21:47:24,717]\u001b[0m Trial 254 finished with value: 0.7561958590083601 and parameters: {'max_depth': 5, 'n_estimators': 2092, 'learning_rate': 0.020643602550652028, 'num_leaves': 11}. Best is trial 219 with value: 0.7594577910392792.\u001b[0m\n",
      "\u001b[32m[I 2023-08-03 21:47:28,936]\u001b[0m Trial 267 finished with value: 0.7581098161839351 and parameters: {'max_depth': 5, 'n_estimators': 720, 'learning_rate': 0.025642824245328547, 'num_leaves': 11}. Best is trial 219 with value: 0.7594577910392792.\u001b[0m\n",
      "\u001b[32m[I 2023-08-03 21:47:31,951]\u001b[0m Trial 270 finished with value: 0.7587631228950769 and parameters: {'max_depth': 5, 'n_estimators': 711, 'learning_rate': 0.020070086366470574, 'num_leaves': 10}. Best is trial 219 with value: 0.7594577910392792.\u001b[0m\n",
      "\u001b[32m[I 2023-08-03 21:47:33,705]\u001b[0m Trial 271 finished with value: 0.758685723156498 and parameters: {'max_depth': 5, 'n_estimators': 718, 'learning_rate': 0.023660002986584102, 'num_leaves': 10}. Best is trial 219 with value: 0.7594577910392792.\u001b[0m\n",
      "\u001b[32m[I 2023-08-03 21:47:34,651]\u001b[0m Trial 268 finished with value: 0.756405233615335 and parameters: {'max_depth': 5, 'n_estimators': 1204, 'learning_rate': 0.028046528229410242, 'num_leaves': 10}. Best is trial 219 with value: 0.7594577910392792.\u001b[0m\n",
      "\u001b[32m[I 2023-08-03 21:47:36,937]\u001b[0m Trial 272 finished with value: 0.7582378849852643 and parameters: {'max_depth': 5, 'n_estimators': 583, 'learning_rate': 0.034405006917976946, 'num_leaves': 10}. Best is trial 219 with value: 0.7594577910392792.\u001b[0m\n",
      "\u001b[32m[I 2023-08-03 21:47:40,414]\u001b[0m Trial 273 finished with value: 0.758600370100639 and parameters: {'max_depth': 5, 'n_estimators': 585, 'learning_rate': 0.028294379360936997, 'num_leaves': 10}. Best is trial 219 with value: 0.7594577910392792.\u001b[0m\n",
      "\u001b[32m[I 2023-08-03 21:47:41,677]\u001b[0m Trial 265 finished with value: 0.7555337100490127 and parameters: {'max_depth': 5, 'n_estimators': 1952, 'learning_rate': 0.02314097382110885, 'num_leaves': 11}. Best is trial 219 with value: 0.7594577910392792.\u001b[0m\n",
      "\u001b[32m[I 2023-08-03 21:47:44,667]\u001b[0m Trial 264 finished with value: 0.7538578504073155 and parameters: {'max_depth': 5, 'n_estimators': 2117, 'learning_rate': 0.027343485364719703, 'num_leaves': 11}. Best is trial 219 with value: 0.7594577910392792.\u001b[0m\n",
      "\u001b[32m[I 2023-08-03 21:47:45,274]\u001b[0m Trial 274 finished with value: 0.7588577522065932 and parameters: {'max_depth': 5, 'n_estimators': 585, 'learning_rate': 0.018704857624479286, 'num_leaves': 10}. Best is trial 219 with value: 0.7594577910392792.\u001b[0m\n",
      "\u001b[32m[I 2023-08-03 21:47:46,382]\u001b[0m Trial 275 finished with value: 0.758957584378526 and parameters: {'max_depth': 5, 'n_estimators': 586, 'learning_rate': 0.01860855049987412, 'num_leaves': 11}. Best is trial 219 with value: 0.7594577910392792.\u001b[0m\n",
      "\u001b[32m[I 2023-08-03 21:47:55,370]\u001b[0m Trial 269 finished with value: 0.7524047934585727 and parameters: {'max_depth': 5, 'n_estimators': 2235, 'learning_rate': 0.03503429043130387, 'num_leaves': 10}. Best is trial 219 with value: 0.7594577910392792.\u001b[0m\n",
      "\u001b[32m[I 2023-08-03 21:47:55,646]\u001b[0m Trial 266 finished with value: 0.7543746225573146 and parameters: {'max_depth': 5, 'n_estimators': 2295, 'learning_rate': 0.023165027385969605, 'num_leaves': 11}. Best is trial 219 with value: 0.7594577910392792.\u001b[0m\n",
      "\u001b[32m[I 2023-08-03 21:47:55,932]\u001b[0m Trial 277 finished with value: 0.7573948699566218 and parameters: {'max_depth': 5, 'n_estimators': 679, 'learning_rate': 0.03791107891313451, 'num_leaves': 11}. Best is trial 219 with value: 0.7594577910392792.\u001b[0m\n",
      "\u001b[32m[I 2023-08-03 21:47:56,529]\u001b[0m Trial 278 finished with value: 0.7590994368382054 and parameters: {'max_depth': 5, 'n_estimators': 614, 'learning_rate': 0.01883367972867072, 'num_leaves': 12}. Best is trial 219 with value: 0.7594577910392792.\u001b[0m\n",
      "\u001b[32m[I 2023-08-03 21:47:58,094]\u001b[0m Trial 279 finished with value: 0.758990997723312 and parameters: {'max_depth': 5, 'n_estimators': 614, 'learning_rate': 0.0186330329084649, 'num_leaves': 12}. Best is trial 219 with value: 0.7594577910392792.\u001b[0m\n",
      "\u001b[32m[I 2023-08-03 21:47:58,746]\u001b[0m Trial 280 finished with value: 0.7589061309649592 and parameters: {'max_depth': 5, 'n_estimators': 616, 'learning_rate': 0.018111704165366317, 'num_leaves': 12}. Best is trial 219 with value: 0.7594577910392792.\u001b[0m\n",
      "\u001b[32m[I 2023-08-03 21:48:03,864]\u001b[0m Trial 281 finished with value: 0.7584034875876692 and parameters: {'max_depth': 5, 'n_estimators': 939, 'learning_rate': 0.017451659925451727, 'num_leaves': 12}. Best is trial 219 with value: 0.7594577910392792.\u001b[0m\n",
      "\u001b[32m[I 2023-08-03 21:48:05,709]\u001b[0m Trial 283 finished with value: 0.7589111769552124 and parameters: {'max_depth': 5, 'n_estimators': 624, 'learning_rate': 0.01683381666584682, 'num_leaves': 12}. Best is trial 219 with value: 0.7594577910392792.\u001b[0m\n",
      "\u001b[32m[I 2023-08-03 21:48:06,694]\u001b[0m Trial 282 finished with value: 0.759048213500878 and parameters: {'max_depth': 5, 'n_estimators': 682, 'learning_rate': 0.01639663558960892, 'num_leaves': 12}. Best is trial 219 with value: 0.7594577910392792.\u001b[0m\n",
      "\u001b[32m[I 2023-08-03 21:48:07,942]\u001b[0m Trial 286 finished with value: 0.7589592628892735 and parameters: {'max_depth': 5, 'n_estimators': 619, 'learning_rate': 0.01668081854661572, 'num_leaves': 12}. Best is trial 219 with value: 0.7594577910392792.\u001b[0m\n",
      "\u001b[32m[I 2023-08-03 21:48:08,626]\u001b[0m Trial 284 finished with value: 0.7589086461165776 and parameters: {'max_depth': 5, 'n_estimators': 620, 'learning_rate': 0.016769873854221472, 'num_leaves': 12}. Best is trial 219 with value: 0.7594577910392792.\u001b[0m\n",
      "\u001b[32m[I 2023-08-03 21:48:09,607]\u001b[0m Trial 287 finished with value: 0.7589831751311681 and parameters: {'max_depth': 5, 'n_estimators': 664, 'learning_rate': 0.01673054694100107, 'num_leaves': 12}. Best is trial 219 with value: 0.7594577910392792.\u001b[0m\n",
      "\u001b[32m[I 2023-08-03 21:48:12,049]\u001b[0m Trial 285 finished with value: 0.758722038599305 and parameters: {'max_depth': 5, 'n_estimators': 950, 'learning_rate': 0.016527385881197183, 'num_leaves': 12}. Best is trial 219 with value: 0.7594577910392792.\u001b[0m\n",
      "\u001b[32m[I 2023-08-03 21:48:15,798]\u001b[0m Trial 288 finished with value: 0.734575819627256 and parameters: {'max_depth': 4, 'n_estimators': 663, 'learning_rate': 0.3307407106656222, 'num_leaves': 12}. Best is trial 219 with value: 0.7594577910392792.\u001b[0m\n",
      "\u001b[32m[I 2023-08-03 21:48:16,403]\u001b[0m Trial 289 finished with value: 0.7586269805093424 and parameters: {'max_depth': 4, 'n_estimators': 663, 'learning_rate': 0.02002582736985786, 'num_leaves': 12}. Best is trial 219 with value: 0.7594577910392792.\u001b[0m\n",
      "\u001b[32m[I 2023-08-03 21:48:16,876]\u001b[0m Trial 292 finished with value: 0.7589549175857498 and parameters: {'max_depth': 5, 'n_estimators': 500, 'learning_rate': 0.019771178477902433, 'num_leaves': 11}. Best is trial 219 with value: 0.7594577910392792.\u001b[0m\n",
      "\u001b[32m[I 2023-08-03 21:48:17,569]\u001b[0m Trial 290 finished with value: 0.7587063568119792 and parameters: {'max_depth': 4, 'n_estimators': 656, 'learning_rate': 0.01996758096153915, 'num_leaves': 12}. Best is trial 219 with value: 0.7594577910392792.\u001b[0m\n",
      "\u001b[32m[I 2023-08-03 21:48:18,646]\u001b[0m Trial 291 finished with value: 0.7588960285264418 and parameters: {'max_depth': 4, 'n_estimators': 668, 'learning_rate': 0.020086460952054207, 'num_leaves': 11}. Best is trial 219 with value: 0.7594577910392792.\u001b[0m\n",
      "\u001b[32m[I 2023-08-03 21:48:21,228]\u001b[0m Trial 293 finished with value: 0.7586949366640898 and parameters: {'max_depth': 10, 'n_estimators': 652, 'learning_rate': 0.01981652131843094, 'num_leaves': 11}. Best is trial 219 with value: 0.7594577910392792.\u001b[0m\n",
      "\u001b[32m[I 2023-08-03 21:48:23,005]\u001b[0m Trial 294 finished with value: 0.7585439961929492 and parameters: {'max_depth': 4, 'n_estimators': 649, 'learning_rate': 0.019584809653298996, 'num_leaves': 18}. Best is trial 219 with value: 0.7594577910392792.\u001b[0m\n",
      "\u001b[32m[I 2023-08-03 21:48:23,987]\u001b[0m Trial 296 finished with value: 0.7590411543435288 and parameters: {'max_depth': 5, 'n_estimators': 501, 'learning_rate': 0.019864121313601216, 'num_leaves': 11}. Best is trial 219 with value: 0.7594577910392792.\u001b[0m\n",
      "\u001b[32m[I 2023-08-03 21:48:25,285]\u001b[0m Trial 295 finished with value: 0.7590189781314416 and parameters: {'max_depth': 5, 'n_estimators': 648, 'learning_rate': 0.019893612697869007, 'num_leaves': 11}. Best is trial 219 with value: 0.7594577910392792.\u001b[0m\n",
      "\u001b[32m[I 2023-08-03 21:48:25,452]\u001b[0m Trial 297 finished with value: 0.7550778453544229 and parameters: {'max_depth': 5, 'n_estimators': 645, 'learning_rate': 0.05885067079190723, 'num_leaves': 11}. Best is trial 219 with value: 0.7594577910392792.\u001b[0m\n",
      "\u001b[32m[I 2023-08-03 21:48:25,792]\u001b[0m Trial 299 finished with value: 0.7544351116922883 and parameters: {'max_depth': 5, 'n_estimators': 560, 'learning_rate': 0.08592177397535894, 'num_leaves': 11}. Best is trial 219 with value: 0.7594577910392792.\u001b[0m\n",
      "\u001b[32m[I 2023-08-03 21:48:26,498]\u001b[0m Trial 298 finished with value: 0.7586011649094663 and parameters: {'max_depth': 5, 'n_estimators': 703, 'learning_rate': 0.022502038718571205, 'num_leaves': 11}. Best is trial 219 with value: 0.7594577910392792.\u001b[0m\n",
      "\u001b[32m[I 2023-08-03 21:48:31,197]\u001b[0m Trial 276 finished with value: 0.7528242695042793 and parameters: {'max_depth': 5, 'n_estimators': 3915, 'learning_rate': 0.01900156645522599, 'num_leaves': 11}. Best is trial 219 with value: 0.7594577910392792.\u001b[0m\n"
     ]
    },
    {
     "name": "stdout",
     "output_type": "stream",
     "text": [
      "Wall time: 10min 11s\n"
     ]
    }
   ],
   "source": [
    "%%time\n",
    "study_lgbm = optuna.create_study(direction='maximize')\n",
    "study_lgbm.optimize(objective_lgbm, n_trials=500, timeout=600, n_jobs=-1)\n"
   ]
  },
  {
   "cell_type": "code",
   "execution_count": 92,
   "id": "e34dfc5c",
   "metadata": {},
   "outputs": [
    {
     "data": {
      "text/plain": [
       "{'max_depth': 5,\n",
       " 'n_estimators': 527,\n",
       " 'learning_rate': 0.02179153084057909,\n",
       " 'num_leaves': 13}"
      ]
     },
     "execution_count": 92,
     "metadata": {},
     "output_type": "execute_result"
    }
   ],
   "source": [
    "best_params_lgbm = study_lgbm.best_trial.params\n",
    "best_params_lgbm\n"
   ]
  },
  {
   "cell_type": "code",
   "execution_count": 93,
   "id": "a2c6a0fb",
   "metadata": {},
   "outputs": [
    {
     "name": "stdout",
     "output_type": "stream",
     "text": [
      "Wall time: 1.79 s\n"
     ]
    },
    {
     "data": {
      "text/plain": [
       "0.7594577910392792"
      ]
     },
     "execution_count": 93,
     "metadata": {},
     "output_type": "execute_result"
    }
   ],
   "source": [
    "%%time\n",
    "model_lgb = lgb.LGBMClassifier(n_jobs=-1, random_state = 42,  **best_params_lgbm)\n",
    "model_lgb.fit(X_train_c, y_train.values.ravel())\n",
    "roc_auc_score(y_val.values.ravel(), model_lgb.predict_proba(X_val_c)[:, 1])\n"
   ]
  },
  {
   "cell_type": "markdown",
   "id": "068e6a2f",
   "metadata": {},
   "source": [
    "### CatBoostClassifier"
   ]
  },
  {
   "cell_type": "code",
   "execution_count": 94,
   "id": "163ea466",
   "metadata": {},
   "outputs": [],
   "source": [
    "def objective(trial):\n",
    "\n",
    "    param = {     \n",
    "        'depth' : trial.suggest_int(\"depth\", 3, 10),\n",
    "        'n_estimators' : trial.suggest_int('n_estimators', 500, 4000, log=True),\n",
    "        'learning_rate' : trial.suggest_float('learning_rate', 0.01, 0.4, log=True)\n",
    "        ###\n",
    "    }\n",
    "\n",
    "    model = CatBoostClassifier(cat_features=category, early_stopping_rounds = 100, loss_function= 'Logloss', random_state = 42,  **param)\n",
    "    model.fit(X_train_c, y_train, eval_set=[(X_val_c, y_val)], verbose=0)\n",
    "\n",
    "    accuracy = roc_auc_score(y_val, model.predict_proba(X_val_c)[:, 1])\n",
    "\n",
    "    return accuracy"
   ]
  },
  {
   "cell_type": "code",
   "execution_count": 95,
   "id": "4515a90b",
   "metadata": {},
   "outputs": [
    {
     "name": "stderr",
     "output_type": "stream",
     "text": [
      "\u001b[32m[I 2023-08-03 21:48:33,091]\u001b[0m A new study created in memory with name: no-name-166e4b0a-f90e-413a-b09d-a36cabbd911b\u001b[0m\n",
      "Custom logger is already specified. Specify more than one logger at same time is not thread safe.Custom logger is already specified. Specify more than one logger at same time is not thread safe.Custom logger is already specified. Specify more than one logger at same time is not thread safe.Custom logger is already specified. Specify more than one logger at same time is not thread safe.Custom logger is already specified. Specify more than one logger at same time is not thread safe.Custom logger is already specified. Specify more than one logger at same time is not thread safe.Custom logger is already specified. Specify more than one logger at same time is not thread safe.\u001b[32m[I 2023-08-03 21:50:40,035]\u001b[0m Trial 0 finished with value: 0.7580874726436737 and parameters: {'depth': 7, 'n_estimators': 1129, 'learning_rate': 0.2712684446626827}. Best is trial 0 with value: 0.7580874726436737.\u001b[0m\n",
      "\u001b[32m[I 2023-08-03 21:57:10,180]\u001b[0m Trial 3 finished with value: 0.7592902223308275 and parameters: {'depth': 5, 'n_estimators': 675, 'learning_rate': 0.04527463114673333}. Best is trial 3 with value: 0.7592902223308275.\u001b[0m\n",
      "\u001b[32m[I 2023-08-03 22:01:43,279]\u001b[0m Trial 4 finished with value: 0.7591319141910168 and parameters: {'depth': 8, 'n_estimators': 1775, 'learning_rate': 0.043577392826470454}. Best is trial 3 with value: 0.7592902223308275.\u001b[0m\n",
      "\u001b[32m[I 2023-08-03 22:01:45,182]\u001b[0m Trial 6 finished with value: 0.7597651519792654 and parameters: {'depth': 6, 'n_estimators': 893, 'learning_rate': 0.03785602823954112}. Best is trial 6 with value: 0.7597651519792654.\u001b[0m\n",
      "\u001b[32m[I 2023-08-03 22:04:53,912]\u001b[0m Trial 8 finished with value: 0.7593012137002704 and parameters: {'depth': 9, 'n_estimators': 1038, 'learning_rate': 0.01753033143215744}. Best is trial 6 with value: 0.7597651519792654.\u001b[0m\n",
      "\u001b[32m[I 2023-08-03 22:05:52,614]\u001b[0m Trial 1 finished with value: 0.759222313237129 and parameters: {'depth': 7, 'n_estimators': 1108, 'learning_rate': 0.011352579972606929}. Best is trial 6 with value: 0.7597651519792654.\u001b[0m\n",
      "\u001b[32m[I 2023-08-03 22:05:57,556]\u001b[0m Trial 9 finished with value: 0.7591309154509769 and parameters: {'depth': 10, 'n_estimators': 2928, 'learning_rate': 0.06048298273355696}. Best is trial 6 with value: 0.7597651519792654.\u001b[0m\n",
      "\u001b[32m[I 2023-08-03 22:06:43,487]\u001b[0m Trial 7 finished with value: 0.7592840834784365 and parameters: {'depth': 9, 'n_estimators': 1370, 'learning_rate': 0.02547633888406953}. Best is trial 6 with value: 0.7597651519792654.\u001b[0m\n",
      "\u001b[32m[I 2023-08-03 22:07:23,832]\u001b[0m Trial 2 finished with value: 0.7592123258367314 and parameters: {'depth': 9, 'n_estimators': 1941, 'learning_rate': 0.020164792098960802}. Best is trial 6 with value: 0.7597651519792654.\u001b[0m\n",
      "\u001b[32m[I 2023-08-03 22:08:24,784]\u001b[0m Trial 5 finished with value: 0.7596488066081409 and parameters: {'depth': 8, 'n_estimators': 2273, 'learning_rate': 0.01759555480889006}. Best is trial 6 with value: 0.7597651519792654.\u001b[0m\n"
     ]
    },
    {
     "name": "stdout",
     "output_type": "stream",
     "text": [
      "Wall time: 19min 51s\n"
     ]
    }
   ],
   "source": [
    "%%time\n",
    "study = optuna.create_study(direction='maximize')\n",
    "study.optimize(objective, n_trials=500, timeout=600, n_jobs=-1)"
   ]
  },
  {
   "cell_type": "code",
   "execution_count": 96,
   "id": "e6b34cfc",
   "metadata": {},
   "outputs": [
    {
     "data": {
      "text/plain": [
       "{'depth': 6, 'n_estimators': 893, 'learning_rate': 0.03785602823954112}"
      ]
     },
     "execution_count": 96,
     "metadata": {},
     "output_type": "execute_result"
    }
   ],
   "source": [
    "best_params = study.best_trial.params\n",
    "best_params"
   ]
  },
  {
   "cell_type": "code",
   "execution_count": 97,
   "id": "2c3347e1",
   "metadata": {},
   "outputs": [
    {
     "name": "stdout",
     "output_type": "stream",
     "text": [
      "0:\tlearn: 0.6829404\ttest: 0.6828893\tbest: 0.6828893 (0)\ttotal: 157ms\tremaining: 2m 20s\n",
      "3:\tlearn: 0.6562674\ttest: 0.6562462\tbest: 0.6562462 (3)\ttotal: 527ms\tremaining: 1m 57s\n",
      "6:\tlearn: 0.6369330\ttest: 0.6369807\tbest: 0.6369807 (6)\ttotal: 1.01s\tremaining: 2m 7s\n",
      "9:\tlearn: 0.6218734\ttest: 0.6220992\tbest: 0.6220992 (9)\ttotal: 1.4s\tremaining: 2m 3s\n",
      "12:\tlearn: 0.6100124\ttest: 0.6103011\tbest: 0.6103011 (12)\ttotal: 1.75s\tremaining: 1m 58s\n",
      "15:\tlearn: 0.6006087\ttest: 0.6011418\tbest: 0.6011418 (15)\ttotal: 2.2s\tremaining: 2m\n",
      "18:\tlearn: 0.5931590\ttest: 0.5936184\tbest: 0.5936184 (18)\ttotal: 2.58s\tremaining: 1m 58s\n",
      "21:\tlearn: 0.5872350\ttest: 0.5878444\tbest: 0.5878444 (21)\ttotal: 3.02s\tremaining: 1m 59s\n",
      "24:\tlearn: 0.5826577\ttest: 0.5833633\tbest: 0.5833633 (24)\ttotal: 3.46s\tremaining: 2m\n",
      "27:\tlearn: 0.5791589\ttest: 0.5799080\tbest: 0.5799080 (27)\ttotal: 3.89s\tremaining: 2m\n",
      "30:\tlearn: 0.5762294\ttest: 0.5769965\tbest: 0.5769965 (30)\ttotal: 4.3s\tremaining: 1m 59s\n",
      "33:\tlearn: 0.5737788\ttest: 0.5746212\tbest: 0.5746212 (33)\ttotal: 4.67s\tremaining: 1m 58s\n",
      "36:\tlearn: 0.5716106\ttest: 0.5725124\tbest: 0.5725124 (36)\ttotal: 5.12s\tremaining: 1m 58s\n",
      "39:\tlearn: 0.5698803\ttest: 0.5707614\tbest: 0.5707614 (39)\ttotal: 5.55s\tremaining: 1m 58s\n",
      "42:\tlearn: 0.5683792\ttest: 0.5692569\tbest: 0.5692569 (42)\ttotal: 5.99s\tremaining: 1m 58s\n",
      "45:\tlearn: 0.5670662\ttest: 0.5680026\tbest: 0.5680026 (45)\ttotal: 6.43s\tremaining: 1m 58s\n",
      "48:\tlearn: 0.5660431\ttest: 0.5670721\tbest: 0.5670721 (48)\ttotal: 6.85s\tremaining: 1m 58s\n",
      "51:\tlearn: 0.5650387\ttest: 0.5661250\tbest: 0.5661250 (51)\ttotal: 7.28s\tremaining: 1m 57s\n",
      "54:\tlearn: 0.5642780\ttest: 0.5654063\tbest: 0.5654063 (54)\ttotal: 7.75s\tremaining: 1m 58s\n",
      "57:\tlearn: 0.5634001\ttest: 0.5645970\tbest: 0.5645970 (57)\ttotal: 8.2s\tremaining: 1m 58s\n",
      "60:\tlearn: 0.5627182\ttest: 0.5639508\tbest: 0.5639508 (60)\ttotal: 8.64s\tremaining: 1m 57s\n",
      "63:\tlearn: 0.5619904\ttest: 0.5633205\tbest: 0.5633205 (63)\ttotal: 9.12s\tremaining: 1m 58s\n",
      "66:\tlearn: 0.5614860\ttest: 0.5628743\tbest: 0.5628743 (66)\ttotal: 9.6s\tremaining: 1m 58s\n",
      "69:\tlearn: 0.5609638\ttest: 0.5624690\tbest: 0.5624690 (69)\ttotal: 10.1s\tremaining: 1m 58s\n",
      "72:\tlearn: 0.5605536\ttest: 0.5621406\tbest: 0.5621406 (72)\ttotal: 10.6s\tremaining: 1m 58s\n",
      "75:\tlearn: 0.5601367\ttest: 0.5618381\tbest: 0.5618381 (75)\ttotal: 11.1s\tremaining: 1m 58s\n",
      "78:\tlearn: 0.5598233\ttest: 0.5615790\tbest: 0.5615790 (78)\ttotal: 11.5s\tremaining: 1m 58s\n",
      "81:\tlearn: 0.5595010\ttest: 0.5613080\tbest: 0.5613080 (81)\ttotal: 12s\tremaining: 1m 58s\n",
      "84:\tlearn: 0.5592319\ttest: 0.5610687\tbest: 0.5610687 (84)\ttotal: 12.4s\tremaining: 1m 58s\n",
      "87:\tlearn: 0.5589464\ttest: 0.5608409\tbest: 0.5608409 (87)\ttotal: 12.9s\tremaining: 1m 58s\n",
      "90:\tlearn: 0.5586835\ttest: 0.5606927\tbest: 0.5606927 (90)\ttotal: 13.4s\tremaining: 1m 58s\n",
      "93:\tlearn: 0.5583642\ttest: 0.5604541\tbest: 0.5604541 (93)\ttotal: 13.9s\tremaining: 1m 58s\n",
      "96:\tlearn: 0.5581174\ttest: 0.5602803\tbest: 0.5602803 (96)\ttotal: 14.4s\tremaining: 1m 57s\n",
      "99:\tlearn: 0.5578823\ttest: 0.5601417\tbest: 0.5601417 (99)\ttotal: 14.9s\tremaining: 1m 58s\n",
      "102:\tlearn: 0.5576180\ttest: 0.5599321\tbest: 0.5599321 (102)\ttotal: 15.4s\tremaining: 1m 58s\n",
      "105:\tlearn: 0.5574265\ttest: 0.5597783\tbest: 0.5597783 (105)\ttotal: 15.8s\tremaining: 1m 57s\n",
      "108:\tlearn: 0.5572816\ttest: 0.5596726\tbest: 0.5596726 (108)\ttotal: 16.3s\tremaining: 1m 57s\n",
      "111:\tlearn: 0.5570399\ttest: 0.5595088\tbest: 0.5595088 (111)\ttotal: 16.7s\tremaining: 1m 56s\n",
      "114:\tlearn: 0.5569037\ttest: 0.5594259\tbest: 0.5594259 (114)\ttotal: 17.2s\tremaining: 1m 56s\n",
      "117:\tlearn: 0.5567241\ttest: 0.5593294\tbest: 0.5593294 (117)\ttotal: 17.7s\tremaining: 1m 56s\n",
      "120:\tlearn: 0.5565552\ttest: 0.5591962\tbest: 0.5591962 (120)\ttotal: 18.1s\tremaining: 1m 55s\n",
      "123:\tlearn: 0.5563687\ttest: 0.5591002\tbest: 0.5591002 (123)\ttotal: 18.5s\tremaining: 1m 54s\n",
      "126:\tlearn: 0.5562395\ttest: 0.5590244\tbest: 0.5590244 (126)\ttotal: 19s\tremaining: 1m 54s\n",
      "129:\tlearn: 0.5561111\ttest: 0.5589260\tbest: 0.5589260 (129)\ttotal: 19.5s\tremaining: 1m 54s\n",
      "132:\tlearn: 0.5559123\ttest: 0.5588276\tbest: 0.5588276 (132)\ttotal: 19.9s\tremaining: 1m 53s\n",
      "135:\tlearn: 0.5557503\ttest: 0.5587411\tbest: 0.5587411 (135)\ttotal: 20.4s\tremaining: 1m 53s\n",
      "138:\tlearn: 0.5556126\ttest: 0.5586797\tbest: 0.5586797 (138)\ttotal: 20.9s\tremaining: 1m 53s\n",
      "141:\tlearn: 0.5555083\ttest: 0.5585992\tbest: 0.5585991 (140)\ttotal: 21.3s\tremaining: 1m 52s\n",
      "144:\tlearn: 0.5554211\ttest: 0.5585353\tbest: 0.5585353 (144)\ttotal: 21.8s\tremaining: 1m 52s\n",
      "147:\tlearn: 0.5552969\ttest: 0.5584549\tbest: 0.5584549 (147)\ttotal: 22.2s\tremaining: 1m 51s\n",
      "150:\tlearn: 0.5551852\ttest: 0.5583868\tbest: 0.5583868 (150)\ttotal: 22.7s\tremaining: 1m 51s\n",
      "153:\tlearn: 0.5550178\ttest: 0.5583185\tbest: 0.5583185 (153)\ttotal: 23.2s\tremaining: 1m 51s\n",
      "156:\tlearn: 0.5548808\ttest: 0.5582310\tbest: 0.5582310 (156)\ttotal: 23.7s\tremaining: 1m 50s\n",
      "159:\tlearn: 0.5547218\ttest: 0.5581492\tbest: 0.5581492 (159)\ttotal: 24.2s\tremaining: 1m 50s\n",
      "162:\tlearn: 0.5546044\ttest: 0.5580898\tbest: 0.5580898 (162)\ttotal: 24.6s\tremaining: 1m 50s\n",
      "165:\tlearn: 0.5545184\ttest: 0.5580572\tbest: 0.5580572 (165)\ttotal: 25.1s\tremaining: 1m 49s\n",
      "168:\tlearn: 0.5544051\ttest: 0.5579825\tbest: 0.5579825 (167)\ttotal: 25.5s\tremaining: 1m 49s\n",
      "171:\tlearn: 0.5543380\ttest: 0.5579618\tbest: 0.5579618 (171)\ttotal: 26s\tremaining: 1m 48s\n",
      "174:\tlearn: 0.5541425\ttest: 0.5578940\tbest: 0.5578940 (174)\ttotal: 26.4s\tremaining: 1m 48s\n",
      "177:\tlearn: 0.5540429\ttest: 0.5578221\tbest: 0.5578221 (177)\ttotal: 27s\tremaining: 1m 48s\n",
      "180:\tlearn: 0.5539249\ttest: 0.5577767\tbest: 0.5577767 (180)\ttotal: 27.5s\tremaining: 1m 48s\n",
      "183:\tlearn: 0.5538185\ttest: 0.5577576\tbest: 0.5577576 (183)\ttotal: 27.9s\tremaining: 1m 47s\n",
      "186:\tlearn: 0.5537359\ttest: 0.5577392\tbest: 0.5577392 (186)\ttotal: 28.4s\tremaining: 1m 47s\n",
      "189:\tlearn: 0.5535588\ttest: 0.5576455\tbest: 0.5576455 (189)\ttotal: 28.9s\tremaining: 1m 47s\n",
      "192:\tlearn: 0.5534727\ttest: 0.5575992\tbest: 0.5575992 (192)\ttotal: 29.4s\tremaining: 1m 46s\n",
      "195:\tlearn: 0.5533857\ttest: 0.5575711\tbest: 0.5575690 (194)\ttotal: 29.9s\tremaining: 1m 46s\n",
      "198:\tlearn: 0.5533434\ttest: 0.5575481\tbest: 0.5575481 (198)\ttotal: 30.4s\tremaining: 1m 45s\n",
      "201:\tlearn: 0.5532499\ttest: 0.5574872\tbest: 0.5574872 (201)\ttotal: 31s\tremaining: 1m 45s\n",
      "204:\tlearn: 0.5531707\ttest: 0.5574807\tbest: 0.5574776 (203)\ttotal: 31.5s\tremaining: 1m 45s\n",
      "207:\tlearn: 0.5530448\ttest: 0.5574319\tbest: 0.5574319 (207)\ttotal: 32s\tremaining: 1m 45s\n",
      "210:\tlearn: 0.5529715\ttest: 0.5574009\tbest: 0.5574009 (210)\ttotal: 32.5s\tremaining: 1m 44s\n",
      "213:\tlearn: 0.5528663\ttest: 0.5573484\tbest: 0.5573484 (213)\ttotal: 32.9s\tremaining: 1m 44s\n",
      "216:\tlearn: 0.5527533\ttest: 0.5573006\tbest: 0.5573006 (216)\ttotal: 33.3s\tremaining: 1m 43s\n",
      "219:\tlearn: 0.5526274\ttest: 0.5572550\tbest: 0.5572550 (219)\ttotal: 33.9s\tremaining: 1m 43s\n",
      "222:\tlearn: 0.5525575\ttest: 0.5572344\tbest: 0.5572344 (222)\ttotal: 34.4s\tremaining: 1m 43s\n",
      "225:\tlearn: 0.5525098\ttest: 0.5572297\tbest: 0.5572284 (223)\ttotal: 34.8s\tremaining: 1m 42s\n",
      "228:\tlearn: 0.5524865\ttest: 0.5572200\tbest: 0.5572200 (228)\ttotal: 35.1s\tremaining: 1m 41s\n",
      "231:\tlearn: 0.5524499\ttest: 0.5572170\tbest: 0.5572170 (231)\ttotal: 35.7s\tremaining: 1m 41s\n",
      "234:\tlearn: 0.5523743\ttest: 0.5571814\tbest: 0.5571814 (234)\ttotal: 36.2s\tremaining: 1m 41s\n",
      "237:\tlearn: 0.5523106\ttest: 0.5571736\tbest: 0.5571736 (237)\ttotal: 36.7s\tremaining: 1m 41s\n",
      "240:\tlearn: 0.5522333\ttest: 0.5571452\tbest: 0.5571452 (240)\ttotal: 37.3s\tremaining: 1m 40s\n",
      "243:\tlearn: 0.5521128\ttest: 0.5570983\tbest: 0.5570941 (242)\ttotal: 37.8s\tremaining: 1m 40s\n",
      "246:\tlearn: 0.5520238\ttest: 0.5570504\tbest: 0.5570504 (246)\ttotal: 38.3s\tremaining: 1m 40s\n",
      "249:\tlearn: 0.5519463\ttest: 0.5570335\tbest: 0.5570335 (249)\ttotal: 38.9s\tremaining: 1m 39s\n",
      "252:\tlearn: 0.5517890\ttest: 0.5569442\tbest: 0.5569442 (252)\ttotal: 39.4s\tremaining: 1m 39s\n",
      "255:\tlearn: 0.5517027\ttest: 0.5569197\tbest: 0.5569197 (255)\ttotal: 39.9s\tremaining: 1m 39s\n",
      "258:\tlearn: 0.5516238\ttest: 0.5568911\tbest: 0.5568911 (258)\ttotal: 40.4s\tremaining: 1m 38s\n",
      "261:\tlearn: 0.5515779\ttest: 0.5568787\tbest: 0.5568752 (260)\ttotal: 40.9s\tremaining: 1m 38s\n",
      "264:\tlearn: 0.5515253\ttest: 0.5568605\tbest: 0.5568605 (264)\ttotal: 41.3s\tremaining: 1m 37s\n",
      "267:\tlearn: 0.5514230\ttest: 0.5568247\tbest: 0.5568247 (267)\ttotal: 41.9s\tremaining: 1m 37s\n",
      "270:\tlearn: 0.5513109\ttest: 0.5568124\tbest: 0.5568124 (270)\ttotal: 42.4s\tremaining: 1m 37s\n",
      "273:\tlearn: 0.5512465\ttest: 0.5567987\tbest: 0.5567987 (273)\ttotal: 42.9s\tremaining: 1m 37s\n",
      "276:\tlearn: 0.5512059\ttest: 0.5567868\tbest: 0.5567868 (276)\ttotal: 43.4s\tremaining: 1m 36s\n",
      "279:\tlearn: 0.5511367\ttest: 0.5567478\tbest: 0.5567478 (279)\ttotal: 44.1s\tremaining: 1m 36s\n",
      "282:\tlearn: 0.5510293\ttest: 0.5567104\tbest: 0.5567104 (282)\ttotal: 44.6s\tremaining: 1m 36s\n",
      "285:\tlearn: 0.5509893\ttest: 0.5566987\tbest: 0.5566987 (285)\ttotal: 45s\tremaining: 1m 35s\n",
      "288:\tlearn: 0.5508957\ttest: 0.5566085\tbest: 0.5566085 (288)\ttotal: 45.5s\tremaining: 1m 35s\n",
      "291:\tlearn: 0.5508319\ttest: 0.5566153\tbest: 0.5566085 (288)\ttotal: 46.1s\tremaining: 1m 34s\n",
      "294:\tlearn: 0.5507873\ttest: 0.5566141\tbest: 0.5566085 (288)\ttotal: 46.5s\tremaining: 1m 34s\n",
      "297:\tlearn: 0.5507321\ttest: 0.5566046\tbest: 0.5565984 (296)\ttotal: 47s\tremaining: 1m 33s\n",
      "300:\tlearn: 0.5506944\ttest: 0.5565982\tbest: 0.5565971 (299)\ttotal: 47.5s\tremaining: 1m 33s\n",
      "303:\tlearn: 0.5506397\ttest: 0.5565829\tbest: 0.5565818 (302)\ttotal: 47.9s\tremaining: 1m 32s\n",
      "306:\tlearn: 0.5505676\ttest: 0.5565449\tbest: 0.5565449 (306)\ttotal: 48.5s\tremaining: 1m 32s\n",
      "309:\tlearn: 0.5504996\ttest: 0.5565454\tbest: 0.5565449 (306)\ttotal: 49.1s\tremaining: 1m 32s\n",
      "312:\tlearn: 0.5504410\ttest: 0.5565312\tbest: 0.5565312 (312)\ttotal: 49.5s\tremaining: 1m 31s\n",
      "315:\tlearn: 0.5503489\ttest: 0.5565106\tbest: 0.5565000 (314)\ttotal: 50.1s\tremaining: 1m 31s\n",
      "318:\tlearn: 0.5502925\ttest: 0.5565068\tbest: 0.5565000 (314)\ttotal: 50.7s\tremaining: 1m 31s\n",
      "321:\tlearn: 0.5502036\ttest: 0.5565025\tbest: 0.5565000 (314)\ttotal: 51.2s\tremaining: 1m 30s\n",
      "324:\tlearn: 0.5501541\ttest: 0.5564721\tbest: 0.5564721 (324)\ttotal: 51.7s\tremaining: 1m 30s\n",
      "327:\tlearn: 0.5500305\ttest: 0.5563720\tbest: 0.5563720 (327)\ttotal: 52.2s\tremaining: 1m 29s\n",
      "330:\tlearn: 0.5499039\ttest: 0.5563581\tbest: 0.5563561 (328)\ttotal: 52.7s\tremaining: 1m 29s\n",
      "333:\tlearn: 0.5497792\ttest: 0.5562918\tbest: 0.5562918 (333)\ttotal: 53.2s\tremaining: 1m 29s\n",
      "336:\tlearn: 0.5497109\ttest: 0.5562686\tbest: 0.5562675 (335)\ttotal: 53.9s\tremaining: 1m 28s\n",
      "339:\tlearn: 0.5495913\ttest: 0.5562413\tbest: 0.5562413 (339)\ttotal: 54.4s\tremaining: 1m 28s\n",
      "342:\tlearn: 0.5495243\ttest: 0.5562223\tbest: 0.5562223 (342)\ttotal: 55s\tremaining: 1m 28s\n",
      "345:\tlearn: 0.5494181\ttest: 0.5561857\tbest: 0.5561805 (344)\ttotal: 55.6s\tremaining: 1m 27s\n",
      "348:\tlearn: 0.5493357\ttest: 0.5561688\tbest: 0.5561678 (347)\ttotal: 56.1s\tremaining: 1m 27s\n",
      "351:\tlearn: 0.5492463\ttest: 0.5561442\tbest: 0.5561442 (351)\ttotal: 56.6s\tremaining: 1m 27s\n",
      "354:\tlearn: 0.5491434\ttest: 0.5561307\tbest: 0.5561281 (353)\ttotal: 57.1s\tremaining: 1m 26s\n",
      "357:\tlearn: 0.5490585\ttest: 0.5561153\tbest: 0.5561111 (356)\ttotal: 57.7s\tremaining: 1m 26s\n",
      "360:\tlearn: 0.5489245\ttest: 0.5560975\tbest: 0.5560910 (359)\ttotal: 58.3s\tremaining: 1m 25s\n",
      "363:\tlearn: 0.5488615\ttest: 0.5560842\tbest: 0.5560842 (363)\ttotal: 58.8s\tremaining: 1m 25s\n",
      "366:\tlearn: 0.5487958\ttest: 0.5560659\tbest: 0.5560630 (365)\ttotal: 59.3s\tremaining: 1m 25s\n",
      "369:\tlearn: 0.5487673\ttest: 0.5560407\tbest: 0.5560407 (369)\ttotal: 59.8s\tremaining: 1m 24s\n",
      "372:\tlearn: 0.5486764\ttest: 0.5560253\tbest: 0.5560253 (372)\ttotal: 1m\tremaining: 1m 24s\n",
      "375:\tlearn: 0.5485369\ttest: 0.5560085\tbest: 0.5560085 (375)\ttotal: 1m\tremaining: 1m 23s\n",
      "378:\tlearn: 0.5485088\ttest: 0.5560117\tbest: 0.5560085 (375)\ttotal: 1m 1s\tremaining: 1m 23s\n",
      "381:\tlearn: 0.5484479\ttest: 0.5560006\tbest: 0.5560006 (381)\ttotal: 1m 2s\tremaining: 1m 22s\n",
      "384:\tlearn: 0.5483569\ttest: 0.5559704\tbest: 0.5559704 (384)\ttotal: 1m 2s\tremaining: 1m 22s\n",
      "387:\tlearn: 0.5482831\ttest: 0.5559648\tbest: 0.5559645 (385)\ttotal: 1m 3s\tremaining: 1m 22s\n",
      "390:\tlearn: 0.5482061\ttest: 0.5559523\tbest: 0.5559523 (390)\ttotal: 1m 3s\tremaining: 1m 21s\n",
      "393:\tlearn: 0.5480995\ttest: 0.5559272\tbest: 0.5559272 (393)\ttotal: 1m 4s\tremaining: 1m 21s\n",
      "396:\tlearn: 0.5479856\ttest: 0.5559251\tbest: 0.5559239 (395)\ttotal: 1m 4s\tremaining: 1m 20s\n",
      "399:\tlearn: 0.5479360\ttest: 0.5559196\tbest: 0.5559179 (398)\ttotal: 1m 5s\tremaining: 1m 20s\n",
      "402:\tlearn: 0.5478467\ttest: 0.5558833\tbest: 0.5558833 (402)\ttotal: 1m 5s\tremaining: 1m 20s\n",
      "405:\tlearn: 0.5478022\ttest: 0.5558803\tbest: 0.5558788 (404)\ttotal: 1m 6s\tremaining: 1m 19s\n",
      "408:\tlearn: 0.5476535\ttest: 0.5558473\tbest: 0.5558473 (408)\ttotal: 1m 7s\tremaining: 1m 19s\n",
      "411:\tlearn: 0.5475732\ttest: 0.5558370\tbest: 0.5558370 (411)\ttotal: 1m 7s\tremaining: 1m 18s\n",
      "414:\tlearn: 0.5475351\ttest: 0.5558339\tbest: 0.5558320 (413)\ttotal: 1m 8s\tremaining: 1m 18s\n",
      "417:\tlearn: 0.5474627\ttest: 0.5558052\tbest: 0.5558052 (417)\ttotal: 1m 8s\tremaining: 1m 17s\n",
      "420:\tlearn: 0.5474071\ttest: 0.5557949\tbest: 0.5557949 (420)\ttotal: 1m 9s\tremaining: 1m 17s\n",
      "423:\tlearn: 0.5472655\ttest: 0.5557599\tbest: 0.5557599 (423)\ttotal: 1m 9s\tremaining: 1m 17s\n",
      "426:\tlearn: 0.5472199\ttest: 0.5557424\tbest: 0.5557379 (424)\ttotal: 1m 10s\tremaining: 1m 16s\n",
      "429:\tlearn: 0.5471369\ttest: 0.5557479\tbest: 0.5557379 (424)\ttotal: 1m 10s\tremaining: 1m 16s\n",
      "432:\tlearn: 0.5470524\ttest: 0.5557056\tbest: 0.5557056 (432)\ttotal: 1m 11s\tremaining: 1m 15s\n",
      "435:\tlearn: 0.5470282\ttest: 0.5556961\tbest: 0.5556961 (435)\ttotal: 1m 11s\tremaining: 1m 15s\n",
      "438:\tlearn: 0.5469385\ttest: 0.5556889\tbest: 0.5556848 (437)\ttotal: 1m 12s\tremaining: 1m 14s\n",
      "441:\tlearn: 0.5468206\ttest: 0.5556732\tbest: 0.5556673 (440)\ttotal: 1m 12s\tremaining: 1m 14s\n",
      "444:\tlearn: 0.5467475\ttest: 0.5556626\tbest: 0.5556626 (444)\ttotal: 1m 13s\tremaining: 1m 13s\n",
      "447:\tlearn: 0.5467030\ttest: 0.5556553\tbest: 0.5556553 (447)\ttotal: 1m 14s\tremaining: 1m 13s\n",
      "450:\tlearn: 0.5466391\ttest: 0.5556468\tbest: 0.5556468 (450)\ttotal: 1m 14s\tremaining: 1m 13s\n",
      "453:\tlearn: 0.5465767\ttest: 0.5556558\tbest: 0.5556446 (451)\ttotal: 1m 15s\tremaining: 1m 12s\n",
      "456:\tlearn: 0.5464756\ttest: 0.5556317\tbest: 0.5556317 (456)\ttotal: 1m 15s\tremaining: 1m 12s\n",
      "459:\tlearn: 0.5463887\ttest: 0.5556339\tbest: 0.5556304 (457)\ttotal: 1m 16s\tremaining: 1m 11s\n",
      "462:\tlearn: 0.5463398\ttest: 0.5556260\tbest: 0.5556260 (462)\ttotal: 1m 16s\tremaining: 1m 11s\n",
      "465:\tlearn: 0.5462882\ttest: 0.5556260\tbest: 0.5556202 (464)\ttotal: 1m 17s\tremaining: 1m 10s\n",
      "468:\tlearn: 0.5462185\ttest: 0.5556070\tbest: 0.5556037 (467)\ttotal: 1m 17s\tremaining: 1m 10s\n",
      "471:\tlearn: 0.5461600\ttest: 0.5556121\tbest: 0.5556037 (467)\ttotal: 1m 18s\tremaining: 1m 9s\n",
      "474:\tlearn: 0.5461117\ttest: 0.5555953\tbest: 0.5555953 (474)\ttotal: 1m 18s\tremaining: 1m 9s\n",
      "477:\tlearn: 0.5460680\ttest: 0.5555893\tbest: 0.5555893 (477)\ttotal: 1m 19s\tremaining: 1m 8s\n",
      "480:\tlearn: 0.5460299\ttest: 0.5555888\tbest: 0.5555888 (480)\ttotal: 1m 19s\tremaining: 1m 8s\n",
      "483:\tlearn: 0.5459870\ttest: 0.5555780\tbest: 0.5555780 (483)\ttotal: 1m 20s\tremaining: 1m 7s\n",
      "486:\tlearn: 0.5458588\ttest: 0.5555474\tbest: 0.5555474 (486)\ttotal: 1m 20s\tremaining: 1m 7s\n",
      "489:\tlearn: 0.5458070\ttest: 0.5555336\tbest: 0.5555336 (489)\ttotal: 1m 21s\tremaining: 1m 6s\n",
      "492:\tlearn: 0.5457602\ttest: 0.5555325\tbest: 0.5555304 (490)\ttotal: 1m 21s\tremaining: 1m 6s\n",
      "495:\tlearn: 0.5457418\ttest: 0.5555341\tbest: 0.5555304 (490)\ttotal: 1m 22s\tremaining: 1m 6s\n",
      "498:\tlearn: 0.5456857\ttest: 0.5555378\tbest: 0.5555297 (496)\ttotal: 1m 23s\tremaining: 1m 5s\n",
      "501:\tlearn: 0.5456346\ttest: 0.5555237\tbest: 0.5555235 (500)\ttotal: 1m 23s\tremaining: 1m 5s\n",
      "504:\tlearn: 0.5455817\ttest: 0.5555136\tbest: 0.5555136 (504)\ttotal: 1m 24s\tremaining: 1m 4s\n",
      "507:\tlearn: 0.5455083\ttest: 0.5554801\tbest: 0.5554801 (507)\ttotal: 1m 24s\tremaining: 1m 4s\n",
      "510:\tlearn: 0.5454679\ttest: 0.5554753\tbest: 0.5554753 (510)\ttotal: 1m 25s\tremaining: 1m 3s\n",
      "513:\tlearn: 0.5453950\ttest: 0.5554675\tbest: 0.5554675 (513)\ttotal: 1m 25s\tremaining: 1m 3s\n",
      "516:\tlearn: 0.5452807\ttest: 0.5554517\tbest: 0.5554517 (516)\ttotal: 1m 26s\tremaining: 1m 2s\n",
      "519:\tlearn: 0.5452291\ttest: 0.5554539\tbest: 0.5554517 (516)\ttotal: 1m 26s\tremaining: 1m 2s\n",
      "522:\tlearn: 0.5451731\ttest: 0.5554579\tbest: 0.5554458 (520)\ttotal: 1m 27s\tremaining: 1m 1s\n",
      "525:\tlearn: 0.5451343\ttest: 0.5554559\tbest: 0.5554458 (520)\ttotal: 1m 27s\tremaining: 1m 1s\n",
      "528:\tlearn: 0.5450927\ttest: 0.5554773\tbest: 0.5554458 (520)\ttotal: 1m 28s\tremaining: 1m\n",
      "531:\tlearn: 0.5450447\ttest: 0.5554765\tbest: 0.5554458 (520)\ttotal: 1m 28s\tremaining: 1m\n",
      "534:\tlearn: 0.5449655\ttest: 0.5554666\tbest: 0.5554458 (520)\ttotal: 1m 29s\tremaining: 59.8s\n",
      "537:\tlearn: 0.5449148\ttest: 0.5554489\tbest: 0.5554458 (520)\ttotal: 1m 29s\tremaining: 59.3s\n",
      "540:\tlearn: 0.5448755\ttest: 0.5554535\tbest: 0.5554458 (520)\ttotal: 1m 30s\tremaining: 58.9s\n",
      "543:\tlearn: 0.5448247\ttest: 0.5554454\tbest: 0.5554454 (543)\ttotal: 1m 31s\tremaining: 58.4s\n",
      "546:\tlearn: 0.5447799\ttest: 0.5554488\tbest: 0.5554454 (543)\ttotal: 1m 31s\tremaining: 57.9s\n",
      "549:\tlearn: 0.5447407\ttest: 0.5554450\tbest: 0.5554430 (548)\ttotal: 1m 32s\tremaining: 57.4s\n",
      "552:\tlearn: 0.5446928\ttest: 0.5554497\tbest: 0.5554430 (548)\ttotal: 1m 32s\tremaining: 56.9s\n",
      "555:\tlearn: 0.5446230\ttest: 0.5554664\tbest: 0.5554430 (548)\ttotal: 1m 33s\tremaining: 56.4s\n",
      "558:\tlearn: 0.5445973\ttest: 0.5554627\tbest: 0.5554430 (548)\ttotal: 1m 33s\tremaining: 55.9s\n",
      "561:\tlearn: 0.5445165\ttest: 0.5554611\tbest: 0.5554430 (548)\ttotal: 1m 34s\tremaining: 55.5s\n",
      "564:\tlearn: 0.5444875\ttest: 0.5554606\tbest: 0.5554430 (548)\ttotal: 1m 34s\tremaining: 55s\n",
      "567:\tlearn: 0.5444280\ttest: 0.5554577\tbest: 0.5554430 (548)\ttotal: 1m 35s\tremaining: 54.6s\n",
      "570:\tlearn: 0.5443841\ttest: 0.5554480\tbest: 0.5554430 (548)\ttotal: 1m 35s\tremaining: 54.1s\n",
      "573:\tlearn: 0.5443432\ttest: 0.5554422\tbest: 0.5554422 (573)\ttotal: 1m 36s\tremaining: 53.6s\n",
      "576:\tlearn: 0.5443100\ttest: 0.5554348\tbest: 0.5554308 (575)\ttotal: 1m 36s\tremaining: 53.1s\n",
      "579:\tlearn: 0.5442686\ttest: 0.5554280\tbest: 0.5554261 (577)\ttotal: 1m 37s\tremaining: 52.6s\n",
      "582:\tlearn: 0.5442225\ttest: 0.5554103\tbest: 0.5554092 (581)\ttotal: 1m 38s\tremaining: 52.1s\n",
      "585:\tlearn: 0.5441214\ttest: 0.5554035\tbest: 0.5553994 (584)\ttotal: 1m 38s\tremaining: 51.6s\n",
      "588:\tlearn: 0.5440914\ttest: 0.5553988\tbest: 0.5553988 (588)\ttotal: 1m 39s\tremaining: 51.1s\n",
      "591:\tlearn: 0.5440110\ttest: 0.5553892\tbest: 0.5553842 (590)\ttotal: 1m 39s\tremaining: 50.6s\n",
      "594:\tlearn: 0.5439619\ttest: 0.5553861\tbest: 0.5553842 (590)\ttotal: 1m 40s\tremaining: 50.1s\n",
      "597:\tlearn: 0.5439096\ttest: 0.5553841\tbest: 0.5553841 (597)\ttotal: 1m 40s\tremaining: 49.7s\n",
      "600:\tlearn: 0.5438401\ttest: 0.5553943\tbest: 0.5553841 (597)\ttotal: 1m 41s\tremaining: 49.2s\n",
      "603:\tlearn: 0.5437993\ttest: 0.5553916\tbest: 0.5553841 (597)\ttotal: 1m 41s\tremaining: 48.7s\n",
      "606:\tlearn: 0.5437601\ttest: 0.5553978\tbest: 0.5553841 (597)\ttotal: 1m 42s\tremaining: 48.2s\n",
      "609:\tlearn: 0.5437278\ttest: 0.5553985\tbest: 0.5553841 (597)\ttotal: 1m 42s\tremaining: 47.7s\n",
      "612:\tlearn: 0.5436816\ttest: 0.5553884\tbest: 0.5553841 (597)\ttotal: 1m 43s\tremaining: 47.2s\n",
      "615:\tlearn: 0.5436179\ttest: 0.5553734\tbest: 0.5553734 (615)\ttotal: 1m 43s\tremaining: 46.8s\n",
      "618:\tlearn: 0.5435599\ttest: 0.5553585\tbest: 0.5553585 (618)\ttotal: 1m 44s\tremaining: 46.3s\n",
      "621:\tlearn: 0.5435037\ttest: 0.5553611\tbest: 0.5553585 (618)\ttotal: 1m 45s\tremaining: 45.8s\n",
      "624:\tlearn: 0.5434621\ttest: 0.5553662\tbest: 0.5553585 (618)\ttotal: 1m 45s\tremaining: 45.2s\n",
      "627:\tlearn: 0.5434078\ttest: 0.5553678\tbest: 0.5553585 (618)\ttotal: 1m 46s\tremaining: 44.8s\n",
      "630:\tlearn: 0.5433217\ttest: 0.5553560\tbest: 0.5553523 (629)\ttotal: 1m 46s\tremaining: 44.3s\n",
      "633:\tlearn: 0.5432495\ttest: 0.5553441\tbest: 0.5553441 (633)\ttotal: 1m 47s\tremaining: 43.8s\n",
      "636:\tlearn: 0.5431830\ttest: 0.5553491\tbest: 0.5553441 (633)\ttotal: 1m 47s\tremaining: 43.3s\n",
      "639:\tlearn: 0.5431498\ttest: 0.5553523\tbest: 0.5553441 (633)\ttotal: 1m 48s\tremaining: 42.8s\n",
      "642:\tlearn: 0.5431029\ttest: 0.5553444\tbest: 0.5553429 (641)\ttotal: 1m 48s\tremaining: 42.3s\n",
      "645:\tlearn: 0.5430482\ttest: 0.5553316\tbest: 0.5553310 (644)\ttotal: 1m 49s\tremaining: 41.8s\n",
      "648:\tlearn: 0.5430024\ttest: 0.5553310\tbest: 0.5553239 (647)\ttotal: 1m 49s\tremaining: 41.3s\n",
      "651:\tlearn: 0.5429503\ttest: 0.5553214\tbest: 0.5553214 (651)\ttotal: 1m 50s\tremaining: 40.8s\n",
      "654:\tlearn: 0.5429212\ttest: 0.5553131\tbest: 0.5553131 (654)\ttotal: 1m 51s\tremaining: 40.4s\n",
      "657:\tlearn: 0.5428789\ttest: 0.5552949\tbest: 0.5552946 (656)\ttotal: 1m 51s\tremaining: 39.8s\n",
      "660:\tlearn: 0.5428663\ttest: 0.5552893\tbest: 0.5552893 (660)\ttotal: 1m 52s\tremaining: 39.4s\n",
      "663:\tlearn: 0.5427955\ttest: 0.5553032\tbest: 0.5552893 (660)\ttotal: 1m 52s\tremaining: 38.9s\n",
      "666:\tlearn: 0.5427574\ttest: 0.5553017\tbest: 0.5552893 (660)\ttotal: 1m 53s\tremaining: 38.4s\n",
      "669:\tlearn: 0.5427088\ttest: 0.5552924\tbest: 0.5552893 (660)\ttotal: 1m 53s\tremaining: 37.9s\n",
      "672:\tlearn: 0.5426421\ttest: 0.5552817\tbest: 0.5552817 (672)\ttotal: 1m 54s\tremaining: 37.4s\n",
      "675:\tlearn: 0.5426045\ttest: 0.5552781\tbest: 0.5552768 (674)\ttotal: 1m 54s\tremaining: 36.9s\n",
      "678:\tlearn: 0.5425633\ttest: 0.5552730\tbest: 0.5552730 (678)\ttotal: 1m 55s\tremaining: 36.4s\n",
      "681:\tlearn: 0.5425247\ttest: 0.5552770\tbest: 0.5552725 (679)\ttotal: 1m 55s\tremaining: 35.9s\n",
      "684:\tlearn: 0.5424669\ttest: 0.5552776\tbest: 0.5552725 (679)\ttotal: 1m 56s\tremaining: 35.4s\n",
      "687:\tlearn: 0.5424190\ttest: 0.5552771\tbest: 0.5552725 (679)\ttotal: 1m 57s\tremaining: 34.9s\n",
      "690:\tlearn: 0.5423443\ttest: 0.5552747\tbest: 0.5552725 (679)\ttotal: 1m 57s\tremaining: 34.4s\n",
      "693:\tlearn: 0.5423016\ttest: 0.5552832\tbest: 0.5552725 (679)\ttotal: 1m 58s\tremaining: 33.9s\n",
      "696:\tlearn: 0.5422100\ttest: 0.5552777\tbest: 0.5552725 (679)\ttotal: 1m 58s\tremaining: 33.4s\n",
      "699:\tlearn: 0.5421666\ttest: 0.5552802\tbest: 0.5552725 (679)\ttotal: 1m 59s\tremaining: 32.9s\n",
      "702:\tlearn: 0.5421278\ttest: 0.5552830\tbest: 0.5552725 (679)\ttotal: 1m 59s\tremaining: 32.4s\n",
      "705:\tlearn: 0.5420744\ttest: 0.5552675\tbest: 0.5552667 (703)\ttotal: 2m\tremaining: 31.9s\n",
      "708:\tlearn: 0.5420461\ttest: 0.5552720\tbest: 0.5552667 (703)\ttotal: 2m\tremaining: 31.4s\n",
      "711:\tlearn: 0.5419888\ttest: 0.5552749\tbest: 0.5552667 (703)\ttotal: 2m 1s\tremaining: 30.8s\n",
      "714:\tlearn: 0.5419356\ttest: 0.5552433\tbest: 0.5552433 (714)\ttotal: 2m 1s\tremaining: 30.4s\n",
      "717:\tlearn: 0.5419008\ttest: 0.5552420\tbest: 0.5552398 (716)\ttotal: 2m 2s\tremaining: 29.9s\n",
      "720:\tlearn: 0.5418381\ttest: 0.5552296\tbest: 0.5552198 (718)\ttotal: 2m 3s\tremaining: 29.4s\n",
      "723:\tlearn: 0.5418029\ttest: 0.5552291\tbest: 0.5552198 (718)\ttotal: 2m 3s\tremaining: 28.9s\n",
      "726:\tlearn: 0.5417516\ttest: 0.5552312\tbest: 0.5552198 (718)\ttotal: 2m 4s\tremaining: 28.4s\n",
      "729:\tlearn: 0.5417167\ttest: 0.5552254\tbest: 0.5552198 (718)\ttotal: 2m 4s\tremaining: 27.9s\n",
      "732:\tlearn: 0.5416888\ttest: 0.5552233\tbest: 0.5552198 (718)\ttotal: 2m 5s\tremaining: 27.4s\n",
      "735:\tlearn: 0.5416109\ttest: 0.5552246\tbest: 0.5552198 (718)\ttotal: 2m 5s\tremaining: 26.9s\n",
      "738:\tlearn: 0.5415667\ttest: 0.5552232\tbest: 0.5552198 (718)\ttotal: 2m 6s\tremaining: 26.4s\n",
      "741:\tlearn: 0.5415283\ttest: 0.5552089\tbest: 0.5552089 (741)\ttotal: 2m 7s\tremaining: 25.9s\n",
      "744:\tlearn: 0.5414610\ttest: 0.5552154\tbest: 0.5552079 (742)\ttotal: 2m 7s\tremaining: 25.3s\n",
      "747:\tlearn: 0.5414164\ttest: 0.5552056\tbest: 0.5552056 (747)\ttotal: 2m 8s\tremaining: 24.8s\n",
      "750:\tlearn: 0.5413493\ttest: 0.5551855\tbest: 0.5551855 (750)\ttotal: 2m 8s\tremaining: 24.3s\n",
      "753:\tlearn: 0.5412831\ttest: 0.5551816\tbest: 0.5551807 (752)\ttotal: 2m 9s\tremaining: 23.8s\n",
      "756:\tlearn: 0.5412191\ttest: 0.5551858\tbest: 0.5551807 (752)\ttotal: 2m 9s\tremaining: 23.3s\n",
      "759:\tlearn: 0.5411710\ttest: 0.5551967\tbest: 0.5551807 (752)\ttotal: 2m 10s\tremaining: 22.8s\n",
      "762:\tlearn: 0.5411319\ttest: 0.5551893\tbest: 0.5551807 (752)\ttotal: 2m 10s\tremaining: 22.3s\n",
      "765:\tlearn: 0.5410918\ttest: 0.5551881\tbest: 0.5551807 (752)\ttotal: 2m 11s\tremaining: 21.8s\n",
      "768:\tlearn: 0.5410289\ttest: 0.5551981\tbest: 0.5551807 (752)\ttotal: 2m 11s\tremaining: 21.3s\n",
      "771:\tlearn: 0.5409749\ttest: 0.5551957\tbest: 0.5551807 (752)\ttotal: 2m 12s\tremaining: 20.7s\n",
      "774:\tlearn: 0.5409565\ttest: 0.5552004\tbest: 0.5551807 (752)\ttotal: 2m 12s\tremaining: 20.2s\n",
      "777:\tlearn: 0.5409245\ttest: 0.5552116\tbest: 0.5551807 (752)\ttotal: 2m 13s\tremaining: 19.7s\n",
      "780:\tlearn: 0.5408418\ttest: 0.5552133\tbest: 0.5551807 (752)\ttotal: 2m 13s\tremaining: 19.2s\n",
      "783:\tlearn: 0.5408283\ttest: 0.5552147\tbest: 0.5551807 (752)\ttotal: 2m 14s\tremaining: 18.6s\n",
      "786:\tlearn: 0.5407859\ttest: 0.5552304\tbest: 0.5551807 (752)\ttotal: 2m 14s\tremaining: 18.1s\n",
      "789:\tlearn: 0.5407447\ttest: 0.5552280\tbest: 0.5551807 (752)\ttotal: 2m 15s\tremaining: 17.6s\n",
      "792:\tlearn: 0.5406868\ttest: 0.5552098\tbest: 0.5551807 (752)\ttotal: 2m 15s\tremaining: 17.1s\n",
      "795:\tlearn: 0.5406590\ttest: 0.5552118\tbest: 0.5551807 (752)\ttotal: 2m 16s\tremaining: 16.6s\n",
      "798:\tlearn: 0.5406249\ttest: 0.5552095\tbest: 0.5551807 (752)\ttotal: 2m 16s\tremaining: 16.1s\n",
      "801:\tlearn: 0.5405467\ttest: 0.5552157\tbest: 0.5551807 (752)\ttotal: 2m 17s\tremaining: 15.6s\n",
      "804:\tlearn: 0.5405060\ttest: 0.5552140\tbest: 0.5551807 (752)\ttotal: 2m 17s\tremaining: 15.1s\n",
      "807:\tlearn: 0.5404824\ttest: 0.5552182\tbest: 0.5551807 (752)\ttotal: 2m 18s\tremaining: 14.6s\n",
      "810:\tlearn: 0.5404499\ttest: 0.5552186\tbest: 0.5551807 (752)\ttotal: 2m 18s\tremaining: 14s\n",
      "813:\tlearn: 0.5403841\ttest: 0.5552072\tbest: 0.5551807 (752)\ttotal: 2m 19s\tremaining: 13.5s\n",
      "816:\tlearn: 0.5403193\ttest: 0.5551937\tbest: 0.5551807 (752)\ttotal: 2m 19s\tremaining: 13s\n",
      "819:\tlearn: 0.5402831\ttest: 0.5551994\tbest: 0.5551807 (752)\ttotal: 2m 20s\tremaining: 12.5s\n",
      "822:\tlearn: 0.5402352\ttest: 0.5552028\tbest: 0.5551807 (752)\ttotal: 2m 20s\tremaining: 12s\n",
      "825:\tlearn: 0.5401818\ttest: 0.5551895\tbest: 0.5551807 (752)\ttotal: 2m 20s\tremaining: 11.4s\n",
      "828:\tlearn: 0.5401473\ttest: 0.5551881\tbest: 0.5551807 (752)\ttotal: 2m 21s\tremaining: 10.9s\n",
      "831:\tlearn: 0.5401169\ttest: 0.5551818\tbest: 0.5551807 (752)\ttotal: 2m 21s\tremaining: 10.4s\n",
      "834:\tlearn: 0.5400571\ttest: 0.5551968\tbest: 0.5551807 (752)\ttotal: 2m 22s\tremaining: 9.88s\n",
      "837:\tlearn: 0.5400256\ttest: 0.5551963\tbest: 0.5551807 (752)\ttotal: 2m 22s\tremaining: 9.36s\n",
      "840:\tlearn: 0.5399927\ttest: 0.5552001\tbest: 0.5551807 (752)\ttotal: 2m 23s\tremaining: 8.85s\n",
      "843:\tlearn: 0.5399670\ttest: 0.5552026\tbest: 0.5551807 (752)\ttotal: 2m 23s\tremaining: 8.33s\n",
      "846:\tlearn: 0.5399045\ttest: 0.5551941\tbest: 0.5551807 (752)\ttotal: 2m 23s\tremaining: 7.82s\n",
      "849:\tlearn: 0.5398537\ttest: 0.5551948\tbest: 0.5551807 (752)\ttotal: 2m 24s\tremaining: 7.3s\n",
      "852:\tlearn: 0.5397875\ttest: 0.5551841\tbest: 0.5551807 (752)\ttotal: 2m 24s\tremaining: 6.79s\n",
      "Stopped by overfitting detector  (100 iterations wait)\n",
      "\n",
      "bestTest = 0.5551806909\n",
      "bestIteration = 752\n",
      "\n",
      "Shrink model to first 753 iterations.\n",
      "Wall time: 2min 25s\n"
     ]
    },
    {
     "data": {
      "text/plain": [
       "0.7597651519792654"
      ]
     },
     "execution_count": 97,
     "metadata": {},
     "output_type": "execute_result"
    }
   ],
   "source": [
    "%%time\n",
    "model = CatBoostClassifier(cat_features=category, \n",
    "                           early_stopping_rounds = 100, \n",
    "                           loss_function= 'Logloss', \n",
    "                           random_state = 42,\n",
    "                           ** best_params                           \n",
    "                          )\n",
    "model.fit(X_train_c, y_train, eval_set=[(X_val_c, y_val)], verbose=3)\n",
    "roc_auc_score(y_val, model.predict_proba(X_val_c)[:, 1])"
   ]
  },
  {
   "cell_type": "markdown",
   "id": "0e3511af",
   "metadata": {},
   "source": [
    "Модель CatBoostClassifier обучается медленее, чем LGBMClassifier, но она показала себя намного лучше предыдущих моделей. Остановим свой выбор на ней и проверим на тестовой выборке."
   ]
  },
  {
   "cell_type": "code",
   "execution_count": 98,
   "id": "c761dbb7",
   "metadata": {},
   "outputs": [
    {
     "name": "stdout",
     "output_type": "stream",
     "text": [
      "Wall time: 125 ms\n"
     ]
    },
    {
     "data": {
      "text/plain": [
       "0.755172876911991"
      ]
     },
     "execution_count": 98,
     "metadata": {},
     "output_type": "execute_result"
    }
   ],
   "source": [
    "%%time\n",
    "roc_auc_score(y_test, model.predict_proba(X_test_c)[:, 1])"
   ]
  },
  {
   "cell_type": "markdown",
   "id": "dfe94209",
   "metadata": {},
   "source": [
    "Неплохой результат."
   ]
  },
  {
   "cell_type": "code",
   "execution_count": 99,
   "id": "da270571",
   "metadata": {},
   "outputs": [
    {
     "name": "stdout",
     "output_type": "stream",
     "text": [
      "0.755172876911991\n",
      "Threshold value is: 0.46031098435493123\n"
     ]
    },
    {
     "data": {
      "image/png": "[encoded data removed]",
      "text/plain": [
       "<Figure size 432x288 with 1 Axes>"
      ]
     },
     "metadata": {
      "needs_background": "light"
     },
     "output_type": "display_data"
    }
   ],
   "source": [
    "def plot_roc_curve(fpr, tpr):\n",
    "    plt.plot(fpr, tpr, color='orange', label='ROC')\n",
    "    plt.plot([0, 1], [0, 1], color='darkblue', linestyle='--')\n",
    "    plt.xlabel('False Positive Rate')\n",
    "    plt.ylabel('True Positive Rate')\n",
    "    plt.title('Receiver Operating Characteristic (ROC) Curve')\n",
    "    plt.legend()\n",
    "    plt.show()\n",
    "\n",
    "fpr, tpr, thresholds = roc_curve(y_test, model.predict_proba(X_test_c)[:, 1])\n",
    "print(roc_auc_score(y_test, model.predict_proba(X_test_c)[:, 1]))\n",
    "optimal_idx = np.argmax(tpr - fpr)\n",
    "optimal_threshold = thresholds[optimal_idx]\n",
    "print(\"Threshold value is:\", optimal_threshold)\n",
    "plot_roc_curve(fpr, tpr)"
   ]
  },
  {
   "cell_type": "code",
   "execution_count": 100,
   "id": "9f9b1343",
   "metadata": {},
   "outputs": [
    {
     "name": "stdout",
     "output_type": "stream",
     "text": [
      "Confusion matrix\n",
      "\n",
      " [[9219 1632]\n",
      " [3989 4801]]\n",
      "\n",
      "True Positives(TP) =  9219\n",
      "\n",
      "True Negatives(TN) =  4801\n",
      "\n",
      "False Positives(FP) =  1632\n",
      "\n",
      "False Negatives(FN) =  3989\n"
     ]
    }
   ],
   "source": [
    "cm = confusion_matrix(y_test, model.predict_proba(X_test_c)[:, 1]>=optimal_threshold)\n",
    "print('Confusion matrix\\n\\n', cm)\n",
    "print('\\nTrue Positives(TP) = ', cm[0,0])\n",
    "print('\\nTrue Negatives(TN) = ', cm[1,1])\n",
    "print('\\nFalse Positives(FP) = ', cm[0,1])\n",
    "print('\\nFalse Negatives(FN) = ', cm[1,0])"
   ]
  },
  {
   "cell_type": "code",
   "execution_count": 101,
   "id": "69d22507",
   "metadata": {},
   "outputs": [
    {
     "data": {
      "image/png": "[encoded data removed]",
      "text/plain": [
       "<Figure size 432x288 with 2 Axes>"
      ]
     },
     "metadata": {
      "needs_background": "light"
     },
     "output_type": "display_data"
    }
   ],
   "source": [
    "from sklearn.metrics import ConfusionMatrixDisplay\n",
    "disp = ConfusionMatrixDisplay(confusion_matrix=cm, display_labels=model.classes_)\n",
    "disp.plot()\n",
    "plt.show()"
   ]
  },
  {
   "cell_type": "markdown",
   "id": "6a03716d",
   "metadata": {},
   "source": [
    "Модель достаточно хорошо предсказывает как Positive, так и Negative. Ошибки есть, они смещены в сторону излишненго прогноза Negative."
   ]
  },
  {
   "cell_type": "code",
   "execution_count": 102,
   "id": "6bd73afc",
   "metadata": {},
   "outputs": [
    {
     "name": "stdout",
     "output_type": "stream",
     "text": [
      "Recall 0.546188850967008\n",
      "Precision 0.7463080988652262\n"
     ]
    },
    {
     "data": {
      "image/png": "[encoded data removed]",
      "text/plain": [
       "<Figure size 432x288 with 1 Axes>"
      ]
     },
     "metadata": {
      "needs_background": "light"
     },
     "output_type": "display_data"
    }
   ],
   "source": [
    "print('Recall', recall_score(y_test, model.predict_proba(X_test_c)[:, 1]>=optimal_threshold))\n",
    "print('Precision', precision_score(y_test, model.predict_proba(X_test_c)[:, 1]>=optimal_threshold))\n",
    "\n",
    "precision, recall, _ = precision_recall_curve(y_test, model.predict_proba(X_test_c)[:, 1])\n",
    "\n",
    "disp = PrecisionRecallDisplay(precision=precision, recall=recall)\n",
    "disp.plot()\n",
    "plt.scatter(recall_score(y_test, model.predict_proba(X_test_c)[:, 1]>=optimal_threshold), \n",
    "            precision_score(y_test, model.predict_proba(X_test_c)[:, 1]>=optimal_threshold))\n",
    "plt.title(\"precision_recall_curve\")\n",
    "plt.show()"
   ]
  },
  {
   "cell_type": "markdown",
   "id": "fbffb086",
   "metadata": {},
   "source": [
    "## Анализ важности факторов ДТП <a id=\"8\"></a>"
   ]
  },
  {
   "cell_type": "code",
   "execution_count": 103,
   "id": "58f0cbe9",
   "metadata": {},
   "outputs": [
    {
     "data": {
      "image/png": "[encoded data removed]",
      "text/plain": [
       "<Figure size 432x288 with 1 Axes>"
      ]
     },
     "metadata": {
      "needs_background": "light"
     },
     "output_type": "display_data"
    }
   ],
   "source": [
    "plt.bar(X.columns, model.feature_importances_)\n",
    "plt.xticks(rotation = 90) \n",
    "plt.title('Feature importances')\n",
    "plt.show()"
   ]
  },
  {
   "cell_type": "code",
   "execution_count": 104,
   "id": "209cbec6",
   "metadata": {},
   "outputs": [
    {
     "data": {
      "text/plain": [
       "[(0.11389473737743429, 'cellphone_in_use'),\n",
       " (0.3045974254349513, 'road_condition_1'),\n",
       " (1.168586280419138, 'control_device'),\n",
       " (1.2641156528801791, 'weather_1'),\n",
       " (1.7260498252775323, 'road_surface'),\n",
       " (2.2259961595546645, 'collision_date'),\n",
       " (2.313908424332371, 'location_type'),\n",
       " (3.004514099337789, 'direction'),\n",
       " (3.0512678802364794, 'vehicle_type'),\n",
       " (3.095513801929427, 'lighting'),\n",
       " (4.106011234431226, 'collision_time'),\n",
       " (4.720083798502882, 'party_drug_physical'),\n",
       " (5.55365088560665, 'vehicle_age'),\n",
       " (12.301559882602223, 'insurance_premium'),\n",
       " (14.398105256858756, 'party_sobriety'),\n",
       " (40.652144655218336, 'motor_vehicle_involved_with')]"
      ]
     },
     "execution_count": 104,
     "metadata": {},
     "output_type": "execute_result"
    }
   ],
   "source": [
    "sorted(list(zip(model.feature_importances_, X.columns)))"
   ]
  },
  {
   "cell_type": "markdown",
   "id": "0c2afc95",
   "metadata": {},
   "source": [
    "Можно увидеть, что модель определила как самые важные 'insurance_premium', 'party_sobriety', 'party_count', 'collision_time'. Рассмотрим подробнее 'party_sobriety'"
   ]
  },
  {
   "cell_type": "code",
   "execution_count": 105,
   "id": "3e8bd21d",
   "metadata": {},
   "outputs": [
    {
     "data": {
      "image/png": "[encoded data removed]",
      "text/plain": [
       "<Figure size 432x288 with 1 Axes>"
      ]
     },
     "metadata": {
      "needs_background": "light"
     },
     "output_type": "display_data"
    },
    {
     "data": {
      "image/png": "[encoded data removed]",
      "text/plain": [
       "<Figure size 432x288 with 1 Axes>"
      ]
     },
     "metadata": {
      "needs_background": "light"
     },
     "output_type": "display_data"
    },
    {
     "data": {
      "image/png": "[encoded data removed]",
      "text/plain": [
       "<Figure size 432x288 with 1 Axes>"
      ]
     },
     "metadata": {
      "needs_background": "light"
     },
     "output_type": "display_data"
    },
    {
     "data": {
      "image/png": "[encoded data removed]",
      "text/plain": [
       "<Figure size 432x288 with 1 Axes>"
      ]
     },
     "metadata": {
      "needs_background": "light"
     },
     "output_type": "display_data"
    },
    {
     "data": {
      "image/png": "[encoded data removed]",
      "text/plain": [
       "<Figure size 432x288 with 1 Axes>"
      ]
     },
     "metadata": {
      "needs_background": "light"
     },
     "output_type": "display_data"
    },
    {
     "data": {
      "image/png": "[encoded data removed]",
      "text/plain": [
       "<Figure size 432x288 with 1 Axes>"
      ]
     },
     "metadata": {
      "needs_background": "light"
     },
     "output_type": "display_data"
    }
   ],
   "source": [
    "for item in df['party_sobriety'].unique():\n",
    "    zeros = df.query(\"party_sobriety==@item\")['at_fault'].value_counts()[0]\n",
    "    if len(df.query(\"party_sobriety==@item\")['at_fault'].value_counts())<2:\n",
    "        ones = 0\n",
    "    else:\n",
    "        ones = df.query(\"party_sobriety==@item\")['at_fault'].value_counts()[1]\n",
    "    plt.bar(0, zeros, label ='0')\n",
    "    plt.bar(1, ones, label ='1')\n",
    "    plt.title(item)\n",
    "    plt.legend()\n",
    "    plt.show()"
   ]
  },
  {
   "cell_type": "markdown",
   "id": "d05dc379",
   "metadata": {},
   "source": [
    "Даже визуально можно заметить что при некоторых значениях данного столбца можно с точностью близкой к 100 процентам определить значение таргета. Например при значении \"had been drinking\" - почти сто процентов водителей виновны в ДТП."
   ]
  },
  {
   "cell_type": "markdown",
   "id": "5e7be136",
   "metadata": {},
   "source": [
    "## Выводы <a id=\"9\"></a>"
   ]
  },
  {
   "cell_type": "markdown",
   "id": "9db64070",
   "metadata": {},
   "source": [
    "Если рассматривать таргет, который предложил заказчик, то по нему мы можем предсказать, виновен ли водитель в ДТП. Была построена модель CatBoostClassifier, показавшая себя лучше двух других моделей со значением roc_auc 0.884. Модель определила признаки 'pcf_violation_category', 'insurance_premium', 'collision_time', 'party_count', 'vehicle_age' как самые важные.\n",
    "\n",
    "Что касается главной цели проекта - построение системы оценки риска попасть в ДТП - на основании предоставленных данных это невозможно. Данные отображают только одну категорию - \"Водители, попавшие в ДТП\". Модель можно создать, расширив базу данных. Например, собрать данные об успешных поездках (без дтп), сохраняя все учтенные признаки. Также можно добавить данные о наличии страховки, объектах на дороге (пешеход, животные, парковка), наличие участков со статистически большим количество нарушений (например, сплошная полоса на много километров, которую водители часто пересекают, не имея времени доехать до ее конца)."
   ]
  }
 ],
 "metadata": {
  "ExecuteTimeLog": [
   {
    "duration": 451,
    "start_time": "2023-08-01T16:29:54.266Z"
   },
   {
    "duration": 12824,
    "start_time": "2023-08-01T16:30:52.169Z"
   },
   {
    "duration": 10485,
    "start_time": "2023-08-01T16:31:45.755Z"
   },
   {
    "duration": 14070,
    "start_time": "2023-08-01T16:36:06.217Z"
   },
   {
    "duration": 2940,
    "start_time": "2023-08-01T16:37:47.544Z"
   },
   {
    "duration": 3220,
    "start_time": "2023-08-01T16:38:07.985Z"
   },
   {
    "duration": 1010,
    "start_time": "2023-08-01T17:07:56.337Z"
   },
   {
    "duration": 338,
    "start_time": "2023-08-01T17:09:05.320Z"
   },
   {
    "duration": 925,
    "start_time": "2023-08-01T17:09:54.739Z"
   },
   {
    "duration": 358,
    "start_time": "2023-08-01T17:28:33.243Z"
   },
   {
    "duration": 158,
    "start_time": "2023-08-01T17:28:47.443Z"
   },
   {
    "duration": 11097,
    "start_time": "2023-08-01T18:32:52.505Z"
   },
   {
    "duration": 316,
    "start_time": "2023-08-01T18:35:29.145Z"
   },
   {
    "duration": 280,
    "start_time": "2023-08-01T18:35:35.944Z"
   },
   {
    "duration": 9,
    "start_time": "2023-08-01T18:36:14.769Z"
   },
   {
    "duration": 57,
    "start_time": "2023-08-01T18:36:47.185Z"
   },
   {
    "duration": 203,
    "start_time": "2023-08-01T18:37:18.190Z"
   },
   {
    "duration": 5,
    "start_time": "2023-08-01T18:37:33.136Z"
   },
   {
    "duration": 201,
    "start_time": "2023-08-01T18:38:08.812Z"
   },
   {
    "duration": 5,
    "start_time": "2023-08-01T18:38:28.086Z"
   },
   {
    "duration": 140,
    "start_time": "2023-08-01T20:26:49.665Z"
   },
   {
    "duration": 1470,
    "start_time": "2023-08-01T20:49:10.446Z"
   },
   {
    "duration": 0,
    "start_time": "2023-08-01T20:49:11.938Z"
   },
   {
    "duration": 0,
    "start_time": "2023-08-01T20:49:11.939Z"
   },
   {
    "duration": 0,
    "start_time": "2023-08-01T20:49:11.946Z"
   },
   {
    "duration": 0,
    "start_time": "2023-08-01T20:49:11.947Z"
   },
   {
    "duration": 0,
    "start_time": "2023-08-01T20:49:11.948Z"
   },
   {
    "duration": 0,
    "start_time": "2023-08-01T20:49:11.950Z"
   },
   {
    "duration": 0,
    "start_time": "2023-08-01T20:49:11.951Z"
   },
   {
    "duration": 0,
    "start_time": "2023-08-01T20:49:11.952Z"
   },
   {
    "duration": 1,
    "start_time": "2023-08-01T20:49:11.953Z"
   },
   {
    "duration": 0,
    "start_time": "2023-08-01T20:49:11.955Z"
   },
   {
    "duration": 0,
    "start_time": "2023-08-01T20:49:11.956Z"
   },
   {
    "duration": 0,
    "start_time": "2023-08-01T20:49:11.957Z"
   },
   {
    "duration": 0,
    "start_time": "2023-08-01T20:49:11.959Z"
   },
   {
    "duration": 0,
    "start_time": "2023-08-01T20:49:11.960Z"
   },
   {
    "duration": 0,
    "start_time": "2023-08-01T20:49:11.961Z"
   },
   {
    "duration": 0,
    "start_time": "2023-08-01T20:49:11.962Z"
   },
   {
    "duration": 0,
    "start_time": "2023-08-01T20:49:11.964Z"
   },
   {
    "duration": 0,
    "start_time": "2023-08-01T20:49:11.965Z"
   },
   {
    "duration": 0,
    "start_time": "2023-08-01T20:49:11.966Z"
   },
   {
    "duration": 0,
    "start_time": "2023-08-01T20:49:11.968Z"
   },
   {
    "duration": 0,
    "start_time": "2023-08-01T20:49:11.969Z"
   },
   {
    "duration": 0,
    "start_time": "2023-08-01T20:49:11.971Z"
   },
   {
    "duration": 0,
    "start_time": "2023-08-01T20:49:11.972Z"
   },
   {
    "duration": 0,
    "start_time": "2023-08-01T20:49:11.973Z"
   },
   {
    "duration": 0,
    "start_time": "2023-08-01T20:49:11.975Z"
   },
   {
    "duration": 0,
    "start_time": "2023-08-01T20:49:11.976Z"
   },
   {
    "duration": 0,
    "start_time": "2023-08-01T20:49:11.977Z"
   },
   {
    "duration": 0,
    "start_time": "2023-08-01T20:49:11.979Z"
   },
   {
    "duration": 0,
    "start_time": "2023-08-01T20:49:11.980Z"
   },
   {
    "duration": 0,
    "start_time": "2023-08-01T20:49:11.982Z"
   },
   {
    "duration": 0,
    "start_time": "2023-08-01T20:49:12.020Z"
   },
   {
    "duration": 0,
    "start_time": "2023-08-01T20:49:12.021Z"
   },
   {
    "duration": 0,
    "start_time": "2023-08-01T20:49:12.022Z"
   },
   {
    "duration": 0,
    "start_time": "2023-08-01T20:49:12.022Z"
   },
   {
    "duration": 0,
    "start_time": "2023-08-01T20:49:12.023Z"
   },
   {
    "duration": 0,
    "start_time": "2023-08-01T20:49:12.024Z"
   },
   {
    "duration": 0,
    "start_time": "2023-08-01T20:49:12.025Z"
   },
   {
    "duration": 0,
    "start_time": "2023-08-01T20:49:12.026Z"
   },
   {
    "duration": 0,
    "start_time": "2023-08-01T20:49:12.027Z"
   },
   {
    "duration": 0,
    "start_time": "2023-08-01T20:49:12.027Z"
   },
   {
    "duration": 0,
    "start_time": "2023-08-01T20:49:12.028Z"
   },
   {
    "duration": 0,
    "start_time": "2023-08-01T20:49:12.028Z"
   },
   {
    "duration": 0,
    "start_time": "2023-08-01T20:49:12.029Z"
   },
   {
    "duration": 0,
    "start_time": "2023-08-01T20:49:12.029Z"
   },
   {
    "duration": 0,
    "start_time": "2023-08-01T20:49:12.030Z"
   },
   {
    "duration": 0,
    "start_time": "2023-08-01T20:49:12.030Z"
   },
   {
    "duration": 0,
    "start_time": "2023-08-01T20:49:12.031Z"
   },
   {
    "duration": 0,
    "start_time": "2023-08-01T20:49:12.031Z"
   },
   {
    "duration": 0,
    "start_time": "2023-08-01T20:49:12.031Z"
   },
   {
    "duration": 0,
    "start_time": "2023-08-01T20:49:12.032Z"
   },
   {
    "duration": 0,
    "start_time": "2023-08-01T20:49:12.032Z"
   },
   {
    "duration": 0,
    "start_time": "2023-08-01T20:49:12.034Z"
   },
   {
    "duration": 0,
    "start_time": "2023-08-01T20:49:12.035Z"
   },
   {
    "duration": 0,
    "start_time": "2023-08-01T20:49:12.036Z"
   },
   {
    "duration": 0,
    "start_time": "2023-08-01T20:49:12.037Z"
   },
   {
    "duration": 0,
    "start_time": "2023-08-01T20:49:12.038Z"
   },
   {
    "duration": 0,
    "start_time": "2023-08-01T20:49:12.039Z"
   },
   {
    "duration": 0,
    "start_time": "2023-08-01T20:49:12.040Z"
   },
   {
    "duration": 0,
    "start_time": "2023-08-01T20:49:12.041Z"
   },
   {
    "duration": 1,
    "start_time": "2023-08-01T20:49:12.041Z"
   },
   {
    "duration": 0,
    "start_time": "2023-08-01T20:49:12.042Z"
   },
   {
    "duration": 0,
    "start_time": "2023-08-01T20:49:12.043Z"
   },
   {
    "duration": 0,
    "start_time": "2023-08-01T20:49:12.044Z"
   },
   {
    "duration": 0,
    "start_time": "2023-08-01T20:49:12.045Z"
   },
   {
    "duration": 0,
    "start_time": "2023-08-01T20:49:12.046Z"
   },
   {
    "duration": 0,
    "start_time": "2023-08-01T20:49:12.047Z"
   },
   {
    "duration": 0,
    "start_time": "2023-08-01T20:49:12.047Z"
   },
   {
    "duration": 0,
    "start_time": "2023-08-01T20:49:12.048Z"
   },
   {
    "duration": 0,
    "start_time": "2023-08-01T20:49:12.049Z"
   },
   {
    "duration": 0,
    "start_time": "2023-08-01T20:49:12.050Z"
   },
   {
    "duration": 0,
    "start_time": "2023-08-01T20:49:12.051Z"
   },
   {
    "duration": 0,
    "start_time": "2023-08-01T20:49:12.052Z"
   },
   {
    "duration": 0,
    "start_time": "2023-08-01T20:49:12.053Z"
   },
   {
    "duration": 0,
    "start_time": "2023-08-01T20:49:12.055Z"
   },
   {
    "duration": 0,
    "start_time": "2023-08-01T20:49:12.056Z"
   },
   {
    "duration": 0,
    "start_time": "2023-08-01T20:49:12.057Z"
   },
   {
    "duration": 0,
    "start_time": "2023-08-01T20:49:12.059Z"
   },
   {
    "duration": 0,
    "start_time": "2023-08-01T20:49:12.060Z"
   },
   {
    "duration": 0,
    "start_time": "2023-08-01T20:49:12.061Z"
   },
   {
    "duration": 0,
    "start_time": "2023-08-01T20:49:12.128Z"
   },
   {
    "duration": 1,
    "start_time": "2023-08-01T20:49:12.128Z"
   },
   {
    "duration": 0,
    "start_time": "2023-08-01T20:49:12.129Z"
   },
   {
    "duration": 0,
    "start_time": "2023-08-01T20:49:12.130Z"
   },
   {
    "duration": 0,
    "start_time": "2023-08-01T20:49:12.131Z"
   },
   {
    "duration": 0,
    "start_time": "2023-08-01T20:49:12.131Z"
   },
   {
    "duration": 0,
    "start_time": "2023-08-01T20:49:12.132Z"
   },
   {
    "duration": 0,
    "start_time": "2023-08-01T20:49:12.134Z"
   },
   {
    "duration": 0,
    "start_time": "2023-08-01T20:49:12.136Z"
   },
   {
    "duration": 0,
    "start_time": "2023-08-01T20:49:12.137Z"
   },
   {
    "duration": 0,
    "start_time": "2023-08-01T20:49:12.138Z"
   },
   {
    "duration": 0,
    "start_time": "2023-08-01T20:49:12.139Z"
   },
   {
    "duration": 0,
    "start_time": "2023-08-01T20:49:12.140Z"
   },
   {
    "duration": 0,
    "start_time": "2023-08-01T20:49:12.141Z"
   },
   {
    "duration": 0,
    "start_time": "2023-08-01T20:49:12.141Z"
   },
   {
    "duration": 0,
    "start_time": "2023-08-01T20:49:12.142Z"
   },
   {
    "duration": 0,
    "start_time": "2023-08-01T20:49:12.143Z"
   },
   {
    "duration": 0,
    "start_time": "2023-08-01T20:49:12.144Z"
   },
   {
    "duration": 0,
    "start_time": "2023-08-01T20:49:12.144Z"
   },
   {
    "duration": 8,
    "start_time": "2023-08-01T20:49:57.169Z"
   },
   {
    "duration": 1502,
    "start_time": "2023-08-01T20:49:57.185Z"
   },
   {
    "duration": 0,
    "start_time": "2023-08-01T20:49:58.692Z"
   },
   {
    "duration": 0,
    "start_time": "2023-08-01T20:49:58.692Z"
   },
   {
    "duration": 0,
    "start_time": "2023-08-01T20:49:58.693Z"
   },
   {
    "duration": 0,
    "start_time": "2023-08-01T20:49:58.694Z"
   },
   {
    "duration": 0,
    "start_time": "2023-08-01T20:49:58.695Z"
   },
   {
    "duration": 0,
    "start_time": "2023-08-01T20:49:58.696Z"
   },
   {
    "duration": 0,
    "start_time": "2023-08-01T20:49:58.696Z"
   },
   {
    "duration": 0,
    "start_time": "2023-08-01T20:49:58.697Z"
   },
   {
    "duration": 0,
    "start_time": "2023-08-01T20:49:58.698Z"
   },
   {
    "duration": 0,
    "start_time": "2023-08-01T20:49:58.698Z"
   },
   {
    "duration": 0,
    "start_time": "2023-08-01T20:49:58.699Z"
   },
   {
    "duration": 0,
    "start_time": "2023-08-01T20:49:58.700Z"
   },
   {
    "duration": 0,
    "start_time": "2023-08-01T20:49:58.701Z"
   },
   {
    "duration": 0,
    "start_time": "2023-08-01T20:49:58.701Z"
   },
   {
    "duration": 0,
    "start_time": "2023-08-01T20:49:58.702Z"
   },
   {
    "duration": 0,
    "start_time": "2023-08-01T20:49:58.703Z"
   },
   {
    "duration": 0,
    "start_time": "2023-08-01T20:49:58.703Z"
   },
   {
    "duration": 0,
    "start_time": "2023-08-01T20:49:58.704Z"
   },
   {
    "duration": 0,
    "start_time": "2023-08-01T20:49:58.719Z"
   },
   {
    "duration": 0,
    "start_time": "2023-08-01T20:49:58.720Z"
   },
   {
    "duration": 0,
    "start_time": "2023-08-01T20:49:58.720Z"
   },
   {
    "duration": 0,
    "start_time": "2023-08-01T20:49:58.721Z"
   },
   {
    "duration": 0,
    "start_time": "2023-08-01T20:49:58.722Z"
   },
   {
    "duration": 0,
    "start_time": "2023-08-01T20:49:58.722Z"
   },
   {
    "duration": 0,
    "start_time": "2023-08-01T20:49:58.723Z"
   },
   {
    "duration": 0,
    "start_time": "2023-08-01T20:49:58.723Z"
   },
   {
    "duration": 0,
    "start_time": "2023-08-01T20:49:58.724Z"
   },
   {
    "duration": 0,
    "start_time": "2023-08-01T20:49:58.724Z"
   },
   {
    "duration": 0,
    "start_time": "2023-08-01T20:49:58.725Z"
   },
   {
    "duration": 0,
    "start_time": "2023-08-01T20:49:58.730Z"
   },
   {
    "duration": 0,
    "start_time": "2023-08-01T20:49:58.731Z"
   },
   {
    "duration": 0,
    "start_time": "2023-08-01T20:49:58.735Z"
   },
   {
    "duration": 0,
    "start_time": "2023-08-01T20:49:58.736Z"
   },
   {
    "duration": 0,
    "start_time": "2023-08-01T20:49:58.738Z"
   },
   {
    "duration": 0,
    "start_time": "2023-08-01T20:49:58.739Z"
   },
   {
    "duration": 0,
    "start_time": "2023-08-01T20:49:58.740Z"
   },
   {
    "duration": 0,
    "start_time": "2023-08-01T20:49:58.741Z"
   },
   {
    "duration": 0,
    "start_time": "2023-08-01T20:49:58.742Z"
   },
   {
    "duration": 0,
    "start_time": "2023-08-01T20:49:58.743Z"
   },
   {
    "duration": 0,
    "start_time": "2023-08-01T20:49:58.744Z"
   },
   {
    "duration": 1,
    "start_time": "2023-08-01T20:49:58.744Z"
   },
   {
    "duration": 0,
    "start_time": "2023-08-01T20:49:58.745Z"
   },
   {
    "duration": 0,
    "start_time": "2023-08-01T20:49:58.746Z"
   },
   {
    "duration": 0,
    "start_time": "2023-08-01T20:49:58.747Z"
   },
   {
    "duration": 0,
    "start_time": "2023-08-01T20:49:58.747Z"
   },
   {
    "duration": 0,
    "start_time": "2023-08-01T20:49:58.748Z"
   },
   {
    "duration": 0,
    "start_time": "2023-08-01T20:49:58.749Z"
   },
   {
    "duration": 0,
    "start_time": "2023-08-01T20:49:58.750Z"
   },
   {
    "duration": 0,
    "start_time": "2023-08-01T20:49:58.750Z"
   },
   {
    "duration": 0,
    "start_time": "2023-08-01T20:49:58.751Z"
   },
   {
    "duration": 0,
    "start_time": "2023-08-01T20:49:58.752Z"
   },
   {
    "duration": 0,
    "start_time": "2023-08-01T20:49:58.753Z"
   },
   {
    "duration": 0,
    "start_time": "2023-08-01T20:49:58.754Z"
   },
   {
    "duration": 0,
    "start_time": "2023-08-01T20:49:58.755Z"
   },
   {
    "duration": 0,
    "start_time": "2023-08-01T20:49:58.755Z"
   },
   {
    "duration": 0,
    "start_time": "2023-08-01T20:49:58.756Z"
   },
   {
    "duration": 0,
    "start_time": "2023-08-01T20:49:58.757Z"
   },
   {
    "duration": 1,
    "start_time": "2023-08-01T20:49:58.757Z"
   },
   {
    "duration": 0,
    "start_time": "2023-08-01T20:49:58.758Z"
   },
   {
    "duration": 0,
    "start_time": "2023-08-01T20:49:58.759Z"
   },
   {
    "duration": 0,
    "start_time": "2023-08-01T20:49:58.760Z"
   },
   {
    "duration": 0,
    "start_time": "2023-08-01T20:49:58.760Z"
   },
   {
    "duration": 0,
    "start_time": "2023-08-01T20:49:58.761Z"
   },
   {
    "duration": 0,
    "start_time": "2023-08-01T20:49:58.762Z"
   },
   {
    "duration": 0,
    "start_time": "2023-08-01T20:49:58.827Z"
   },
   {
    "duration": 0,
    "start_time": "2023-08-01T20:49:58.828Z"
   },
   {
    "duration": 0,
    "start_time": "2023-08-01T20:49:58.828Z"
   },
   {
    "duration": 0,
    "start_time": "2023-08-01T20:49:58.829Z"
   },
   {
    "duration": 0,
    "start_time": "2023-08-01T20:49:58.830Z"
   },
   {
    "duration": 0,
    "start_time": "2023-08-01T20:49:58.831Z"
   },
   {
    "duration": 0,
    "start_time": "2023-08-01T20:49:58.832Z"
   },
   {
    "duration": 0,
    "start_time": "2023-08-01T20:49:58.832Z"
   },
   {
    "duration": 0,
    "start_time": "2023-08-01T20:49:58.833Z"
   },
   {
    "duration": 0,
    "start_time": "2023-08-01T20:49:58.835Z"
   },
   {
    "duration": 0,
    "start_time": "2023-08-01T20:49:58.836Z"
   },
   {
    "duration": 0,
    "start_time": "2023-08-01T20:49:58.837Z"
   },
   {
    "duration": 0,
    "start_time": "2023-08-01T20:49:58.838Z"
   },
   {
    "duration": 0,
    "start_time": "2023-08-01T20:49:58.839Z"
   },
   {
    "duration": 0,
    "start_time": "2023-08-01T20:49:58.840Z"
   },
   {
    "duration": 0,
    "start_time": "2023-08-01T20:49:58.841Z"
   },
   {
    "duration": 0,
    "start_time": "2023-08-01T20:49:58.842Z"
   },
   {
    "duration": 0,
    "start_time": "2023-08-01T20:49:58.843Z"
   },
   {
    "duration": 0,
    "start_time": "2023-08-01T20:49:58.843Z"
   },
   {
    "duration": 0,
    "start_time": "2023-08-01T20:49:58.844Z"
   },
   {
    "duration": 0,
    "start_time": "2023-08-01T20:49:58.845Z"
   },
   {
    "duration": 0,
    "start_time": "2023-08-01T20:49:58.846Z"
   },
   {
    "duration": 0,
    "start_time": "2023-08-01T20:49:58.846Z"
   },
   {
    "duration": 0,
    "start_time": "2023-08-01T20:49:58.847Z"
   },
   {
    "duration": 0,
    "start_time": "2023-08-01T20:49:58.848Z"
   },
   {
    "duration": 0,
    "start_time": "2023-08-01T20:49:58.849Z"
   },
   {
    "duration": 0,
    "start_time": "2023-08-01T20:49:58.850Z"
   },
   {
    "duration": 0,
    "start_time": "2023-08-01T20:49:58.851Z"
   },
   {
    "duration": 0,
    "start_time": "2023-08-01T20:49:58.851Z"
   },
   {
    "duration": 0,
    "start_time": "2023-08-01T20:49:58.852Z"
   },
   {
    "duration": 0,
    "start_time": "2023-08-01T20:49:58.853Z"
   },
   {
    "duration": 0,
    "start_time": "2023-08-01T20:49:58.854Z"
   },
   {
    "duration": 0,
    "start_time": "2023-08-01T20:49:58.855Z"
   },
   {
    "duration": 0,
    "start_time": "2023-08-01T20:49:58.856Z"
   },
   {
    "duration": 3977,
    "start_time": "2023-08-01T20:50:15.259Z"
   },
   {
    "duration": 2096,
    "start_time": "2023-08-01T20:50:26.698Z"
   },
   {
    "duration": 1556,
    "start_time": "2023-08-01T20:50:28.796Z"
   },
   {
    "duration": 9049,
    "start_time": "2023-08-01T20:50:30.354Z"
   },
   {
    "duration": 15426,
    "start_time": "2023-08-01T20:50:39.405Z"
   },
   {
    "duration": 10698,
    "start_time": "2023-08-01T20:50:54.832Z"
   },
   {
    "duration": 3121,
    "start_time": "2023-08-01T20:51:05.532Z"
   },
   {
    "duration": 3530,
    "start_time": "2023-08-01T20:51:08.654Z"
   },
   {
    "duration": 325,
    "start_time": "2023-08-01T20:51:12.185Z"
   },
   {
    "duration": 952,
    "start_time": "2023-08-01T20:51:12.511Z"
   },
   {
    "duration": 367,
    "start_time": "2023-08-01T20:51:13.466Z"
   },
   {
    "duration": 158,
    "start_time": "2023-08-01T20:51:13.836Z"
   },
   {
    "duration": 11065,
    "start_time": "2023-08-01T20:51:13.996Z"
   },
   {
    "duration": 349,
    "start_time": "2023-08-01T20:51:25.062Z"
   },
   {
    "duration": 346,
    "start_time": "2023-08-01T20:51:25.413Z"
   },
   {
    "duration": 8,
    "start_time": "2023-08-01T20:51:25.761Z"
   },
   {
    "duration": 92,
    "start_time": "2023-08-01T20:51:25.770Z"
   },
   {
    "duration": 42,
    "start_time": "2023-08-01T20:51:25.864Z"
   },
   {
    "duration": 238,
    "start_time": "2023-08-01T20:51:25.908Z"
   },
   {
    "duration": 4,
    "start_time": "2023-08-01T20:51:26.148Z"
   },
   {
    "duration": 233,
    "start_time": "2023-08-01T20:51:26.154Z"
   },
   {
    "duration": 3,
    "start_time": "2023-08-01T20:51:26.389Z"
   },
   {
    "duration": 141,
    "start_time": "2023-08-01T20:51:26.394Z"
   },
   {
    "duration": 4,
    "start_time": "2023-08-01T20:51:26.536Z"
   },
   {
    "duration": 67,
    "start_time": "2023-08-01T20:51:26.541Z"
   },
   {
    "duration": 107,
    "start_time": "2023-08-01T20:51:26.610Z"
   },
   {
    "duration": 214,
    "start_time": "2023-08-01T20:51:26.718Z"
   },
   {
    "duration": 42,
    "start_time": "2023-08-01T20:51:26.935Z"
   },
   {
    "duration": 198,
    "start_time": "2023-08-01T20:51:26.981Z"
   },
   {
    "duration": 97,
    "start_time": "2023-08-01T20:51:27.180Z"
   },
   {
    "duration": 58,
    "start_time": "2023-08-01T20:51:27.279Z"
   },
   {
    "duration": 177,
    "start_time": "2023-08-01T20:51:27.339Z"
   },
   {
    "duration": 83,
    "start_time": "2023-08-01T20:51:27.518Z"
   },
   {
    "duration": 53,
    "start_time": "2023-08-01T20:51:27.602Z"
   },
   {
    "duration": 186,
    "start_time": "2023-08-01T20:51:27.656Z"
   },
   {
    "duration": 84,
    "start_time": "2023-08-01T20:51:27.843Z"
   },
   {
    "duration": 32,
    "start_time": "2023-08-01T20:51:27.928Z"
   },
   {
    "duration": 50,
    "start_time": "2023-08-01T20:51:27.961Z"
   },
   {
    "duration": 214,
    "start_time": "2023-08-01T20:51:28.034Z"
   },
   {
    "duration": 181,
    "start_time": "2023-08-01T20:51:28.250Z"
   },
   {
    "duration": 26,
    "start_time": "2023-08-01T20:51:28.432Z"
   },
   {
    "duration": 47,
    "start_time": "2023-08-01T20:51:28.460Z"
   },
   {
    "duration": 280,
    "start_time": "2023-08-01T20:51:28.509Z"
   },
   {
    "duration": 5,
    "start_time": "2023-08-01T20:51:28.791Z"
   },
   {
    "duration": 46,
    "start_time": "2023-08-01T20:51:28.797Z"
   },
   {
    "duration": 47,
    "start_time": "2023-08-01T20:51:28.844Z"
   },
   {
    "duration": 43,
    "start_time": "2023-08-01T20:51:28.893Z"
   },
   {
    "duration": 75,
    "start_time": "2023-08-01T20:51:28.937Z"
   },
   {
    "duration": 44,
    "start_time": "2023-08-01T20:51:29.014Z"
   },
   {
    "duration": 173,
    "start_time": "2023-08-01T20:51:29.059Z"
   },
   {
    "duration": 36,
    "start_time": "2023-08-01T20:51:29.234Z"
   },
   {
    "duration": 60,
    "start_time": "2023-08-01T20:51:29.271Z"
   },
   {
    "duration": 78,
    "start_time": "2023-08-01T20:51:29.333Z"
   },
   {
    "duration": 82,
    "start_time": "2023-08-01T20:51:29.413Z"
   },
   {
    "duration": 6,
    "start_time": "2023-08-01T20:51:29.496Z"
   },
   {
    "duration": 77,
    "start_time": "2023-08-01T20:51:29.503Z"
   },
   {
    "duration": 0,
    "start_time": "2023-08-01T20:51:29.582Z"
   },
   {
    "duration": 0,
    "start_time": "2023-08-01T20:51:29.583Z"
   },
   {
    "duration": 0,
    "start_time": "2023-08-01T20:51:29.583Z"
   },
   {
    "duration": 0,
    "start_time": "2023-08-01T20:51:29.584Z"
   },
   {
    "duration": 0,
    "start_time": "2023-08-01T20:51:29.585Z"
   },
   {
    "duration": 0,
    "start_time": "2023-08-01T20:51:29.586Z"
   },
   {
    "duration": 0,
    "start_time": "2023-08-01T20:51:29.587Z"
   },
   {
    "duration": 0,
    "start_time": "2023-08-01T20:51:29.587Z"
   },
   {
    "duration": 0,
    "start_time": "2023-08-01T20:51:29.588Z"
   },
   {
    "duration": 0,
    "start_time": "2023-08-01T20:51:29.589Z"
   },
   {
    "duration": 0,
    "start_time": "2023-08-01T20:51:29.589Z"
   },
   {
    "duration": 0,
    "start_time": "2023-08-01T20:51:29.590Z"
   },
   {
    "duration": 0,
    "start_time": "2023-08-01T20:51:29.591Z"
   },
   {
    "duration": 0,
    "start_time": "2023-08-01T20:51:29.592Z"
   },
   {
    "duration": 0,
    "start_time": "2023-08-01T20:51:29.593Z"
   },
   {
    "duration": 0,
    "start_time": "2023-08-01T20:51:29.594Z"
   },
   {
    "duration": 0,
    "start_time": "2023-08-01T20:51:29.595Z"
   },
   {
    "duration": 0,
    "start_time": "2023-08-01T20:51:29.596Z"
   },
   {
    "duration": 1,
    "start_time": "2023-08-01T20:51:29.596Z"
   },
   {
    "duration": 0,
    "start_time": "2023-08-01T20:51:29.597Z"
   },
   {
    "duration": 0,
    "start_time": "2023-08-01T20:51:29.598Z"
   },
   {
    "duration": 0,
    "start_time": "2023-08-01T20:51:29.599Z"
   },
   {
    "duration": 0,
    "start_time": "2023-08-01T20:51:29.600Z"
   },
   {
    "duration": 0,
    "start_time": "2023-08-01T20:51:29.601Z"
   },
   {
    "duration": 0,
    "start_time": "2023-08-01T20:51:29.602Z"
   },
   {
    "duration": 0,
    "start_time": "2023-08-01T20:51:29.603Z"
   },
   {
    "duration": 0,
    "start_time": "2023-08-01T20:51:29.603Z"
   },
   {
    "duration": 0,
    "start_time": "2023-08-01T20:51:29.604Z"
   },
   {
    "duration": 0,
    "start_time": "2023-08-01T20:51:29.605Z"
   },
   {
    "duration": 0,
    "start_time": "2023-08-01T20:51:29.606Z"
   },
   {
    "duration": 0,
    "start_time": "2023-08-01T20:51:29.607Z"
   },
   {
    "duration": 0,
    "start_time": "2023-08-01T20:51:29.608Z"
   },
   {
    "duration": 0,
    "start_time": "2023-08-01T20:51:29.609Z"
   },
   {
    "duration": 0,
    "start_time": "2023-08-01T20:51:29.610Z"
   },
   {
    "duration": 0,
    "start_time": "2023-08-01T20:51:29.611Z"
   },
   {
    "duration": 0,
    "start_time": "2023-08-01T20:51:29.612Z"
   },
   {
    "duration": 0,
    "start_time": "2023-08-01T20:51:29.613Z"
   },
   {
    "duration": 0,
    "start_time": "2023-08-01T20:51:29.614Z"
   },
   {
    "duration": 0,
    "start_time": "2023-08-01T20:51:29.616Z"
   },
   {
    "duration": 0,
    "start_time": "2023-08-01T20:51:29.617Z"
   },
   {
    "duration": 0,
    "start_time": "2023-08-01T20:51:29.634Z"
   },
   {
    "duration": 0,
    "start_time": "2023-08-01T20:51:29.634Z"
   },
   {
    "duration": 0,
    "start_time": "2023-08-01T20:51:29.639Z"
   },
   {
    "duration": 0,
    "start_time": "2023-08-01T20:51:29.640Z"
   },
   {
    "duration": 0,
    "start_time": "2023-08-01T20:51:29.641Z"
   },
   {
    "duration": 90,
    "start_time": "2023-08-01T20:52:16.411Z"
   },
   {
    "duration": 8,
    "start_time": "2023-08-01T20:52:39.261Z"
   },
   {
    "duration": 9,
    "start_time": "2023-08-01T20:52:40.854Z"
   },
   {
    "duration": 55,
    "start_time": "2023-08-01T20:52:45.680Z"
   },
   {
    "duration": 26,
    "start_time": "2023-08-01T20:52:46.564Z"
   },
   {
    "duration": 88,
    "start_time": "2023-08-01T20:52:47.356Z"
   },
   {
    "duration": 46,
    "start_time": "2023-08-01T20:52:54.160Z"
   },
   {
    "duration": 13,
    "start_time": "2023-08-01T20:52:55.833Z"
   },
   {
    "duration": 115,
    "start_time": "2023-08-01T20:52:58.995Z"
   },
   {
    "duration": 4,
    "start_time": "2023-08-01T20:53:04.244Z"
   },
   {
    "duration": 14,
    "start_time": "2023-08-01T20:53:04.938Z"
   },
   {
    "duration": 12,
    "start_time": "2023-08-01T20:53:05.636Z"
   },
   {
    "duration": 200,
    "start_time": "2023-08-01T20:53:06.266Z"
   },
   {
    "duration": 37,
    "start_time": "2023-08-01T20:53:24.437Z"
   },
   {
    "duration": 16,
    "start_time": "2023-08-01T20:53:25.418Z"
   },
   {
    "duration": 6,
    "start_time": "2023-08-01T20:53:26.482Z"
   },
   {
    "duration": 8,
    "start_time": "2023-08-01T20:53:28.543Z"
   },
   {
    "duration": 45,
    "start_time": "2023-08-01T20:53:29.185Z"
   },
   {
    "duration": 16,
    "start_time": "2023-08-01T20:54:22.622Z"
   },
   {
    "duration": 4,
    "start_time": "2023-08-01T20:54:31.095Z"
   },
   {
    "duration": 41,
    "start_time": "2023-08-01T20:55:25.891Z"
   },
   {
    "duration": 73,
    "start_time": "2023-08-01T20:56:28.735Z"
   },
   {
    "duration": 74,
    "start_time": "2023-08-01T20:56:35.585Z"
   },
   {
    "duration": 68,
    "start_time": "2023-08-01T20:57:06.235Z"
   },
   {
    "duration": 3,
    "start_time": "2023-08-01T20:57:14.768Z"
   },
   {
    "duration": 2208,
    "start_time": "2023-08-01T21:07:33.403Z"
   },
   {
    "duration": 1681,
    "start_time": "2023-08-01T21:07:35.613Z"
   },
   {
    "duration": 9229,
    "start_time": "2023-08-01T21:07:37.295Z"
   },
   {
    "duration": 15384,
    "start_time": "2023-08-01T21:07:46.526Z"
   },
   {
    "duration": 10152,
    "start_time": "2023-08-01T21:08:01.912Z"
   },
   {
    "duration": 3021,
    "start_time": "2023-08-01T21:08:12.066Z"
   },
   {
    "duration": 3614,
    "start_time": "2023-08-01T21:08:15.089Z"
   },
   {
    "duration": 323,
    "start_time": "2023-08-01T21:08:18.705Z"
   },
   {
    "duration": 943,
    "start_time": "2023-08-01T21:08:19.030Z"
   },
   {
    "duration": 363,
    "start_time": "2023-08-01T21:08:19.976Z"
   },
   {
    "duration": 166,
    "start_time": "2023-08-01T21:08:20.340Z"
   },
   {
    "duration": 7403,
    "start_time": "2023-08-01T21:08:20.507Z"
   },
   {
    "duration": 363,
    "start_time": "2023-08-01T21:08:27.911Z"
   },
   {
    "duration": 352,
    "start_time": "2023-08-01T21:08:28.276Z"
   },
   {
    "duration": 14,
    "start_time": "2023-08-01T21:08:28.629Z"
   },
   {
    "duration": 82,
    "start_time": "2023-08-01T21:08:28.645Z"
   },
   {
    "duration": 51,
    "start_time": "2023-08-01T21:08:28.729Z"
   },
   {
    "duration": 250,
    "start_time": "2023-08-01T21:08:28.782Z"
   },
   {
    "duration": 5,
    "start_time": "2023-08-01T21:08:29.033Z"
   },
   {
    "duration": 248,
    "start_time": "2023-08-01T21:08:29.040Z"
   },
   {
    "duration": 4,
    "start_time": "2023-08-01T21:08:29.289Z"
   },
   {
    "duration": 126,
    "start_time": "2023-08-01T21:08:29.294Z"
   },
   {
    "duration": 4,
    "start_time": "2023-08-01T21:08:29.422Z"
   },
   {
    "duration": 60,
    "start_time": "2023-08-01T21:08:29.431Z"
   },
   {
    "duration": 99,
    "start_time": "2023-08-01T21:08:29.492Z"
   },
   {
    "duration": 213,
    "start_time": "2023-08-01T21:08:29.593Z"
   },
   {
    "duration": 47,
    "start_time": "2023-08-01T21:08:29.808Z"
   },
   {
    "duration": 218,
    "start_time": "2023-08-01T21:08:29.859Z"
   },
   {
    "duration": 105,
    "start_time": "2023-08-01T21:08:30.079Z"
   },
   {
    "duration": 57,
    "start_time": "2023-08-01T21:08:30.185Z"
   },
   {
    "duration": 224,
    "start_time": "2023-08-01T21:08:30.244Z"
   },
   {
    "duration": 96,
    "start_time": "2023-08-01T21:08:30.470Z"
   },
   {
    "duration": 55,
    "start_time": "2023-08-01T21:08:30.567Z"
   },
   {
    "duration": 266,
    "start_time": "2023-08-01T21:08:30.623Z"
   },
   {
    "duration": 101,
    "start_time": "2023-08-01T21:08:30.890Z"
   },
   {
    "duration": 45,
    "start_time": "2023-08-01T21:08:30.993Z"
   },
   {
    "duration": 67,
    "start_time": "2023-08-01T21:08:31.040Z"
   },
   {
    "duration": 221,
    "start_time": "2023-08-01T21:08:31.109Z"
   },
   {
    "duration": 157,
    "start_time": "2023-08-01T21:08:31.331Z"
   },
   {
    "duration": 31,
    "start_time": "2023-08-01T21:08:31.490Z"
   },
   {
    "duration": 98,
    "start_time": "2023-08-01T21:08:31.522Z"
   },
   {
    "duration": 261,
    "start_time": "2023-08-01T21:08:31.622Z"
   },
   {
    "duration": 4,
    "start_time": "2023-08-01T21:08:31.884Z"
   },
   {
    "duration": 166,
    "start_time": "2023-08-01T21:08:31.889Z"
   },
   {
    "duration": 61,
    "start_time": "2023-08-01T21:08:32.056Z"
   },
   {
    "duration": 24,
    "start_time": "2023-08-01T21:08:32.118Z"
   },
   {
    "duration": 126,
    "start_time": "2023-08-01T21:08:32.144Z"
   },
   {
    "duration": 51,
    "start_time": "2023-08-01T21:08:32.272Z"
   },
   {
    "duration": 169,
    "start_time": "2023-08-01T21:08:32.324Z"
   },
   {
    "duration": 35,
    "start_time": "2023-08-01T21:08:32.494Z"
   },
   {
    "duration": 69,
    "start_time": "2023-08-01T21:08:32.531Z"
   },
   {
    "duration": 105,
    "start_time": "2023-08-01T21:08:32.601Z"
   },
   {
    "duration": 72,
    "start_time": "2023-08-01T21:08:32.708Z"
   },
   {
    "duration": 6,
    "start_time": "2023-08-01T21:08:32.781Z"
   },
   {
    "duration": 24,
    "start_time": "2023-08-01T21:08:32.789Z"
   },
   {
    "duration": 16,
    "start_time": "2023-08-01T21:08:32.814Z"
   },
   {
    "duration": 61,
    "start_time": "2023-08-01T21:08:32.832Z"
   },
   {
    "duration": 24,
    "start_time": "2023-08-01T21:08:32.894Z"
   },
   {
    "duration": 51,
    "start_time": "2023-08-01T21:08:32.919Z"
   },
   {
    "duration": 13,
    "start_time": "2023-08-01T21:08:32.972Z"
   },
   {
    "duration": 130,
    "start_time": "2023-08-01T21:08:32.986Z"
   },
   {
    "duration": 4,
    "start_time": "2023-08-01T21:08:33.119Z"
   },
   {
    "duration": 30,
    "start_time": "2023-08-01T21:08:33.124Z"
   },
   {
    "duration": 35,
    "start_time": "2023-08-01T21:08:33.156Z"
   },
   {
    "duration": 203,
    "start_time": "2023-08-01T21:08:33.192Z"
   },
   {
    "duration": 47,
    "start_time": "2023-08-01T21:08:33.396Z"
   },
   {
    "duration": 10,
    "start_time": "2023-08-01T21:08:33.444Z"
   },
   {
    "duration": 6,
    "start_time": "2023-08-01T21:08:33.455Z"
   },
   {
    "duration": 26,
    "start_time": "2023-08-01T21:08:33.462Z"
   },
   {
    "duration": 44,
    "start_time": "2023-08-01T21:08:33.489Z"
   },
   {
    "duration": 33,
    "start_time": "2023-08-01T21:08:33.535Z"
   },
   {
    "duration": 75,
    "start_time": "2023-08-01T21:08:33.570Z"
   },
   {
    "duration": 3,
    "start_time": "2023-08-01T21:08:33.646Z"
   },
   {
    "duration": 15,
    "start_time": "2023-08-01T21:08:33.651Z"
   },
   {
    "duration": 637,
    "start_time": "2023-08-01T21:08:33.667Z"
   },
   {
    "duration": 122,
    "start_time": "2023-08-01T21:08:34.305Z"
   },
   {
    "duration": 0,
    "start_time": "2023-08-01T21:08:34.429Z"
   },
   {
    "duration": 0,
    "start_time": "2023-08-01T21:08:34.430Z"
   },
   {
    "duration": 0,
    "start_time": "2023-08-01T21:08:34.431Z"
   },
   {
    "duration": 0,
    "start_time": "2023-08-01T21:08:34.432Z"
   },
   {
    "duration": 0,
    "start_time": "2023-08-01T21:08:34.433Z"
   },
   {
    "duration": 0,
    "start_time": "2023-08-01T21:08:34.434Z"
   },
   {
    "duration": 0,
    "start_time": "2023-08-01T21:08:34.435Z"
   },
   {
    "duration": 0,
    "start_time": "2023-08-01T21:08:34.436Z"
   },
   {
    "duration": 0,
    "start_time": "2023-08-01T21:08:34.437Z"
   },
   {
    "duration": 0,
    "start_time": "2023-08-01T21:08:34.438Z"
   },
   {
    "duration": 0,
    "start_time": "2023-08-01T21:08:34.439Z"
   },
   {
    "duration": 0,
    "start_time": "2023-08-01T21:08:34.440Z"
   },
   {
    "duration": 0,
    "start_time": "2023-08-01T21:08:34.441Z"
   },
   {
    "duration": 0,
    "start_time": "2023-08-01T21:08:34.443Z"
   },
   {
    "duration": 0,
    "start_time": "2023-08-01T21:08:34.444Z"
   },
   {
    "duration": 0,
    "start_time": "2023-08-01T21:08:34.445Z"
   },
   {
    "duration": 0,
    "start_time": "2023-08-01T21:08:34.446Z"
   },
   {
    "duration": 0,
    "start_time": "2023-08-01T21:08:34.447Z"
   },
   {
    "duration": 0,
    "start_time": "2023-08-01T21:08:34.448Z"
   },
   {
    "duration": 0,
    "start_time": "2023-08-01T21:08:34.449Z"
   },
   {
    "duration": 0,
    "start_time": "2023-08-01T21:08:34.450Z"
   },
   {
    "duration": 0,
    "start_time": "2023-08-01T21:08:34.451Z"
   },
   {
    "duration": 0,
    "start_time": "2023-08-01T21:08:34.452Z"
   },
   {
    "duration": 73992,
    "start_time": "2023-08-01T21:09:57.430Z"
   },
   {
    "duration": 15,
    "start_time": "2023-08-01T21:12:10.910Z"
   },
   {
    "duration": 4,
    "start_time": "2023-08-01T21:13:41.379Z"
   },
   {
    "duration": 74427,
    "start_time": "2023-08-01T21:13:49.693Z"
   },
   {
    "duration": 0,
    "start_time": "2023-08-01T21:15:04.122Z"
   },
   {
    "duration": 0,
    "start_time": "2023-08-01T21:15:04.123Z"
   },
   {
    "duration": 74619,
    "start_time": "2023-08-01T21:15:48.801Z"
   },
   {
    "duration": 99,
    "start_time": "2023-08-01T21:17:03.422Z"
   },
   {
    "duration": 4032,
    "start_time": "2023-08-03T16:54:50.519Z"
   },
   {
    "duration": 1860,
    "start_time": "2023-08-03T16:54:54.553Z"
   },
   {
    "duration": 23439,
    "start_time": "2023-08-03T16:54:56.415Z"
   },
   {
    "duration": 7140,
    "start_time": "2023-08-03T16:55:19.857Z"
   },
   {
    "duration": 19476,
    "start_time": "2023-08-03T16:55:26.998Z"
   },
   {
    "duration": 11334,
    "start_time": "2023-08-03T16:55:46.476Z"
   },
   {
    "duration": 3403,
    "start_time": "2023-08-03T16:55:57.812Z"
   },
   {
    "duration": 3811,
    "start_time": "2023-08-03T16:56:01.216Z"
   },
   {
    "duration": 292,
    "start_time": "2023-08-03T16:56:05.029Z"
   },
   {
    "duration": 1024,
    "start_time": "2023-08-03T16:56:05.323Z"
   },
   {
    "duration": 342,
    "start_time": "2023-08-03T16:56:06.348Z"
   },
   {
    "duration": 164,
    "start_time": "2023-08-03T16:56:06.691Z"
   },
   {
    "duration": 9992,
    "start_time": "2023-08-03T16:56:06.856Z"
   },
   {
    "duration": 243,
    "start_time": "2023-08-03T16:56:16.850Z"
   },
   {
    "duration": 4348,
    "start_time": "2023-08-03T16:56:17.095Z"
   },
   {
    "duration": 257,
    "start_time": "2023-08-03T16:56:21.445Z"
   },
   {
    "duration": 277,
    "start_time": "2023-08-03T16:56:21.704Z"
   },
   {
    "duration": 9926,
    "start_time": "2023-08-03T16:56:21.983Z"
   },
   {
    "duration": 3886,
    "start_time": "2023-08-03T16:56:31.910Z"
   },
   {
    "duration": 127,
    "start_time": "2023-08-03T16:56:35.798Z"
   },
   {
    "duration": 0,
    "start_time": "2023-08-03T16:56:35.929Z"
   },
   {
    "duration": 0,
    "start_time": "2023-08-03T16:56:35.930Z"
   },
   {
    "duration": 0,
    "start_time": "2023-08-03T16:56:35.932Z"
   },
   {
    "duration": 0,
    "start_time": "2023-08-03T16:56:35.933Z"
   },
   {
    "duration": 0,
    "start_time": "2023-08-03T16:56:35.934Z"
   },
   {
    "duration": 0,
    "start_time": "2023-08-03T16:56:35.936Z"
   },
   {
    "duration": 0,
    "start_time": "2023-08-03T16:56:35.937Z"
   },
   {
    "duration": 0,
    "start_time": "2023-08-03T16:56:35.938Z"
   },
   {
    "duration": 0,
    "start_time": "2023-08-03T16:56:35.939Z"
   },
   {
    "duration": 0,
    "start_time": "2023-08-03T16:56:35.940Z"
   },
   {
    "duration": 0,
    "start_time": "2023-08-03T16:56:35.941Z"
   },
   {
    "duration": 0,
    "start_time": "2023-08-03T16:56:35.942Z"
   },
   {
    "duration": 0,
    "start_time": "2023-08-03T16:56:35.944Z"
   },
   {
    "duration": 0,
    "start_time": "2023-08-03T16:56:35.974Z"
   },
   {
    "duration": 0,
    "start_time": "2023-08-03T16:56:35.975Z"
   },
   {
    "duration": 0,
    "start_time": "2023-08-03T16:56:35.976Z"
   },
   {
    "duration": 0,
    "start_time": "2023-08-03T16:56:35.977Z"
   },
   {
    "duration": 0,
    "start_time": "2023-08-03T16:56:35.978Z"
   },
   {
    "duration": 0,
    "start_time": "2023-08-03T16:56:35.979Z"
   },
   {
    "duration": 0,
    "start_time": "2023-08-03T16:56:35.980Z"
   },
   {
    "duration": 0,
    "start_time": "2023-08-03T16:56:35.981Z"
   },
   {
    "duration": 0,
    "start_time": "2023-08-03T16:56:35.982Z"
   },
   {
    "duration": 0,
    "start_time": "2023-08-03T16:56:35.983Z"
   },
   {
    "duration": 0,
    "start_time": "2023-08-03T16:56:35.984Z"
   },
   {
    "duration": 0,
    "start_time": "2023-08-03T16:56:35.985Z"
   },
   {
    "duration": 0,
    "start_time": "2023-08-03T16:56:35.985Z"
   },
   {
    "duration": 0,
    "start_time": "2023-08-03T16:56:35.986Z"
   },
   {
    "duration": 0,
    "start_time": "2023-08-03T16:56:35.987Z"
   },
   {
    "duration": 0,
    "start_time": "2023-08-03T16:56:35.988Z"
   },
   {
    "duration": 0,
    "start_time": "2023-08-03T16:56:35.989Z"
   },
   {
    "duration": 0,
    "start_time": "2023-08-03T16:56:35.990Z"
   },
   {
    "duration": 0,
    "start_time": "2023-08-03T16:56:35.991Z"
   },
   {
    "duration": 0,
    "start_time": "2023-08-03T16:56:35.992Z"
   },
   {
    "duration": 0,
    "start_time": "2023-08-03T16:56:35.993Z"
   },
   {
    "duration": 0,
    "start_time": "2023-08-03T16:56:35.993Z"
   },
   {
    "duration": 0,
    "start_time": "2023-08-03T16:56:35.994Z"
   },
   {
    "duration": 0,
    "start_time": "2023-08-03T16:56:35.995Z"
   },
   {
    "duration": 0,
    "start_time": "2023-08-03T16:56:35.996Z"
   },
   {
    "duration": 0,
    "start_time": "2023-08-03T16:56:35.997Z"
   },
   {
    "duration": 0,
    "start_time": "2023-08-03T16:56:35.998Z"
   },
   {
    "duration": 0,
    "start_time": "2023-08-03T16:56:35.999Z"
   },
   {
    "duration": 0,
    "start_time": "2023-08-03T16:56:36.000Z"
   },
   {
    "duration": 0,
    "start_time": "2023-08-03T16:56:36.000Z"
   },
   {
    "duration": 0,
    "start_time": "2023-08-03T16:56:36.001Z"
   },
   {
    "duration": 0,
    "start_time": "2023-08-03T16:56:36.002Z"
   },
   {
    "duration": 0,
    "start_time": "2023-08-03T16:56:36.003Z"
   },
   {
    "duration": 0,
    "start_time": "2023-08-03T16:56:36.004Z"
   },
   {
    "duration": 0,
    "start_time": "2023-08-03T16:56:36.005Z"
   },
   {
    "duration": 0,
    "start_time": "2023-08-03T16:56:36.006Z"
   },
   {
    "duration": 0,
    "start_time": "2023-08-03T16:56:36.007Z"
   },
   {
    "duration": 0,
    "start_time": "2023-08-03T16:56:36.008Z"
   },
   {
    "duration": 1,
    "start_time": "2023-08-03T16:56:36.008Z"
   },
   {
    "duration": 0,
    "start_time": "2023-08-03T16:56:36.010Z"
   },
   {
    "duration": 0,
    "start_time": "2023-08-03T16:56:36.010Z"
   },
   {
    "duration": 0,
    "start_time": "2023-08-03T16:56:36.079Z"
   },
   {
    "duration": 0,
    "start_time": "2023-08-03T16:56:36.081Z"
   },
   {
    "duration": 0,
    "start_time": "2023-08-03T16:56:36.083Z"
   },
   {
    "duration": 0,
    "start_time": "2023-08-03T16:56:36.085Z"
   },
   {
    "duration": 0,
    "start_time": "2023-08-03T16:56:36.086Z"
   },
   {
    "duration": 0,
    "start_time": "2023-08-03T16:56:36.087Z"
   },
   {
    "duration": 0,
    "start_time": "2023-08-03T16:56:36.089Z"
   },
   {
    "duration": 0,
    "start_time": "2023-08-03T16:56:36.090Z"
   },
   {
    "duration": 0,
    "start_time": "2023-08-03T16:56:36.092Z"
   },
   {
    "duration": 0,
    "start_time": "2023-08-03T16:56:36.093Z"
   },
   {
    "duration": 0,
    "start_time": "2023-08-03T16:56:36.096Z"
   },
   {
    "duration": 0,
    "start_time": "2023-08-03T16:56:36.097Z"
   },
   {
    "duration": 0,
    "start_time": "2023-08-03T16:56:36.099Z"
   },
   {
    "duration": 0,
    "start_time": "2023-08-03T16:56:36.100Z"
   },
   {
    "duration": 0,
    "start_time": "2023-08-03T16:56:36.101Z"
   },
   {
    "duration": 0,
    "start_time": "2023-08-03T16:56:36.103Z"
   },
   {
    "duration": 0,
    "start_time": "2023-08-03T16:56:36.104Z"
   },
   {
    "duration": 0,
    "start_time": "2023-08-03T16:56:36.105Z"
   },
   {
    "duration": 0,
    "start_time": "2023-08-03T16:56:36.107Z"
   },
   {
    "duration": 0,
    "start_time": "2023-08-03T16:56:36.108Z"
   },
   {
    "duration": 0,
    "start_time": "2023-08-03T16:56:36.109Z"
   },
   {
    "duration": 0,
    "start_time": "2023-08-03T16:56:36.110Z"
   },
   {
    "duration": 0,
    "start_time": "2023-08-03T16:56:36.111Z"
   },
   {
    "duration": 0,
    "start_time": "2023-08-03T16:56:36.112Z"
   },
   {
    "duration": 0,
    "start_time": "2023-08-03T16:56:36.174Z"
   },
   {
    "duration": 0,
    "start_time": "2023-08-03T16:56:36.176Z"
   },
   {
    "duration": 0,
    "start_time": "2023-08-03T16:56:36.176Z"
   },
   {
    "duration": 0,
    "start_time": "2023-08-03T16:56:36.177Z"
   },
   {
    "duration": 0,
    "start_time": "2023-08-03T16:56:36.179Z"
   },
   {
    "duration": 0,
    "start_time": "2023-08-03T16:56:36.180Z"
   },
   {
    "duration": 0,
    "start_time": "2023-08-03T16:56:36.180Z"
   },
   {
    "duration": 0,
    "start_time": "2023-08-03T16:56:36.181Z"
   },
   {
    "duration": 16543,
    "start_time": "2023-08-03T17:36:33.637Z"
   },
   {
    "duration": 358,
    "start_time": "2023-08-03T17:39:46.940Z"
   },
   {
    "duration": 358,
    "start_time": "2023-08-03T17:42:07.037Z"
   },
   {
    "duration": 7,
    "start_time": "2023-08-03T17:42:10.661Z"
   },
   {
    "duration": 63,
    "start_time": "2023-08-03T17:42:19.441Z"
   },
   {
    "duration": 53,
    "start_time": "2023-08-03T17:42:21.032Z"
   },
   {
    "duration": 276,
    "start_time": "2023-08-03T17:42:25.404Z"
   },
   {
    "duration": 5,
    "start_time": "2023-08-03T17:42:27.041Z"
   },
   {
    "duration": 285,
    "start_time": "2023-08-03T17:42:30.920Z"
   },
   {
    "duration": 5,
    "start_time": "2023-08-03T17:42:36.228Z"
   },
   {
    "duration": 140,
    "start_time": "2023-08-03T17:42:41.736Z"
   },
   {
    "duration": 4,
    "start_time": "2023-08-03T17:42:55.628Z"
   },
   {
    "duration": 56,
    "start_time": "2023-08-03T17:42:56.468Z"
   },
   {
    "duration": 125,
    "start_time": "2023-08-03T17:43:01.544Z"
   },
   {
    "duration": 289,
    "start_time": "2023-08-03T17:43:02.348Z"
   },
   {
    "duration": 51,
    "start_time": "2023-08-03T17:43:06.243Z"
   },
   {
    "duration": 286,
    "start_time": "2023-08-03T17:43:10.062Z"
   },
   {
    "duration": 128,
    "start_time": "2023-08-03T17:43:13.496Z"
   },
   {
    "duration": 53,
    "start_time": "2023-08-03T17:43:14.545Z"
   },
   {
    "duration": 230,
    "start_time": "2023-08-03T17:43:21.800Z"
   },
   {
    "duration": 114,
    "start_time": "2023-08-03T17:43:24.353Z"
   },
   {
    "duration": 50,
    "start_time": "2023-08-03T17:43:24.912Z"
   },
   {
    "duration": 239,
    "start_time": "2023-08-03T17:43:26.757Z"
   },
   {
    "duration": 109,
    "start_time": "2023-08-03T17:43:29.296Z"
   },
   {
    "duration": 38,
    "start_time": "2023-08-03T17:43:30.158Z"
   },
   {
    "duration": 55,
    "start_time": "2023-08-03T17:43:33.469Z"
   },
   {
    "duration": 229,
    "start_time": "2023-08-03T17:43:35.120Z"
   },
   {
    "duration": 246,
    "start_time": "2023-08-03T17:43:37.139Z"
   },
   {
    "duration": 28,
    "start_time": "2023-08-03T17:43:37.543Z"
   },
   {
    "duration": 53,
    "start_time": "2023-08-03T17:43:37.749Z"
   },
   {
    "duration": 363,
    "start_time": "2023-08-03T17:43:40.613Z"
   },
   {
    "duration": 5,
    "start_time": "2023-08-03T17:43:40.978Z"
   },
   {
    "duration": 35,
    "start_time": "2023-08-03T17:43:41.173Z"
   },
   {
    "duration": 60,
    "start_time": "2023-08-03T17:43:44.174Z"
   },
   {
    "duration": 34,
    "start_time": "2023-08-03T17:43:45.304Z"
   },
   {
    "duration": 94,
    "start_time": "2023-08-03T17:43:47.720Z"
   },
   {
    "duration": 56,
    "start_time": "2023-08-03T17:43:48.252Z"
   },
   {
    "duration": 189,
    "start_time": "2023-08-03T17:43:51.761Z"
   },
   {
    "duration": 50,
    "start_time": "2023-08-03T17:43:54.697Z"
   },
   {
    "duration": 69,
    "start_time": "2023-08-03T17:43:54.749Z"
   },
   {
    "duration": 128,
    "start_time": "2023-08-03T17:43:55.024Z"
   },
   {
    "duration": 118,
    "start_time": "2023-08-03T17:43:55.301Z"
   },
   {
    "duration": 7,
    "start_time": "2023-08-03T17:43:55.496Z"
   },
   {
    "duration": 9,
    "start_time": "2023-08-03T17:44:05.520Z"
   },
   {
    "duration": 10,
    "start_time": "2023-08-03T17:44:06.452Z"
   },
   {
    "duration": 58,
    "start_time": "2023-08-03T17:44:09.932Z"
   },
   {
    "duration": 29,
    "start_time": "2023-08-03T17:44:10.072Z"
   },
   {
    "duration": 59,
    "start_time": "2023-08-03T17:44:10.447Z"
   },
   {
    "duration": 14,
    "start_time": "2023-08-03T17:44:13.516Z"
   },
   {
    "duration": 139,
    "start_time": "2023-08-03T17:44:13.645Z"
   },
   {
    "duration": 5,
    "start_time": "2023-08-03T17:44:14.044Z"
   },
   {
    "duration": 17,
    "start_time": "2023-08-03T17:44:17.120Z"
   },
   {
    "duration": 13,
    "start_time": "2023-08-03T17:44:18.632Z"
   },
   {
    "duration": 236,
    "start_time": "2023-08-03T17:44:19.712Z"
   },
   {
    "duration": 47,
    "start_time": "2023-08-03T17:44:23.253Z"
   },
   {
    "duration": 12,
    "start_time": "2023-08-03T17:44:23.628Z"
   },
   {
    "duration": 7,
    "start_time": "2023-08-03T17:44:26.236Z"
   },
   {
    "duration": 8,
    "start_time": "2023-08-03T17:44:26.441Z"
   },
   {
    "duration": 30,
    "start_time": "2023-08-03T17:44:26.604Z"
   },
   {
    "duration": 34,
    "start_time": "2023-08-03T17:44:31.908Z"
   },
   {
    "duration": 65,
    "start_time": "2023-08-03T17:44:32.748Z"
   },
   {
    "duration": 4,
    "start_time": "2023-08-03T17:44:33.640Z"
   },
   {
    "duration": 9,
    "start_time": "2023-08-03T17:46:07.708Z"
   },
   {
    "duration": 5,
    "start_time": "2023-08-03T17:46:09.666Z"
   },
   {
    "duration": 561,
    "start_time": "2023-08-03T17:46:11.133Z"
   },
   {
    "duration": 11380,
    "start_time": "2023-08-03T17:46:19.697Z"
   },
   {
    "duration": 5,
    "start_time": "2023-08-03T17:46:35.366Z"
   },
   {
    "duration": 764551,
    "start_time": "2023-08-03T17:46:37.625Z"
   },
   {
    "duration": 96,
    "start_time": "2023-08-03T17:59:22.178Z"
   },
   {
    "duration": 12699,
    "start_time": "2023-08-03T17:59:22.277Z"
   },
   {
    "duration": 96,
    "start_time": "2023-08-03T17:59:34.979Z"
   },
   {
    "duration": 668124,
    "start_time": "2023-08-03T17:59:35.077Z"
   },
   {
    "duration": 4,
    "start_time": "2023-08-03T18:10:43.203Z"
   },
   {
    "duration": 9287,
    "start_time": "2023-08-03T18:10:43.209Z"
   },
   {
    "duration": 5,
    "start_time": "2023-08-03T18:10:52.497Z"
   },
   {
    "duration": 110,
    "start_time": "2023-08-03T18:13:20.994Z"
   },
   {
    "duration": 2342,
    "start_time": "2023-08-03T18:20:38.615Z"
   },
   {
    "duration": 1891,
    "start_time": "2023-08-03T18:20:40.959Z"
   },
   {
    "duration": 19841,
    "start_time": "2023-08-03T18:20:42.852Z"
   },
   {
    "duration": 16876,
    "start_time": "2023-08-03T18:21:02.695Z"
   },
   {
    "duration": 19946,
    "start_time": "2023-08-03T18:21:19.573Z"
   },
   {
    "duration": 11239,
    "start_time": "2023-08-03T18:21:39.521Z"
   },
   {
    "duration": 3372,
    "start_time": "2023-08-03T18:21:50.762Z"
   },
   {
    "duration": 3886,
    "start_time": "2023-08-03T18:21:54.136Z"
   },
   {
    "duration": 286,
    "start_time": "2023-08-03T18:21:58.023Z"
   },
   {
    "duration": 957,
    "start_time": "2023-08-03T18:21:58.311Z"
   },
   {
    "duration": 338,
    "start_time": "2023-08-03T18:21:59.270Z"
   },
   {
    "duration": 169,
    "start_time": "2023-08-03T18:21:59.609Z"
   },
   {
    "duration": 13080,
    "start_time": "2023-08-03T18:21:59.779Z"
   },
   {
    "duration": 255,
    "start_time": "2023-08-03T18:22:12.862Z"
   },
   {
    "duration": 6543,
    "start_time": "2023-08-03T18:22:13.119Z"
   },
   {
    "duration": 248,
    "start_time": "2023-08-03T18:22:19.664Z"
   },
   {
    "duration": 276,
    "start_time": "2023-08-03T18:22:19.914Z"
   },
   {
    "duration": 7952,
    "start_time": "2023-08-03T18:22:20.193Z"
   },
   {
    "duration": 2147,
    "start_time": "2023-08-03T18:22:28.147Z"
   },
   {
    "duration": 16393,
    "start_time": "2023-08-03T18:22:30.296Z"
   },
   {
    "duration": 386,
    "start_time": "2023-08-03T18:22:46.690Z"
   },
   {
    "duration": 378,
    "start_time": "2023-08-03T18:22:47.078Z"
   },
   {
    "duration": 18,
    "start_time": "2023-08-03T18:22:47.458Z"
   },
   {
    "duration": 65,
    "start_time": "2023-08-03T18:22:47.478Z"
   },
   {
    "duration": 65,
    "start_time": "2023-08-03T18:22:47.545Z"
   },
   {
    "duration": 314,
    "start_time": "2023-08-03T18:22:47.612Z"
   },
   {
    "duration": 5,
    "start_time": "2023-08-03T18:22:47.927Z"
   },
   {
    "duration": 315,
    "start_time": "2023-08-03T18:22:47.933Z"
   },
   {
    "duration": 4,
    "start_time": "2023-08-03T18:22:48.250Z"
   },
   {
    "duration": 164,
    "start_time": "2023-08-03T18:22:48.255Z"
   },
   {
    "duration": 4,
    "start_time": "2023-08-03T18:22:48.421Z"
   },
   {
    "duration": 68,
    "start_time": "2023-08-03T18:22:48.427Z"
   },
   {
    "duration": 132,
    "start_time": "2023-08-03T18:22:48.497Z"
   },
   {
    "duration": 265,
    "start_time": "2023-08-03T18:22:48.631Z"
   },
   {
    "duration": 48,
    "start_time": "2023-08-03T18:22:48.898Z"
   },
   {
    "duration": 299,
    "start_time": "2023-08-03T18:22:48.948Z"
   },
   {
    "duration": 136,
    "start_time": "2023-08-03T18:22:49.249Z"
   },
   {
    "duration": 45,
    "start_time": "2023-08-03T18:22:49.387Z"
   },
   {
    "duration": 295,
    "start_time": "2023-08-03T18:22:49.434Z"
   },
   {
    "duration": 119,
    "start_time": "2023-08-03T18:22:49.731Z"
   },
   {
    "duration": 52,
    "start_time": "2023-08-03T18:22:49.856Z"
   },
   {
    "duration": 244,
    "start_time": "2023-08-03T18:22:49.910Z"
   },
   {
    "duration": 131,
    "start_time": "2023-08-03T18:22:50.156Z"
   },
   {
    "duration": 42,
    "start_time": "2023-08-03T18:22:50.289Z"
   },
   {
    "duration": 74,
    "start_time": "2023-08-03T18:22:50.333Z"
   },
   {
    "duration": 281,
    "start_time": "2023-08-03T18:22:50.409Z"
   },
   {
    "duration": 202,
    "start_time": "2023-08-03T18:22:50.692Z"
   },
   {
    "duration": 26,
    "start_time": "2023-08-03T18:22:50.896Z"
   },
   {
    "duration": 91,
    "start_time": "2023-08-03T18:22:50.924Z"
   },
   {
    "duration": 377,
    "start_time": "2023-08-03T18:22:51.016Z"
   },
   {
    "duration": 6,
    "start_time": "2023-08-03T18:22:51.395Z"
   },
   {
    "duration": 51,
    "start_time": "2023-08-03T18:22:51.402Z"
   },
   {
    "duration": 64,
    "start_time": "2023-08-03T18:22:51.454Z"
   },
   {
    "duration": 27,
    "start_time": "2023-08-03T18:22:51.520Z"
   },
   {
    "duration": 98,
    "start_time": "2023-08-03T18:22:51.549Z"
   },
   {
    "duration": 55,
    "start_time": "2023-08-03T18:22:51.649Z"
   },
   {
    "duration": 164,
    "start_time": "2023-08-03T18:22:51.705Z"
   },
   {
    "duration": 42,
    "start_time": "2023-08-03T18:22:51.871Z"
   },
   {
    "duration": 52,
    "start_time": "2023-08-03T18:22:51.915Z"
   },
   {
    "duration": 104,
    "start_time": "2023-08-03T18:22:51.968Z"
   },
   {
    "duration": 81,
    "start_time": "2023-08-03T18:22:52.074Z"
   },
   {
    "duration": 6,
    "start_time": "2023-08-03T18:22:52.157Z"
   },
   {
    "duration": 16,
    "start_time": "2023-08-03T18:22:52.174Z"
   },
   {
    "duration": 25,
    "start_time": "2023-08-03T18:22:52.191Z"
   },
   {
    "duration": 74,
    "start_time": "2023-08-03T18:22:52.217Z"
   },
   {
    "duration": 27,
    "start_time": "2023-08-03T18:22:52.292Z"
   },
   {
    "duration": 74,
    "start_time": "2023-08-03T18:22:52.321Z"
   },
   {
    "duration": 11,
    "start_time": "2023-08-03T18:22:52.397Z"
   },
   {
    "duration": 160,
    "start_time": "2023-08-03T18:22:52.410Z"
   },
   {
    "duration": 5,
    "start_time": "2023-08-03T18:22:52.572Z"
   },
   {
    "duration": 38,
    "start_time": "2023-08-03T18:22:52.579Z"
   },
   {
    "duration": 13,
    "start_time": "2023-08-03T18:22:52.618Z"
   },
   {
    "duration": 224,
    "start_time": "2023-08-03T18:22:52.633Z"
   },
   {
    "duration": 47,
    "start_time": "2023-08-03T18:22:52.858Z"
   },
   {
    "duration": 10,
    "start_time": "2023-08-03T18:22:52.907Z"
   },
   {
    "duration": 15,
    "start_time": "2023-08-03T18:22:52.919Z"
   },
   {
    "duration": 9,
    "start_time": "2023-08-03T18:22:52.936Z"
   },
   {
    "duration": 38,
    "start_time": "2023-08-03T18:22:52.947Z"
   },
   {
    "duration": 29,
    "start_time": "2023-08-03T18:22:52.986Z"
   },
   {
    "duration": 77,
    "start_time": "2023-08-03T18:22:53.018Z"
   },
   {
    "duration": 3,
    "start_time": "2023-08-03T18:22:53.097Z"
   },
   {
    "duration": 11,
    "start_time": "2023-08-03T18:22:53.102Z"
   },
   {
    "duration": 6,
    "start_time": "2023-08-03T18:22:53.114Z"
   },
   {
    "duration": 520,
    "start_time": "2023-08-03T18:22:53.122Z"
   },
   {
    "duration": 3,
    "start_time": "2023-08-03T18:22:53.644Z"
   },
   {
    "duration": 15,
    "start_time": "2023-08-03T18:22:53.648Z"
   },
   {
    "duration": 6,
    "start_time": "2023-08-03T18:22:53.665Z"
   },
   {
    "duration": 5,
    "start_time": "2023-08-03T18:22:53.672Z"
   },
   {
    "duration": 4,
    "start_time": "2023-08-03T18:22:53.679Z"
   },
   {
    "duration": 8,
    "start_time": "2023-08-03T18:22:53.684Z"
   },
   {
    "duration": 16,
    "start_time": "2023-08-03T18:22:53.693Z"
   },
   {
    "duration": 9,
    "start_time": "2023-08-03T18:22:53.710Z"
   },
   {
    "duration": 8,
    "start_time": "2023-08-03T18:22:53.720Z"
   },
   {
    "duration": 6,
    "start_time": "2023-08-03T18:22:53.729Z"
   }
  ],
  "kernelspec": {
   "display_name": "Python 3 (ipykernel)",
   "language": "python",
   "name": "python3"
  },
  "language_info": {
   "codemirror_mode": {
    "name": "ipython",
    "version": 3
   },
   "file_extension": ".py",
   "mimetype": "text/x-python",
   "name": "python",
   "nbconvert_exporter": "python",
   "pygments_lexer": "ipython3",
   "version": "3.12.4"
  },
  "toc": {
   "base_numbering": 1,
   "nav_menu": {},
   "number_sections": false,
   "sideBar": true,
   "skip_h1_title": false,
   "title_cell": "Table of Contents",
   "title_sidebar": "Contents",
   "toc_cell": false,
   "toc_position": {},
   "toc_section_display": true,
   "toc_window_display": false
  },
  "varInspector": {
   "cols": {
    "lenName": 16,
    "lenType": 16,
    "lenVar": 40
   },
   "kernels_config": {
    "python": {
     "delete_cmd_postfix": "",
     "delete_cmd_prefix": "del ",
     "library": "var_list.py",
     "varRefreshCmd": "print(var_dic_list())"
    },
    "r": {
     "delete_cmd_postfix": ") ",
     "delete_cmd_prefix": "rm(",
     "library": "var_list.r",
     "varRefreshCmd": "cat(var_dic_list()) "
    }
   },
   "types_to_exclude": [
    "module",
    "function",
    "builtin_function_or_method",
    "instance",
    "_Feature"
   ],
   "window_display": false
  }
 },
 "nbformat": 4,
 "nbformat_minor": 5
}
