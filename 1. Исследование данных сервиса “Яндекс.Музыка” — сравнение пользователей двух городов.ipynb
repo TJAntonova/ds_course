{
 "cells": [
  {
   "cell_type": "markdown",
   "metadata": {
    "id": "E0vqbgi9ay0H"
   },
   "source": [
    "# Исследование данных сервиса “Яндекс.Музыка” — сравнение пользователей двух городов"
   ]
  },
  {
   "cell_type": "markdown",
   "metadata": {
    "id": "VUC88oWjTJw2"
   },
   "source": [
    "\n",
    "**Цель исследования** — проверить три гипотезы:\n",
    "1. Активность пользователей зависит от дня недели. Причём в Москве и Петербурге это проявляется по-разному.\n",
    "2. В понедельник утром в Москве преобладают одни жанры, а в Петербурге — другие. Так же и вечером пятницы преобладают разные жанры — в зависимости от города. \n",
    "3. Москва и Петербург предпочитают разные жанры музыки. В Москве чаще слушают поп-музыку, в Петербурге — русский рэп.\n",
    "\n",
    "**Ход исследования**\n",
    "\n",
    " 1. Обзор данных.\n",
    " 2. Предобработка данных.\n",
    " 3. Проверка гипотез.\n",
    "\n"
   ]
  },
  {
   "cell_type": "markdown",
   "metadata": {
    "id": "Ml1hmfXC_Zcs"
   },
   "source": [
    "## Обзор данных \n",
    "\n"
   ]
  },
  {
   "cell_type": "code",
   "execution_count": 5,
   "metadata": {
    "id": "AXN7PHPN_Zcs"
   },
   "outputs": [],
   "source": [
    "import pandas as pd\n",
    "import seaborn as sns# импорт библиотеки pandas"
   ]
  },
  {
   "cell_type": "code",
   "execution_count": 6,
   "metadata": {
    "id": "fFVu7vqh_Zct"
   },
   "outputs": [],
   "source": [
    "df = pd.read_csv('yandex_music_project.csv') # чтение файла с данными и сохранение в df"
   ]
  },
  {
   "cell_type": "code",
   "execution_count": 7,
   "metadata": {
    "id": "oWTVX3gW_Zct"
   },
   "outputs": [
    {
     "data": {
      "text/html": [
       "<div>\n",
       "<style scoped>\n",
       "    .dataframe tbody tr th:only-of-type {\n",
       "        vertical-align: middle;\n",
       "    }\n",
       "\n",
       "    .dataframe tbody tr th {\n",
       "        vertical-align: top;\n",
       "    }\n",
       "\n",
       "    .dataframe thead th {\n",
       "        text-align: right;\n",
       "    }\n",
       "</style>\n",
       "<table border=\"1\" class=\"dataframe\">\n",
       "  <thead>\n",
       "    <tr style=\"text-align: right;\">\n",
       "      <th></th>\n",
       "      <th>userID</th>\n",
       "      <th>Track</th>\n",
       "      <th>artist</th>\n",
       "      <th>genre</th>\n",
       "      <th>City</th>\n",
       "      <th>time</th>\n",
       "      <th>Day</th>\n",
       "    </tr>\n",
       "  </thead>\n",
       "  <tbody>\n",
       "    <tr>\n",
       "      <th>0</th>\n",
       "      <td>FFB692EC</td>\n",
       "      <td>Kamigata To Boots</td>\n",
       "      <td>The Mass Missile</td>\n",
       "      <td>rock</td>\n",
       "      <td>Saint-Petersburg</td>\n",
       "      <td>20:28:33</td>\n",
       "      <td>Wednesday</td>\n",
       "    </tr>\n",
       "    <tr>\n",
       "      <th>1</th>\n",
       "      <td>55204538</td>\n",
       "      <td>Delayed Because of Accident</td>\n",
       "      <td>Andreas Rönnberg</td>\n",
       "      <td>rock</td>\n",
       "      <td>Moscow</td>\n",
       "      <td>14:07:09</td>\n",
       "      <td>Friday</td>\n",
       "    </tr>\n",
       "    <tr>\n",
       "      <th>2</th>\n",
       "      <td>20EC38</td>\n",
       "      <td>Funiculì funiculà</td>\n",
       "      <td>Mario Lanza</td>\n",
       "      <td>pop</td>\n",
       "      <td>Saint-Petersburg</td>\n",
       "      <td>20:58:07</td>\n",
       "      <td>Wednesday</td>\n",
       "    </tr>\n",
       "    <tr>\n",
       "      <th>3</th>\n",
       "      <td>A3DD03C9</td>\n",
       "      <td>Dragons in the Sunset</td>\n",
       "      <td>Fire + Ice</td>\n",
       "      <td>folk</td>\n",
       "      <td>Saint-Petersburg</td>\n",
       "      <td>08:37:09</td>\n",
       "      <td>Monday</td>\n",
       "    </tr>\n",
       "    <tr>\n",
       "      <th>4</th>\n",
       "      <td>E2DC1FAE</td>\n",
       "      <td>Soul People</td>\n",
       "      <td>Space Echo</td>\n",
       "      <td>dance</td>\n",
       "      <td>Moscow</td>\n",
       "      <td>08:34:34</td>\n",
       "      <td>Monday</td>\n",
       "    </tr>\n",
       "    <tr>\n",
       "      <th>5</th>\n",
       "      <td>842029A1</td>\n",
       "      <td>Преданная</td>\n",
       "      <td>IMPERVTOR</td>\n",
       "      <td>rusrap</td>\n",
       "      <td>Saint-Petersburg</td>\n",
       "      <td>13:09:41</td>\n",
       "      <td>Friday</td>\n",
       "    </tr>\n",
       "    <tr>\n",
       "      <th>6</th>\n",
       "      <td>4CB90AA5</td>\n",
       "      <td>True</td>\n",
       "      <td>Roman Messer</td>\n",
       "      <td>dance</td>\n",
       "      <td>Moscow</td>\n",
       "      <td>13:00:07</td>\n",
       "      <td>Wednesday</td>\n",
       "    </tr>\n",
       "    <tr>\n",
       "      <th>7</th>\n",
       "      <td>F03E1C1F</td>\n",
       "      <td>Feeling This Way</td>\n",
       "      <td>Polina Griffith</td>\n",
       "      <td>dance</td>\n",
       "      <td>Moscow</td>\n",
       "      <td>20:47:49</td>\n",
       "      <td>Wednesday</td>\n",
       "    </tr>\n",
       "    <tr>\n",
       "      <th>8</th>\n",
       "      <td>8FA1D3BE</td>\n",
       "      <td>И вновь продолжается бой</td>\n",
       "      <td>NaN</td>\n",
       "      <td>ruspop</td>\n",
       "      <td>Moscow</td>\n",
       "      <td>09:17:40</td>\n",
       "      <td>Friday</td>\n",
       "    </tr>\n",
       "    <tr>\n",
       "      <th>9</th>\n",
       "      <td>E772D5C0</td>\n",
       "      <td>Pessimist</td>\n",
       "      <td>NaN</td>\n",
       "      <td>dance</td>\n",
       "      <td>Saint-Petersburg</td>\n",
       "      <td>21:20:49</td>\n",
       "      <td>Wednesday</td>\n",
       "    </tr>\n",
       "  </tbody>\n",
       "</table>\n",
       "</div>"
      ],
      "text/plain": [
       "     userID                        Track            artist   genre  \\\n",
       "0  FFB692EC            Kamigata To Boots  The Mass Missile    rock   \n",
       "1  55204538  Delayed Because of Accident  Andreas Rönnberg    rock   \n",
       "2    20EC38            Funiculì funiculà       Mario Lanza     pop   \n",
       "3  A3DD03C9        Dragons in the Sunset        Fire + Ice    folk   \n",
       "4  E2DC1FAE                  Soul People        Space Echo   dance   \n",
       "5  842029A1                    Преданная         IMPERVTOR  rusrap   \n",
       "6  4CB90AA5                         True      Roman Messer   dance   \n",
       "7  F03E1C1F             Feeling This Way   Polina Griffith   dance   \n",
       "8  8FA1D3BE     И вновь продолжается бой               NaN  ruspop   \n",
       "9  E772D5C0                    Pessimist               NaN   dance   \n",
       "\n",
       "             City        time        Day  \n",
       "0  Saint-Petersburg  20:28:33  Wednesday  \n",
       "1            Moscow  14:07:09     Friday  \n",
       "2  Saint-Petersburg  20:58:07  Wednesday  \n",
       "3  Saint-Petersburg  08:37:09     Monday  \n",
       "4            Moscow  08:34:34     Monday  \n",
       "5  Saint-Petersburg  13:09:41     Friday  \n",
       "6            Moscow  13:00:07  Wednesday  \n",
       "7            Moscow  20:47:49  Wednesday  \n",
       "8            Moscow  09:17:40     Friday  \n",
       "9  Saint-Petersburg  21:20:49  Wednesday  "
      ]
     },
     "execution_count": 7,
     "metadata": {},
     "output_type": "execute_result"
    }
   ],
   "source": [
    "df.head(10) # получение первых 10 строк таблицы df"
   ]
  },
  {
   "cell_type": "code",
   "execution_count": 8,
   "metadata": {
    "id": "DSf2kIb-_Zct"
   },
   "outputs": [
    {
     "name": "stdout",
     "output_type": "stream",
     "text": [
      "<class 'pandas.core.frame.DataFrame'>\n",
      "RangeIndex: 65079 entries, 0 to 65078\n",
      "Data columns (total 7 columns):\n",
      " #   Column    Non-Null Count  Dtype \n",
      "---  ------    --------------  ----- \n",
      " 0     userID  65079 non-null  object\n",
      " 1   Track     63848 non-null  object\n",
      " 2   artist    57876 non-null  object\n",
      " 3   genre     63881 non-null  object\n",
      " 4     City    65079 non-null  object\n",
      " 5   time      65079 non-null  object\n",
      " 6   Day       65079 non-null  object\n",
      "dtypes: object(7)\n",
      "memory usage: 3.5+ MB\n"
     ]
    }
   ],
   "source": [
    "df.info() # получение общей информации о данных в таблице df"
   ]
  },
  {
   "cell_type": "markdown",
   "metadata": {
    "id": "TaQ2Iwbr_Zct"
   },
   "source": [
    "В таблице семь столбцов. Тип данных во всех столбцах — `object`.\n",
    "\n",
    "В названиях колонок видны три нарушения стиля:\n",
    "1. Строчные буквы сочетаются с прописными.\n",
    "2. Встречаются пробелы.\n",
    "3. Найдите ещё одну проблему в названии колонок и опишите её в этом пункте.\n",
    "\n",
    "\n",
    "\n",
    "Количество значений в столбцах различается. Значит, в данных есть пропущенные значения.\n"
   ]
  },
  {
   "cell_type": "markdown",
   "metadata": {
    "id": "MCB6-dXG_Zct"
   },
   "source": [
    "**Выводы**\n",
    "\n",
    "В каждой строке таблицы — данные о прослушанном треке. Часть колонок описывает саму композицию: название, исполнителя и жанр. Остальные данные рассказывают о пользователе: из какого он города, когда он слушал музыку. \n",
    "\n",
    "Предварительно можно утверждать, что, данных достаточно для проверки гипотез. Но встречаются пропуски в данных, а в названиях колонок — расхождения с хорошим стилем.\n",
    "\n",
    "Чтобы двигаться дальше, нужно устранить проблемы в данных."
   ]
  },
  {
   "cell_type": "markdown",
   "metadata": {
    "id": "SjYF6Ub9_Zct"
   },
   "source": [
    "## Предобработка данных\n"
   ]
  },
  {
   "cell_type": "markdown",
   "metadata": {
    "id": "dIaKXr29_Zct"
   },
   "source": [
    "### Стиль заголовков\n"
   ]
  },
  {
   "cell_type": "code",
   "execution_count": 13,
   "metadata": {
    "id": "oKOTdF_Q_Zct"
   },
   "outputs": [
    {
     "data": {
      "text/plain": [
       "Index(['  userID', 'Track', 'artist', 'genre', '  City  ', 'time', 'Day'], dtype='object')"
      ]
     },
     "execution_count": 13,
     "metadata": {},
     "output_type": "execute_result"
    }
   ],
   "source": [
    "df.columns # перечень названий столбцов таблицы df"
   ]
  },
  {
   "cell_type": "markdown",
   "metadata": {
    "id": "FPZA3ki8xe7T"
   },
   "source": []
  },
  {
   "cell_type": "code",
   "execution_count": 15,
   "metadata": {
    "id": "ISlFqs5y_Zct"
   },
   "outputs": [],
   "source": [
    "df = df.rename(columns = {\n",
    "    '  userID':'user_id', \n",
    "    'Track':'track', \n",
    "    '  City  ':'city', \n",
    "    'Day':'day' }) \n",
    "# переименование столбцов"
   ]
  },
  {
   "cell_type": "code",
   "execution_count": 16,
   "metadata": {},
   "outputs": [],
   "source": [
    "\n",
    "df = df.rename(columns = {\n",
    "    '  userID':'user_id',\n",
    "    'Track':'track',\n",
    "    '  City  ':'city',\n",
    "    'Day':'day'})# переименование столбцов"
   ]
  },
  {
   "cell_type": "code",
   "execution_count": 17,
   "metadata": {
    "id": "d4NOAmTW_Zct"
   },
   "outputs": [
    {
     "data": {
      "text/plain": [
       "Index(['user_id', 'track', 'artist', 'genre', 'city', 'time', 'day'], dtype='object')"
      ]
     },
     "execution_count": 17,
     "metadata": {},
     "output_type": "execute_result"
    }
   ],
   "source": [
    "df.columns # проверка результатов - перечень названий столбцов"
   ]
  },
  {
   "cell_type": "markdown",
   "metadata": {
    "id": "5ISfbcfY_Zct"
   },
   "source": [
    "### Пропуски значений\n"
   ]
  },
  {
   "cell_type": "code",
   "execution_count": 19,
   "metadata": {
    "id": "RskX29qr_Zct"
   },
   "outputs": [
    {
     "data": {
      "text/plain": [
       "user_id       0\n",
       "track      1231\n",
       "artist     7203\n",
       "genre      1198\n",
       "city          0\n",
       "time          0\n",
       "day           0\n",
       "dtype: int64"
      ]
     },
     "execution_count": 19,
     "metadata": {},
     "output_type": "execute_result"
    }
   ],
   "source": [
    "df.isna().sum() # подсчёт пропусков"
   ]
  },
  {
   "cell_type": "code",
   "execution_count": 20,
   "metadata": {
    "id": "KplB5qWs_Zct"
   },
   "outputs": [],
   "source": [
    "columns_to_replace = ['track', 'artist', 'genre']\n",
    "for column in columns_to_replace:\n",
    "    df[column] = df[column].fillna('unknown') \n",
    "# перебор названий столбцов в цикле и замена пропущенных значений на 'unknown'"
   ]
  },
  {
   "cell_type": "code",
   "execution_count": 21,
   "metadata": {
    "id": "Tq4nYRX4_Zct"
   },
   "outputs": [
    {
     "data": {
      "text/plain": [
       "user_id    0\n",
       "track      0\n",
       "artist     0\n",
       "genre      0\n",
       "city       0\n",
       "time       0\n",
       "day        0\n",
       "dtype: int64"
      ]
     },
     "execution_count": 21,
     "metadata": {},
     "output_type": "execute_result"
    }
   ],
   "source": [
    "df.isna().sum() # подсчёт пропусков"
   ]
  },
  {
   "cell_type": "markdown",
   "metadata": {
    "id": "BWKRtBJ3_Zct"
   },
   "source": [
    "### Дубликаты\n"
   ]
  },
  {
   "cell_type": "code",
   "execution_count": 23,
   "metadata": {
    "id": "36eES_S0_Zct"
   },
   "outputs": [
    {
     "data": {
      "text/plain": [
       "3826"
      ]
     },
     "execution_count": 23,
     "metadata": {},
     "output_type": "execute_result"
    }
   ],
   "source": [
    "df.duplicated().sum() # подсчёт явных дубликатов"
   ]
  },
  {
   "cell_type": "code",
   "execution_count": 24,
   "metadata": {
    "id": "exFHq6tt_Zct"
   },
   "outputs": [],
   "source": [
    "df = df.drop_duplicates().reset_index(drop=True) \n",
    "# удаление явных дубликатов (с удалением старых индексов и формированием новых)"
   ]
  },
  {
   "cell_type": "code",
   "execution_count": 25,
   "metadata": {
    "id": "-8PuNWQ0_Zct"
   },
   "outputs": [
    {
     "name": "stdout",
     "output_type": "stream",
     "text": [
      "Кол-во пропусков:0\n"
     ]
    }
   ],
   "source": [
    "print(f\"Кол-во пропусков:{df.duplicated().sum()}\") # проверка на отсутствие дубликатов"
   ]
  },
  {
   "cell_type": "code",
   "execution_count": 26,
   "metadata": {},
   "outputs": [
    {
     "name": "stdout",
     "output_type": "stream",
     "text": [
      "Количество пропусков: 0\n"
     ]
    }
   ],
   "source": [
    "print(\"Количество пропусков: {}\".format(df.duplicated().sum()))"
   ]
  },
  {
   "cell_type": "code",
   "execution_count": 27,
   "metadata": {
    "id": "JIUcqzZN_Zct",
    "scrolled": true
   },
   "outputs": [
    {
     "data": {
      "text/plain": [
       "array(['acid', 'acoustic', 'action', 'adult', 'africa', 'afrikaans',\n",
       "       'alternative', 'alternativepunk', 'ambient', 'americana',\n",
       "       'animated', 'anime', 'arabesk', 'arabic', 'arena',\n",
       "       'argentinetango', 'art', 'audiobook', 'author', 'avantgarde',\n",
       "       'axé', 'baile', 'balkan', 'beats', 'bigroom', 'black', 'bluegrass',\n",
       "       'blues', 'bollywood', 'bossa', 'brazilian', 'breakbeat', 'breaks',\n",
       "       'broadway', 'cantautori', 'cantopop', 'canzone', 'caribbean',\n",
       "       'caucasian', 'celtic', 'chamber', 'chanson', 'children', 'chill',\n",
       "       'chinese', 'choral', 'christian', 'christmas', 'classical',\n",
       "       'classicmetal', 'club', 'colombian', 'comedy', 'conjazz',\n",
       "       'contemporary', 'country', 'cuban', 'dance', 'dancehall',\n",
       "       'dancepop', 'dark', 'death', 'deep', 'deutschrock', 'deutschspr',\n",
       "       'dirty', 'disco', 'dnb', 'documentary', 'downbeat', 'downtempo',\n",
       "       'drum', 'dub', 'dubstep', 'eastern', 'easy', 'electronic',\n",
       "       'electropop', 'emo', 'entehno', 'epicmetal', 'estrada', 'ethnic',\n",
       "       'eurofolk', 'european', 'experimental', 'extrememetal', 'fado',\n",
       "       'fairytail', 'film', 'fitness', 'flamenco', 'folk', 'folklore',\n",
       "       'folkmetal', 'folkrock', 'folktronica', 'forró', 'frankreich',\n",
       "       'französisch', 'french', 'funk', 'future', 'gangsta', 'garage',\n",
       "       'german', 'ghazal', 'gitarre', 'glitch', 'gospel', 'gothic',\n",
       "       'grime', 'grunge', 'gypsy', 'handsup', \"hard'n'heavy\", 'hardcore',\n",
       "       'hardstyle', 'hardtechno', 'hip', 'hip-hop', 'hiphop',\n",
       "       'historisch', 'holiday', 'hop', 'horror', 'house', 'hymn', 'idm',\n",
       "       'independent', 'indian', 'indie', 'indipop', 'industrial',\n",
       "       'inspirational', 'instrumental', 'international', 'irish', 'jam',\n",
       "       'japanese', 'jazz', 'jewish', 'jpop', 'jungle', 'k-pop',\n",
       "       'karadeniz', 'karaoke', 'kayokyoku', 'korean', 'laiko', 'latin',\n",
       "       'latino', 'leftfield', 'local', 'lounge', 'loungeelectronic',\n",
       "       'lovers', 'malaysian', 'mandopop', 'marschmusik', 'meditative',\n",
       "       'mediterranean', 'melodic', 'metal', 'metalcore', 'mexican',\n",
       "       'middle', 'minimal', 'miscellaneous', 'modern', 'mood', 'mpb',\n",
       "       'muslim', 'native', 'neoklassik', 'neue', 'new', 'newage',\n",
       "       'newwave', 'nu', 'nujazz', 'numetal', 'oceania', 'old', 'opera',\n",
       "       'orchestral', 'other', 'piano', 'podcasts', 'pop', 'popdance',\n",
       "       'popelectronic', 'popeurodance', 'poprussian', 'post',\n",
       "       'posthardcore', 'postrock', 'power', 'progmetal', 'progressive',\n",
       "       'psychedelic', 'punjabi', 'punk', 'quebecois', 'ragga', 'ram',\n",
       "       'rancheras', 'rap', 'rave', 'reggae', 'reggaeton', 'regional',\n",
       "       'relax', 'religious', 'retro', 'rhythm', 'rnb', 'rnr', 'rock',\n",
       "       'rockabilly', 'rockalternative', 'rockindie', 'rockother',\n",
       "       'romance', 'roots', 'ruspop', 'rusrap', 'rusrock', 'russian',\n",
       "       'salsa', 'samba', 'scenic', 'schlager', 'self', 'sertanejo',\n",
       "       'shanson', 'shoegazing', 'showtunes', 'singer', 'ska', 'skarock',\n",
       "       'slow', 'smooth', 'soft', 'soul', 'soulful', 'sound', 'soundtrack',\n",
       "       'southern', 'specialty', 'speech', 'spiritual', 'sport',\n",
       "       'stonerrock', 'surf', 'swing', 'synthpop', 'synthrock',\n",
       "       'sängerportrait', 'tango', 'tanzorchester', 'taraftar', 'tatar',\n",
       "       'tech', 'techno', 'teen', 'thrash', 'top', 'traditional',\n",
       "       'tradjazz', 'trance', 'tribal', 'trip', 'triphop', 'tropical',\n",
       "       'türk', 'türkçe', 'ukrrock', 'unknown', 'urban', 'uzbek',\n",
       "       'variété', 'vi', 'videogame', 'vocal', 'western', 'world',\n",
       "       'worldbeat', 'ïîï', 'электроника'], dtype=object)"
      ]
     },
     "execution_count": 27,
     "metadata": {},
     "output_type": "execute_result"
    }
   ],
   "source": [
    "df['genre'].sort_values().unique() # Просмотр уникальных названий жанров"
   ]
  },
  {
   "cell_type": "code",
   "execution_count": 28,
   "metadata": {
    "id": "ErNDkmns_Zct"
   },
   "outputs": [],
   "source": [
    "def replace_wrong_genres(wrong_genres, correct_genre): \n",
    "    for g in wrong_genres:\n",
    "        df['genre'] = df['genre'].replace(g, correct_genre)  \n",
    "# Функция для замены неявных дубликатов"
   ]
  },
  {
   "cell_type": "code",
   "execution_count": 29,
   "metadata": {
    "id": "YN5i2hpmSo09",
    "scrolled": true
   },
   "outputs": [],
   "source": [
    "replace_wrong_genres(['hip','hop','hip-hop'], 'hiphop') # Устранение неявных дубликатов"
   ]
  },
  {
   "cell_type": "code",
   "execution_count": 30,
   "metadata": {
    "id": "wvixALnFG15m"
   },
   "outputs": [
    {
     "data": {
      "text/plain": [
       "array(['acid', 'acoustic', 'action', 'adult', 'africa', 'afrikaans',\n",
       "       'alternative', 'alternativepunk', 'ambient', 'americana',\n",
       "       'animated', 'anime', 'arabesk', 'arabic', 'arena',\n",
       "       'argentinetango', 'art', 'audiobook', 'author', 'avantgarde',\n",
       "       'axé', 'baile', 'balkan', 'beats', 'bigroom', 'black', 'bluegrass',\n",
       "       'blues', 'bollywood', 'bossa', 'brazilian', 'breakbeat', 'breaks',\n",
       "       'broadway', 'cantautori', 'cantopop', 'canzone', 'caribbean',\n",
       "       'caucasian', 'celtic', 'chamber', 'chanson', 'children', 'chill',\n",
       "       'chinese', 'choral', 'christian', 'christmas', 'classical',\n",
       "       'classicmetal', 'club', 'colombian', 'comedy', 'conjazz',\n",
       "       'contemporary', 'country', 'cuban', 'dance', 'dancehall',\n",
       "       'dancepop', 'dark', 'death', 'deep', 'deutschrock', 'deutschspr',\n",
       "       'dirty', 'disco', 'dnb', 'documentary', 'downbeat', 'downtempo',\n",
       "       'drum', 'dub', 'dubstep', 'eastern', 'easy', 'electronic',\n",
       "       'electropop', 'emo', 'entehno', 'epicmetal', 'estrada', 'ethnic',\n",
       "       'eurofolk', 'european', 'experimental', 'extrememetal', 'fado',\n",
       "       'fairytail', 'film', 'fitness', 'flamenco', 'folk', 'folklore',\n",
       "       'folkmetal', 'folkrock', 'folktronica', 'forró', 'frankreich',\n",
       "       'französisch', 'french', 'funk', 'future', 'gangsta', 'garage',\n",
       "       'german', 'ghazal', 'gitarre', 'glitch', 'gospel', 'gothic',\n",
       "       'grime', 'grunge', 'gypsy', 'handsup', \"hard'n'heavy\", 'hardcore',\n",
       "       'hardstyle', 'hardtechno', 'hiphop', 'historisch', 'holiday',\n",
       "       'horror', 'house', 'hymn', 'idm', 'independent', 'indian', 'indie',\n",
       "       'indipop', 'industrial', 'inspirational', 'instrumental',\n",
       "       'international', 'irish', 'jam', 'japanese', 'jazz', 'jewish',\n",
       "       'jpop', 'jungle', 'k-pop', 'karadeniz', 'karaoke', 'kayokyoku',\n",
       "       'korean', 'laiko', 'latin', 'latino', 'leftfield', 'local',\n",
       "       'lounge', 'loungeelectronic', 'lovers', 'malaysian', 'mandopop',\n",
       "       'marschmusik', 'meditative', 'mediterranean', 'melodic', 'metal',\n",
       "       'metalcore', 'mexican', 'middle', 'minimal', 'miscellaneous',\n",
       "       'modern', 'mood', 'mpb', 'muslim', 'native', 'neoklassik', 'neue',\n",
       "       'new', 'newage', 'newwave', 'nu', 'nujazz', 'numetal', 'oceania',\n",
       "       'old', 'opera', 'orchestral', 'other', 'piano', 'podcasts', 'pop',\n",
       "       'popdance', 'popelectronic', 'popeurodance', 'poprussian', 'post',\n",
       "       'posthardcore', 'postrock', 'power', 'progmetal', 'progressive',\n",
       "       'psychedelic', 'punjabi', 'punk', 'quebecois', 'ragga', 'ram',\n",
       "       'rancheras', 'rap', 'rave', 'reggae', 'reggaeton', 'regional',\n",
       "       'relax', 'religious', 'retro', 'rhythm', 'rnb', 'rnr', 'rock',\n",
       "       'rockabilly', 'rockalternative', 'rockindie', 'rockother',\n",
       "       'romance', 'roots', 'ruspop', 'rusrap', 'rusrock', 'russian',\n",
       "       'salsa', 'samba', 'scenic', 'schlager', 'self', 'sertanejo',\n",
       "       'shanson', 'shoegazing', 'showtunes', 'singer', 'ska', 'skarock',\n",
       "       'slow', 'smooth', 'soft', 'soul', 'soulful', 'sound', 'soundtrack',\n",
       "       'southern', 'specialty', 'speech', 'spiritual', 'sport',\n",
       "       'stonerrock', 'surf', 'swing', 'synthpop', 'synthrock',\n",
       "       'sängerportrait', 'tango', 'tanzorchester', 'taraftar', 'tatar',\n",
       "       'tech', 'techno', 'teen', 'thrash', 'top', 'traditional',\n",
       "       'tradjazz', 'trance', 'tribal', 'trip', 'triphop', 'tropical',\n",
       "       'türk', 'türkçe', 'ukrrock', 'unknown', 'urban', 'uzbek',\n",
       "       'variété', 'vi', 'videogame', 'vocal', 'western', 'world',\n",
       "       'worldbeat', 'ïîï', 'электроника'], dtype=object)"
      ]
     },
     "execution_count": 30,
     "metadata": {},
     "output_type": "execute_result"
    }
   ],
   "source": [
    "df['genre'].sort_values().unique() # Проверка на неявные дубликаты"
   ]
  },
  {
   "cell_type": "markdown",
   "metadata": {
    "id": "jz6a9-7HQUDd"
   },
   "source": [
    "**Выводы**\n",
    "\n",
    "Предобработка обнаружила три проблемы в данных:\n",
    "\n",
    "- нарушения в стиле заголовков,\n",
    "- пропущенные значения,\n",
    "- дубликаты — явные и неявные.\n",
    "\n",
    "Мы исправили заголовки, чтобы упростить работу с таблицей. Без дубликатов исследование станет более точным.\n",
    "\n",
    "Пропущенные значения заменили на `'unknown'`. Ещё предстоит увидеть, не повредят ли исследованию пропуски в колонке `genre`.\n",
    "\n",
    "Теперь можно перейти к проверке гипотез. "
   ]
  },
  {
   "cell_type": "markdown",
   "metadata": {
    "id": "WttZHXH0SqKk"
   },
   "source": [
    "## Проверка гипотез"
   ]
  },
  {
   "cell_type": "markdown",
   "metadata": {
    "id": "Im936VVi_Zcu"
   },
   "source": [
    "### Сравнение поведения пользователей двух столиц"
   ]
  },
  {
   "cell_type": "markdown",
   "metadata": {
    "id": "nwt_MuaL_Zcu"
   },
   "source": [
    "Первая гипотеза утверждает, что пользователи по-разному слушают музыку в Москве и Санкт-Петербурге. Проверим это предположение по данным о трёх днях недели — понедельнике, среде и пятнице. "
   ]
  },
  {
   "cell_type": "code",
   "execution_count": 35,
   "metadata": {
    "id": "0_Qs96oh_Zcu",
    "scrolled": true
   },
   "outputs": [
    {
     "name": "stdout",
     "output_type": "stream",
     "text": [
      "Подсчёт прослушиваний в каждом городе:\n",
      " city\n",
      "Moscow              42741\n",
      "Saint-Petersburg    18512\n",
      "Name: user_id, dtype: int64\n"
     ]
    }
   ],
   "source": [
    "df_group_city = df.groupby('city')['user_id']\n",
    "print(f'Подсчёт прослушиваний в каждом городе:\\n {df_group_city.count()}')"
   ]
  },
  {
   "cell_type": "markdown",
   "metadata": {
    "id": "dzli3w8o_Zcu"
   },
   "source": [
    "В Москве прослушиваний больше, чем в Петербурге. Из этого не следует, что московские пользователи чаще слушают музыку. Просто самих пользователей в Москве больше.\n",
    "\n"
   ]
  },
  {
   "cell_type": "code",
   "execution_count": 37,
   "metadata": {
    "id": "uZMKjiJz_Zcu"
   },
   "outputs": [
    {
     "name": "stdout",
     "output_type": "stream",
     "text": [
      "Подсчёт прослушиваний в каждый из трёх дней:\n",
      " day\n",
      "Friday       21840\n",
      "Monday       21354\n",
      "Wednesday    18059\n",
      "Name: user_id, dtype: int64\n"
     ]
    }
   ],
   "source": [
    "df_group_day = df.groupby('day')['user_id']\n",
    "print(f'Подсчёт прослушиваний в каждый из трёх дней:\\n {df_group_day.count()}')"
   ]
  },
  {
   "cell_type": "markdown",
   "metadata": {
    "id": "cC2tNrlL_Zcu"
   },
   "source": [
    "В среднем пользователи из двух городов менее активны по средам. Но картина может измениться, если рассмотреть каждый город в отдельности."
   ]
  },
  {
   "cell_type": "code",
   "execution_count": 39,
   "metadata": {
    "id": "Nz3GdQB1_Zcu"
   },
   "outputs": [],
   "source": [
    "def number_tracks(day, city):\n",
    "    track_list = df[df['day'] == day]\n",
    "    track_list = track_list[track_list['city'] == city]\n",
    "    track_list_count = track_list['user_id'].count()\n",
    "    return track_list_count\n",
    "\n",
    "# Объявляется функция с двумя параметрами: day, city.\n",
    "# В переменной track_list сохраняются те строки таблицы df, для которых \n",
    "# значение в столбце 'day' равно параметру day и одновременно значение\n",
    "# в столбце 'city' равно параметру city (используйте последовательную фильтрацию\n",
    "# с помощью логической индексации).\n",
    "# В переменной track_list_count сохраняется число значений столбца 'user_id',\n",
    "# рассчитанное методом count() для таблицы track_list.\n",
    "# Функция возвращает число - значение track_list_count.\n",
    "\n",
    "# Функция для подсчёта прослушиваний для конкретного города и дня.\n",
    "# С помощью последовательной фильтрации с логической индексацией она \n",
    "# сначала получит из исходной таблицы строки с нужным днём,\n",
    "# затем из результата отфильтрует строки с нужным городом,\n",
    "# методом count() посчитает количество значений в колонке user_id. \n",
    "# Это количество функция вернёт в качестве результата"
   ]
  },
  {
   "cell_type": "code",
   "execution_count": 40,
   "metadata": {
    "id": "rJcRATNQ_Zcu"
   },
   "outputs": [
    {
     "data": {
      "text/plain": [
       "15740"
      ]
     },
     "execution_count": 40,
     "metadata": {},
     "output_type": "execute_result"
    }
   ],
   "source": [
    "number_tracks('Monday','Moscow') # количество прослушиваний в Москве по понедельникам"
   ]
  },
  {
   "cell_type": "code",
   "execution_count": 41,
   "metadata": {
    "id": "hq_ncZ5T_Zcu"
   },
   "outputs": [
    {
     "data": {
      "text/plain": [
       "5614"
      ]
     },
     "execution_count": 41,
     "metadata": {},
     "output_type": "execute_result"
    }
   ],
   "source": [
    "number_tracks('Monday','Saint-Petersburg') # количество прослушиваний в Санкт-Петербурге по понедельникам"
   ]
  },
  {
   "cell_type": "code",
   "execution_count": 42,
   "metadata": {
    "id": "_NTy2VPU_Zcu"
   },
   "outputs": [
    {
     "data": {
      "text/plain": [
       "11056"
      ]
     },
     "execution_count": 42,
     "metadata": {},
     "output_type": "execute_result"
    }
   ],
   "source": [
    "number_tracks('Wednesday','Moscow') # количество прослушиваний в Москве по средам"
   ]
  },
  {
   "cell_type": "code",
   "execution_count": 43,
   "metadata": {
    "id": "j2y3TAwo_Zcu"
   },
   "outputs": [
    {
     "data": {
      "text/plain": [
       "7003"
      ]
     },
     "execution_count": 43,
     "metadata": {},
     "output_type": "execute_result"
    }
   ],
   "source": [
    "number_tracks('Wednesday','Saint-Petersburg') # количество прослушиваний в Санкт-Петербурге по средам"
   ]
  },
  {
   "cell_type": "code",
   "execution_count": 44,
   "metadata": {
    "id": "vYDw5u_K_Zcu"
   },
   "outputs": [
    {
     "data": {
      "text/plain": [
       "15945"
      ]
     },
     "execution_count": 44,
     "metadata": {},
     "output_type": "execute_result"
    }
   ],
   "source": [
    "number_tracks('Friday','Moscow') # количество прослушиваний в Москве по пятницам"
   ]
  },
  {
   "cell_type": "code",
   "execution_count": 45,
   "metadata": {
    "id": "8_yzFtW3_Zcu"
   },
   "outputs": [
    {
     "data": {
      "text/plain": [
       "5895"
      ]
     },
     "execution_count": 45,
     "metadata": {},
     "output_type": "execute_result"
    }
   ],
   "source": [
    "number_tracks('Friday','Saint-Petersburg') # количество прослушиваний в Санкт-Петербурге по пятницам"
   ]
  },
  {
   "cell_type": "code",
   "execution_count": 46,
   "metadata": {
    "id": "APAcLpOr_Zcu"
   },
   "outputs": [
    {
     "data": {
      "text/html": [
       "<div>\n",
       "<style scoped>\n",
       "    .dataframe tbody tr th:only-of-type {\n",
       "        vertical-align: middle;\n",
       "    }\n",
       "\n",
       "    .dataframe tbody tr th {\n",
       "        vertical-align: top;\n",
       "    }\n",
       "\n",
       "    .dataframe thead th {\n",
       "        text-align: right;\n",
       "    }\n",
       "</style>\n",
       "<table border=\"1\" class=\"dataframe\">\n",
       "  <thead>\n",
       "    <tr style=\"text-align: right;\">\n",
       "      <th></th>\n",
       "      <th>city</th>\n",
       "      <th>monday</th>\n",
       "      <th>wednesday</th>\n",
       "      <th>friday</th>\n",
       "    </tr>\n",
       "  </thead>\n",
       "  <tbody>\n",
       "    <tr>\n",
       "      <th>0</th>\n",
       "      <td>Moscow</td>\n",
       "      <td>15740</td>\n",
       "      <td>11056</td>\n",
       "      <td>15945</td>\n",
       "    </tr>\n",
       "    <tr>\n",
       "      <th>1</th>\n",
       "      <td>Saint-Petersburg</td>\n",
       "      <td>5614</td>\n",
       "      <td>7003</td>\n",
       "      <td>5895</td>\n",
       "    </tr>\n",
       "  </tbody>\n",
       "</table>\n",
       "</div>"
      ],
      "text/plain": [
       "               city  monday  wednesday  friday\n",
       "0            Moscow   15740      11056   15945\n",
       "1  Saint-Petersburg    5614       7003    5895"
      ]
     },
     "execution_count": 46,
     "metadata": {},
     "output_type": "execute_result"
    }
   ],
   "source": [
    "columns = ['city', 'monday', 'wednesday', 'friday'] \n",
    "data = [['Moscow', 15740, 11056, 15945], ['Saint-Petersburg', 5614, 7003, 5895]]\n",
    "pd.DataFrame(data = data, columns = columns) \n",
    "# Таблица с результатами"
   ]
  },
  {
   "cell_type": "markdown",
   "metadata": {
    "id": "-EgPIHYu_Zcu"
   },
   "source": [
    "**Выводы**\n",
    "\n",
    "Данные показывают разницу поведения пользователей:\n",
    "\n",
    "- В Москве пик прослушиваний приходится на понедельник и пятницу, а в среду заметен спад.\n",
    "- В Петербурге, наоборот, больше слушают музыку по средам. Активность в понедельник и пятницу здесь почти в равной мере уступает среде.\n",
    "\n",
    "Значит, данные говорят в пользу первой гипотезы."
   ]
  },
  {
   "cell_type": "markdown",
   "metadata": {
    "id": "atZAxtq4_Zcu"
   },
   "source": [
    "### Музыка в начале и в конце недели"
   ]
  },
  {
   "cell_type": "markdown",
   "metadata": {
    "id": "eXrQqXFH_Zcu"
   },
   "source": [
    "Согласно второй гипотезе, утром в понедельник в Москве преобладают одни жанры, а в Петербурге — другие. Так же и вечером пятницы преобладают разные жанры — в зависимости от города."
   ]
  },
  {
   "cell_type": "code",
   "execution_count": 50,
   "metadata": {
    "id": "qeaFfM_P_Zcu"
   },
   "outputs": [],
   "source": [
    "moscow_general = df[df['city'] == 'Moscow']\n",
    "# получение таблицы moscow_general из тех строк таблицы df, \n",
    "# для которых значение в столбце 'city' равно 'Moscow'"
   ]
  },
  {
   "cell_type": "code",
   "execution_count": 51,
   "metadata": {
    "id": "ORaVRKto_Zcu"
   },
   "outputs": [],
   "source": [
    "spb_general = df[df['city'] == 'Saint-Petersburg']\n",
    "# получение таблицы spb_general из тех строк таблицы df,\n",
    "# для которых значение в столбце 'city' равно 'Saint-Petersburg'"
   ]
  },
  {
   "cell_type": "code",
   "execution_count": 52,
   "metadata": {
    "id": "laJT9BYl_Zcu"
   },
   "outputs": [],
   "source": [
    "# Объявление функции genre_weekday() с параметрами table, day, time1, time2,\n",
    "# которая возвращает информацию о самых популярных жанрах в указанный день в\n",
    "# заданное время:\n",
    "def genre_weekday(table, day, time1, time2):\n",
    "# 1) в переменную genre_df сохраняются те строки переданного датафрейма table, для\n",
    "#    которых одновременно:\n",
    "#    - значение в столбце day равно значению аргумента day\n",
    "#    - значение в столбце time больше значения аргумента time1\n",
    "#    - значение в столбце time меньше значения аргумента time2\n",
    "#    Используйте последовательную фильтрацию с помощью логической индексации.\n",
    "    genre_df = table[table['day'] == day]\n",
    "    genre_df = genre_df[genre_df['time']>time1]\n",
    "    genre_df = genre_df[genre_df['time']<time2]\n",
    "# 2) сгруппировать датафрейм genre_df по столбцу genre, взять один из его\n",
    "#    столбцов и посчитать методом count() количество записей для каждого из\n",
    "#    присутствующих жанров, получившийся Series записать в переменную\n",
    "#    genre_df_count\n",
    "    genre_df_count = genre_df.groupby('genre')['user_id'].count()\n",
    "# 3) отсортировать genre_df_count по убыванию встречаемости и сохранить\n",
    "#    в переменную genre_df_sorted\n",
    "    genre_df_sorted = genre_df_count.sort_values(ascending=False)\n",
    "# 4) вернуть Series из 10 первых значений genre_df_sorted, это будут топ-10\n",
    "#    популярных жанров (в указанный день, в заданное время)\n",
    "    return genre_df_sorted.head(10)"
   ]
  },
  {
   "cell_type": "code",
   "execution_count": 53,
   "metadata": {
    "id": "yz7itPUQ_Zcu"
   },
   "outputs": [
    {
     "data": {
      "text/plain": [
       "genre\n",
       "pop            781\n",
       "dance          549\n",
       "electronic     480\n",
       "rock           474\n",
       "hiphop         286\n",
       "ruspop         186\n",
       "world          181\n",
       "rusrap         175\n",
       "alternative    164\n",
       "unknown        161\n",
       "Name: user_id, dtype: int64"
      ]
     },
     "execution_count": 53,
     "metadata": {},
     "output_type": "execute_result"
    }
   ],
   "source": [
    "genre_weekday(moscow_general, 'Monday', '07:00', '11:00') \n",
    "# вызов функции для утра понедельника в Москве (вместо df — таблица moscow_general)\n",
    "# объекты, хранящие время, являются строками и сравниваются как строки\n",
    "# пример вызова: genre_weekday(moscow_general, 'Monday', '07:00', '11:00')"
   ]
  },
  {
   "cell_type": "code",
   "execution_count": 54,
   "metadata": {
    "id": "kwUcHPdy_Zcu"
   },
   "outputs": [
    {
     "data": {
      "text/plain": [
       "genre\n",
       "pop            218\n",
       "dance          182\n",
       "rock           162\n",
       "electronic     147\n",
       "hiphop          80\n",
       "ruspop          64\n",
       "alternative     58\n",
       "rusrap          55\n",
       "jazz            44\n",
       "classical       40\n",
       "Name: user_id, dtype: int64"
      ]
     },
     "execution_count": 54,
     "metadata": {},
     "output_type": "execute_result"
    }
   ],
   "source": [
    "genre_weekday(spb_general, 'Monday', '07:00', '11:00') \n",
    "# вызов функции для утра понедельника в Петербурге (вместо df — таблица spb_general)"
   ]
  },
  {
   "cell_type": "code",
   "execution_count": 55,
   "metadata": {
    "id": "EzXVRE1o_Zcu"
   },
   "outputs": [
    {
     "data": {
      "text/plain": [
       "genre\n",
       "pop            713\n",
       "rock           517\n",
       "dance          495\n",
       "electronic     482\n",
       "hiphop         273\n",
       "world          208\n",
       "ruspop         170\n",
       "alternative    163\n",
       "classical      163\n",
       "rusrap         142\n",
       "Name: user_id, dtype: int64"
      ]
     },
     "execution_count": 55,
     "metadata": {},
     "output_type": "execute_result"
    }
   ],
   "source": [
    "genre_weekday(moscow_general, 'Friday', '17:00', '23:00')\n",
    "# вызов функции для вечера пятницы в Москве"
   ]
  },
  {
   "cell_type": "code",
   "execution_count": 56,
   "metadata": {
    "id": "JZaEKu5v_Zcu"
   },
   "outputs": [
    {
     "data": {
      "text/plain": [
       "genre\n",
       "pop            256\n",
       "electronic     216\n",
       "rock           216\n",
       "dance          210\n",
       "hiphop          97\n",
       "alternative     63\n",
       "jazz            61\n",
       "classical       60\n",
       "rusrap          59\n",
       "world           54\n",
       "Name: user_id, dtype: int64"
      ]
     },
     "execution_count": 56,
     "metadata": {},
     "output_type": "execute_result"
    }
   ],
   "source": [
    "genre_weekday(spb_general, 'Friday', '17:00', '23:00')\n",
    "# вызов функции для вечера пятницы в Петербурге"
   ]
  },
  {
   "cell_type": "markdown",
   "metadata": {
    "id": "wrCe4MNX_Zcu"
   },
   "source": [
    "**Выводы**\n",
    "\n",
    "Если сравнить топ-10 жанров в понедельник утром, можно сделать такие выводы:\n",
    "\n",
    "1. В Москве и Петербурге слушают похожую музыку. Единственное отличие — в московский рейтинг вошёл жанр “world”, а в петербургский — джаз и классика.\n",
    "\n",
    "2. В Москве пропущенных значений оказалось так много, что значение `'unknown'` заняло десятое место среди самых популярных жанров. Значит, пропущенные значения занимают существенную долю в данных и угрожают достоверности исследования.\n",
    "\n",
    "Вечер пятницы не меняет эту картину. Некоторые жанры поднимаются немного выше, другие спускаются, но в целом топ-10 остаётся тем же самым.\n",
    "\n",
    "Таким образом, вторая гипотеза подтвердилась лишь частично:\n",
    "* Пользователи слушают похожую музыку в начале недели и в конце.\n",
    "* Разница между Москвой и Петербургом не слишком выражена. В Москве чаще слушают русскую популярную музыку, в Петербурге — джаз.\n",
    "\n",
    "Однако пропуски в данных ставят под сомнение этот результат. В Москве их так много, что рейтинг топ-10 мог бы выглядеть иначе, если бы не утерянные  данные о жанрах."
   ]
  },
  {
   "cell_type": "markdown",
   "metadata": {
    "id": "JolODAqr_Zcu"
   },
   "source": [
    "### Жанровые предпочтения в Москве и Петербурге\n",
    "\n",
    "Гипотеза: Петербург — столица рэпа, музыку этого жанра там слушают чаще, чем в Москве.  А Москва — город контрастов, в котором, тем не менее, преобладает поп-музыка."
   ]
  },
  {
   "cell_type": "code",
   "execution_count": 59,
   "metadata": {
    "id": "r19lIPke_Zcu"
   },
   "outputs": [],
   "source": [
    "moscow_genres = moscow_general.groupby('genre')['user_id'].count().sort_values(ascending=False)\n",
    "# одной строкой: группировка таблицы moscow_general по столбцу 'genre',\n",
    "# подсчёт числа значений 'genre' в этой группировке методом count(), \n",
    "# сортировка получившегося Series в порядке убывания и сохранение в moscow_genres"
   ]
  },
  {
   "cell_type": "code",
   "execution_count": 60,
   "metadata": {
    "id": "WhCSooF8_Zcv"
   },
   "outputs": [
    {
     "data": {
      "text/plain": [
       "genre\n",
       "pop            5892\n",
       "dance          4435\n",
       "rock           3965\n",
       "electronic     3786\n",
       "hiphop         2096\n",
       "classical      1616\n",
       "world          1432\n",
       "alternative    1379\n",
       "ruspop         1372\n",
       "rusrap         1161\n",
       "Name: user_id, dtype: int64"
      ]
     },
     "execution_count": 60,
     "metadata": {},
     "output_type": "execute_result"
    }
   ],
   "source": [
    "moscow_genres.head(10) # просмотр первых 10 строк moscow_genres"
   ]
  },
  {
   "cell_type": "code",
   "execution_count": 61,
   "metadata": {
    "id": "gluLIpE7_Zcv"
   },
   "outputs": [],
   "source": [
    "spb_genres = spb_general.groupby('genre')['user_id'].count().sort_values(ascending=False)\n",
    "# одной строкой: группировка таблицы spb_general по столбцу 'genre', \n",
    "# подсчёт числа значений 'genre' в этой группировке методом count(), \n",
    "# сортировка получившегося Series в порядке убывания и сохранение в spb_genres"
   ]
  },
  {
   "cell_type": "code",
   "execution_count": 62,
   "metadata": {
    "id": "uaGJHjVU_Zcv"
   },
   "outputs": [
    {
     "data": {
      "text/plain": [
       "genre\n",
       "pop            2431\n",
       "dance          1932\n",
       "rock           1879\n",
       "electronic     1736\n",
       "hiphop          960\n",
       "alternative     649\n",
       "classical       646\n",
       "rusrap          564\n",
       "ruspop          538\n",
       "world           515\n",
       "Name: user_id, dtype: int64"
      ]
     },
     "execution_count": 62,
     "metadata": {},
     "output_type": "execute_result"
    }
   ],
   "source": [
    "spb_genres.head(10) # просмотр первых 10 строк spb_genres"
   ]
  },
  {
   "cell_type": "markdown",
   "metadata": {
    "id": "RY51YJYu_Zcv"
   },
   "source": [
    "**Выводы**"
   ]
  },
  {
   "cell_type": "markdown",
   "metadata": {
    "id": "nVhnJEm__Zcv"
   },
   "source": [
    "Гипотеза частично подтвердилась:\n",
    "* Поп-музыка — самый популярный жанр в Москве, как и предполагала гипотеза. Более того, в топ-10 жанров встречается близкий жанр — русская популярная музыка.\n",
    "* Вопреки ожиданиям, рэп одинаково популярен в Москве и Петербурге. \n"
   ]
  },
  {
   "cell_type": "markdown",
   "metadata": {
    "id": "ykKQ0N65_Zcv"
   },
   "source": [
    "## Итоги исследования"
   ]
  },
  {
   "cell_type": "markdown",
   "metadata": {
    "id": "tjUwbHb3_Zcv"
   },
   "source": [
    "Мы проверили три гипотезы и установили:\n",
    "\n",
    "1. День недели по-разному влияет на активность пользователей в Москве и Петербурге. \n",
    "\n",
    "Первая гипотеза полностью подтвердилась.\n",
    "\n",
    "2. Музыкальные предпочтения не сильно меняются в течение недели — будь то Москва или Петербург. Небольшие различия заметны в начале недели, по понедельникам:\n",
    "* в Москве слушают музыку жанра “world”,\n",
    "* в Петербурге — джаз и классику.\n",
    "\n",
    "Таким образом, вторая гипотеза подтвердилась лишь отчасти. Этот результат мог оказаться иным, если бы не пропуски в данных.\n",
    "\n",
    "3. Во вкусах пользователей Москвы и Петербурга больше общего чем различий. Вопреки ожиданиям, предпочтения жанров в Петербурге напоминают московские.\n",
    "\n",
    "Третья гипотеза не подтвердилась. Если различия в предпочтениях и существуют, на основной массе пользователей они незаметны.\n",
    "\n"
   ]
  },
  {
   "cell_type": "code",
   "execution_count": null,
   "metadata": {},
   "outputs": [],
   "source": []
  }
 ],
 "metadata": {
  "ExecuteTimeLog": [
   {
    "duration": 398,
    "start_time": "2021-10-26T14:49:32.918Z"
   },
   {
    "duration": 377,
    "start_time": "2021-10-26T14:49:59.129Z"
   },
   {
    "duration": 381,
    "start_time": "2021-10-26T14:50:20.353Z"
   },
   {
    "duration": 341,
    "start_time": "2021-10-26T14:52:08.354Z"
   },
   {
    "duration": 357,
    "start_time": "2021-10-26T14:52:43.450Z"
   },
   {
    "duration": 527,
    "start_time": "2021-10-26T14:53:28.163Z"
   },
   {
    "duration": 359,
    "start_time": "2021-10-26T14:53:38.791Z"
   },
   {
    "duration": 731,
    "start_time": "2021-10-26T14:59:51.998Z"
   },
   {
    "duration": 179,
    "start_time": "2021-10-26T14:59:55.875Z"
   },
   {
    "duration": 12,
    "start_time": "2021-10-26T14:59:58.731Z"
   },
   {
    "duration": 28,
    "start_time": "2021-10-26T15:00:08.362Z"
   },
   {
    "duration": 16,
    "start_time": "2021-10-26T15:00:33.276Z"
   },
   {
    "duration": 31,
    "start_time": "2021-10-26T15:00:59.790Z"
   },
   {
    "duration": 428,
    "start_time": "2021-10-26T15:07:57.309Z"
   },
   {
    "duration": 6,
    "start_time": "2021-10-26T15:08:13.460Z"
   },
   {
    "duration": 26,
    "start_time": "2021-10-26T15:10:04.896Z"
   },
   {
    "duration": 5,
    "start_time": "2021-10-26T15:10:09.050Z"
   },
   {
    "duration": 31,
    "start_time": "2021-10-26T15:11:26.864Z"
   },
   {
    "duration": 23,
    "start_time": "2021-10-26T15:14:34.436Z"
   },
   {
    "duration": 29,
    "start_time": "2021-10-26T15:14:48.878Z"
   },
   {
    "duration": 153,
    "start_time": "2021-10-26T15:15:34.010Z"
   },
   {
    "duration": 101,
    "start_time": "2021-10-26T15:15:53.339Z"
   },
   {
    "duration": 112,
    "start_time": "2021-10-26T15:17:29.203Z"
   },
   {
    "duration": 91,
    "start_time": "2021-10-26T15:17:43.042Z"
   },
   {
    "duration": 104,
    "start_time": "2021-10-26T15:17:49.339Z"
   },
   {
    "duration": 108,
    "start_time": "2021-10-26T15:18:07.808Z"
   },
   {
    "duration": 81,
    "start_time": "2021-10-26T15:18:24.308Z"
   },
   {
    "duration": 108,
    "start_time": "2021-10-26T15:19:19.240Z"
   },
   {
    "duration": 79,
    "start_time": "2021-10-26T15:19:25.338Z"
   },
   {
    "duration": 10,
    "start_time": "2021-10-26T15:21:13.030Z"
   },
   {
    "duration": 4,
    "start_time": "2021-10-26T15:27:18.970Z"
   },
   {
    "duration": 409,
    "start_time": "2021-10-26T15:27:21.786Z"
   },
   {
    "duration": 9446,
    "start_time": "2021-10-26T15:28:00.358Z"
   },
   {
    "duration": 4,
    "start_time": "2021-10-26T15:31:08.047Z"
   },
   {
    "duration": 9676,
    "start_time": "2021-10-26T15:31:10.728Z"
   },
   {
    "duration": 4,
    "start_time": "2021-10-26T15:35:31.064Z"
   },
   {
    "duration": 10510,
    "start_time": "2021-10-26T15:35:34.714Z"
   },
   {
    "duration": 5,
    "start_time": "2021-10-26T15:39:30.277Z"
   },
   {
    "duration": 14,
    "start_time": "2021-10-26T15:39:33.564Z"
   },
   {
    "duration": 11,
    "start_time": "2021-10-26T15:40:06.125Z"
   },
   {
    "duration": 5,
    "start_time": "2021-10-26T15:45:54.411Z"
   },
   {
    "duration": 18,
    "start_time": "2021-10-26T15:45:58.842Z"
   },
   {
    "duration": 10,
    "start_time": "2021-10-26T15:46:16.431Z"
   },
   {
    "duration": 4,
    "start_time": "2021-10-26T15:47:26.828Z"
   },
   {
    "duration": 13,
    "start_time": "2021-10-26T15:47:29.414Z"
   },
   {
    "duration": 10,
    "start_time": "2021-10-26T15:47:31.752Z"
   },
   {
    "duration": 413,
    "start_time": "2021-10-27T13:56:04.526Z"
   },
   {
    "duration": 827,
    "start_time": "2021-10-27T13:56:56.641Z"
   },
   {
    "duration": 2079,
    "start_time": "2021-10-27T13:56:57.995Z"
   },
   {
    "duration": 27,
    "start_time": "2021-10-27T13:57:02.824Z"
   },
   {
    "duration": 35,
    "start_time": "2021-10-27T13:57:06.285Z"
   },
   {
    "duration": 6,
    "start_time": "2021-10-27T13:57:11.317Z"
   },
   {
    "duration": 29,
    "start_time": "2021-10-27T13:57:14.214Z"
   },
   {
    "duration": 7,
    "start_time": "2021-10-27T13:57:15.806Z"
   },
   {
    "duration": 49,
    "start_time": "2021-10-27T13:57:17.379Z"
   },
   {
    "duration": 26,
    "start_time": "2021-10-27T13:57:19.790Z"
   },
   {
    "duration": 33,
    "start_time": "2021-10-27T13:57:21.378Z"
   },
   {
    "duration": 99,
    "start_time": "2021-10-27T13:57:23.229Z"
   },
   {
    "duration": 124,
    "start_time": "2021-10-27T13:57:24.640Z"
   },
   {
    "duration": 87,
    "start_time": "2021-10-27T13:57:26.279Z"
   },
   {
    "duration": 10,
    "start_time": "2021-10-27T13:57:28.255Z"
   },
   {
    "duration": 4,
    "start_time": "2021-10-27T13:57:30.568Z"
   },
   {
    "duration": 19,
    "start_time": "2021-10-27T13:57:32.044Z"
   },
   {
    "duration": 14,
    "start_time": "2021-10-27T13:57:33.701Z"
   },
   {
    "duration": 8,
    "start_time": "2021-10-27T13:57:38.472Z"
   },
   {
    "duration": 69,
    "start_time": "2021-10-27T13:58:19.668Z"
   },
   {
    "duration": 106,
    "start_time": "2021-10-27T13:58:53.999Z"
   },
   {
    "duration": 44,
    "start_time": "2021-10-27T13:59:04.537Z"
   },
   {
    "duration": 44,
    "start_time": "2021-10-27T14:00:14.628Z"
   },
   {
    "duration": 44,
    "start_time": "2021-10-27T14:01:32.930Z"
   },
   {
    "duration": 47,
    "start_time": "2021-10-27T14:02:53.509Z"
   },
   {
    "duration": 44,
    "start_time": "2021-10-27T14:03:10.474Z"
   },
   {
    "duration": 4,
    "start_time": "2021-10-27T14:11:15.293Z"
   },
   {
    "duration": 198,
    "start_time": "2021-10-27T14:11:16.492Z"
   },
   {
    "duration": 17,
    "start_time": "2021-10-27T14:11:17.045Z"
   },
   {
    "duration": 35,
    "start_time": "2021-10-27T14:11:17.415Z"
   },
   {
    "duration": 6,
    "start_time": "2021-10-27T14:11:19.461Z"
   },
   {
    "duration": 29,
    "start_time": "2021-10-27T14:11:21.704Z"
   },
   {
    "duration": 5,
    "start_time": "2021-10-27T14:11:22.468Z"
   },
   {
    "duration": 36,
    "start_time": "2021-10-27T14:11:23.467Z"
   },
   {
    "duration": 22,
    "start_time": "2021-10-27T14:11:24.850Z"
   },
   {
    "duration": 36,
    "start_time": "2021-10-27T14:11:26.571Z"
   },
   {
    "duration": 85,
    "start_time": "2021-10-27T14:11:27.574Z"
   },
   {
    "duration": 126,
    "start_time": "2021-10-27T14:11:27.880Z"
   },
   {
    "duration": 80,
    "start_time": "2021-10-27T14:11:28.262Z"
   },
   {
    "duration": 11,
    "start_time": "2021-10-27T14:11:30.355Z"
   },
   {
    "duration": 4,
    "start_time": "2021-10-27T14:11:33.536Z"
   },
   {
    "duration": 15,
    "start_time": "2021-10-27T14:11:34.751Z"
   },
   {
    "duration": 11,
    "start_time": "2021-10-27T14:11:41.915Z"
   },
   {
    "duration": 19,
    "start_time": "2021-10-27T14:11:55.796Z"
   },
   {
    "duration": 28,
    "start_time": "2021-10-27T14:12:15.127Z"
   },
   {
    "duration": 106,
    "start_time": "2021-10-27T14:14:50.655Z"
   },
   {
    "duration": 112,
    "start_time": "2021-10-27T14:15:44.676Z"
   },
   {
    "duration": 5,
    "start_time": "2021-10-27T14:16:26.295Z"
   },
   {
    "duration": 23,
    "start_time": "2021-10-27T14:16:30.156Z"
   },
   {
    "duration": 20,
    "start_time": "2021-10-27T14:17:56.309Z"
   },
   {
    "duration": 20,
    "start_time": "2021-10-27T14:17:59.457Z"
   },
   {
    "duration": 21,
    "start_time": "2021-10-27T14:18:00.972Z"
   },
   {
    "duration": 29,
    "start_time": "2021-10-27T14:18:01.967Z"
   },
   {
    "duration": 23,
    "start_time": "2021-10-27T14:18:02.907Z"
   },
   {
    "duration": 12,
    "start_time": "2021-10-27T14:22:22.829Z"
   },
   {
    "duration": 31,
    "start_time": "2021-10-27T14:24:13.740Z"
   },
   {
    "duration": 29,
    "start_time": "2021-10-27T14:24:51.589Z"
   },
   {
    "duration": 5,
    "start_time": "2021-10-27T14:33:32.298Z"
   },
   {
    "duration": 698,
    "start_time": "2021-10-27T14:34:27.214Z"
   },
   {
    "duration": 5,
    "start_time": "2021-10-27T14:36:27.909Z"
   },
   {
    "duration": 663,
    "start_time": "2021-10-27T14:36:31.019Z"
   },
   {
    "duration": 6,
    "start_time": "2021-10-27T14:37:09.237Z"
   },
   {
    "duration": 28,
    "start_time": "2021-10-27T14:37:12.507Z"
   },
   {
    "duration": 13,
    "start_time": "2021-10-27T14:38:43.762Z"
   },
   {
    "duration": 13,
    "start_time": "2021-10-27T14:39:24.247Z"
   },
   {
    "duration": 19,
    "start_time": "2021-10-27T14:40:45.215Z"
   },
   {
    "duration": 23,
    "start_time": "2021-10-27T14:41:24.490Z"
   },
   {
    "duration": 19,
    "start_time": "2021-10-27T14:41:49.485Z"
   },
   {
    "duration": 303,
    "start_time": "2021-10-27T14:46:03.676Z"
   },
   {
    "duration": 15,
    "start_time": "2021-10-27T14:46:26.369Z"
   },
   {
    "duration": 6,
    "start_time": "2021-10-27T14:46:29.674Z"
   },
   {
    "duration": 13,
    "start_time": "2021-10-27T14:47:17.902Z"
   },
   {
    "duration": 7,
    "start_time": "2021-10-27T14:47:20.151Z"
   },
   {
    "duration": 10,
    "start_time": "2021-10-27T14:48:37.563Z"
   },
   {
    "duration": 7,
    "start_time": "2021-10-27T14:48:48.746Z"
   },
   {
    "duration": 9,
    "start_time": "2021-10-27T14:49:44.920Z"
   },
   {
    "duration": 7,
    "start_time": "2021-10-27T14:49:49.319Z"
   },
   {
    "duration": 9,
    "start_time": "2021-10-27T14:49:58.799Z"
   },
   {
    "duration": 8,
    "start_time": "2021-10-27T14:50:01.631Z"
   },
   {
    "duration": 13,
    "start_time": "2021-10-27T15:19:20.490Z"
   },
   {
    "duration": 4,
    "start_time": "2021-10-27T15:20:17.975Z"
   },
   {
    "duration": 214,
    "start_time": "2021-10-27T15:20:17.984Z"
   },
   {
    "duration": 16,
    "start_time": "2021-10-27T15:20:18.201Z"
   },
   {
    "duration": 32,
    "start_time": "2021-10-27T15:20:18.220Z"
   },
   {
    "duration": 30,
    "start_time": "2021-10-27T15:20:18.255Z"
   },
   {
    "duration": 23,
    "start_time": "2021-10-27T15:20:18.287Z"
   },
   {
    "duration": 5,
    "start_time": "2021-10-27T15:20:18.312Z"
   },
   {
    "duration": 32,
    "start_time": "2021-10-27T15:20:18.320Z"
   },
   {
    "duration": 22,
    "start_time": "2021-10-27T15:20:18.384Z"
   },
   {
    "duration": 30,
    "start_time": "2021-10-27T15:20:18.409Z"
   },
   {
    "duration": 109,
    "start_time": "2021-10-27T15:20:18.441Z"
   },
   {
    "duration": 102,
    "start_time": "2021-10-27T15:20:18.552Z"
   },
   {
    "duration": 83,
    "start_time": "2021-10-27T15:20:18.656Z"
   },
   {
    "duration": 9,
    "start_time": "2021-10-27T15:20:18.741Z"
   },
   {
    "duration": 6,
    "start_time": "2021-10-27T15:20:18.752Z"
   },
   {
    "duration": 34,
    "start_time": "2021-10-27T15:20:18.760Z"
   },
   {
    "duration": 17,
    "start_time": "2021-10-27T15:20:18.796Z"
   },
   {
    "duration": 16,
    "start_time": "2021-10-27T15:20:18.816Z"
   },
   {
    "duration": 49,
    "start_time": "2021-10-27T15:20:18.835Z"
   },
   {
    "duration": 6,
    "start_time": "2021-10-27T15:20:18.887Z"
   },
   {
    "duration": 27,
    "start_time": "2021-10-27T15:20:18.896Z"
   },
   {
    "duration": 20,
    "start_time": "2021-10-27T15:20:18.926Z"
   },
   {
    "duration": 47,
    "start_time": "2021-10-27T15:20:18.948Z"
   },
   {
    "duration": 20,
    "start_time": "2021-10-27T15:20:19.001Z"
   },
   {
    "duration": 59,
    "start_time": "2021-10-27T15:20:19.024Z"
   },
   {
    "duration": 23,
    "start_time": "2021-10-27T15:20:19.086Z"
   },
   {
    "duration": 13,
    "start_time": "2021-10-27T15:20:19.112Z"
   },
   {
    "duration": 18,
    "start_time": "2021-10-27T15:20:19.128Z"
   },
   {
    "duration": 14,
    "start_time": "2021-10-27T15:20:19.183Z"
   },
   {
    "duration": 6,
    "start_time": "2021-10-27T15:20:19.200Z"
   },
   {
    "duration": 31,
    "start_time": "2021-10-27T15:20:19.209Z"
   },
   {
    "duration": 48,
    "start_time": "2021-10-27T15:20:19.243Z"
   },
   {
    "duration": 25,
    "start_time": "2021-10-27T15:20:19.293Z"
   },
   {
    "duration": 18,
    "start_time": "2021-10-27T15:20:19.321Z"
   },
   {
    "duration": 50,
    "start_time": "2021-10-27T15:20:19.342Z"
   },
   {
    "duration": 8,
    "start_time": "2021-10-27T15:20:19.395Z"
   },
   {
    "duration": 17,
    "start_time": "2021-10-27T15:20:19.406Z"
   },
   {
    "duration": 17,
    "start_time": "2021-10-27T15:20:19.425Z"
   },
   {
    "duration": 742,
    "start_time": "2021-10-28T05:59:42.459Z"
   },
   {
    "duration": 185,
    "start_time": "2021-10-28T05:59:43.203Z"
   },
   {
    "duration": 25,
    "start_time": "2021-10-28T05:59:43.392Z"
   },
   {
    "duration": 47,
    "start_time": "2021-10-28T05:59:43.420Z"
   },
   {
    "duration": 5,
    "start_time": "2021-10-28T05:59:43.470Z"
   },
   {
    "duration": 26,
    "start_time": "2021-10-28T05:59:43.478Z"
   },
   {
    "duration": 8,
    "start_time": "2021-10-28T05:59:43.507Z"
   },
   {
    "duration": 36,
    "start_time": "2021-10-28T05:59:43.557Z"
   },
   {
    "duration": 23,
    "start_time": "2021-10-28T05:59:43.599Z"
   },
   {
    "duration": 57,
    "start_time": "2021-10-28T05:59:43.626Z"
   },
   {
    "duration": 100,
    "start_time": "2021-10-28T05:59:43.686Z"
   },
   {
    "duration": 106,
    "start_time": "2021-10-28T05:59:43.788Z"
   },
   {
    "duration": 81,
    "start_time": "2021-10-28T05:59:43.896Z"
   },
   {
    "duration": 9,
    "start_time": "2021-10-28T05:59:43.979Z"
   },
   {
    "duration": 4,
    "start_time": "2021-10-28T05:59:43.991Z"
   },
   {
    "duration": 16,
    "start_time": "2021-10-28T05:59:43.997Z"
   },
   {
    "duration": 9,
    "start_time": "2021-10-28T05:59:44.016Z"
   },
   {
    "duration": 15,
    "start_time": "2021-10-28T05:59:44.058Z"
   },
   {
    "duration": 13,
    "start_time": "2021-10-28T05:59:44.075Z"
   },
   {
    "duration": 4,
    "start_time": "2021-10-28T05:59:44.090Z"
   },
   {
    "duration": 25,
    "start_time": "2021-10-28T05:59:44.097Z"
   },
   {
    "duration": 52,
    "start_time": "2021-10-28T05:59:44.124Z"
   },
   {
    "duration": 18,
    "start_time": "2021-10-28T05:59:44.178Z"
   },
   {
    "duration": 17,
    "start_time": "2021-10-28T05:59:44.198Z"
   },
   {
    "duration": 53,
    "start_time": "2021-10-28T05:59:44.217Z"
   },
   {
    "duration": 17,
    "start_time": "2021-10-28T05:59:44.273Z"
   },
   {
    "duration": 12,
    "start_time": "2021-10-28T05:59:44.295Z"
   },
   {
    "duration": 48,
    "start_time": "2021-10-28T05:59:44.310Z"
   },
   {
    "duration": 12,
    "start_time": "2021-10-28T05:59:44.360Z"
   },
   {
    "duration": 6,
    "start_time": "2021-10-28T05:59:44.374Z"
   },
   {
    "duration": 28,
    "start_time": "2021-10-28T05:59:44.382Z"
   },
   {
    "duration": 46,
    "start_time": "2021-10-28T05:59:44.413Z"
   },
   {
    "duration": 21,
    "start_time": "2021-10-28T05:59:44.461Z"
   },
   {
    "duration": 15,
    "start_time": "2021-10-28T05:59:44.485Z"
   },
   {
    "duration": 11,
    "start_time": "2021-10-28T05:59:44.502Z"
   },
   {
    "duration": 42,
    "start_time": "2021-10-28T05:59:44.515Z"
   },
   {
    "duration": 9,
    "start_time": "2021-10-28T05:59:44.560Z"
   },
   {
    "duration": 8,
    "start_time": "2021-10-28T05:59:44.571Z"
   },
   {
    "duration": 18,
    "start_time": "2021-10-28T06:00:13.898Z"
   },
   {
    "duration": 75,
    "start_time": "2021-10-28T06:01:06.592Z"
   },
   {
    "duration": 734,
    "start_time": "2021-10-28T12:48:05.163Z"
   },
   {
    "duration": 196,
    "start_time": "2021-10-28T12:48:05.900Z"
   },
   {
    "duration": 30,
    "start_time": "2021-10-28T12:48:06.099Z"
   },
   {
    "duration": 34,
    "start_time": "2021-10-28T12:48:06.131Z"
   },
   {
    "duration": 5,
    "start_time": "2021-10-28T12:48:06.168Z"
   },
   {
    "duration": 68,
    "start_time": "2021-10-28T12:48:06.176Z"
   },
   {
    "duration": 38,
    "start_time": "2021-10-28T12:48:06.246Z"
   },
   {
    "duration": 6,
    "start_time": "2021-10-28T12:48:06.286Z"
   },
   {
    "duration": 48,
    "start_time": "2021-10-28T12:48:06.296Z"
   },
   {
    "duration": 24,
    "start_time": "2021-10-28T12:48:06.347Z"
   },
   {
    "duration": 50,
    "start_time": "2021-10-28T12:48:06.374Z"
   },
   {
    "duration": 101,
    "start_time": "2021-10-28T12:48:06.426Z"
   },
   {
    "duration": 107,
    "start_time": "2021-10-28T12:48:06.529Z"
   },
   {
    "duration": 94,
    "start_time": "2021-10-28T12:48:06.639Z"
   },
   {
    "duration": 99,
    "start_time": "2021-10-28T12:48:06.736Z"
   },
   {
    "duration": 59,
    "start_time": "2021-10-28T12:48:11.647Z"
   },
   {
    "duration": 5,
    "start_time": "2021-10-28T12:49:40.977Z"
   },
   {
    "duration": 14,
    "start_time": "2021-10-28T12:49:42.535Z"
   },
   {
    "duration": 96,
    "start_time": "2021-10-28T12:49:45.464Z"
   },
   {
    "duration": 60,
    "start_time": "2021-10-28T12:49:59.761Z"
   },
   {
    "duration": 16,
    "start_time": "2021-10-28T13:44:03.414Z"
   },
   {
    "duration": 9,
    "start_time": "2021-10-28T13:44:12.535Z"
   },
   {
    "duration": 103,
    "start_time": "2021-10-28T13:50:20.903Z"
   },
   {
    "duration": 73,
    "start_time": "2021-10-28T13:53:38.618Z"
   },
   {
    "duration": 96,
    "start_time": "2021-10-28T13:56:05.940Z"
   },
   {
    "duration": 162,
    "start_time": "2021-10-28T13:56:22.808Z"
   },
   {
    "duration": 108,
    "start_time": "2021-10-28T13:57:26.882Z"
   },
   {
    "duration": 114,
    "start_time": "2021-10-28T14:05:16.875Z"
   },
   {
    "duration": 14,
    "start_time": "2021-10-28T14:11:15.703Z"
   },
   {
    "duration": 14,
    "start_time": "2021-10-28T14:11:32.168Z"
   },
   {
    "duration": 13,
    "start_time": "2021-10-28T14:11:47.354Z"
   },
   {
    "duration": 14,
    "start_time": "2021-10-28T14:11:52.536Z"
   },
   {
    "duration": 14,
    "start_time": "2021-10-28T14:13:04.794Z"
   },
   {
    "duration": 4,
    "start_time": "2021-10-28T14:15:45.628Z"
   },
   {
    "duration": 208,
    "start_time": "2021-10-28T14:15:45.635Z"
   },
   {
    "duration": 17,
    "start_time": "2021-10-28T14:15:45.846Z"
   },
   {
    "duration": 41,
    "start_time": "2021-10-28T14:15:45.865Z"
   },
   {
    "duration": 18,
    "start_time": "2021-10-28T14:15:45.908Z"
   },
   {
    "duration": 20,
    "start_time": "2021-10-28T14:15:45.928Z"
   },
   {
    "duration": 21,
    "start_time": "2021-10-28T14:15:45.951Z"
   },
   {
    "duration": 5,
    "start_time": "2021-10-28T14:15:45.974Z"
   },
   {
    "duration": 64,
    "start_time": "2021-10-28T14:15:45.983Z"
   },
   {
    "duration": 22,
    "start_time": "2021-10-28T14:15:46.050Z"
   },
   {
    "duration": 50,
    "start_time": "2021-10-28T14:15:46.075Z"
   },
   {
    "duration": 100,
    "start_time": "2021-10-28T14:15:46.127Z"
   },
   {
    "duration": 108,
    "start_time": "2021-10-28T14:15:46.229Z"
   },
   {
    "duration": 83,
    "start_time": "2021-10-28T14:15:46.339Z"
   },
   {
    "duration": 75,
    "start_time": "2021-10-28T14:15:46.424Z"
   },
   {
    "duration": 73,
    "start_time": "2021-10-28T14:15:46.501Z"
   },
   {
    "duration": 10,
    "start_time": "2021-10-28T14:15:46.576Z"
   },
   {
    "duration": 17,
    "start_time": "2021-10-28T14:15:46.588Z"
   },
   {
    "duration": 281,
    "start_time": "2021-10-28T14:15:46.607Z"
   },
   {
    "duration": -1892,
    "start_time": "2021-10-28T14:15:48.783Z"
   },
   {
    "duration": -1899,
    "start_time": "2021-10-28T14:15:48.791Z"
   },
   {
    "duration": -1903,
    "start_time": "2021-10-28T14:15:48.797Z"
   },
   {
    "duration": -1909,
    "start_time": "2021-10-28T14:15:48.804Z"
   },
   {
    "duration": -1914,
    "start_time": "2021-10-28T14:15:48.810Z"
   },
   {
    "duration": -1926,
    "start_time": "2021-10-28T14:15:48.824Z"
   },
   {
    "duration": -1931,
    "start_time": "2021-10-28T14:15:48.830Z"
   },
   {
    "duration": -1934,
    "start_time": "2021-10-28T14:15:48.835Z"
   },
   {
    "duration": -1940,
    "start_time": "2021-10-28T14:15:48.842Z"
   },
   {
    "duration": -1944,
    "start_time": "2021-10-28T14:15:48.848Z"
   },
   {
    "duration": -1949,
    "start_time": "2021-10-28T14:15:48.854Z"
   },
   {
    "duration": -1954,
    "start_time": "2021-10-28T14:15:48.860Z"
   },
   {
    "duration": -1958,
    "start_time": "2021-10-28T14:15:48.865Z"
   },
   {
    "duration": -1961,
    "start_time": "2021-10-28T14:15:48.870Z"
   },
   {
    "duration": -1964,
    "start_time": "2021-10-28T14:15:48.874Z"
   },
   {
    "duration": -1966,
    "start_time": "2021-10-28T14:15:48.878Z"
   },
   {
    "duration": -1968,
    "start_time": "2021-10-28T14:15:48.881Z"
   },
   {
    "duration": -1971,
    "start_time": "2021-10-28T14:15:48.885Z"
   },
   {
    "duration": -1973,
    "start_time": "2021-10-28T14:15:48.889Z"
   },
   {
    "duration": -1976,
    "start_time": "2021-10-28T14:15:48.893Z"
   },
   {
    "duration": -1979,
    "start_time": "2021-10-28T14:15:48.897Z"
   },
   {
    "duration": 91,
    "start_time": "2021-10-28T14:16:39.504Z"
   },
   {
    "duration": 932,
    "start_time": "2021-10-28T14:16:45.013Z"
   },
   {
    "duration": 96,
    "start_time": "2021-10-28T14:17:02.722Z"
   },
   {
    "duration": 128,
    "start_time": "2021-10-28T14:17:12.630Z"
   },
   {
    "duration": 57,
    "start_time": "2021-10-28T14:17:19.229Z"
   },
   {
    "duration": 4,
    "start_time": "2021-10-28T14:24:37.668Z"
   },
   {
    "duration": 252,
    "start_time": "2021-10-28T14:24:37.675Z"
   },
   {
    "duration": 17,
    "start_time": "2021-10-28T14:24:37.931Z"
   },
   {
    "duration": 32,
    "start_time": "2021-10-28T14:24:37.951Z"
   },
   {
    "duration": 38,
    "start_time": "2021-10-28T14:24:37.985Z"
   },
   {
    "duration": 19,
    "start_time": "2021-10-28T14:24:38.026Z"
   },
   {
    "duration": 20,
    "start_time": "2021-10-28T14:24:38.048Z"
   },
   {
    "duration": 6,
    "start_time": "2021-10-28T14:24:38.072Z"
   },
   {
    "duration": 68,
    "start_time": "2021-10-28T14:24:38.081Z"
   },
   {
    "duration": 22,
    "start_time": "2021-10-28T14:24:38.152Z"
   },
   {
    "duration": 50,
    "start_time": "2021-10-28T14:24:38.176Z"
   },
   {
    "duration": 94,
    "start_time": "2021-10-28T14:24:38.229Z"
   },
   {
    "duration": 100,
    "start_time": "2021-10-28T14:24:38.325Z"
   },
   {
    "duration": 96,
    "start_time": "2021-10-28T14:24:38.428Z"
   },
   {
    "duration": 76,
    "start_time": "2021-10-28T14:24:38.527Z"
   },
   {
    "duration": 73,
    "start_time": "2021-10-28T14:24:38.606Z"
   },
   {
    "duration": 5,
    "start_time": "2021-10-28T14:24:38.682Z"
   },
   {
    "duration": 43,
    "start_time": "2021-10-28T14:24:38.690Z"
   },
   {
    "duration": 60,
    "start_time": "2021-10-28T14:24:38.735Z"
   },
   {
    "duration": 35,
    "start_time": "2021-10-28T14:24:38.798Z"
   },
   {
    "duration": 19,
    "start_time": "2021-10-28T14:24:38.836Z"
   },
   {
    "duration": 5,
    "start_time": "2021-10-28T14:24:38.858Z"
   },
   {
    "duration": 61,
    "start_time": "2021-10-28T14:24:38.870Z"
   },
   {
    "duration": 19,
    "start_time": "2021-10-28T14:24:38.933Z"
   },
   {
    "duration": 19,
    "start_time": "2021-10-28T14:24:38.954Z"
   },
   {
    "duration": 49,
    "start_time": "2021-10-28T14:24:38.975Z"
   },
   {
    "duration": 23,
    "start_time": "2021-10-28T14:24:39.026Z"
   },
   {
    "duration": 22,
    "start_time": "2021-10-28T14:24:39.052Z"
   },
   {
    "duration": 48,
    "start_time": "2021-10-28T14:24:39.077Z"
   },
   {
    "duration": 19,
    "start_time": "2021-10-28T14:24:39.128Z"
   },
   {
    "duration": 11,
    "start_time": "2021-10-28T14:24:39.150Z"
   },
   {
    "duration": 6,
    "start_time": "2021-10-28T14:24:39.164Z"
   },
   {
    "duration": 57,
    "start_time": "2021-10-28T14:24:39.172Z"
   },
   {
    "duration": 17,
    "start_time": "2021-10-28T14:24:39.232Z"
   },
   {
    "duration": 22,
    "start_time": "2021-10-28T14:24:39.252Z"
   },
   {
    "duration": 49,
    "start_time": "2021-10-28T14:24:39.277Z"
   },
   {
    "duration": 12,
    "start_time": "2021-10-28T14:24:39.328Z"
   },
   {
    "duration": 6,
    "start_time": "2021-10-28T14:24:39.342Z"
   },
   {
    "duration": 9,
    "start_time": "2021-10-28T14:24:39.351Z"
   },
   {
    "duration": 6,
    "start_time": "2021-10-28T14:24:39.362Z"
   }
  ],
  "colab": {
   "collapsed_sections": [
    "E0vqbgi9ay0H",
    "VUC88oWjTJw2"
   ],
   "name": "yandex_music_project_2021.2.ipynb",
   "provenance": []
  },
  "kernelspec": {
   "display_name": "Python 3 (ipykernel)",
   "language": "python",
   "name": "python3"
  },
  "language_info": {
   "codemirror_mode": {
    "name": "ipython",
    "version": 3
   },
   "file_extension": ".py",
   "mimetype": "text/x-python",
   "name": "python",
   "nbconvert_exporter": "python",
   "pygments_lexer": "ipython3",
   "version": "3.12.4"
  },
  "toc": {
   "base_numbering": 1,
   "nav_menu": {},
   "number_sections": true,
   "sideBar": true,
   "skip_h1_title": true,
   "title_cell": "Table of Contents",
   "title_sidebar": "Contents",
   "toc_cell": false,
   "toc_position": {
    "height": "calc(100% - 180px)",
    "left": "10px",
    "top": "150px",
    "width": "335px"
   },
   "toc_section_display": true,
   "toc_window_display": true
  }
 },
 "nbformat": 4,
 "nbformat_minor": 4
}
