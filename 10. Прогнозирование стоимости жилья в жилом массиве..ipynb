{
 "cells": [
  {
   "cell_type": "markdown",
   "id": "0775d199",
   "metadata": {},
   "source": [
    "# Содержание\n",
    "1. [Обзор данных](#1)\n",
    "2. [Подготовка данных](#2) \n",
    "3. [Обучение моделей](#3)\n",
    "4. [Анализ результатов](#4)\n",
    "5. [Общий вывод](#5)"
   ]
  },
  {
   "cell_type": "markdown",
   "id": "23f1a430",
   "metadata": {},
   "source": [
    "# Предсказание стоимости жилья"
   ]
  },
  {
   "cell_type": "markdown",
   "id": "GEqQaHzsZ_bA",
   "metadata": {
    "id": "GEqQaHzsZ_bA"
   },
   "source": [
    "**Цель исследования** - разработать систему, которая предсказывает медианную стоимость дома в жилом массиве.\n",
    "\n",
    "**Задачи:**\n",
    "\n",
    "- подготовить данные;\n",
    "- построить две модели линейной регрессии на разных наборах данных:\n",
    "  - используя все данные из файла,\n",
    "  - используя только числовые переменные, исключив категориальные;\n",
    "- сравнить результаты работы линейной регрессии на двух наборах данных по метрикам RMSE, MAE и R2.\n",
    "\n",
    "**Описание данных**\n",
    "\n",
    "В колонках датасета с информацией о жилье в Калифорнии в 1990 году содержатся следующие данные:\n",
    "- longitude — широта;\n",
    "- latitude — долгота;\n",
    "- housing_median_age — медианный возраст жителей жилого массива;\n",
    "- total_rooms — общее количество комнат в домах жилого массива;\n",
    "- total_bedrooms — общее количество спален в домах жилого массива;\n",
    "- population — количество человек, которые проживают в жилом массиве;\n",
    "- households — количество домовладений в жилом массиве;\n",
    "- median_income — медианный доход жителей жилого массива;\n",
    "- median_house_value — медианная стоимость дома в жилом массиве;\n",
    "- ocean_proximity — близость к океану.\n",
    "\n"
   ]
  },
  {
   "cell_type": "markdown",
   "id": "7bc7dac2",
   "metadata": {},
   "source": [
    "## Обзор данных <a id=\"1\"></a>"
   ]
  },
  {
   "cell_type": "markdown",
   "id": "7bfca1a0",
   "metadata": {},
   "source": [
    "### Подключение необходимых библиотек."
   ]
  },
  {
   "cell_type": "code",
   "execution_count": 1,
   "id": "df92e3ec",
   "metadata": {
    "id": "df92e3ec"
   },
   "outputs": [],
   "source": [
    "import pandas as pd \n",
    "import numpy as np\n",
    "import pyspark\n",
    "from pyspark.sql import SparkSession\n",
    "from pyspark.sql.types import *\n",
    "import pyspark.sql.functions as F\n",
    "\n",
    "from pyspark.ml.feature import Imputer\n",
    "from pyspark.ml.feature import StringIndexer\n",
    "from pyspark.ml.feature import OneHotEncoder\n",
    "from pyspark.ml.feature import VectorAssembler, StandardScaler\n",
    "from pyspark.ml import Pipeline, PipelineModel\n",
    "\n",
    "\n",
    "from pyspark.ml.regression import LinearRegression\n",
    "from pyspark.ml.evaluation import RegressionEvaluator\n"
   ]
  },
  {
   "cell_type": "markdown",
   "id": "a198c42a",
   "metadata": {},
   "source": [
    "### Инициализация локальной Spark-сессии."
   ]
  },
  {
   "cell_type": "code",
   "execution_count": 2,
   "id": "c372604c",
   "metadata": {},
   "outputs": [],
   "source": [
    "spark = SparkSession.builder \\\n",
    "                    .master(\"local\") \\\n",
    "                    .appName(\"EDA California Housing\") \\\n",
    "                    .getOrCreate()\n"
   ]
  },
  {
   "cell_type": "markdown",
   "id": "d491d0da",
   "metadata": {},
   "source": [
    "### Открытие и изучение данных."
   ]
  },
  {
   "cell_type": "code",
   "execution_count": 3,
   "id": "77a6516d",
   "metadata": {},
   "outputs": [
    {
     "name": "stderr",
     "output_type": "stream",
     "text": [
      "                                                                                \r"
     ]
    }
   ],
   "source": [
    "server_path = '/datasets/'\n",
    "local_path = ''\n",
    "data = 'housing.csv'\n",
    "\n",
    "try:\n",
    "    data = spark.read.load(server_path + data, \n",
    "                                            format=\"csv\", sep=\",\", inferSchema=True, header=\"true\")\n",
    "\n",
    "except: \n",
    "    data = spark.read.load(local_path + data, \n",
    "                                            format=\"csv\", sep=\",\", inferSchema=True, header=\"true\")  \n",
    "    "
   ]
  },
  {
   "cell_type": "code",
   "execution_count": 4,
   "id": "c69a1efc",
   "metadata": {
    "scrolled": true
   },
   "outputs": [
    {
     "name": "stdout",
     "output_type": "stream",
     "text": [
      "root\n",
      " |-- longitude: double (nullable = true)\n",
      " |-- latitude: double (nullable = true)\n",
      " |-- housing_median_age: double (nullable = true)\n",
      " |-- total_rooms: double (nullable = true)\n",
      " |-- total_bedrooms: double (nullable = true)\n",
      " |-- population: double (nullable = true)\n",
      " |-- households: double (nullable = true)\n",
      " |-- median_income: double (nullable = true)\n",
      " |-- median_house_value: double (nullable = true)\n",
      " |-- ocean_proximity: string (nullable = true)\n",
      "\n"
     ]
    }
   ],
   "source": [
    "data.printSchema()"
   ]
  },
  {
   "cell_type": "code",
   "execution_count": 5,
   "id": "18b2427e",
   "metadata": {
    "scrolled": true
   },
   "outputs": [
    {
     "name": "stderr",
     "output_type": "stream",
     "text": [
      "[Stage 2:>                                                          (0 + 1) / 1]\r"
     ]
    },
    {
     "name": "stdout",
     "output_type": "stream",
     "text": [
      "+---------+--------+------------------+-----------+--------------+----------+----------+-------------+------------------+---------------+\n",
      "|longitude|latitude|housing_median_age|total_rooms|total_bedrooms|population|households|median_income|median_house_value|ocean_proximity|\n",
      "+---------+--------+------------------+-----------+--------------+----------+----------+-------------+------------------+---------------+\n",
      "|        0|       0|                 0|          0|           207|         0|         0|            0|                 0|              0|\n",
      "+---------+--------+------------------+-----------+--------------+----------+----------+-------------+------------------+---------------+\n",
      "\n"
     ]
    },
    {
     "name": "stderr",
     "output_type": "stream",
     "text": [
      "                                                                                \r"
     ]
    }
   ],
   "source": [
    "null_df = data.select([F.count(F.when(F.isnan(i) | \\\n",
    "                                          F.col(i).contains('NA') | \\\n",
    "                                          F.col(i).contains('NULL') | \\\n",
    "                                          F.col(i).isNull(), i)).alias(i) \\\n",
    "                                  for i in data.columns])\n",
    "\n",
    "null_df.show()"
   ]
  },
  {
   "cell_type": "markdown",
   "id": "8ccc4591",
   "metadata": {},
   "source": [
    "- Целевой признак -  колонка `median_house_value`. \n",
    "- Данные состоят из числовых и одного категориального столбца `ocean_proximity`. Типы данных `double` и `string` соответсвенно, изменений не требуется.\n",
    "- В столбце `total_bedrooms` обнаружены пропуски."
   ]
  },
  {
   "cell_type": "markdown",
   "id": "53871372",
   "metadata": {
    "id": "53871372"
   },
   "source": [
    "## Подготовка данных <a id=\"2\"></a>"
   ]
  },
  {
   "cell_type": "markdown",
   "id": "8a5493df",
   "metadata": {},
   "source": [
    "1) Для удобства переименуем столбец с целевым признаком, присвоив значение `label`."
   ]
  },
  {
   "cell_type": "code",
   "execution_count": 6,
   "id": "9d1850b8",
   "metadata": {},
   "outputs": [],
   "source": [
    "data = data.withColumnRenamed(\"median_house_value\", \"label\")"
   ]
  },
  {
   "cell_type": "code",
   "execution_count": 7,
   "id": "77d33048",
   "metadata": {
    "scrolled": true
   },
   "outputs": [
    {
     "name": "stdout",
     "output_type": "stream",
     "text": [
      "+--------+\n",
      "|   label|\n",
      "+--------+\n",
      "|452600.0|\n",
      "|358500.0|\n",
      "|352100.0|\n",
      "|341300.0|\n",
      "|342200.0|\n",
      "+--------+\n",
      "only showing top 5 rows\n",
      "\n"
     ]
    }
   ],
   "source": [
    "data.select('label').show(5)"
   ]
  },
  {
   "cell_type": "markdown",
   "id": "9a906ff6",
   "metadata": {},
   "source": [
    "2) Выделим числовые признаки."
   ]
  },
  {
   "cell_type": "code",
   "execution_count": 8,
   "id": "395e6a2b",
   "metadata": {},
   "outputs": [],
   "source": [
    "columns_features_num = data.columns\n",
    "columns_features_num.remove(\"ocean_proximity\")\n",
    "columns_features_num.remove(\"label\")"
   ]
  },
  {
   "cell_type": "markdown",
   "id": "6201a8f5",
   "metadata": {},
   "source": [
    "3) Разделим данные на тестовую и обучающую выборку перед трасформацией."
   ]
  },
  {
   "cell_type": "code",
   "execution_count": 9,
   "id": "dd5f8a1b",
   "metadata": {
    "scrolled": true
   },
   "outputs": [
    {
     "name": "stderr",
     "output_type": "stream",
     "text": [
      "                                                                                \r"
     ]
    },
    {
     "name": "stdout",
     "output_type": "stream",
     "text": [
      "16507 4133\n"
     ]
    }
   ],
   "source": [
    "training_set, test_set = data.randomSplit([0.8, 0.2], 1)\n",
    "print(training_set.count(), test_set.count()) "
   ]
  },
  {
   "cell_type": "markdown",
   "id": "718088a9",
   "metadata": {},
   "source": [
    "4) Создадим трансформер данных с помощью pipeline."
   ]
  },
  {
   "cell_type": "code",
   "execution_count": 10,
   "id": "2dd6049c",
   "metadata": {
    "scrolled": true
   },
   "outputs": [
    {
     "name": "stderr",
     "output_type": "stream",
     "text": [
      "                                                                                \r"
     ]
    },
    {
     "name": "stdout",
     "output_type": "stream",
     "text": [
      "+---------+--------+------------------+-----------+--------------+----------+----------+-------------+--------+---------------+--------------------+--------------------+-----------------------+-------------------+\n",
      "|longitude|latitude|housing_median_age|total_rooms|total_bedrooms|population|households|median_income|   label|ocean_proximity|           vfeatures|              scaled|ocean_proximity_indexed|ocean_proximity_hot|\n",
      "+---------+--------+------------------+-----------+--------------+----------+----------+-------------+--------+---------------+--------------------+--------------------+-----------------------+-------------------+\n",
      "|  -124.35|   40.54|              52.0|     1820.0|         300.0|     806.0|     270.0|       3.0147| 94600.0|     NEAR OCEAN|[-124.35,40.54,52...|[-62.197108857510...|                    2.0|      (4,[2],[1.0])|\n",
      "|   -124.3|    41.8|              19.0|     2672.0|         552.0|    1298.0|     478.0|       1.9797| 85800.0|     NEAR OCEAN|[-124.3,41.8,19.0...|[-62.172099967740...|                    2.0|      (4,[2],[1.0])|\n",
      "|   -124.3|   41.84|              17.0|     2677.0|         531.0|    1244.0|     456.0|       3.0313|103600.0|     NEAR OCEAN|[-124.3,41.84,17....|[-62.172099967740...|                    2.0|      (4,[2],[1.0])|\n",
      "|  -124.27|   40.69|              36.0|     2349.0|         528.0|    1194.0|     465.0|       2.5179| 79000.0|     NEAR OCEAN|[-124.27,40.69,36...|[-62.157094633879...|                    2.0|      (4,[2],[1.0])|\n",
      "|  -124.25|   40.28|              32.0|     1430.0|         419.0|     434.0|     187.0|       1.9417| 76100.0|     NEAR OCEAN|[-124.25,40.28,32...|[-62.147091077971...|                    2.0|      (4,[2],[1.0])|\n",
      "+---------+--------+------------------+-----------+--------------+----------+----------+-------------+--------+---------------+--------------------+--------------------+-----------------------+-------------------+\n",
      "only showing top 5 rows\n",
      "\n"
     ]
    }
   ],
   "source": [
    "# Imputer (заполнение пропусков)\n",
    "imp = Imputer(inputCols = [\"total_bedrooms\"],\n",
    "              outputCols = [\"total_bedrooms\"]).setStrategy(\"median\")\n",
    "\n",
    "# VectorAssembler (векторизация числовых признаков)\n",
    "vec = VectorAssembler(inputCols = columns_features_num,\n",
    "                      outputCol = \"vfeatures\")\n",
    "\n",
    "# StandardScaler (масштабирование числовых признаков)\n",
    "sca = StandardScaler(inputCol = \"vfeatures\",\n",
    "                     outputCol = \"scaled\",\n",
    "                     withStd = True)\n",
    "\n",
    "# numPipeline\n",
    "numPipeline = Pipeline(stages = [imp, vec, sca])\n",
    "\n",
    "# Indexer (индексация категориальных признаков)\n",
    "ind = StringIndexer(inputCol = \"ocean_proximity\", \n",
    "                    outputCol = \"ocean_proximity_indexed\").setHandleInvalid(\"error\")\n",
    "\n",
    "# Encoder (ohe для категориальных признаков)\n",
    "enc = OneHotEncoder(inputCols = [\"ocean_proximity_indexed\"],\n",
    "                             outputCols = [\"ocean_proximity_hot\"])\n",
    "\n",
    "# catPipeline\n",
    "catPipeline = Pipeline(stages = [ind, enc])\n",
    "\n",
    "# Pipeline Assembly\n",
    "pipeline = Pipeline(stages = [numPipeline, catPipeline])\n",
    "\n",
    "# Fit and transform\n",
    "pipemodel = pipeline.fit(training_set)\n",
    "\n",
    "data_train = pipemodel.transform(training_set)\n",
    "data_test = pipemodel.transform(test_set)\n",
    "\n",
    "data_train.show(5)"
   ]
  },
  {
   "cell_type": "code",
   "execution_count": 11,
   "id": "a0b84cfc",
   "metadata": {},
   "outputs": [],
   "source": [
    "# Vector Assembly (объединение трансформированных категориальных и числовых данных)\n",
    "newVec = VectorAssembler(inputCols = [\"scaled\", \"ocean_proximity_hot\"],\n",
    "                         outputCol = \"features\")\n"
   ]
  },
  {
   "cell_type": "code",
   "execution_count": 12,
   "id": "d171a5e4",
   "metadata": {},
   "outputs": [],
   "source": [
    "datatrain = newVec.transform(data_train)\n",
    "datatest = newVec.transform(data_test)"
   ]
  },
  {
   "cell_type": "markdown",
   "id": "9f0a82f3",
   "metadata": {
    "id": "9f0a82f3"
   },
   "source": [
    "## Обучение моделей <a id=\"3\"></a>"
   ]
  },
  {
   "cell_type": "markdown",
   "id": "3e84e25f",
   "metadata": {},
   "source": [
    "1) Обучение на всех данных файла."
   ]
  },
  {
   "cell_type": "code",
   "execution_count": 13,
   "id": "bc5de111",
   "metadata": {},
   "outputs": [
    {
     "name": "stderr",
     "output_type": "stream",
     "text": [
      "23/04/23 08:03:59 WARN Instrumentation: [3c5f3aa0] regParam is zero, which might cause numerical instability and overfitting.\n",
      "23/04/23 08:03:59 WARN BLAS: Failed to load implementation from: com.github.fommil.netlib.NativeSystemBLAS\n",
      "23/04/23 08:03:59 WARN BLAS: Failed to load implementation from: com.github.fommil.netlib.NativeRefBLAS\n",
      "23/04/23 08:04:00 WARN LAPACK: Failed to load implementation from: com.github.fommil.netlib.NativeSystemLAPACK\n",
      "23/04/23 08:04:00 WARN LAPACK: Failed to load implementation from: com.github.fommil.netlib.NativeRefLAPACK\n",
      "                                                                                \r"
     ]
    }
   ],
   "source": [
    "lr = LinearRegression(labelCol='label', featuresCol='features')\n",
    "\n",
    "model = lr.fit(datatrain) "
   ]
  },
  {
   "cell_type": "code",
   "execution_count": 14,
   "id": "19c1d47d",
   "metadata": {},
   "outputs": [
    {
     "name": "stdout",
     "output_type": "stream",
     "text": [
      "[-52016.286939065474,-53204.63398449369,13203.921852460346,-12351.974169540867,29843.725328642802,-43053.56825741572,30367.197674049417,73930.74037788033,-187003.5633910455,-226431.96558833637,-181550.96693509695,-190113.1009098607]\n",
      "rmse: 68711.58132075836\n",
      "mae: 49752.55306255161\n",
      "r2 0.6437946791912978\n"
     ]
    }
   ],
   "source": [
    "print(model.coefficients)\n",
    "print('rmse:', model.summary.rootMeanSquaredError)\n",
    "print('mae:', model.summary.meanAbsoluteError)\n",
    "print('r2', model.summary.r2)"
   ]
  },
  {
   "cell_type": "markdown",
   "id": "779e536c",
   "metadata": {},
   "source": [
    "2) Обучение только на числовых данных."
   ]
  },
  {
   "cell_type": "code",
   "execution_count": 15,
   "id": "29266d63",
   "metadata": {},
   "outputs": [
    {
     "name": "stderr",
     "output_type": "stream",
     "text": [
      "23/04/23 08:04:02 WARN Instrumentation: [76e40add] regParam is zero, which might cause numerical instability and overfitting.\n"
     ]
    }
   ],
   "source": [
    "lr2 = LinearRegression(labelCol='label', featuresCol='vfeatures')\n",
    "\n",
    "model2 = lr2.fit(datatrain) "
   ]
  },
  {
   "cell_type": "code",
   "execution_count": 16,
   "id": "6a67aa6f",
   "metadata": {},
   "outputs": [
    {
     "name": "stdout",
     "output_type": "stream",
     "text": [
      "[-42173.45338895586,-42081.551257577135,1133.8249791510773,-7.437950377894255,80.60555228964593,-38.459232850866634,81.15642504503433,39898.34472732782]\n",
      "rmse: 69676.55888505312\n",
      "mae: 50862.62426319554\n",
      "r2 0.633719411250925\n"
     ]
    }
   ],
   "source": [
    "print(model2.coefficients)\n",
    "print('rmse:', model2.summary.rootMeanSquaredError)\n",
    "print('mae:', model2.summary.meanAbsoluteError)\n",
    "print('r2', model2.summary.r2)"
   ]
  },
  {
   "cell_type": "markdown",
   "id": "757fd103",
   "metadata": {
    "id": "757fd103"
   },
   "source": [
    "## Анализ результатов <a id=\"4\"></a>"
   ]
  },
  {
   "cell_type": "markdown",
   "id": "a4698502",
   "metadata": {},
   "source": [
    "Применение моделей на тестовой выборке:"
   ]
  },
  {
   "cell_type": "code",
   "execution_count": 17,
   "id": "1180959b",
   "metadata": {},
   "outputs": [
    {
     "name": "stdout",
     "output_type": "stream",
     "text": [
      "+------------------+--------+--------------------+\n",
      "|        prediction|   label|            features|\n",
      "+------------------+--------+--------------------+\n",
      "|190400.39422662533|111400.0|[-62.152092855925...|\n",
      "|198108.56428025407| 90100.0|[-62.117080410247...|\n",
      "|176489.41627548845| 69000.0|[-62.117080410247...|\n",
      "|147980.29676334956| 70000.0|[-62.117080410247...|\n",
      "|189445.67376456806|107000.0|[-62.112078632293...|\n",
      "+------------------+--------+--------------------+\n",
      "only showing top 5 rows\n",
      "\n",
      "68744.17100878287\n",
      "0.6512649624726952\n",
      "49956.13783437518\n"
     ]
    }
   ],
   "source": [
    "predictions = model.transform(datatest)\n",
    "predictions.select(\"prediction\", \"label\", \"features\").show(5)\n",
    "\n",
    "evaluator = RegressionEvaluator()\n",
    "rmse = evaluator.evaluate(predictions)\n",
    "r2 = evaluator.evaluate(predictions, {evaluator.metricName: \"r2\"})\n",
    "mae = evaluator.evaluate(predictions, {evaluator.metricName: \"mae\"})\n",
    "print(rmse)\n",
    "print(r2)\n",
    "print(mae)"
   ]
  },
  {
   "cell_type": "code",
   "execution_count": 18,
   "id": "c439a02c",
   "metadata": {},
   "outputs": [
    {
     "name": "stdout",
     "output_type": "stream",
     "text": [
      "+------------------+--------+--------------------+\n",
      "|        prediction|   label|            features|\n",
      "+------------------+--------+--------------------+\n",
      "|163334.31861887267|111400.0|[-62.152092855925...|\n",
      "|165487.47869401937| 90100.0|[-62.117080410247...|\n",
      "| 144213.4960800414| 69000.0|[-62.117080410247...|\n",
      "|115366.31847691815| 70000.0|[-62.117080410247...|\n",
      "| 159791.9323567045|107000.0|[-62.112078632293...|\n",
      "+------------------+--------+--------------------+\n",
      "only showing top 5 rows\n",
      "\n",
      "69617.04280997363\n",
      "0.6423526859730702\n",
      "51032.132464003414\n"
     ]
    }
   ],
   "source": [
    "predictions2 = model2.transform(datatest)\n",
    "predictions2.select(\"prediction\", \"label\", \"features\").show(5)\n",
    "\n",
    "rmse = evaluator.evaluate(predictions2)\n",
    "r2 = evaluator.evaluate(predictions2, {evaluator.metricName: \"r2\"})\n",
    "mae = evaluator.evaluate(predictions2, {evaluator.metricName: \"mae\"})\n",
    "print(rmse)\n",
    "print(r2)\n",
    "print(mae)"
   ]
  },
  {
   "cell_type": "markdown",
   "id": "d27a944b",
   "metadata": {},
   "source": [
    "Качество модели, обученной на всех данных немного выше. В целом, коэффициент детерминации показывает, что обе модели хорошо объясняют данные."
   ]
  },
  {
   "cell_type": "code",
   "execution_count": 19,
   "id": "a0a8e410",
   "metadata": {},
   "outputs": [],
   "source": [
    "spark.stop()"
   ]
  },
  {
   "cell_type": "markdown",
   "id": "e717a386",
   "metadata": {},
   "source": [
    "## Общий вывод <a id=\"5\"></a>"
   ]
  },
  {
   "cell_type": "markdown",
   "id": "b6c98067",
   "metadata": {},
   "source": [
    "В ходе исследования данные были раздены на две выборки: выборку, состоящую только из числовых данных, и выборку, включающую категориальные данные.\n",
    "\n",
    "Данные были подготовлены для обучения модели: заполнены пропуски, проведено кодирование категориальных и масштабирование числовых, а также векторизация данных.\n",
    "\n",
    "Модель линейной регрессии обучена на двух наборах данных. Значение метрики r2 выше на 0.01 при обучении на всех данных. Значения метрик r2, rmse, mae в этом случае равны 0.65, 68744 и 49956 соответсвенно.\n"
   ]
  }
 ],
 "metadata": {
  "ExecuteTimeLog": [
   {
    "duration": 23273,
    "start_time": "2023-04-21T18:49:32.954Z"
   },
   {
    "duration": 10782,
    "start_time": "2023-04-21T18:59:08.774Z"
   },
   {
    "duration": 18,
    "start_time": "2023-04-21T18:59:21.872Z"
   },
   {
    "duration": 838,
    "start_time": "2023-04-21T19:02:02.535Z"
   },
   {
    "duration": 2099,
    "start_time": "2023-04-21T19:06:13.765Z"
   },
   {
    "duration": 26,
    "start_time": "2023-04-21T19:06:22.284Z"
   },
   {
    "duration": 1296,
    "start_time": "2023-04-21T19:07:19.288Z"
   },
   {
    "duration": 4,
    "start_time": "2023-04-21T19:07:23.637Z"
   },
   {
    "duration": 1071,
    "start_time": "2023-04-21T19:07:27.427Z"
   },
   {
    "duration": 48,
    "start_time": "2023-04-21T19:07:28.500Z"
   },
   {
    "duration": 5,
    "start_time": "2023-04-21T19:15:46.818Z"
   },
   {
    "duration": 696,
    "start_time": "2023-04-21T19:15:47.766Z"
   },
   {
    "duration": 4,
    "start_time": "2023-04-21T19:15:49.329Z"
   },
   {
    "duration": 439,
    "start_time": "2023-04-21T19:16:35.179Z"
   },
   {
    "duration": 16643,
    "start_time": "2023-04-21T19:16:35.620Z"
   },
   {
    "duration": 8,
    "start_time": "2023-04-21T19:16:52.265Z"
   },
   {
    "duration": 10479,
    "start_time": "2023-04-21T19:16:52.275Z"
   },
   {
    "duration": 20,
    "start_time": "2023-04-21T19:17:02.757Z"
   },
   {
    "duration": 1605,
    "start_time": "2023-04-21T19:17:02.842Z"
   },
   {
    "duration": 30,
    "start_time": "2023-04-21T19:17:04.449Z"
   },
   {
    "duration": 3,
    "start_time": "2023-04-21T19:30:52.283Z"
   },
   {
    "duration": 567,
    "start_time": "2023-04-21T19:36:35.774Z"
   },
   {
    "duration": 4,
    "start_time": "2023-04-21T19:36:52.472Z"
   },
   {
    "duration": 487,
    "start_time": "2023-04-21T19:37:33.425Z"
   },
   {
    "duration": 15926,
    "start_time": "2023-04-21T19:37:33.915Z"
   },
   {
    "duration": 9520,
    "start_time": "2023-04-21T19:37:49.844Z"
   },
   {
    "duration": 81,
    "start_time": "2023-04-21T19:37:59.367Z"
   },
   {
    "duration": 4,
    "start_time": "2023-04-21T19:37:59.450Z"
   },
   {
    "duration": 598,
    "start_time": "2023-04-21T19:37:59.456Z"
   },
   {
    "duration": 5,
    "start_time": "2023-04-21T19:38:00.056Z"
   },
   {
    "duration": 15,
    "start_time": "2023-04-21T19:38:00.063Z"
   },
   {
    "duration": 15,
    "start_time": "2023-04-21T19:38:00.080Z"
   },
   {
    "duration": 510,
    "start_time": "2023-04-21T19:49:23.921Z"
   },
   {
    "duration": 16444,
    "start_time": "2023-04-21T19:49:24.434Z"
   },
   {
    "duration": 10365,
    "start_time": "2023-04-21T19:49:40.881Z"
   },
   {
    "duration": 31,
    "start_time": "2023-04-21T19:49:51.250Z"
   },
   {
    "duration": 4,
    "start_time": "2023-04-21T19:49:51.342Z"
   },
   {
    "duration": 801,
    "start_time": "2023-04-21T19:49:51.348Z"
   },
   {
    "duration": 4,
    "start_time": "2023-04-21T19:49:52.152Z"
   },
   {
    "duration": 17,
    "start_time": "2023-04-21T19:49:52.158Z"
   },
   {
    "duration": 63,
    "start_time": "2023-04-21T19:49:52.178Z"
   },
   {
    "duration": 1907,
    "start_time": "2023-04-21T19:50:06.669Z"
   },
   {
    "duration": 32,
    "start_time": "2023-04-21T19:50:12.354Z"
   },
   {
    "duration": 704,
    "start_time": "2023-04-21T19:52:26.556Z"
   },
   {
    "duration": 493,
    "start_time": "2023-04-21T19:53:18.535Z"
   },
   {
    "duration": 16326,
    "start_time": "2023-04-21T19:53:19.030Z"
   },
   {
    "duration": 12102,
    "start_time": "2023-04-21T19:53:35.359Z"
   },
   {
    "duration": 83,
    "start_time": "2023-04-21T19:53:47.463Z"
   },
   {
    "duration": 6,
    "start_time": "2023-04-21T19:53:47.551Z"
   },
   {
    "duration": 14,
    "start_time": "2023-04-21T19:53:47.559Z"
   },
   {
    "duration": 5,
    "start_time": "2023-04-21T19:53:47.575Z"
   },
   {
    "duration": 1410,
    "start_time": "2023-04-21T19:53:47.640Z"
   },
   {
    "duration": 89,
    "start_time": "2023-04-21T19:53:49.053Z"
   },
   {
    "duration": 496,
    "start_time": "2023-04-21T20:00:04.609Z"
   },
   {
    "duration": 16666,
    "start_time": "2023-04-21T20:00:05.108Z"
   },
   {
    "duration": 9985,
    "start_time": "2023-04-21T20:00:21.776Z"
   },
   {
    "duration": 78,
    "start_time": "2023-04-21T20:00:31.763Z"
   },
   {
    "duration": 20,
    "start_time": "2023-04-21T20:00:31.844Z"
   },
   {
    "duration": 280,
    "start_time": "2023-04-21T20:00:31.866Z"
   },
   {
    "duration": 0,
    "start_time": "2023-04-21T20:00:32.148Z"
   },
   {
    "duration": 0,
    "start_time": "2023-04-21T20:00:32.149Z"
   },
   {
    "duration": 0,
    "start_time": "2023-04-21T20:00:32.151Z"
   },
   {
    "duration": 559,
    "start_time": "2023-04-21T20:11:39.147Z"
   },
   {
    "duration": 185,
    "start_time": "2023-04-21T20:12:39.984Z"
   },
   {
    "duration": 121,
    "start_time": "2023-04-21T20:15:02.033Z"
   },
   {
    "duration": 3609,
    "start_time": "2023-04-21T20:15:24.177Z"
   },
   {
    "duration": 29,
    "start_time": "2023-04-21T20:15:28.660Z"
   },
   {
    "duration": 434,
    "start_time": "2023-04-21T20:16:54.677Z"
   },
   {
    "duration": 16472,
    "start_time": "2023-04-21T20:16:55.114Z"
   },
   {
    "duration": 10410,
    "start_time": "2023-04-21T20:17:11.641Z"
   },
   {
    "duration": 19,
    "start_time": "2023-04-21T20:17:22.054Z"
   },
   {
    "duration": 80,
    "start_time": "2023-04-21T20:17:22.075Z"
   },
   {
    "duration": 26,
    "start_time": "2023-04-21T20:17:22.157Z"
   },
   {
    "duration": 1488,
    "start_time": "2023-04-21T20:17:22.185Z"
   },
   {
    "duration": 77,
    "start_time": "2023-04-21T20:17:23.675Z"
   },
   {
    "duration": 9,
    "start_time": "2023-04-21T20:17:57.299Z"
   },
   {
    "duration": 74,
    "start_time": "2023-04-21T20:18:21.998Z"
   },
   {
    "duration": 9,
    "start_time": "2023-04-21T20:18:32.054Z"
   },
   {
    "duration": 10,
    "start_time": "2023-04-21T20:18:38.218Z"
   },
   {
    "duration": 5,
    "start_time": "2023-04-21T20:18:56.782Z"
   },
   {
    "duration": 450,
    "start_time": "2023-04-21T20:19:50.869Z"
   },
   {
    "duration": 16445,
    "start_time": "2023-04-21T20:19:51.321Z"
   },
   {
    "duration": 10485,
    "start_time": "2023-04-21T20:20:07.768Z"
   },
   {
    "duration": 25,
    "start_time": "2023-04-21T20:20:18.256Z"
   },
   {
    "duration": 4,
    "start_time": "2023-04-21T20:20:18.342Z"
   },
   {
    "duration": 94,
    "start_time": "2023-04-21T20:20:18.348Z"
   },
   {
    "duration": 0,
    "start_time": "2023-04-21T20:20:18.444Z"
   },
   {
    "duration": 103,
    "start_time": "2023-04-21T20:21:47.523Z"
   },
   {
    "duration": 11,
    "start_time": "2023-04-21T20:22:21.613Z"
   },
   {
    "duration": 545,
    "start_time": "2023-04-21T20:27:08.943Z"
   },
   {
    "duration": 191,
    "start_time": "2023-04-21T20:28:02.674Z"
   },
   {
    "duration": 76,
    "start_time": "2023-04-21T20:29:29.679Z"
   },
   {
    "duration": 93,
    "start_time": "2023-04-21T20:31:00.006Z"
   },
   {
    "duration": 19,
    "start_time": "2023-04-21T20:33:04.600Z"
   },
   {
    "duration": 71,
    "start_time": "2023-04-21T20:33:33.284Z"
   },
   {
    "duration": 1370,
    "start_time": "2023-04-21T20:35:19.811Z"
   },
   {
    "duration": 17,
    "start_time": "2023-04-21T20:38:09.015Z"
   },
   {
    "duration": 485,
    "start_time": "2023-04-21T20:38:27.430Z"
   },
   {
    "duration": 16831,
    "start_time": "2023-04-21T20:38:27.917Z"
   },
   {
    "duration": 10801,
    "start_time": "2023-04-21T20:38:44.750Z"
   },
   {
    "duration": 18,
    "start_time": "2023-04-21T20:38:55.553Z"
   },
   {
    "duration": 1703,
    "start_time": "2023-04-21T20:38:55.573Z"
   },
   {
    "duration": 31,
    "start_time": "2023-04-21T20:39:06.811Z"
   },
   {
    "duration": 15,
    "start_time": "2023-04-21T20:41:57.971Z"
   },
   {
    "duration": 660,
    "start_time": "2023-04-21T20:54:08.195Z"
   },
   {
    "duration": 682,
    "start_time": "2023-04-21T20:55:21.678Z"
   },
   {
    "duration": 69,
    "start_time": "2023-04-21T20:56:35.480Z"
   },
   {
    "duration": 13,
    "start_time": "2023-04-21T20:57:25.973Z"
   },
   {
    "duration": 20,
    "start_time": "2023-04-21T20:58:52.574Z"
   },
   {
    "duration": 4,
    "start_time": "2023-04-21T21:01:17.081Z"
   },
   {
    "duration": 360,
    "start_time": "2023-04-21T21:08:05.526Z"
   },
   {
    "duration": 4450,
    "start_time": "2023-04-21T21:08:06.605Z"
   },
   {
    "duration": 794,
    "start_time": "2023-04-21T21:08:43.482Z"
   },
   {
    "duration": 593,
    "start_time": "2023-04-21T21:09:23.781Z"
   },
   {
    "duration": 699,
    "start_time": "2023-04-21T21:09:37.907Z"
   },
   {
    "duration": 517,
    "start_time": "2023-04-21T21:09:45.939Z"
   },
   {
    "duration": 22,
    "start_time": "2023-04-21T21:17:56.940Z"
   },
   {
    "duration": 3,
    "start_time": "2023-04-21T21:18:26.399Z"
   },
   {
    "duration": 69,
    "start_time": "2023-04-21T21:18:27.190Z"
   },
   {
    "duration": 2858,
    "start_time": "2023-04-21T21:24:09.706Z"
   },
   {
    "duration": 852,
    "start_time": "2023-04-21T21:26:16.219Z"
   },
   {
    "duration": 480,
    "start_time": "2023-04-21T21:26:29.387Z"
   },
   {
    "duration": 757,
    "start_time": "2023-04-21T21:26:37.579Z"
   },
   {
    "duration": 410,
    "start_time": "2023-04-21T21:28:27.882Z"
   },
   {
    "duration": 464,
    "start_time": "2023-04-21T21:28:45.144Z"
   },
   {
    "duration": 320,
    "start_time": "2023-04-21T21:29:11.191Z"
   },
   {
    "duration": 604,
    "start_time": "2023-04-21T21:29:25.473Z"
   },
   {
    "duration": 3,
    "start_time": "2023-04-21T21:34:14.249Z"
   },
   {
    "duration": 811,
    "start_time": "2023-04-21T21:35:24.558Z"
   },
   {
    "duration": 2088,
    "start_time": "2023-04-21T21:36:07.573Z"
   },
   {
    "duration": 10,
    "start_time": "2023-04-21T21:40:28.551Z"
   },
   {
    "duration": 95,
    "start_time": "2023-04-21T21:40:52.052Z"
   },
   {
    "duration": 472,
    "start_time": "2023-04-21T21:47:35.145Z"
   },
   {
    "duration": 4,
    "start_time": "2023-04-21T21:47:44.461Z"
   },
   {
    "duration": 40,
    "start_time": "2023-04-21T21:48:00.841Z"
   },
   {
    "duration": 1435,
    "start_time": "2023-04-21T21:48:36.220Z"
   },
   {
    "duration": 6,
    "start_time": "2023-04-21T21:49:10.441Z"
   },
   {
    "duration": 543,
    "start_time": "2023-04-21T21:49:56.498Z"
   },
   {
    "duration": 9,
    "start_time": "2023-04-21T21:50:24.149Z"
   },
   {
    "duration": 2,
    "start_time": "2023-04-21T21:50:57.359Z"
   },
   {
    "duration": 3506,
    "start_time": "2023-04-21T21:50:58.071Z"
   },
   {
    "duration": 2,
    "start_time": "2023-04-21T21:54:42.723Z"
   },
   {
    "duration": 615,
    "start_time": "2023-04-21T21:55:29.450Z"
   },
   {
    "duration": 4,
    "start_time": "2023-04-21T21:55:38.414Z"
   },
   {
    "duration": 3,
    "start_time": "2023-04-21T21:57:13.412Z"
   },
   {
    "duration": 457,
    "start_time": "2023-04-21T21:57:27.548Z"
   },
   {
    "duration": 3,
    "start_time": "2023-04-21T21:57:28.007Z"
   },
   {
    "duration": 15975,
    "start_time": "2023-04-21T21:57:28.012Z"
   },
   {
    "duration": 9919,
    "start_time": "2023-04-21T21:57:44.040Z"
   },
   {
    "duration": 84,
    "start_time": "2023-04-21T21:57:53.961Z"
   },
   {
    "duration": 1338,
    "start_time": "2023-04-21T21:57:54.047Z"
   },
   {
    "duration": 414,
    "start_time": "2023-04-21T21:57:55.442Z"
   },
   {
    "duration": 4390,
    "start_time": "2023-04-21T21:57:55.860Z"
   },
   {
    "duration": 1339,
    "start_time": "2023-04-21T21:58:00.252Z"
   },
   {
    "duration": 91,
    "start_time": "2023-04-21T21:58:01.594Z"
   },
   {
    "duration": 0,
    "start_time": "2023-04-21T21:58:01.688Z"
   },
   {
    "duration": 0,
    "start_time": "2023-04-21T21:58:01.689Z"
   },
   {
    "duration": 0,
    "start_time": "2023-04-21T21:58:01.690Z"
   },
   {
    "duration": 0,
    "start_time": "2023-04-21T21:58:01.691Z"
   },
   {
    "duration": 0,
    "start_time": "2023-04-21T21:58:01.692Z"
   },
   {
    "duration": 0,
    "start_time": "2023-04-21T21:58:01.693Z"
   },
   {
    "duration": 0,
    "start_time": "2023-04-21T21:58:01.694Z"
   },
   {
    "duration": 0,
    "start_time": "2023-04-21T21:58:01.695Z"
   },
   {
    "duration": 0,
    "start_time": "2023-04-21T21:58:01.696Z"
   },
   {
    "duration": 0,
    "start_time": "2023-04-21T21:58:01.697Z"
   },
   {
    "duration": 0,
    "start_time": "2023-04-21T21:58:01.698Z"
   },
   {
    "duration": 0,
    "start_time": "2023-04-21T21:58:01.699Z"
   },
   {
    "duration": 0,
    "start_time": "2023-04-21T21:58:01.700Z"
   },
   {
    "duration": 0,
    "start_time": "2023-04-21T21:58:01.702Z"
   },
   {
    "duration": 0,
    "start_time": "2023-04-21T21:58:01.703Z"
   },
   {
    "duration": 27,
    "start_time": "2023-04-21T21:59:26.023Z"
   },
   {
    "duration": 9,
    "start_time": "2023-04-21T22:00:09.375Z"
   },
   {
    "duration": 9,
    "start_time": "2023-04-21T22:00:26.498Z"
   },
   {
    "duration": 78,
    "start_time": "2023-04-21T22:00:57.083Z"
   },
   {
    "duration": 79,
    "start_time": "2023-04-21T22:01:04.172Z"
   },
   {
    "duration": 3,
    "start_time": "2023-04-21T22:01:51.484Z"
   },
   {
    "duration": 2267,
    "start_time": "2023-04-21T22:01:52.498Z"
   },
   {
    "duration": 1053,
    "start_time": "2023-04-21T22:01:55.900Z"
   },
   {
    "duration": 3,
    "start_time": "2023-04-21T22:01:57.914Z"
   },
   {
    "duration": 299,
    "start_time": "2023-04-21T22:02:00.158Z"
   },
   {
    "duration": 2227,
    "start_time": "2023-04-21T22:02:00.828Z"
   },
   {
    "duration": 8,
    "start_time": "2023-04-21T22:02:03.058Z"
   },
   {
    "duration": 0,
    "start_time": "2023-04-21T22:02:03.068Z"
   },
   {
    "duration": 0,
    "start_time": "2023-04-21T22:02:03.069Z"
   },
   {
    "duration": 0,
    "start_time": "2023-04-21T22:02:03.070Z"
   },
   {
    "duration": 0,
    "start_time": "2023-04-21T22:02:03.071Z"
   },
   {
    "duration": 0,
    "start_time": "2023-04-21T22:02:03.073Z"
   },
   {
    "duration": 0,
    "start_time": "2023-04-21T22:02:03.074Z"
   },
   {
    "duration": 9,
    "start_time": "2023-04-21T22:02:03.428Z"
   },
   {
    "duration": 3,
    "start_time": "2023-04-21T22:03:04.330Z"
   },
   {
    "duration": 55,
    "start_time": "2023-04-21T22:03:05.689Z"
   },
   {
    "duration": 640,
    "start_time": "2023-04-21T22:03:06.839Z"
   },
   {
    "duration": 90,
    "start_time": "2023-04-21T22:03:07.481Z"
   },
   {
    "duration": 1488,
    "start_time": "2023-04-21T22:03:07.864Z"
   },
   {
    "duration": 5,
    "start_time": "2023-04-21T22:03:09.355Z"
   },
   {
    "duration": 679,
    "start_time": "2023-04-21T22:03:13.885Z"
   },
   {
    "duration": 3,
    "start_time": "2023-04-21T22:03:14.566Z"
   },
   {
    "duration": 3247,
    "start_time": "2023-04-21T22:03:15.114Z"
   },
   {
    "duration": 4,
    "start_time": "2023-04-21T22:03:18.363Z"
   },
   {
    "duration": 133003,
    "start_time": "2023-04-21T22:03:20.700Z"
   },
   {
    "duration": 3,
    "start_time": "2023-04-21T22:09:15.054Z"
   },
   {
    "duration": 124484,
    "start_time": "2023-04-21T22:10:01.183Z"
   },
   {
    "duration": 1012123,
    "start_time": "2023-04-21T22:12:08.320Z"
   },
   {
    "duration": 756,
    "start_time": "2023-04-21T22:53:14.932Z"
   },
   {
    "duration": 26475,
    "start_time": "2023-04-21T22:53:15.691Z"
   },
   {
    "duration": 1476,
    "start_time": "2023-04-21T22:53:42.168Z"
   },
   {
    "duration": 3926,
    "start_time": "2023-04-21T22:53:43.646Z"
   },
   {
    "duration": 1215,
    "start_time": "2023-04-21T22:53:47.643Z"
   },
   {
    "duration": 4,
    "start_time": "2023-04-21T22:53:48.860Z"
   },
   {
    "duration": 801,
    "start_time": "2023-04-21T22:53:48.866Z"
   },
   {
    "duration": 178,
    "start_time": "2023-04-21T22:53:49.669Z"
   },
   {
    "duration": 0,
    "start_time": "2023-04-21T22:53:49.849Z"
   },
   {
    "duration": 0,
    "start_time": "2023-04-21T22:53:49.850Z"
   },
   {
    "duration": 0,
    "start_time": "2023-04-21T22:53:49.852Z"
   },
   {
    "duration": 0,
    "start_time": "2023-04-21T22:53:49.853Z"
   },
   {
    "duration": 0,
    "start_time": "2023-04-21T22:53:49.855Z"
   },
   {
    "duration": 0,
    "start_time": "2023-04-21T22:53:49.857Z"
   },
   {
    "duration": 0,
    "start_time": "2023-04-21T22:53:49.858Z"
   },
   {
    "duration": 0,
    "start_time": "2023-04-21T22:53:49.860Z"
   },
   {
    "duration": 2701,
    "start_time": "2023-04-21T22:54:00.267Z"
   },
   {
    "duration": 3172,
    "start_time": "2023-04-21T22:54:02.971Z"
   },
   {
    "duration": 0,
    "start_time": "2023-04-21T22:54:06.145Z"
   },
   {
    "duration": 0,
    "start_time": "2023-04-21T22:54:06.146Z"
   },
   {
    "duration": 0,
    "start_time": "2023-04-21T22:54:06.147Z"
   },
   {
    "duration": 0,
    "start_time": "2023-04-21T22:54:06.148Z"
   },
   {
    "duration": 0,
    "start_time": "2023-04-21T22:54:06.149Z"
   },
   {
    "duration": 0,
    "start_time": "2023-04-21T22:54:06.150Z"
   },
   {
    "duration": 0,
    "start_time": "2023-04-21T22:54:06.151Z"
   },
   {
    "duration": 140,
    "start_time": "2023-04-21T22:54:33.406Z"
   },
   {
    "duration": 145,
    "start_time": "2023-04-21T22:56:01.629Z"
   },
   {
    "duration": 704,
    "start_time": "2023-04-21T22:56:24.781Z"
   },
   {
    "duration": 25955,
    "start_time": "2023-04-21T22:56:25.487Z"
   },
   {
    "duration": 1440,
    "start_time": "2023-04-21T22:56:51.445Z"
   },
   {
    "duration": 4278,
    "start_time": "2023-04-21T22:56:52.887Z"
   },
   {
    "duration": 1292,
    "start_time": "2023-04-21T22:56:57.168Z"
   },
   {
    "duration": 3,
    "start_time": "2023-04-21T22:56:58.462Z"
   },
   {
    "duration": 881,
    "start_time": "2023-04-21T22:56:58.466Z"
   },
   {
    "duration": 3392,
    "start_time": "2023-04-21T22:56:59.349Z"
   },
   {
    "duration": 3126,
    "start_time": "2023-04-21T22:57:02.744Z"
   },
   {
    "duration": 387,
    "start_time": "2023-04-21T22:57:05.873Z"
   },
   {
    "duration": 183,
    "start_time": "2023-04-21T22:57:06.262Z"
   },
   {
    "duration": 114,
    "start_time": "2023-04-21T22:57:06.447Z"
   },
   {
    "duration": 1920,
    "start_time": "2023-04-21T22:57:06.563Z"
   },
   {
    "duration": 0,
    "start_time": "2023-04-21T22:57:08.541Z"
   },
   {
    "duration": 0,
    "start_time": "2023-04-21T22:57:08.543Z"
   },
   {
    "duration": 0,
    "start_time": "2023-04-21T22:57:08.544Z"
   },
   {
    "duration": 0,
    "start_time": "2023-04-21T22:57:08.545Z"
   },
   {
    "duration": 111,
    "start_time": "2023-04-21T22:57:36.321Z"
   },
   {
    "duration": 753,
    "start_time": "2023-04-21T22:57:45.339Z"
   },
   {
    "duration": 26758,
    "start_time": "2023-04-21T22:57:46.094Z"
   },
   {
    "duration": 1695,
    "start_time": "2023-04-21T22:58:12.854Z"
   },
   {
    "duration": 4200,
    "start_time": "2023-04-21T22:58:14.552Z"
   },
   {
    "duration": 1398,
    "start_time": "2023-04-21T22:58:18.754Z"
   },
   {
    "duration": 3,
    "start_time": "2023-04-21T22:58:20.153Z"
   },
   {
    "duration": 813,
    "start_time": "2023-04-21T22:58:20.158Z"
   },
   {
    "duration": 2989,
    "start_time": "2023-04-21T22:58:20.973Z"
   },
   {
    "duration": 2907,
    "start_time": "2023-04-21T22:58:23.964Z"
   },
   {
    "duration": 498,
    "start_time": "2023-04-21T22:58:26.874Z"
   },
   {
    "duration": 184,
    "start_time": "2023-04-21T22:58:27.374Z"
   },
   {
    "duration": 108,
    "start_time": "2023-04-21T22:58:27.561Z"
   },
   {
    "duration": 2477,
    "start_time": "2023-04-21T22:58:27.671Z"
   },
   {
    "duration": 10,
    "start_time": "2023-04-21T22:58:30.150Z"
   },
   {
    "duration": 221,
    "start_time": "2023-04-21T22:58:30.162Z"
   },
   {
    "duration": 0,
    "start_time": "2023-04-21T22:58:30.385Z"
   },
   {
    "duration": 0,
    "start_time": "2023-04-21T22:58:30.386Z"
   },
   {
    "duration": 692,
    "start_time": "2023-04-21T22:59:12.402Z"
   },
   {
    "duration": 25346,
    "start_time": "2023-04-21T22:59:13.096Z"
   },
   {
    "duration": 1526,
    "start_time": "2023-04-21T22:59:38.444Z"
   },
   {
    "duration": 4382,
    "start_time": "2023-04-21T22:59:39.973Z"
   },
   {
    "duration": 1502,
    "start_time": "2023-04-21T22:59:44.358Z"
   },
   {
    "duration": 3,
    "start_time": "2023-04-21T22:59:45.862Z"
   },
   {
    "duration": 978,
    "start_time": "2023-04-21T22:59:45.867Z"
   },
   {
    "duration": 2846,
    "start_time": "2023-04-21T22:59:46.847Z"
   },
   {
    "duration": 3118,
    "start_time": "2023-04-21T22:59:49.743Z"
   },
   {
    "duration": 504,
    "start_time": "2023-04-21T22:59:52.864Z"
   },
   {
    "duration": 179,
    "start_time": "2023-04-21T22:59:53.370Z"
   },
   {
    "duration": 190,
    "start_time": "2023-04-21T22:59:53.552Z"
   },
   {
    "duration": 2515,
    "start_time": "2023-04-21T22:59:53.744Z"
   },
   {
    "duration": 8,
    "start_time": "2023-04-21T22:59:56.260Z"
   },
   {
    "duration": 1071,
    "start_time": "2023-04-21T22:59:56.270Z"
   },
   {
    "duration": 4106,
    "start_time": "2023-04-21T22:59:57.343Z"
   },
   {
    "duration": 2208,
    "start_time": "2023-04-21T23:00:01.451Z"
   },
   {
    "duration": 1765,
    "start_time": "2023-04-21T23:08:13.513Z"
   },
   {
    "duration": 8,
    "start_time": "2023-04-21T23:09:10.642Z"
   },
   {
    "duration": 6,
    "start_time": "2023-04-21T23:11:37.950Z"
   },
   {
    "duration": 5,
    "start_time": "2023-04-21T23:12:03.198Z"
   },
   {
    "duration": 84,
    "start_time": "2023-04-21T23:15:42.355Z"
   },
   {
    "duration": 8,
    "start_time": "2023-04-21T23:15:58.866Z"
   },
   {
    "duration": 48,
    "start_time": "2023-04-21T23:16:23.817Z"
   },
   {
    "duration": 3,
    "start_time": "2023-04-21T23:16:54.764Z"
   },
   {
    "duration": 48,
    "start_time": "2023-04-21T23:20:51.700Z"
   },
   {
    "duration": 677,
    "start_time": "2023-04-21T23:22:25.322Z"
   },
   {
    "duration": 721,
    "start_time": "2023-04-21T23:23:13.335Z"
   },
   {
    "duration": 493,
    "start_time": "2023-04-21T23:24:00.295Z"
   },
   {
    "duration": 188,
    "start_time": "2023-04-21T23:24:58.588Z"
   },
   {
    "duration": 542,
    "start_time": "2023-04-21T23:25:14.916Z"
   },
   {
    "duration": 438,
    "start_time": "2023-04-21T23:26:32.435Z"
   },
   {
    "duration": 215,
    "start_time": "2023-04-21T23:29:37.045Z"
   },
   {
    "duration": 569,
    "start_time": "2023-04-21T23:30:11.204Z"
   },
   {
    "duration": 380,
    "start_time": "2023-04-21T23:30:39.083Z"
   },
   {
    "duration": 2036,
    "start_time": "2023-04-21T23:31:13.932Z"
   },
   {
    "duration": 1306,
    "start_time": "2023-04-21T23:38:24.773Z"
   },
   {
    "duration": 392,
    "start_time": "2023-04-21T23:41:09.521Z"
   },
   {
    "duration": 4969,
    "start_time": "2023-04-21T23:42:58.719Z"
   },
   {
    "duration": 687,
    "start_time": "2023-04-21T23:54:24.598Z"
   },
   {
    "duration": 24587,
    "start_time": "2023-04-21T23:54:25.287Z"
   },
   {
    "duration": 1480,
    "start_time": "2023-04-21T23:54:49.876Z"
   },
   {
    "duration": 4290,
    "start_time": "2023-04-21T23:54:51.359Z"
   },
   {
    "duration": 1163,
    "start_time": "2023-04-21T23:54:55.651Z"
   },
   {
    "duration": 26,
    "start_time": "2023-04-21T23:54:56.816Z"
   },
   {
    "duration": 719,
    "start_time": "2023-04-21T23:54:56.845Z"
   },
   {
    "duration": 3080,
    "start_time": "2023-04-21T23:54:57.566Z"
   },
   {
    "duration": 5,
    "start_time": "2023-04-21T23:55:00.648Z"
   },
   {
    "duration": 417,
    "start_time": "2023-04-21T23:55:00.656Z"
   },
   {
    "duration": 0,
    "start_time": "2023-04-21T23:55:01.075Z"
   },
   {
    "duration": 0,
    "start_time": "2023-04-21T23:55:01.076Z"
   },
   {
    "duration": 0,
    "start_time": "2023-04-21T23:55:01.077Z"
   },
   {
    "duration": 0,
    "start_time": "2023-04-21T23:55:01.141Z"
   },
   {
    "duration": 0,
    "start_time": "2023-04-21T23:55:01.143Z"
   },
   {
    "duration": 0,
    "start_time": "2023-04-21T23:55:01.144Z"
   },
   {
    "duration": 0,
    "start_time": "2023-04-21T23:55:01.146Z"
   },
   {
    "duration": 0,
    "start_time": "2023-04-21T23:55:01.149Z"
   },
   {
    "duration": 0,
    "start_time": "2023-04-21T23:55:01.151Z"
   },
   {
    "duration": 0,
    "start_time": "2023-04-21T23:55:01.152Z"
   },
   {
    "duration": 771,
    "start_time": "2023-04-21T23:56:19.375Z"
   },
   {
    "duration": 24810,
    "start_time": "2023-04-21T23:56:20.148Z"
   },
   {
    "duration": 1420,
    "start_time": "2023-04-21T23:56:44.960Z"
   },
   {
    "duration": 3859,
    "start_time": "2023-04-21T23:56:46.383Z"
   },
   {
    "duration": 1063,
    "start_time": "2023-04-21T23:56:50.244Z"
   },
   {
    "duration": 2,
    "start_time": "2023-04-21T23:56:51.309Z"
   },
   {
    "duration": 829,
    "start_time": "2023-04-21T23:56:51.313Z"
   },
   {
    "duration": 2722,
    "start_time": "2023-04-21T23:56:52.144Z"
   },
   {
    "duration": 2880,
    "start_time": "2023-04-21T23:56:54.868Z"
   },
   {
    "duration": 269,
    "start_time": "2023-04-21T23:56:57.751Z"
   },
   {
    "duration": 0,
    "start_time": "2023-04-21T23:56:58.023Z"
   },
   {
    "duration": 0,
    "start_time": "2023-04-21T23:56:58.024Z"
   },
   {
    "duration": 0,
    "start_time": "2023-04-21T23:56:58.025Z"
   },
   {
    "duration": 0,
    "start_time": "2023-04-21T23:56:58.026Z"
   },
   {
    "duration": 0,
    "start_time": "2023-04-21T23:56:58.028Z"
   },
   {
    "duration": 0,
    "start_time": "2023-04-21T23:56:58.029Z"
   },
   {
    "duration": 0,
    "start_time": "2023-04-21T23:56:58.030Z"
   },
   {
    "duration": 0,
    "start_time": "2023-04-21T23:56:58.031Z"
   },
   {
    "duration": 0,
    "start_time": "2023-04-21T23:56:58.032Z"
   },
   {
    "duration": 0,
    "start_time": "2023-04-21T23:56:58.033Z"
   },
   {
    "duration": 362,
    "start_time": "2023-04-21T23:57:41.779Z"
   },
   {
    "duration": 120,
    "start_time": "2023-04-21T23:57:45.535Z"
   },
   {
    "duration": 772,
    "start_time": "2023-04-21T23:59:28.322Z"
   },
   {
    "duration": 26167,
    "start_time": "2023-04-21T23:59:29.097Z"
   },
   {
    "duration": 1404,
    "start_time": "2023-04-21T23:59:55.266Z"
   },
   {
    "duration": 3879,
    "start_time": "2023-04-21T23:59:56.672Z"
   },
   {
    "duration": 1218,
    "start_time": "2023-04-22T00:00:00.555Z"
   },
   {
    "duration": 2,
    "start_time": "2023-04-22T00:00:01.776Z"
   },
   {
    "duration": 877,
    "start_time": "2023-04-22T00:00:01.780Z"
   },
   {
    "duration": 2798,
    "start_time": "2023-04-22T00:00:02.659Z"
   },
   {
    "duration": 3182,
    "start_time": "2023-04-22T00:00:05.459Z"
   },
   {
    "duration": 422,
    "start_time": "2023-04-22T00:00:08.644Z"
   },
   {
    "duration": 178,
    "start_time": "2023-04-22T00:00:09.069Z"
   },
   {
    "duration": 116,
    "start_time": "2023-04-22T00:00:09.249Z"
   },
   {
    "duration": 2286,
    "start_time": "2023-04-22T00:00:09.367Z"
   },
   {
    "duration": 10,
    "start_time": "2023-04-22T00:00:11.656Z"
   },
   {
    "duration": 874,
    "start_time": "2023-04-22T00:00:11.668Z"
   },
   {
    "duration": 3527,
    "start_time": "2023-04-22T00:00:12.545Z"
   },
   {
    "duration": 67,
    "start_time": "2023-04-22T00:00:16.074Z"
   },
   {
    "duration": 703,
    "start_time": "2023-04-22T00:00:16.143Z"
   },
   {
    "duration": 139,
    "start_time": "2023-04-22T00:00:16.848Z"
   },
   {
    "duration": 0,
    "start_time": "2023-04-22T00:00:17.041Z"
   },
   {
    "duration": 4,
    "start_time": "2023-04-22T00:01:21.417Z"
   },
   {
    "duration": 1990,
    "start_time": "2023-04-22T00:01:22.262Z"
   },
   {
    "duration": 777,
    "start_time": "2023-04-22T00:04:02.813Z"
   },
   {
    "duration": 26176,
    "start_time": "2023-04-22T00:04:03.592Z"
   },
   {
    "duration": 1409,
    "start_time": "2023-04-22T00:04:29.770Z"
   },
   {
    "duration": 3991,
    "start_time": "2023-04-22T00:04:31.182Z"
   },
   {
    "duration": 1189,
    "start_time": "2023-04-22T00:04:35.175Z"
   },
   {
    "duration": 3,
    "start_time": "2023-04-22T00:04:36.366Z"
   },
   {
    "duration": 799,
    "start_time": "2023-04-22T00:04:36.370Z"
   },
   {
    "duration": 2201,
    "start_time": "2023-04-22T00:04:37.171Z"
   },
   {
    "duration": 368,
    "start_time": "2023-04-22T00:04:39.374Z"
   },
   {
    "duration": 110,
    "start_time": "2023-04-22T00:04:39.745Z"
   },
   {
    "duration": 95,
    "start_time": "2023-04-22T00:04:39.857Z"
   },
   {
    "duration": 1510,
    "start_time": "2023-04-22T00:04:39.955Z"
   },
   {
    "duration": 10,
    "start_time": "2023-04-22T00:04:41.467Z"
   },
   {
    "duration": 621,
    "start_time": "2023-04-22T00:04:41.542Z"
   },
   {
    "duration": 3590,
    "start_time": "2023-04-22T00:04:42.165Z"
   },
   {
    "duration": 4301,
    "start_time": "2023-04-22T00:04:45.758Z"
   },
   {
    "duration": 3,
    "start_time": "2023-04-22T00:04:50.061Z"
   },
   {
    "duration": 1095,
    "start_time": "2023-04-22T00:04:50.065Z"
   },
   {
    "duration": 3,
    "start_time": "2023-04-22T00:04:51.162Z"
   },
   {
    "duration": 2593,
    "start_time": "2023-04-22T00:04:51.166Z"
   },
   {
    "duration": 133,
    "start_time": "2023-04-22T00:04:53.761Z"
   },
   {
    "duration": 4,
    "start_time": "2023-04-22T00:20:24.336Z"
   },
   {
    "duration": 759,
    "start_time": "2023-04-22T00:20:41.630Z"
   },
   {
    "duration": 90,
    "start_time": "2023-04-22T00:20:42.391Z"
   },
   {
    "duration": 0,
    "start_time": "2023-04-22T00:20:42.484Z"
   },
   {
    "duration": 0,
    "start_time": "2023-04-22T00:20:42.485Z"
   },
   {
    "duration": 0,
    "start_time": "2023-04-22T00:20:42.486Z"
   },
   {
    "duration": 0,
    "start_time": "2023-04-22T00:20:42.488Z"
   },
   {
    "duration": 0,
    "start_time": "2023-04-22T00:20:42.489Z"
   },
   {
    "duration": 0,
    "start_time": "2023-04-22T00:20:42.490Z"
   },
   {
    "duration": 0,
    "start_time": "2023-04-22T00:20:42.491Z"
   },
   {
    "duration": 0,
    "start_time": "2023-04-22T00:20:42.492Z"
   },
   {
    "duration": 0,
    "start_time": "2023-04-22T00:20:42.492Z"
   },
   {
    "duration": 0,
    "start_time": "2023-04-22T00:20:42.494Z"
   },
   {
    "duration": 0,
    "start_time": "2023-04-22T00:20:42.495Z"
   },
   {
    "duration": 0,
    "start_time": "2023-04-22T00:20:42.495Z"
   },
   {
    "duration": 0,
    "start_time": "2023-04-22T00:20:42.496Z"
   },
   {
    "duration": 0,
    "start_time": "2023-04-22T00:20:42.497Z"
   },
   {
    "duration": 0,
    "start_time": "2023-04-22T00:20:42.498Z"
   },
   {
    "duration": 0,
    "start_time": "2023-04-22T00:20:42.499Z"
   },
   {
    "duration": 0,
    "start_time": "2023-04-22T00:20:42.500Z"
   },
   {
    "duration": 0,
    "start_time": "2023-04-22T00:20:42.501Z"
   },
   {
    "duration": 0,
    "start_time": "2023-04-22T00:20:42.502Z"
   },
   {
    "duration": 0,
    "start_time": "2023-04-22T00:20:42.503Z"
   },
   {
    "duration": 26071,
    "start_time": "2023-04-22T00:20:47.706Z"
   },
   {
    "duration": 1421,
    "start_time": "2023-04-22T00:21:13.843Z"
   },
   {
    "duration": 1979,
    "start_time": "2023-04-22T16:09:26.369Z"
   },
   {
    "duration": 58055,
    "start_time": "2023-04-22T16:09:28.351Z"
   },
   {
    "duration": 2109,
    "start_time": "2023-04-22T16:10:26.408Z"
   },
   {
    "duration": 30,
    "start_time": "2023-04-22T16:10:28.519Z"
   },
   {
    "duration": 21,
    "start_time": "2023-04-22T16:10:28.551Z"
   },
   {
    "duration": 617,
    "start_time": "2023-04-22T16:10:28.574Z"
   },
   {
    "duration": 0,
    "start_time": "2023-04-22T16:10:29.199Z"
   },
   {
    "duration": 0,
    "start_time": "2023-04-22T16:10:29.200Z"
   },
   {
    "duration": 0,
    "start_time": "2023-04-22T16:10:29.202Z"
   },
   {
    "duration": 0,
    "start_time": "2023-04-22T16:10:29.203Z"
   },
   {
    "duration": 0,
    "start_time": "2023-04-22T16:10:29.204Z"
   },
   {
    "duration": 0,
    "start_time": "2023-04-22T16:10:29.205Z"
   },
   {
    "duration": 0,
    "start_time": "2023-04-22T16:10:29.207Z"
   },
   {
    "duration": 0,
    "start_time": "2023-04-22T16:10:29.208Z"
   },
   {
    "duration": 0,
    "start_time": "2023-04-22T16:10:29.210Z"
   },
   {
    "duration": 0,
    "start_time": "2023-04-22T16:10:29.212Z"
   },
   {
    "duration": 12391,
    "start_time": "2023-04-22T16:11:01.438Z"
   },
   {
    "duration": 4231,
    "start_time": "2023-04-22T16:11:22.206Z"
   },
   {
    "duration": 186,
    "start_time": "2023-04-22T16:11:26.439Z"
   },
   {
    "duration": 3870,
    "start_time": "2023-04-22T16:11:35.454Z"
   },
   {
    "duration": 2111,
    "start_time": "2023-04-22T16:11:41.760Z"
   },
   {
    "duration": 6181,
    "start_time": "2023-04-22T16:13:05.260Z"
   },
   {
    "duration": 197,
    "start_time": "2023-04-22T16:13:12.376Z"
   },
   {
    "duration": 490,
    "start_time": "2023-04-22T16:13:42.815Z"
   },
   {
    "duration": 298,
    "start_time": "2023-04-22T16:14:56.259Z"
   },
   {
    "duration": 6,
    "start_time": "2023-04-22T16:17:34.262Z"
   },
   {
    "duration": 15,
    "start_time": "2023-04-22T16:18:51.538Z"
   },
   {
    "duration": 7,
    "start_time": "2023-04-22T16:19:01.415Z"
   },
   {
    "duration": 1025,
    "start_time": "2023-04-22T16:25:28.712Z"
   },
   {
    "duration": 35329,
    "start_time": "2023-04-22T16:25:29.740Z"
   },
   {
    "duration": 2354,
    "start_time": "2023-04-22T16:26:05.071Z"
   },
   {
    "duration": 125,
    "start_time": "2023-04-22T16:26:07.436Z"
   },
   {
    "duration": 32,
    "start_time": "2023-04-22T16:26:07.564Z"
   },
   {
    "duration": 13327,
    "start_time": "2023-04-22T16:26:07.609Z"
   },
   {
    "duration": 20,
    "start_time": "2023-04-22T16:26:20.939Z"
   },
   {
    "duration": 268,
    "start_time": "2023-04-22T16:26:20.961Z"
   },
   {
    "duration": 5492,
    "start_time": "2023-04-22T16:26:21.231Z"
   },
   {
    "duration": 6241,
    "start_time": "2023-04-22T16:26:26.734Z"
   },
   {
    "duration": 400,
    "start_time": "2023-04-22T16:26:32.989Z"
   },
   {
    "duration": 0,
    "start_time": "2023-04-22T16:26:33.397Z"
   },
   {
    "duration": 0,
    "start_time": "2023-04-22T16:26:33.406Z"
   },
   {
    "duration": 0,
    "start_time": "2023-04-22T16:26:33.412Z"
   },
   {
    "duration": 0,
    "start_time": "2023-04-22T16:26:33.424Z"
   },
   {
    "duration": 0,
    "start_time": "2023-04-22T16:26:33.438Z"
   },
   {
    "duration": 0,
    "start_time": "2023-04-22T16:26:33.443Z"
   },
   {
    "duration": 0,
    "start_time": "2023-04-22T16:26:33.450Z"
   },
   {
    "duration": 4589,
    "start_time": "2023-04-22T16:27:01.437Z"
   },
   {
    "duration": 16,
    "start_time": "2023-04-22T16:27:08.883Z"
   },
   {
    "duration": 23,
    "start_time": "2023-04-22T16:27:20.542Z"
   },
   {
    "duration": 24,
    "start_time": "2023-04-22T16:28:51.415Z"
   },
   {
    "duration": 16,
    "start_time": "2023-04-22T16:29:08.038Z"
   },
   {
    "duration": 1158,
    "start_time": "2023-04-22T16:32:25.513Z"
   },
   {
    "duration": 2599,
    "start_time": "2023-04-22T16:33:09.720Z"
   },
   {
    "duration": 581,
    "start_time": "2023-04-22T16:33:32.722Z"
   },
   {
    "duration": 1052,
    "start_time": "2023-04-22T16:38:16.005Z"
   },
   {
    "duration": 3,
    "start_time": "2023-04-22T16:39:16.331Z"
   },
   {
    "duration": 4141,
    "start_time": "2023-04-22T16:39:18.872Z"
   },
   {
    "duration": 4089,
    "start_time": "2023-04-22T16:40:16.130Z"
   },
   {
    "duration": 810,
    "start_time": "2023-04-22T16:53:56.548Z"
   },
   {
    "duration": 29855,
    "start_time": "2023-04-22T16:53:57.360Z"
   },
   {
    "duration": 1896,
    "start_time": "2023-04-22T16:54:27.217Z"
   },
   {
    "duration": 73,
    "start_time": "2023-04-22T16:54:29.115Z"
   },
   {
    "duration": 2068,
    "start_time": "2023-04-22T16:54:29.191Z"
   },
   {
    "duration": 10,
    "start_time": "2023-04-22T16:54:31.261Z"
   },
   {
    "duration": 199,
    "start_time": "2023-04-22T16:54:31.273Z"
   },
   {
    "duration": 0,
    "start_time": "2023-04-22T16:54:31.474Z"
   },
   {
    "duration": 0,
    "start_time": "2023-04-22T16:54:31.476Z"
   },
   {
    "duration": 0,
    "start_time": "2023-04-22T16:54:31.477Z"
   },
   {
    "duration": 0,
    "start_time": "2023-04-22T16:54:31.479Z"
   },
   {
    "duration": 0,
    "start_time": "2023-04-22T16:54:31.481Z"
   },
   {
    "duration": 0,
    "start_time": "2023-04-22T16:54:31.482Z"
   },
   {
    "duration": 0,
    "start_time": "2023-04-22T16:54:31.487Z"
   },
   {
    "duration": 0,
    "start_time": "2023-04-22T16:54:31.488Z"
   },
   {
    "duration": 0,
    "start_time": "2023-04-22T16:54:31.489Z"
   },
   {
    "duration": 3833,
    "start_time": "2023-04-22T16:54:59.815Z"
   },
   {
    "duration": 10114,
    "start_time": "2023-04-22T16:55:03.695Z"
   },
   {
    "duration": 0,
    "start_time": "2023-04-22T16:55:13.812Z"
   },
   {
    "duration": 0,
    "start_time": "2023-04-22T16:55:13.813Z"
   },
   {
    "duration": 4759,
    "start_time": "2023-04-22T17:03:03.852Z"
   },
   {
    "duration": 5197,
    "start_time": "2023-04-22T17:09:11.011Z"
   },
   {
    "duration": 7003,
    "start_time": "2023-04-22T17:09:43.912Z"
   },
   {
    "duration": 12,
    "start_time": "2023-04-22T17:10:01.324Z"
   },
   {
    "duration": 52,
    "start_time": "2023-04-22T17:10:02.179Z"
   },
   {
    "duration": 363,
    "start_time": "2023-04-22T17:10:04.950Z"
   },
   {
    "duration": 3461,
    "start_time": "2023-04-22T17:10:05.632Z"
   },
   {
    "duration": 3504,
    "start_time": "2023-04-22T17:10:41.015Z"
   },
   {
    "duration": 1892,
    "start_time": "2023-04-22T17:10:47.821Z"
   },
   {
    "duration": 32,
    "start_time": "2023-04-22T17:10:51.768Z"
   },
   {
    "duration": 19,
    "start_time": "2023-04-22T17:10:52.858Z"
   },
   {
    "duration": 2796,
    "start_time": "2023-04-22T17:11:14.320Z"
   },
   {
    "duration": 2116,
    "start_time": "2023-04-22T17:11:19.380Z"
   },
   {
    "duration": 4457,
    "start_time": "2023-04-22T17:21:53.534Z"
   },
   {
    "duration": 8,
    "start_time": "2023-04-22T17:22:02.420Z"
   },
   {
    "duration": 30,
    "start_time": "2023-04-22T17:22:03.143Z"
   },
   {
    "duration": 1738,
    "start_time": "2023-04-22T17:22:04.783Z"
   },
   {
    "duration": 1307,
    "start_time": "2023-04-22T17:22:08.203Z"
   },
   {
    "duration": 12,
    "start_time": "2023-04-22T17:22:10.764Z"
   },
   {
    "duration": 12,
    "start_time": "2023-04-22T17:22:11.636Z"
   },
   {
    "duration": 1787,
    "start_time": "2023-04-22T17:22:16.923Z"
   },
   {
    "duration": 1993,
    "start_time": "2023-04-22T17:22:18.714Z"
   },
   {
    "duration": 3,
    "start_time": "2023-04-22T17:52:36.629Z"
   },
   {
    "duration": 834,
    "start_time": "2023-04-22T18:26:16.178Z"
   },
   {
    "duration": 17305,
    "start_time": "2023-04-22T18:26:17.015Z"
   },
   {
    "duration": 10793,
    "start_time": "2023-04-22T18:26:34.322Z"
   },
   {
    "duration": 1925,
    "start_time": "2023-04-22T18:26:45.117Z"
   },
   {
    "duration": 65,
    "start_time": "2023-04-22T18:26:47.044Z"
   },
   {
    "duration": 1796,
    "start_time": "2023-04-22T18:26:47.111Z"
   },
   {
    "duration": 4,
    "start_time": "2023-04-22T18:26:48.910Z"
   },
   {
    "duration": 3081,
    "start_time": "2023-04-22T18:26:48.915Z"
   },
   {
    "duration": 12898,
    "start_time": "2023-04-22T18:26:52.003Z"
   },
   {
    "duration": 10,
    "start_time": "2023-04-22T18:27:04.906Z"
   },
   {
    "duration": 111,
    "start_time": "2023-04-22T18:27:04.918Z"
   },
   {
    "duration": 4015,
    "start_time": "2023-04-22T18:27:05.088Z"
   },
   {
    "duration": 22,
    "start_time": "2023-04-22T18:27:09.105Z"
   },
   {
    "duration": 2897,
    "start_time": "2023-04-22T18:27:09.129Z"
   },
   {
    "duration": 75,
    "start_time": "2023-04-22T18:27:12.028Z"
   },
   {
    "duration": 2500,
    "start_time": "2023-04-22T18:27:12.107Z"
   },
   {
    "duration": 0,
    "start_time": "2023-04-22T18:27:14.614Z"
   },
   {
    "duration": 785,
    "start_time": "2023-04-22T18:30:08.520Z"
   },
   {
    "duration": 17996,
    "start_time": "2023-04-22T18:30:09.308Z"
   },
   {
    "duration": 11728,
    "start_time": "2023-04-22T18:30:27.306Z"
   },
   {
    "duration": 102,
    "start_time": "2023-04-22T18:30:39.088Z"
   },
   {
    "duration": 1797,
    "start_time": "2023-04-22T18:30:39.192Z"
   },
   {
    "duration": 25,
    "start_time": "2023-04-22T18:30:40.992Z"
   },
   {
    "duration": 1469,
    "start_time": "2023-04-22T18:30:41.020Z"
   },
   {
    "duration": 6,
    "start_time": "2023-04-22T18:30:42.497Z"
   },
   {
    "duration": 3715,
    "start_time": "2023-04-22T18:30:42.509Z"
   },
   {
    "duration": 12773,
    "start_time": "2023-04-22T18:30:46.227Z"
   },
   {
    "duration": 11,
    "start_time": "2023-04-22T18:30:59.006Z"
   },
   {
    "duration": 91,
    "start_time": "2023-04-22T18:30:59.019Z"
   },
   {
    "duration": 3909,
    "start_time": "2023-04-22T18:30:59.113Z"
   },
   {
    "duration": 76,
    "start_time": "2023-04-22T18:31:03.025Z"
   },
   {
    "duration": 2505,
    "start_time": "2023-04-22T18:31:03.103Z"
   },
   {
    "duration": 13,
    "start_time": "2023-04-22T18:31:05.610Z"
   },
   {
    "duration": 2565,
    "start_time": "2023-04-22T18:31:05.625Z"
   },
   {
    "duration": 2628,
    "start_time": "2023-04-22T18:31:08.198Z"
   },
   {
    "duration": 863,
    "start_time": "2023-04-23T07:21:02.459Z"
   },
   {
    "duration": 18875,
    "start_time": "2023-04-23T07:21:03.323Z"
   },
   {
    "duration": 8696,
    "start_time": "2023-04-23T07:21:22.200Z"
   },
   {
    "duration": 86,
    "start_time": "2023-04-23T07:21:30.898Z"
   },
   {
    "duration": 125,
    "start_time": "2023-04-23T07:21:30.986Z"
   },
   {
    "duration": 0,
    "start_time": "2023-04-23T07:21:31.113Z"
   },
   {
    "duration": 0,
    "start_time": "2023-04-23T07:21:31.114Z"
   },
   {
    "duration": 0,
    "start_time": "2023-04-23T07:21:31.115Z"
   },
   {
    "duration": 0,
    "start_time": "2023-04-23T07:21:31.116Z"
   },
   {
    "duration": 0,
    "start_time": "2023-04-23T07:21:31.117Z"
   },
   {
    "duration": 0,
    "start_time": "2023-04-23T07:21:31.118Z"
   },
   {
    "duration": 0,
    "start_time": "2023-04-23T07:21:31.119Z"
   },
   {
    "duration": 0,
    "start_time": "2023-04-23T07:21:31.120Z"
   },
   {
    "duration": 0,
    "start_time": "2023-04-23T07:21:31.122Z"
   },
   {
    "duration": 0,
    "start_time": "2023-04-23T07:21:31.123Z"
   },
   {
    "duration": 0,
    "start_time": "2023-04-23T07:21:31.124Z"
   },
   {
    "duration": 0,
    "start_time": "2023-04-23T07:21:31.125Z"
   },
   {
    "duration": 0,
    "start_time": "2023-04-23T07:21:31.126Z"
   },
   {
    "duration": 0,
    "start_time": "2023-04-23T07:21:31.126Z"
   },
   {
    "duration": 2831,
    "start_time": "2023-04-23T07:25:56.452Z"
   },
   {
    "duration": 204,
    "start_time": "2023-04-23T07:26:41.944Z"
   },
   {
    "duration": 13,
    "start_time": "2023-04-23T07:27:07.746Z"
   },
   {
    "duration": 21,
    "start_time": "2023-04-23T07:27:08.431Z"
   },
   {
    "duration": 255,
    "start_time": "2023-04-23T07:27:19.718Z"
   },
   {
    "duration": 5,
    "start_time": "2023-04-23T07:37:08.053Z"
   },
   {
    "duration": 1744,
    "start_time": "2023-04-23T07:37:09.242Z"
   },
   {
    "duration": 114,
    "start_time": "2023-04-23T07:37:14.996Z"
   },
   {
    "duration": 5112,
    "start_time": "2023-04-23T07:38:17.592Z"
   },
   {
    "duration": 3334,
    "start_time": "2023-04-23T07:58:32.683Z"
   },
   {
    "duration": 708,
    "start_time": "2023-04-23T08:03:22.097Z"
   },
   {
    "duration": 14711,
    "start_time": "2023-04-23T08:03:22.806Z"
   },
   {
    "duration": 7904,
    "start_time": "2023-04-23T08:03:37.573Z"
   },
   {
    "duration": 25,
    "start_time": "2023-04-23T08:03:45.479Z"
   },
   {
    "duration": 3193,
    "start_time": "2023-04-23T08:03:45.506Z"
   },
   {
    "duration": 75,
    "start_time": "2023-04-23T08:03:48.700Z"
   },
   {
    "duration": 416,
    "start_time": "2023-04-23T08:03:48.778Z"
   },
   {
    "duration": 4,
    "start_time": "2023-04-23T08:03:49.196Z"
   },
   {
    "duration": 2402,
    "start_time": "2023-04-23T08:03:49.202Z"
   },
   {
    "duration": 6710,
    "start_time": "2023-04-23T08:03:51.672Z"
   },
   {
    "duration": 11,
    "start_time": "2023-04-23T08:03:58.383Z"
   },
   {
    "duration": 105,
    "start_time": "2023-04-23T08:03:58.396Z"
   },
   {
    "duration": 3478,
    "start_time": "2023-04-23T08:03:58.503Z"
   },
   {
    "duration": 40,
    "start_time": "2023-04-23T08:04:01.985Z"
   },
   {
    "duration": 1959,
    "start_time": "2023-04-23T08:04:02.026Z"
   },
   {
    "duration": 10,
    "start_time": "2023-04-23T08:04:03.986Z"
   },
   {
    "duration": 1979,
    "start_time": "2023-04-23T08:04:03.997Z"
   },
   {
    "duration": 2032,
    "start_time": "2023-04-23T08:04:05.978Z"
   },
   {
    "duration": 189,
    "start_time": "2023-04-23T08:08:48.905Z"
   }
  ],
  "colab": {
   "name": "PySparkSprint.ipynb",
   "provenance": []
  },
  "kernelspec": {
   "display_name": "Python 3",
   "language": "python",
   "name": "python3"
  },
  "language_info": {
   "codemirror_mode": {
    "name": "ipython",
    "version": 3
   },
   "file_extension": ".py",
   "mimetype": "text/x-python",
   "name": "python",
   "nbconvert_exporter": "python",
   "pygments_lexer": "ipython3",
   "version": "3.8.8"
  },
  "toc": {
   "base_numbering": 1,
   "nav_menu": {},
   "number_sections": true,
   "sideBar": true,
   "skip_h1_title": true,
   "title_cell": "Table of Contents",
   "title_sidebar": "Contents",
   "toc_cell": false,
   "toc_position": {},
   "toc_section_display": true,
   "toc_window_display": false
  }
 },
 "nbformat": 4,
 "nbformat_minor": 5
}
